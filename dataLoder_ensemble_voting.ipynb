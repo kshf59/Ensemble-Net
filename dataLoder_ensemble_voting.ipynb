{
 "cells": [
  {
   "cell_type": "code",
   "execution_count": 1,
   "id": "5f271b9d-c9a3-41c5-a2e5-cd21dc79d5b6",
   "metadata": {
    "tags": []
   },
   "outputs": [],
   "source": [
    "import numpy as np\n",
    "from pathlib import Path\n",
    "from PIL import Image\n",
    "from torch.utils.data import DataLoader, random_split\n",
    "import torch\n",
    "from torch import optim\n",
    "import torch.nn as nn\n",
    "from tqdm import tqdm\n",
    "import torch.nn.functional as F\n",
    "import logging\n",
    "from evaluate import evaluate\n",
    "\n",
    "import os\n",
    "import albumentations as A\n",
    "from albumentations.pytorch import ToTensorV2\n",
    "from collections import OrderedDict\n",
    "\n",
    "from model.ensemblenet_model import EnsembleNet\n",
    "\n",
    "\n",
    "from utils.dice_score import dice_loss\n",
    "from utils.data_load import KittiDataset\n",
    "from torchsummaryX import summary"
   ]
  },
  {
   "cell_type": "code",
   "execution_count": 2,
   "id": "64ae7ca9",
   "metadata": {
    "tags": []
   },
   "outputs": [],
   "source": [
    "Val_Percent = 0.3\n",
    "Scale_Percent = 1.0\n",
    "Batch_Size = 8\n",
    "learning_rate = 0.0001\n",
    "Pin_Memory = False\n",
    "epochs = 50\n",
    "\n",
    "\n",
    "Image_Size = [384, 1216]\n",
    "Gradient_Clipping = 0.8\n",
    "\n",
    "\n",
    "Num_Class = 2\n",
    "Num_Channel = 3\n",
    "amp = True\n",
    "\n",
    "Model_Name = 'ensemble_voting'\n",
    "\n",
    "\n",
    "Img_Path =  'data/data_road/training/image_2'\n",
    "Mask_Path =  'data/data_road/training/semantic'\n",
    "\n",
    "save_checkpoint = True\n",
    "checkpoint_dir = '../trained' + '_' + Model_Name\n",
    "batch_size = Batch_Size"
   ]
  },
  {
   "cell_type": "code",
   "execution_count": 3,
   "id": "567f8440",
   "metadata": {
    "tags": []
   },
   "outputs": [],
   "source": [
    "dirImg = Path(Img_Path)\n",
    "dirMask = Path(Mask_Path)\n",
    "dir_checkpoint = Path(checkpoint_dir)"
   ]
  },
  {
   "cell_type": "code",
   "execution_count": 4,
   "id": "8e8e3825-8747-4f49-b3ee-eac27522ded2",
   "metadata": {},
   "outputs": [],
   "source": [
    "device = torch.device('cuda' if torch.cuda.is_available() else 'cpu')"
   ]
  },
  {
   "cell_type": "code",
   "execution_count": 5,
   "id": "9a4a35b2-bc69-49e4-b17c-e850f278473d",
   "metadata": {},
   "outputs": [
    {
     "name": "stderr",
     "output_type": "stream",
     "text": [
      "100%|██████████| 289/289 [00:00<00:00, 786.78it/s]\n"
     ]
    }
   ],
   "source": [
    "datasets =  KittiDataset(dirImg, dirMask, Image_Size, Scale_Percent)\n",
    "n_val = int(len(datasets) * Val_Percent)\n",
    "n_train = len(datasets) - n_val\n",
    "train_set, val_set = random_split(datasets, [n_train, n_val], generator=torch.Generator().manual_seed(0))\n",
    "\n",
    "loader_args = dict(batch_size=Batch_Size, num_workers= os.cpu_count(), pin_memory=Pin_Memory)\n",
    "train_loader = DataLoader(train_set, shuffle=True, drop_last = True, **loader_args)\n",
    "val_loader = DataLoader(val_set, shuffle=False, drop_last=True, **loader_args)"
   ]
  },
  {
   "cell_type": "code",
   "execution_count": 6,
   "id": "95b36f40-c709-4e1e-b4f6-66a1954edfd8",
   "metadata": {},
   "outputs": [],
   "source": [
    "model = EnsembleNet(Model_Name, Num_Channel, Num_Class)\n",
    "model = model.to(memory_format=torch.channels_last, device = device)"
   ]
  },
  {
   "cell_type": "code",
   "execution_count": 7,
   "id": "4a29bc96",
   "metadata": {
    "tags": []
   },
   "outputs": [],
   "source": [
    "# 4. Set up the optimizer, the loss, the learning rate scheduler and the loss scaling for AMP\n",
    "#optimizer = optim.RMSprop(model.parameters(), lr=learning_rate, weight_decay=1e-8, momentum=0.9)\n",
    "#optimizer = optim.SGD(model.parameters(), lr=learning_rate, weight_decay=1e-8, momentum=0.9)\n",
    "\n",
    "if 'ensemble_voting' in Model_Name:\n",
    "    unet_optimizer = optim.Adam(model.parameters(), lr=learning_rate, weight_decay=1e-8)\n",
    "    segnet_optimizer = optim.Adam(model.parameters(), lr=learning_rate, weight_decay=1e-8)\n",
    "    enet_optimizer = optim.Adam(model.parameters(), lr=learning_rate, weight_decay=1e-8)\n",
    "    optims = [unet_optimizer, segnet_optimizer, enet_optimizer]\n",
    "    \n",
    "    unet_scheduler = optim.lr_scheduler.ReduceLROnPlateau(unet_optimizer, 'max', patience=2)  # goal: maximize Dice score\n",
    "    segnet_scheduler = optim.lr_scheduler.ReduceLROnPlateau(segnet_optimizer, 'max', patience=2)  # goal: maximize Dice score\n",
    "    enet_scheduler = optim.lr_scheduler.ReduceLROnPlateau(enet_optimizer, 'max', patience=2)  # goal: maximize Dice score\n",
    "    \n",
    "    \n",
    "    \n",
    "else:\n",
    "    optimizer = optim.Adam(model.parameters(), lr=learning_rate, weight_decay=1e-8)\n",
    "    optims = [optimizer]\n",
    "    \n",
    "    scheduler = optim.lr_scheduler.ReduceLROnPlateau(optimizer, 'max', patience=2)  # goal: maximize Dice score\n",
    "    \n",
    "    \n",
    "    \n",
    "grad_scaler = torch.cuda.amp.GradScaler(enabled=amp)\n",
    "criterion = nn.CrossEntropyLoss()\n",
    "global_step = 0"
   ]
  },
  {
   "cell_type": "code",
   "execution_count": 8,
   "id": "46e43754-2870-4837-b38a-3f57d6733ddc",
   "metadata": {},
   "outputs": [],
   "source": [
    "def calculate_loss(pred, true_masks, nclass, multiclass):\n",
    "    loss = criterion(pred, true_masks)\n",
    "    loss += dice_loss(\n",
    "        F.softmax(pred, dim=1).float(),\n",
    "        F.one_hot(true_masks, nclass).permute(0, 3, 1, 2).float(),\n",
    "        multiclass=multiclass\n",
    "    )\n",
    "    return loss\n",
    "\n",
    "def grad_forback(models, losses, optim):\n",
    "    optim.zero_grad(set_to_none=True)\n",
    "    grad_scaler.scale(losses).backward()\n",
    "    torch.nn.utils.clip_grad_norm_(models.parameters(), Gradient_Clipping)\n",
    "    grad_scaler.step(optim)\n",
    "    grad_scaler.update()    \n",
    "\n",
    "def forward_and_backward(model, images, true_masks, amp, optimizers, grad_scaler, model_name):\n",
    "    with torch.autocast(device.type if device.type != 'mps' else 'cpu', enabled=amp):\n",
    "        \n",
    "        try:\n",
    "            mn_cls = model.n_classes\n",
    "        except:\n",
    "            mn_cls = model.classifier[-1].out_channels\n",
    "\n",
    "        if model_name == 'ensemble_voting':\n",
    "            unet_pred, segnet_pred, enet_pred = model(images)\n",
    "            #deeplab_pred = deeplab_pred['out']\n",
    "            \n",
    "            unet_loss = calculate_loss(unet_pred, true_masks, mn_cls, multiclass=True)\n",
    "            segnet_loss = calculate_loss(segnet_pred, true_masks, mn_cls, multiclass=True)\n",
    "            enet_loss = calculate_loss(enet_pred, true_masks, mn_cls, multiclass=True)\n",
    "            \n",
    "            \n",
    "        else:\n",
    "            masks_pred = model(images)\n",
    "            if isinstance(masks_pred, OrderedDict):\n",
    "                masks_pred = masks_pred['out']\n",
    "            loss = calculate_loss(masks_pred, true_masks, mn_cls, multiclass=True)\n",
    "    \n",
    "    \n",
    "    if model_name == 'ensemble_voting':\n",
    "        for _loss, _optiz in zip([unet_loss, segnet_loss, enet_loss], optimizers):\n",
    "            grad_forback(model, _loss, _optiz)\n",
    "\n",
    "        return model, unet_loss, segnet_loss, enet_loss\n",
    "    else:\n",
    "        for _loss, _optiz in zip([loss], optimizers):\n",
    "            grad_forback(model, _loss, _optiz)\n",
    "            \n",
    "        return model, loss\n"
   ]
  },
  {
   "cell_type": "code",
   "execution_count": 9,
   "id": "8bb76263-8fd8-437d-9204-8ebc2af3de6d",
   "metadata": {},
   "outputs": [
    {
     "name": "stderr",
     "output_type": "stream",
     "text": [
      "Epoch 1/50:  99%|█████████▊| 200/203 [00:18<00:00, 15.07img/s]"
     ]
    },
    {
     "name": "stdout",
     "output_type": "stream",
     "text": [
      "***\n",
      "Unet Loss: 0.6285161972045898     Segnet Loss: 0.7302061319351196     Enet Loss: 0.9444955587387085\n",
      "Voting Loss: 0.7677392959594727\n"
     ]
    },
    {
     "name": "stderr",
     "output_type": "stream",
     "text": [
      "Epoch 1/50:  99%|█████████▊| 200/203 [00:24<00:00,  8.05img/s]"
     ]
    },
    {
     "name": "stdout",
     "output_type": "stream",
     "text": [
      "---\n",
      "Unet Validation Dice Score: 0.3851238489151001     Segnet Validation Dice Score: 0.08063826709985733     Enet Validation Dice Score: 0.21931703388690948\n",
      "---\n",
      "Ensemble Voting Validation Dice Loss: 1.0265901883443196\n",
      "Ensemble Voting Validation Pixel Accuracy: 0.8408987480297423 \n",
      "Ensemble Voting Validation MIoU: 0.5422104149149166\n",
      "Ensemble Voting Validation Dice Score: 0.4402075409889221 \n"
     ]
    },
    {
     "name": "stderr",
     "output_type": "stream",
     "text": [
      "\n",
      "Epoch 2/50:  99%|█████████▊| 200/203 [00:15<00:00, 14.92img/s]"
     ]
    },
    {
     "name": "stdout",
     "output_type": "stream",
     "text": [
      "***\n",
      "Unet Loss: 0.5454568862915039     Segnet Loss: 0.4214584231376648     Enet Loss: 0.8585726618766785\n",
      "Voting Loss: 0.6084959904352824\n"
     ]
    },
    {
     "name": "stderr",
     "output_type": "stream",
     "text": [
      "Epoch 2/50:  99%|█████████▊| 200/203 [00:20<00:00,  9.84img/s]"
     ]
    },
    {
     "name": "stdout",
     "output_type": "stream",
     "text": [
      "---\n",
      "Unet Validation Dice Score: 0.7674372792243958     Segnet Validation Dice Score: 0.7265955805778503     Enet Validation Dice Score: 0.22260864078998566\n",
      "---\n",
      "Ensemble Voting Validation Dice Loss: 0.6954934597015381\n",
      "Ensemble Voting Validation Pixel Accuracy: 0.9300919917591831 \n",
      "Ensemble Voting Validation MIoU: 0.7773618107327227\n",
      "Ensemble Voting Validation Dice Score: 0.7830231785774231 \n"
     ]
    },
    {
     "name": "stderr",
     "output_type": "stream",
     "text": [
      "\n",
      "Epoch 3/50:  99%|█████████▊| 200/203 [00:15<00:00, 15.44img/s]"
     ]
    },
    {
     "name": "stdout",
     "output_type": "stream",
     "text": [
      "***\n",
      "Unet Loss: 0.49070775508880615     Segnet Loss: 0.30926382541656494     Enet Loss: 0.8063039779663086\n",
      "Voting Loss: 0.5354251861572266\n"
     ]
    },
    {
     "name": "stderr",
     "output_type": "stream",
     "text": [
      "Epoch 3/50:  99%|█████████▊| 200/203 [00:19<00:00, 10.07img/s]"
     ]
    },
    {
     "name": "stdout",
     "output_type": "stream",
     "text": [
      "---\n",
      "Unet Validation Dice Score: 0.815860390663147     Segnet Validation Dice Score: 0.6953850984573364     Enet Validation Dice Score: 0.23833313584327698\n",
      "---\n",
      "Ensemble Voting Validation Dice Loss: 0.5996989409128824\n",
      "Ensemble Voting Validation Pixel Accuracy: 0.92755126953125 \n",
      "Ensemble Voting Validation MIoU: 0.7617742771251416\n",
      "Ensemble Voting Validation Dice Score: 0.7986472249031067 \n"
     ]
    },
    {
     "name": "stderr",
     "output_type": "stream",
     "text": [
      "\n",
      "Epoch 4/50:  99%|█████████▊| 200/203 [00:15<00:00, 15.03img/s]"
     ]
    },
    {
     "name": "stdout",
     "output_type": "stream",
     "text": [
      "***\n",
      "Unet Loss: 0.4195517897605896     Segnet Loss: 0.3006267547607422     Enet Loss: 0.7564842700958252\n",
      "Voting Loss: 0.492220938205719\n"
     ]
    },
    {
     "name": "stderr",
     "output_type": "stream",
     "text": [
      "Epoch 4/50:  99%|█████████▊| 200/203 [00:20<00:00,  9.91img/s]"
     ]
    },
    {
     "name": "stdout",
     "output_type": "stream",
     "text": [
      "---\n",
      "Unet Validation Dice Score: 0.8446782231330872     Segnet Validation Dice Score: 0.7841171622276306     Enet Validation Dice Score: 0.24013970792293549\n",
      "---\n",
      "Ensemble Voting Validation Dice Loss: 0.5111316839853922\n",
      "Ensemble Voting Validation Pixel Accuracy: 0.9455387048554003 \n",
      "Ensemble Voting Validation MIoU: 0.8175195753056022\n",
      "Ensemble Voting Validation Dice Score: 0.835174024105072 \n"
     ]
    },
    {
     "name": "stderr",
     "output_type": "stream",
     "text": [
      "\n",
      "Epoch 5/50:  99%|█████████▊| 200/203 [00:15<00:00, 14.84img/s]"
     ]
    },
    {
     "name": "stdout",
     "output_type": "stream",
     "text": [
      "***\n",
      "Unet Loss: 0.3797432482242584     Segnet Loss: 0.25271719694137573     Enet Loss: 0.69517982006073\n",
      "Voting Loss: 0.4425467550754547\n"
     ]
    },
    {
     "name": "stderr",
     "output_type": "stream",
     "text": [
      "Epoch 5/50:  99%|█████████▊| 200/203 [00:20<00:00,  9.86img/s]"
     ]
    },
    {
     "name": "stdout",
     "output_type": "stream",
     "text": [
      "---\n",
      "Unet Validation Dice Score: 0.7784521579742432     Segnet Validation Dice Score: 0.8007872700691223     Enet Validation Dice Score: 0.24447624385356903\n",
      "---\n",
      "Ensemble Voting Validation Dice Loss: 0.5285468896230062\n",
      "Ensemble Voting Validation Pixel Accuracy: 0.9315000835217928 \n",
      "Ensemble Voting Validation MIoU: 0.7952011759063571\n",
      "Ensemble Voting Validation Dice Score: 0.8018245697021484 \n"
     ]
    },
    {
     "name": "stderr",
     "output_type": "stream",
     "text": [
      "\n",
      "Epoch 6/50:  99%|█████████▊| 200/203 [00:15<00:00, 14.96img/s]"
     ]
    },
    {
     "name": "stdout",
     "output_type": "stream",
     "text": [
      "***\n",
      "Unet Loss: 0.38275784254074097     Segnet Loss: 0.23649148643016815     Enet Loss: 0.632353663444519\n",
      "Voting Loss: 0.4172009974718094\n"
     ]
    },
    {
     "name": "stderr",
     "output_type": "stream",
     "text": [
      "Epoch 6/50:  99%|█████████▊| 200/203 [00:20<00:00,  9.81img/s]"
     ]
    },
    {
     "name": "stdout",
     "output_type": "stream",
     "text": [
      "---\n",
      "Unet Validation Dice Score: 0.8237873315811157     Segnet Validation Dice Score: 0.8346244692802429     Enet Validation Dice Score: 0.2863093912601471\n",
      "---\n",
      "Ensemble Voting Validation Dice Loss: 0.46019041538238525\n",
      "Ensemble Voting Validation Pixel Accuracy: 0.9466268974438048 \n",
      "Ensemble Voting Validation MIoU: 0.8302955381021173\n",
      "Ensemble Voting Validation Dice Score: 0.8519272804260254 \n"
     ]
    },
    {
     "name": "stderr",
     "output_type": "stream",
     "text": [
      "\n",
      "Epoch 7/50:  99%|█████████▊| 200/203 [00:15<00:00, 15.16img/s]"
     ]
    },
    {
     "name": "stdout",
     "output_type": "stream",
     "text": [
      "***\n",
      "Unet Loss: 0.3310909867286682     Segnet Loss: 0.21396133303642273     Enet Loss: 0.6698294281959534\n",
      "Voting Loss: 0.40496058265368146\n"
     ]
    },
    {
     "name": "stderr",
     "output_type": "stream",
     "text": [
      "Epoch 7/50:  99%|█████████▊| 200/203 [00:20<00:00,  9.73img/s]"
     ]
    },
    {
     "name": "stdout",
     "output_type": "stream",
     "text": [
      "---\n",
      "Unet Validation Dice Score: 0.8552568554878235     Segnet Validation Dice Score: 0.8413681983947754     Enet Validation Dice Score: 0.32505783438682556\n",
      "---\n",
      "Ensemble Voting Validation Dice Loss: 0.4092643658320109\n",
      "Ensemble Voting Validation Pixel Accuracy: 0.9458936724746436 \n",
      "Ensemble Voting Validation MIoU: 0.8271956552428723\n",
      "Ensemble Voting Validation Dice Score: 0.8621529936790466 \n"
     ]
    },
    {
     "name": "stderr",
     "output_type": "stream",
     "text": [
      "\n",
      "Epoch 8/50:  99%|█████████▊| 200/203 [00:15<00:00, 15.38img/s]"
     ]
    },
    {
     "name": "stdout",
     "output_type": "stream",
     "text": [
      "***\n",
      "Unet Loss: 0.2863420844078064     Segnet Loss: 0.1759430468082428     Enet Loss: 0.575950562953949\n",
      "Voting Loss: 0.3460785647233327\n"
     ]
    },
    {
     "name": "stderr",
     "output_type": "stream",
     "text": [
      "Epoch 8/50:  99%|█████████▊| 200/203 [00:20<00:00,  9.92img/s]"
     ]
    },
    {
     "name": "stdout",
     "output_type": "stream",
     "text": [
      "---\n",
      "Unet Validation Dice Score: 0.8616108298301697     Segnet Validation Dice Score: 0.817879319190979     Enet Validation Dice Score: 0.34741804003715515\n",
      "---\n",
      "Ensemble Voting Validation Dice Loss: 0.38458089033762616\n",
      "Ensemble Voting Validation Pixel Accuracy: 0.9492008142304003 \n",
      "Ensemble Voting Validation MIoU: 0.8307952884451115\n",
      "Ensemble Voting Validation Dice Score: 0.8507272601127625 \n"
     ]
    },
    {
     "name": "stderr",
     "output_type": "stream",
     "text": [
      "\n",
      "Epoch 9/50:  99%|█████████▊| 200/203 [00:15<00:00, 14.94img/s]"
     ]
    },
    {
     "name": "stdout",
     "output_type": "stream",
     "text": [
      "***\n",
      "Unet Loss: 0.296269029378891     Segnet Loss: 0.17424383759498596     Enet Loss: 0.5714426636695862\n",
      "Voting Loss: 0.34731851021448773\n"
     ]
    },
    {
     "name": "stderr",
     "output_type": "stream",
     "text": [
      "Epoch 9/50:  99%|█████████▊| 200/203 [00:20<00:00,  9.91img/s]"
     ]
    },
    {
     "name": "stdout",
     "output_type": "stream",
     "text": [
      "---\n",
      "Unet Validation Dice Score: 0.8342611193656921     Segnet Validation Dice Score: 0.864734947681427     Enet Validation Dice Score: 0.36444559693336487\n",
      "---\n",
      "Ensemble Voting Validation Dice Loss: 0.37615489959716797\n",
      "Ensemble Voting Validation Pixel Accuracy: 0.9496733012952303 \n",
      "Ensemble Voting Validation MIoU: 0.8327252258489721\n",
      "Ensemble Voting Validation Dice Score: 0.8742521405220032 \n"
     ]
    },
    {
     "name": "stderr",
     "output_type": "stream",
     "text": [
      "\n",
      "Epoch 10/50:  99%|█████████▊| 200/203 [00:15<00:00, 14.78img/s]"
     ]
    },
    {
     "name": "stdout",
     "output_type": "stream",
     "text": [
      "***\n",
      "Unet Loss: 0.2705782353878021     Segnet Loss: 0.12914429605007172     Enet Loss: 0.5330140590667725\n",
      "Voting Loss: 0.3109121968348821\n"
     ]
    },
    {
     "name": "stderr",
     "output_type": "stream",
     "text": [
      "Epoch 10/50:  99%|█████████▊| 200/203 [00:20<00:00,  9.83img/s]"
     ]
    },
    {
     "name": "stdout",
     "output_type": "stream",
     "text": [
      "---\n",
      "Unet Validation Dice Score: 0.8764420747756958     Segnet Validation Dice Score: 0.8782364726066589     Enet Validation Dice Score: 0.3793428838253021\n",
      "---\n",
      "Ensemble Voting Validation Dice Loss: 0.3340873718261719\n",
      "Ensemble Voting Validation Pixel Accuracy: 0.9572424637643915 \n",
      "Ensemble Voting Validation MIoU: 0.8495451883014453\n",
      "Ensemble Voting Validation Dice Score: 0.8933022618293762 \n"
     ]
    },
    {
     "name": "stderr",
     "output_type": "stream",
     "text": [
      "\n",
      "Epoch 11/50:  99%|█████████▊| 200/203 [00:15<00:00, 14.93img/s]"
     ]
    },
    {
     "name": "stdout",
     "output_type": "stream",
     "text": [
      "***\n",
      "Unet Loss: 0.22488778829574585     Segnet Loss: 0.14403459429740906     Enet Loss: 0.5260241031646729\n",
      "Voting Loss: 0.29831549525260925\n"
     ]
    },
    {
     "name": "stderr",
     "output_type": "stream",
     "text": [
      "Epoch 11/50:  99%|█████████▊| 200/203 [00:20<00:00,  9.88img/s]"
     ]
    },
    {
     "name": "stdout",
     "output_type": "stream",
     "text": [
      "---\n",
      "Unet Validation Dice Score: 0.8639054298400879     Segnet Validation Dice Score: 0.8304986357688904     Enet Validation Dice Score: 0.3979334533214569\n",
      "---\n",
      "Ensemble Voting Validation Dice Loss: 0.32984628280003864\n",
      "Ensemble Voting Validation Pixel Accuracy: 0.9568302087616503 \n",
      "Ensemble Voting Validation MIoU: 0.8550523940301431\n",
      "Ensemble Voting Validation Dice Score: 0.8460143208503723 \n"
     ]
    },
    {
     "name": "stderr",
     "output_type": "stream",
     "text": [
      "\n",
      "Epoch 12/50:  99%|█████████▊| 200/203 [00:15<00:00, 14.83img/s]"
     ]
    },
    {
     "name": "stdout",
     "output_type": "stream",
     "text": [
      "***\n",
      "Unet Loss: 0.18341609835624695     Segnet Loss: 0.1161019429564476     Enet Loss: 0.4674742519855499\n",
      "Voting Loss: 0.2556640977660815\n"
     ]
    },
    {
     "name": "stderr",
     "output_type": "stream",
     "text": [
      "Epoch 12/50:  99%|█████████▊| 200/203 [00:19<00:00, 10.00img/s]"
     ]
    },
    {
     "name": "stdout",
     "output_type": "stream",
     "text": [
      "---\n",
      "Unet Validation Dice Score: 0.878513514995575     Segnet Validation Dice Score: 0.8608962297439575     Enet Validation Dice Score: 0.4186875820159912\n",
      "---\n",
      "Ensemble Voting Validation Dice Loss: 0.3250358502070109\n",
      "Ensemble Voting Validation Pixel Accuracy: 0.9462989673279879 \n",
      "Ensemble Voting Validation MIoU: 0.8232457114703551\n",
      "Ensemble Voting Validation Dice Score: 0.8810808062553406 \n"
     ]
    },
    {
     "name": "stderr",
     "output_type": "stream",
     "text": [
      "\n",
      "Epoch 13/50:  99%|█████████▊| 200/203 [00:15<00:00, 14.80img/s]"
     ]
    },
    {
     "name": "stdout",
     "output_type": "stream",
     "text": [
      "***\n",
      "Unet Loss: 0.1918860822916031     Segnet Loss: 0.13414114713668823     Enet Loss: 0.48975786566734314\n",
      "Voting Loss: 0.27192836503187817\n"
     ]
    },
    {
     "name": "stderr",
     "output_type": "stream",
     "text": [
      "Epoch 13/50:  99%|█████████▊| 200/203 [00:20<00:00,  9.86img/s]"
     ]
    },
    {
     "name": "stdout",
     "output_type": "stream",
     "text": [
      "---\n",
      "Unet Validation Dice Score: 0.8607047200202942     Segnet Validation Dice Score: 0.8598233461380005     Enet Validation Dice Score: 0.4478079378604889\n",
      "---\n",
      "Ensemble Voting Validation Dice Loss: 0.33027346928914386\n",
      "Ensemble Voting Validation Pixel Accuracy: 0.9502210115131579 \n",
      "Ensemble Voting Validation MIoU: 0.8385873762481435\n",
      "Ensemble Voting Validation Dice Score: 0.8685114979743958 \n"
     ]
    },
    {
     "name": "stderr",
     "output_type": "stream",
     "text": [
      "\n",
      "Epoch 14/50:  99%|█████████▊| 200/203 [00:15<00:00, 14.87img/s]"
     ]
    },
    {
     "name": "stdout",
     "output_type": "stream",
     "text": [
      "***\n",
      "Unet Loss: 0.16600453853607178     Segnet Loss: 0.08374358713626862     Enet Loss: 0.44503530859947205\n",
      "Voting Loss: 0.23159447809060416\n"
     ]
    },
    {
     "name": "stderr",
     "output_type": "stream",
     "text": [
      "Epoch 14/50:  99%|█████████▊| 200/203 [00:20<00:00,  9.97img/s]"
     ]
    },
    {
     "name": "stdout",
     "output_type": "stream",
     "text": [
      "---\n",
      "Unet Validation Dice Score: 0.8520474433898926     Segnet Validation Dice Score: 0.8807787299156189     Enet Validation Dice Score: 0.4943113327026367\n",
      "---\n",
      "Ensemble Voting Validation Dice Loss: 0.2670677900314331\n",
      "Ensemble Voting Validation Pixel Accuracy: 0.9630734627706963 \n",
      "Ensemble Voting Validation MIoU: 0.8684471083608633\n",
      "Ensemble Voting Validation Dice Score: 0.8829709887504578 \n"
     ]
    },
    {
     "name": "stderr",
     "output_type": "stream",
     "text": [
      "\n",
      "Epoch 15/50:  99%|█████████▊| 200/203 [00:15<00:00, 14.85img/s]"
     ]
    },
    {
     "name": "stdout",
     "output_type": "stream",
     "text": [
      "***\n",
      "Unet Loss: 0.16054916381835938     Segnet Loss: 0.07409485429525375     Enet Loss: 0.41284406185150146\n",
      "Voting Loss: 0.21582935998837152\n"
     ]
    },
    {
     "name": "stderr",
     "output_type": "stream",
     "text": [
      "Epoch 15/50:  99%|█████████▊| 200/203 [00:20<00:00,  9.88img/s]"
     ]
    },
    {
     "name": "stdout",
     "output_type": "stream",
     "text": [
      "---\n",
      "Unet Validation Dice Score: 0.8769093751907349     Segnet Validation Dice Score: 0.8972145915031433     Enet Validation Dice Score: 0.5369472503662109\n",
      "---\n",
      "Ensemble Voting Validation Dice Loss: 0.267574946085612\n",
      "Ensemble Voting Validation Pixel Accuracy: 0.9615829200075384 \n",
      "Ensemble Voting Validation MIoU: 0.8654061464393248\n",
      "Ensemble Voting Validation Dice Score: 0.903060257434845 \n"
     ]
    },
    {
     "name": "stderr",
     "output_type": "stream",
     "text": [
      "\n",
      "Epoch 16/50:  99%|█████████▊| 200/203 [00:15<00:00, 14.85img/s]"
     ]
    },
    {
     "name": "stdout",
     "output_type": "stream",
     "text": [
      "***\n",
      "Unet Loss: 0.13359075784683228     Segnet Loss: 0.07952142506837845     Enet Loss: 0.41147029399871826\n",
      "Voting Loss: 0.20819415897130966\n"
     ]
    },
    {
     "name": "stderr",
     "output_type": "stream",
     "text": [
      "Epoch 16/50:  99%|█████████▊| 200/203 [00:20<00:00,  9.88img/s]"
     ]
    },
    {
     "name": "stdout",
     "output_type": "stream",
     "text": [
      "---\n",
      "Unet Validation Dice Score: 0.9009981155395508     Segnet Validation Dice Score: 0.9019074440002441     Enet Validation Dice Score: 0.5808340907096863\n",
      "---\n",
      "Ensemble Voting Validation Dice Loss: 0.23011728127797446\n",
      "Ensemble Voting Validation Pixel Accuracy: 0.9715102346319902 \n",
      "Ensemble Voting Validation MIoU: 0.8982537789082399\n",
      "Ensemble Voting Validation Dice Score: 0.9128961563110352 \n"
     ]
    },
    {
     "name": "stderr",
     "output_type": "stream",
     "text": [
      "\n",
      "Epoch 17/50:  99%|█████████▊| 200/203 [00:15<00:00, 14.71img/s]"
     ]
    },
    {
     "name": "stdout",
     "output_type": "stream",
     "text": [
      "***\n",
      "Unet Loss: 0.1545313596725464     Segnet Loss: 0.08885832130908966     Enet Loss: 0.3937559127807617\n",
      "Voting Loss: 0.2123818645874659\n"
     ]
    },
    {
     "name": "stderr",
     "output_type": "stream",
     "text": [
      "Epoch 17/50:  99%|█████████▊| 200/203 [00:20<00:00,  9.69img/s]"
     ]
    },
    {
     "name": "stdout",
     "output_type": "stream",
     "text": [
      "---\n",
      "Unet Validation Dice Score: 0.9014577865600586     Segnet Validation Dice Score: 0.9043968319892883     Enet Validation Dice Score: 0.6007508635520935\n",
      "---\n",
      "Ensemble Voting Validation Dice Loss: 0.23101683457692465\n",
      "Ensemble Voting Validation Pixel Accuracy: 0.9677316766036185 \n",
      "Ensemble Voting Validation MIoU: 0.8865915280543163\n",
      "Ensemble Voting Validation Dice Score: 0.9118927121162415 \n"
     ]
    },
    {
     "name": "stderr",
     "output_type": "stream",
     "text": [
      "\n",
      "Epoch 18/50:  99%|█████████▊| 200/203 [00:15<00:00, 15.00img/s]"
     ]
    },
    {
     "name": "stdout",
     "output_type": "stream",
     "text": [
      "***\n",
      "Unet Loss: 0.1556106060743332     Segnet Loss: 0.07814629375934601     Enet Loss: 0.38346701860427856\n",
      "Voting Loss: 0.20574130614598593\n"
     ]
    },
    {
     "name": "stderr",
     "output_type": "stream",
     "text": [
      "Epoch 18/50:  99%|█████████▊| 200/203 [00:20<00:00,  9.84img/s]"
     ]
    },
    {
     "name": "stdout",
     "output_type": "stream",
     "text": [
      "---\n",
      "Unet Validation Dice Score: 0.9028058052062988     Segnet Validation Dice Score: 0.9057396054267883     Enet Validation Dice Score: 0.6113021373748779\n",
      "---\n",
      "Ensemble Voting Validation Dice Loss: 0.23692119121551514\n",
      "Ensemble Voting Validation Pixel Accuracy: 0.9667294150904605 \n",
      "Ensemble Voting Validation MIoU: 0.8842979493712653\n",
      "Ensemble Voting Validation Dice Score: 0.913303792476654 \n"
     ]
    },
    {
     "name": "stderr",
     "output_type": "stream",
     "text": [
      "\n",
      "Epoch 19/50:  99%|█████████▊| 200/203 [00:15<00:00, 14.95img/s]"
     ]
    },
    {
     "name": "stdout",
     "output_type": "stream",
     "text": [
      "***\n",
      "Unet Loss: 0.14417408406734467     Segnet Loss: 0.07529070973396301     Enet Loss: 0.4142383933067322\n",
      "Voting Loss: 0.21123439570267996\n"
     ]
    },
    {
     "name": "stderr",
     "output_type": "stream",
     "text": [
      "Epoch 19/50:  99%|█████████▊| 200/203 [00:20<00:00,  9.87img/s]"
     ]
    },
    {
     "name": "stdout",
     "output_type": "stream",
     "text": [
      "---\n",
      "Unet Validation Dice Score: 0.9049205780029297     Segnet Validation Dice Score: 0.901800274848938     Enet Validation Dice Score: 0.6322388648986816\n",
      "---\n",
      "Ensemble Voting Validation Dice Loss: 0.22566211223602295\n",
      "Ensemble Voting Validation Pixel Accuracy: 0.9694310238486842 \n",
      "Ensemble Voting Validation MIoU: 0.8930955591748566\n",
      "Ensemble Voting Validation Dice Score: 0.912681519985199 \n"
     ]
    },
    {
     "name": "stderr",
     "output_type": "stream",
     "text": [
      "\n",
      "Epoch 20/50:  99%|█████████▊| 200/203 [00:15<00:00, 14.92img/s]"
     ]
    },
    {
     "name": "stdout",
     "output_type": "stream",
     "text": [
      "***\n",
      "Unet Loss: 0.13684049248695374     Segnet Loss: 0.06426471471786499     Enet Loss: 0.3498310446739197\n",
      "Voting Loss: 0.1836454172929128\n"
     ]
    },
    {
     "name": "stderr",
     "output_type": "stream",
     "text": [
      "Epoch 20/50:  99%|█████████▊| 200/203 [00:20<00:00,  9.98img/s]"
     ]
    },
    {
     "name": "stdout",
     "output_type": "stream",
     "text": [
      "---\n",
      "Unet Validation Dice Score: 0.9093021750450134     Segnet Validation Dice Score: 0.9052667021751404     Enet Validation Dice Score: 0.6619095206260681\n",
      "---\n",
      "Ensemble Voting Validation Dice Loss: 0.23066131273905435\n",
      "Ensemble Voting Validation Pixel Accuracy: 0.965450086091694 \n",
      "Ensemble Voting Validation MIoU: 0.8796190667979986\n",
      "Ensemble Voting Validation Dice Score: 0.9145588874816895 \n"
     ]
    },
    {
     "name": "stderr",
     "output_type": "stream",
     "text": [
      "\n",
      "Epoch 21/50:  99%|█████████▊| 200/203 [00:16<00:00, 14.97img/s]"
     ]
    },
    {
     "name": "stdout",
     "output_type": "stream",
     "text": [
      "***\n",
      "Unet Loss: 0.17033667862415314     Segnet Loss: 0.06136089563369751     Enet Loss: 0.3265957832336426\n",
      "Voting Loss: 0.18609778583049774\n"
     ]
    },
    {
     "name": "stderr",
     "output_type": "stream",
     "text": [
      "Epoch 21/50:  99%|█████████▊| 200/203 [00:20<00:00,  9.78img/s]"
     ]
    },
    {
     "name": "stdout",
     "output_type": "stream",
     "text": [
      "---\n",
      "Unet Validation Dice Score: 0.9051305055618286     Segnet Validation Dice Score: 0.9096366763114929     Enet Validation Dice Score: 0.6873826384544373\n",
      "---\n",
      "Ensemble Voting Validation Dice Loss: 0.23363824685414633\n",
      "Ensemble Voting Validation Pixel Accuracy: 0.9626571922971491 \n",
      "Ensemble Voting Validation MIoU: 0.8732561046307219\n",
      "Ensemble Voting Validation Dice Score: 0.9159490466117859 \n"
     ]
    },
    {
     "name": "stderr",
     "output_type": "stream",
     "text": [
      "\n",
      "Epoch 22/50:  99%|█████████▊| 200/203 [00:15<00:00, 14.82img/s]"
     ]
    },
    {
     "name": "stdout",
     "output_type": "stream",
     "text": [
      "***\n",
      "Unet Loss: 0.1322575956583023     Segnet Loss: 0.06192032992839813     Enet Loss: 0.36129868030548096\n",
      "Voting Loss: 0.18515886863072714\n"
     ]
    },
    {
     "name": "stderr",
     "output_type": "stream",
     "text": [
      "Epoch 22/50:  99%|█████████▊| 200/203 [00:20<00:00,  9.87img/s]"
     ]
    },
    {
     "name": "stdout",
     "output_type": "stream",
     "text": [
      "---\n",
      "Unet Validation Dice Score: 0.9042357802391052     Segnet Validation Dice Score: 0.9087625741958618     Enet Validation Dice Score: 0.7188928127288818\n",
      "---\n",
      "Ensemble Voting Validation Dice Loss: 0.21514920393625894\n",
      "Ensemble Voting Validation Pixel Accuracy: 0.9668413128769189 \n",
      "Ensemble Voting Validation MIoU: 0.885319016396745\n",
      "Ensemble Voting Validation Dice Score: 0.9151620864868164 \n"
     ]
    },
    {
     "name": "stderr",
     "output_type": "stream",
     "text": [
      "\n",
      "Epoch 23/50:  99%|█████████▊| 200/203 [00:15<00:00, 14.85img/s]"
     ]
    },
    {
     "name": "stdout",
     "output_type": "stream",
     "text": [
      "***\n",
      "Unet Loss: 0.10776574909687042     Segnet Loss: 0.043337754905223846     Enet Loss: 0.2885322570800781\n",
      "Voting Loss: 0.14654525369405746\n"
     ]
    },
    {
     "name": "stderr",
     "output_type": "stream",
     "text": [
      "Epoch 23/50:  99%|█████████▊| 200/203 [00:20<00:00,  9.93img/s]"
     ]
    },
    {
     "name": "stdout",
     "output_type": "stream",
     "text": [
      "---\n",
      "Unet Validation Dice Score: 0.9131764769554138     Segnet Validation Dice Score: 0.9111899733543396     Enet Validation Dice Score: 0.7455480694770813\n",
      "---\n",
      "Ensemble Voting Validation Dice Loss: 0.20916757980982462\n",
      "Ensemble Voting Validation Pixel Accuracy: 0.9685184411835253 \n",
      "Ensemble Voting Validation MIoU: 0.8895973027807034\n",
      "Ensemble Voting Validation Dice Score: 0.9172835350036621 \n"
     ]
    },
    {
     "name": "stderr",
     "output_type": "stream",
     "text": [
      "\n",
      "Epoch 24/50:  99%|█████████▊| 200/203 [00:15<00:00, 14.83img/s]"
     ]
    },
    {
     "name": "stdout",
     "output_type": "stream",
     "text": [
      "***\n",
      "Unet Loss: 0.11372660845518112     Segnet Loss: 0.05852959677577019     Enet Loss: 0.2670205235481262\n",
      "Voting Loss: 0.14642557625969252\n"
     ]
    },
    {
     "name": "stderr",
     "output_type": "stream",
     "text": [
      "Epoch 24/50:  99%|█████████▊| 200/203 [00:20<00:00,  9.88img/s]"
     ]
    },
    {
     "name": "stdout",
     "output_type": "stream",
     "text": [
      "---\n",
      "Unet Validation Dice Score: 0.9032992720603943     Segnet Validation Dice Score: 0.909646213054657     Enet Validation Dice Score: 0.7748477458953857\n",
      "---\n",
      "Ensemble Voting Validation Dice Loss: 0.226392924785614\n",
      "Ensemble Voting Validation Pixel Accuracy: 0.9618910404673794 \n",
      "Ensemble Voting Validation MIoU: 0.8720335049090676\n",
      "Ensemble Voting Validation Dice Score: 0.9152789115905762 \n"
     ]
    },
    {
     "name": "stderr",
     "output_type": "stream",
     "text": [
      "\n",
      "Epoch 25/50:  99%|█████████▊| 200/203 [00:15<00:00, 14.96img/s]"
     ]
    },
    {
     "name": "stdout",
     "output_type": "stream",
     "text": [
      "***\n",
      "Unet Loss: 0.1052885353565216     Segnet Loss: 0.054885853081941605     Enet Loss: 0.34692347049713135\n",
      "Voting Loss: 0.1690326196451982\n"
     ]
    },
    {
     "name": "stderr",
     "output_type": "stream",
     "text": [
      "Epoch 25/50:  99%|█████████▊| 200/203 [00:20<00:00,  9.88img/s]"
     ]
    },
    {
     "name": "stdout",
     "output_type": "stream",
     "text": [
      "---\n",
      "Unet Validation Dice Score: 0.9071009755134583     Segnet Validation Dice Score: 0.9108692407608032     Enet Validation Dice Score: 0.8229497075080872\n",
      "---\n",
      "Ensemble Voting Validation Dice Loss: 0.19526131947835287\n",
      "Ensemble Voting Validation Pixel Accuracy: 0.9719605027583608 \n",
      "Ensemble Voting Validation MIoU: 0.8978263314687482\n",
      "Ensemble Voting Validation Dice Score: 0.9192832112312317 \n"
     ]
    },
    {
     "name": "stderr",
     "output_type": "stream",
     "text": [
      "\n",
      "Epoch 26/50:  99%|█████████▊| 200/203 [00:15<00:00, 14.89img/s]"
     ]
    },
    {
     "name": "stdout",
     "output_type": "stream",
     "text": [
      "***\n",
      "Unet Loss: 0.13599854707717896     Segnet Loss: 0.06832662969827652     Enet Loss: 0.24397657811641693\n",
      "Voting Loss: 0.1494339182972908\n"
     ]
    },
    {
     "name": "stderr",
     "output_type": "stream",
     "text": [
      "Epoch 26/50:  99%|█████████▊| 200/203 [00:20<00:00,  9.79img/s]"
     ]
    },
    {
     "name": "stdout",
     "output_type": "stream",
     "text": [
      "---\n",
      "Unet Validation Dice Score: 0.9038093686103821     Segnet Validation Dice Score: 0.901521623134613     Enet Validation Dice Score: 0.848499596118927\n",
      "---\n",
      "Ensemble Voting Validation Dice Loss: 0.21209990978240967\n",
      "Ensemble Voting Validation Pixel Accuracy: 0.9663945248252467 \n",
      "Ensemble Voting Validation MIoU: 0.8853818845586616\n",
      "Ensemble Voting Validation Dice Score: 0.912225067615509 \n"
     ]
    },
    {
     "name": "stderr",
     "output_type": "stream",
     "text": [
      "\n",
      "Epoch 27/50:  99%|█████████▊| 200/203 [00:15<00:00, 14.87img/s]"
     ]
    },
    {
     "name": "stdout",
     "output_type": "stream",
     "text": [
      "***\n",
      "Unet Loss: 0.10292890667915344     Segnet Loss: 0.0372498482465744     Enet Loss: 0.21022534370422363\n",
      "Voting Loss: 0.11680136620998383\n"
     ]
    },
    {
     "name": "stderr",
     "output_type": "stream",
     "text": [
      "Epoch 27/50:  99%|█████████▊| 200/203 [00:20<00:00,  9.85img/s]"
     ]
    },
    {
     "name": "stdout",
     "output_type": "stream",
     "text": [
      "---\n",
      "Unet Validation Dice Score: 0.909817636013031     Segnet Validation Dice Score: 0.9125863909721375     Enet Validation Dice Score: 0.8681978583335876\n",
      "---\n",
      "Ensemble Voting Validation Dice Loss: 0.2043129007021586\n",
      "Ensemble Voting Validation Pixel Accuracy: 0.9660119843064693 \n",
      "Ensemble Voting Validation MIoU: 0.8826003359844472\n",
      "Ensemble Voting Validation Dice Score: 0.9194889068603516 \n"
     ]
    },
    {
     "name": "stderr",
     "output_type": "stream",
     "text": [
      "\n",
      "Epoch 28/50:  99%|█████████▊| 200/203 [00:15<00:00, 14.85img/s]"
     ]
    },
    {
     "name": "stdout",
     "output_type": "stream",
     "text": [
      "***\n",
      "Unet Loss: 0.09676474332809448     Segnet Loss: 0.03478790447115898     Enet Loss: 0.2356734722852707\n",
      "Voting Loss: 0.12240870669484138\n"
     ]
    },
    {
     "name": "stderr",
     "output_type": "stream",
     "text": [
      "Epoch 28/50:  99%|█████████▊| 200/203 [00:20<00:00,  9.84img/s]"
     ]
    },
    {
     "name": "stdout",
     "output_type": "stream",
     "text": [
      "---\n",
      "Unet Validation Dice Score: 0.9114397168159485     Segnet Validation Dice Score: 0.9153587222099304     Enet Validation Dice Score: 0.8700428009033203\n",
      "---\n",
      "Ensemble Voting Validation Dice Loss: 0.19430595636367798\n",
      "Ensemble Voting Validation Pixel Accuracy: 0.9671636213336074 \n",
      "Ensemble Voting Validation MIoU: 0.8851108342913108\n",
      "Ensemble Voting Validation Dice Score: 0.9220485091209412 \n"
     ]
    },
    {
     "name": "stderr",
     "output_type": "stream",
     "text": [
      "\n",
      "Epoch 29/50:  99%|█████████▊| 200/203 [00:15<00:00, 15.20img/s]"
     ]
    },
    {
     "name": "stdout",
     "output_type": "stream",
     "text": [
      "***\n",
      "Unet Loss: 0.09913619607686996     Segnet Loss: 0.04227805882692337     Enet Loss: 0.21320609748363495\n",
      "Voting Loss: 0.11820678412914276\n"
     ]
    },
    {
     "name": "stderr",
     "output_type": "stream",
     "text": [
      "Epoch 29/50:  99%|█████████▊| 200/203 [00:20<00:00,  9.90img/s]"
     ]
    },
    {
     "name": "stdout",
     "output_type": "stream",
     "text": [
      "---\n",
      "Unet Validation Dice Score: 0.9103795886039734     Segnet Validation Dice Score: 0.9163709878921509     Enet Validation Dice Score: 0.8678448796272278\n",
      "---\n",
      "Ensemble Voting Validation Dice Loss: 0.1866239309310913\n",
      "Ensemble Voting Validation Pixel Accuracy: 0.9699433979235197 \n",
      "Ensemble Voting Validation MIoU: 0.8936098576505173\n",
      "Ensemble Voting Validation Dice Score: 0.9222287535667419 \n"
     ]
    },
    {
     "name": "stderr",
     "output_type": "stream",
     "text": [
      "\n",
      "Epoch 30/50:  99%|█████████▊| 200/203 [00:16<00:00, 14.97img/s]"
     ]
    },
    {
     "name": "stdout",
     "output_type": "stream",
     "text": [
      "***\n",
      "Unet Loss: 0.09736393392086029     Segnet Loss: 0.03685762360692024     Enet Loss: 0.21592670679092407\n",
      "Voting Loss: 0.11671608810623486\n"
     ]
    },
    {
     "name": "stderr",
     "output_type": "stream",
     "text": [
      "Epoch 30/50:  99%|█████████▊| 200/203 [00:20<00:00,  9.70img/s]"
     ]
    },
    {
     "name": "stdout",
     "output_type": "stream",
     "text": [
      "---\n",
      "Unet Validation Dice Score: 0.9103760123252869     Segnet Validation Dice Score: 0.9153692126274109     Enet Validation Dice Score: 0.8662888407707214\n",
      "---\n",
      "Ensemble Voting Validation Dice Loss: 0.19018405675888062\n",
      "Ensemble Voting Validation Pixel Accuracy: 0.9688993755139803 \n",
      "Ensemble Voting Validation MIoU: 0.8915416876430371\n",
      "Ensemble Voting Validation Dice Score: 0.919544517993927 \n"
     ]
    },
    {
     "name": "stderr",
     "output_type": "stream",
     "text": [
      "\n",
      "Epoch 31/50:  99%|█████████▊| 200/203 [00:15<00:00, 15.00img/s]"
     ]
    },
    {
     "name": "stdout",
     "output_type": "stream",
     "text": [
      "***\n",
      "Unet Loss: 0.10233552753925323     Segnet Loss: 0.036089204251766205     Enet Loss: 0.2291257679462433\n",
      "Voting Loss: 0.12251683324575424\n"
     ]
    },
    {
     "name": "stderr",
     "output_type": "stream",
     "text": [
      "Epoch 31/50:  99%|█████████▊| 200/203 [00:20<00:00,  9.98img/s]"
     ]
    },
    {
     "name": "stdout",
     "output_type": "stream",
     "text": [
      "---\n",
      "Unet Validation Dice Score: 0.9103167653083801     Segnet Validation Dice Score: 0.9157928824424744     Enet Validation Dice Score: 0.8751372694969177\n",
      "---\n",
      "Ensemble Voting Validation Dice Loss: 0.18587390581766763\n",
      "Ensemble Voting Validation Pixel Accuracy: 0.9692856638055098 \n",
      "Ensemble Voting Validation MIoU: 0.8925812464536131\n",
      "Ensemble Voting Validation Dice Score: 0.921008288860321 \n"
     ]
    },
    {
     "name": "stderr",
     "output_type": "stream",
     "text": [
      "\n",
      "Epoch 32/50:  99%|█████████▊| 200/203 [00:15<00:00, 14.83img/s]"
     ]
    },
    {
     "name": "stdout",
     "output_type": "stream",
     "text": [
      "***\n",
      "Unet Loss: 0.10346487164497375     Segnet Loss: 0.0415518581867218     Enet Loss: 0.2043023407459259\n",
      "Voting Loss: 0.11643969019254048\n"
     ]
    },
    {
     "name": "stderr",
     "output_type": "stream",
     "text": [
      "Epoch 32/50:  99%|█████████▊| 200/203 [00:20<00:00,  9.86img/s]"
     ]
    },
    {
     "name": "stdout",
     "output_type": "stream",
     "text": [
      "---\n",
      "Unet Validation Dice Score: 0.9110105633735657     Segnet Validation Dice Score: 0.9156278967857361     Enet Validation Dice Score: 0.8859929442405701\n",
      "---\n",
      "Ensemble Voting Validation Dice Loss: 0.17495574553807577\n",
      "Ensemble Voting Validation Pixel Accuracy: 0.97117561206483 \n",
      "Ensemble Voting Validation MIoU: 0.8982888083840936\n",
      "Ensemble Voting Validation Dice Score: 0.9218837022781372 \n"
     ]
    },
    {
     "name": "stderr",
     "output_type": "stream",
     "text": [
      "\n",
      "Epoch 33/50:  99%|█████████▊| 200/203 [00:15<00:00, 14.87img/s]"
     ]
    },
    {
     "name": "stdout",
     "output_type": "stream",
     "text": [
      "***\n",
      "Unet Loss: 0.1014959067106247     Segnet Loss: 0.03887641429901123     Enet Loss: 0.20369210839271545\n",
      "Voting Loss: 0.11468814313411713\n"
     ]
    },
    {
     "name": "stderr",
     "output_type": "stream",
     "text": [
      "Epoch 33/50:  99%|█████████▊| 200/203 [00:20<00:00,  9.74img/s]"
     ]
    },
    {
     "name": "stdout",
     "output_type": "stream",
     "text": [
      "---\n",
      "Unet Validation Dice Score: 0.9109326601028442     Segnet Validation Dice Score: 0.9125690460205078     Enet Validation Dice Score: 0.8798319697380066\n",
      "---\n",
      "Ensemble Voting Validation Dice Loss: 0.18902573982874551\n",
      "Ensemble Voting Validation Pixel Accuracy: 0.9677506831654331 \n",
      "Ensemble Voting Validation MIoU: 0.888473692978031\n",
      "Ensemble Voting Validation Dice Score: 0.9203690886497498 \n"
     ]
    },
    {
     "name": "stderr",
     "output_type": "stream",
     "text": [
      "\n",
      "Epoch 34/50:  99%|█████████▊| 200/203 [00:15<00:00, 14.82img/s]"
     ]
    },
    {
     "name": "stdout",
     "output_type": "stream",
     "text": [
      "***\n",
      "Unet Loss: 0.10781708359718323     Segnet Loss: 0.038508497178554535     Enet Loss: 0.1925697922706604\n",
      "Voting Loss: 0.11296512434879939\n"
     ]
    },
    {
     "name": "stderr",
     "output_type": "stream",
     "text": [
      "Epoch 34/50:  99%|█████████▊| 200/203 [00:20<00:00,  9.75img/s]"
     ]
    },
    {
     "name": "stdout",
     "output_type": "stream",
     "text": [
      "---\n",
      "Unet Validation Dice Score: 0.9110396504402161     Segnet Validation Dice Score: 0.9184940457344055     Enet Validation Dice Score: 0.8791753053665161\n",
      "---\n",
      "Ensemble Voting Validation Dice Loss: 0.18991845846176147\n",
      "Ensemble Voting Validation Pixel Accuracy: 0.9662863748115406 \n",
      "Ensemble Voting Validation MIoU: 0.883863251053074\n",
      "Ensemble Voting Validation Dice Score: 0.9226589202880859 \n"
     ]
    },
    {
     "name": "stderr",
     "output_type": "stream",
     "text": [
      "\n",
      "Epoch 35/50:  99%|█████████▊| 200/203 [00:15<00:00, 14.87img/s]"
     ]
    },
    {
     "name": "stdout",
     "output_type": "stream",
     "text": [
      "***\n",
      "Unet Loss: 0.10413966327905655     Segnet Loss: 0.04574935883283615     Enet Loss: 0.19572265446186066\n",
      "Voting Loss: 0.11520389219125111\n"
     ]
    },
    {
     "name": "stderr",
     "output_type": "stream",
     "text": [
      "Epoch 35/50:  99%|█████████▊| 200/203 [00:20<00:00,  9.85img/s]"
     ]
    },
    {
     "name": "stdout",
     "output_type": "stream",
     "text": [
      "---\n",
      "Unet Validation Dice Score: 0.9108562469482422     Segnet Validation Dice Score: 0.9153491258621216     Enet Validation Dice Score: 0.8806185126304626\n",
      "---\n",
      "Ensemble Voting Validation Dice Loss: 0.1771051287651062\n",
      "Ensemble Voting Validation Pixel Accuracy: 0.971025968852796 \n",
      "Ensemble Voting Validation MIoU: 0.8981000966554097\n",
      "Ensemble Voting Validation Dice Score: 0.921942412853241 \n"
     ]
    },
    {
     "name": "stderr",
     "output_type": "stream",
     "text": [
      "\n",
      "Epoch 36/50:  99%|█████████▊| 200/203 [00:16<00:00, 14.90img/s]"
     ]
    },
    {
     "name": "stdout",
     "output_type": "stream",
     "text": [
      "***\n",
      "Unet Loss: 0.09667792916297913     Segnet Loss: 0.03608912229537964     Enet Loss: 0.184535950422287\n",
      "Voting Loss: 0.10576766729354858\n"
     ]
    },
    {
     "name": "stderr",
     "output_type": "stream",
     "text": [
      "Epoch 36/50:  99%|█████████▊| 200/203 [00:20<00:00,  9.70img/s]"
     ]
    },
    {
     "name": "stdout",
     "output_type": "stream",
     "text": [
      "---\n",
      "Unet Validation Dice Score: 0.9109205603599548     Segnet Validation Dice Score: 0.9166049957275391     Enet Validation Dice Score: 0.8874441981315613\n",
      "---\n",
      "Ensemble Voting Validation Dice Loss: 0.17275007565816244\n",
      "Ensemble Voting Validation Pixel Accuracy: 0.9717048511170504 \n",
      "Ensemble Voting Validation MIoU: 0.9000426219511444\n",
      "Ensemble Voting Validation Dice Score: 0.9237109422683716 \n"
     ]
    },
    {
     "name": "stderr",
     "output_type": "stream",
     "text": [
      "\n",
      "Epoch 37/50:  99%|█████████▊| 200/203 [00:15<00:00, 14.83img/s]"
     ]
    },
    {
     "name": "stdout",
     "output_type": "stream",
     "text": [
      "***\n",
      "Unet Loss: 0.112702876329422     Segnet Loss: 0.0377546027302742     Enet Loss: 0.1752994805574417\n",
      "Voting Loss: 0.10858565320571263\n"
     ]
    },
    {
     "name": "stderr",
     "output_type": "stream",
     "text": [
      "Epoch 37/50:  99%|█████████▊| 200/203 [00:20<00:00,  9.84img/s]"
     ]
    },
    {
     "name": "stdout",
     "output_type": "stream",
     "text": [
      "---\n",
      "Unet Validation Dice Score: 0.910650908946991     Segnet Validation Dice Score: 0.9115743041038513     Enet Validation Dice Score: 0.885774552822113\n",
      "---\n",
      "Ensemble Voting Validation Dice Loss: 0.18262298901875815\n",
      "Ensemble Voting Validation Pixel Accuracy: 0.9686777215254935 \n",
      "Ensemble Voting Validation MIoU: 0.8917645590790721\n",
      "Ensemble Voting Validation Dice Score: 0.9194419980049133 \n"
     ]
    },
    {
     "name": "stderr",
     "output_type": "stream",
     "text": [
      "\n",
      "Epoch 38/50:  99%|█████████▊| 200/203 [00:15<00:00, 14.89img/s]"
     ]
    },
    {
     "name": "stdout",
     "output_type": "stream",
     "text": [
      "***\n",
      "Unet Loss: 0.09310373663902283     Segnet Loss: 0.036060743033885956     Enet Loss: 0.19397835433483124\n",
      "Voting Loss: 0.10771427800258\n"
     ]
    },
    {
     "name": "stderr",
     "output_type": "stream",
     "text": [
      "Epoch 38/50:  99%|█████████▊| 200/203 [00:20<00:00,  9.88img/s]"
     ]
    },
    {
     "name": "stdout",
     "output_type": "stream",
     "text": [
      "---\n",
      "Unet Validation Dice Score: 0.9110392928123474     Segnet Validation Dice Score: 0.9133464097976685     Enet Validation Dice Score: 0.8877153396606445\n",
      "---\n",
      "Ensemble Voting Validation Dice Loss: 0.17065133651097616\n",
      "Ensemble Voting Validation Pixel Accuracy: 0.9721773381818805 \n",
      "Ensemble Voting Validation MIoU: 0.9014151202749744\n",
      "Ensemble Voting Validation Dice Score: 0.9217962622642517 \n"
     ]
    },
    {
     "name": "stderr",
     "output_type": "stream",
     "text": [
      "\n",
      "Epoch 39/50:  99%|█████████▊| 200/203 [00:15<00:00, 15.02img/s]"
     ]
    },
    {
     "name": "stdout",
     "output_type": "stream",
     "text": [
      "***\n",
      "Unet Loss: 0.10915017127990723     Segnet Loss: 0.03686597943305969     Enet Loss: 0.1682795286178589\n",
      "Voting Loss: 0.1047652264436086\n"
     ]
    },
    {
     "name": "stderr",
     "output_type": "stream",
     "text": [
      "Epoch 39/50:  99%|█████████▊| 200/203 [00:20<00:00,  9.91img/s]"
     ]
    },
    {
     "name": "stdout",
     "output_type": "stream",
     "text": [
      "---\n",
      "Unet Validation Dice Score: 0.9113190770149231     Segnet Validation Dice Score: 0.9151024222373962     Enet Validation Dice Score: 0.8866643905639648\n",
      "---\n",
      "Ensemble Voting Validation Dice Loss: 0.1775416930516561\n",
      "Ensemble Voting Validation Pixel Accuracy: 0.969312165912829 \n",
      "Ensemble Voting Validation MIoU: 0.8926359554258654\n",
      "Ensemble Voting Validation Dice Score: 0.9212755560874939 \n"
     ]
    },
    {
     "name": "stderr",
     "output_type": "stream",
     "text": [
      "\n",
      "Epoch 40/50:  99%|█████████▊| 200/203 [00:15<00:00, 14.93img/s]"
     ]
    },
    {
     "name": "stdout",
     "output_type": "stream",
     "text": [
      "***\n",
      "Unet Loss: 0.12043003737926483     Segnet Loss: 0.04512286186218262     Enet Loss: 0.1808960735797882\n",
      "Voting Loss: 0.11548299094041188\n"
     ]
    },
    {
     "name": "stderr",
     "output_type": "stream",
     "text": [
      "Epoch 40/50:  99%|█████████▊| 200/203 [00:20<00:00,  9.81img/s]"
     ]
    },
    {
     "name": "stdout",
     "output_type": "stream",
     "text": [
      "---\n",
      "Unet Validation Dice Score: 0.9106351137161255     Segnet Validation Dice Score: 0.9143153429031372     Enet Validation Dice Score: 0.8873434066772461\n",
      "---\n",
      "Ensemble Voting Validation Dice Loss: 0.1831019123395284\n",
      "Ensemble Voting Validation Pixel Accuracy: 0.9687301903440241 \n",
      "Ensemble Voting Validation MIoU: 0.8915399296867417\n",
      "Ensemble Voting Validation Dice Score: 0.9205248951911926 \n"
     ]
    },
    {
     "name": "stderr",
     "output_type": "stream",
     "text": [
      "\n",
      "Epoch 41/50:  99%|█████████▊| 200/203 [00:15<00:00, 15.05img/s]"
     ]
    },
    {
     "name": "stdout",
     "output_type": "stream",
     "text": [
      "***\n",
      "Unet Loss: 0.09957941621541977     Segnet Loss: 0.033811863511800766     Enet Loss: 0.17669281363487244\n",
      "Voting Loss: 0.10336136445403099\n"
     ]
    },
    {
     "name": "stderr",
     "output_type": "stream",
     "text": [
      "Epoch 41/50:  99%|█████████▊| 200/203 [00:20<00:00,  9.92img/s]"
     ]
    },
    {
     "name": "stdout",
     "output_type": "stream",
     "text": [
      "---\n",
      "Unet Validation Dice Score: 0.9108638167381287     Segnet Validation Dice Score: 0.9124574065208435     Enet Validation Dice Score: 0.8855757713317871\n",
      "---\n",
      "Ensemble Voting Validation Dice Loss: 0.18261152505874634\n",
      "Ensemble Voting Validation Pixel Accuracy: 0.9682571678830866 \n",
      "Ensemble Voting Validation MIoU: 0.8901350055566939\n",
      "Ensemble Voting Validation Dice Score: 0.9199225306510925 \n"
     ]
    },
    {
     "name": "stderr",
     "output_type": "stream",
     "text": [
      "\n",
      "Epoch 42/50:  99%|█████████▊| 200/203 [00:15<00:00, 14.75img/s]"
     ]
    },
    {
     "name": "stdout",
     "output_type": "stream",
     "text": [
      "***\n",
      "Unet Loss: 0.10443323105573654     Segnet Loss: 0.0445869006216526     Enet Loss: 0.21050822734832764\n",
      "Voting Loss: 0.1198427863419056\n"
     ]
    },
    {
     "name": "stderr",
     "output_type": "stream",
     "text": [
      "Epoch 42/50:  99%|█████████▊| 200/203 [00:20<00:00,  9.92img/s]"
     ]
    },
    {
     "name": "stdout",
     "output_type": "stream",
     "text": [
      "---\n",
      "Unet Validation Dice Score: 0.9110091328620911     Segnet Validation Dice Score: 0.9155201315879822     Enet Validation Dice Score: 0.8862243890762329\n",
      "---\n",
      "Ensemble Voting Validation Dice Loss: 0.1779370109240214\n",
      "Ensemble Voting Validation Pixel Accuracy: 0.9688305771141722 \n",
      "Ensemble Voting Validation MIoU: 0.8914034164516549\n",
      "Ensemble Voting Validation Dice Score: 0.9215359091758728 \n"
     ]
    },
    {
     "name": "stderr",
     "output_type": "stream",
     "text": [
      "\n",
      "Epoch 43/50:  99%|█████████▊| 200/203 [00:15<00:00, 14.85img/s]"
     ]
    },
    {
     "name": "stdout",
     "output_type": "stream",
     "text": [
      "***\n",
      "Unet Loss: 0.10520002245903015     Segnet Loss: 0.043376315385103226     Enet Loss: 0.15190859138965607\n",
      "Voting Loss: 0.10016164307792981\n"
     ]
    },
    {
     "name": "stderr",
     "output_type": "stream",
     "text": [
      "Epoch 43/50:  99%|█████████▊| 200/203 [00:20<00:00,  9.84img/s]"
     ]
    },
    {
     "name": "stdout",
     "output_type": "stream",
     "text": [
      "---\n",
      "Unet Validation Dice Score: 0.9110193252563477     Segnet Validation Dice Score: 0.916583240032196     Enet Validation Dice Score: 0.8864991068840027\n",
      "---\n",
      "Ensemble Voting Validation Dice Loss: 0.1842889984448751\n",
      "Ensemble Voting Validation Pixel Accuracy: 0.9668555008737665 \n",
      "Ensemble Voting Validation MIoU: 0.8854713060651489\n",
      "Ensemble Voting Validation Dice Score: 0.9224085807800293 \n"
     ]
    },
    {
     "name": "stderr",
     "output_type": "stream",
     "text": [
      "\n",
      "Epoch 44/50:  99%|█████████▊| 200/203 [00:16<00:00, 14.87img/s]"
     ]
    },
    {
     "name": "stdout",
     "output_type": "stream",
     "text": [
      "***\n",
      "Unet Loss: 0.10712362080812454     Segnet Loss: 0.03619139641523361     Enet Loss: 0.140687495470047\n",
      "Voting Loss: 0.09466750423113506\n"
     ]
    },
    {
     "name": "stderr",
     "output_type": "stream",
     "text": [
      "Epoch 44/50:  99%|█████████▊| 200/203 [00:20<00:00,  9.72img/s]"
     ]
    },
    {
     "name": "stdout",
     "output_type": "stream",
     "text": [
      "---\n",
      "Unet Validation Dice Score: 0.9101880192756653     Segnet Validation Dice Score: 0.9121758341789246     Enet Validation Dice Score: 0.8851584792137146\n",
      "---\n",
      "Ensemble Voting Validation Dice Loss: 0.18568015098571777\n",
      "Ensemble Voting Validation Pixel Accuracy: 0.9682408383018092 \n",
      "Ensemble Voting Validation MIoU: 0.8905264484141326\n",
      "Ensemble Voting Validation Dice Score: 0.918444812297821 \n"
     ]
    },
    {
     "name": "stderr",
     "output_type": "stream",
     "text": [
      "\n",
      "Epoch 45/50:  99%|█████████▊| 200/203 [00:15<00:00, 14.86img/s]"
     ]
    },
    {
     "name": "stdout",
     "output_type": "stream",
     "text": [
      "***\n",
      "Unet Loss: 0.09781178832054138     Segnet Loss: 0.037537816911935806     Enet Loss: 0.22546902298927307\n",
      "Voting Loss: 0.12027287607391675\n"
     ]
    },
    {
     "name": "stderr",
     "output_type": "stream",
     "text": [
      "Epoch 45/50:  99%|█████████▊| 200/203 [00:20<00:00,  9.85img/s]"
     ]
    },
    {
     "name": "stdout",
     "output_type": "stream",
     "text": [
      "---\n",
      "Unet Validation Dice Score: 0.9110576510429382     Segnet Validation Dice Score: 0.9169096350669861     Enet Validation Dice Score: 0.8862404823303223\n",
      "---\n",
      "Ensemble Voting Validation Dice Loss: 0.17668209473292032\n",
      "Ensemble Voting Validation Pixel Accuracy: 0.9695785254762884 \n",
      "Ensemble Voting Validation MIoU: 0.8933447766635835\n",
      "Ensemble Voting Validation Dice Score: 0.9231228232383728 \n"
     ]
    },
    {
     "name": "stderr",
     "output_type": "stream",
     "text": [
      "\n",
      "Epoch 46/50:  99%|█████████▊| 200/203 [00:15<00:00, 14.71img/s]"
     ]
    },
    {
     "name": "stdout",
     "output_type": "stream",
     "text": [
      "***\n",
      "Unet Loss: 0.10239521414041519     Segnet Loss: 0.03218219429254532     Enet Loss: 0.18531951308250427\n",
      "Voting Loss: 0.1066323071718216\n"
     ]
    },
    {
     "name": "stderr",
     "output_type": "stream",
     "text": [
      "Epoch 46/50:  99%|█████████▊| 200/203 [00:20<00:00,  9.81img/s]"
     ]
    },
    {
     "name": "stdout",
     "output_type": "stream",
     "text": [
      "---\n",
      "Unet Validation Dice Score: 0.9110841751098633     Segnet Validation Dice Score: 0.9177294969558716     Enet Validation Dice Score: 0.8867802023887634\n",
      "---\n",
      "Ensemble Voting Validation Dice Loss: 0.1762269934018453\n",
      "Ensemble Voting Validation Pixel Accuracy: 0.9697115714089912 \n",
      "Ensemble Voting Validation MIoU: 0.8938452344629346\n",
      "Ensemble Voting Validation Dice Score: 0.9229766726493835 \n"
     ]
    },
    {
     "name": "stderr",
     "output_type": "stream",
     "text": [
      "\n",
      "Epoch 47/50:  99%|█████████▊| 200/203 [00:15<00:00, 14.95img/s]"
     ]
    },
    {
     "name": "stdout",
     "output_type": "stream",
     "text": [
      "***\n",
      "Unet Loss: 0.11050108820199966     Segnet Loss: 0.042072128504514694     Enet Loss: 0.18322671949863434\n",
      "Voting Loss: 0.1119333120683829\n"
     ]
    },
    {
     "name": "stderr",
     "output_type": "stream",
     "text": [
      "Epoch 47/50:  99%|█████████▊| 200/203 [00:20<00:00,  9.88img/s]"
     ]
    },
    {
     "name": "stdout",
     "output_type": "stream",
     "text": [
      "---\n",
      "Unet Validation Dice Score: 0.9110032916069031     Segnet Validation Dice Score: 0.914639949798584     Enet Validation Dice Score: 0.8869673013687134\n",
      "---\n",
      "Ensemble Voting Validation Dice Loss: 0.18182059129079184\n",
      "Ensemble Voting Validation Pixel Accuracy: 0.9689004463061952 \n",
      "Ensemble Voting Validation MIoU: 0.8920416581070045\n",
      "Ensemble Voting Validation Dice Score: 0.9211055040359497 \n"
     ]
    },
    {
     "name": "stderr",
     "output_type": "stream",
     "text": [
      "\n",
      "Epoch 48/50:  99%|█████████▊| 200/203 [00:15<00:00, 14.70img/s]"
     ]
    },
    {
     "name": "stdout",
     "output_type": "stream",
     "text": [
      "***\n",
      "Unet Loss: 0.10767482221126556     Segnet Loss: 0.04115275293588638     Enet Loss: 0.1622139811515808\n",
      "Voting Loss: 0.10368051876624425\n"
     ]
    },
    {
     "name": "stderr",
     "output_type": "stream",
     "text": [
      "Epoch 48/50:  99%|█████████▊| 200/203 [00:20<00:00,  9.93img/s]"
     ]
    },
    {
     "name": "stdout",
     "output_type": "stream",
     "text": [
      "---\n",
      "Unet Validation Dice Score: 0.910721480846405     Segnet Validation Dice Score: 0.9161379933357239     Enet Validation Dice Score: 0.8867312669754028\n",
      "---\n",
      "Ensemble Voting Validation Dice Loss: 0.17253712813059488\n",
      "Ensemble Voting Validation Pixel Accuracy: 0.9708873012609649 \n",
      "Ensemble Voting Validation MIoU: 0.8970649605690905\n",
      "Ensemble Voting Validation Dice Score: 0.921906590461731 \n"
     ]
    },
    {
     "name": "stderr",
     "output_type": "stream",
     "text": [
      "\n",
      "Epoch 49/50:  99%|█████████▊| 200/203 [00:15<00:00, 15.20img/s]"
     ]
    },
    {
     "name": "stdout",
     "output_type": "stream",
     "text": [
      "***\n",
      "Unet Loss: 0.0947282463312149     Segnet Loss: 0.034960612654685974     Enet Loss: 0.15337441861629486\n",
      "Voting Loss: 0.09435442586739858\n"
     ]
    },
    {
     "name": "stderr",
     "output_type": "stream",
     "text": [
      "Epoch 49/50:  99%|█████████▊| 200/203 [00:20<00:00,  9.97img/s]"
     ]
    },
    {
     "name": "stdout",
     "output_type": "stream",
     "text": [
      "---\n",
      "Unet Validation Dice Score: 0.9112775921821594     Segnet Validation Dice Score: 0.9160184264183044     Enet Validation Dice Score: 0.8862686157226562\n",
      "---\n",
      "Ensemble Voting Validation Dice Loss: 0.17160542805989584\n",
      "Ensemble Voting Validation Pixel Accuracy: 0.9711271587171053 \n",
      "Ensemble Voting Validation MIoU: 0.8980366579649868\n",
      "Ensemble Voting Validation Dice Score: 0.9224182367324829 \n"
     ]
    },
    {
     "name": "stderr",
     "output_type": "stream",
     "text": [
      "\n",
      "Epoch 50/50:  99%|█████████▊| 200/203 [00:15<00:00, 15.00img/s]"
     ]
    },
    {
     "name": "stdout",
     "output_type": "stream",
     "text": [
      "***\n",
      "Unet Loss: 0.10993692278862     Segnet Loss: 0.03464820981025696     Enet Loss: 0.17004956305027008\n",
      "Voting Loss: 0.10487823188304901\n"
     ]
    },
    {
     "name": "stderr",
     "output_type": "stream",
     "text": [
      "Epoch 50/50:  99%|█████████▊| 200/203 [00:20<00:00,  9.91img/s]"
     ]
    },
    {
     "name": "stdout",
     "output_type": "stream",
     "text": [
      "---\n",
      "Unet Validation Dice Score: 0.9109883308410645     Segnet Validation Dice Score: 0.9146000742912292     Enet Validation Dice Score: 0.8863703012466431\n",
      "---\n",
      "Ensemble Voting Validation Dice Loss: 0.18064194917678833\n",
      "Ensemble Voting Validation Pixel Accuracy: 0.968227185701069 \n",
      "Ensemble Voting Validation MIoU: 0.8899714207680884\n",
      "Ensemble Voting Validation Dice Score: 0.920566201210022 \n"
     ]
    },
    {
     "name": "stderr",
     "output_type": "stream",
     "text": [
      "\n"
     ]
    }
   ],
   "source": [
    "valScore_list1 = []\n",
    "TrainLoss_list1 = []\n",
    "\n",
    "valScore_list2 = []\n",
    "TrainLoss_list2 = []\n",
    "\n",
    "valScore_list3 = []\n",
    "TrainLoss_list3 = []\n",
    "\n",
    "valScore_list4 = []\n",
    "TrainLoss_list4 = []\n",
    "\n",
    "val_losses = []\n",
    "val_accs = []\n",
    "val_mious = []\n",
    "\n",
    "# 5. Begin training\n",
    "for epoch in range(1, epochs + 1):\n",
    "    model.train()\n",
    "    epoch_loss = 0\n",
    "    epoch_unet_loss = 0\n",
    "    epoch_segnet_loss = 0\n",
    "    epoch_enet_loss = 0\n",
    "    epoch_voting_loss = 0\n",
    "    \n",
    "    with tqdm(total=n_train, desc=f'Epoch {epoch}/{epochs}', unit='img') as pbar:\n",
    "        for batch in train_loader:\n",
    "            images, true_masks = batch['image'], batch['mask']\n",
    "\n",
    "            images = images.to(device=device, dtype=torch.float32, memory_format=torch.channels_last)\n",
    "            true_masks = true_masks.to(device=device, dtype=torch.long)\n",
    "\n",
    "                \n",
    "            result = forward_and_backward(model, images, true_masks, amp, optims, grad_scaler, Model_Name)\n",
    "            \n",
    "            if len(result) == 4:\n",
    "                model, unet_loss, segnet_loss, enet_loss = result\n",
    "                \n",
    "                pbar.update(images.shape[0])\n",
    "                global_step += 1\n",
    "                epoch_unet_loss += unet_loss.item()\n",
    "                epoch_segnet_loss += segnet_loss.item()\n",
    "                epoch_enet_loss += enet_loss.item()\n",
    "                vot_loss = ((unet_loss.item() + segnet_loss.item() + enet_loss.item()) /3)\n",
    "                epoch_voting_loss += vot_loss\n",
    "                \n",
    "                \n",
    "            elif len(result) == 2:\n",
    "                model, loss = result\n",
    "                \n",
    "                pbar.update(images.shape[0])\n",
    "                global_step += 1\n",
    "                epoch_loss += loss.item()\n",
    "\n",
    "\n",
    "        print('***')\n",
    "        if len(result) == 4:\n",
    "            print('Unet Loss: {}     Segnet Loss: {}     Enet Loss: {}'.format(unet_loss, segnet_loss, enet_loss))\n",
    "            print('Voting Loss: {}'.format(vot_loss))\n",
    "            \n",
    "            \n",
    "        elif len(result) == 2:\n",
    "            print('{} Loss: {}'.format(Model_Name, loss))\n",
    "\n",
    "        # Evaluation round\n",
    "        division_step = (n_train // (5 * batch_size))\n",
    "        if division_step > 0:\n",
    "            #if global_step % division_step == 0:\n",
    "            if len(result) == 4:\n",
    "                unet_val_score, segnet_val_score, enet_val_score, voting_val_score, val_loss, val_acc, val_miou = evaluate(model, val_loader, criterion, device, Model_Name, amp)\n",
    "                \n",
    "                unet_scheduler.step(unet_val_score)\n",
    "                segnet_scheduler.step(segnet_val_score)\n",
    "                enet_scheduler.step(enet_val_score)\n",
    "                #voting_scheduler.step(voting_val_score)\n",
    "                \n",
    "                valScore_list1.append(unet_val_score.cpu().detach().numpy())\n",
    "                TrainLoss_list1.append(unet_loss.cpu().detach().numpy())\n",
    "                valScore_list2.append(segnet_val_score.cpu().detach().numpy())\n",
    "                TrainLoss_list2.append(segnet_loss.cpu().detach().numpy())                \n",
    "                valScore_list3.append(enet_val_score.cpu().detach().numpy())\n",
    "                TrainLoss_list3.append(enet_loss.cpu().detach().numpy())\n",
    "                valScore_list4.append(voting_val_score.cpu().detach().numpy())\n",
    "                TrainLoss_list4.append(vot_loss)\n",
    "                \n",
    "                val_losses.append(val_loss)\n",
    "                val_accs.append(val_acc)\n",
    "                val_mious.append(val_miou)\n",
    "                \n",
    "                print('---')\n",
    "                print('Unet Validation Dice Score: {}     Segnet Validation Dice Score: {}     Enet Validation Dice Score: {}'.format(unet_val_score, segnet_val_score, enet_val_score))\n",
    "                print('---')\n",
    "                print('Ensemble Voting Validation Dice Loss: {}'.format(val_loss))\n",
    "                print('Ensemble Voting Validation Pixel Accuracy: {} '.format(val_acc))\n",
    "                print('Ensemble Voting Validation MIoU: {}'.format(val_miou))                \n",
    "                print('Ensemble Voting Validation Dice Score: {} '.format(voting_val_score))\n",
    "                \n",
    "            else:\n",
    "                val_score, val_loss, val_acc, val_miou = evaluate(model, val_loader, criterion, device, Model_Name, amp)\n",
    "                \n",
    "                                \n",
    "                scheduler.step(val_score)\n",
    "                \n",
    "                print('---')\n",
    "                print('{} Validation Dice Loss: {}'.format(Model_Name, val_loss))   \n",
    "                print('{} Validation Pixel Accuracy: {}'.format(Model_Name, val_acc))\n",
    "                print('{} Validation MIoU: {}'.format(Model_Name, val_miou))\n",
    "                print('{} Validation Dice Score: {}'.format(Model_Name, val_score))\n",
    "                \n",
    "            \n",
    "                valScore_list1.append(val_score.cpu().detach().numpy())\n",
    "                TrainLoss_list1.append(loss.cpu().detach().numpy())\n",
    "                val_losses.append(val_loss)\n",
    "                val_accs.append(val_acc)\n",
    "                val_mious.append(val_miou)\n",
    "\n",
    "        \n",
    "    if save_checkpoint:\n",
    "        Path(dir_checkpoint).mkdir(parents=True, exist_ok=True)\n",
    "        torch.save(model.state_dict(), str(dir_checkpoint / 'checkpoint_epoch{}.pth'.format(epoch + 1)))"
   ]
  },
  {
   "cell_type": "code",
   "execution_count": 10,
   "id": "232d4d6e-12ed-4b30-9b2e-7421289573ad",
   "metadata": {},
   "outputs": [],
   "source": [
    "import pandas as pd\n",
    "import matplotlib.pyplot as plt"
   ]
  },
  {
   "cell_type": "code",
   "execution_count": 11,
   "id": "5e7c3590-63c0-4ee6-bf67-25b012d008d7",
   "metadata": {},
   "outputs": [],
   "source": [
    "df = pd.DataFrame([TrainLoss_list4, val_losses, valScore_list4, val_accs, val_mious]).T\n",
    "df.columns = ['train_loss', 'val_loss', 'val_score', 'val_acc', 'val_miou']\n",
    "df.to_csv(checkpoint_dir + '/model_check.csv', encoding = 'UTF-8')"
   ]
  },
  {
   "cell_type": "code",
   "execution_count": 12,
   "id": "dd533b58-9373-4392-860d-214eba3f4753",
   "metadata": {},
   "outputs": [
    {
     "data": {
      "text/html": [
       "<div>\n",
       "<style scoped>\n",
       "    .dataframe tbody tr th:only-of-type {\n",
       "        vertical-align: middle;\n",
       "    }\n",
       "\n",
       "    .dataframe tbody tr th {\n",
       "        vertical-align: top;\n",
       "    }\n",
       "\n",
       "    .dataframe thead th {\n",
       "        text-align: right;\n",
       "    }\n",
       "</style>\n",
       "<table border=\"1\" class=\"dataframe\">\n",
       "  <thead>\n",
       "    <tr style=\"text-align: right;\">\n",
       "      <th></th>\n",
       "      <th>train_loss</th>\n",
       "      <th>val_loss</th>\n",
       "      <th>val_score</th>\n",
       "      <th>val_acc</th>\n",
       "      <th>val_miou</th>\n",
       "    </tr>\n",
       "  </thead>\n",
       "  <tbody>\n",
       "    <tr>\n",
       "      <th>0</th>\n",
       "      <td>0.767739</td>\n",
       "      <td>1.02659</td>\n",
       "      <td>0.44020754</td>\n",
       "      <td>0.840899</td>\n",
       "      <td>0.54221</td>\n",
       "    </tr>\n",
       "    <tr>\n",
       "      <th>1</th>\n",
       "      <td>0.608496</td>\n",
       "      <td>0.695493</td>\n",
       "      <td>0.7830232</td>\n",
       "      <td>0.930092</td>\n",
       "      <td>0.777362</td>\n",
       "    </tr>\n",
       "    <tr>\n",
       "      <th>2</th>\n",
       "      <td>0.535425</td>\n",
       "      <td>0.599699</td>\n",
       "      <td>0.7986472</td>\n",
       "      <td>0.927551</td>\n",
       "      <td>0.761774</td>\n",
       "    </tr>\n",
       "    <tr>\n",
       "      <th>3</th>\n",
       "      <td>0.492221</td>\n",
       "      <td>0.511132</td>\n",
       "      <td>0.835174</td>\n",
       "      <td>0.945539</td>\n",
       "      <td>0.81752</td>\n",
       "    </tr>\n",
       "    <tr>\n",
       "      <th>4</th>\n",
       "      <td>0.442547</td>\n",
       "      <td>0.528547</td>\n",
       "      <td>0.80182457</td>\n",
       "      <td>0.9315</td>\n",
       "      <td>0.795201</td>\n",
       "    </tr>\n",
       "    <tr>\n",
       "      <th>5</th>\n",
       "      <td>0.417201</td>\n",
       "      <td>0.46019</td>\n",
       "      <td>0.8519273</td>\n",
       "      <td>0.946627</td>\n",
       "      <td>0.830296</td>\n",
       "    </tr>\n",
       "    <tr>\n",
       "      <th>6</th>\n",
       "      <td>0.404961</td>\n",
       "      <td>0.409264</td>\n",
       "      <td>0.862153</td>\n",
       "      <td>0.945894</td>\n",
       "      <td>0.827196</td>\n",
       "    </tr>\n",
       "    <tr>\n",
       "      <th>7</th>\n",
       "      <td>0.346079</td>\n",
       "      <td>0.384581</td>\n",
       "      <td>0.85072726</td>\n",
       "      <td>0.949201</td>\n",
       "      <td>0.830795</td>\n",
       "    </tr>\n",
       "    <tr>\n",
       "      <th>8</th>\n",
       "      <td>0.347319</td>\n",
       "      <td>0.376155</td>\n",
       "      <td>0.87425214</td>\n",
       "      <td>0.949673</td>\n",
       "      <td>0.832725</td>\n",
       "    </tr>\n",
       "    <tr>\n",
       "      <th>9</th>\n",
       "      <td>0.310912</td>\n",
       "      <td>0.334087</td>\n",
       "      <td>0.89330226</td>\n",
       "      <td>0.957242</td>\n",
       "      <td>0.849545</td>\n",
       "    </tr>\n",
       "    <tr>\n",
       "      <th>10</th>\n",
       "      <td>0.298315</td>\n",
       "      <td>0.329846</td>\n",
       "      <td>0.8460143</td>\n",
       "      <td>0.95683</td>\n",
       "      <td>0.855052</td>\n",
       "    </tr>\n",
       "    <tr>\n",
       "      <th>11</th>\n",
       "      <td>0.255664</td>\n",
       "      <td>0.325036</td>\n",
       "      <td>0.8810808</td>\n",
       "      <td>0.946299</td>\n",
       "      <td>0.823246</td>\n",
       "    </tr>\n",
       "    <tr>\n",
       "      <th>12</th>\n",
       "      <td>0.271928</td>\n",
       "      <td>0.330273</td>\n",
       "      <td>0.8685115</td>\n",
       "      <td>0.950221</td>\n",
       "      <td>0.838587</td>\n",
       "    </tr>\n",
       "    <tr>\n",
       "      <th>13</th>\n",
       "      <td>0.231594</td>\n",
       "      <td>0.267068</td>\n",
       "      <td>0.882971</td>\n",
       "      <td>0.963073</td>\n",
       "      <td>0.868447</td>\n",
       "    </tr>\n",
       "    <tr>\n",
       "      <th>14</th>\n",
       "      <td>0.215829</td>\n",
       "      <td>0.267575</td>\n",
       "      <td>0.90306026</td>\n",
       "      <td>0.961583</td>\n",
       "      <td>0.865406</td>\n",
       "    </tr>\n",
       "    <tr>\n",
       "      <th>15</th>\n",
       "      <td>0.208194</td>\n",
       "      <td>0.230117</td>\n",
       "      <td>0.91289616</td>\n",
       "      <td>0.97151</td>\n",
       "      <td>0.898254</td>\n",
       "    </tr>\n",
       "    <tr>\n",
       "      <th>16</th>\n",
       "      <td>0.212382</td>\n",
       "      <td>0.231017</td>\n",
       "      <td>0.9118927</td>\n",
       "      <td>0.967732</td>\n",
       "      <td>0.886592</td>\n",
       "    </tr>\n",
       "    <tr>\n",
       "      <th>17</th>\n",
       "      <td>0.205741</td>\n",
       "      <td>0.236921</td>\n",
       "      <td>0.9133038</td>\n",
       "      <td>0.966729</td>\n",
       "      <td>0.884298</td>\n",
       "    </tr>\n",
       "    <tr>\n",
       "      <th>18</th>\n",
       "      <td>0.211234</td>\n",
       "      <td>0.225662</td>\n",
       "      <td>0.9126815</td>\n",
       "      <td>0.969431</td>\n",
       "      <td>0.893096</td>\n",
       "    </tr>\n",
       "    <tr>\n",
       "      <th>19</th>\n",
       "      <td>0.183645</td>\n",
       "      <td>0.230661</td>\n",
       "      <td>0.9145589</td>\n",
       "      <td>0.96545</td>\n",
       "      <td>0.879619</td>\n",
       "    </tr>\n",
       "    <tr>\n",
       "      <th>20</th>\n",
       "      <td>0.186098</td>\n",
       "      <td>0.233638</td>\n",
       "      <td>0.91594905</td>\n",
       "      <td>0.962657</td>\n",
       "      <td>0.873256</td>\n",
       "    </tr>\n",
       "    <tr>\n",
       "      <th>21</th>\n",
       "      <td>0.185159</td>\n",
       "      <td>0.215149</td>\n",
       "      <td>0.9151621</td>\n",
       "      <td>0.966841</td>\n",
       "      <td>0.885319</td>\n",
       "    </tr>\n",
       "    <tr>\n",
       "      <th>22</th>\n",
       "      <td>0.146545</td>\n",
       "      <td>0.209168</td>\n",
       "      <td>0.91728354</td>\n",
       "      <td>0.968518</td>\n",
       "      <td>0.889597</td>\n",
       "    </tr>\n",
       "    <tr>\n",
       "      <th>23</th>\n",
       "      <td>0.146426</td>\n",
       "      <td>0.226393</td>\n",
       "      <td>0.9152789</td>\n",
       "      <td>0.961891</td>\n",
       "      <td>0.872034</td>\n",
       "    </tr>\n",
       "    <tr>\n",
       "      <th>24</th>\n",
       "      <td>0.169033</td>\n",
       "      <td>0.195261</td>\n",
       "      <td>0.9192832</td>\n",
       "      <td>0.971961</td>\n",
       "      <td>0.897826</td>\n",
       "    </tr>\n",
       "    <tr>\n",
       "      <th>25</th>\n",
       "      <td>0.149434</td>\n",
       "      <td>0.2121</td>\n",
       "      <td>0.91222507</td>\n",
       "      <td>0.966395</td>\n",
       "      <td>0.885382</td>\n",
       "    </tr>\n",
       "    <tr>\n",
       "      <th>26</th>\n",
       "      <td>0.116801</td>\n",
       "      <td>0.204313</td>\n",
       "      <td>0.9194889</td>\n",
       "      <td>0.966012</td>\n",
       "      <td>0.8826</td>\n",
       "    </tr>\n",
       "    <tr>\n",
       "      <th>27</th>\n",
       "      <td>0.122409</td>\n",
       "      <td>0.194306</td>\n",
       "      <td>0.9220485</td>\n",
       "      <td>0.967164</td>\n",
       "      <td>0.885111</td>\n",
       "    </tr>\n",
       "    <tr>\n",
       "      <th>28</th>\n",
       "      <td>0.118207</td>\n",
       "      <td>0.186624</td>\n",
       "      <td>0.92222875</td>\n",
       "      <td>0.969943</td>\n",
       "      <td>0.89361</td>\n",
       "    </tr>\n",
       "    <tr>\n",
       "      <th>29</th>\n",
       "      <td>0.116716</td>\n",
       "      <td>0.190184</td>\n",
       "      <td>0.9195445</td>\n",
       "      <td>0.968899</td>\n",
       "      <td>0.891542</td>\n",
       "    </tr>\n",
       "    <tr>\n",
       "      <th>30</th>\n",
       "      <td>0.122517</td>\n",
       "      <td>0.185874</td>\n",
       "      <td>0.9210083</td>\n",
       "      <td>0.969286</td>\n",
       "      <td>0.892581</td>\n",
       "    </tr>\n",
       "    <tr>\n",
       "      <th>31</th>\n",
       "      <td>0.11644</td>\n",
       "      <td>0.174956</td>\n",
       "      <td>0.9218837</td>\n",
       "      <td>0.971176</td>\n",
       "      <td>0.898289</td>\n",
       "    </tr>\n",
       "    <tr>\n",
       "      <th>32</th>\n",
       "      <td>0.114688</td>\n",
       "      <td>0.189026</td>\n",
       "      <td>0.9203691</td>\n",
       "      <td>0.967751</td>\n",
       "      <td>0.888474</td>\n",
       "    </tr>\n",
       "    <tr>\n",
       "      <th>33</th>\n",
       "      <td>0.112965</td>\n",
       "      <td>0.189918</td>\n",
       "      <td>0.9226589</td>\n",
       "      <td>0.966286</td>\n",
       "      <td>0.883863</td>\n",
       "    </tr>\n",
       "    <tr>\n",
       "      <th>34</th>\n",
       "      <td>0.115204</td>\n",
       "      <td>0.177105</td>\n",
       "      <td>0.9219424</td>\n",
       "      <td>0.971026</td>\n",
       "      <td>0.8981</td>\n",
       "    </tr>\n",
       "    <tr>\n",
       "      <th>35</th>\n",
       "      <td>0.105768</td>\n",
       "      <td>0.17275</td>\n",
       "      <td>0.92371094</td>\n",
       "      <td>0.971705</td>\n",
       "      <td>0.900043</td>\n",
       "    </tr>\n",
       "    <tr>\n",
       "      <th>36</th>\n",
       "      <td>0.108586</td>\n",
       "      <td>0.182623</td>\n",
       "      <td>0.919442</td>\n",
       "      <td>0.968678</td>\n",
       "      <td>0.891765</td>\n",
       "    </tr>\n",
       "    <tr>\n",
       "      <th>37</th>\n",
       "      <td>0.107714</td>\n",
       "      <td>0.170651</td>\n",
       "      <td>0.92179626</td>\n",
       "      <td>0.972177</td>\n",
       "      <td>0.901415</td>\n",
       "    </tr>\n",
       "    <tr>\n",
       "      <th>38</th>\n",
       "      <td>0.104765</td>\n",
       "      <td>0.177542</td>\n",
       "      <td>0.92127556</td>\n",
       "      <td>0.969312</td>\n",
       "      <td>0.892636</td>\n",
       "    </tr>\n",
       "    <tr>\n",
       "      <th>39</th>\n",
       "      <td>0.115483</td>\n",
       "      <td>0.183102</td>\n",
       "      <td>0.9205249</td>\n",
       "      <td>0.96873</td>\n",
       "      <td>0.89154</td>\n",
       "    </tr>\n",
       "    <tr>\n",
       "      <th>40</th>\n",
       "      <td>0.103361</td>\n",
       "      <td>0.182612</td>\n",
       "      <td>0.91992253</td>\n",
       "      <td>0.968257</td>\n",
       "      <td>0.890135</td>\n",
       "    </tr>\n",
       "    <tr>\n",
       "      <th>41</th>\n",
       "      <td>0.119843</td>\n",
       "      <td>0.177937</td>\n",
       "      <td>0.9215359</td>\n",
       "      <td>0.968831</td>\n",
       "      <td>0.891403</td>\n",
       "    </tr>\n",
       "    <tr>\n",
       "      <th>42</th>\n",
       "      <td>0.100162</td>\n",
       "      <td>0.184289</td>\n",
       "      <td>0.9224086</td>\n",
       "      <td>0.966856</td>\n",
       "      <td>0.885471</td>\n",
       "    </tr>\n",
       "    <tr>\n",
       "      <th>43</th>\n",
       "      <td>0.094668</td>\n",
       "      <td>0.18568</td>\n",
       "      <td>0.9184448</td>\n",
       "      <td>0.968241</td>\n",
       "      <td>0.890526</td>\n",
       "    </tr>\n",
       "    <tr>\n",
       "      <th>44</th>\n",
       "      <td>0.120273</td>\n",
       "      <td>0.176682</td>\n",
       "      <td>0.9231228</td>\n",
       "      <td>0.969579</td>\n",
       "      <td>0.893345</td>\n",
       "    </tr>\n",
       "    <tr>\n",
       "      <th>45</th>\n",
       "      <td>0.106632</td>\n",
       "      <td>0.176227</td>\n",
       "      <td>0.9229767</td>\n",
       "      <td>0.969712</td>\n",
       "      <td>0.893845</td>\n",
       "    </tr>\n",
       "    <tr>\n",
       "      <th>46</th>\n",
       "      <td>0.111933</td>\n",
       "      <td>0.181821</td>\n",
       "      <td>0.9211055</td>\n",
       "      <td>0.9689</td>\n",
       "      <td>0.892042</td>\n",
       "    </tr>\n",
       "    <tr>\n",
       "      <th>47</th>\n",
       "      <td>0.103681</td>\n",
       "      <td>0.172537</td>\n",
       "      <td>0.9219066</td>\n",
       "      <td>0.970887</td>\n",
       "      <td>0.897065</td>\n",
       "    </tr>\n",
       "    <tr>\n",
       "      <th>48</th>\n",
       "      <td>0.094354</td>\n",
       "      <td>0.171605</td>\n",
       "      <td>0.92241824</td>\n",
       "      <td>0.971127</td>\n",
       "      <td>0.898037</td>\n",
       "    </tr>\n",
       "    <tr>\n",
       "      <th>49</th>\n",
       "      <td>0.104878</td>\n",
       "      <td>0.180642</td>\n",
       "      <td>0.9205662</td>\n",
       "      <td>0.968227</td>\n",
       "      <td>0.889971</td>\n",
       "    </tr>\n",
       "  </tbody>\n",
       "</table>\n",
       "</div>"
      ],
      "text/plain": [
       "   train_loss  val_loss   val_score   val_acc  val_miou\n",
       "0    0.767739   1.02659  0.44020754  0.840899   0.54221\n",
       "1    0.608496  0.695493   0.7830232  0.930092  0.777362\n",
       "2    0.535425  0.599699   0.7986472  0.927551  0.761774\n",
       "3    0.492221  0.511132    0.835174  0.945539   0.81752\n",
       "4    0.442547  0.528547  0.80182457    0.9315  0.795201\n",
       "5    0.417201   0.46019   0.8519273  0.946627  0.830296\n",
       "6    0.404961  0.409264    0.862153  0.945894  0.827196\n",
       "7    0.346079  0.384581  0.85072726  0.949201  0.830795\n",
       "8    0.347319  0.376155  0.87425214  0.949673  0.832725\n",
       "9    0.310912  0.334087  0.89330226  0.957242  0.849545\n",
       "10   0.298315  0.329846   0.8460143   0.95683  0.855052\n",
       "11   0.255664  0.325036   0.8810808  0.946299  0.823246\n",
       "12   0.271928  0.330273   0.8685115  0.950221  0.838587\n",
       "13   0.231594  0.267068    0.882971  0.963073  0.868447\n",
       "14   0.215829  0.267575  0.90306026  0.961583  0.865406\n",
       "15   0.208194  0.230117  0.91289616   0.97151  0.898254\n",
       "16   0.212382  0.231017   0.9118927  0.967732  0.886592\n",
       "17   0.205741  0.236921   0.9133038  0.966729  0.884298\n",
       "18   0.211234  0.225662   0.9126815  0.969431  0.893096\n",
       "19   0.183645  0.230661   0.9145589   0.96545  0.879619\n",
       "20   0.186098  0.233638  0.91594905  0.962657  0.873256\n",
       "21   0.185159  0.215149   0.9151621  0.966841  0.885319\n",
       "22   0.146545  0.209168  0.91728354  0.968518  0.889597\n",
       "23   0.146426  0.226393   0.9152789  0.961891  0.872034\n",
       "24   0.169033  0.195261   0.9192832  0.971961  0.897826\n",
       "25   0.149434    0.2121  0.91222507  0.966395  0.885382\n",
       "26   0.116801  0.204313   0.9194889  0.966012    0.8826\n",
       "27   0.122409  0.194306   0.9220485  0.967164  0.885111\n",
       "28   0.118207  0.186624  0.92222875  0.969943   0.89361\n",
       "29   0.116716  0.190184   0.9195445  0.968899  0.891542\n",
       "30   0.122517  0.185874   0.9210083  0.969286  0.892581\n",
       "31    0.11644  0.174956   0.9218837  0.971176  0.898289\n",
       "32   0.114688  0.189026   0.9203691  0.967751  0.888474\n",
       "33   0.112965  0.189918   0.9226589  0.966286  0.883863\n",
       "34   0.115204  0.177105   0.9219424  0.971026    0.8981\n",
       "35   0.105768   0.17275  0.92371094  0.971705  0.900043\n",
       "36   0.108586  0.182623    0.919442  0.968678  0.891765\n",
       "37   0.107714  0.170651  0.92179626  0.972177  0.901415\n",
       "38   0.104765  0.177542  0.92127556  0.969312  0.892636\n",
       "39   0.115483  0.183102   0.9205249   0.96873   0.89154\n",
       "40   0.103361  0.182612  0.91992253  0.968257  0.890135\n",
       "41   0.119843  0.177937   0.9215359  0.968831  0.891403\n",
       "42   0.100162  0.184289   0.9224086  0.966856  0.885471\n",
       "43   0.094668   0.18568   0.9184448  0.968241  0.890526\n",
       "44   0.120273  0.176682   0.9231228  0.969579  0.893345\n",
       "45   0.106632  0.176227   0.9229767  0.969712  0.893845\n",
       "46   0.111933  0.181821   0.9211055    0.9689  0.892042\n",
       "47   0.103681  0.172537   0.9219066  0.970887  0.897065\n",
       "48   0.094354  0.171605  0.92241824  0.971127  0.898037\n",
       "49   0.104878  0.180642   0.9205662  0.968227  0.889971"
      ]
     },
     "execution_count": 12,
     "metadata": {},
     "output_type": "execute_result"
    }
   ],
   "source": [
    "df"
   ]
  },
  {
   "cell_type": "code",
   "execution_count": 13,
   "id": "e02024f4-5520-4e80-b5e2-1c0f7d4ad10c",
   "metadata": {},
   "outputs": [
    {
     "data": {
      "text/plain": [
       "[<matplotlib.lines.Line2D at 0x7f606a281850>]"
      ]
     },
     "execution_count": 13,
     "metadata": {},
     "output_type": "execute_result"
    },
    {
     "data": {
      "image/png": "[encoded data removed]",
      "text/plain": [
       "<Figure size 1000x500 with 1 Axes>"
      ]
     },
     "metadata": {},
     "output_type": "display_data"
    }
   ],
   "source": [
    "plt.figure(figsize= (10,5))\n",
    "plt.plot(TrainLoss_list4)\n",
    "plt.plot(val_losses)"
   ]
  },
  {
   "cell_type": "code",
   "execution_count": 14,
   "id": "0af788b9-1d94-4072-af4f-5c83165b18fc",
   "metadata": {},
   "outputs": [
    {
     "data": {
      "text/plain": [
       "[<matplotlib.lines.Line2D at 0x7f606a1fe0d0>]"
      ]
     },
     "execution_count": 14,
     "metadata": {},
     "output_type": "execute_result"
    },
    {
     "data": {
      "image/png": "[encoded data removed]",
      "text/plain": [
       "<Figure size 1000x500 with 1 Axes>"
      ]
     },
     "metadata": {},
     "output_type": "display_data"
    }
   ],
   "source": [
    "plt.figure(figsize= (10,5))\n",
    "plt.plot(valScore_list4)\n",
    "plt.plot(val_accs)\n",
    "plt.plot(val_mious)"
   ]
  },
  {
   "cell_type": "code",
   "execution_count": null,
   "id": "4795b565-b90f-424f-8455-52d43ad2e5ec",
   "metadata": {},
   "outputs": [],
   "source": []
  },
  {
   "cell_type": "code",
   "execution_count": null,
   "id": "720827a2-6d3e-48fb-88bc-bef59c1bab26",
   "metadata": {},
   "outputs": [],
   "source": []
  }
 ],
 "metadata": {
  "kernelspec": {
   "display_name": "ksh",
   "language": "python",
   "name": "ksh"
  },
  "language_info": {
   "codemirror_mode": {
    "name": "ipython",
    "version": 3
   },
   "file_extension": ".py",
   "mimetype": "text/x-python",
   "name": "python",
   "nbconvert_exporter": "python",
   "pygments_lexer": "ipython3",
   "version": "3.7.16"
  }
 },
 "nbformat": 4,
 "nbformat_minor": 5
}
