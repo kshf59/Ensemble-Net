{
 "cells": [
  {
   "cell_type": "code",
   "execution_count": 1,
   "id": "5f271b9d-c9a3-41c5-a2e5-cd21dc79d5b6",
   "metadata": {
    "tags": []
   },
   "outputs": [],
   "source": [
    "import numpy as np\n",
    "from pathlib import Path\n",
    "from PIL import Image\n",
    "from torch.utils.data import DataLoader, random_split\n",
    "import torch\n",
    "from torch import optim\n",
    "import torch.nn as nn\n",
    "from tqdm import tqdm\n",
    "import torch.nn.functional as F\n",
    "import logging\n",
    "from evaluate import evaluate\n",
    "import os\n",
    "import albumentations as A\n",
    "from albumentations.pytorch import ToTensorV2\n",
    "from collections import OrderedDict\n",
    "\n",
    "#from model.unet.unet_model import UNet\n",
    "#from model.segnet.segnet_model import SegNet\n",
    "#from torchvision.models.segmentation import deeplabv3_resnet101 as DeepLabv3\n",
    "from model.ensemblenet_model import EnsembleNet\n",
    "\n",
    "\n",
    "from utils.dice_score import dice_loss\n",
    "from utils.data_load import KittiDataset\n",
    "from torchsummaryX import summary"
   ]
  },
  {
   "cell_type": "code",
   "execution_count": 2,
   "id": "64ae7ca9",
   "metadata": {
    "tags": []
   },
   "outputs": [],
   "source": [
    "Val_Percent = 0.3\n",
    "Scale_Percent = 1.0\n",
    "Batch_Size = 8\n",
    "learning_rate = 0.0001\n",
    "Pin_Memory = False\n",
    "epochs = 50\n",
    "\n",
    "#Image_Size = [384, 1242]\n",
    "Image_Size = [384, 1216]\n",
    "#Image_Size = [384,384]\n",
    "Gradient_Clipping = 0.8\n",
    "\n",
    "#Num_Class = 31\n",
    "#Num_Class = 21\n",
    "Num_Class = 2\n",
    "Num_Channel = 3\n",
    "amp = True\n",
    "\n",
    "Model_Name = 'ensemble_voting'\n",
    "\n",
    "\n",
    "Img_Path =  'data/data_road/training/image_2'\n",
    "Mask_Path =  'data/data_road/training/semantic'\n",
    "\n",
    "save_checkpoint = False\n",
    "checkpoint_dir = '../trained'\n",
    "batch_size = Batch_Size"
   ]
  },
  {
   "cell_type": "code",
   "execution_count": 3,
   "id": "567f8440",
   "metadata": {
    "tags": []
   },
   "outputs": [],
   "source": [
    "dirImg = Path(Img_Path)\n",
    "dirMask = Path(Mask_Path)\n",
    "\n",
    "dir_checkpoint = Path(checkpoint_dir)"
   ]
  },
  {
   "cell_type": "markdown",
   "id": "c67210d1-7567-4b7d-858b-349748c428a0",
   "metadata": {},
   "source": [
    "train_transform = A.Compose([\n",
    "        A.HorizontalFlip(p=0.5),\n",
    "        #A.VerticalFlip(p=0.5),\n",
    "        A.Rotate(limit=30, p=0.5),\n",
    "        #A.RandomBrightnessContrast(p=0.5),\n",
    "        #A.RandomGamma(p=0.5),\n",
    "        #A.RandomSnow(p=0.5),\n",
    "        #A.RandomRain(p=0.5),\n",
    "        #A.RandomFog(p=0.5),\n",
    "        #A.RandomSunFlare(p=0.5),\n",
    "        A.RandomShadow(p=0.5),\n",
    "        #A.RandomToneCurve(p=0.5),\n",
    "        #A.GaussNoise(p=0.5),\n",
    "        #A.Emboss(p=0.5),  # IAAEmboss 대신 Emboss 사용\n",
    "        #A.Perspective(p=0.5),  # IAAPerspective 대신 Perspective 사용\n",
    "        #A.CLAHE(p=0.5)\n",
    "])"
   ]
  },
  {
   "cell_type": "code",
   "execution_count": 4,
   "id": "8e8e3825-8747-4f49-b3ee-eac27522ded2",
   "metadata": {},
   "outputs": [],
   "source": [
    "device = torch.device('cuda' if torch.cuda.is_available() else 'cpu')"
   ]
  },
  {
   "cell_type": "code",
   "execution_count": 5,
   "id": "9a4a35b2-bc69-49e4-b17c-e850f278473d",
   "metadata": {},
   "outputs": [
    {
     "name": "stderr",
     "output_type": "stream",
     "text": [
      "100%|██████████| 289/289 [00:00<00:00, 744.20it/s]\n"
     ]
    }
   ],
   "source": [
    "datasets =  KittiDataset(dirImg, dirMask, Image_Size, Scale_Percent)\n",
    "#datasets =  KittiDataset(dirImg, dirMask, Image_Size, Scale_Percent, train_transform)\n",
    "n_val = int(len(datasets) * Val_Percent)\n",
    "n_train = len(datasets) - n_val\n",
    "train_set, val_set = random_split(datasets, [n_train, n_val], generator=torch.Generator().manual_seed(0))\n",
    "\n",
    "loader_args = dict(batch_size=Batch_Size, num_workers= os.cpu_count(), pin_memory=Pin_Memory)\n",
    "train_loader = DataLoader(train_set, shuffle=True, drop_last = True, **loader_args)\n",
    "val_loader = DataLoader(val_set, shuffle=False, drop_last=True, **loader_args)"
   ]
  },
  {
   "cell_type": "code",
   "execution_count": 6,
   "id": "95b36f40-c709-4e1e-b4f6-66a1954edfd8",
   "metadata": {},
   "outputs": [],
   "source": [
    "model = EnsembleNet(Model_Name, Num_Channel, Num_Class)\n",
    "model = model.to(memory_format=torch.channels_last, device = device)"
   ]
  },
  {
   "cell_type": "code",
   "execution_count": 7,
   "id": "4a29bc96",
   "metadata": {
    "tags": []
   },
   "outputs": [],
   "source": [
    "# 4. Set up the optimizer, the loss, the learning rate scheduler and the loss scaling for AMP\n",
    "#optimizer = optim.RMSprop(model.parameters(), lr=learning_rate, weight_decay=1e-8, momentum=0.9)\n",
    "optimizer = optim.Adam(model.parameters(), lr=learning_rate, weight_decay=1e-8)\n",
    "#optimizer = optim.SGD(model.parameters(), lr=learning_rate, weight_decay=1e-8, momentum=0.9)\n",
    "\n",
    "if 'ensemble_voting' in Model_Name:\n",
    "    unet_scheduler = optim.lr_scheduler.ReduceLROnPlateau(optimizer, 'max', patience=2)  # goal: maximize Dice score\n",
    "    segnet_scheduler = optim.lr_scheduler.ReduceLROnPlateau(optimizer, 'max', patience=2)  # goal: maximize Dice score\n",
    "    enet_scheduler = optim.lr_scheduler.ReduceLROnPlateau(optimizer, 'max', patience=2)  # goal: maximize Dice score\n",
    "    voting_scheduler = optim.lr_scheduler.ReduceLROnPlateau(optimizer, 'max', patience=2)  # goal: maximize Dice score\n",
    "    \n",
    "else:\n",
    "    scheduler = optim.lr_scheduler.ReduceLROnPlateau(optimizer, 'max', patience=2)  # goal: maximize Dice score\n",
    "\n",
    "grad_scaler = torch.cuda.amp.GradScaler(enabled=amp)\n",
    "criterion = nn.CrossEntropyLoss()\n",
    "global_step = 0"
   ]
  },
  {
   "cell_type": "code",
   "execution_count": 8,
   "id": "46e43754-2870-4837-b38a-3f57d6733ddc",
   "metadata": {},
   "outputs": [],
   "source": [
    "def calculate_loss(pred, true_masks, nclass, multiclass):\n",
    "    loss = criterion(pred, true_masks)\n",
    "    loss += dice_loss(\n",
    "        F.softmax(pred, dim=1).float(),\n",
    "        F.one_hot(true_masks, nclass).permute(0, 3, 1, 2).float(),\n",
    "        multiclass=multiclass\n",
    "    )\n",
    "    return loss\n",
    "\n",
    "\n",
    "def forward_and_backward(model, images, true_masks, amp, optimizer, grad_scaler, model_name):\n",
    "    with torch.autocast(device.type if device.type != 'mps' else 'cpu', enabled=amp):\n",
    "        if model_name == 'ensemble_voting':\n",
    "            unet_pred, segnet_pred, enet_pred = model(images)\n",
    "            #deeplab_pred = deeplab_pred['out']\n",
    "        else:\n",
    "            masks_pred = model(images)\n",
    "            if isinstance(masks_pred, OrderedDict):\n",
    "                masks_pred = masks_pred['out']\n",
    "\n",
    "        try:\n",
    "            mn_cls = model.n_classes\n",
    "        except:\n",
    "            mn_cls = model.classifier[-1].out_channels\n",
    "\n",
    "\n",
    "        if model_name == 'ensemble_voting':\n",
    "            unet_loss = calculate_loss(unet_pred, true_masks, mn_cls, multiclass=True)\n",
    "            segnet_loss = calculate_loss(segnet_pred, true_masks, mn_cls, multiclass=True)\n",
    "            enet_loss = calculate_loss(enet_pred, true_masks, mn_cls, multiclass=True)\n",
    "            \n",
    "        else:\n",
    "            loss = calculate_loss(masks_pred, true_masks, mn_cls, multiclass=True)\n",
    "\n",
    "    \n",
    "    \n",
    "    if model_name == 'ensemble_voting':\n",
    "        for pred, loss in zip([unet_pred, segnet_pred, enet_pred], [unet_loss, segnet_loss, enet_loss]):\n",
    "            optimizer.zero_grad(set_to_none=True)\n",
    "            grad_scaler.scale(loss).backward()\n",
    "            torch.nn.utils.clip_grad_norm_(model.parameters(), Gradient_Clipping)\n",
    "            grad_scaler.step(optimizer)\n",
    "            grad_scaler.update()\n",
    "        \n",
    "        return model, unet_loss, segnet_loss, enet_loss\n",
    "    else:\n",
    "        optimizer.zero_grad(set_to_none=True)\n",
    "        grad_scaler.scale(loss).backward()\n",
    "        torch.nn.utils.clip_grad_norm_(model.parameters(), Gradient_Clipping)\n",
    "        grad_scaler.step(optimizer)\n",
    "        grad_scaler.update()\n",
    "        \n",
    "        return model, loss\n"
   ]
  },
  {
   "cell_type": "code",
   "execution_count": 9,
   "id": "8bb76263-8fd8-437d-9204-8ebc2af3de6d",
   "metadata": {},
   "outputs": [
    {
     "name": "stderr",
     "output_type": "stream",
     "text": [
      "Epoch 1/50:  99%|█████████▊| 200/203 [00:17<00:00, 15.09img/s]"
     ]
    },
    {
     "name": "stdout",
     "output_type": "stream",
     "text": [
      "***\n",
      "Unet Loss: 0.542406439781189     Segnet Loss: 0.7919266223907471     Enet Loss: 1.2885218858718872\n",
      "Voting Loss: 0.8742849826812744\n"
     ]
    },
    {
     "name": "stderr",
     "output_type": "stream",
     "text": [
      "Epoch 1/50:  99%|█████████▊| 200/203 [00:20<00:00,  9.68img/s]\n"
     ]
    },
    {
     "name": "stdout",
     "output_type": "stream",
     "text": [
      "---\n",
      "Unet Validation Dice Score: 0.292089581489563     Segnet Validation Dice Score: 0.04844001308083534     Enet Validation Dice Score: 0.23857617378234863\n",
      "Ensemble Voting Validation Dice Loss: 1.1299817562103271\n",
      "Ensemble Voting Validation Pixel Accuracy: 0.7206163908305921 \n",
      "Ensemble Voting Validation MIoU: 0.4878610534310814\n",
      "Ensemble Voting Validation Dice Score: 0.49423789978027344 \n"
     ]
    },
    {
     "name": "stderr",
     "output_type": "stream",
     "text": [
      "Epoch 2/50:  99%|█████████▊| 200/203 [00:15<00:00, 15.03img/s]"
     ]
    },
    {
     "name": "stdout",
     "output_type": "stream",
     "text": [
      "***\n",
      "Unet Loss: 0.37824302911758423     Segnet Loss: 0.42564475536346436     Enet Loss: 1.22086501121521\n",
      "Voting Loss: 0.6749175985654196\n"
     ]
    },
    {
     "name": "stderr",
     "output_type": "stream",
     "text": [
      "Epoch 2/50:  99%|█████████▊| 200/203 [00:18<00:00, 10.61img/s]\n"
     ]
    },
    {
     "name": "stdout",
     "output_type": "stream",
     "text": [
      "---\n",
      "Unet Validation Dice Score: 0.6983385682106018     Segnet Validation Dice Score: 0.6032734513282776     Enet Validation Dice Score: 0.2600294053554535\n",
      "Ensemble Voting Validation Dice Loss: 0.8770807385444641\n",
      "Ensemble Voting Validation Pixel Accuracy: 0.9050060071443257 \n",
      "Ensemble Voting Validation MIoU: 0.7434513241734465\n",
      "Ensemble Voting Validation Dice Score: 0.7629895210266113 \n"
     ]
    },
    {
     "name": "stderr",
     "output_type": "stream",
     "text": [
      "Epoch 3/50:  99%|█████████▊| 200/203 [00:14<00:00, 15.14img/s]"
     ]
    },
    {
     "name": "stdout",
     "output_type": "stream",
     "text": [
      "***\n",
      "Unet Loss: 0.48848459124565125     Segnet Loss: 0.31821760535240173     Enet Loss: 1.148141622543335\n",
      "Voting Loss: 0.6516146063804626\n"
     ]
    },
    {
     "name": "stderr",
     "output_type": "stream",
     "text": [
      "Epoch 3/50:  99%|█████████▊| 200/203 [00:18<00:00, 10.66img/s]\n"
     ]
    },
    {
     "name": "stdout",
     "output_type": "stream",
     "text": [
      "---\n",
      "Unet Validation Dice Score: 0.8135307431221008     Segnet Validation Dice Score: 0.7786495089530945     Enet Validation Dice Score: 0.28871122002601624\n",
      "Ensemble Voting Validation Dice Loss: 0.7605912685394287\n",
      "Ensemble Voting Validation Pixel Accuracy: 0.9346640068188048 \n",
      "Ensemble Voting Validation MIoU: 0.7999504143207377\n",
      "Ensemble Voting Validation Dice Score: 0.8143144845962524 \n"
     ]
    },
    {
     "name": "stderr",
     "output_type": "stream",
     "text": [
      "Epoch 4/50:  99%|█████████▊| 200/203 [00:15<00:00, 14.97img/s]"
     ]
    },
    {
     "name": "stdout",
     "output_type": "stream",
     "text": [
      "***\n",
      "Unet Loss: 0.35519349575042725     Segnet Loss: 0.24076835811138153     Enet Loss: 1.0895929336547852\n",
      "Voting Loss: 0.5618515958388647\n"
     ]
    },
    {
     "name": "stderr",
     "output_type": "stream",
     "text": [
      "Epoch 4/50:  99%|█████████▊| 200/203 [00:19<00:00, 10.50img/s]\n"
     ]
    },
    {
     "name": "stdout",
     "output_type": "stream",
     "text": [
      "---\n",
      "Unet Validation Dice Score: 0.8441233038902283     Segnet Validation Dice Score: 0.8049940466880798     Enet Validation Dice Score: 0.32999712228775024\n",
      "Ensemble Voting Validation Dice Loss: 0.7044591903686523\n",
      "Ensemble Voting Validation Pixel Accuracy: 0.941696702388295 \n",
      "Ensemble Voting Validation MIoU: 0.8114612726860093\n",
      "Ensemble Voting Validation Dice Score: 0.8274636268615723 \n"
     ]
    },
    {
     "name": "stderr",
     "output_type": "stream",
     "text": [
      "Epoch 5/50:  99%|█████████▊| 200/203 [00:15<00:00, 15.09img/s]"
     ]
    },
    {
     "name": "stdout",
     "output_type": "stream",
     "text": [
      "***\n",
      "Unet Loss: 0.3431228995323181     Segnet Loss: 0.21368113160133362     Enet Loss: 0.9984307885169983\n",
      "Voting Loss: 0.5184116065502167\n"
     ]
    },
    {
     "name": "stderr",
     "output_type": "stream",
     "text": [
      "Epoch 5/50:  99%|█████████▊| 200/203 [00:19<00:00, 10.52img/s]\n"
     ]
    },
    {
     "name": "stdout",
     "output_type": "stream",
     "text": [
      "---\n",
      "Unet Validation Dice Score: 0.7826029658317566     Segnet Validation Dice Score: 0.7867178320884705     Enet Validation Dice Score: 0.36346155405044556\n",
      "Ensemble Voting Validation Dice Loss: 0.6738590002059937\n",
      "Ensemble Voting Validation Pixel Accuracy: 0.9470062255859375 \n",
      "Ensemble Voting Validation MIoU: 0.8180415554032676\n",
      "Ensemble Voting Validation Dice Score: 0.7902526259422302 \n"
     ]
    },
    {
     "name": "stderr",
     "output_type": "stream",
     "text": [
      "Epoch 6/50:  99%|█████████▊| 200/203 [00:15<00:00, 15.01img/s]"
     ]
    },
    {
     "name": "stdout",
     "output_type": "stream",
     "text": [
      "***\n",
      "Unet Loss: 0.340021550655365     Segnet Loss: 0.29403963685035706     Enet Loss: 0.9896223545074463\n",
      "Voting Loss: 0.5412278473377228\n"
     ]
    },
    {
     "name": "stderr",
     "output_type": "stream",
     "text": [
      "Epoch 6/50:  99%|█████████▊| 200/203 [00:18<00:00, 10.54img/s]\n"
     ]
    },
    {
     "name": "stdout",
     "output_type": "stream",
     "text": [
      "---\n",
      "Unet Validation Dice Score: 0.851015567779541     Segnet Validation Dice Score: 0.7973423004150391     Enet Validation Dice Score: 0.39318761229515076\n",
      "Ensemble Voting Validation Dice Loss: 0.6452479362487793\n",
      "Ensemble Voting Validation Pixel Accuracy: 0.9577949925472862 \n",
      "Ensemble Voting Validation MIoU: 0.8548504260482981\n",
      "Ensemble Voting Validation Dice Score: 0.8404325842857361 \n"
     ]
    },
    {
     "name": "stderr",
     "output_type": "stream",
     "text": [
      "Epoch 7/50:  99%|█████████▊| 200/203 [00:15<00:00, 15.00img/s]"
     ]
    },
    {
     "name": "stdout",
     "output_type": "stream",
     "text": [
      "***\n",
      "Unet Loss: 0.27638453245162964     Segnet Loss: 0.17112112045288086     Enet Loss: 0.8916230797767639\n",
      "Voting Loss: 0.4463762442270915\n"
     ]
    },
    {
     "name": "stderr",
     "output_type": "stream",
     "text": [
      "Epoch 7/50:  99%|█████████▊| 200/203 [00:18<00:00, 10.59img/s]\n"
     ]
    },
    {
     "name": "stdout",
     "output_type": "stream",
     "text": [
      "---\n",
      "Unet Validation Dice Score: 0.8564050793647766     Segnet Validation Dice Score: 0.8179485201835632     Enet Validation Dice Score: 0.4311284124851227\n",
      "Ensemble Voting Validation Dice Loss: 0.6285169124603271\n",
      "Ensemble Voting Validation Pixel Accuracy: 0.9544899923759594 \n",
      "Ensemble Voting Validation MIoU: 0.8456455232339808\n",
      "Ensemble Voting Validation Dice Score: 0.841321587562561 \n"
     ]
    },
    {
     "name": "stderr",
     "output_type": "stream",
     "text": [
      "Epoch 8/50:  99%|█████████▊| 200/203 [00:15<00:00, 14.98img/s]"
     ]
    },
    {
     "name": "stdout",
     "output_type": "stream",
     "text": [
      "***\n",
      "Unet Loss: 0.25043821334838867     Segnet Loss: 0.1261025369167328     Enet Loss: 0.8257815837860107\n",
      "Voting Loss: 0.4007741113503774\n"
     ]
    },
    {
     "name": "stderr",
     "output_type": "stream",
     "text": [
      "Epoch 8/50:  99%|█████████▊| 200/203 [00:18<00:00, 10.60img/s]\n"
     ]
    },
    {
     "name": "stdout",
     "output_type": "stream",
     "text": [
      "---\n",
      "Unet Validation Dice Score: 0.8512130975723267     Segnet Validation Dice Score: 0.8720275163650513     Enet Validation Dice Score: 0.46191078424453735\n",
      "Ensemble Voting Validation Dice Loss: 0.6092565059661865\n",
      "Ensemble Voting Validation Pixel Accuracy: 0.9501832660875822 \n",
      "Ensemble Voting Validation MIoU: 0.8325300564319011\n",
      "Ensemble Voting Validation Dice Score: 0.8764317631721497 \n"
     ]
    },
    {
     "name": "stderr",
     "output_type": "stream",
     "text": [
      "Epoch 9/50:  99%|█████████▊| 200/203 [00:15<00:00, 14.93img/s]"
     ]
    },
    {
     "name": "stdout",
     "output_type": "stream",
     "text": [
      "***\n",
      "Unet Loss: 0.21186760067939758     Segnet Loss: 0.11929741501808167     Enet Loss: 0.771386981010437\n",
      "Voting Loss: 0.3675173322359721\n"
     ]
    },
    {
     "name": "stderr",
     "output_type": "stream",
     "text": [
      "Epoch 9/50:  99%|█████████▊| 200/203 [00:18<00:00, 10.59img/s]\n"
     ]
    },
    {
     "name": "stdout",
     "output_type": "stream",
     "text": [
      "---\n",
      "Unet Validation Dice Score: 0.8696069121360779     Segnet Validation Dice Score: 0.8726388812065125     Enet Validation Dice Score: 0.4998405873775482\n",
      "Ensemble Voting Validation Dice Loss: 0.589044988155365\n",
      "Ensemble Voting Validation Pixel Accuracy: 0.9581344336794134 \n",
      "Ensemble Voting Validation MIoU: 0.8525150108604951\n",
      "Ensemble Voting Validation Dice Score: 0.8806979060173035 \n"
     ]
    },
    {
     "name": "stderr",
     "output_type": "stream",
     "text": [
      "Epoch 10/50:  99%|█████████▊| 200/203 [00:15<00:00, 15.06img/s]"
     ]
    },
    {
     "name": "stdout",
     "output_type": "stream",
     "text": [
      "***\n",
      "Unet Loss: 0.24922572076320648     Segnet Loss: 0.2036057859659195     Enet Loss: 0.7300693392753601\n",
      "Voting Loss: 0.39430028200149536\n"
     ]
    },
    {
     "name": "stderr",
     "output_type": "stream",
     "text": [
      "Epoch 10/50:  99%|█████████▊| 200/203 [00:18<00:00, 10.53img/s]\n"
     ]
    },
    {
     "name": "stdout",
     "output_type": "stream",
     "text": [
      "---\n",
      "Unet Validation Dice Score: 0.8700249791145325     Segnet Validation Dice Score: 0.8648180961608887     Enet Validation Dice Score: 0.5498294234275818\n",
      "Ensemble Voting Validation Dice Loss: 0.575365424156189\n",
      "Ensemble Voting Validation Pixel Accuracy: 0.9523061116536459 \n",
      "Ensemble Voting Validation MIoU: 0.8417668444240896\n",
      "Ensemble Voting Validation Dice Score: 0.880244255065918 \n"
     ]
    },
    {
     "name": "stderr",
     "output_type": "stream",
     "text": [
      "Epoch 11/50:  99%|█████████▊| 200/203 [00:15<00:00, 14.89img/s]"
     ]
    },
    {
     "name": "stdout",
     "output_type": "stream",
     "text": [
      "***\n",
      "Unet Loss: 0.2341153770685196     Segnet Loss: 0.1663699448108673     Enet Loss: 0.658906102180481\n",
      "Voting Loss: 0.3531304746866226\n"
     ]
    },
    {
     "name": "stderr",
     "output_type": "stream",
     "text": [
      "Epoch 11/50:  99%|█████████▊| 200/203 [00:19<00:00, 10.52img/s]\n"
     ]
    },
    {
     "name": "stdout",
     "output_type": "stream",
     "text": [
      "---\n",
      "Unet Validation Dice Score: 0.8613762259483337     Segnet Validation Dice Score: 0.8771787881851196     Enet Validation Dice Score: 0.6005163192749023\n",
      "Ensemble Voting Validation Dice Loss: 0.5650304555892944\n",
      "Ensemble Voting Validation Pixel Accuracy: 0.9539974279570997 \n",
      "Ensemble Voting Validation MIoU: 0.8462856765881965\n",
      "Ensemble Voting Validation Dice Score: 0.878797173500061 \n"
     ]
    },
    {
     "name": "stderr",
     "output_type": "stream",
     "text": [
      "Epoch 12/50:  99%|█████████▊| 200/203 [00:15<00:00, 14.76img/s]"
     ]
    },
    {
     "name": "stdout",
     "output_type": "stream",
     "text": [
      "***\n",
      "Unet Loss: 0.19660058617591858     Segnet Loss: 0.11234694719314575     Enet Loss: 0.6482080817222595\n",
      "Voting Loss: 0.31905187169710797\n"
     ]
    },
    {
     "name": "stderr",
     "output_type": "stream",
     "text": [
      "Epoch 12/50:  99%|█████████▊| 200/203 [00:19<00:00, 10.39img/s]\n"
     ]
    },
    {
     "name": "stdout",
     "output_type": "stream",
     "text": [
      "---\n",
      "Unet Validation Dice Score: 0.8753711581230164     Segnet Validation Dice Score: 0.8845376968383789     Enet Validation Dice Score: 0.6469921469688416\n",
      "Ensemble Voting Validation Dice Loss: 0.5451338291168213\n",
      "Ensemble Voting Validation Pixel Accuracy: 0.9560809219092653 \n",
      "Ensemble Voting Validation MIoU: 0.851415879326654\n",
      "Ensemble Voting Validation Dice Score: 0.8887322545051575 \n"
     ]
    },
    {
     "name": "stderr",
     "output_type": "stream",
     "text": [
      "Epoch 13/50:  99%|█████████▊| 200/203 [00:15<00:00, 15.08img/s]"
     ]
    },
    {
     "name": "stdout",
     "output_type": "stream",
     "text": [
      "***\n",
      "Unet Loss: 0.1762065291404724     Segnet Loss: 0.09654633700847626     Enet Loss: 0.6164236068725586\n",
      "Voting Loss: 0.29639215767383575\n"
     ]
    },
    {
     "name": "stderr",
     "output_type": "stream",
     "text": [
      "Epoch 13/50:  99%|█████████▊| 200/203 [00:18<00:00, 10.55img/s]\n"
     ]
    },
    {
     "name": "stdout",
     "output_type": "stream",
     "text": [
      "---\n",
      "Unet Validation Dice Score: 0.8983237147331238     Segnet Validation Dice Score: 0.8800918459892273     Enet Validation Dice Score: 0.6951029300689697\n",
      "Ensemble Voting Validation Dice Loss: 0.5254415273666382\n",
      "Ensemble Voting Validation Pixel Accuracy: 0.966921889991091 \n",
      "Ensemble Voting Validation MIoU: 0.8835619913918172\n",
      "Ensemble Voting Validation Dice Score: 0.8951454162597656 \n"
     ]
    },
    {
     "name": "stderr",
     "output_type": "stream",
     "text": [
      "Epoch 14/50:  99%|█████████▊| 200/203 [00:15<00:00, 15.03img/s]"
     ]
    },
    {
     "name": "stdout",
     "output_type": "stream",
     "text": [
      "***\n",
      "Unet Loss: 0.14301201701164246     Segnet Loss: 0.0783495157957077     Enet Loss: 0.556616485118866\n",
      "Voting Loss: 0.2593260059754054\n"
     ]
    },
    {
     "name": "stderr",
     "output_type": "stream",
     "text": [
      "Epoch 14/50:  99%|█████████▊| 200/203 [00:19<00:00, 10.51img/s]\n"
     ]
    },
    {
     "name": "stdout",
     "output_type": "stream",
     "text": [
      "---\n",
      "Unet Validation Dice Score: 0.8609794974327087     Segnet Validation Dice Score: 0.8963446617126465     Enet Validation Dice Score: 0.7250399589538574\n",
      "Ensemble Voting Validation Dice Loss: 0.5267705917358398\n",
      "Ensemble Voting Validation Pixel Accuracy: 0.9611441628974781 \n",
      "Ensemble Voting Validation MIoU: 0.8678398459572974\n",
      "Ensemble Voting Validation Dice Score: 0.8957527279853821 \n"
     ]
    },
    {
     "name": "stderr",
     "output_type": "stream",
     "text": [
      "Epoch 15/50:  99%|█████████▊| 200/203 [00:15<00:00, 14.90img/s]"
     ]
    },
    {
     "name": "stdout",
     "output_type": "stream",
     "text": [
      "***\n",
      "Unet Loss: 0.14893028140068054     Segnet Loss: 0.07744194567203522     Enet Loss: 0.5215308666229248\n",
      "Voting Loss: 0.2493010312318802\n"
     ]
    },
    {
     "name": "stderr",
     "output_type": "stream",
     "text": [
      "Epoch 15/50:  99%|█████████▊| 200/203 [00:18<00:00, 10.58img/s]\n"
     ]
    },
    {
     "name": "stdout",
     "output_type": "stream",
     "text": [
      "---\n",
      "Unet Validation Dice Score: 0.9002301096916199     Segnet Validation Dice Score: 0.8775755763053894     Enet Validation Dice Score: 0.7590028047561646\n",
      "Ensemble Voting Validation Dice Loss: 0.5126014351844788\n",
      "Ensemble Voting Validation Pixel Accuracy: 0.9643857186300713 \n",
      "Ensemble Voting Validation MIoU: 0.8763130636697047\n",
      "Ensemble Voting Validation Dice Score: 0.8916783332824707 \n"
     ]
    },
    {
     "name": "stderr",
     "output_type": "stream",
     "text": [
      "Epoch 16/50:  99%|█████████▊| 200/203 [00:15<00:00, 15.23img/s]"
     ]
    },
    {
     "name": "stdout",
     "output_type": "stream",
     "text": [
      "***\n",
      "Unet Loss: 0.1266556978225708     Segnet Loss: 0.08641234040260315     Enet Loss: 0.4667934477329254\n",
      "Voting Loss: 0.22662049531936646\n"
     ]
    },
    {
     "name": "stderr",
     "output_type": "stream",
     "text": [
      "Epoch 16/50:  99%|█████████▊| 200/203 [00:18<00:00, 10.69img/s]\n"
     ]
    },
    {
     "name": "stdout",
     "output_type": "stream",
     "text": [
      "---\n",
      "Unet Validation Dice Score: 0.8953005075454712     Segnet Validation Dice Score: 0.8856419920921326     Enet Validation Dice Score: 0.7868170142173767\n",
      "Ensemble Voting Validation Dice Loss: 0.512229323387146\n",
      "Ensemble Voting Validation Pixel Accuracy: 0.954507125051398 \n",
      "Ensemble Voting Validation MIoU: 0.8505613060658925\n",
      "Ensemble Voting Validation Dice Score: 0.8975419998168945 \n"
     ]
    },
    {
     "name": "stderr",
     "output_type": "stream",
     "text": [
      "Epoch 17/50:  99%|█████████▊| 200/203 [00:14<00:00, 14.89img/s]"
     ]
    },
    {
     "name": "stdout",
     "output_type": "stream",
     "text": [
      "***\n",
      "Unet Loss: 0.19041699171066284     Segnet Loss: 0.15531215071678162     Enet Loss: 0.5064774751663208\n",
      "Voting Loss: 0.28406887253125507\n"
     ]
    },
    {
     "name": "stderr",
     "output_type": "stream",
     "text": [
      "Epoch 17/50:  99%|█████████▊| 200/203 [00:18<00:00, 10.67img/s]\n"
     ]
    },
    {
     "name": "stdout",
     "output_type": "stream",
     "text": [
      "---\n",
      "Unet Validation Dice Score: 0.8752042055130005     Segnet Validation Dice Score: 0.8915035128593445     Enet Validation Dice Score: 0.788374662399292\n",
      "Ensemble Voting Validation Dice Loss: 0.5014064311981201\n",
      "Ensemble Voting Validation Pixel Accuracy: 0.9630798875239858 \n",
      "Ensemble Voting Validation MIoU: 0.8714119766415117\n",
      "Ensemble Voting Validation Dice Score: 0.8949801325798035 \n"
     ]
    },
    {
     "name": "stderr",
     "output_type": "stream",
     "text": [
      "Epoch 18/50:  99%|█████████▊| 200/203 [00:15<00:00, 14.81img/s]"
     ]
    },
    {
     "name": "stdout",
     "output_type": "stream",
     "text": [
      "***\n",
      "Unet Loss: 0.10616032034158707     Segnet Loss: 0.05496423318982124     Enet Loss: 0.45331135392189026\n",
      "Voting Loss: 0.20481196915109953\n"
     ]
    },
    {
     "name": "stderr",
     "output_type": "stream",
     "text": [
      "Epoch 18/50:  99%|█████████▊| 200/203 [00:18<00:00, 10.56img/s]\n"
     ]
    },
    {
     "name": "stdout",
     "output_type": "stream",
     "text": [
      "---\n",
      "Unet Validation Dice Score: 0.9087509512901306     Segnet Validation Dice Score: 0.9006879925727844     Enet Validation Dice Score: 0.8038482069969177\n",
      "Ensemble Voting Validation Dice Loss: 0.49279460310935974\n",
      "Ensemble Voting Validation Pixel Accuracy: 0.9643024645353618 \n",
      "Ensemble Voting Validation MIoU: 0.8774370540656015\n",
      "Ensemble Voting Validation Dice Score: 0.9088229537010193 \n"
     ]
    },
    {
     "name": "stderr",
     "output_type": "stream",
     "text": [
      "Epoch 19/50:  99%|█████████▊| 200/203 [00:15<00:00, 14.92img/s]"
     ]
    },
    {
     "name": "stdout",
     "output_type": "stream",
     "text": [
      "***\n",
      "Unet Loss: 0.10090000182390213     Segnet Loss: 0.05788818746805191     Enet Loss: 0.47209617495536804\n",
      "Voting Loss: 0.2102947880824407\n"
     ]
    },
    {
     "name": "stderr",
     "output_type": "stream",
     "text": [
      "Epoch 19/50:  99%|█████████▊| 200/203 [00:18<00:00, 10.56img/s]\n"
     ]
    },
    {
     "name": "stdout",
     "output_type": "stream",
     "text": [
      "---\n",
      "Unet Validation Dice Score: 0.9071747064590454     Segnet Validation Dice Score: 0.9057804346084595     Enet Validation Dice Score: 0.8099889755249023\n",
      "Ensemble Voting Validation Dice Loss: 0.490556925535202\n",
      "Ensemble Voting Validation Pixel Accuracy: 0.9622880366810581 \n",
      "Ensemble Voting Validation MIoU: 0.8709426612139985\n",
      "Ensemble Voting Validation Dice Score: 0.9105812311172485 \n"
     ]
    },
    {
     "name": "stderr",
     "output_type": "stream",
     "text": [
      "Epoch 20/50:  99%|█████████▊| 200/203 [00:15<00:00, 14.98img/s]"
     ]
    },
    {
     "name": "stdout",
     "output_type": "stream",
     "text": [
      "***\n",
      "Unet Loss: 0.1190396398305893     Segnet Loss: 0.05204362794756889     Enet Loss: 0.4616027772426605\n",
      "Voting Loss: 0.2108953483402729\n"
     ]
    },
    {
     "name": "stderr",
     "output_type": "stream",
     "text": [
      "Epoch 20/50:  99%|█████████▊| 200/203 [00:18<00:00, 10.53img/s]\n"
     ]
    },
    {
     "name": "stdout",
     "output_type": "stream",
     "text": [
      "---\n",
      "Unet Validation Dice Score: 0.9080420732498169     Segnet Validation Dice Score: 0.9037579894065857     Enet Validation Dice Score: 0.8099403381347656\n",
      "Ensemble Voting Validation Dice Loss: 0.4898671507835388\n",
      "Ensemble Voting Validation Pixel Accuracy: 0.9625329804002193 \n",
      "Ensemble Voting Validation MIoU: 0.8720427424300858\n",
      "Ensemble Voting Validation Dice Score: 0.9079553484916687 \n"
     ]
    },
    {
     "name": "stderr",
     "output_type": "stream",
     "text": [
      "Epoch 21/50:  99%|█████████▊| 200/203 [00:14<00:00, 14.95img/s]"
     ]
    },
    {
     "name": "stdout",
     "output_type": "stream",
     "text": [
      "***\n",
      "Unet Loss: 0.11295606940984726     Segnet Loss: 0.04830923676490784     Enet Loss: 0.4528631865978241\n",
      "Voting Loss: 0.20470949759085974\n"
     ]
    },
    {
     "name": "stderr",
     "output_type": "stream",
     "text": [
      "Epoch 21/50:  99%|█████████▊| 200/203 [00:18<00:00, 10.71img/s]\n"
     ]
    },
    {
     "name": "stdout",
     "output_type": "stream",
     "text": [
      "---\n",
      "Unet Validation Dice Score: 0.9115101099014282     Segnet Validation Dice Score: 0.9058424234390259     Enet Validation Dice Score: 0.8144761323928833\n",
      "Ensemble Voting Validation Dice Loss: 0.4846401810646057\n",
      "Ensemble Voting Validation Pixel Accuracy: 0.9667620742530153 \n",
      "Ensemble Voting Validation MIoU: 0.8841889663167608\n",
      "Ensemble Voting Validation Dice Score: 0.9134203195571899 \n"
     ]
    },
    {
     "name": "stderr",
     "output_type": "stream",
     "text": [
      "Epoch 22/50:  99%|█████████▊| 200/203 [00:15<00:00, 15.08img/s]"
     ]
    },
    {
     "name": "stdout",
     "output_type": "stream",
     "text": [
      "***\n",
      "Unet Loss: 0.09437689185142517     Segnet Loss: 0.052877187728881836     Enet Loss: 0.42857158184051514\n",
      "Voting Loss: 0.19194188714027405\n"
     ]
    },
    {
     "name": "stderr",
     "output_type": "stream",
     "text": [
      "Epoch 22/50:  99%|█████████▊| 200/203 [00:18<00:00, 10.61img/s]\n"
     ]
    },
    {
     "name": "stdout",
     "output_type": "stream",
     "text": [
      "---\n",
      "Unet Validation Dice Score: 0.9128373265266418     Segnet Validation Dice Score: 0.9103863835334778     Enet Validation Dice Score: 0.8197205662727356\n",
      "Ensemble Voting Validation Dice Loss: 0.4825851321220398\n",
      "Ensemble Voting Validation Pixel Accuracy: 0.9658660888671875 \n",
      "Ensemble Voting Validation MIoU: 0.880547360346158\n",
      "Ensemble Voting Validation Dice Score: 0.9161738753318787 \n"
     ]
    },
    {
     "name": "stderr",
     "output_type": "stream",
     "text": [
      "Epoch 23/50:  99%|█████████▊| 200/203 [00:15<00:00, 14.90img/s]"
     ]
    },
    {
     "name": "stdout",
     "output_type": "stream",
     "text": [
      "***\n",
      "Unet Loss: 0.09092946350574493     Segnet Loss: 0.040023140609264374     Enet Loss: 0.44000256061553955\n",
      "Voting Loss: 0.1903183882435163\n"
     ]
    },
    {
     "name": "stderr",
     "output_type": "stream",
     "text": [
      "Epoch 23/50:  99%|█████████▊| 200/203 [00:18<00:00, 10.62img/s]\n"
     ]
    },
    {
     "name": "stdout",
     "output_type": "stream",
     "text": [
      "---\n",
      "Unet Validation Dice Score: 0.9131395220756531     Segnet Validation Dice Score: 0.9113618731498718     Enet Validation Dice Score: 0.8173961639404297\n",
      "Ensemble Voting Validation Dice Loss: 0.48481476306915283\n",
      "Ensemble Voting Validation Pixel Accuracy: 0.9639199240165844 \n",
      "Ensemble Voting Validation MIoU: 0.8764791946945439\n",
      "Ensemble Voting Validation Dice Score: 0.9152920842170715 \n"
     ]
    },
    {
     "name": "stderr",
     "output_type": "stream",
     "text": [
      "Epoch 24/50:  99%|█████████▊| 200/203 [00:15<00:00, 15.02img/s]"
     ]
    },
    {
     "name": "stdout",
     "output_type": "stream",
     "text": [
      "***\n",
      "Unet Loss: 0.09846432507038116     Segnet Loss: 0.0436219722032547     Enet Loss: 0.44236671924591064\n",
      "Voting Loss: 0.19481767217318216\n"
     ]
    },
    {
     "name": "stderr",
     "output_type": "stream",
     "text": [
      "Epoch 24/50:  99%|█████████▊| 200/203 [00:18<00:00, 10.71img/s]\n"
     ]
    },
    {
     "name": "stdout",
     "output_type": "stream",
     "text": [
      "---\n",
      "Unet Validation Dice Score: 0.9101582765579224     Segnet Validation Dice Score: 0.9073487520217896     Enet Validation Dice Score: 0.8182634711265564\n",
      "Ensemble Voting Validation Dice Loss: 0.4809935986995697\n",
      "Ensemble Voting Validation Pixel Accuracy: 0.9664108544065241 \n",
      "Ensemble Voting Validation MIoU: 0.8828475141177439\n",
      "Ensemble Voting Validation Dice Score: 0.9111350178718567 \n"
     ]
    },
    {
     "name": "stderr",
     "output_type": "stream",
     "text": [
      "Epoch 25/50:  99%|█████████▊| 200/203 [00:15<00:00, 14.86img/s]"
     ]
    },
    {
     "name": "stdout",
     "output_type": "stream",
     "text": [
      "***\n",
      "Unet Loss: 0.08753557503223419     Segnet Loss: 0.03951941430568695     Enet Loss: 0.46066412329673767\n",
      "Voting Loss: 0.1959063708782196\n"
     ]
    },
    {
     "name": "stderr",
     "output_type": "stream",
     "text": [
      "Epoch 25/50:  99%|█████████▊| 200/203 [00:18<00:00, 10.64img/s]\n"
     ]
    },
    {
     "name": "stdout",
     "output_type": "stream",
     "text": [
      "---\n",
      "Unet Validation Dice Score: 0.9099565744400024     Segnet Validation Dice Score: 0.9095298647880554     Enet Validation Dice Score: 0.819913387298584\n",
      "Ensemble Voting Validation Dice Loss: 0.47998905181884766\n",
      "Ensemble Voting Validation Pixel Accuracy: 0.9658401221559759 \n",
      "Ensemble Voting Validation MIoU: 0.8809683525155736\n",
      "Ensemble Voting Validation Dice Score: 0.9117175340652466 \n"
     ]
    },
    {
     "name": "stderr",
     "output_type": "stream",
     "text": [
      "Epoch 26/50:  99%|█████████▊| 200/203 [00:15<00:00, 14.97img/s]"
     ]
    },
    {
     "name": "stdout",
     "output_type": "stream",
     "text": [
      "***\n",
      "Unet Loss: 0.09434114396572113     Segnet Loss: 0.04953456297516823     Enet Loss: 0.46231845021247864\n",
      "Voting Loss: 0.20206471905112267\n"
     ]
    },
    {
     "name": "stderr",
     "output_type": "stream",
     "text": [
      "Epoch 26/50:  99%|█████████▊| 200/203 [00:18<00:00, 10.58img/s]\n"
     ]
    },
    {
     "name": "stdout",
     "output_type": "stream",
     "text": [
      "---\n",
      "Unet Validation Dice Score: 0.9124830365180969     Segnet Validation Dice Score: 0.9064361453056335     Enet Validation Dice Score: 0.8190479278564453\n",
      "Ensemble Voting Validation Dice Loss: 0.47898051142692566\n",
      "Ensemble Voting Validation Pixel Accuracy: 0.9671475594503838 \n",
      "Ensemble Voting Validation MIoU: 0.8848091175941536\n",
      "Ensemble Voting Validation Dice Score: 0.9108375906944275 \n"
     ]
    },
    {
     "name": "stderr",
     "output_type": "stream",
     "text": [
      "Epoch 27/50:  99%|█████████▊| 200/203 [00:15<00:00, 14.97img/s]"
     ]
    },
    {
     "name": "stdout",
     "output_type": "stream",
     "text": [
      "***\n",
      "Unet Loss: 0.09981108456850052     Segnet Loss: 0.03466620296239853     Enet Loss: 0.4515515863895416\n",
      "Voting Loss: 0.19534295797348022\n"
     ]
    },
    {
     "name": "stderr",
     "output_type": "stream",
     "text": [
      "Epoch 27/50:  99%|█████████▊| 200/203 [00:18<00:00, 10.56img/s]\n"
     ]
    },
    {
     "name": "stdout",
     "output_type": "stream",
     "text": [
      "---\n",
      "Unet Validation Dice Score: 0.9135743975639343     Segnet Validation Dice Score: 0.9056650400161743     Enet Validation Dice Score: 0.8178152441978455\n",
      "Ensemble Voting Validation Dice Loss: 0.48193252086639404\n",
      "Ensemble Voting Validation Pixel Accuracy: 0.9641911021450109 \n",
      "Ensemble Voting Validation MIoU: 0.8771972664183983\n",
      "Ensemble Voting Validation Dice Score: 0.9094889760017395 \n"
     ]
    },
    {
     "name": "stderr",
     "output_type": "stream",
     "text": [
      "Epoch 28/50:  99%|█████████▊| 200/203 [00:14<00:00, 15.04img/s]"
     ]
    },
    {
     "name": "stdout",
     "output_type": "stream",
     "text": [
      "***\n",
      "Unet Loss: 0.09645399451255798     Segnet Loss: 0.047313690185546875     Enet Loss: 0.47630077600479126\n",
      "Voting Loss: 0.20668948690096536\n"
     ]
    },
    {
     "name": "stderr",
     "output_type": "stream",
     "text": [
      "Epoch 28/50:  99%|█████████▊| 200/203 [00:18<00:00, 10.61img/s]\n"
     ]
    },
    {
     "name": "stdout",
     "output_type": "stream",
     "text": [
      "---\n",
      "Unet Validation Dice Score: 0.9135347604751587     Segnet Validation Dice Score: 0.9132234454154968     Enet Validation Dice Score: 0.8170506358146667\n",
      "Ensemble Voting Validation Dice Loss: 0.47913113236427307\n",
      "Ensemble Voting Validation Pixel Accuracy: 0.9659437213027686 \n",
      "Ensemble Voting Validation MIoU: 0.8812873770058933\n",
      "Ensemble Voting Validation Dice Score: 0.9148734211921692 \n"
     ]
    },
    {
     "name": "stderr",
     "output_type": "stream",
     "text": [
      "Epoch 29/50:  99%|█████████▊| 200/203 [00:15<00:00, 15.01img/s]"
     ]
    },
    {
     "name": "stdout",
     "output_type": "stream",
     "text": [
      "***\n",
      "Unet Loss: 0.08668605983257294     Segnet Loss: 0.034917108714580536     Enet Loss: 0.47452157735824585\n",
      "Voting Loss: 0.19870824863513312\n"
     ]
    },
    {
     "name": "stderr",
     "output_type": "stream",
     "text": [
      "Epoch 29/50:  99%|█████████▊| 200/203 [00:18<00:00, 10.58img/s]\n"
     ]
    },
    {
     "name": "stdout",
     "output_type": "stream",
     "text": [
      "---\n",
      "Unet Validation Dice Score: 0.9132782220840454     Segnet Validation Dice Score: 0.9141495823860168     Enet Validation Dice Score: 0.8210126161575317\n",
      "Ensemble Voting Validation Dice Loss: 0.4783153235912323\n",
      "Ensemble Voting Validation Pixel Accuracy: 0.9664194207442435 \n",
      "Ensemble Voting Validation MIoU: 0.8828347117475589\n",
      "Ensemble Voting Validation Dice Score: 0.9154825210571289 \n"
     ]
    },
    {
     "name": "stderr",
     "output_type": "stream",
     "text": [
      "Epoch 30/50:  99%|█████████▊| 200/203 [00:15<00:00, 15.03img/s]"
     ]
    },
    {
     "name": "stdout",
     "output_type": "stream",
     "text": [
      "***\n",
      "Unet Loss: 0.09562961757183075     Segnet Loss: 0.04742284491658211     Enet Loss: 0.4841967523097992\n",
      "Voting Loss: 0.209083071599404\n"
     ]
    },
    {
     "name": "stderr",
     "output_type": "stream",
     "text": [
      "Epoch 30/50:  99%|█████████▊| 200/203 [00:19<00:00, 10.52img/s]\n"
     ]
    },
    {
     "name": "stdout",
     "output_type": "stream",
     "text": [
      "---\n",
      "Unet Validation Dice Score: 0.9135751128196716     Segnet Validation Dice Score: 0.9112734198570251     Enet Validation Dice Score: 0.8188421130180359\n",
      "Ensemble Voting Validation Dice Loss: 0.4785026013851166\n",
      "Ensemble Voting Validation Pixel Accuracy: 0.9659140068188048 \n",
      "Ensemble Voting Validation MIoU: 0.8814923383161379\n",
      "Ensemble Voting Validation Dice Score: 0.9136545062065125 \n"
     ]
    },
    {
     "name": "stderr",
     "output_type": "stream",
     "text": [
      "Epoch 31/50:  99%|█████████▊| 200/203 [00:15<00:00, 15.09img/s]"
     ]
    },
    {
     "name": "stdout",
     "output_type": "stream",
     "text": [
      "***\n",
      "Unet Loss: 0.09519800543785095     Segnet Loss: 0.04189995676279068     Enet Loss: 0.4648716449737549\n",
      "Voting Loss: 0.20065653572479883\n"
     ]
    },
    {
     "name": "stderr",
     "output_type": "stream",
     "text": [
      "Epoch 31/50:  99%|█████████▊| 200/203 [00:18<00:00, 10.68img/s]\n"
     ]
    },
    {
     "name": "stdout",
     "output_type": "stream",
     "text": [
      "---\n",
      "Unet Validation Dice Score: 0.9133793115615845     Segnet Validation Dice Score: 0.909902036190033     Enet Validation Dice Score: 0.8196752667427063\n",
      "Ensemble Voting Validation Dice Loss: 0.47936132550239563\n",
      "Ensemble Voting Validation Pixel Accuracy: 0.9664997301603618 \n",
      "Ensemble Voting Validation MIoU: 0.8832029245740609\n",
      "Ensemble Voting Validation Dice Score: 0.9126541018486023 \n"
     ]
    },
    {
     "name": "stderr",
     "output_type": "stream",
     "text": [
      "Epoch 32/50:  99%|█████████▊| 200/203 [00:15<00:00, 15.05img/s]"
     ]
    },
    {
     "name": "stdout",
     "output_type": "stream",
     "text": [
      "***\n",
      "Unet Loss: 0.09537160396575928     Segnet Loss: 0.04265289008617401     Enet Loss: 0.4369484782218933\n",
      "Voting Loss: 0.19165765742460886\n"
     ]
    },
    {
     "name": "stderr",
     "output_type": "stream",
     "text": [
      "Epoch 32/50:  99%|█████████▊| 200/203 [00:18<00:00, 10.65img/s]\n"
     ]
    },
    {
     "name": "stdout",
     "output_type": "stream",
     "text": [
      "---\n",
      "Unet Validation Dice Score: 0.913506031036377     Segnet Validation Dice Score: 0.9076606631278992     Enet Validation Dice Score: 0.8193643689155579\n",
      "Ensemble Voting Validation Dice Loss: 0.48154982924461365\n",
      "Ensemble Voting Validation Pixel Accuracy: 0.964922453227796 \n",
      "Ensemble Voting Validation MIoU: 0.8792577870897954\n",
      "Ensemble Voting Validation Dice Score: 0.9108888506889343 \n"
     ]
    },
    {
     "name": "stderr",
     "output_type": "stream",
     "text": [
      "Epoch 33/50:  99%|█████████▊| 200/203 [00:15<00:00, 15.09img/s]"
     ]
    },
    {
     "name": "stdout",
     "output_type": "stream",
     "text": [
      "***\n",
      "Unet Loss: 0.08714373409748077     Segnet Loss: 0.0372341126203537     Enet Loss: 0.4081506133079529\n",
      "Voting Loss: 0.17750948667526245\n"
     ]
    },
    {
     "name": "stderr",
     "output_type": "stream",
     "text": [
      "Epoch 33/50:  99%|█████████▊| 200/203 [00:18<00:00, 10.65img/s]\n"
     ]
    },
    {
     "ename": "KeyboardInterrupt",
     "evalue": "",
     "output_type": "error",
     "traceback": [
      "\u001b[0;31m---------------------------------------------------------------------------\u001b[0m",
      "\u001b[0;31mKeyboardInterrupt\u001b[0m                         Traceback (most recent call last)",
      "\u001b[0;32m/tmp/ipykernel_582763/3217341026.py\u001b[0m in \u001b[0;36m<module>\u001b[0;34m\u001b[0m\n\u001b[1;32m     68\u001b[0m             \u001b[0;31m#if global_step % division_step == 0:\u001b[0m\u001b[0;34m\u001b[0m\u001b[0;34m\u001b[0m\u001b[0;34m\u001b[0m\u001b[0m\n\u001b[1;32m     69\u001b[0m             \u001b[0;32mif\u001b[0m \u001b[0mlen\u001b[0m\u001b[0;34m(\u001b[0m\u001b[0mresult\u001b[0m\u001b[0;34m)\u001b[0m \u001b[0;34m==\u001b[0m \u001b[0;36m4\u001b[0m\u001b[0;34m:\u001b[0m\u001b[0;34m\u001b[0m\u001b[0;34m\u001b[0m\u001b[0m\n\u001b[0;32m---> 70\u001b[0;31m                 \u001b[0munet_val_score\u001b[0m\u001b[0;34m,\u001b[0m \u001b[0msegnet_val_score\u001b[0m\u001b[0;34m,\u001b[0m \u001b[0menet_val_score\u001b[0m\u001b[0;34m,\u001b[0m \u001b[0mvoting_val_score\u001b[0m\u001b[0;34m,\u001b[0m \u001b[0mval_loss\u001b[0m\u001b[0;34m,\u001b[0m \u001b[0mval_acc\u001b[0m\u001b[0;34m,\u001b[0m \u001b[0mval_miou\u001b[0m \u001b[0;34m=\u001b[0m \u001b[0mevaluate\u001b[0m\u001b[0;34m(\u001b[0m\u001b[0mmodel\u001b[0m\u001b[0;34m,\u001b[0m \u001b[0mval_loader\u001b[0m\u001b[0;34m,\u001b[0m \u001b[0mcriterion\u001b[0m\u001b[0;34m,\u001b[0m \u001b[0mdevice\u001b[0m\u001b[0;34m,\u001b[0m \u001b[0mModel_Name\u001b[0m\u001b[0;34m,\u001b[0m \u001b[0mamp\u001b[0m\u001b[0;34m)\u001b[0m\u001b[0;34m\u001b[0m\u001b[0;34m\u001b[0m\u001b[0m\n\u001b[0m\u001b[1;32m     71\u001b[0m \u001b[0;34m\u001b[0m\u001b[0m\n\u001b[1;32m     72\u001b[0m                 \u001b[0munet_scheduler\u001b[0m\u001b[0;34m.\u001b[0m\u001b[0mstep\u001b[0m\u001b[0;34m(\u001b[0m\u001b[0munet_val_score\u001b[0m\u001b[0;34m)\u001b[0m\u001b[0;34m\u001b[0m\u001b[0;34m\u001b[0m\u001b[0m\n",
      "\u001b[0;32m~/anaconda3/envs/ksh/lib/python3.7/site-packages/torch/autograd/grad_mode.py\u001b[0m in \u001b[0;36mdecorate_context\u001b[0;34m(*args, **kwargs)\u001b[0m\n\u001b[1;32m     25\u001b[0m         \u001b[0;32mdef\u001b[0m \u001b[0mdecorate_context\u001b[0m\u001b[0;34m(\u001b[0m\u001b[0;34m*\u001b[0m\u001b[0margs\u001b[0m\u001b[0;34m,\u001b[0m \u001b[0;34m**\u001b[0m\u001b[0mkwargs\u001b[0m\u001b[0;34m)\u001b[0m\u001b[0;34m:\u001b[0m\u001b[0;34m\u001b[0m\u001b[0;34m\u001b[0m\u001b[0m\n\u001b[1;32m     26\u001b[0m             \u001b[0;32mwith\u001b[0m \u001b[0mself\u001b[0m\u001b[0;34m.\u001b[0m\u001b[0mclone\u001b[0m\u001b[0;34m(\u001b[0m\u001b[0;34m)\u001b[0m\u001b[0;34m:\u001b[0m\u001b[0;34m\u001b[0m\u001b[0;34m\u001b[0m\u001b[0m\n\u001b[0;32m---> 27\u001b[0;31m                 \u001b[0;32mreturn\u001b[0m \u001b[0mfunc\u001b[0m\u001b[0;34m(\u001b[0m\u001b[0;34m*\u001b[0m\u001b[0margs\u001b[0m\u001b[0;34m,\u001b[0m \u001b[0;34m**\u001b[0m\u001b[0mkwargs\u001b[0m\u001b[0;34m)\u001b[0m\u001b[0;34m\u001b[0m\u001b[0;34m\u001b[0m\u001b[0m\n\u001b[0m\u001b[1;32m     28\u001b[0m         \u001b[0;32mreturn\u001b[0m \u001b[0mcast\u001b[0m\u001b[0;34m(\u001b[0m\u001b[0mF\u001b[0m\u001b[0;34m,\u001b[0m \u001b[0mdecorate_context\u001b[0m\u001b[0;34m)\u001b[0m\u001b[0;34m\u001b[0m\u001b[0;34m\u001b[0m\u001b[0m\n\u001b[1;32m     29\u001b[0m \u001b[0;34m\u001b[0m\u001b[0m\n",
      "\u001b[0;32m~/projects/ksh/Ensemble-Net/evaluate.py\u001b[0m in \u001b[0;36mevaluate\u001b[0;34m(net, dataloader, _criterion_, device, model_name, amp)\u001b[0m\n\u001b[1;32m     23\u001b[0m     \u001b[0;32mwith\u001b[0m \u001b[0mtorch\u001b[0m\u001b[0;34m.\u001b[0m\u001b[0mautocast\u001b[0m\u001b[0;34m(\u001b[0m\u001b[0mdevice\u001b[0m\u001b[0;34m.\u001b[0m\u001b[0mtype\u001b[0m \u001b[0;32mif\u001b[0m \u001b[0mdevice\u001b[0m\u001b[0;34m.\u001b[0m\u001b[0mtype\u001b[0m \u001b[0;34m!=\u001b[0m \u001b[0;34m'mps'\u001b[0m \u001b[0;32melse\u001b[0m \u001b[0;34m'cpu'\u001b[0m\u001b[0;34m,\u001b[0m \u001b[0menabled\u001b[0m\u001b[0;34m=\u001b[0m\u001b[0mamp\u001b[0m\u001b[0;34m)\u001b[0m\u001b[0;34m:\u001b[0m\u001b[0;34m\u001b[0m\u001b[0;34m\u001b[0m\u001b[0m\n\u001b[1;32m     24\u001b[0m         \u001b[0;31m#for batch in tqdm(dataloader, total=num_val_batches, desc='Validation round', unit='batch', leave=False):\u001b[0m\u001b[0;34m\u001b[0m\u001b[0;34m\u001b[0m\u001b[0;34m\u001b[0m\u001b[0m\n\u001b[0;32m---> 25\u001b[0;31m         \u001b[0;32mfor\u001b[0m \u001b[0mbatch\u001b[0m \u001b[0;32min\u001b[0m \u001b[0mdataloader\u001b[0m\u001b[0;34m:\u001b[0m\u001b[0;34m\u001b[0m\u001b[0;34m\u001b[0m\u001b[0m\n\u001b[0m\u001b[1;32m     26\u001b[0m             \u001b[0mimage\u001b[0m\u001b[0;34m,\u001b[0m \u001b[0mmask_true\u001b[0m \u001b[0;34m=\u001b[0m \u001b[0mbatch\u001b[0m\u001b[0;34m[\u001b[0m\u001b[0;34m'image'\u001b[0m\u001b[0;34m]\u001b[0m\u001b[0;34m,\u001b[0m \u001b[0mbatch\u001b[0m\u001b[0;34m[\u001b[0m\u001b[0;34m'mask'\u001b[0m\u001b[0;34m]\u001b[0m\u001b[0;34m\u001b[0m\u001b[0;34m\u001b[0m\u001b[0m\n\u001b[1;32m     27\u001b[0m \u001b[0;34m\u001b[0m\u001b[0m\n",
      "\u001b[0;32m~/anaconda3/envs/ksh/lib/python3.7/site-packages/torch/utils/data/dataloader.py\u001b[0m in \u001b[0;36m__next__\u001b[0;34m(self)\u001b[0m\n\u001b[1;32m    626\u001b[0m                 \u001b[0;31m# TODO(https://github.com/pytorch/pytorch/issues/76750)\u001b[0m\u001b[0;34m\u001b[0m\u001b[0;34m\u001b[0m\u001b[0;34m\u001b[0m\u001b[0m\n\u001b[1;32m    627\u001b[0m                 \u001b[0mself\u001b[0m\u001b[0;34m.\u001b[0m\u001b[0m_reset\u001b[0m\u001b[0;34m(\u001b[0m\u001b[0;34m)\u001b[0m  \u001b[0;31m# type: ignore[call-arg]\u001b[0m\u001b[0;34m\u001b[0m\u001b[0;34m\u001b[0m\u001b[0m\n\u001b[0;32m--> 628\u001b[0;31m             \u001b[0mdata\u001b[0m \u001b[0;34m=\u001b[0m \u001b[0mself\u001b[0m\u001b[0;34m.\u001b[0m\u001b[0m_next_data\u001b[0m\u001b[0;34m(\u001b[0m\u001b[0;34m)\u001b[0m\u001b[0;34m\u001b[0m\u001b[0;34m\u001b[0m\u001b[0m\n\u001b[0m\u001b[1;32m    629\u001b[0m             \u001b[0mself\u001b[0m\u001b[0;34m.\u001b[0m\u001b[0m_num_yielded\u001b[0m \u001b[0;34m+=\u001b[0m \u001b[0;36m1\u001b[0m\u001b[0;34m\u001b[0m\u001b[0;34m\u001b[0m\u001b[0m\n\u001b[1;32m    630\u001b[0m             \u001b[0;32mif\u001b[0m \u001b[0mself\u001b[0m\u001b[0;34m.\u001b[0m\u001b[0m_dataset_kind\u001b[0m \u001b[0;34m==\u001b[0m \u001b[0m_DatasetKind\u001b[0m\u001b[0;34m.\u001b[0m\u001b[0mIterable\u001b[0m \u001b[0;32mand\u001b[0m\u001b[0;31m \u001b[0m\u001b[0;31m\\\u001b[0m\u001b[0;34m\u001b[0m\u001b[0;34m\u001b[0m\u001b[0m\n",
      "\u001b[0;32m~/anaconda3/envs/ksh/lib/python3.7/site-packages/torch/utils/data/dataloader.py\u001b[0m in \u001b[0;36m_next_data\u001b[0;34m(self)\u001b[0m\n\u001b[1;32m   1303\u001b[0m                 \u001b[0;31m# no valid `self._rcvd_idx` is found (i.e., didn't break)\u001b[0m\u001b[0;34m\u001b[0m\u001b[0;34m\u001b[0m\u001b[0;34m\u001b[0m\u001b[0m\n\u001b[1;32m   1304\u001b[0m                 \u001b[0;32mif\u001b[0m \u001b[0;32mnot\u001b[0m \u001b[0mself\u001b[0m\u001b[0;34m.\u001b[0m\u001b[0m_persistent_workers\u001b[0m\u001b[0;34m:\u001b[0m\u001b[0;34m\u001b[0m\u001b[0;34m\u001b[0m\u001b[0m\n\u001b[0;32m-> 1305\u001b[0;31m                     \u001b[0mself\u001b[0m\u001b[0;34m.\u001b[0m\u001b[0m_shutdown_workers\u001b[0m\u001b[0;34m(\u001b[0m\u001b[0;34m)\u001b[0m\u001b[0;34m\u001b[0m\u001b[0;34m\u001b[0m\u001b[0m\n\u001b[0m\u001b[1;32m   1306\u001b[0m                 \u001b[0;32mraise\u001b[0m \u001b[0mStopIteration\u001b[0m\u001b[0;34m\u001b[0m\u001b[0;34m\u001b[0m\u001b[0m\n\u001b[1;32m   1307\u001b[0m \u001b[0;34m\u001b[0m\u001b[0m\n",
      "\u001b[0;32m~/anaconda3/envs/ksh/lib/python3.7/site-packages/torch/utils/data/dataloader.py\u001b[0m in \u001b[0;36m_shutdown_workers\u001b[0;34m(self)\u001b[0m\n\u001b[1;32m   1423\u001b[0m                     \u001b[0;31m# we have to shut it down because the worker is paused\u001b[0m\u001b[0;34m\u001b[0m\u001b[0;34m\u001b[0m\u001b[0;34m\u001b[0m\u001b[0m\n\u001b[1;32m   1424\u001b[0m                     \u001b[0;32mif\u001b[0m \u001b[0mself\u001b[0m\u001b[0;34m.\u001b[0m\u001b[0m_persistent_workers\u001b[0m \u001b[0;32mor\u001b[0m \u001b[0mself\u001b[0m\u001b[0;34m.\u001b[0m\u001b[0m_workers_status\u001b[0m\u001b[0;34m[\u001b[0m\u001b[0mworker_id\u001b[0m\u001b[0;34m]\u001b[0m\u001b[0;34m:\u001b[0m\u001b[0;34m\u001b[0m\u001b[0;34m\u001b[0m\u001b[0m\n\u001b[0;32m-> 1425\u001b[0;31m                         \u001b[0mself\u001b[0m\u001b[0;34m.\u001b[0m\u001b[0m_mark_worker_as_unavailable\u001b[0m\u001b[0;34m(\u001b[0m\u001b[0mworker_id\u001b[0m\u001b[0;34m,\u001b[0m \u001b[0mshutdown\u001b[0m\u001b[0;34m=\u001b[0m\u001b[0;32mTrue\u001b[0m\u001b[0;34m)\u001b[0m\u001b[0;34m\u001b[0m\u001b[0;34m\u001b[0m\u001b[0m\n\u001b[0m\u001b[1;32m   1426\u001b[0m                 \u001b[0;32mfor\u001b[0m \u001b[0mw\u001b[0m \u001b[0;32min\u001b[0m \u001b[0mself\u001b[0m\u001b[0;34m.\u001b[0m\u001b[0m_workers\u001b[0m\u001b[0;34m:\u001b[0m\u001b[0;34m\u001b[0m\u001b[0;34m\u001b[0m\u001b[0m\n\u001b[1;32m   1427\u001b[0m                     \u001b[0;31m# We should be able to join here, but in case anything went\u001b[0m\u001b[0;34m\u001b[0m\u001b[0;34m\u001b[0m\u001b[0;34m\u001b[0m\u001b[0m\n",
      "\u001b[0;32m~/anaconda3/envs/ksh/lib/python3.7/site-packages/torch/utils/data/dataloader.py\u001b[0m in \u001b[0;36m_mark_worker_as_unavailable\u001b[0;34m(self, worker_id, shutdown)\u001b[0m\n\u001b[1;32m   1371\u001b[0m         \u001b[0;31m# Indicate that no more data will be put on this queue by the current\u001b[0m\u001b[0;34m\u001b[0m\u001b[0;34m\u001b[0m\u001b[0;34m\u001b[0m\u001b[0m\n\u001b[1;32m   1372\u001b[0m         \u001b[0;31m# process.\u001b[0m\u001b[0;34m\u001b[0m\u001b[0;34m\u001b[0m\u001b[0;34m\u001b[0m\u001b[0m\n\u001b[0;32m-> 1373\u001b[0;31m         \u001b[0mq\u001b[0m\u001b[0;34m.\u001b[0m\u001b[0mput\u001b[0m\u001b[0;34m(\u001b[0m\u001b[0;32mNone\u001b[0m\u001b[0;34m)\u001b[0m\u001b[0;34m\u001b[0m\u001b[0;34m\u001b[0m\u001b[0m\n\u001b[0m\u001b[1;32m   1374\u001b[0m \u001b[0;34m\u001b[0m\u001b[0m\n\u001b[1;32m   1375\u001b[0m         \u001b[0;31m# Note that we don't actually join the worker here, nor do we remove the\u001b[0m\u001b[0;34m\u001b[0m\u001b[0;34m\u001b[0m\u001b[0;34m\u001b[0m\u001b[0m\n",
      "\u001b[0;32m~/anaconda3/envs/ksh/lib/python3.7/multiprocessing/queues.py\u001b[0m in \u001b[0;36mput\u001b[0;34m(self, obj, block, timeout)\u001b[0m\n\u001b[1;32m     85\u001b[0m         \u001b[0;32mwith\u001b[0m \u001b[0mself\u001b[0m\u001b[0;34m.\u001b[0m\u001b[0m_notempty\u001b[0m\u001b[0;34m:\u001b[0m\u001b[0;34m\u001b[0m\u001b[0;34m\u001b[0m\u001b[0m\n\u001b[1;32m     86\u001b[0m             \u001b[0;32mif\u001b[0m \u001b[0mself\u001b[0m\u001b[0;34m.\u001b[0m\u001b[0m_thread\u001b[0m \u001b[0;32mis\u001b[0m \u001b[0;32mNone\u001b[0m\u001b[0;34m:\u001b[0m\u001b[0;34m\u001b[0m\u001b[0;34m\u001b[0m\u001b[0m\n\u001b[0;32m---> 87\u001b[0;31m                 \u001b[0mself\u001b[0m\u001b[0;34m.\u001b[0m\u001b[0m_start_thread\u001b[0m\u001b[0;34m(\u001b[0m\u001b[0;34m)\u001b[0m\u001b[0;34m\u001b[0m\u001b[0;34m\u001b[0m\u001b[0m\n\u001b[0m\u001b[1;32m     88\u001b[0m             \u001b[0mself\u001b[0m\u001b[0;34m.\u001b[0m\u001b[0m_buffer\u001b[0m\u001b[0;34m.\u001b[0m\u001b[0mappend\u001b[0m\u001b[0;34m(\u001b[0m\u001b[0mobj\u001b[0m\u001b[0;34m)\u001b[0m\u001b[0;34m\u001b[0m\u001b[0;34m\u001b[0m\u001b[0m\n\u001b[1;32m     89\u001b[0m             \u001b[0mself\u001b[0m\u001b[0;34m.\u001b[0m\u001b[0m_notempty\u001b[0m\u001b[0;34m.\u001b[0m\u001b[0mnotify\u001b[0m\u001b[0;34m(\u001b[0m\u001b[0;34m)\u001b[0m\u001b[0;34m\u001b[0m\u001b[0;34m\u001b[0m\u001b[0m\n",
      "\u001b[0;32m~/anaconda3/envs/ksh/lib/python3.7/multiprocessing/queues.py\u001b[0m in \u001b[0;36m_start_thread\u001b[0;34m(self)\u001b[0m\n\u001b[1;32m    168\u001b[0m \u001b[0;34m\u001b[0m\u001b[0m\n\u001b[1;32m    169\u001b[0m         \u001b[0mdebug\u001b[0m\u001b[0;34m(\u001b[0m\u001b[0;34m'doing self._thread.start()'\u001b[0m\u001b[0;34m)\u001b[0m\u001b[0;34m\u001b[0m\u001b[0;34m\u001b[0m\u001b[0m\n\u001b[0;32m--> 170\u001b[0;31m         \u001b[0mself\u001b[0m\u001b[0;34m.\u001b[0m\u001b[0m_thread\u001b[0m\u001b[0;34m.\u001b[0m\u001b[0mstart\u001b[0m\u001b[0;34m(\u001b[0m\u001b[0;34m)\u001b[0m\u001b[0;34m\u001b[0m\u001b[0;34m\u001b[0m\u001b[0m\n\u001b[0m\u001b[1;32m    171\u001b[0m         \u001b[0mdebug\u001b[0m\u001b[0;34m(\u001b[0m\u001b[0;34m'... done self._thread.start()'\u001b[0m\u001b[0;34m)\u001b[0m\u001b[0;34m\u001b[0m\u001b[0;34m\u001b[0m\u001b[0m\n\u001b[1;32m    172\u001b[0m \u001b[0;34m\u001b[0m\u001b[0m\n",
      "\u001b[0;32m~/anaconda3/envs/ksh/lib/python3.7/threading.py\u001b[0m in \u001b[0;36mstart\u001b[0;34m(self)\u001b[0m\n\u001b[1;32m    855\u001b[0m                 \u001b[0;32mdel\u001b[0m \u001b[0m_limbo\u001b[0m\u001b[0;34m[\u001b[0m\u001b[0mself\u001b[0m\u001b[0;34m]\u001b[0m\u001b[0;34m\u001b[0m\u001b[0;34m\u001b[0m\u001b[0m\n\u001b[1;32m    856\u001b[0m             \u001b[0;32mraise\u001b[0m\u001b[0;34m\u001b[0m\u001b[0;34m\u001b[0m\u001b[0m\n\u001b[0;32m--> 857\u001b[0;31m         \u001b[0mself\u001b[0m\u001b[0;34m.\u001b[0m\u001b[0m_started\u001b[0m\u001b[0;34m.\u001b[0m\u001b[0mwait\u001b[0m\u001b[0;34m(\u001b[0m\u001b[0;34m)\u001b[0m\u001b[0;34m\u001b[0m\u001b[0;34m\u001b[0m\u001b[0m\n\u001b[0m\u001b[1;32m    858\u001b[0m \u001b[0;34m\u001b[0m\u001b[0m\n\u001b[1;32m    859\u001b[0m     \u001b[0;32mdef\u001b[0m \u001b[0mrun\u001b[0m\u001b[0;34m(\u001b[0m\u001b[0mself\u001b[0m\u001b[0;34m)\u001b[0m\u001b[0;34m:\u001b[0m\u001b[0;34m\u001b[0m\u001b[0;34m\u001b[0m\u001b[0m\n",
      "\u001b[0;32m~/anaconda3/envs/ksh/lib/python3.7/threading.py\u001b[0m in \u001b[0;36mwait\u001b[0;34m(self, timeout)\u001b[0m\n\u001b[1;32m    550\u001b[0m             \u001b[0msignaled\u001b[0m \u001b[0;34m=\u001b[0m \u001b[0mself\u001b[0m\u001b[0;34m.\u001b[0m\u001b[0m_flag\u001b[0m\u001b[0;34m\u001b[0m\u001b[0;34m\u001b[0m\u001b[0m\n\u001b[1;32m    551\u001b[0m             \u001b[0;32mif\u001b[0m \u001b[0;32mnot\u001b[0m \u001b[0msignaled\u001b[0m\u001b[0;34m:\u001b[0m\u001b[0;34m\u001b[0m\u001b[0;34m\u001b[0m\u001b[0m\n\u001b[0;32m--> 552\u001b[0;31m                 \u001b[0msignaled\u001b[0m \u001b[0;34m=\u001b[0m \u001b[0mself\u001b[0m\u001b[0;34m.\u001b[0m\u001b[0m_cond\u001b[0m\u001b[0;34m.\u001b[0m\u001b[0mwait\u001b[0m\u001b[0;34m(\u001b[0m\u001b[0mtimeout\u001b[0m\u001b[0;34m)\u001b[0m\u001b[0;34m\u001b[0m\u001b[0;34m\u001b[0m\u001b[0m\n\u001b[0m\u001b[1;32m    553\u001b[0m             \u001b[0;32mreturn\u001b[0m \u001b[0msignaled\u001b[0m\u001b[0;34m\u001b[0m\u001b[0;34m\u001b[0m\u001b[0m\n\u001b[1;32m    554\u001b[0m \u001b[0;34m\u001b[0m\u001b[0m\n",
      "\u001b[0;32m~/anaconda3/envs/ksh/lib/python3.7/threading.py\u001b[0m in \u001b[0;36mwait\u001b[0;34m(self, timeout)\u001b[0m\n\u001b[1;32m    294\u001b[0m         \u001b[0;32mtry\u001b[0m\u001b[0;34m:\u001b[0m    \u001b[0;31m# restore state no matter what (e.g., KeyboardInterrupt)\u001b[0m\u001b[0;34m\u001b[0m\u001b[0;34m\u001b[0m\u001b[0m\n\u001b[1;32m    295\u001b[0m             \u001b[0;32mif\u001b[0m \u001b[0mtimeout\u001b[0m \u001b[0;32mis\u001b[0m \u001b[0;32mNone\u001b[0m\u001b[0;34m:\u001b[0m\u001b[0;34m\u001b[0m\u001b[0;34m\u001b[0m\u001b[0m\n\u001b[0;32m--> 296\u001b[0;31m                 \u001b[0mwaiter\u001b[0m\u001b[0;34m.\u001b[0m\u001b[0macquire\u001b[0m\u001b[0;34m(\u001b[0m\u001b[0;34m)\u001b[0m\u001b[0;34m\u001b[0m\u001b[0;34m\u001b[0m\u001b[0m\n\u001b[0m\u001b[1;32m    297\u001b[0m                 \u001b[0mgotit\u001b[0m \u001b[0;34m=\u001b[0m \u001b[0;32mTrue\u001b[0m\u001b[0;34m\u001b[0m\u001b[0;34m\u001b[0m\u001b[0m\n\u001b[1;32m    298\u001b[0m             \u001b[0;32melse\u001b[0m\u001b[0;34m:\u001b[0m\u001b[0;34m\u001b[0m\u001b[0;34m\u001b[0m\u001b[0m\n",
      "\u001b[0;31mKeyboardInterrupt\u001b[0m: "
     ]
    }
   ],
   "source": [
    "valScore_list1 = []\n",
    "TrainLoss_list1 = []\n",
    "\n",
    "valScore_list2 = []\n",
    "TrainLoss_list2 = []\n",
    "\n",
    "valScore_list3 = []\n",
    "TrainLoss_list3 = []\n",
    "\n",
    "valScore_list4 = []\n",
    "TrainLoss_list4 = []\n",
    "\n",
    "val_losses = []\n",
    "val_accs = []\n",
    "val_mious = []\n",
    "\n",
    "# 5. Begin training\n",
    "for epoch in range(1, epochs + 1):\n",
    "    model.train()\n",
    "    epoch_loss = 0\n",
    "    epoch_unet_loss = 0\n",
    "    epoch_segnet_loss = 0\n",
    "    epoch_enet_loss = 0\n",
    "    epoch_voting_loss = 0\n",
    "    \n",
    "    with tqdm(total=n_train, desc=f'Epoch {epoch}/{epochs}', unit='img') as pbar:\n",
    "        for batch in train_loader:\n",
    "            images, true_masks = batch['image'], batch['mask']\n",
    "\n",
    "            images = images.to(device=device, dtype=torch.float32, memory_format=torch.channels_last)\n",
    "            true_masks = true_masks.to(device=device, dtype=torch.long)\n",
    "\n",
    "                \n",
    "            result = forward_and_backward(model, images, true_masks, amp, optimizer, grad_scaler, Model_Name)\n",
    "            \n",
    "            if len(result) == 4:\n",
    "                model, unet_loss, segnet_loss, enet_loss = result\n",
    "                \n",
    "                pbar.update(images.shape[0])\n",
    "                global_step += 1\n",
    "                epoch_unet_loss += unet_loss.item()\n",
    "                epoch_segnet_loss += segnet_loss.item()\n",
    "                epoch_enet_loss += enet_loss.item()\n",
    "                vot_loss = ((unet_loss.item() + segnet_loss.item() + enet_loss.item()) /3)\n",
    "                epoch_voting_loss += vot_loss\n",
    "                \n",
    "                \n",
    "            elif len(result) == 2:\n",
    "                model, loss = result\n",
    "                \n",
    "                pbar.update(images.shape[0])\n",
    "                global_step += 1\n",
    "                epoch_loss += loss.item()\n",
    "\n",
    "\n",
    "        print('***')\n",
    "        if len(result) == 4:\n",
    "            print('Unet Loss: {}     Segnet Loss: {}     Enet Loss: {}'.format(unet_loss, segnet_loss, enet_loss))\n",
    "            print('Voting Loss: {}'.format(vot_loss))\n",
    "            \n",
    "            \n",
    "        elif len(result) == 2:\n",
    "            print('{} Loss: {}'.format(Model_Name, loss))\n",
    "\n",
    "        # Evaluation round\n",
    "        division_step = (n_train // (5 * batch_size))\n",
    "        if division_step > 0:\n",
    "            #if global_step % division_step == 0:\n",
    "            if len(result) == 4:\n",
    "                unet_val_score, segnet_val_score, enet_val_score, voting_val_score, val_loss, val_acc, val_miou = evaluate(model, val_loader, criterion, device, Model_Name, amp)\n",
    "                \n",
    "                unet_scheduler.step(unet_val_score)\n",
    "                segnet_scheduler.step(segnet_val_score)\n",
    "                enet_scheduler.step(enet_val_score)\n",
    "                voting_scheduler.step(voting_val_score)\n",
    "                \n",
    "                valScore_list1.append(unet_val_score.cpu().detach().numpy())\n",
    "                TrainLoss_list1.append(unet_loss.cpu().detach().numpy())\n",
    "                valScore_list2.append(segnet_val_score.cpu().detach().numpy())\n",
    "                TrainLoss_list2.append(segnet_loss.cpu().detach().numpy())                \n",
    "                valScore_list3.append(enet_val_score.cpu().detach().numpy())\n",
    "                TrainLoss_list3.append(enet_loss.cpu().detach().numpy())\n",
    "                valScore_list4.append(voting_val_score.cpu().detach().numpy())\n",
    "                TrainLoss_list4.append(vot_loss)\n",
    "                \n",
    "                val_losses.append(val_loss)\n",
    "                val_accs.append(val_acc)\n",
    "                val_mious.append(val_miou)\n",
    "                \n",
    "                print('---')\n",
    "                print('Unet Validation Dice Score: {}     Segnet Validation Dice Score: {}     Enet Validation Dice Score: {}'.format(unet_val_score, segnet_val_score, enet_val_score))\n",
    "                \n",
    "                print('Ensemble Voting Validation Dice Loss: {}'.format(val_loss))\n",
    "                print('Ensemble Voting Validation Pixel Accuracy: {} '.format(val_acc))\n",
    "                print('Ensemble Voting Validation MIoU: {}'.format(val_miou))                \n",
    "                print('Ensemble Voting Validation Dice Score: {} '.format(voting_val_score))\n",
    "                \n",
    "            else:\n",
    "                val_score, val_loss, val_acc, val_miou = evaluate(model, val_loader, criterion, device, Model_Name, amp)\n",
    "                \n",
    "                \n",
    "                \n",
    "                scheduler.step(val_score)\n",
    "                \n",
    "                print('---')\n",
    "                print('{} Validation Dice Loss: {}'.format(Model_Name, val_loss))   \n",
    "                print('{} Validation Pixel Accuracy: {}'.format(Model_Name, val_acc))\n",
    "                print('{} Validation MIoU: {}'.format(Model_Name, val_miou))\n",
    "                print('{} Validation Dice Score: {}'.format(Model_Name, val_score))\n",
    "                \n",
    "            \n",
    "                valScore_list1.append(val_score.cpu().detach().numpy())\n",
    "                TrainLoss_list1.append(loss.cpu().detach().numpy())\n",
    "                val_losses.append(val_loss)\n",
    "                val_accs.append(val_acc)\n",
    "                val_mious.append(val_miou)\n",
    "\n",
    "                #valScore_list.append(val_score)\n",
    "                #TrainLoss_list.append(loss)\n",
    "                #print('Validation Dice score: {}'.format(val_score))\n",
    "                                \n",
    "        \n",
    "    if save_checkpoint:\n",
    "        Path(dir_checkpoint).mkdir(parents=True, exist_ok=True)\n",
    "        torch.save(model.state_dict(), str(dir_checkpoint / 'checkpoint_epoch{}.pth'.format(epoch + 1)))"
   ]
  },
  {
   "cell_type": "code",
   "execution_count": 10,
   "id": "232d4d6e-12ed-4b30-9b2e-7421289573ad",
   "metadata": {},
   "outputs": [],
   "source": [
    "import pandas as pd\n",
    "import matplotlib.pyplot as plt"
   ]
  },
  {
   "cell_type": "code",
   "execution_count": 11,
   "id": "5e7c3590-63c0-4ee6-bf67-25b012d008d7",
   "metadata": {},
   "outputs": [],
   "source": [
    "df = pd.DataFrame([TrainLoss_list1, val_losses, valScore_list1, val_accs, val_mious]).T\n",
    "df.columns = ['train_loss', 'val_loss', 'val_score', 'val_acc', 'val_miou']"
   ]
  },
  {
   "cell_type": "code",
   "execution_count": 12,
   "id": "e02024f4-5520-4e80-b5e2-1c0f7d4ad10c",
   "metadata": {},
   "outputs": [
    {
     "ename": "TypeError",
     "evalue": "can't convert cuda:0 device type tensor to numpy. Use Tensor.cpu() to copy the tensor to host memory first.",
     "output_type": "error",
     "traceback": [
      "\u001b[0;31m---------------------------------------------------------------------------\u001b[0m",
      "\u001b[0;31mTypeError\u001b[0m                                 Traceback (most recent call last)",
      "\u001b[0;32m/tmp/ipykernel_411124/498678492.py\u001b[0m in \u001b[0;36m<module>\u001b[0;34m\u001b[0m\n\u001b[1;32m      1\u001b[0m \u001b[0mplt\u001b[0m\u001b[0;34m.\u001b[0m\u001b[0mfigure\u001b[0m\u001b[0;34m(\u001b[0m\u001b[0mfigsize\u001b[0m\u001b[0;34m=\u001b[0m \u001b[0;34m(\u001b[0m\u001b[0;36m10\u001b[0m\u001b[0;34m,\u001b[0m\u001b[0;36m5\u001b[0m\u001b[0;34m)\u001b[0m\u001b[0;34m)\u001b[0m\u001b[0;34m\u001b[0m\u001b[0;34m\u001b[0m\u001b[0m\n\u001b[0;32m----> 2\u001b[0;31m \u001b[0mplt\u001b[0m\u001b[0;34m.\u001b[0m\u001b[0mplot\u001b[0m\u001b[0;34m(\u001b[0m\u001b[0mTrainLoss_list1\u001b[0m\u001b[0;34m)\u001b[0m\u001b[0;34m\u001b[0m\u001b[0;34m\u001b[0m\u001b[0m\n\u001b[0m\u001b[1;32m      3\u001b[0m \u001b[0mplt\u001b[0m\u001b[0;34m.\u001b[0m\u001b[0mplot\u001b[0m\u001b[0;34m(\u001b[0m\u001b[0mval_losses\u001b[0m\u001b[0;34m)\u001b[0m\u001b[0;34m\u001b[0m\u001b[0;34m\u001b[0m\u001b[0m\n",
      "\u001b[0;32m~/anaconda3/envs/ksh/lib/python3.7/site-packages/matplotlib/pyplot.py\u001b[0m in \u001b[0;36mplot\u001b[0;34m(scalex, scaley, data, *args, **kwargs)\u001b[0m\n\u001b[1;32m   2767\u001b[0m     return gca().plot(\n\u001b[1;32m   2768\u001b[0m         \u001b[0;34m*\u001b[0m\u001b[0margs\u001b[0m\u001b[0;34m,\u001b[0m \u001b[0mscalex\u001b[0m\u001b[0;34m=\u001b[0m\u001b[0mscalex\u001b[0m\u001b[0;34m,\u001b[0m \u001b[0mscaley\u001b[0m\u001b[0;34m=\u001b[0m\u001b[0mscaley\u001b[0m\u001b[0;34m,\u001b[0m\u001b[0;34m\u001b[0m\u001b[0;34m\u001b[0m\u001b[0m\n\u001b[0;32m-> 2769\u001b[0;31m         **({\"data\": data} if data is not None else {}), **kwargs)\n\u001b[0m\u001b[1;32m   2770\u001b[0m \u001b[0;34m\u001b[0m\u001b[0m\n\u001b[1;32m   2771\u001b[0m \u001b[0;34m\u001b[0m\u001b[0m\n",
      "\u001b[0;32m~/anaconda3/envs/ksh/lib/python3.7/site-packages/matplotlib/axes/_axes.py\u001b[0m in \u001b[0;36mplot\u001b[0;34m(self, scalex, scaley, data, *args, **kwargs)\u001b[0m\n\u001b[1;32m   1633\u001b[0m         \"\"\"\n\u001b[1;32m   1634\u001b[0m         \u001b[0mkwargs\u001b[0m \u001b[0;34m=\u001b[0m \u001b[0mcbook\u001b[0m\u001b[0;34m.\u001b[0m\u001b[0mnormalize_kwargs\u001b[0m\u001b[0;34m(\u001b[0m\u001b[0mkwargs\u001b[0m\u001b[0;34m,\u001b[0m \u001b[0mmlines\u001b[0m\u001b[0;34m.\u001b[0m\u001b[0mLine2D\u001b[0m\u001b[0;34m)\u001b[0m\u001b[0;34m\u001b[0m\u001b[0;34m\u001b[0m\u001b[0m\n\u001b[0;32m-> 1635\u001b[0;31m         \u001b[0mlines\u001b[0m \u001b[0;34m=\u001b[0m \u001b[0;34m[\u001b[0m\u001b[0;34m*\u001b[0m\u001b[0mself\u001b[0m\u001b[0;34m.\u001b[0m\u001b[0m_get_lines\u001b[0m\u001b[0;34m(\u001b[0m\u001b[0;34m*\u001b[0m\u001b[0margs\u001b[0m\u001b[0;34m,\u001b[0m \u001b[0mdata\u001b[0m\u001b[0;34m=\u001b[0m\u001b[0mdata\u001b[0m\u001b[0;34m,\u001b[0m \u001b[0;34m**\u001b[0m\u001b[0mkwargs\u001b[0m\u001b[0;34m)\u001b[0m\u001b[0;34m]\u001b[0m\u001b[0;34m\u001b[0m\u001b[0;34m\u001b[0m\u001b[0m\n\u001b[0m\u001b[1;32m   1636\u001b[0m         \u001b[0;32mfor\u001b[0m \u001b[0mline\u001b[0m \u001b[0;32min\u001b[0m \u001b[0mlines\u001b[0m\u001b[0;34m:\u001b[0m\u001b[0;34m\u001b[0m\u001b[0;34m\u001b[0m\u001b[0m\n\u001b[1;32m   1637\u001b[0m             \u001b[0mself\u001b[0m\u001b[0;34m.\u001b[0m\u001b[0madd_line\u001b[0m\u001b[0;34m(\u001b[0m\u001b[0mline\u001b[0m\u001b[0;34m)\u001b[0m\u001b[0;34m\u001b[0m\u001b[0;34m\u001b[0m\u001b[0m\n",
      "\u001b[0;32m~/anaconda3/envs/ksh/lib/python3.7/site-packages/matplotlib/axes/_base.py\u001b[0m in \u001b[0;36m__call__\u001b[0;34m(self, data, *args, **kwargs)\u001b[0m\n\u001b[1;32m    310\u001b[0m                 \u001b[0mthis\u001b[0m \u001b[0;34m+=\u001b[0m \u001b[0margs\u001b[0m\u001b[0;34m[\u001b[0m\u001b[0;36m0\u001b[0m\u001b[0;34m]\u001b[0m\u001b[0;34m,\u001b[0m\u001b[0;34m\u001b[0m\u001b[0;34m\u001b[0m\u001b[0m\n\u001b[1;32m    311\u001b[0m                 \u001b[0margs\u001b[0m \u001b[0;34m=\u001b[0m \u001b[0margs\u001b[0m\u001b[0;34m[\u001b[0m\u001b[0;36m1\u001b[0m\u001b[0;34m:\u001b[0m\u001b[0;34m]\u001b[0m\u001b[0;34m\u001b[0m\u001b[0;34m\u001b[0m\u001b[0m\n\u001b[0;32m--> 312\u001b[0;31m             \u001b[0;32myield\u001b[0m \u001b[0;32mfrom\u001b[0m \u001b[0mself\u001b[0m\u001b[0;34m.\u001b[0m\u001b[0m_plot_args\u001b[0m\u001b[0;34m(\u001b[0m\u001b[0mthis\u001b[0m\u001b[0;34m,\u001b[0m \u001b[0mkwargs\u001b[0m\u001b[0;34m)\u001b[0m\u001b[0;34m\u001b[0m\u001b[0;34m\u001b[0m\u001b[0m\n\u001b[0m\u001b[1;32m    313\u001b[0m \u001b[0;34m\u001b[0m\u001b[0m\n\u001b[1;32m    314\u001b[0m     \u001b[0;32mdef\u001b[0m \u001b[0mget_next_color\u001b[0m\u001b[0;34m(\u001b[0m\u001b[0mself\u001b[0m\u001b[0;34m)\u001b[0m\u001b[0;34m:\u001b[0m\u001b[0;34m\u001b[0m\u001b[0;34m\u001b[0m\u001b[0m\n",
      "\u001b[0;32m~/anaconda3/envs/ksh/lib/python3.7/site-packages/matplotlib/axes/_base.py\u001b[0m in \u001b[0;36m_plot_args\u001b[0;34m(self, tup, kwargs, return_kwargs)\u001b[0m\n\u001b[1;32m    488\u001b[0m             \u001b[0my\u001b[0m \u001b[0;34m=\u001b[0m \u001b[0m_check_1d\u001b[0m\u001b[0;34m(\u001b[0m\u001b[0mxy\u001b[0m\u001b[0;34m[\u001b[0m\u001b[0;36m1\u001b[0m\u001b[0;34m]\u001b[0m\u001b[0;34m)\u001b[0m\u001b[0;34m\u001b[0m\u001b[0;34m\u001b[0m\u001b[0m\n\u001b[1;32m    489\u001b[0m         \u001b[0;32melse\u001b[0m\u001b[0;34m:\u001b[0m\u001b[0;34m\u001b[0m\u001b[0;34m\u001b[0m\u001b[0m\n\u001b[0;32m--> 490\u001b[0;31m             \u001b[0mx\u001b[0m\u001b[0;34m,\u001b[0m \u001b[0my\u001b[0m \u001b[0;34m=\u001b[0m \u001b[0mindex_of\u001b[0m\u001b[0;34m(\u001b[0m\u001b[0mxy\u001b[0m\u001b[0;34m[\u001b[0m\u001b[0;34m-\u001b[0m\u001b[0;36m1\u001b[0m\u001b[0;34m]\u001b[0m\u001b[0;34m)\u001b[0m\u001b[0;34m\u001b[0m\u001b[0;34m\u001b[0m\u001b[0m\n\u001b[0m\u001b[1;32m    491\u001b[0m \u001b[0;34m\u001b[0m\u001b[0m\n\u001b[1;32m    492\u001b[0m         \u001b[0;32mif\u001b[0m \u001b[0mself\u001b[0m\u001b[0;34m.\u001b[0m\u001b[0maxes\u001b[0m\u001b[0;34m.\u001b[0m\u001b[0mxaxis\u001b[0m \u001b[0;32mis\u001b[0m \u001b[0;32mnot\u001b[0m \u001b[0;32mNone\u001b[0m\u001b[0;34m:\u001b[0m\u001b[0;34m\u001b[0m\u001b[0;34m\u001b[0m\u001b[0m\n",
      "\u001b[0;32m~/anaconda3/envs/ksh/lib/python3.7/site-packages/matplotlib/cbook/__init__.py\u001b[0m in \u001b[0;36mindex_of\u001b[0;34m(y)\u001b[0m\n\u001b[1;32m   1617\u001b[0m         \u001b[0;32mpass\u001b[0m\u001b[0;34m\u001b[0m\u001b[0;34m\u001b[0m\u001b[0m\n\u001b[1;32m   1618\u001b[0m     \u001b[0;32mtry\u001b[0m\u001b[0;34m:\u001b[0m\u001b[0;34m\u001b[0m\u001b[0;34m\u001b[0m\u001b[0m\n\u001b[0;32m-> 1619\u001b[0;31m         \u001b[0my\u001b[0m \u001b[0;34m=\u001b[0m \u001b[0m_check_1d\u001b[0m\u001b[0;34m(\u001b[0m\u001b[0my\u001b[0m\u001b[0;34m)\u001b[0m\u001b[0;34m\u001b[0m\u001b[0;34m\u001b[0m\u001b[0m\n\u001b[0m\u001b[1;32m   1620\u001b[0m     \u001b[0;32mexcept\u001b[0m \u001b[0;34m(\u001b[0m\u001b[0mnp\u001b[0m\u001b[0;34m.\u001b[0m\u001b[0mVisibleDeprecationWarning\u001b[0m\u001b[0;34m,\u001b[0m \u001b[0mValueError\u001b[0m\u001b[0;34m)\u001b[0m\u001b[0;34m:\u001b[0m\u001b[0;34m\u001b[0m\u001b[0;34m\u001b[0m\u001b[0m\n\u001b[1;32m   1621\u001b[0m         \u001b[0;31m# NumPy 1.19 will warn on ragged input, and we can't actually use it.\u001b[0m\u001b[0;34m\u001b[0m\u001b[0;34m\u001b[0m\u001b[0;34m\u001b[0m\u001b[0m\n",
      "\u001b[0;32m~/anaconda3/envs/ksh/lib/python3.7/site-packages/matplotlib/cbook/__init__.py\u001b[0m in \u001b[0;36m_check_1d\u001b[0;34m(x)\u001b[0m\n\u001b[1;32m   1309\u001b[0m             \u001b[0;32mnot\u001b[0m \u001b[0mhasattr\u001b[0m\u001b[0;34m(\u001b[0m\u001b[0mx\u001b[0m\u001b[0;34m,\u001b[0m \u001b[0;34m'ndim'\u001b[0m\u001b[0;34m)\u001b[0m \u001b[0;32mor\u001b[0m\u001b[0;34m\u001b[0m\u001b[0;34m\u001b[0m\u001b[0m\n\u001b[1;32m   1310\u001b[0m             len(x.shape) < 1):\n\u001b[0;32m-> 1311\u001b[0;31m         \u001b[0;32mreturn\u001b[0m \u001b[0mnp\u001b[0m\u001b[0;34m.\u001b[0m\u001b[0matleast_1d\u001b[0m\u001b[0;34m(\u001b[0m\u001b[0mx\u001b[0m\u001b[0;34m)\u001b[0m\u001b[0;34m\u001b[0m\u001b[0;34m\u001b[0m\u001b[0m\n\u001b[0m\u001b[1;32m   1312\u001b[0m     \u001b[0;32melse\u001b[0m\u001b[0;34m:\u001b[0m\u001b[0;34m\u001b[0m\u001b[0;34m\u001b[0m\u001b[0m\n\u001b[1;32m   1313\u001b[0m         \u001b[0;32mreturn\u001b[0m \u001b[0mx\u001b[0m\u001b[0;34m\u001b[0m\u001b[0;34m\u001b[0m\u001b[0m\n",
      "\u001b[0;32m<__array_function__ internals>\u001b[0m in \u001b[0;36matleast_1d\u001b[0;34m(*args, **kwargs)\u001b[0m\n",
      "\u001b[0;32m~/anaconda3/envs/ksh/lib/python3.7/site-packages/numpy/core/shape_base.py\u001b[0m in \u001b[0;36matleast_1d\u001b[0;34m(*arys)\u001b[0m\n\u001b[1;32m     63\u001b[0m     \u001b[0mres\u001b[0m \u001b[0;34m=\u001b[0m \u001b[0;34m[\u001b[0m\u001b[0;34m]\u001b[0m\u001b[0;34m\u001b[0m\u001b[0;34m\u001b[0m\u001b[0m\n\u001b[1;32m     64\u001b[0m     \u001b[0;32mfor\u001b[0m \u001b[0mary\u001b[0m \u001b[0;32min\u001b[0m \u001b[0marys\u001b[0m\u001b[0;34m:\u001b[0m\u001b[0;34m\u001b[0m\u001b[0;34m\u001b[0m\u001b[0m\n\u001b[0;32m---> 65\u001b[0;31m         \u001b[0mary\u001b[0m \u001b[0;34m=\u001b[0m \u001b[0masanyarray\u001b[0m\u001b[0;34m(\u001b[0m\u001b[0mary\u001b[0m\u001b[0;34m)\u001b[0m\u001b[0;34m\u001b[0m\u001b[0;34m\u001b[0m\u001b[0m\n\u001b[0m\u001b[1;32m     66\u001b[0m         \u001b[0;32mif\u001b[0m \u001b[0mary\u001b[0m\u001b[0;34m.\u001b[0m\u001b[0mndim\u001b[0m \u001b[0;34m==\u001b[0m \u001b[0;36m0\u001b[0m\u001b[0;34m:\u001b[0m\u001b[0;34m\u001b[0m\u001b[0;34m\u001b[0m\u001b[0m\n\u001b[1;32m     67\u001b[0m             \u001b[0mresult\u001b[0m \u001b[0;34m=\u001b[0m \u001b[0mary\u001b[0m\u001b[0;34m.\u001b[0m\u001b[0mreshape\u001b[0m\u001b[0;34m(\u001b[0m\u001b[0;36m1\u001b[0m\u001b[0;34m)\u001b[0m\u001b[0;34m\u001b[0m\u001b[0;34m\u001b[0m\u001b[0m\n",
      "\u001b[0;32m~/anaconda3/envs/ksh/lib/python3.7/site-packages/torch/_tensor.py\u001b[0m in \u001b[0;36m__array__\u001b[0;34m(self, dtype)\u001b[0m\n\u001b[1;32m    954\u001b[0m             \u001b[0;32mreturn\u001b[0m \u001b[0mhandle_torch_function\u001b[0m\u001b[0;34m(\u001b[0m\u001b[0mTensor\u001b[0m\u001b[0;34m.\u001b[0m\u001b[0m__array__\u001b[0m\u001b[0;34m,\u001b[0m \u001b[0;34m(\u001b[0m\u001b[0mself\u001b[0m\u001b[0;34m,\u001b[0m\u001b[0;34m)\u001b[0m\u001b[0;34m,\u001b[0m \u001b[0mself\u001b[0m\u001b[0;34m,\u001b[0m \u001b[0mdtype\u001b[0m\u001b[0;34m=\u001b[0m\u001b[0mdtype\u001b[0m\u001b[0;34m)\u001b[0m\u001b[0;34m\u001b[0m\u001b[0;34m\u001b[0m\u001b[0m\n\u001b[1;32m    955\u001b[0m         \u001b[0;32mif\u001b[0m \u001b[0mdtype\u001b[0m \u001b[0;32mis\u001b[0m \u001b[0;32mNone\u001b[0m\u001b[0;34m:\u001b[0m\u001b[0;34m\u001b[0m\u001b[0;34m\u001b[0m\u001b[0m\n\u001b[0;32m--> 956\u001b[0;31m             \u001b[0;32mreturn\u001b[0m \u001b[0mself\u001b[0m\u001b[0;34m.\u001b[0m\u001b[0mnumpy\u001b[0m\u001b[0;34m(\u001b[0m\u001b[0;34m)\u001b[0m\u001b[0;34m\u001b[0m\u001b[0;34m\u001b[0m\u001b[0m\n\u001b[0m\u001b[1;32m    957\u001b[0m         \u001b[0;32melse\u001b[0m\u001b[0;34m:\u001b[0m\u001b[0;34m\u001b[0m\u001b[0;34m\u001b[0m\u001b[0m\n\u001b[1;32m    958\u001b[0m             \u001b[0;32mreturn\u001b[0m \u001b[0mself\u001b[0m\u001b[0;34m.\u001b[0m\u001b[0mnumpy\u001b[0m\u001b[0;34m(\u001b[0m\u001b[0;34m)\u001b[0m\u001b[0;34m.\u001b[0m\u001b[0mastype\u001b[0m\u001b[0;34m(\u001b[0m\u001b[0mdtype\u001b[0m\u001b[0;34m,\u001b[0m \u001b[0mcopy\u001b[0m\u001b[0;34m=\u001b[0m\u001b[0;32mFalse\u001b[0m\u001b[0;34m)\u001b[0m\u001b[0;34m\u001b[0m\u001b[0;34m\u001b[0m\u001b[0m\n",
      "\u001b[0;31mTypeError\u001b[0m: can't convert cuda:0 device type tensor to numpy. Use Tensor.cpu() to copy the tensor to host memory first."
     ]
    },
    {
     "data": {
      "image/png": "[encoded data removed]",
      "text/plain": [
       "<Figure size 1000x500 with 1 Axes>"
      ]
     },
     "metadata": {},
     "output_type": "display_data"
    }
   ],
   "source": [
    "plt.figure(figsize= (10,5))\n",
    "plt.plot(TrainLoss_list1)\n",
    "plt.plot(val_losses)"
   ]
  },
  {
   "cell_type": "code",
   "execution_count": null,
   "id": "0af788b9-1d94-4072-af4f-5c83165b18fc",
   "metadata": {},
   "outputs": [],
   "source": [
    "plt.figure(figsize= (10,5))\n",
    "plt.plot(valScore_list1)\n",
    "plt.plot(val_accs)\n",
    "plt.plot(val_mious)"
   ]
  },
  {
   "cell_type": "code",
   "execution_count": null,
   "id": "4795b565-b90f-424f-8455-52d43ad2e5ec",
   "metadata": {},
   "outputs": [],
   "source": []
  }
 ],
 "metadata": {
  "kernelspec": {
   "display_name": "ksh",
   "language": "python",
   "name": "ksh"
  },
  "language_info": {
   "codemirror_mode": {
    "name": "ipython",
    "version": 3
   },
   "file_extension": ".py",
   "mimetype": "text/x-python",
   "name": "python",
   "nbconvert_exporter": "python",
   "pygments_lexer": "ipython3",
   "version": "3.7.16"
  }
 },
 "nbformat": 4,
 "nbformat_minor": 5
}
