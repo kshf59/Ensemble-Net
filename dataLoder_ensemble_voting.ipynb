{
 "cells": [
  {
   "cell_type": "code",
   "execution_count": 1,
   "id": "5f271b9d-c9a3-41c5-a2e5-cd21dc79d5b6",
   "metadata": {
    "tags": []
   },
   "outputs": [],
   "source": [
    "import numpy as np\n",
    "from pathlib import Path\n",
    "from PIL import Image\n",
    "from torch.utils.data import DataLoader, random_split\n",
    "import torch\n",
    "from torch import optim\n",
    "import torch.nn as nn\n",
    "from tqdm import tqdm\n",
    "import torch.nn.functional as F\n",
    "import logging\n",
    "from evaluate import evaluate\n",
    "\n",
    "import os\n",
    "import albumentations as A\n",
    "from albumentations.pytorch import ToTensorV2\n",
    "from collections import OrderedDict\n",
    "\n",
    "from model.ensemblenet_model import EnsembleNet\n",
    "\n",
    "\n",
    "from utils.dice_score import dice_loss\n",
    "from utils.data_load import KittiDataset\n",
    "from torchsummaryX import summary"
   ]
  },
  {
   "cell_type": "code",
   "execution_count": 2,
   "id": "64ae7ca9",
   "metadata": {
    "tags": []
   },
   "outputs": [],
   "source": [
    "Val_Percent = 0.3\n",
    "Scale_Percent = 1.0\n",
    "Batch_Size = 8\n",
    "learning_rate = 0.0001\n",
    "Pin_Memory = False\n",
    "epochs = 50\n",
    "\n",
    "\n",
    "Image_Size = [384, 1216]\n",
    "Gradient_Clipping = 0.8\n",
    "\n",
    "\n",
    "Num_Class = 2\n",
    "Num_Channel = 3\n",
    "amp = True\n",
    "\n",
    "Model_Name = 'ensemble_voting'\n",
    "\n",
    "\n",
    "Img_Path =  'data/data_road/training/image_2'\n",
    "Mask_Path =  'data/data_road/training/semantic'\n",
    "\n",
    "save_checkpoint = True\n",
    "checkpoint_dir = '../trained' + '_' + Model_Name\n",
    "batch_size = Batch_Size"
   ]
  },
  {
   "cell_type": "code",
   "execution_count": 3,
   "id": "567f8440",
   "metadata": {
    "tags": []
   },
   "outputs": [],
   "source": [
    "dirImg = Path(Img_Path)\n",
    "dirMask = Path(Mask_Path)\n",
    "dir_checkpoint = Path(checkpoint_dir)"
   ]
  },
  {
   "cell_type": "code",
   "execution_count": 4,
   "id": "8e8e3825-8747-4f49-b3ee-eac27522ded2",
   "metadata": {},
   "outputs": [],
   "source": [
    "device = torch.device('cuda' if torch.cuda.is_available() else 'cpu')"
   ]
  },
  {
   "cell_type": "code",
   "execution_count": 5,
   "id": "9a4a35b2-bc69-49e4-b17c-e850f278473d",
   "metadata": {},
   "outputs": [
    {
     "name": "stderr",
     "output_type": "stream",
     "text": [
      "100%|██████████| 289/289 [00:00<00:00, 787.60it/s]\n"
     ]
    }
   ],
   "source": [
    "datasets =  KittiDataset(dirImg, dirMask, Image_Size, Scale_Percent)\n",
    "n_val = int(len(datasets) * Val_Percent)\n",
    "n_train = len(datasets) - n_val\n",
    "train_set, val_set = random_split(datasets, [n_train, n_val], generator=torch.Generator().manual_seed(0))\n",
    "\n",
    "loader_args = dict(batch_size=Batch_Size, num_workers= os.cpu_count(), pin_memory=Pin_Memory)\n",
    "train_loader = DataLoader(train_set, shuffle=True, drop_last = True, **loader_args)\n",
    "val_loader = DataLoader(val_set, shuffle=False, drop_last=True, **loader_args)"
   ]
  },
  {
   "cell_type": "code",
   "execution_count": 6,
   "id": "95b36f40-c709-4e1e-b4f6-66a1954edfd8",
   "metadata": {},
   "outputs": [],
   "source": [
    "model = EnsembleNet(Model_Name, Num_Channel, Num_Class)\n",
    "model = model.to(memory_format=torch.channels_last, device = device)"
   ]
  },
  {
   "cell_type": "code",
   "execution_count": 7,
   "id": "4a29bc96",
   "metadata": {
    "tags": []
   },
   "outputs": [],
   "source": [
    "# 4. Set up the optimizer, the loss, the learning rate scheduler and the loss scaling for AMP\n",
    "#optimizer = optim.RMSprop(model.parameters(), lr=learning_rate, weight_decay=1e-8, momentum=0.9)\n",
    "#optimizer = optim.SGD(model.parameters(), lr=learning_rate, weight_decay=1e-8, momentum=0.9)\n",
    "\n",
    "if 'ensemble_voting' in Model_Name:\n",
    "    unet_optimizer = optim.Adam(model.parameters(), lr=learning_rate, weight_decay=1e-8)\n",
    "    segnet_optimizer = optim.Adam(model.parameters(), lr=learning_rate, weight_decay=1e-8)\n",
    "    enet_optimizer = optim.Adam(model.parameters(), lr=learning_rate, weight_decay=1e-8)\n",
    "    optims = [unet_optimizer, segnet_optimizer, enet_optimizer]\n",
    "    \n",
    "    unet_scheduler = optim.lr_scheduler.ReduceLROnPlateau(unet_optimizer, 'max', patience=2)  # goal: maximize Dice score\n",
    "    segnet_scheduler = optim.lr_scheduler.ReduceLROnPlateau(segnet_optimizer, 'max', patience=2)  # goal: maximize Dice score\n",
    "    enet_scheduler = optim.lr_scheduler.ReduceLROnPlateau(enet_optimizer, 'max', patience=2)  # goal: maximize Dice score\n",
    "    \n",
    "    \n",
    "    \n",
    "else:\n",
    "    optimizer = optim.Adam(model.parameters(), lr=learning_rate, weight_decay=1e-8)\n",
    "    optims = [optimizer]\n",
    "    \n",
    "    scheduler = optim.lr_scheduler.ReduceLROnPlateau(optimizer, 'max', patience=2)  # goal: maximize Dice score\n",
    "    \n",
    "    \n",
    "    \n",
    "grad_scaler = torch.cuda.amp.GradScaler(enabled=amp)\n",
    "criterion = nn.CrossEntropyLoss()\n",
    "global_step = 0"
   ]
  },
  {
   "cell_type": "code",
   "execution_count": 8,
   "id": "46e43754-2870-4837-b38a-3f57d6733ddc",
   "metadata": {},
   "outputs": [],
   "source": [
    "def calculate_loss(pred, true_masks, nclass, multiclass):\n",
    "    loss = criterion(pred, true_masks)\n",
    "    loss += dice_loss(\n",
    "        F.softmax(pred, dim=1).float(),\n",
    "        F.one_hot(true_masks, nclass).permute(0, 3, 1, 2).float(),\n",
    "        multiclass=multiclass\n",
    "    )\n",
    "    return loss\n",
    "\n",
    "def grad_forback(models, losses, optim):\n",
    "    optim.zero_grad(set_to_none=True)\n",
    "    grad_scaler.scale(losses).backward()\n",
    "    torch.nn.utils.clip_grad_norm_(models.parameters(), Gradient_Clipping)\n",
    "    grad_scaler.step(optim)\n",
    "    grad_scaler.update()    \n",
    "\n",
    "def forward_and_backward(model, images, true_masks, amp, optimizers, grad_scaler, model_name):\n",
    "    with torch.autocast(device.type if device.type != 'mps' else 'cpu', enabled=amp):\n",
    "        \n",
    "        try:\n",
    "            mn_cls = model.n_classes\n",
    "        except:\n",
    "            mn_cls = model.classifier[-1].out_channels\n",
    "\n",
    "        if model_name == 'ensemble_voting':\n",
    "            unet_pred, segnet_pred, enet_pred = model(images)\n",
    "            #deeplab_pred = deeplab_pred['out']\n",
    "            \n",
    "            unet_loss = calculate_loss(unet_pred, true_masks, mn_cls, multiclass=True)\n",
    "            segnet_loss = calculate_loss(segnet_pred, true_masks, mn_cls, multiclass=True)\n",
    "            enet_loss = calculate_loss(enet_pred, true_masks, mn_cls, multiclass=True)\n",
    "            \n",
    "            \n",
    "        else:\n",
    "            masks_pred = model(images)\n",
    "            if isinstance(masks_pred, OrderedDict):\n",
    "                masks_pred = masks_pred['out']\n",
    "            loss = calculate_loss(masks_pred, true_masks, mn_cls, multiclass=True)\n",
    "    \n",
    "    \n",
    "    if model_name == 'ensemble_voting':\n",
    "        for _loss, _optiz in zip([unet_loss, segnet_loss, enet_loss], optimizers):\n",
    "            grad_forback(model, _loss, _optiz)\n",
    "\n",
    "        return model, unet_loss, segnet_loss, enet_loss\n",
    "    else:\n",
    "        for _loss, _optiz in zip([loss], optimizers):\n",
    "            grad_forback(model, _loss, _optiz)\n",
    "            \n",
    "        return model, loss\n"
   ]
  },
  {
   "cell_type": "code",
   "execution_count": 9,
   "id": "8bb76263-8fd8-437d-9204-8ebc2af3de6d",
   "metadata": {},
   "outputs": [
    {
     "name": "stderr",
     "output_type": "stream",
     "text": [
      "Epoch 1/50:  99%|█████████▊| 200/203 [00:18<00:00, 14.92img/s]"
     ]
    },
    {
     "name": "stdout",
     "output_type": "stream",
     "text": [
      "***\n",
      "Unet Loss: 0.37818628549575806     Segnet Loss: 0.6805641055107117     Enet Loss: 1.0717358589172363\n",
      "Voting Loss: 0.710162083307902\n"
     ]
    },
    {
     "name": "stderr",
     "output_type": "stream",
     "text": [
      "Epoch 1/50:  99%|█████████▊| 200/203 [00:21<00:00,  9.11img/s]"
     ]
    },
    {
     "name": "stdout",
     "output_type": "stream",
     "text": [
      "---\n",
      "Unet Validation Dice Score: 0.4892137944698334     Segnet Validation Dice Score: 0.03749576210975647     Enet Validation Dice Score: 0.19483999907970428\n",
      "---\n",
      "Ensemble Voting Validation Dice Loss: 0.945310115814209\n",
      "Ensemble Voting Validation Pixel Accuracy: 0.8587611683628016 \n",
      "Ensemble Voting Validation MIoU: 0.4930131837820453\n",
      "Ensemble Voting Validation Dice Score: 0.27916812896728516 \n"
     ]
    },
    {
     "name": "stderr",
     "output_type": "stream",
     "text": [
      "\n",
      "Epoch 2/50:  99%|█████████▊| 200/203 [00:16<00:00, 14.87img/s]"
     ]
    },
    {
     "name": "stdout",
     "output_type": "stream",
     "text": [
      "***\n",
      "Unet Loss: 0.31856125593185425     Segnet Loss: 0.4491935968399048     Enet Loss: 0.9904459118843079\n",
      "Voting Loss: 0.5860669215520223\n"
     ]
    },
    {
     "name": "stderr",
     "output_type": "stream",
     "text": [
      "Epoch 2/50:  99%|█████████▊| 200/203 [00:20<00:00,  9.65img/s]"
     ]
    },
    {
     "name": "stdout",
     "output_type": "stream",
     "text": [
      "---\n",
      "Unet Validation Dice Score: 0.7179229855537415     Segnet Validation Dice Score: 0.6899496912956238     Enet Validation Dice Score: 0.27052566409111023\n",
      "---\n",
      "Ensemble Voting Validation Dice Loss: 0.6908583641052246\n",
      "Ensemble Voting Validation Pixel Accuracy: 0.916164197419819 \n",
      "Ensemble Voting Validation MIoU: 0.7578146868445521\n",
      "Ensemble Voting Validation Dice Score: 0.7435643076896667 \n"
     ]
    },
    {
     "name": "stderr",
     "output_type": "stream",
     "text": [
      "\n",
      "Epoch 3/50:  99%|█████████▊| 200/203 [00:15<00:00, 14.98img/s]"
     ]
    },
    {
     "name": "stdout",
     "output_type": "stream",
     "text": [
      "***\n",
      "Unet Loss: 0.2504093050956726     Segnet Loss: 0.3089843690395355     Enet Loss: 0.8579037189483643\n",
      "Voting Loss: 0.4724324643611908\n"
     ]
    },
    {
     "name": "stderr",
     "output_type": "stream",
     "text": [
      "Epoch 3/50:  99%|█████████▊| 200/203 [00:19<00:00, 10.51img/s]"
     ]
    },
    {
     "name": "stdout",
     "output_type": "stream",
     "text": [
      "---\n",
      "Unet Validation Dice Score: 0.8417189717292786     Segnet Validation Dice Score: 0.7057092785835266     Enet Validation Dice Score: 0.354224294424057\n",
      "---\n",
      "Ensemble Voting Validation Dice Loss: 0.5106196403503418\n",
      "Ensemble Voting Validation Pixel Accuracy: 0.9368644848204496 \n",
      "Ensemble Voting Validation MIoU: 0.7928578587868873\n",
      "Ensemble Voting Validation Dice Score: 0.7882213592529297 \n"
     ]
    },
    {
     "name": "stderr",
     "output_type": "stream",
     "text": [
      "\n",
      "Epoch 4/50:  99%|█████████▊| 200/203 [00:15<00:00, 15.00img/s]"
     ]
    },
    {
     "name": "stdout",
     "output_type": "stream",
     "text": [
      "***\n",
      "Unet Loss: 0.2599067687988281     Segnet Loss: 0.25662627816200256     Enet Loss: 0.7822532653808594\n",
      "Voting Loss: 0.43292877078056335\n"
     ]
    },
    {
     "name": "stderr",
     "output_type": "stream",
     "text": [
      "Epoch 4/50:  99%|█████████▊| 200/203 [00:19<00:00, 10.22img/s]"
     ]
    },
    {
     "name": "stdout",
     "output_type": "stream",
     "text": [
      "---\n",
      "Unet Validation Dice Score: 0.8467105031013489     Segnet Validation Dice Score: 0.7828628420829773     Enet Validation Dice Score: 0.3956030309200287\n",
      "---\n",
      "Ensemble Voting Validation Dice Loss: 0.5306209723154703\n",
      "Ensemble Voting Validation Pixel Accuracy: 0.9243549547697368 \n",
      "Ensemble Voting Validation MIoU: 0.7691282184831967\n",
      "Ensemble Voting Validation Dice Score: 0.8459417223930359 \n"
     ]
    },
    {
     "name": "stderr",
     "output_type": "stream",
     "text": [
      "\n",
      "Epoch 5/50:  99%|█████████▊| 200/203 [00:15<00:00, 15.10img/s]"
     ]
    },
    {
     "name": "stdout",
     "output_type": "stream",
     "text": [
      "***\n",
      "Unet Loss: 0.2775287926197052     Segnet Loss: 0.2916276454925537     Enet Loss: 0.7293223142623901\n",
      "Voting Loss: 0.4328262507915497\n"
     ]
    },
    {
     "name": "stderr",
     "output_type": "stream",
     "text": [
      "Epoch 5/50:  99%|█████████▊| 200/203 [00:19<00:00, 10.39img/s]"
     ]
    },
    {
     "name": "stdout",
     "output_type": "stream",
     "text": [
      "---\n",
      "Unet Validation Dice Score: 0.8699058890342712     Segnet Validation Dice Score: 0.8183168768882751     Enet Validation Dice Score: 0.4459342062473297\n",
      "---\n",
      "Ensemble Voting Validation Dice Loss: 0.4364035924275716\n",
      "Ensemble Voting Validation Pixel Accuracy: 0.946441650390625 \n",
      "Ensemble Voting Validation MIoU: 0.8264306938189554\n",
      "Ensemble Voting Validation Dice Score: 0.8507343530654907 \n"
     ]
    },
    {
     "name": "stderr",
     "output_type": "stream",
     "text": [
      "\n",
      "Epoch 6/50:  99%|█████████▊| 200/203 [00:15<00:00, 14.90img/s]"
     ]
    },
    {
     "name": "stdout",
     "output_type": "stream",
     "text": [
      "***\n",
      "Unet Loss: 0.18173786997795105     Segnet Loss: 0.1687288135290146     Enet Loss: 0.6477915048599243\n",
      "Voting Loss: 0.33275272945563\n"
     ]
    },
    {
     "name": "stderr",
     "output_type": "stream",
     "text": [
      "Epoch 6/50:  99%|█████████▊| 200/203 [00:19<00:00, 10.35img/s]"
     ]
    },
    {
     "name": "stdout",
     "output_type": "stream",
     "text": [
      "---\n",
      "Unet Validation Dice Score: 0.8537306189537048     Segnet Validation Dice Score: 0.8407407999038696     Enet Validation Dice Score: 0.49228984117507935\n",
      "---\n",
      "Ensemble Voting Validation Dice Loss: 0.41966843605041504\n",
      "Ensemble Voting Validation Pixel Accuracy: 0.9426759418688322 \n",
      "Ensemble Voting Validation MIoU: 0.816665732197214\n",
      "Ensemble Voting Validation Dice Score: 0.8631256222724915 \n"
     ]
    },
    {
     "name": "stderr",
     "output_type": "stream",
     "text": [
      "\n",
      "Epoch 7/50:  99%|█████████▊| 200/203 [00:15<00:00, 14.69img/s]"
     ]
    },
    {
     "name": "stdout",
     "output_type": "stream",
     "text": [
      "***\n",
      "Unet Loss: 0.1860765516757965     Segnet Loss: 0.20395463705062866     Enet Loss: 0.5844480991363525\n",
      "Voting Loss: 0.3248264292875926\n"
     ]
    },
    {
     "name": "stderr",
     "output_type": "stream",
     "text": [
      "Epoch 7/50:  99%|█████████▊| 200/203 [00:19<00:00, 10.39img/s]"
     ]
    },
    {
     "name": "stdout",
     "output_type": "stream",
     "text": [
      "---\n",
      "Unet Validation Dice Score: 0.8735065460205078     Segnet Validation Dice Score: 0.8515545129776001     Enet Validation Dice Score: 0.5234914422035217\n",
      "---\n",
      "Ensemble Voting Validation Dice Loss: 0.371282418568929\n",
      "Ensemble Voting Validation Pixel Accuracy: 0.9480853164405153 \n",
      "Ensemble Voting Validation MIoU: 0.8264633631670597\n",
      "Ensemble Voting Validation Dice Score: 0.8749837875366211 \n"
     ]
    },
    {
     "name": "stderr",
     "output_type": "stream",
     "text": [
      "\n",
      "Epoch 8/50:  99%|█████████▊| 200/203 [00:15<00:00, 14.93img/s]"
     ]
    },
    {
     "name": "stdout",
     "output_type": "stream",
     "text": [
      "***\n",
      "Unet Loss: 0.17173385620117188     Segnet Loss: 0.13186071813106537     Enet Loss: 0.561200737953186\n",
      "Voting Loss: 0.2882651040951411\n"
     ]
    },
    {
     "name": "stderr",
     "output_type": "stream",
     "text": [
      "Epoch 8/50:  99%|█████████▊| 200/203 [00:19<00:00, 10.38img/s]"
     ]
    },
    {
     "name": "stdout",
     "output_type": "stream",
     "text": [
      "---\n",
      "Unet Validation Dice Score: 0.8784331679344177     Segnet Validation Dice Score: 0.8662249445915222     Enet Validation Dice Score: 0.5468770861625671\n",
      "---\n",
      "Ensemble Voting Validation Dice Loss: 0.35642186800638836\n",
      "Ensemble Voting Validation Pixel Accuracy: 0.9453572055749726 \n",
      "Ensemble Voting Validation MIoU: 0.822690987639757\n",
      "Ensemble Voting Validation Dice Score: 0.8777031898498535 \n"
     ]
    },
    {
     "name": "stderr",
     "output_type": "stream",
     "text": [
      "\n",
      "Epoch 9/50:  99%|█████████▊| 200/203 [00:15<00:00, 14.72img/s]"
     ]
    },
    {
     "name": "stdout",
     "output_type": "stream",
     "text": [
      "***\n",
      "Unet Loss: 0.15338701009750366     Segnet Loss: 0.11105405539274216     Enet Loss: 0.5082371234893799\n",
      "Voting Loss: 0.2575593963265419\n"
     ]
    },
    {
     "name": "stderr",
     "output_type": "stream",
     "text": [
      "Epoch 9/50:  99%|█████████▊| 200/203 [00:19<00:00, 10.35img/s]"
     ]
    },
    {
     "name": "stdout",
     "output_type": "stream",
     "text": [
      "---\n",
      "Unet Validation Dice Score: 0.8440017104148865     Segnet Validation Dice Score: 0.8666560053825378     Enet Validation Dice Score: 0.5738579630851746\n",
      "---\n",
      "Ensemble Voting Validation Dice Loss: 0.3230193654696147\n",
      "Ensemble Voting Validation Pixel Accuracy: 0.9507639031661185 \n",
      "Ensemble Voting Validation MIoU: 0.8336205646613177\n",
      "Ensemble Voting Validation Dice Score: 0.8706055879592896 \n"
     ]
    },
    {
     "name": "stderr",
     "output_type": "stream",
     "text": [
      "\n",
      "Epoch 10/50:  99%|█████████▊| 200/203 [00:15<00:00, 15.03img/s]"
     ]
    },
    {
     "name": "stdout",
     "output_type": "stream",
     "text": [
      "***\n",
      "Unet Loss: 0.14389488101005554     Segnet Loss: 0.1329418420791626     Enet Loss: 0.49505677819252014\n",
      "Voting Loss: 0.2572978337605794\n"
     ]
    },
    {
     "name": "stderr",
     "output_type": "stream",
     "text": [
      "Epoch 10/50:  99%|█████████▊| 200/203 [00:19<00:00, 10.44img/s]"
     ]
    },
    {
     "name": "stdout",
     "output_type": "stream",
     "text": [
      "---\n",
      "Unet Validation Dice Score: 0.8168998956680298     Segnet Validation Dice Score: 0.8726657032966614     Enet Validation Dice Score: 0.5896154642105103\n",
      "---\n",
      "Ensemble Voting Validation Dice Loss: 0.3546517292658488\n",
      "Ensemble Voting Validation Pixel Accuracy: 0.944000244140625 \n",
      "Ensemble Voting Validation MIoU: 0.8257857701445449\n",
      "Ensemble Voting Validation Dice Score: 0.866080105304718 \n"
     ]
    },
    {
     "name": "stderr",
     "output_type": "stream",
     "text": [
      "\n",
      "Epoch 11/50:  99%|█████████▊| 200/203 [00:15<00:00, 15.01img/s]"
     ]
    },
    {
     "name": "stdout",
     "output_type": "stream",
     "text": [
      "***\n",
      "Unet Loss: 0.14092808961868286     Segnet Loss: 0.10874921083450317     Enet Loss: 0.46153175830841064\n",
      "Voting Loss: 0.23706968625386557\n"
     ]
    },
    {
     "name": "stderr",
     "output_type": "stream",
     "text": [
      "Epoch 11/50:  99%|█████████▊| 200/203 [00:19<00:00, 10.29img/s]"
     ]
    },
    {
     "name": "stdout",
     "output_type": "stream",
     "text": [
      "---\n",
      "Unet Validation Dice Score: 0.8742241859436035     Segnet Validation Dice Score: 0.8833625912666321     Enet Validation Dice Score: 0.6168721914291382\n",
      "---\n",
      "Ensemble Voting Validation Dice Loss: 0.29489274819691974\n",
      "Ensemble Voting Validation Pixel Accuracy: 0.9531753272341009 \n",
      "Ensemble Voting Validation MIoU: 0.847133825201838\n",
      "Ensemble Voting Validation Dice Score: 0.8834999203681946 \n"
     ]
    },
    {
     "name": "stderr",
     "output_type": "stream",
     "text": [
      "\n",
      "Epoch 12/50:  99%|█████████▊| 200/203 [00:15<00:00, 15.09img/s]"
     ]
    },
    {
     "name": "stdout",
     "output_type": "stream",
     "text": [
      "***\n",
      "Unet Loss: 0.10956200957298279     Segnet Loss: 0.080081045627594     Enet Loss: 0.4029269218444824\n",
      "Voting Loss: 0.1975233256816864\n"
     ]
    },
    {
     "name": "stderr",
     "output_type": "stream",
     "text": [
      "Epoch 12/50:  99%|█████████▊| 200/203 [00:19<00:00, 10.44img/s]"
     ]
    },
    {
     "name": "stdout",
     "output_type": "stream",
     "text": [
      "---\n",
      "Unet Validation Dice Score: 0.901947021484375     Segnet Validation Dice Score: 0.8784899115562439     Enet Validation Dice Score: 0.657073974609375\n",
      "---\n",
      "Ensemble Voting Validation Dice Loss: 0.273112416267395\n",
      "Ensemble Voting Validation Pixel Accuracy: 0.9556592974746436 \n",
      "Ensemble Voting Validation MIoU: 0.8530490455614796\n",
      "Ensemble Voting Validation Dice Score: 0.8960490226745605 \n"
     ]
    },
    {
     "name": "stderr",
     "output_type": "stream",
     "text": [
      "\n",
      "Epoch 13/50:  99%|█████████▊| 200/203 [00:15<00:00, 15.01img/s]"
     ]
    },
    {
     "name": "stdout",
     "output_type": "stream",
     "text": [
      "***\n",
      "Unet Loss: 0.10526877641677856     Segnet Loss: 0.06509511172771454     Enet Loss: 0.40173807740211487\n",
      "Voting Loss: 0.19070065518220267\n"
     ]
    },
    {
     "name": "stderr",
     "output_type": "stream",
     "text": [
      "Epoch 13/50:  99%|█████████▊| 200/203 [00:19<00:00, 10.51img/s]"
     ]
    },
    {
     "name": "stdout",
     "output_type": "stream",
     "text": [
      "---\n",
      "Unet Validation Dice Score: 0.9018718004226685     Segnet Validation Dice Score: 0.9034203886985779     Enet Validation Dice Score: 0.7173172235488892\n",
      "---\n",
      "Ensemble Voting Validation Dice Loss: 0.25366894404093426\n",
      "Ensemble Voting Validation Pixel Accuracy: 0.961492705763432 \n",
      "Ensemble Voting Validation MIoU: 0.8675451521492511\n",
      "Ensemble Voting Validation Dice Score: 0.9101871848106384 \n"
     ]
    },
    {
     "name": "stderr",
     "output_type": "stream",
     "text": [
      "\n",
      "Epoch 14/50:  99%|█████████▊| 200/203 [00:15<00:00, 15.01img/s]"
     ]
    },
    {
     "name": "stdout",
     "output_type": "stream",
     "text": [
      "***\n",
      "Unet Loss: 0.12749631702899933     Segnet Loss: 0.1446669101715088     Enet Loss: 0.415101557970047\n",
      "Voting Loss: 0.22908826172351837\n"
     ]
    },
    {
     "name": "stderr",
     "output_type": "stream",
     "text": [
      "Epoch 14/50:  99%|█████████▊| 200/203 [00:19<00:00, 10.51img/s]"
     ]
    },
    {
     "name": "stdout",
     "output_type": "stream",
     "text": [
      "---\n",
      "Unet Validation Dice Score: 0.9023136496543884     Segnet Validation Dice Score: 0.8862956166267395     Enet Validation Dice Score: 0.7569133043289185\n",
      "---\n",
      "Ensemble Voting Validation Dice Loss: 0.24411980311075845\n",
      "Ensemble Voting Validation Pixel Accuracy: 0.9626060619688871 \n",
      "Ensemble Voting Validation MIoU: 0.8728201457763649\n",
      "Ensemble Voting Validation Dice Score: 0.8987385630607605 \n"
     ]
    },
    {
     "name": "stderr",
     "output_type": "stream",
     "text": [
      "\n",
      "Epoch 15/50:  99%|█████████▊| 200/203 [00:15<00:00, 14.91img/s]"
     ]
    },
    {
     "name": "stdout",
     "output_type": "stream",
     "text": [
      "***\n",
      "Unet Loss: 0.10525091737508774     Segnet Loss: 0.07800174504518509     Enet Loss: 0.38191595673561096\n",
      "Voting Loss: 0.18838953971862793\n"
     ]
    },
    {
     "name": "stderr",
     "output_type": "stream",
     "text": [
      "Epoch 15/50:  99%|█████████▊| 200/203 [00:19<00:00, 10.29img/s]"
     ]
    },
    {
     "name": "stdout",
     "output_type": "stream",
     "text": [
      "---\n",
      "Unet Validation Dice Score: 0.8996745944023132     Segnet Validation Dice Score: 0.899296224117279     Enet Validation Dice Score: 0.7876140475273132\n",
      "---\n",
      "Ensemble Voting Validation Dice Loss: 0.236099640528361\n",
      "Ensemble Voting Validation Pixel Accuracy: 0.9642342015316612 \n",
      "Ensemble Voting Validation MIoU: 0.876951149177235\n",
      "Ensemble Voting Validation Dice Score: 0.9048464894294739 \n"
     ]
    },
    {
     "name": "stderr",
     "output_type": "stream",
     "text": [
      "\n",
      "Epoch 16/50:  99%|█████████▊| 200/203 [00:15<00:00, 14.99img/s]"
     ]
    },
    {
     "name": "stdout",
     "output_type": "stream",
     "text": [
      "***\n",
      "Unet Loss: 0.10037992149591446     Segnet Loss: 0.0688672661781311     Enet Loss: 0.338206946849823\n",
      "Voting Loss: 0.16915137817462286\n"
     ]
    },
    {
     "name": "stderr",
     "output_type": "stream",
     "text": [
      "Epoch 16/50:  99%|█████████▊| 200/203 [00:19<00:00, 10.40img/s]"
     ]
    },
    {
     "name": "stdout",
     "output_type": "stream",
     "text": [
      "---\n",
      "Unet Validation Dice Score: 0.9064472317695618     Segnet Validation Dice Score: 0.8935334086418152     Enet Validation Dice Score: 0.8073232769966125\n",
      "---\n",
      "Ensemble Voting Validation Dice Loss: 0.23007404804229736\n",
      "Ensemble Voting Validation Pixel Accuracy: 0.9644413998252467 \n",
      "Ensemble Voting Validation MIoU: 0.8768553809978972\n",
      "Ensemble Voting Validation Dice Score: 0.9085506796836853 \n"
     ]
    },
    {
     "name": "stderr",
     "output_type": "stream",
     "text": [
      "\n",
      "Epoch 17/50:  99%|█████████▊| 200/203 [00:15<00:00, 14.98img/s]"
     ]
    },
    {
     "name": "stdout",
     "output_type": "stream",
     "text": [
      "***\n",
      "Unet Loss: 0.0967160016298294     Segnet Loss: 0.04858549311757088     Enet Loss: 0.31193381547927856\n",
      "Voting Loss: 0.15241177007555962\n"
     ]
    },
    {
     "name": "stderr",
     "output_type": "stream",
     "text": [
      "Epoch 17/50:  99%|█████████▊| 200/203 [00:19<00:00, 10.49img/s]"
     ]
    },
    {
     "name": "stdout",
     "output_type": "stream",
     "text": [
      "---\n",
      "Unet Validation Dice Score: 0.9045774340629578     Segnet Validation Dice Score: 0.9132936596870422     Enet Validation Dice Score: 0.8282753825187683\n",
      "---\n",
      "Ensemble Voting Validation Dice Loss: 0.2199257810910543\n",
      "Ensemble Voting Validation Pixel Accuracy: 0.9676229911938048 \n",
      "Ensemble Voting Validation MIoU: 0.8868342300709735\n",
      "Ensemble Voting Validation Dice Score: 0.9166345596313477 \n"
     ]
    },
    {
     "name": "stderr",
     "output_type": "stream",
     "text": [
      "\n",
      "Epoch 18/50:  99%|█████████▊| 200/203 [00:15<00:00, 15.03img/s]"
     ]
    },
    {
     "name": "stdout",
     "output_type": "stream",
     "text": [
      "***\n",
      "Unet Loss: 0.09463538974523544     Segnet Loss: 0.05453458055853844     Enet Loss: 0.32750940322875977\n",
      "Voting Loss: 0.15889312451084456\n"
     ]
    },
    {
     "name": "stderr",
     "output_type": "stream",
     "text": [
      "Epoch 18/50:  99%|█████████▊| 200/203 [00:19<00:00, 10.34img/s]"
     ]
    },
    {
     "name": "stdout",
     "output_type": "stream",
     "text": [
      "---\n",
      "Unet Validation Dice Score: 0.9073511958122253     Segnet Validation Dice Score: 0.9099523425102234     Enet Validation Dice Score: 0.8366180658340454\n",
      "---\n",
      "Ensemble Voting Validation Dice Loss: 0.20956615606943765\n",
      "Ensemble Voting Validation Pixel Accuracy: 0.9697284363863761 \n",
      "Ensemble Voting Validation MIoU: 0.892234878580122\n",
      "Ensemble Voting Validation Dice Score: 0.915090024471283 \n"
     ]
    },
    {
     "name": "stderr",
     "output_type": "stream",
     "text": [
      "\n",
      "Epoch 19/50:  99%|█████████▊| 200/203 [00:15<00:00, 14.91img/s]"
     ]
    },
    {
     "name": "stdout",
     "output_type": "stream",
     "text": [
      "***\n",
      "Unet Loss: 0.09621547907590866     Segnet Loss: 0.04559137299656868     Enet Loss: 0.30638009309768677\n",
      "Voting Loss: 0.1493956483900547\n"
     ]
    },
    {
     "name": "stderr",
     "output_type": "stream",
     "text": [
      "Epoch 19/50:  99%|█████████▊| 200/203 [00:18<00:00, 10.54img/s]"
     ]
    },
    {
     "name": "stdout",
     "output_type": "stream",
     "text": [
      "---\n",
      "Unet Validation Dice Score: 0.8958490490913391     Segnet Validation Dice Score: 0.9111833572387695     Enet Validation Dice Score: 0.8471827507019043\n",
      "---\n",
      "Ensemble Voting Validation Dice Loss: 0.21212522188822427\n",
      "Ensemble Voting Validation Pixel Accuracy: 0.9659316748903509 \n",
      "Ensemble Voting Validation MIoU: 0.881430414278988\n",
      "Ensemble Voting Validation Dice Score: 0.91117924451828 \n"
     ]
    },
    {
     "name": "stderr",
     "output_type": "stream",
     "text": [
      "\n",
      "Epoch 20/50:  99%|█████████▊| 200/203 [00:15<00:00, 15.00img/s]"
     ]
    },
    {
     "name": "stdout",
     "output_type": "stream",
     "text": [
      "***\n",
      "Unet Loss: 0.09011722356081009     Segnet Loss: 0.0451795756816864     Enet Loss: 0.26174646615982056\n",
      "Voting Loss: 0.13234775513410568\n"
     ]
    },
    {
     "name": "stderr",
     "output_type": "stream",
     "text": [
      "Epoch 20/50:  99%|█████████▊| 200/203 [00:19<00:00, 10.32img/s]"
     ]
    },
    {
     "name": "stdout",
     "output_type": "stream",
     "text": [
      "---\n",
      "Unet Validation Dice Score: 0.9080830812454224     Segnet Validation Dice Score: 0.9124032258987427     Enet Validation Dice Score: 0.8471618890762329\n",
      "---\n",
      "Ensemble Voting Validation Dice Loss: 0.218153715133667\n",
      "Ensemble Voting Validation Pixel Accuracy: 0.9634169193736294 \n",
      "Ensemble Voting Validation MIoU: 0.8745659769199863\n",
      "Ensemble Voting Validation Dice Score: 0.9161712527275085 \n"
     ]
    },
    {
     "name": "stderr",
     "output_type": "stream",
     "text": [
      "\n",
      "Epoch 21/50:  99%|█████████▊| 200/203 [00:15<00:00, 14.87img/s]"
     ]
    },
    {
     "name": "stdout",
     "output_type": "stream",
     "text": [
      "***\n",
      "Unet Loss: 0.09397298842668533     Segnet Loss: 0.04040251672267914     Enet Loss: 0.2767416834831238\n",
      "Voting Loss: 0.1370390628774961\n"
     ]
    },
    {
     "name": "stderr",
     "output_type": "stream",
     "text": [
      "Epoch 21/50:  99%|█████████▊| 200/203 [00:18<00:00, 10.53img/s]"
     ]
    },
    {
     "name": "stdout",
     "output_type": "stream",
     "text": [
      "---\n",
      "Unet Validation Dice Score: 0.9026281237602234     Segnet Validation Dice Score: 0.9169701933860779     Enet Validation Dice Score: 0.8531064987182617\n",
      "---\n",
      "Ensemble Voting Validation Dice Loss: 0.21114798386891684\n",
      "Ensemble Voting Validation Pixel Accuracy: 0.9658714428282621 \n",
      "Ensemble Voting Validation MIoU: 0.8826012681202318\n",
      "Ensemble Voting Validation Dice Score: 0.9184900522232056 \n"
     ]
    },
    {
     "name": "stderr",
     "output_type": "stream",
     "text": [
      "\n",
      "Epoch 22/50:  99%|█████████▊| 200/203 [00:15<00:00, 14.77img/s]"
     ]
    },
    {
     "name": "stdout",
     "output_type": "stream",
     "text": [
      "***\n",
      "Unet Loss: 0.10888887196779251     Segnet Loss: 0.04376913979649544     Enet Loss: 0.2415844351053238\n",
      "Voting Loss: 0.13141414895653725\n"
     ]
    },
    {
     "name": "stderr",
     "output_type": "stream",
     "text": [
      "Epoch 22/50:  99%|█████████▊| 200/203 [00:19<00:00, 10.11img/s]"
     ]
    },
    {
     "name": "stdout",
     "output_type": "stream",
     "text": [
      "---\n",
      "Unet Validation Dice Score: 0.9062420725822449     Segnet Validation Dice Score: 0.9145038723945618     Enet Validation Dice Score: 0.8467389345169067\n",
      "---\n",
      "Ensemble Voting Validation Dice Loss: 0.20603346824645996\n",
      "Ensemble Voting Validation Pixel Accuracy: 0.9657665051912007 \n",
      "Ensemble Voting Validation MIoU: 0.8820139782465888\n",
      "Ensemble Voting Validation Dice Score: 0.9183112978935242 \n"
     ]
    },
    {
     "name": "stderr",
     "output_type": "stream",
     "text": [
      "\n",
      "Epoch 23/50:  99%|█████████▊| 200/203 [00:15<00:00, 14.97img/s]"
     ]
    },
    {
     "name": "stdout",
     "output_type": "stream",
     "text": [
      "***\n",
      "Unet Loss: 0.10810162127017975     Segnet Loss: 0.05085111781954765     Enet Loss: 0.2875458002090454\n",
      "Voting Loss: 0.14883284643292427\n"
     ]
    },
    {
     "name": "stderr",
     "output_type": "stream",
     "text": [
      "Epoch 23/50:  99%|█████████▊| 200/203 [00:18<00:00, 10.55img/s]"
     ]
    },
    {
     "name": "stdout",
     "output_type": "stream",
     "text": [
      "---\n",
      "Unet Validation Dice Score: 0.9014131426811218     Segnet Validation Dice Score: 0.9129776358604431     Enet Validation Dice Score: 0.8584688305854797\n",
      "---\n",
      "Ensemble Voting Validation Dice Loss: 0.21401248375574747\n",
      "Ensemble Voting Validation Pixel Accuracy: 0.9611072205660636 \n",
      "Ensemble Voting Validation MIoU: 0.8690385090248103\n",
      "Ensemble Voting Validation Dice Score: 0.9125649333000183 \n"
     ]
    },
    {
     "name": "stderr",
     "output_type": "stream",
     "text": [
      "\n",
      "Epoch 24/50:  99%|█████████▊| 200/203 [00:15<00:00, 15.04img/s]"
     ]
    },
    {
     "name": "stdout",
     "output_type": "stream",
     "text": [
      "***\n",
      "Unet Loss: 0.09094376862049103     Segnet Loss: 0.04832752048969269     Enet Loss: 0.24681438505649567\n",
      "Voting Loss: 0.12869522472222647\n"
     ]
    },
    {
     "name": "stderr",
     "output_type": "stream",
     "text": [
      "Epoch 24/50:  99%|█████████▊| 200/203 [00:19<00:00, 10.31img/s]"
     ]
    },
    {
     "name": "stdout",
     "output_type": "stream",
     "text": [
      "---\n",
      "Unet Validation Dice Score: 0.9059160351753235     Segnet Validation Dice Score: 0.9176607131958008     Enet Validation Dice Score: 0.8539552688598633\n",
      "---\n",
      "Ensemble Voting Validation Dice Loss: 0.19836131731669107\n",
      "Ensemble Voting Validation Pixel Accuracy: 0.9665259645696271 \n",
      "Ensemble Voting Validation MIoU: 0.8841577759704731\n",
      "Ensemble Voting Validation Dice Score: 0.9174118041992188 \n"
     ]
    },
    {
     "name": "stderr",
     "output_type": "stream",
     "text": [
      "\n",
      "Epoch 25/50:  99%|█████████▊| 200/203 [00:15<00:00, 14.82img/s]"
     ]
    },
    {
     "name": "stdout",
     "output_type": "stream",
     "text": [
      "***\n",
      "Unet Loss: 0.10418841242790222     Segnet Loss: 0.05257124826312065     Enet Loss: 0.2689718008041382\n",
      "Voting Loss: 0.1419104871650537\n"
     ]
    },
    {
     "name": "stderr",
     "output_type": "stream",
     "text": [
      "Epoch 25/50:  99%|█████████▊| 200/203 [00:19<00:00, 10.47img/s]"
     ]
    },
    {
     "name": "stdout",
     "output_type": "stream",
     "text": [
      "---\n",
      "Unet Validation Dice Score: 0.9088732600212097     Segnet Validation Dice Score: 0.9112289547920227     Enet Validation Dice Score: 0.8631128668785095\n",
      "---\n",
      "Ensemble Voting Validation Dice Loss: 0.20446987946828207\n",
      "Ensemble Voting Validation Pixel Accuracy: 0.9626566569010416 \n",
      "Ensemble Voting Validation MIoU: 0.873356065442596\n",
      "Ensemble Voting Validation Dice Score: 0.914502739906311 \n"
     ]
    },
    {
     "name": "stderr",
     "output_type": "stream",
     "text": [
      "\n",
      "Epoch 26/50:  99%|█████████▊| 200/203 [00:15<00:00, 15.22img/s]"
     ]
    },
    {
     "name": "stdout",
     "output_type": "stream",
     "text": [
      "***\n",
      "Unet Loss: 0.09152443706989288     Segnet Loss: 0.04409458488225937     Enet Loss: 0.24060627818107605\n",
      "Voting Loss: 0.12540843337774277\n"
     ]
    },
    {
     "name": "stderr",
     "output_type": "stream",
     "text": [
      "Epoch 26/50:  99%|█████████▊| 200/203 [00:19<00:00, 10.29img/s]"
     ]
    },
    {
     "name": "stdout",
     "output_type": "stream",
     "text": [
      "---\n",
      "Unet Validation Dice Score: 0.9078956842422485     Segnet Validation Dice Score: 0.9130819439888     Enet Validation Dice Score: 0.8612882494926453\n",
      "---\n",
      "Ensemble Voting Validation Dice Loss: 0.19968819618225098\n",
      "Ensemble Voting Validation Pixel Accuracy: 0.9638479132401315 \n",
      "Ensemble Voting Validation MIoU: 0.8767527640237278\n",
      "Ensemble Voting Validation Dice Score: 0.9154049158096313 \n"
     ]
    },
    {
     "name": "stderr",
     "output_type": "stream",
     "text": [
      "\n",
      "Epoch 27/50:  99%|█████████▊| 200/203 [00:15<00:00, 15.42img/s]"
     ]
    },
    {
     "name": "stdout",
     "output_type": "stream",
     "text": [
      "***\n",
      "Unet Loss: 0.09284676611423492     Segnet Loss: 0.047787267714738846     Enet Loss: 0.27267003059387207\n",
      "Voting Loss: 0.13776802147428194\n"
     ]
    },
    {
     "name": "stderr",
     "output_type": "stream",
     "text": [
      "Epoch 27/50:  99%|█████████▊| 200/203 [00:19<00:00, 10.31img/s]"
     ]
    },
    {
     "name": "stdout",
     "output_type": "stream",
     "text": [
      "---\n",
      "Unet Validation Dice Score: 0.9073924422264099     Segnet Validation Dice Score: 0.9134699702262878     Enet Validation Dice Score: 0.8681280016899109\n",
      "---\n",
      "Ensemble Voting Validation Dice Loss: 0.19960463047027588\n",
      "Ensemble Voting Validation Pixel Accuracy: 0.9635547838712993 \n",
      "Ensemble Voting Validation MIoU: 0.8761312894256428\n",
      "Ensemble Voting Validation Dice Score: 0.9162780046463013 \n"
     ]
    },
    {
     "name": "stderr",
     "output_type": "stream",
     "text": [
      "\n",
      "Epoch 28/50:  99%|█████████▊| 200/203 [00:15<00:00, 14.96img/s]"
     ]
    },
    {
     "name": "stdout",
     "output_type": "stream",
     "text": [
      "***\n",
      "Unet Loss: 0.08805468678474426     Segnet Loss: 0.04654408618807793     Enet Loss: 0.20838752388954163\n",
      "Voting Loss: 0.11432876562078793\n"
     ]
    },
    {
     "name": "stderr",
     "output_type": "stream",
     "text": [
      "Epoch 28/50:  99%|█████████▊| 200/203 [00:19<00:00, 10.32img/s]"
     ]
    },
    {
     "name": "stdout",
     "output_type": "stream",
     "text": [
      "---\n",
      "Unet Validation Dice Score: 0.9090642333030701     Segnet Validation Dice Score: 0.9182766079902649     Enet Validation Dice Score: 0.8651247024536133\n",
      "---\n",
      "Ensemble Voting Validation Dice Loss: 0.1891141732533773\n",
      "Ensemble Voting Validation Pixel Accuracy: 0.9676524379797149 \n",
      "Ensemble Voting Validation MIoU: 0.8862024160841733\n",
      "Ensemble Voting Validation Dice Score: 0.9190981984138489 \n"
     ]
    },
    {
     "name": "stderr",
     "output_type": "stream",
     "text": [
      "\n",
      "Epoch 29/50:  99%|█████████▊| 200/203 [00:15<00:00, 14.94img/s]"
     ]
    },
    {
     "name": "stdout",
     "output_type": "stream",
     "text": [
      "***\n",
      "Unet Loss: 0.09226459264755249     Segnet Loss: 0.04667191207408905     Enet Loss: 0.2506107985973358\n",
      "Voting Loss: 0.12984910110632578\n"
     ]
    },
    {
     "name": "stderr",
     "output_type": "stream",
     "text": [
      "Epoch 29/50:  99%|█████████▊| 200/203 [00:19<00:00, 10.27img/s]"
     ]
    },
    {
     "name": "stdout",
     "output_type": "stream",
     "text": [
      "---\n",
      "Unet Validation Dice Score: 0.9083690047264099     Segnet Validation Dice Score: 0.9127832651138306     Enet Validation Dice Score: 0.8605319857597351\n",
      "---\n",
      "Ensemble Voting Validation Dice Loss: 0.19631932179133096\n",
      "Ensemble Voting Validation Pixel Accuracy: 0.966701306794819 \n",
      "Ensemble Voting Validation MIoU: 0.8845027291342258\n",
      "Ensemble Voting Validation Dice Score: 0.9165608286857605 \n"
     ]
    },
    {
     "name": "stderr",
     "output_type": "stream",
     "text": [
      "\n",
      "Epoch 30/50:  99%|█████████▊| 200/203 [00:15<00:00, 14.91img/s]"
     ]
    },
    {
     "name": "stdout",
     "output_type": "stream",
     "text": [
      "***\n",
      "Unet Loss: 0.08233252167701721     Segnet Loss: 0.037389956414699554     Enet Loss: 0.18642643094062805\n",
      "Voting Loss: 0.10204963634411494\n"
     ]
    },
    {
     "name": "stderr",
     "output_type": "stream",
     "text": [
      "Epoch 30/50:  99%|█████████▊| 200/203 [00:19<00:00, 10.38img/s]"
     ]
    },
    {
     "name": "stdout",
     "output_type": "stream",
     "text": [
      "---\n",
      "Unet Validation Dice Score: 0.9093177914619446     Segnet Validation Dice Score: 0.9131456613540649     Enet Validation Dice Score: 0.8709412813186646\n",
      "---\n",
      "Ensemble Voting Validation Dice Loss: 0.19848787784576416\n",
      "Ensemble Voting Validation Pixel Accuracy: 0.9635111490885416 \n",
      "Ensemble Voting Validation MIoU: 0.8756306517165635\n",
      "Ensemble Voting Validation Dice Score: 0.9158444404602051 \n"
     ]
    },
    {
     "name": "stderr",
     "output_type": "stream",
     "text": [
      "\n",
      "Epoch 31/50:  99%|█████████▊| 200/203 [00:15<00:00, 15.00img/s]"
     ]
    },
    {
     "name": "stdout",
     "output_type": "stream",
     "text": [
      "***\n",
      "Unet Loss: 0.09557900577783585     Segnet Loss: 0.04962046444416046     Enet Loss: 0.25155121088027954\n",
      "Voting Loss: 0.13225022703409195\n"
     ]
    },
    {
     "name": "stderr",
     "output_type": "stream",
     "text": [
      "Epoch 31/50:  99%|█████████▊| 200/203 [00:19<00:00, 10.40img/s]"
     ]
    },
    {
     "name": "stdout",
     "output_type": "stream",
     "text": [
      "---\n",
      "Unet Validation Dice Score: 0.9100770354270935     Segnet Validation Dice Score: 0.9127556681632996     Enet Validation Dice Score: 0.8770110011100769\n",
      "---\n",
      "Ensemble Voting Validation Dice Loss: 0.19861549139022827\n",
      "Ensemble Voting Validation Pixel Accuracy: 0.962236906352796 \n",
      "Ensemble Voting Validation MIoU: 0.8710764656177938\n",
      "Ensemble Voting Validation Dice Score: 0.9170966148376465 \n"
     ]
    },
    {
     "name": "stderr",
     "output_type": "stream",
     "text": [
      "\n",
      "Epoch 32/50:  99%|█████████▊| 200/203 [00:15<00:00, 15.05img/s]"
     ]
    },
    {
     "name": "stdout",
     "output_type": "stream",
     "text": [
      "***\n",
      "Unet Loss: 0.09627312421798706     Segnet Loss: 0.05933746322989464     Enet Loss: 0.24384266138076782\n",
      "Voting Loss: 0.13315108294288316\n"
     ]
    },
    {
     "name": "stderr",
     "output_type": "stream",
     "text": [
      "Epoch 32/50:  99%|█████████▊| 200/203 [00:19<00:00, 10.34img/s]"
     ]
    },
    {
     "name": "stdout",
     "output_type": "stream",
     "text": [
      "---\n",
      "Unet Validation Dice Score: 0.9100845456123352     Segnet Validation Dice Score: 0.9172620177268982     Enet Validation Dice Score: 0.8714408278465271\n",
      "---\n",
      "Ensemble Voting Validation Dice Loss: 0.18121439218521118\n",
      "Ensemble Voting Validation Pixel Accuracy: 0.9676883095189145 \n",
      "Ensemble Voting Validation MIoU: 0.8848532408228559\n",
      "Ensemble Voting Validation Dice Score: 0.9188749194145203 \n"
     ]
    },
    {
     "name": "stderr",
     "output_type": "stream",
     "text": [
      "\n",
      "Epoch 33/50:  99%|█████████▊| 200/203 [00:15<00:00, 14.95img/s]"
     ]
    },
    {
     "name": "stdout",
     "output_type": "stream",
     "text": [
      "***\n",
      "Unet Loss: 0.08454775810241699     Segnet Loss: 0.041685014963150024     Enet Loss: 0.23050056397914886\n",
      "Voting Loss: 0.11891111234823863\n"
     ]
    },
    {
     "name": "stderr",
     "output_type": "stream",
     "text": [
      "Epoch 33/50:  99%|█████████▊| 200/203 [00:19<00:00, 10.45img/s]"
     ]
    },
    {
     "name": "stdout",
     "output_type": "stream",
     "text": [
      "---\n",
      "Unet Validation Dice Score: 0.9064200520515442     Segnet Validation Dice Score: 0.9179462790489197     Enet Validation Dice Score: 0.8631700873374939\n",
      "---\n",
      "Ensemble Voting Validation Dice Loss: 0.18041356404622397\n",
      "Ensemble Voting Validation Pixel Accuracy: 0.968418322111431 \n",
      "Ensemble Voting Validation MIoU: 0.8878806039679294\n",
      "Ensemble Voting Validation Dice Score: 0.9175095558166504 \n"
     ]
    },
    {
     "name": "stderr",
     "output_type": "stream",
     "text": [
      "\n",
      "Epoch 34/50:  99%|█████████▊| 200/203 [00:15<00:00, 14.86img/s]"
     ]
    },
    {
     "name": "stdout",
     "output_type": "stream",
     "text": [
      "***\n",
      "Unet Loss: 0.08511707186698914     Segnet Loss: 0.040493592619895935     Enet Loss: 0.27551883459091187\n",
      "Voting Loss: 0.1337098330259323\n"
     ]
    },
    {
     "name": "stderr",
     "output_type": "stream",
     "text": [
      "Epoch 34/50:  99%|█████████▊| 200/203 [00:19<00:00, 10.38img/s]"
     ]
    },
    {
     "name": "stdout",
     "output_type": "stream",
     "text": [
      "---\n",
      "Unet Validation Dice Score: 0.9058143496513367     Segnet Validation Dice Score: 0.9164137840270996     Enet Validation Dice Score: 0.873969554901123\n",
      "---\n",
      "Ensemble Voting Validation Dice Loss: 0.1814399560292562\n",
      "Ensemble Voting Validation Pixel Accuracy: 0.9661233466968202 \n",
      "Ensemble Voting Validation MIoU: 0.8813016245159224\n",
      "Ensemble Voting Validation Dice Score: 0.9175214767456055 \n"
     ]
    },
    {
     "name": "stderr",
     "output_type": "stream",
     "text": [
      "\n",
      "Epoch 35/50:  99%|█████████▊| 200/203 [00:15<00:00, 15.11img/s]"
     ]
    },
    {
     "name": "stdout",
     "output_type": "stream",
     "text": [
      "***\n",
      "Unet Loss: 0.1038038581609726     Segnet Loss: 0.06086869537830353     Enet Loss: 0.21967476606369019\n",
      "Voting Loss: 0.12811577320098877\n"
     ]
    },
    {
     "name": "stderr",
     "output_type": "stream",
     "text": [
      "Epoch 35/50:  99%|█████████▊| 200/203 [00:19<00:00, 10.42img/s]"
     ]
    },
    {
     "name": "stdout",
     "output_type": "stream",
     "text": [
      "---\n",
      "Unet Validation Dice Score: 0.9074113965034485     Segnet Validation Dice Score: 0.9123525619506836     Enet Validation Dice Score: 0.8782930374145508\n",
      "---\n",
      "Ensemble Voting Validation Dice Loss: 0.1907368302345276\n",
      "Ensemble Voting Validation Pixel Accuracy: 0.9630614163582785 \n",
      "Ensemble Voting Validation MIoU: 0.8732200991249277\n",
      "Ensemble Voting Validation Dice Score: 0.9165975451469421 \n"
     ]
    },
    {
     "name": "stderr",
     "output_type": "stream",
     "text": [
      "\n",
      "Epoch 36/50:  99%|█████████▊| 200/203 [00:15<00:00, 15.47img/s]"
     ]
    },
    {
     "name": "stdout",
     "output_type": "stream",
     "text": [
      "***\n",
      "Unet Loss: 0.09327184408903122     Segnet Loss: 0.046718038618564606     Enet Loss: 0.1916053593158722\n",
      "Voting Loss: 0.110531747341156\n"
     ]
    },
    {
     "name": "stderr",
     "output_type": "stream",
     "text": [
      "Epoch 36/50:  99%|█████████▊| 200/203 [00:19<00:00, 10.41img/s]"
     ]
    },
    {
     "name": "stdout",
     "output_type": "stream",
     "text": [
      "---\n",
      "Unet Validation Dice Score: 0.9075384140014648     Segnet Validation Dice Score: 0.9164494872093201     Enet Validation Dice Score: 0.877828061580658\n",
      "---\n",
      "Ensemble Voting Validation Dice Loss: 0.1854704221089681\n",
      "Ensemble Voting Validation Pixel Accuracy: 0.9639483000102796 \n",
      "Ensemble Voting Validation MIoU: 0.8751362470448629\n",
      "Ensemble Voting Validation Dice Score: 0.9187697768211365 \n"
     ]
    },
    {
     "name": "stderr",
     "output_type": "stream",
     "text": [
      "\n",
      "Epoch 37/50:  99%|█████████▊| 200/203 [00:15<00:00, 14.90img/s]"
     ]
    },
    {
     "name": "stdout",
     "output_type": "stream",
     "text": [
      "***\n",
      "Unet Loss: 0.08593948930501938     Segnet Loss: 0.046619534492492676     Enet Loss: 0.20201541483402252\n",
      "Voting Loss: 0.11152481287717819\n"
     ]
    },
    {
     "name": "stderr",
     "output_type": "stream",
     "text": [
      "Epoch 37/50:  99%|█████████▊| 200/203 [00:19<00:00, 10.40img/s]"
     ]
    },
    {
     "name": "stdout",
     "output_type": "stream",
     "text": [
      "---\n",
      "Unet Validation Dice Score: 0.9094414710998535     Segnet Validation Dice Score: 0.9183560609817505     Enet Validation Dice Score: 0.8774387240409851\n",
      "---\n",
      "Ensemble Voting Validation Dice Loss: 0.18449262777964273\n",
      "Ensemble Voting Validation Pixel Accuracy: 0.9642981813665021 \n",
      "Ensemble Voting Validation MIoU: 0.87557906906206\n",
      "Ensemble Voting Validation Dice Score: 0.9197496771812439 \n"
     ]
    },
    {
     "name": "stderr",
     "output_type": "stream",
     "text": [
      "\n",
      "Epoch 38/50:  99%|█████████▊| 200/203 [00:15<00:00, 14.84img/s]"
     ]
    },
    {
     "name": "stdout",
     "output_type": "stream",
     "text": [
      "***\n",
      "Unet Loss: 0.09699857234954834     Segnet Loss: 0.05577029287815094     Enet Loss: 0.2172117680311203\n",
      "Voting Loss: 0.12332687775293986\n"
     ]
    },
    {
     "name": "stderr",
     "output_type": "stream",
     "text": [
      "Epoch 38/50:  99%|█████████▊| 200/203 [00:19<00:00, 10.41img/s]"
     ]
    },
    {
     "name": "stdout",
     "output_type": "stream",
     "text": [
      "---\n",
      "Unet Validation Dice Score: 0.9079770445823669     Segnet Validation Dice Score: 0.9181979298591614     Enet Validation Dice Score: 0.8770154118537903\n",
      "---\n",
      "Ensemble Voting Validation Dice Loss: 0.17979395389556885\n",
      "Ensemble Voting Validation Pixel Accuracy: 0.9661051432291666 \n",
      "Ensemble Voting Validation MIoU: 0.8816154072707698\n",
      "Ensemble Voting Validation Dice Score: 0.9191117286682129 \n"
     ]
    },
    {
     "name": "stderr",
     "output_type": "stream",
     "text": [
      "\n",
      "Epoch 39/50:  99%|█████████▊| 200/203 [00:15<00:00, 14.99img/s]"
     ]
    },
    {
     "name": "stdout",
     "output_type": "stream",
     "text": [
      "***\n",
      "Unet Loss: 0.08400847017765045     Segnet Loss: 0.03855251148343086     Enet Loss: 0.15964043140411377\n",
      "Voting Loss: 0.09406713768839836\n"
     ]
    },
    {
     "name": "stderr",
     "output_type": "stream",
     "text": [
      "Epoch 39/50:  99%|█████████▊| 200/203 [00:19<00:00, 10.28img/s]"
     ]
    },
    {
     "name": "stdout",
     "output_type": "stream",
     "text": [
      "---\n",
      "Unet Validation Dice Score: 0.9077648520469666     Segnet Validation Dice Score: 0.9127506613731384     Enet Validation Dice Score: 0.8788277506828308\n",
      "---\n",
      "Ensemble Voting Validation Dice Loss: 0.1886147459348043\n",
      "Ensemble Voting Validation Pixel Accuracy: 0.9634849146792763 \n",
      "Ensemble Voting Validation MIoU: 0.8750095889687595\n",
      "Ensemble Voting Validation Dice Score: 0.9162088632583618 \n"
     ]
    },
    {
     "name": "stderr",
     "output_type": "stream",
     "text": [
      "\n",
      "Epoch 40/50:  99%|█████████▊| 200/203 [00:15<00:00, 14.92img/s]"
     ]
    },
    {
     "name": "stdout",
     "output_type": "stream",
     "text": [
      "***\n",
      "Unet Loss: 0.08987222611904144     Segnet Loss: 0.04210841655731201     Enet Loss: 0.16319477558135986\n",
      "Voting Loss: 0.09839180608590443\n"
     ]
    },
    {
     "name": "stderr",
     "output_type": "stream",
     "text": [
      "Epoch 40/50:  99%|█████████▊| 200/203 [00:19<00:00, 10.30img/s]"
     ]
    },
    {
     "name": "stdout",
     "output_type": "stream",
     "text": [
      "---\n",
      "Unet Validation Dice Score: 0.9079114198684692     Segnet Validation Dice Score: 0.914595901966095     Enet Validation Dice Score: 0.8800703287124634\n",
      "---\n",
      "Ensemble Voting Validation Dice Loss: 0.1937456727027893\n",
      "Ensemble Voting Validation Pixel Accuracy: 0.9622366386547423 \n",
      "Ensemble Voting Validation MIoU: 0.8710383766696279\n",
      "Ensemble Voting Validation Dice Score: 0.9176740050315857 \n"
     ]
    },
    {
     "name": "stderr",
     "output_type": "stream",
     "text": [
      "\n",
      "Epoch 41/50:  99%|█████████▊| 200/203 [00:15<00:00, 14.96img/s]"
     ]
    },
    {
     "name": "stdout",
     "output_type": "stream",
     "text": [
      "***\n",
      "Unet Loss: 0.09094521403312683     Segnet Loss: 0.049668967723846436     Enet Loss: 0.19097451865673065\n",
      "Voting Loss: 0.11052956680456798\n"
     ]
    },
    {
     "name": "stderr",
     "output_type": "stream",
     "text": [
      "Epoch 41/50:  99%|█████████▊| 200/203 [00:19<00:00, 10.25img/s]"
     ]
    },
    {
     "name": "stdout",
     "output_type": "stream",
     "text": [
      "---\n",
      "Unet Validation Dice Score: 0.9075023531913757     Segnet Validation Dice Score: 0.9157794117927551     Enet Validation Dice Score: 0.8796701431274414\n",
      "---\n",
      "Ensemble Voting Validation Dice Loss: 0.18258996804555258\n",
      "Ensemble Voting Validation Pixel Accuracy: 0.9646593060409814 \n",
      "Ensemble Voting Validation MIoU: 0.8766916487755317\n",
      "Ensemble Voting Validation Dice Score: 0.9186043739318848 \n"
     ]
    },
    {
     "name": "stderr",
     "output_type": "stream",
     "text": [
      "\n",
      "Epoch 42/50:  99%|█████████▊| 200/203 [00:15<00:00, 14.99img/s]"
     ]
    },
    {
     "name": "stdout",
     "output_type": "stream",
     "text": [
      "***\n",
      "Unet Loss: 0.07864047586917877     Segnet Loss: 0.040349237620830536     Enet Loss: 0.18606173992156982\n",
      "Voting Loss: 0.10168381780385971\n"
     ]
    },
    {
     "name": "stderr",
     "output_type": "stream",
     "text": [
      "Epoch 42/50:  99%|█████████▊| 200/203 [00:19<00:00, 10.34img/s]"
     ]
    },
    {
     "name": "stdout",
     "output_type": "stream",
     "text": [
      "---\n",
      "Unet Validation Dice Score: 0.9066421389579773     Segnet Validation Dice Score: 0.916904628276825     Enet Validation Dice Score: 0.8776848912239075\n",
      "---\n",
      "Ensemble Voting Validation Dice Loss: 0.18047241369883218\n",
      "Ensemble Voting Validation Pixel Accuracy: 0.9663798014322916 \n",
      "Ensemble Voting Validation MIoU: 0.8829092165800374\n",
      "Ensemble Voting Validation Dice Score: 0.9182440042495728 \n"
     ]
    },
    {
     "name": "stderr",
     "output_type": "stream",
     "text": [
      "\n",
      "Epoch 43/50:  99%|█████████▊| 200/203 [00:15<00:00, 14.97img/s]"
     ]
    },
    {
     "name": "stdout",
     "output_type": "stream",
     "text": [
      "***\n",
      "Unet Loss: 0.09702961146831512     Segnet Loss: 0.05091311037540436     Enet Loss: 0.19647212326526642\n",
      "Voting Loss: 0.11480494836966197\n"
     ]
    },
    {
     "name": "stderr",
     "output_type": "stream",
     "text": [
      "Epoch 43/50:  99%|█████████▊| 200/203 [00:19<00:00, 10.43img/s]"
     ]
    },
    {
     "name": "stdout",
     "output_type": "stream",
     "text": [
      "---\n",
      "Unet Validation Dice Score: 0.9068013429641724     Segnet Validation Dice Score: 0.9175910353660583     Enet Validation Dice Score: 0.8782998323440552\n",
      "---\n",
      "Ensemble Voting Validation Dice Loss: 0.18022473653157553\n",
      "Ensemble Voting Validation Pixel Accuracy: 0.9668281956722862 \n",
      "Ensemble Voting Validation MIoU: 0.884477631186804\n",
      "Ensemble Voting Validation Dice Score: 0.9191595315933228 \n"
     ]
    },
    {
     "name": "stderr",
     "output_type": "stream",
     "text": [
      "\n",
      "Epoch 44/50:  99%|█████████▊| 200/203 [00:15<00:00, 14.97img/s]"
     ]
    },
    {
     "name": "stdout",
     "output_type": "stream",
     "text": [
      "***\n",
      "Unet Loss: 0.0909193754196167     Segnet Loss: 0.050233468413352966     Enet Loss: 0.18597909808158875\n",
      "Voting Loss: 0.10904398063818614\n"
     ]
    },
    {
     "name": "stderr",
     "output_type": "stream",
     "text": [
      "Epoch 44/50:  99%|█████████▊| 200/203 [00:19<00:00, 10.32img/s]"
     ]
    },
    {
     "name": "stdout",
     "output_type": "stream",
     "text": [
      "---\n",
      "Unet Validation Dice Score: 0.9085812568664551     Segnet Validation Dice Score: 0.917622983455658     Enet Validation Dice Score: 0.8786233067512512\n",
      "---\n",
      "Ensemble Voting Validation Dice Loss: 0.18060884873072305\n",
      "Ensemble Voting Validation Pixel Accuracy: 0.9657060054310581 \n",
      "Ensemble Voting Validation MIoU: 0.8804091288395566\n",
      "Ensemble Voting Validation Dice Score: 0.919050395488739 \n"
     ]
    },
    {
     "name": "stderr",
     "output_type": "stream",
     "text": [
      "\n",
      "Epoch 45/50:  99%|█████████▊| 200/203 [00:15<00:00, 15.02img/s]"
     ]
    },
    {
     "name": "stdout",
     "output_type": "stream",
     "text": [
      "***\n",
      "Unet Loss: 0.07779447734355927     Segnet Loss: 0.0370083823800087     Enet Loss: 0.17446574568748474\n",
      "Voting Loss: 0.0964228684703509\n"
     ]
    },
    {
     "name": "stderr",
     "output_type": "stream",
     "text": [
      "Epoch 45/50:  99%|█████████▊| 200/203 [00:19<00:00, 10.29img/s]"
     ]
    },
    {
     "name": "stdout",
     "output_type": "stream",
     "text": [
      "---\n",
      "Unet Validation Dice Score: 0.9086953401565552     Segnet Validation Dice Score: 0.9173009991645813     Enet Validation Dice Score: 0.8788272738456726\n",
      "---\n",
      "Ensemble Voting Validation Dice Loss: 0.18351183334986368\n",
      "Ensemble Voting Validation Pixel Accuracy: 0.9653887832373903 \n",
      "Ensemble Voting Validation MIoU: 0.8803013936328885\n",
      "Ensemble Voting Validation Dice Score: 0.9190269708633423 \n"
     ]
    },
    {
     "name": "stderr",
     "output_type": "stream",
     "text": [
      "\n",
      "Epoch 46/50:  99%|█████████▊| 200/203 [00:15<00:00, 15.07img/s]"
     ]
    },
    {
     "name": "stdout",
     "output_type": "stream",
     "text": [
      "***\n",
      "Unet Loss: 0.10038651525974274     Segnet Loss: 0.05494743213057518     Enet Loss: 0.17998099327087402\n",
      "Voting Loss: 0.11177164688706398\n"
     ]
    },
    {
     "name": "stderr",
     "output_type": "stream",
     "text": [
      "Epoch 46/50:  99%|█████████▊| 200/203 [00:19<00:00, 10.39img/s]"
     ]
    },
    {
     "name": "stdout",
     "output_type": "stream",
     "text": [
      "---\n",
      "Unet Validation Dice Score: 0.9072431921958923     Segnet Validation Dice Score: 0.9137881398200989     Enet Validation Dice Score: 0.8782610297203064\n",
      "---\n",
      "Ensemble Voting Validation Dice Loss: 0.18337432543436685\n",
      "Ensemble Voting Validation Pixel Accuracy: 0.9648319712856359 \n",
      "Ensemble Voting Validation MIoU: 0.8782311708059823\n",
      "Ensemble Voting Validation Dice Score: 0.9168208241462708 \n"
     ]
    },
    {
     "name": "stderr",
     "output_type": "stream",
     "text": [
      "\n",
      "Epoch 47/50:  99%|█████████▊| 200/203 [00:15<00:00, 15.10img/s]"
     ]
    },
    {
     "name": "stdout",
     "output_type": "stream",
     "text": [
      "***\n",
      "Unet Loss: 0.09367348253726959     Segnet Loss: 0.050994761288166046     Enet Loss: 0.18980450928211212\n",
      "Voting Loss: 0.11149091770251592\n"
     ]
    },
    {
     "name": "stderr",
     "output_type": "stream",
     "text": [
      "Epoch 47/50:  99%|█████████▊| 200/203 [00:19<00:00, 10.49img/s]"
     ]
    },
    {
     "name": "stdout",
     "output_type": "stream",
     "text": [
      "---\n",
      "Unet Validation Dice Score: 0.9088859558105469     Segnet Validation Dice Score: 0.9099942445755005     Enet Validation Dice Score: 0.8801628947257996\n",
      "---\n",
      "Ensemble Voting Validation Dice Loss: 0.19459205865859985\n",
      "Ensemble Voting Validation Pixel Accuracy: 0.9609894334224233 \n",
      "Ensemble Voting Validation MIoU: 0.8671390302364186\n",
      "Ensemble Voting Validation Dice Score: 0.9151203036308289 \n"
     ]
    },
    {
     "name": "stderr",
     "output_type": "stream",
     "text": [
      "\n",
      "Epoch 48/50:  99%|█████████▊| 200/203 [00:15<00:00, 15.10img/s]"
     ]
    },
    {
     "name": "stdout",
     "output_type": "stream",
     "text": [
      "***\n",
      "Unet Loss: 0.07840543985366821     Segnet Loss: 0.03807636350393295     Enet Loss: 0.14778950810432434\n",
      "Voting Loss: 0.08809043715397517\n"
     ]
    },
    {
     "name": "stderr",
     "output_type": "stream",
     "text": [
      "Epoch 48/50:  99%|█████████▊| 200/203 [00:19<00:00, 10.35img/s]"
     ]
    },
    {
     "name": "stdout",
     "output_type": "stream",
     "text": [
      "---\n",
      "Unet Validation Dice Score: 0.9070619940757751     Segnet Validation Dice Score: 0.918644368648529     Enet Validation Dice Score: 0.8751100897789001\n",
      "---\n",
      "Ensemble Voting Validation Dice Loss: 0.17900260289510092\n",
      "Ensemble Voting Validation Pixel Accuracy: 0.966692472759046 \n",
      "Ensemble Voting Validation MIoU: 0.8829093140912833\n",
      "Ensemble Voting Validation Dice Score: 0.919083297252655 \n"
     ]
    },
    {
     "name": "stderr",
     "output_type": "stream",
     "text": [
      "\n",
      "Epoch 49/50:  99%|█████████▊| 200/203 [00:15<00:00, 15.04img/s]"
     ]
    },
    {
     "name": "stdout",
     "output_type": "stream",
     "text": [
      "***\n",
      "Unet Loss: 0.08661733567714691     Segnet Loss: 0.049758173525333405     Enet Loss: 0.218126118183136\n",
      "Voting Loss: 0.11816720912853877\n"
     ]
    },
    {
     "name": "stderr",
     "output_type": "stream",
     "text": [
      "Epoch 49/50:  99%|█████████▊| 200/203 [00:19<00:00, 10.30img/s]"
     ]
    },
    {
     "name": "stdout",
     "output_type": "stream",
     "text": [
      "---\n",
      "Unet Validation Dice Score: 0.9069027304649353     Segnet Validation Dice Score: 0.9152847528457642     Enet Validation Dice Score: 0.8785412907600403\n",
      "---\n",
      "Ensemble Voting Validation Dice Loss: 0.18449890613555908\n",
      "Ensemble Voting Validation Pixel Accuracy: 0.9652675160190516 \n",
      "Ensemble Voting Validation MIoU: 0.8791916037263128\n",
      "Ensemble Voting Validation Dice Score: 0.9180468916893005 \n"
     ]
    },
    {
     "name": "stderr",
     "output_type": "stream",
     "text": [
      "\n",
      "Epoch 50/50:  99%|█████████▊| 200/203 [00:15<00:00, 14.89img/s]"
     ]
    },
    {
     "name": "stdout",
     "output_type": "stream",
     "text": [
      "***\n",
      "Unet Loss: 0.10068146884441376     Segnet Loss: 0.05523919686675072     Enet Loss: 0.21692053973674774\n",
      "Voting Loss: 0.12428040181597073\n"
     ]
    },
    {
     "name": "stderr",
     "output_type": "stream",
     "text": [
      "Epoch 50/50:  99%|█████████▊| 200/203 [00:19<00:00, 10.41img/s]"
     ]
    },
    {
     "name": "stdout",
     "output_type": "stream",
     "text": [
      "---\n",
      "Unet Validation Dice Score: 0.9079040884971619     Segnet Validation Dice Score: 0.9147486090660095     Enet Validation Dice Score: 0.8789602518081665\n",
      "---\n",
      "Ensemble Voting Validation Dice Loss: 0.18865915139516196\n",
      "Ensemble Voting Validation Pixel Accuracy: 0.9639512446888706 \n",
      "Ensemble Voting Validation MIoU: 0.8762856139636838\n",
      "Ensemble Voting Validation Dice Score: 0.9180768132209778 \n"
     ]
    },
    {
     "name": "stderr",
     "output_type": "stream",
     "text": [
      "\n"
     ]
    }
   ],
   "source": [
    "valScore_list1 = []\n",
    "TrainLoss_list1 = []\n",
    "\n",
    "valScore_list2 = []\n",
    "TrainLoss_list2 = []\n",
    "\n",
    "valScore_list3 = []\n",
    "TrainLoss_list3 = []\n",
    "\n",
    "valScore_list4 = []\n",
    "TrainLoss_list4 = []\n",
    "\n",
    "val_losses = []\n",
    "val_accs = []\n",
    "val_mious = []\n",
    "\n",
    "# 5. Begin training\n",
    "for epoch in range(1, epochs + 1):\n",
    "    model.train()\n",
    "    epoch_loss = 0\n",
    "    epoch_unet_loss = 0\n",
    "    epoch_segnet_loss = 0\n",
    "    epoch_enet_loss = 0\n",
    "    epoch_voting_loss = 0\n",
    "    \n",
    "    with tqdm(total=n_train, desc=f'Epoch {epoch}/{epochs}', unit='img') as pbar:\n",
    "        for batch in train_loader:\n",
    "            images, true_masks = batch['image'], batch['mask']\n",
    "\n",
    "            images = images.to(device=device, dtype=torch.float32, memory_format=torch.channels_last)\n",
    "            true_masks = true_masks.to(device=device, dtype=torch.long)\n",
    "\n",
    "                \n",
    "            result = forward_and_backward(model, images, true_masks, amp, optims, grad_scaler, Model_Name)\n",
    "            \n",
    "            if len(result) == 4:\n",
    "                model, unet_loss, segnet_loss, enet_loss = result\n",
    "                \n",
    "                pbar.update(images.shape[0])\n",
    "                global_step += 1\n",
    "                epoch_unet_loss += unet_loss.item()\n",
    "                epoch_segnet_loss += segnet_loss.item()\n",
    "                epoch_enet_loss += enet_loss.item()\n",
    "                vot_loss = ((unet_loss.item() + segnet_loss.item() + enet_loss.item()) /3)\n",
    "                epoch_voting_loss += vot_loss\n",
    "                \n",
    "                \n",
    "            elif len(result) == 2:\n",
    "                model, loss = result\n",
    "                \n",
    "                pbar.update(images.shape[0])\n",
    "                global_step += 1\n",
    "                epoch_loss += loss.item()\n",
    "\n",
    "\n",
    "        print('***')\n",
    "        if len(result) == 4:\n",
    "            print('Unet Loss: {}     Segnet Loss: {}     Enet Loss: {}'.format(unet_loss, segnet_loss, enet_loss))\n",
    "            print('Voting Loss: {}'.format(vot_loss))\n",
    "            \n",
    "            \n",
    "        elif len(result) == 2:\n",
    "            print('{} Loss: {}'.format(Model_Name, loss))\n",
    "\n",
    "        # Evaluation round\n",
    "        division_step = (n_train // (5 * batch_size))\n",
    "        if division_step > 0:\n",
    "            #if global_step % division_step == 0:\n",
    "            if len(result) == 4:\n",
    "                unet_val_score, segnet_val_score, enet_val_score, voting_val_score, val_loss, val_acc, val_miou = evaluate(model, val_loader, criterion, device, Model_Name, amp)\n",
    "                \n",
    "                unet_scheduler.step(unet_val_score)\n",
    "                segnet_scheduler.step(segnet_val_score)\n",
    "                enet_scheduler.step(enet_val_score)\n",
    "                #voting_scheduler.step(voting_val_score)\n",
    "                \n",
    "                valScore_list1.append(unet_val_score.cpu().detach().numpy())\n",
    "                TrainLoss_list1.append(unet_loss.cpu().detach().numpy())\n",
    "                valScore_list2.append(segnet_val_score.cpu().detach().numpy())\n",
    "                TrainLoss_list2.append(segnet_loss.cpu().detach().numpy())                \n",
    "                valScore_list3.append(enet_val_score.cpu().detach().numpy())\n",
    "                TrainLoss_list3.append(enet_loss.cpu().detach().numpy())\n",
    "                valScore_list4.append(voting_val_score.cpu().detach().numpy())\n",
    "                TrainLoss_list4.append(vot_loss)\n",
    "                \n",
    "                val_losses.append(val_loss)\n",
    "                val_accs.append(val_acc)\n",
    "                val_mious.append(val_miou)\n",
    "                \n",
    "                print('---')\n",
    "                print('Unet Validation Dice Score: {}     Segnet Validation Dice Score: {}     Enet Validation Dice Score: {}'.format(unet_val_score, segnet_val_score, enet_val_score))\n",
    "                print('---')\n",
    "                print('Ensemble Voting Validation Dice Loss: {}'.format(val_loss))\n",
    "                print('Ensemble Voting Validation Pixel Accuracy: {} '.format(val_acc))\n",
    "                print('Ensemble Voting Validation MIoU: {}'.format(val_miou))                \n",
    "                print('Ensemble Voting Validation Dice Score: {} '.format(voting_val_score))\n",
    "                \n",
    "            else:\n",
    "                val_score, val_loss, val_acc, val_miou = evaluate(model, val_loader, criterion, device, Model_Name, amp)\n",
    "                \n",
    "                                \n",
    "                scheduler.step(val_score)\n",
    "                \n",
    "                print('---')\n",
    "                print('{} Validation Dice Loss: {}'.format(Model_Name, val_loss))   \n",
    "                print('{} Validation Pixel Accuracy: {}'.format(Model_Name, val_acc))\n",
    "                print('{} Validation MIoU: {}'.format(Model_Name, val_miou))\n",
    "                print('{} Validation Dice Score: {}'.format(Model_Name, val_score))\n",
    "                \n",
    "            \n",
    "                valScore_list1.append(val_score.cpu().detach().numpy())\n",
    "                TrainLoss_list1.append(loss.cpu().detach().numpy())\n",
    "                val_losses.append(val_loss)\n",
    "                val_accs.append(val_acc)\n",
    "                val_mious.append(val_miou)\n",
    "\n",
    "        \n",
    "    if save_checkpoint:\n",
    "        Path(dir_checkpoint).mkdir(parents=True, exist_ok=True)\n",
    "        torch.save(model.state_dict(), str(dir_checkpoint / 'checkpoint_epoch{}.pth'.format(epoch + 1)))"
   ]
  },
  {
   "cell_type": "code",
   "execution_count": 10,
   "id": "232d4d6e-12ed-4b30-9b2e-7421289573ad",
   "metadata": {},
   "outputs": [],
   "source": [
    "import pandas as pd\n",
    "import matplotlib.pyplot as plt"
   ]
  },
  {
   "cell_type": "code",
   "execution_count": 11,
   "id": "5e7c3590-63c0-4ee6-bf67-25b012d008d7",
   "metadata": {},
   "outputs": [],
   "source": [
    "df = pd.DataFrame([TrainLoss_list4, val_losses, valScore_list4, val_accs, val_mious]).T\n",
    "df.columns = ['train_loss', 'val_loss', 'val_score', 'val_acc', 'val_miou']\n",
    "df.to_csv(checkpoint_dir + '/model_check.csv', encoding = 'UTF-8')"
   ]
  },
  {
   "cell_type": "code",
   "execution_count": 13,
   "id": "e02024f4-5520-4e80-b5e2-1c0f7d4ad10c",
   "metadata": {},
   "outputs": [
    {
     "data": {
      "text/plain": [
       "[<matplotlib.lines.Line2D at 0x7f5ccadf1d90>]"
      ]
     },
     "execution_count": 13,
     "metadata": {},
     "output_type": "execute_result"
    },
    {
     "data": {
      "image/png": "[encoded data removed]",
      "text/plain": [
       "<Figure size 1000x500 with 1 Axes>"
      ]
     },
     "metadata": {},
     "output_type": "display_data"
    }
   ],
   "source": [
    "plt.figure(figsize= (10,5))\n",
    "plt.plot(TrainLoss_list4)\n",
    "plt.plot(val_losses)"
   ]
  },
  {
   "cell_type": "code",
   "execution_count": 14,
   "id": "0af788b9-1d94-4072-af4f-5c83165b18fc",
   "metadata": {},
   "outputs": [
    {
     "data": {
      "text/plain": [
       "[<matplotlib.lines.Line2D at 0x7f5ccace1e10>]"
      ]
     },
     "execution_count": 14,
     "metadata": {},
     "output_type": "execute_result"
    },
    {
     "data": {
      "image/png": "[encoded data removed]",
      "text/plain": [
       "<Figure size 1000x500 with 1 Axes>"
      ]
     },
     "metadata": {},
     "output_type": "display_data"
    }
   ],
   "source": [
    "plt.figure(figsize= (10,5))\n",
    "plt.plot(valScore_list4)\n",
    "plt.plot(val_accs)\n",
    "plt.plot(val_mious)"
   ]
  },
  {
   "cell_type": "code",
   "execution_count": null,
   "id": "4795b565-b90f-424f-8455-52d43ad2e5ec",
   "metadata": {},
   "outputs": [],
   "source": []
  },
  {
   "cell_type": "code",
   "execution_count": null,
   "id": "720827a2-6d3e-48fb-88bc-bef59c1bab26",
   "metadata": {},
   "outputs": [],
   "source": []
  }
 ],
 "metadata": {
  "kernelspec": {
   "display_name": "ksh",
   "language": "python",
   "name": "ksh"
  },
  "language_info": {
   "codemirror_mode": {
    "name": "ipython",
    "version": 3
   },
   "file_extension": ".py",
   "mimetype": "text/x-python",
   "name": "python",
   "nbconvert_exporter": "python",
   "pygments_lexer": "ipython3",
   "version": "3.7.16"
  }
 },
 "nbformat": 4,
 "nbformat_minor": 5
}
