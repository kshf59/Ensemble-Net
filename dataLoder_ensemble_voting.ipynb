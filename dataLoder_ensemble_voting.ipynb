{
 "cells": [
  {
   "cell_type": "code",
   "execution_count": 1,
   "id": "5f271b9d-c9a3-41c5-a2e5-cd21dc79d5b6",
   "metadata": {
    "tags": []
   },
   "outputs": [],
   "source": [
    "import numpy as np\n",
    "from pathlib import Path\n",
    "from PIL import Image\n",
    "from torch.utils.data import DataLoader, random_split\n",
    "import torch\n",
    "from torch import optim\n",
    "import torch.nn as nn\n",
    "from tqdm import tqdm\n",
    "import torch.nn.functional as F\n",
    "import logging\n",
    "from evaluate import evaluate\n",
    "\n",
    "import os\n",
    "import albumentations as A\n",
    "from albumentations.pytorch import ToTensorV2\n",
    "from collections import OrderedDict\n",
    "\n",
    "from model.ensemblenet_model import EnsembleNet\n",
    "\n",
    "\n",
    "from utils.dice_score import dice_loss\n",
    "from utils.data_load import KittiDataset\n",
    "from torchsummaryX import summary"
   ]
  },
  {
   "cell_type": "code",
   "execution_count": 2,
   "id": "64ae7ca9",
   "metadata": {
    "tags": []
   },
   "outputs": [],
   "source": [
    "Val_Percent = 0.3\n",
    "Scale_Percent = 1.0\n",
    "Batch_Size = 8\n",
    "learning_rate = 0.0001\n",
    "Pin_Memory = False\n",
    "epochs = 50\n",
    "\n",
    "\n",
    "Image_Size = [384, 1216]\n",
    "Gradient_Clipping = 0.8\n",
    "\n",
    "\n",
    "Num_Class = 2\n",
    "Num_Channel = 3\n",
    "amp = True\n",
    "\n",
    "Model_Name = 'ensemble_voting'\n",
    "\n",
    "\n",
    "Img_Path =  'data/data_road/training/image_2'\n",
    "Mask_Path =  'data/data_road/training/semantic'\n",
    "\n",
    "save_checkpoint = True\n",
    "checkpoint_dir = '../trained' + '_' + Model_Name\n",
    "batch_size = Batch_Size"
   ]
  },
  {
   "cell_type": "code",
   "execution_count": 3,
   "id": "567f8440",
   "metadata": {
    "tags": []
   },
   "outputs": [],
   "source": [
    "dirImg = Path(Img_Path)\n",
    "dirMask = Path(Mask_Path)\n",
    "dir_checkpoint = Path(checkpoint_dir)"
   ]
  },
  {
   "cell_type": "code",
   "execution_count": 4,
   "id": "8e8e3825-8747-4f49-b3ee-eac27522ded2",
   "metadata": {},
   "outputs": [],
   "source": [
    "device = torch.device('cuda' if torch.cuda.is_available() else 'cpu')"
   ]
  },
  {
   "cell_type": "code",
   "execution_count": 5,
   "id": "9a4a35b2-bc69-49e4-b17c-e850f278473d",
   "metadata": {},
   "outputs": [
    {
     "name": "stderr",
     "output_type": "stream",
     "text": [
      "100%|██████████| 289/289 [00:00<00:00, 818.46it/s]\n"
     ]
    }
   ],
   "source": [
    "datasets =  KittiDataset(dirImg, dirMask, Image_Size, Scale_Percent)\n",
    "n_val = int(len(datasets) * Val_Percent)\n",
    "n_train = len(datasets) - n_val\n",
    "train_set, val_set = random_split(datasets, [n_train, n_val], generator=torch.Generator().manual_seed(0))\n",
    "\n",
    "loader_args = dict(batch_size=Batch_Size, num_workers= os.cpu_count(), pin_memory=Pin_Memory)\n",
    "train_loader = DataLoader(train_set, shuffle=True, drop_last = True, **loader_args)\n",
    "val_loader = DataLoader(val_set, shuffle=False, drop_last=True, **loader_args)"
   ]
  },
  {
   "cell_type": "code",
   "execution_count": 6,
   "id": "95b36f40-c709-4e1e-b4f6-66a1954edfd8",
   "metadata": {},
   "outputs": [],
   "source": [
    "model = EnsembleNet(Model_Name, Num_Channel, Num_Class)\n",
    "model = model.to(memory_format=torch.channels_last, device = device)"
   ]
  },
  {
   "cell_type": "code",
   "execution_count": 7,
   "id": "4a29bc96",
   "metadata": {
    "tags": []
   },
   "outputs": [],
   "source": [
    "# 4. Set up the optimizer, the loss, the learning rate scheduler and the loss scaling for AMP\n",
    "#optimizer = optim.RMSprop(model.parameters(), lr=learning_rate, weight_decay=1e-8, momentum=0.9)\n",
    "#optimizer = optim.SGD(model.parameters(), lr=learning_rate, weight_decay=1e-8, momentum=0.9)\n",
    "\n",
    "if 'ensemble_voting' in Model_Name:\n",
    "    unet_optimizer = optim.Adam(model.parameters(), lr=learning_rate, weight_decay=1e-8)\n",
    "    segnet_optimizer = optim.Adam(model.parameters(), lr=learning_rate, weight_decay=1e-8)\n",
    "    enet_optimizer = optim.Adam(model.parameters(), lr=learning_rate, weight_decay=1e-8)\n",
    "    optims = [unet_optimizer, segnet_optimizer, enet_optimizer]\n",
    "    \n",
    "    unet_scheduler = optim.lr_scheduler.ReduceLROnPlateau(unet_optimizer, 'max', patience=2)  # goal: maximize Dice score\n",
    "    segnet_scheduler = optim.lr_scheduler.ReduceLROnPlateau(segnet_optimizer, 'max', patience=2)  # goal: maximize Dice score\n",
    "    enet_scheduler = optim.lr_scheduler.ReduceLROnPlateau(enet_optimizer, 'max', patience=2)  # goal: maximize Dice score\n",
    "    \n",
    "    \n",
    "    \n",
    "else:\n",
    "    optimizer = optim.Adam(model.parameters(), lr=learning_rate, weight_decay=1e-8)\n",
    "    optims = [optimizer]\n",
    "    \n",
    "    scheduler = optim.lr_scheduler.ReduceLROnPlateau(optimizer, 'max', patience=2)  # goal: maximize Dice score\n",
    "    \n",
    "    \n",
    "    \n",
    "grad_scaler = torch.cuda.amp.GradScaler(enabled=amp)\n",
    "criterion = nn.CrossEntropyLoss()\n",
    "global_step = 0"
   ]
  },
  {
   "cell_type": "code",
   "execution_count": 8,
   "id": "46e43754-2870-4837-b38a-3f57d6733ddc",
   "metadata": {},
   "outputs": [],
   "source": [
    "def calculate_loss(pred, true_masks, nclass, multiclass):\n",
    "    loss = criterion(pred, true_masks)\n",
    "    loss += dice_loss(\n",
    "        F.softmax(pred, dim=1).float(),\n",
    "        F.one_hot(true_masks, nclass).permute(0, 3, 1, 2).float(),\n",
    "        multiclass=multiclass\n",
    "    )\n",
    "    return loss\n",
    "\n",
    "def grad_forback(models, losses, optim):\n",
    "    optim.zero_grad(set_to_none=True)\n",
    "    grad_scaler.scale(losses).backward()\n",
    "    torch.nn.utils.clip_grad_norm_(models.parameters(), Gradient_Clipping)\n",
    "    grad_scaler.step(optim)\n",
    "    grad_scaler.update()    \n",
    "\n",
    "def forward_and_backward(model, images, true_masks, amp, optimizers, grad_scaler, model_name):\n",
    "    with torch.autocast(device.type if device.type != 'mps' else 'cpu', enabled=amp):\n",
    "        \n",
    "        try:\n",
    "            mn_cls = model.n_classes\n",
    "        except:\n",
    "            mn_cls = model.classifier[-1].out_channels\n",
    "\n",
    "        if model_name == 'ensemble_voting':\n",
    "            unet_pred, segnet_pred, enet_pred = model(images)\n",
    "            #deeplab_pred = deeplab_pred['out']\n",
    "            \n",
    "            unet_loss = calculate_loss(unet_pred, true_masks, mn_cls, multiclass=True)\n",
    "            segnet_loss = calculate_loss(segnet_pred, true_masks, mn_cls, multiclass=True)\n",
    "            enet_loss = calculate_loss(enet_pred, true_masks, mn_cls, multiclass=True)\n",
    "            \n",
    "            \n",
    "        else:\n",
    "            masks_pred = model(images)\n",
    "            if isinstance(masks_pred, OrderedDict):\n",
    "                masks_pred = masks_pred['out']\n",
    "            loss = calculate_loss(masks_pred, true_masks, mn_cls, multiclass=True)\n",
    "    \n",
    "    \n",
    "    if model_name == 'ensemble_voting':\n",
    "        for _loss, _optiz in zip([unet_loss, segnet_loss, enet_loss], optimizers):\n",
    "            grad_forback(model, _loss, _optiz)\n",
    "\n",
    "        return model, unet_loss, segnet_loss, enet_loss\n",
    "    else:\n",
    "        for _loss, _optiz in zip([loss], optimizers):\n",
    "            grad_forback(model, _loss, _optiz)\n",
    "            \n",
    "        return model, loss\n"
   ]
  },
  {
   "cell_type": "code",
   "execution_count": 9,
   "id": "8bb76263-8fd8-437d-9204-8ebc2af3de6d",
   "metadata": {},
   "outputs": [
    {
     "name": "stderr",
     "output_type": "stream",
     "text": [
      "Epoch 1/50:  99%|█████████▊| 200/203 [00:18<00:00, 15.16img/s]"
     ]
    },
    {
     "name": "stdout",
     "output_type": "stream",
     "text": [
      "***\n",
      "Unet Loss: 0.49405819177627563     Segnet Loss: 0.7341654300689697     Enet Loss: 1.1384985446929932\n",
      "Voting Loss: 0.7889073888460795\n"
     ]
    },
    {
     "name": "stderr",
     "output_type": "stream",
     "text": [
      "Epoch 1/50:  99%|█████████▊| 200/203 [00:22<00:00,  8.86img/s]"
     ]
    },
    {
     "name": "stdout",
     "output_type": "stream",
     "text": [
      "---\n",
      "Unet Validation Dice Score: 0.38285279273986816     Segnet Validation Dice Score: 0.04132740944623947     Enet Validation Dice Score: 0.2231769859790802\n",
      "---\n",
      "Ensemble Voting Validation Dice Loss: 1.054758628209432\n",
      "Ensemble Voting Validation Pixel Accuracy: 0.8383283113178454 \n",
      "Ensemble Voting Validation MIoU: 0.5774028881224228\n",
      "Ensemble Voting Validation Dice Score: 0.5257811546325684 \n"
     ]
    },
    {
     "name": "stderr",
     "output_type": "stream",
     "text": [
      "\n",
      "Epoch 2/50:  99%|█████████▊| 200/203 [00:16<00:00, 15.19img/s]"
     ]
    },
    {
     "name": "stdout",
     "output_type": "stream",
     "text": [
      "***\n",
      "Unet Loss: 0.4080093502998352     Segnet Loss: 0.4243001341819763     Enet Loss: 1.0562264919281006\n",
      "Voting Loss: 0.6295119921366373\n"
     ]
    },
    {
     "name": "stderr",
     "output_type": "stream",
     "text": [
      "Epoch 2/50:  99%|█████████▊| 200/203 [00:21<00:00,  9.52img/s]"
     ]
    },
    {
     "name": "stdout",
     "output_type": "stream",
     "text": [
      "---\n",
      "Unet Validation Dice Score: 0.7108675241470337     Segnet Validation Dice Score: 0.5355493426322937     Enet Validation Dice Score: 0.26512882113456726\n",
      "---\n",
      "Ensemble Voting Validation Dice Loss: 0.7109514872233073\n",
      "Ensemble Voting Validation Pixel Accuracy: 0.9265479372258771 \n",
      "Ensemble Voting Validation MIoU: 0.7642637643451162\n",
      "Ensemble Voting Validation Dice Score: 0.72959965467453 \n"
     ]
    },
    {
     "name": "stderr",
     "output_type": "stream",
     "text": [
      "\n",
      "Epoch 3/50:  99%|█████████▊| 200/203 [00:15<00:00, 15.16img/s]"
     ]
    },
    {
     "name": "stdout",
     "output_type": "stream",
     "text": [
      "***\n",
      "Unet Loss: 0.3317459225654602     Segnet Loss: 0.282243013381958     Enet Loss: 0.9533968567848206\n",
      "Voting Loss: 0.5224619309107462\n"
     ]
    },
    {
     "name": "stderr",
     "output_type": "stream",
     "text": [
      "Epoch 3/50:  99%|█████████▊| 200/203 [00:20<00:00,  9.67img/s]"
     ]
    },
    {
     "name": "stdout",
     "output_type": "stream",
     "text": [
      "---\n",
      "Unet Validation Dice Score: 0.8366488814353943     Segnet Validation Dice Score: 0.7976505160331726     Enet Validation Dice Score: 0.32018911838531494\n",
      "---\n",
      "Ensemble Voting Validation Dice Loss: 0.5409127473831177\n",
      "Ensemble Voting Validation Pixel Accuracy: 0.9424015513637609 \n",
      "Ensemble Voting Validation MIoU: 0.8099961109472191\n",
      "Ensemble Voting Validation Dice Score: 0.8240371942520142 \n"
     ]
    },
    {
     "name": "stderr",
     "output_type": "stream",
     "text": [
      "\n",
      "Epoch 4/50:  99%|█████████▊| 200/203 [00:15<00:00, 15.18img/s]"
     ]
    },
    {
     "name": "stdout",
     "output_type": "stream",
     "text": [
      "***\n",
      "Unet Loss: 0.3030807077884674     Segnet Loss: 0.22186912596225739     Enet Loss: 0.8915606141090393\n",
      "Voting Loss: 0.472170149286588\n"
     ]
    },
    {
     "name": "stderr",
     "output_type": "stream",
     "text": [
      "Epoch 4/50:  99%|█████████▊| 200/203 [00:19<00:00, 10.02img/s]"
     ]
    },
    {
     "name": "stdout",
     "output_type": "stream",
     "text": [
      "---\n",
      "Unet Validation Dice Score: 0.8074266314506531     Segnet Validation Dice Score: 0.8340921401977539     Enet Validation Dice Score: 0.3831530213356018\n",
      "---\n",
      "Ensemble Voting Validation Dice Loss: 0.49570727348327637\n",
      "Ensemble Voting Validation Pixel Accuracy: 0.9425854599266722 \n",
      "Ensemble Voting Validation MIoU: 0.8156142001244908\n",
      "Ensemble Voting Validation Dice Score: 0.8443546295166016 \n"
     ]
    },
    {
     "name": "stderr",
     "output_type": "stream",
     "text": [
      "\n",
      "Epoch 5/50:  99%|█████████▊| 200/203 [00:15<00:00, 15.13img/s]"
     ]
    },
    {
     "name": "stdout",
     "output_type": "stream",
     "text": [
      "***\n",
      "Unet Loss: 0.3694829046726227     Segnet Loss: 0.23718076944351196     Enet Loss: 0.803680419921875\n",
      "Voting Loss: 0.47011469801266986\n"
     ]
    },
    {
     "name": "stderr",
     "output_type": "stream",
     "text": [
      "Epoch 5/50:  99%|█████████▊| 200/203 [00:19<00:00, 10.07img/s]"
     ]
    },
    {
     "name": "stdout",
     "output_type": "stream",
     "text": [
      "---\n",
      "Unet Validation Dice Score: 0.8125753402709961     Segnet Validation Dice Score: 0.829002857208252     Enet Validation Dice Score: 0.4529034197330475\n",
      "---\n",
      "Ensemble Voting Validation Dice Loss: 0.5091539621353149\n",
      "Ensemble Voting Validation Pixel Accuracy: 0.9378980670058936 \n",
      "Ensemble Voting Validation MIoU: 0.8097474526849249\n",
      "Ensemble Voting Validation Dice Score: 0.8379087448120117 \n"
     ]
    },
    {
     "name": "stderr",
     "output_type": "stream",
     "text": [
      "\n",
      "Epoch 6/50:  99%|█████████▊| 200/203 [00:15<00:00, 14.99img/s]"
     ]
    },
    {
     "name": "stdout",
     "output_type": "stream",
     "text": [
      "***\n",
      "Unet Loss: 0.2216491997241974     Segnet Loss: 0.15609371662139893     Enet Loss: 0.7357066869735718\n",
      "Voting Loss: 0.37114986777305603\n"
     ]
    },
    {
     "name": "stderr",
     "output_type": "stream",
     "text": [
      "Epoch 6/50:  99%|█████████▊| 200/203 [00:19<00:00, 10.01img/s]"
     ]
    },
    {
     "name": "stdout",
     "output_type": "stream",
     "text": [
      "---\n",
      "Unet Validation Dice Score: 0.8757835626602173     Segnet Validation Dice Score: 0.8494479060173035     Enet Validation Dice Score: 0.5190005302429199\n",
      "---\n",
      "Ensemble Voting Validation Dice Loss: 0.41505205631256104\n",
      "Ensemble Voting Validation Pixel Accuracy: 0.9516767535293311 \n",
      "Ensemble Voting Validation MIoU: 0.8414608511864621\n",
      "Ensemble Voting Validation Dice Score: 0.864859402179718 \n"
     ]
    },
    {
     "name": "stderr",
     "output_type": "stream",
     "text": [
      "\n",
      "Epoch 7/50:  99%|█████████▊| 200/203 [00:15<00:00, 15.03img/s]"
     ]
    },
    {
     "name": "stdout",
     "output_type": "stream",
     "text": [
      "***\n",
      "Unet Loss: 0.24018830060958862     Segnet Loss: 0.1387837827205658     Enet Loss: 0.6835072040557861\n",
      "Voting Loss: 0.35415976246198017\n"
     ]
    },
    {
     "name": "stderr",
     "output_type": "stream",
     "text": [
      "Epoch 7/50:  99%|█████████▊| 200/203 [00:19<00:00, 10.13img/s]"
     ]
    },
    {
     "name": "stdout",
     "output_type": "stream",
     "text": [
      "---\n",
      "Unet Validation Dice Score: 0.8549639582633972     Segnet Validation Dice Score: 0.8521418571472168     Enet Validation Dice Score: 0.5735542178153992\n",
      "---\n",
      "Ensemble Voting Validation Dice Loss: 0.39500681559244794\n",
      "Ensemble Voting Validation Pixel Accuracy: 0.9476163094503838 \n",
      "Ensemble Voting Validation MIoU: 0.8287503053022236\n",
      "Ensemble Voting Validation Dice Score: 0.8582664728164673 \n"
     ]
    },
    {
     "name": "stderr",
     "output_type": "stream",
     "text": [
      "\n",
      "Epoch 8/50:  99%|█████████▊| 200/203 [00:15<00:00, 15.00img/s]"
     ]
    },
    {
     "name": "stdout",
     "output_type": "stream",
     "text": [
      "***\n",
      "Unet Loss: 0.2547961473464966     Segnet Loss: 0.16836673021316528     Enet Loss: 0.6241322755813599\n",
      "Voting Loss: 0.3490983843803406\n"
     ]
    },
    {
     "name": "stderr",
     "output_type": "stream",
     "text": [
      "Epoch 8/50:  99%|█████████▊| 200/203 [00:19<00:00, 10.15img/s]"
     ]
    },
    {
     "name": "stdout",
     "output_type": "stream",
     "text": [
      "---\n",
      "Unet Validation Dice Score: 0.82227623462677     Segnet Validation Dice Score: 0.8657659888267517     Enet Validation Dice Score: 0.6251208186149597\n",
      "---\n",
      "Ensemble Voting Validation Dice Loss: 0.38346993923187256\n",
      "Ensemble Voting Validation Pixel Accuracy: 0.946853102299205 \n",
      "Ensemble Voting Validation MIoU: 0.8265175702375297\n",
      "Ensemble Voting Validation Dice Score: 0.8729622960090637 \n"
     ]
    },
    {
     "name": "stderr",
     "output_type": "stream",
     "text": [
      "\n",
      "Epoch 9/50:  99%|█████████▊| 200/203 [00:15<00:00, 14.92img/s]"
     ]
    },
    {
     "name": "stdout",
     "output_type": "stream",
     "text": [
      "***\n",
      "Unet Loss: 0.21588176488876343     Segnet Loss: 0.17143256962299347     Enet Loss: 0.5971776247024536\n",
      "Voting Loss: 0.3281639864047368\n"
     ]
    },
    {
     "name": "stderr",
     "output_type": "stream",
     "text": [
      "Epoch 9/50:  99%|█████████▊| 200/203 [00:19<00:00, 10.15img/s]"
     ]
    },
    {
     "name": "stdout",
     "output_type": "stream",
     "text": [
      "---\n",
      "Unet Validation Dice Score: 0.8626108169555664     Segnet Validation Dice Score: 0.8320901989936829     Enet Validation Dice Score: 0.6667215824127197\n",
      "---\n",
      "Ensemble Voting Validation Dice Loss: 0.3423854509989421\n",
      "Ensemble Voting Validation Pixel Accuracy: 0.9583999901487116 \n",
      "Ensemble Voting Validation MIoU: 0.8585487791114108\n",
      "Ensemble Voting Validation Dice Score: 0.8573627471923828 \n"
     ]
    },
    {
     "name": "stderr",
     "output_type": "stream",
     "text": [
      "\n",
      "Epoch 10/50:  99%|█████████▊| 200/203 [00:15<00:00, 14.97img/s]"
     ]
    },
    {
     "name": "stdout",
     "output_type": "stream",
     "text": [
      "***\n",
      "Unet Loss: 0.19642961025238037     Segnet Loss: 0.11827673017978668     Enet Loss: 0.5467969179153442\n",
      "Voting Loss: 0.2871677527825038\n"
     ]
    },
    {
     "name": "stderr",
     "output_type": "stream",
     "text": [
      "Epoch 10/50:  99%|█████████▊| 200/203 [00:19<00:00, 10.18img/s]"
     ]
    },
    {
     "name": "stdout",
     "output_type": "stream",
     "text": [
      "---\n",
      "Unet Validation Dice Score: 0.8943592309951782     Segnet Validation Dice Score: 0.8731061220169067     Enet Validation Dice Score: 0.7025718092918396\n",
      "---\n",
      "Ensemble Voting Validation Dice Loss: 0.33220722277959186\n",
      "Ensemble Voting Validation Pixel Accuracy: 0.9539893970154879 \n",
      "Ensemble Voting Validation MIoU: 0.8469155218249549\n",
      "Ensemble Voting Validation Dice Score: 0.8872235417366028 \n"
     ]
    },
    {
     "name": "stderr",
     "output_type": "stream",
     "text": [
      "\n",
      "Epoch 11/50:  99%|█████████▊| 200/203 [00:15<00:00, 14.96img/s]"
     ]
    },
    {
     "name": "stdout",
     "output_type": "stream",
     "text": [
      "***\n",
      "Unet Loss: 0.2316317856311798     Segnet Loss: 0.1479145735502243     Enet Loss: 0.5429143905639648\n",
      "Voting Loss: 0.30748691658178967\n"
     ]
    },
    {
     "name": "stderr",
     "output_type": "stream",
     "text": [
      "Epoch 11/50:  99%|█████████▊| 200/203 [00:19<00:00, 10.23img/s]"
     ]
    },
    {
     "name": "stdout",
     "output_type": "stream",
     "text": [
      "---\n",
      "Unet Validation Dice Score: 0.9009869694709778     Segnet Validation Dice Score: 0.884381115436554     Enet Validation Dice Score: 0.7315632104873657\n",
      "---\n",
      "Ensemble Voting Validation Dice Loss: 0.3063194751739502\n",
      "Ensemble Voting Validation Pixel Accuracy: 0.9588810435512609 \n",
      "Ensemble Voting Validation MIoU: 0.8588695930291661\n",
      "Ensemble Voting Validation Dice Score: 0.894659698009491 \n"
     ]
    },
    {
     "name": "stderr",
     "output_type": "stream",
     "text": [
      "\n",
      "Epoch 12/50:  99%|█████████▊| 200/203 [00:15<00:00, 14.95img/s]"
     ]
    },
    {
     "name": "stdout",
     "output_type": "stream",
     "text": [
      "***\n",
      "Unet Loss: 0.1839371919631958     Segnet Loss: 0.14799192547798157     Enet Loss: 0.4766201376914978\n",
      "Voting Loss: 0.2695164183775584\n"
     ]
    },
    {
     "name": "stderr",
     "output_type": "stream",
     "text": [
      "Epoch 12/50:  99%|█████████▊| 200/203 [00:19<00:00, 10.08img/s]"
     ]
    },
    {
     "name": "stdout",
     "output_type": "stream",
     "text": [
      "---\n",
      "Unet Validation Dice Score: 0.9023966789245605     Segnet Validation Dice Score: 0.8296767473220825     Enet Validation Dice Score: 0.7552794814109802\n",
      "---\n",
      "Ensemble Voting Validation Dice Loss: 0.3431670665740967\n",
      "Ensemble Voting Validation Pixel Accuracy: 0.9513860334429824 \n",
      "Ensemble Voting Validation MIoU: 0.8354086880412157\n",
      "Ensemble Voting Validation Dice Score: 0.8993880152702332 \n"
     ]
    },
    {
     "name": "stderr",
     "output_type": "stream",
     "text": [
      "\n",
      "Epoch 13/50:  99%|█████████▊| 200/203 [00:15<00:00, 14.92img/s]"
     ]
    },
    {
     "name": "stdout",
     "output_type": "stream",
     "text": [
      "***\n",
      "Unet Loss: 0.173979252576828     Segnet Loss: 0.09254009276628494     Enet Loss: 0.4498319923877716\n",
      "Voting Loss: 0.23878377924362817\n"
     ]
    },
    {
     "name": "stderr",
     "output_type": "stream",
     "text": [
      "Epoch 13/50:  99%|█████████▊| 200/203 [00:19<00:00, 10.04img/s]"
     ]
    },
    {
     "name": "stdout",
     "output_type": "stream",
     "text": [
      "---\n",
      "Unet Validation Dice Score: 0.8966676592826843     Segnet Validation Dice Score: 0.8787361979484558     Enet Validation Dice Score: 0.7734567523002625\n",
      "---\n",
      "Ensemble Voting Validation Dice Loss: 0.2790611982345581\n",
      "Ensemble Voting Validation Pixel Accuracy: 0.9633098401521382 \n",
      "Ensemble Voting Validation MIoU: 0.8731674921782107\n",
      "Ensemble Voting Validation Dice Score: 0.8876779675483704 \n"
     ]
    },
    {
     "name": "stderr",
     "output_type": "stream",
     "text": [
      "\n",
      "Epoch 14/50:  99%|█████████▊| 200/203 [00:15<00:00, 14.96img/s]"
     ]
    },
    {
     "name": "stdout",
     "output_type": "stream",
     "text": [
      "***\n",
      "Unet Loss: 0.17236140370368958     Segnet Loss: 0.1408836841583252     Enet Loss: 0.3913559913635254\n",
      "Voting Loss: 0.2348670264085134\n"
     ]
    },
    {
     "name": "stderr",
     "output_type": "stream",
     "text": [
      "Epoch 14/50:  99%|█████████▊| 200/203 [00:19<00:00, 10.07img/s]"
     ]
    },
    {
     "name": "stdout",
     "output_type": "stream",
     "text": [
      "---\n",
      "Unet Validation Dice Score: 0.903175950050354     Segnet Validation Dice Score: 0.8920686841011047     Enet Validation Dice Score: 0.788504958152771\n",
      "---\n",
      "Ensemble Voting Validation Dice Loss: 0.26992019017537433\n",
      "Ensemble Voting Validation Pixel Accuracy: 0.9625993695175439 \n",
      "Ensemble Voting Validation MIoU: 0.8721934509821963\n",
      "Ensemble Voting Validation Dice Score: 0.8970465660095215 \n"
     ]
    },
    {
     "name": "stderr",
     "output_type": "stream",
     "text": [
      "\n",
      "Epoch 15/50:  99%|█████████▊| 200/203 [00:15<00:00, 14.90img/s]"
     ]
    },
    {
     "name": "stdout",
     "output_type": "stream",
     "text": [
      "***\n",
      "Unet Loss: 0.17717260122299194     Segnet Loss: 0.11215916275978088     Enet Loss: 0.41742950677871704\n",
      "Voting Loss: 0.23558709025382996\n"
     ]
    },
    {
     "name": "stderr",
     "output_type": "stream",
     "text": [
      "Epoch 15/50:  99%|█████████▊| 200/203 [00:19<00:00, 10.02img/s]"
     ]
    },
    {
     "name": "stdout",
     "output_type": "stream",
     "text": [
      "---\n",
      "Unet Validation Dice Score: 0.8987926840782166     Segnet Validation Dice Score: 0.882002055644989     Enet Validation Dice Score: 0.8016197085380554\n",
      "---\n",
      "Ensemble Voting Validation Dice Loss: 0.2764381965001424\n",
      "Ensemble Voting Validation Pixel Accuracy: 0.9573356226870888 \n",
      "Ensemble Voting Validation MIoU: 0.8571756416452058\n",
      "Ensemble Voting Validation Dice Score: 0.897005558013916 \n"
     ]
    },
    {
     "name": "stderr",
     "output_type": "stream",
     "text": [
      "\n",
      "Epoch 16/50:  99%|█████████▊| 200/203 [00:15<00:00, 14.93img/s]"
     ]
    },
    {
     "name": "stdout",
     "output_type": "stream",
     "text": [
      "***\n",
      "Unet Loss: 0.16411423683166504     Segnet Loss: 0.06723054498434067     Enet Loss: 0.3397161364555359\n",
      "Voting Loss: 0.1903536394238472\n"
     ]
    },
    {
     "name": "stderr",
     "output_type": "stream",
     "text": [
      "Epoch 16/50:  99%|█████████▊| 200/203 [00:19<00:00, 10.05img/s]"
     ]
    },
    {
     "name": "stdout",
     "output_type": "stream",
     "text": [
      "---\n",
      "Unet Validation Dice Score: 0.9013206362724304     Segnet Validation Dice Score: 0.8889793753623962     Enet Validation Dice Score: 0.8152174949645996\n",
      "---\n",
      "Ensemble Voting Validation Dice Loss: 0.25493045647939044\n",
      "Ensemble Voting Validation Pixel Accuracy: 0.9615885416666666 \n",
      "Ensemble Voting Validation MIoU: 0.8698964669248692\n",
      "Ensemble Voting Validation Dice Score: 0.897567093372345 \n"
     ]
    },
    {
     "name": "stderr",
     "output_type": "stream",
     "text": [
      "\n",
      "Epoch 17/50:  99%|█████████▊| 200/203 [00:15<00:00, 15.06img/s]"
     ]
    },
    {
     "name": "stdout",
     "output_type": "stream",
     "text": [
      "***\n",
      "Unet Loss: 0.14672330021858215     Segnet Loss: 0.08458027988672256     Enet Loss: 0.30259793996810913\n",
      "Voting Loss: 0.17796717335780463\n"
     ]
    },
    {
     "name": "stderr",
     "output_type": "stream",
     "text": [
      "Epoch 17/50:  99%|█████████▊| 200/203 [00:19<00:00, 10.00img/s]"
     ]
    },
    {
     "name": "stdout",
     "output_type": "stream",
     "text": [
      "---\n",
      "Unet Validation Dice Score: 0.9062946438789368     Segnet Validation Dice Score: 0.8976075053215027     Enet Validation Dice Score: 0.8272656798362732\n",
      "---\n",
      "Ensemble Voting Validation Dice Loss: 0.26089731852213544\n",
      "Ensemble Voting Validation Pixel Accuracy: 0.9586079915364584 \n",
      "Ensemble Voting Validation MIoU: 0.8610356304326314\n",
      "Ensemble Voting Validation Dice Score: 0.9058950543403625 \n"
     ]
    },
    {
     "name": "stderr",
     "output_type": "stream",
     "text": [
      "\n",
      "Epoch 18/50:  99%|█████████▊| 200/203 [00:15<00:00, 14.98img/s]"
     ]
    },
    {
     "name": "stdout",
     "output_type": "stream",
     "text": [
      "***\n",
      "Unet Loss: 0.15879327058792114     Segnet Loss: 0.07787181437015533     Enet Loss: 0.33744561672210693\n",
      "Voting Loss: 0.19137023389339447\n"
     ]
    },
    {
     "name": "stderr",
     "output_type": "stream",
     "text": [
      "Epoch 18/50:  99%|█████████▊| 200/203 [00:19<00:00, 10.16img/s]"
     ]
    },
    {
     "name": "stdout",
     "output_type": "stream",
     "text": [
      "---\n",
      "Unet Validation Dice Score: 0.9036158919334412     Segnet Validation Dice Score: 0.8841652870178223     Enet Validation Dice Score: 0.8304144144058228\n",
      "---\n",
      "Ensemble Voting Validation Dice Loss: 0.2581004500389099\n",
      "Ensemble Voting Validation Pixel Accuracy: 0.9578525476288378 \n",
      "Ensemble Voting Validation MIoU: 0.8607701994180854\n",
      "Ensemble Voting Validation Dice Score: 0.892552375793457 \n"
     ]
    },
    {
     "name": "stderr",
     "output_type": "stream",
     "text": [
      "\n",
      "Epoch 19/50:  99%|█████████▊| 200/203 [00:15<00:00, 14.94img/s]"
     ]
    },
    {
     "name": "stdout",
     "output_type": "stream",
     "text": [
      "***\n",
      "Unet Loss: 0.17750540375709534     Segnet Loss: 0.08432620018720627     Enet Loss: 0.32692328095436096\n",
      "Voting Loss: 0.1962516282995542\n"
     ]
    },
    {
     "name": "stderr",
     "output_type": "stream",
     "text": [
      "Epoch 19/50:  99%|█████████▊| 200/203 [00:19<00:00, 10.07img/s]"
     ]
    },
    {
     "name": "stdout",
     "output_type": "stream",
     "text": [
      "---\n",
      "Unet Validation Dice Score: 0.905264675617218     Segnet Validation Dice Score: 0.9022948145866394     Enet Validation Dice Score: 0.8396455645561218\n",
      "---\n",
      "Ensemble Voting Validation Dice Loss: 0.2487736940383911\n",
      "Ensemble Voting Validation Pixel Accuracy: 0.959783721388432 \n",
      "Ensemble Voting Validation MIoU: 0.865755225038385\n",
      "Ensemble Voting Validation Dice Score: 0.907284677028656 \n"
     ]
    },
    {
     "name": "stderr",
     "output_type": "stream",
     "text": [
      "\n",
      "Epoch 20/50:  99%|█████████▊| 200/203 [00:15<00:00, 14.80img/s]"
     ]
    },
    {
     "name": "stdout",
     "output_type": "stream",
     "text": [
      "***\n",
      "Unet Loss: 0.15015599131584167     Segnet Loss: 0.07930055260658264     Enet Loss: 0.3299614191055298\n",
      "Voting Loss: 0.18647265434265137\n"
     ]
    },
    {
     "name": "stderr",
     "output_type": "stream",
     "text": [
      "Epoch 20/50:  99%|█████████▊| 200/203 [00:19<00:00, 10.08img/s]"
     ]
    },
    {
     "name": "stdout",
     "output_type": "stream",
     "text": [
      "---\n",
      "Unet Validation Dice Score: 0.9020659327507019     Segnet Validation Dice Score: 0.8814353346824646     Enet Validation Dice Score: 0.8368661999702454\n",
      "---\n",
      "Ensemble Voting Validation Dice Loss: 0.2500353256861369\n",
      "Ensemble Voting Validation Pixel Accuracy: 0.956240737647341 \n",
      "Ensemble Voting Validation MIoU: 0.8563624164193034\n",
      "Ensemble Voting Validation Dice Score: 0.8925711512565613 \n"
     ]
    },
    {
     "name": "stderr",
     "output_type": "stream",
     "text": [
      "\n",
      "Epoch 21/50:  99%|█████████▊| 200/203 [00:15<00:00, 15.12img/s]"
     ]
    },
    {
     "name": "stdout",
     "output_type": "stream",
     "text": [
      "***\n",
      "Unet Loss: 0.16577020287513733     Segnet Loss: 0.07596465200185776     Enet Loss: 0.291913777589798\n",
      "Voting Loss: 0.17788287748893103\n"
     ]
    },
    {
     "name": "stderr",
     "output_type": "stream",
     "text": [
      "Epoch 21/50:  99%|█████████▊| 200/203 [00:20<00:00,  9.88img/s]"
     ]
    },
    {
     "name": "stdout",
     "output_type": "stream",
     "text": [
      "---\n",
      "Unet Validation Dice Score: 0.9080076217651367     Segnet Validation Dice Score: 0.902739942073822     Enet Validation Dice Score: 0.8427078127861023\n",
      "---\n",
      "Ensemble Voting Validation Dice Loss: 0.22368826468785605\n",
      "Ensemble Voting Validation Pixel Accuracy: 0.964627182274534 \n",
      "Ensemble Voting Validation MIoU: 0.8773075702617916\n",
      "Ensemble Voting Validation Dice Score: 0.9094758033752441 \n"
     ]
    },
    {
     "name": "stderr",
     "output_type": "stream",
     "text": [
      "\n",
      "Epoch 22/50:  99%|█████████▊| 200/203 [00:15<00:00, 15.11img/s]"
     ]
    },
    {
     "name": "stdout",
     "output_type": "stream",
     "text": [
      "***\n",
      "Unet Loss: 0.14342457056045532     Segnet Loss: 0.06662608683109283     Enet Loss: 0.2517384886741638\n",
      "Voting Loss: 0.15392971535523733\n"
     ]
    },
    {
     "name": "stderr",
     "output_type": "stream",
     "text": [
      "Epoch 22/50:  99%|█████████▊| 200/203 [00:19<00:00, 10.04img/s]"
     ]
    },
    {
     "name": "stdout",
     "output_type": "stream",
     "text": [
      "---\n",
      "Unet Validation Dice Score: 0.9082361459732056     Segnet Validation Dice Score: 0.9103002548217773     Enet Validation Dice Score: 0.8517762422561646\n",
      "---\n",
      "Ensemble Voting Validation Dice Loss: 0.21600103378295898\n",
      "Ensemble Voting Validation Pixel Accuracy: 0.9670988384046053 \n",
      "Ensemble Voting Validation MIoU: 0.8843328292110243\n",
      "Ensemble Voting Validation Dice Score: 0.9123908281326294 \n"
     ]
    },
    {
     "name": "stderr",
     "output_type": "stream",
     "text": [
      "\n",
      "Epoch 23/50:  99%|█████████▊| 200/203 [00:15<00:00, 14.87img/s]"
     ]
    },
    {
     "name": "stdout",
     "output_type": "stream",
     "text": [
      "***\n",
      "Unet Loss: 0.1502770185470581     Segnet Loss: 0.06213565915822983     Enet Loss: 0.23717975616455078\n",
      "Voting Loss: 0.14986414462327957\n"
     ]
    },
    {
     "name": "stderr",
     "output_type": "stream",
     "text": [
      "Epoch 23/50:  99%|█████████▊| 200/203 [00:19<00:00, 10.20img/s]"
     ]
    },
    {
     "name": "stdout",
     "output_type": "stream",
     "text": [
      "---\n",
      "Unet Validation Dice Score: 0.9084120988845825     Segnet Validation Dice Score: 0.9066528677940369     Enet Validation Dice Score: 0.8501297831535339\n",
      "---\n",
      "Ensemble Voting Validation Dice Loss: 0.22088356812795004\n",
      "Ensemble Voting Validation Pixel Accuracy: 0.9657357199150219 \n",
      "Ensemble Voting Validation MIoU: 0.8811298055459114\n",
      "Ensemble Voting Validation Dice Score: 0.9097356796264648 \n"
     ]
    },
    {
     "name": "stderr",
     "output_type": "stream",
     "text": [
      "\n",
      "Epoch 24/50:  99%|█████████▊| 200/203 [00:15<00:00, 14.94img/s]"
     ]
    },
    {
     "name": "stdout",
     "output_type": "stream",
     "text": [
      "***\n",
      "Unet Loss: 0.15979403257369995     Segnet Loss: 0.0455697737634182     Enet Loss: 0.2536218464374542\n",
      "Voting Loss: 0.15299521759152412\n"
     ]
    },
    {
     "name": "stderr",
     "output_type": "stream",
     "text": [
      "Epoch 24/50:  99%|█████████▊| 200/203 [00:19<00:00, 10.08img/s]"
     ]
    },
    {
     "name": "stdout",
     "output_type": "stream",
     "text": [
      "---\n",
      "Unet Validation Dice Score: 0.9092493057250977     Segnet Validation Dice Score: 0.9079328775405884     Enet Validation Dice Score: 0.8381696939468384\n",
      "---\n",
      "Ensemble Voting Validation Dice Loss: 0.2175611654917399\n",
      "Ensemble Voting Validation Pixel Accuracy: 0.9634985672800165 \n",
      "Ensemble Voting Validation MIoU: 0.8749824221696304\n",
      "Ensemble Voting Validation Dice Score: 0.909275233745575 \n"
     ]
    },
    {
     "name": "stderr",
     "output_type": "stream",
     "text": [
      "\n",
      "Epoch 25/50:  99%|█████████▊| 200/203 [00:15<00:00, 14.77img/s]"
     ]
    },
    {
     "name": "stdout",
     "output_type": "stream",
     "text": [
      "***\n",
      "Unet Loss: 0.15565705299377441     Segnet Loss: 0.06369560956954956     Enet Loss: 0.24643906950950623\n",
      "Voting Loss: 0.1552639106909434\n"
     ]
    },
    {
     "name": "stderr",
     "output_type": "stream",
     "text": [
      "Epoch 25/50:  99%|█████████▊| 200/203 [00:19<00:00, 10.12img/s]"
     ]
    },
    {
     "name": "stdout",
     "output_type": "stream",
     "text": [
      "---\n",
      "Unet Validation Dice Score: 0.9093095660209656     Segnet Validation Dice Score: 0.9072251319885254     Enet Validation Dice Score: 0.853462815284729\n",
      "---\n",
      "Ensemble Voting Validation Dice Loss: 0.21738648414611816\n",
      "Ensemble Voting Validation Pixel Accuracy: 0.9639137669613487 \n",
      "Ensemble Voting Validation MIoU: 0.8750177886820989\n",
      "Ensemble Voting Validation Dice Score: 0.9097625017166138 \n"
     ]
    },
    {
     "name": "stderr",
     "output_type": "stream",
     "text": [
      "\n",
      "Epoch 26/50:  99%|█████████▊| 200/203 [00:15<00:00, 14.96img/s]"
     ]
    },
    {
     "name": "stdout",
     "output_type": "stream",
     "text": [
      "***\n",
      "Unet Loss: 0.14942792057991028     Segnet Loss: 0.04069975018501282     Enet Loss: 0.21451646089553833\n",
      "Voting Loss: 0.1348813772201538\n"
     ]
    },
    {
     "name": "stderr",
     "output_type": "stream",
     "text": [
      "Epoch 26/50:  99%|█████████▊| 200/203 [00:19<00:00, 10.19img/s]"
     ]
    },
    {
     "name": "stdout",
     "output_type": "stream",
     "text": [
      "---\n",
      "Unet Validation Dice Score: 0.9086088538169861     Segnet Validation Dice Score: 0.9151419997215271     Enet Validation Dice Score: 0.8524567484855652\n",
      "---\n",
      "Ensemble Voting Validation Dice Loss: 0.21633833646774292\n",
      "Ensemble Voting Validation Pixel Accuracy: 0.962520398591694 \n",
      "Ensemble Voting Validation MIoU: 0.8733766495303823\n",
      "Ensemble Voting Validation Dice Score: 0.9138371348381042 \n"
     ]
    },
    {
     "name": "stderr",
     "output_type": "stream",
     "text": [
      "\n",
      "Epoch 27/50:  99%|█████████▊| 200/203 [00:15<00:00, 15.23img/s]"
     ]
    },
    {
     "name": "stdout",
     "output_type": "stream",
     "text": [
      "***\n",
      "Unet Loss: 0.16080322861671448     Segnet Loss: 0.037492021918296814     Enet Loss: 0.25436142086982727\n",
      "Voting Loss: 0.1508855571349462\n"
     ]
    },
    {
     "name": "stderr",
     "output_type": "stream",
     "text": [
      "Epoch 27/50:  99%|█████████▊| 200/203 [00:19<00:00, 10.11img/s]"
     ]
    },
    {
     "name": "stdout",
     "output_type": "stream",
     "text": [
      "---\n",
      "Unet Validation Dice Score: 0.9055544137954712     Segnet Validation Dice Score: 0.9174535870552063     Enet Validation Dice Score: 0.851324737071991\n",
      "---\n",
      "Ensemble Voting Validation Dice Loss: 0.2069337765375773\n",
      "Ensemble Voting Validation Pixel Accuracy: 0.9659099913479989 \n",
      "Ensemble Voting Validation MIoU: 0.8818668163967422\n",
      "Ensemble Voting Validation Dice Score: 0.9130264520645142 \n"
     ]
    },
    {
     "name": "stderr",
     "output_type": "stream",
     "text": [
      "\n",
      "Epoch 28/50:  99%|█████████▊| 200/203 [00:15<00:00, 14.76img/s]"
     ]
    },
    {
     "name": "stdout",
     "output_type": "stream",
     "text": [
      "***\n",
      "Unet Loss: 0.15306249260902405     Segnet Loss: 0.037600986659526825     Enet Loss: 0.20190399885177612\n",
      "Voting Loss: 0.130855826040109\n"
     ]
    },
    {
     "name": "stderr",
     "output_type": "stream",
     "text": [
      "Epoch 28/50:  99%|█████████▊| 200/203 [00:19<00:00, 10.10img/s]"
     ]
    },
    {
     "name": "stdout",
     "output_type": "stream",
     "text": [
      "---\n",
      "Unet Validation Dice Score: 0.9063032269477844     Segnet Validation Dice Score: 0.9179466366767883     Enet Validation Dice Score: 0.8609063029289246\n",
      "---\n",
      "Ensemble Voting Validation Dice Loss: 0.2093796730041504\n",
      "Ensemble Voting Validation Pixel Accuracy: 0.9635855691474781 \n",
      "Ensemble Voting Validation MIoU: 0.8762785245112326\n",
      "Ensemble Voting Validation Dice Score: 0.9144057631492615 \n"
     ]
    },
    {
     "name": "stderr",
     "output_type": "stream",
     "text": [
      "\n",
      "Epoch 29/50:  99%|█████████▊| 200/203 [00:15<00:00, 14.99img/s]"
     ]
    },
    {
     "name": "stdout",
     "output_type": "stream",
     "text": [
      "***\n",
      "Unet Loss: 0.16822826862335205     Segnet Loss: 0.031770847737789154     Enet Loss: 0.20696690678596497\n",
      "Voting Loss: 0.1356553410490354\n"
     ]
    },
    {
     "name": "stderr",
     "output_type": "stream",
     "text": [
      "Epoch 29/50:  99%|█████████▊| 200/203 [00:19<00:00, 10.12img/s]"
     ]
    },
    {
     "name": "stdout",
     "output_type": "stream",
     "text": [
      "---\n",
      "Unet Validation Dice Score: 0.9070072174072266     Segnet Validation Dice Score: 0.9138385057449341     Enet Validation Dice Score: 0.8484307527542114\n",
      "---\n",
      "Ensemble Voting Validation Dice Loss: 0.20707635084788004\n",
      "Ensemble Voting Validation Pixel Accuracy: 0.9650311386376097 \n",
      "Ensemble Voting Validation MIoU: 0.880516083549203\n",
      "Ensemble Voting Validation Dice Score: 0.9097782969474792 \n"
     ]
    },
    {
     "name": "stderr",
     "output_type": "stream",
     "text": [
      "\n",
      "Epoch 30/50:  99%|█████████▊| 200/203 [00:15<00:00, 15.00img/s]"
     ]
    },
    {
     "name": "stdout",
     "output_type": "stream",
     "text": [
      "***\n",
      "Unet Loss: 0.14982818067073822     Segnet Loss: 0.03134344518184662     Enet Loss: 0.24296797811985016\n",
      "Voting Loss: 0.14137986799081168\n"
     ]
    },
    {
     "name": "stderr",
     "output_type": "stream",
     "text": [
      "Epoch 30/50:  99%|█████████▊| 200/203 [00:20<00:00,  9.94img/s]"
     ]
    },
    {
     "name": "stdout",
     "output_type": "stream",
     "text": [
      "---\n",
      "Unet Validation Dice Score: 0.9074612855911255     Segnet Validation Dice Score: 0.9190527200698853     Enet Validation Dice Score: 0.8604434132575989\n",
      "---\n",
      "Ensemble Voting Validation Dice Loss: 0.2105738321940104\n",
      "Ensemble Voting Validation Pixel Accuracy: 0.9633569550095943 \n",
      "Ensemble Voting Validation MIoU: 0.8754359564510935\n",
      "Ensemble Voting Validation Dice Score: 0.914962112903595 \n"
     ]
    },
    {
     "name": "stderr",
     "output_type": "stream",
     "text": [
      "\n",
      "Epoch 31/50:  99%|█████████▊| 200/203 [00:15<00:00, 14.79img/s]"
     ]
    },
    {
     "name": "stdout",
     "output_type": "stream",
     "text": [
      "***\n",
      "Unet Loss: 0.1598004400730133     Segnet Loss: 0.03015809692442417     Enet Loss: 0.203296959400177\n",
      "Voting Loss: 0.13108516546587148\n"
     ]
    },
    {
     "name": "stderr",
     "output_type": "stream",
     "text": [
      "Epoch 31/50:  99%|█████████▊| 200/203 [00:19<00:00, 10.01img/s]"
     ]
    },
    {
     "name": "stdout",
     "output_type": "stream",
     "text": [
      "---\n",
      "Unet Validation Dice Score: 0.9078072905540466     Segnet Validation Dice Score: 0.9214853644371033     Enet Validation Dice Score: 0.8676668405532837\n",
      "---\n",
      "Ensemble Voting Validation Dice Loss: 0.20716917514801025\n",
      "Ensemble Voting Validation Pixel Accuracy: 0.965536820261102 \n",
      "Ensemble Voting Validation MIoU: 0.8808275020078076\n",
      "Ensemble Voting Validation Dice Score: 0.9180853962898254 \n"
     ]
    },
    {
     "name": "stderr",
     "output_type": "stream",
     "text": [
      "\n",
      "Epoch 32/50:  99%|█████████▊| 200/203 [00:15<00:00, 14.89img/s]"
     ]
    },
    {
     "name": "stdout",
     "output_type": "stream",
     "text": [
      "***\n",
      "Unet Loss: 0.15798375010490417     Segnet Loss: 0.038211189210414886     Enet Loss: 0.19362607598304749\n",
      "Voting Loss: 0.12994033843278885\n"
     ]
    },
    {
     "name": "stderr",
     "output_type": "stream",
     "text": [
      "Epoch 32/50:  99%|█████████▊| 200/203 [00:19<00:00, 10.02img/s]"
     ]
    },
    {
     "name": "stdout",
     "output_type": "stream",
     "text": [
      "---\n",
      "Unet Validation Dice Score: 0.9079867601394653     Segnet Validation Dice Score: 0.9160209894180298     Enet Validation Dice Score: 0.859691321849823\n",
      "---\n",
      "Ensemble Voting Validation Dice Loss: 0.19772680600484213\n",
      "Ensemble Voting Validation Pixel Accuracy: 0.9657284920675713 \n",
      "Ensemble Voting Validation MIoU: 0.8824565881938036\n",
      "Ensemble Voting Validation Dice Score: 0.9137512445449829 \n"
     ]
    },
    {
     "name": "stderr",
     "output_type": "stream",
     "text": [
      "\n",
      "Epoch 33/50:  99%|█████████▊| 200/203 [00:15<00:00, 14.99img/s]"
     ]
    },
    {
     "name": "stdout",
     "output_type": "stream",
     "text": [
      "***\n",
      "Unet Loss: 0.14578422904014587     Segnet Loss: 0.02599286288022995     Enet Loss: 0.16918423771858215\n",
      "Voting Loss: 0.11365377654631932\n"
     ]
    },
    {
     "name": "stderr",
     "output_type": "stream",
     "text": [
      "Epoch 33/50:  99%|█████████▊| 200/203 [00:20<00:00,  9.91img/s]"
     ]
    },
    {
     "name": "stdout",
     "output_type": "stream",
     "text": [
      "---\n",
      "Unet Validation Dice Score: 0.9078709483146667     Segnet Validation Dice Score: 0.9223238825798035     Enet Validation Dice Score: 0.8795686960220337\n",
      "---\n",
      "Ensemble Voting Validation Dice Loss: 0.1932297150293986\n",
      "Ensemble Voting Validation Pixel Accuracy: 0.9679054126404879 \n",
      "Ensemble Voting Validation MIoU: 0.8878393447174684\n",
      "Ensemble Voting Validation Dice Score: 0.9207412600517273 \n"
     ]
    },
    {
     "name": "stderr",
     "output_type": "stream",
     "text": [
      "\n",
      "Epoch 34/50:  99%|█████████▊| 200/203 [00:15<00:00, 14.91img/s]"
     ]
    },
    {
     "name": "stdout",
     "output_type": "stream",
     "text": [
      "***\n",
      "Unet Loss: 0.1521325260400772     Segnet Loss: 0.03533676639199257     Enet Loss: 0.173923522233963\n",
      "Voting Loss: 0.12046427155534427\n"
     ]
    },
    {
     "name": "stderr",
     "output_type": "stream",
     "text": [
      "Epoch 34/50:  99%|█████████▊| 200/203 [00:20<00:00,  9.90img/s]"
     ]
    },
    {
     "name": "stdout",
     "output_type": "stream",
     "text": [
      "---\n",
      "Unet Validation Dice Score: 0.9076353907585144     Segnet Validation Dice Score: 0.920335590839386     Enet Validation Dice Score: 0.8681504130363464\n",
      "---\n",
      "Ensemble Voting Validation Dice Loss: 0.19439196586608887\n",
      "Ensemble Voting Validation Pixel Accuracy: 0.9685096071477521 \n",
      "Ensemble Voting Validation MIoU: 0.8894872699105633\n",
      "Ensemble Voting Validation Dice Score: 0.9183770418167114 \n"
     ]
    },
    {
     "name": "stderr",
     "output_type": "stream",
     "text": [
      "\n",
      "Epoch 35/50:  99%|█████████▊| 200/203 [00:15<00:00, 15.13img/s]"
     ]
    },
    {
     "name": "stdout",
     "output_type": "stream",
     "text": [
      "***\n",
      "Unet Loss: 0.15537843108177185     Segnet Loss: 0.03489740192890167     Enet Loss: 0.1773276925086975\n",
      "Voting Loss: 0.12253450850645702\n"
     ]
    },
    {
     "name": "stderr",
     "output_type": "stream",
     "text": [
      "Epoch 35/50:  99%|█████████▊| 200/203 [00:20<00:00,  9.94img/s]"
     ]
    },
    {
     "name": "stdout",
     "output_type": "stream",
     "text": [
      "---\n",
      "Unet Validation Dice Score: 0.9072944521903992     Segnet Validation Dice Score: 0.9191128611564636     Enet Validation Dice Score: 0.8806045651435852\n",
      "---\n",
      "Ensemble Voting Validation Dice Loss: 0.19342331091562906\n",
      "Ensemble Voting Validation Pixel Accuracy: 0.9673033597176535 \n",
      "Ensemble Voting Validation MIoU: 0.8858996466780498\n",
      "Ensemble Voting Validation Dice Score: 0.9185554385185242 \n"
     ]
    },
    {
     "name": "stderr",
     "output_type": "stream",
     "text": [
      "\n",
      "Epoch 36/50:  99%|█████████▊| 200/203 [00:15<00:00, 14.94img/s]"
     ]
    },
    {
     "name": "stdout",
     "output_type": "stream",
     "text": [
      "***\n",
      "Unet Loss: 0.15677520632743835     Segnet Loss: 0.028547294437885284     Enet Loss: 0.18075239658355713\n",
      "Voting Loss: 0.12202496578296025\n"
     ]
    },
    {
     "name": "stderr",
     "output_type": "stream",
     "text": [
      "Epoch 36/50:  99%|█████████▊| 200/203 [00:19<00:00, 10.12img/s]"
     ]
    },
    {
     "name": "stdout",
     "output_type": "stream",
     "text": [
      "---\n",
      "Unet Validation Dice Score: 0.9073691368103027     Segnet Validation Dice Score: 0.9163469672203064     Enet Validation Dice Score: 0.8813280463218689\n",
      "---\n",
      "Ensemble Voting Validation Dice Loss: 0.19154240687688193\n",
      "Ensemble Voting Validation Pixel Accuracy: 0.9677099930612665 \n",
      "Ensemble Voting Validation MIoU: 0.8872175705020291\n",
      "Ensemble Voting Validation Dice Score: 0.9174445271492004 \n"
     ]
    },
    {
     "name": "stderr",
     "output_type": "stream",
     "text": [
      "\n",
      "Epoch 37/50:  99%|█████████▊| 200/203 [00:15<00:00, 14.81img/s]"
     ]
    },
    {
     "name": "stdout",
     "output_type": "stream",
     "text": [
      "***\n",
      "Unet Loss: 0.14360539615154266     Segnet Loss: 0.027911201119422913     Enet Loss: 0.10310743004083633\n",
      "Voting Loss: 0.0915413424372673\n"
     ]
    },
    {
     "name": "stderr",
     "output_type": "stream",
     "text": [
      "Epoch 37/50:  99%|█████████▊| 200/203 [00:19<00:00, 10.02img/s]"
     ]
    },
    {
     "name": "stdout",
     "output_type": "stream",
     "text": [
      "---\n",
      "Unet Validation Dice Score: 0.907814621925354     Segnet Validation Dice Score: 0.9161316752433777     Enet Validation Dice Score: 0.8859401941299438\n",
      "---\n",
      "Ensemble Voting Validation Dice Loss: 0.1969024340311686\n",
      "Ensemble Voting Validation Pixel Accuracy: 0.965105558696546 \n",
      "Ensemble Voting Validation MIoU: 0.8807683178189061\n",
      "Ensemble Voting Validation Dice Score: 0.9170615077018738 \n"
     ]
    },
    {
     "name": "stderr",
     "output_type": "stream",
     "text": [
      "\n",
      "Epoch 38/50:  99%|█████████▊| 200/203 [00:15<00:00, 15.41img/s]"
     ]
    },
    {
     "name": "stdout",
     "output_type": "stream",
     "text": [
      "***\n",
      "Unet Loss: 0.14727365970611572     Segnet Loss: 0.021859854459762573     Enet Loss: 0.14550329744815826\n",
      "Voting Loss: 0.10487893720467885\n"
     ]
    },
    {
     "name": "stderr",
     "output_type": "stream",
     "text": [
      "Epoch 38/50:  99%|█████████▊| 200/203 [00:19<00:00, 10.14img/s]"
     ]
    },
    {
     "name": "stdout",
     "output_type": "stream",
     "text": [
      "---\n",
      "Unet Validation Dice Score: 0.9080507159233093     Segnet Validation Dice Score: 0.918046772480011     Enet Validation Dice Score: 0.8584791421890259\n",
      "---\n",
      "Ensemble Voting Validation Dice Loss: 0.21477460861206055\n",
      "Ensemble Voting Validation Pixel Accuracy: 0.962716353567023 \n",
      "Ensemble Voting Validation MIoU: 0.8750154953210216\n",
      "Ensemble Voting Validation Dice Score: 0.9133564829826355 \n"
     ]
    },
    {
     "name": "stderr",
     "output_type": "stream",
     "text": [
      "\n",
      "Epoch 39/50:  99%|█████████▊| 200/203 [00:15<00:00, 15.09img/s]"
     ]
    },
    {
     "name": "stdout",
     "output_type": "stream",
     "text": [
      "***\n",
      "Unet Loss: 0.1389414668083191     Segnet Loss: 0.03544197976589203     Enet Loss: 0.14247426390647888\n",
      "Voting Loss: 0.10561923682689667\n"
     ]
    },
    {
     "name": "stderr",
     "output_type": "stream",
     "text": [
      "Epoch 39/50:  99%|█████████▊| 200/203 [00:19<00:00, 10.06img/s]"
     ]
    },
    {
     "name": "stdout",
     "output_type": "stream",
     "text": [
      "---\n",
      "Unet Validation Dice Score: 0.9072168469429016     Segnet Validation Dice Score: 0.9213158488273621     Enet Validation Dice Score: 0.8821070790290833\n",
      "---\n",
      "Ensemble Voting Validation Dice Loss: 0.181434432665507\n",
      "Ensemble Voting Validation Pixel Accuracy: 0.9683789704975329 \n",
      "Ensemble Voting Validation MIoU: 0.8891324654080839\n",
      "Ensemble Voting Validation Dice Score: 0.9193618893623352 \n"
     ]
    },
    {
     "name": "stderr",
     "output_type": "stream",
     "text": [
      "\n",
      "Epoch 40/50:  99%|█████████▊| 200/203 [00:15<00:00, 14.96img/s]"
     ]
    },
    {
     "name": "stdout",
     "output_type": "stream",
     "text": [
      "***\n",
      "Unet Loss: 0.149739071726799     Segnet Loss: 0.02464093267917633     Enet Loss: 0.14072677493095398\n",
      "Voting Loss: 0.10503559311230977\n"
     ]
    },
    {
     "name": "stderr",
     "output_type": "stream",
     "text": [
      "Epoch 40/50:  99%|█████████▊| 200/203 [00:19<00:00, 10.31img/s]"
     ]
    },
    {
     "name": "stdout",
     "output_type": "stream",
     "text": [
      "---\n",
      "Unet Validation Dice Score: 0.9074398875236511     Segnet Validation Dice Score: 0.9175640940666199     Enet Validation Dice Score: 0.8846856951713562\n",
      "---\n",
      "Ensemble Voting Validation Dice Loss: 0.19218782583872476\n",
      "Ensemble Voting Validation Pixel Accuracy: 0.9662368506716009 \n",
      "Ensemble Voting Validation MIoU: 0.8839975138125465\n",
      "Ensemble Voting Validation Dice Score: 0.9182788729667664 \n"
     ]
    },
    {
     "name": "stderr",
     "output_type": "stream",
     "text": [
      "\n",
      "Epoch 41/50:  99%|█████████▊| 200/203 [00:15<00:00, 14.99img/s]"
     ]
    },
    {
     "name": "stdout",
     "output_type": "stream",
     "text": [
      "***\n",
      "Unet Loss: 0.13162945210933685     Segnet Loss: 0.022187530994415283     Enet Loss: 0.108205147087574\n",
      "Voting Loss: 0.08734071006377538\n"
     ]
    },
    {
     "name": "stderr",
     "output_type": "stream",
     "text": [
      "Epoch 41/50:  99%|█████████▊| 200/203 [00:19<00:00, 10.14img/s]"
     ]
    },
    {
     "name": "stdout",
     "output_type": "stream",
     "text": [
      "---\n",
      "Unet Validation Dice Score: 0.908682644367218     Segnet Validation Dice Score: 0.9217037558555603     Enet Validation Dice Score: 0.8848498463630676\n",
      "---\n",
      "Ensemble Voting Validation Dice Loss: 0.18335519234339395\n",
      "Ensemble Voting Validation Pixel Accuracy: 0.9680885181092379 \n",
      "Ensemble Voting Validation MIoU: 0.8889025053713928\n",
      "Ensemble Voting Validation Dice Score: 0.9200741648674011 \n"
     ]
    },
    {
     "name": "stderr",
     "output_type": "stream",
     "text": [
      "\n",
      "Epoch 42/50:  99%|█████████▊| 200/203 [00:15<00:00, 15.03img/s]"
     ]
    },
    {
     "name": "stdout",
     "output_type": "stream",
     "text": [
      "***\n",
      "Unet Loss: 0.14397567510604858     Segnet Loss: 0.02382548898458481     Enet Loss: 0.10473018884658813\n",
      "Voting Loss: 0.09084378431240718\n"
     ]
    },
    {
     "name": "stderr",
     "output_type": "stream",
     "text": [
      "Epoch 42/50:  99%|█████████▊| 200/203 [00:19<00:00, 10.06img/s]"
     ]
    },
    {
     "name": "stdout",
     "output_type": "stream",
     "text": [
      "---\n",
      "Unet Validation Dice Score: 0.907574474811554     Segnet Validation Dice Score: 0.9199409484863281     Enet Validation Dice Score: 0.8878488540649414\n",
      "---\n",
      "Ensemble Voting Validation Dice Loss: 0.18468697865804037\n",
      "Ensemble Voting Validation Pixel Accuracy: 0.9680004454495614 \n",
      "Ensemble Voting Validation MIoU: 0.8888908458764115\n",
      "Ensemble Voting Validation Dice Score: 0.9195483326911926 \n"
     ]
    },
    {
     "name": "stderr",
     "output_type": "stream",
     "text": [
      "\n",
      "Epoch 43/50:  99%|█████████▊| 200/203 [00:15<00:00, 14.90img/s]"
     ]
    },
    {
     "name": "stdout",
     "output_type": "stream",
     "text": [
      "***\n",
      "Unet Loss: 0.1579989343881607     Segnet Loss: 0.027040360495448112     Enet Loss: 0.16194066405296326\n",
      "Voting Loss: 0.1156599863121907\n"
     ]
    },
    {
     "name": "stderr",
     "output_type": "stream",
     "text": [
      "Epoch 43/50:  99%|█████████▊| 200/203 [00:19<00:00, 10.13img/s]"
     ]
    },
    {
     "name": "stdout",
     "output_type": "stream",
     "text": [
      "---\n",
      "Unet Validation Dice Score: 0.9082003831863403     Segnet Validation Dice Score: 0.9183257222175598     Enet Validation Dice Score: 0.8865804672241211\n",
      "---\n",
      "Ensemble Voting Validation Dice Loss: 0.18819340070088705\n",
      "Ensemble Voting Validation Pixel Accuracy: 0.9668011581688597 \n",
      "Ensemble Voting Validation MIoU: 0.8855057132772954\n",
      "Ensemble Voting Validation Dice Score: 0.9185038805007935 \n"
     ]
    },
    {
     "name": "stderr",
     "output_type": "stream",
     "text": [
      "\n",
      "Epoch 44/50:  99%|█████████▊| 200/203 [00:15<00:00, 15.41img/s]"
     ]
    },
    {
     "name": "stdout",
     "output_type": "stream",
     "text": [
      "***\n",
      "Unet Loss: 0.1573706716299057     Segnet Loss: 0.02636539191007614     Enet Loss: 0.1571905016899109\n",
      "Voting Loss: 0.11364218840996425\n"
     ]
    },
    {
     "name": "stderr",
     "output_type": "stream",
     "text": [
      "Epoch 44/50:  99%|█████████▊| 200/203 [00:19<00:00, 10.22img/s]"
     ]
    },
    {
     "name": "stdout",
     "output_type": "stream",
     "text": [
      "---\n",
      "Unet Validation Dice Score: 0.908390462398529     Segnet Validation Dice Score: 0.9222288131713867     Enet Validation Dice Score: 0.8875277638435364\n",
      "---\n",
      "Ensemble Voting Validation Dice Loss: 0.1740264097849528\n",
      "Ensemble Voting Validation Pixel Accuracy: 0.971277069627193 \n",
      "Ensemble Voting Validation MIoU: 0.8982687272336182\n",
      "Ensemble Voting Validation Dice Score: 0.9212408065795898 \n"
     ]
    },
    {
     "name": "stderr",
     "output_type": "stream",
     "text": [
      "\n",
      "Epoch 45/50:  99%|█████████▊| 200/203 [00:15<00:00, 15.10img/s]"
     ]
    },
    {
     "name": "stdout",
     "output_type": "stream",
     "text": [
      "***\n",
      "Unet Loss: 0.15737196803092957     Segnet Loss: 0.03217105567455292     Enet Loss: 0.1322241872549057\n",
      "Voting Loss: 0.10725573698679607\n"
     ]
    },
    {
     "name": "stderr",
     "output_type": "stream",
     "text": [
      "Epoch 45/50:  99%|█████████▊| 200/203 [00:19<00:00, 10.14img/s]"
     ]
    },
    {
     "name": "stdout",
     "output_type": "stream",
     "text": [
      "---\n",
      "Unet Validation Dice Score: 0.9080695509910583     Segnet Validation Dice Score: 0.9212488532066345     Enet Validation Dice Score: 0.8892655372619629\n",
      "---\n",
      "Ensemble Voting Validation Dice Loss: 0.17493653297424316\n",
      "Ensemble Voting Validation Pixel Accuracy: 0.9704753139562774 \n",
      "Ensemble Voting Validation MIoU: 0.8958670313900374\n",
      "Ensemble Voting Validation Dice Score: 0.9206430315971375 \n"
     ]
    },
    {
     "name": "stderr",
     "output_type": "stream",
     "text": [
      "\n",
      "Epoch 46/50:  99%|█████████▊| 200/203 [00:15<00:00, 15.10img/s]"
     ]
    },
    {
     "name": "stdout",
     "output_type": "stream",
     "text": [
      "***\n",
      "Unet Loss: 0.17465358972549438     Segnet Loss: 0.024289570748806     Enet Loss: 0.1549828052520752\n",
      "Voting Loss: 0.11797532190879186\n"
     ]
    },
    {
     "name": "stderr",
     "output_type": "stream",
     "text": [
      "Epoch 46/50:  99%|█████████▊| 200/203 [00:19<00:00, 10.10img/s]"
     ]
    },
    {
     "name": "stdout",
     "output_type": "stream",
     "text": [
      "---\n",
      "Unet Validation Dice Score: 0.9079698920249939     Segnet Validation Dice Score: 0.9187289476394653     Enet Validation Dice Score: 0.8871588110923767\n",
      "---\n",
      "Ensemble Voting Validation Dice Loss: 0.18330629666646323\n",
      "Ensemble Voting Validation Pixel Accuracy: 0.9683165968510142 \n",
      "Ensemble Voting Validation MIoU: 0.8897553922162937\n",
      "Ensemble Voting Validation Dice Score: 0.9180473685264587 \n"
     ]
    },
    {
     "name": "stderr",
     "output_type": "stream",
     "text": [
      "\n",
      "Epoch 47/50:  99%|█████████▊| 200/203 [00:15<00:00, 14.69img/s]"
     ]
    },
    {
     "name": "stdout",
     "output_type": "stream",
     "text": [
      "***\n",
      "Unet Loss: 0.15994274616241455     Segnet Loss: 0.027649756520986557     Enet Loss: 0.1576644778251648\n",
      "Voting Loss: 0.11508566016952197\n"
     ]
    },
    {
     "name": "stderr",
     "output_type": "stream",
     "text": [
      "Epoch 47/50:  99%|█████████▊| 200/203 [00:20<00:00,  9.70img/s]"
     ]
    },
    {
     "name": "stdout",
     "output_type": "stream",
     "text": [
      "---\n",
      "Unet Validation Dice Score: 0.9084458351135254     Segnet Validation Dice Score: 0.9184385538101196     Enet Validation Dice Score: 0.888523280620575\n",
      "---\n",
      "Ensemble Voting Validation Dice Loss: 0.18641376495361328\n",
      "Ensemble Voting Validation Pixel Accuracy: 0.9676034492358827 \n",
      "Ensemble Voting Validation MIoU: 0.8880346960024981\n",
      "Ensemble Voting Validation Dice Score: 0.9186887145042419 \n"
     ]
    },
    {
     "name": "stderr",
     "output_type": "stream",
     "text": [
      "\n",
      "Epoch 48/50:  99%|█████████▊| 200/203 [00:15<00:00, 14.84img/s]"
     ]
    },
    {
     "name": "stdout",
     "output_type": "stream",
     "text": [
      "***\n",
      "Unet Loss: 0.18454015254974365     Segnet Loss: 0.03377722203731537     Enet Loss: 0.1439613550901413\n",
      "Voting Loss: 0.12075957655906677\n"
     ]
    },
    {
     "name": "stderr",
     "output_type": "stream",
     "text": [
      "Epoch 48/50:  99%|█████████▊| 200/203 [00:20<00:00,  9.95img/s]"
     ]
    },
    {
     "name": "stdout",
     "output_type": "stream",
     "text": [
      "---\n",
      "Unet Validation Dice Score: 0.9076984524726868     Segnet Validation Dice Score: 0.912034809589386     Enet Validation Dice Score: 0.8861309289932251\n",
      "---\n",
      "Ensemble Voting Validation Dice Loss: 0.1938430666923523\n",
      "Ensemble Voting Validation Pixel Accuracy: 0.9659281948156524 \n",
      "Ensemble Voting Validation MIoU: 0.8838190784831162\n",
      "Ensemble Voting Validation Dice Score: 0.913739025592804 \n"
     ]
    },
    {
     "name": "stderr",
     "output_type": "stream",
     "text": [
      "\n",
      "Epoch 49/50:  99%|█████████▊| 200/203 [00:15<00:00, 15.02img/s]"
     ]
    },
    {
     "name": "stdout",
     "output_type": "stream",
     "text": [
      "***\n",
      "Unet Loss: 0.21035316586494446     Segnet Loss: 0.03580063581466675     Enet Loss: 0.26975804567337036\n",
      "Voting Loss: 0.17197061578432718\n"
     ]
    },
    {
     "name": "stderr",
     "output_type": "stream",
     "text": [
      "Epoch 49/50:  99%|█████████▊| 200/203 [00:19<00:00, 10.08img/s]"
     ]
    },
    {
     "name": "stdout",
     "output_type": "stream",
     "text": [
      "---\n",
      "Unet Validation Dice Score: 0.9077457785606384     Segnet Validation Dice Score: 0.9154241681098938     Enet Validation Dice Score: 0.8885291218757629\n",
      "---\n",
      "Ensemble Voting Validation Dice Loss: 0.1876858870188395\n",
      "Ensemble Voting Validation Pixel Accuracy: 0.9674974408066064 \n",
      "Ensemble Voting Validation MIoU: 0.8876871914785488\n",
      "Ensemble Voting Validation Dice Score: 0.91645747423172 \n"
     ]
    },
    {
     "name": "stderr",
     "output_type": "stream",
     "text": [
      "\n",
      "Epoch 50/50:  99%|█████████▊| 200/203 [00:15<00:00, 14.76img/s]"
     ]
    },
    {
     "name": "stdout",
     "output_type": "stream",
     "text": [
      "***\n",
      "Unet Loss: 0.17262405157089233     Segnet Loss: 0.03229480981826782     Enet Loss: 0.16473647952079773\n",
      "Voting Loss: 0.12321844696998596\n"
     ]
    },
    {
     "name": "stderr",
     "output_type": "stream",
     "text": [
      "Epoch 50/50:  99%|█████████▊| 200/203 [00:19<00:00, 10.12img/s]"
     ]
    },
    {
     "name": "stdout",
     "output_type": "stream",
     "text": [
      "---\n",
      "Unet Validation Dice Score: 0.9072708487510681     Segnet Validation Dice Score: 0.9145593643188477     Enet Validation Dice Score: 0.887021541595459\n",
      "---\n",
      "Ensemble Voting Validation Dice Loss: 0.19731199741363525\n",
      "Ensemble Voting Validation Pixel Accuracy: 0.964913619192023 \n",
      "Ensemble Voting Validation MIoU: 0.8808100541406589\n",
      "Ensemble Voting Validation Dice Score: 0.9156706929206848 \n"
     ]
    },
    {
     "name": "stderr",
     "output_type": "stream",
     "text": [
      "\n"
     ]
    }
   ],
   "source": [
    "valScore_list1 = []\n",
    "TrainLoss_list1 = []\n",
    "\n",
    "valScore_list2 = []\n",
    "TrainLoss_list2 = []\n",
    "\n",
    "valScore_list3 = []\n",
    "TrainLoss_list3 = []\n",
    "\n",
    "valScore_list4 = []\n",
    "TrainLoss_list4 = []\n",
    "\n",
    "val_losses = []\n",
    "val_accs = []\n",
    "val_mious = []\n",
    "\n",
    "# 5. Begin training\n",
    "for epoch in range(1, epochs + 1):\n",
    "    model.train()\n",
    "    epoch_loss = 0\n",
    "    epoch_unet_loss = 0\n",
    "    epoch_segnet_loss = 0\n",
    "    epoch_enet_loss = 0\n",
    "    epoch_voting_loss = 0\n",
    "    \n",
    "    with tqdm(total=n_train, desc=f'Epoch {epoch}/{epochs}', unit='img') as pbar:\n",
    "        for batch in train_loader:\n",
    "            images, true_masks = batch['image'], batch['mask']\n",
    "\n",
    "            images = images.to(device=device, dtype=torch.float32, memory_format=torch.channels_last)\n",
    "            true_masks = true_masks.to(device=device, dtype=torch.long)\n",
    "\n",
    "                \n",
    "            result = forward_and_backward(model, images, true_masks, amp, optims, grad_scaler, Model_Name)\n",
    "            \n",
    "            if len(result) == 4:\n",
    "                model, unet_loss, segnet_loss, enet_loss = result\n",
    "                \n",
    "                pbar.update(images.shape[0])\n",
    "                global_step += 1\n",
    "                epoch_unet_loss += unet_loss.item()\n",
    "                epoch_segnet_loss += segnet_loss.item()\n",
    "                epoch_enet_loss += enet_loss.item()\n",
    "                vot_loss = ((unet_loss.item() + segnet_loss.item() + enet_loss.item()) /3)\n",
    "                epoch_voting_loss += vot_loss\n",
    "                \n",
    "                \n",
    "            elif len(result) == 2:\n",
    "                model, loss = result\n",
    "                \n",
    "                pbar.update(images.shape[0])\n",
    "                global_step += 1\n",
    "                epoch_loss += loss.item()\n",
    "\n",
    "\n",
    "        print('***')\n",
    "        if len(result) == 4:\n",
    "            print('Unet Loss: {}     Segnet Loss: {}     Enet Loss: {}'.format(unet_loss, segnet_loss, enet_loss))\n",
    "            print('Voting Loss: {}'.format(vot_loss))\n",
    "            \n",
    "            \n",
    "        elif len(result) == 2:\n",
    "            print('{} Loss: {}'.format(Model_Name, loss))\n",
    "\n",
    "        # Evaluation round\n",
    "        division_step = (n_train // (5 * batch_size))\n",
    "        if division_step > 0:\n",
    "            #if global_step % division_step == 0:\n",
    "            if len(result) == 4:\n",
    "                unet_val_score, segnet_val_score, enet_val_score, voting_val_score, val_loss, val_acc, val_miou = evaluate(model, val_loader, criterion, device, Model_Name, amp)\n",
    "                \n",
    "                unet_scheduler.step(unet_val_score)\n",
    "                segnet_scheduler.step(segnet_val_score)\n",
    "                enet_scheduler.step(enet_val_score)\n",
    "                #voting_scheduler.step(voting_val_score)\n",
    "                \n",
    "                valScore_list1.append(unet_val_score.cpu().detach().numpy())\n",
    "                TrainLoss_list1.append(unet_loss.cpu().detach().numpy())\n",
    "                valScore_list2.append(segnet_val_score.cpu().detach().numpy())\n",
    "                TrainLoss_list2.append(segnet_loss.cpu().detach().numpy())                \n",
    "                valScore_list3.append(enet_val_score.cpu().detach().numpy())\n",
    "                TrainLoss_list3.append(enet_loss.cpu().detach().numpy())\n",
    "                valScore_list4.append(voting_val_score.cpu().detach().numpy())\n",
    "                TrainLoss_list4.append(vot_loss)\n",
    "                \n",
    "                val_losses.append(val_loss)\n",
    "                val_accs.append(val_acc)\n",
    "                val_mious.append(val_miou)\n",
    "                \n",
    "                print('---')\n",
    "                print('Unet Validation Dice Score: {}     Segnet Validation Dice Score: {}     Enet Validation Dice Score: {}'.format(unet_val_score, segnet_val_score, enet_val_score))\n",
    "                print('---')\n",
    "                print('Ensemble Voting Validation Dice Loss: {}'.format(val_loss))\n",
    "                print('Ensemble Voting Validation Pixel Accuracy: {} '.format(val_acc))\n",
    "                print('Ensemble Voting Validation MIoU: {}'.format(val_miou))                \n",
    "                print('Ensemble Voting Validation Dice Score: {} '.format(voting_val_score))\n",
    "                \n",
    "            else:\n",
    "                val_score, val_loss, val_acc, val_miou = evaluate(model, val_loader, criterion, device, Model_Name, amp)\n",
    "                \n",
    "                                \n",
    "                scheduler.step(val_score)\n",
    "                \n",
    "                print('---')\n",
    "                print('{} Validation Dice Loss: {}'.format(Model_Name, val_loss))   \n",
    "                print('{} Validation Pixel Accuracy: {}'.format(Model_Name, val_acc))\n",
    "                print('{} Validation MIoU: {}'.format(Model_Name, val_miou))\n",
    "                print('{} Validation Dice Score: {}'.format(Model_Name, val_score))\n",
    "                \n",
    "            \n",
    "                valScore_list1.append(val_score.cpu().detach().numpy())\n",
    "                TrainLoss_list1.append(loss.cpu().detach().numpy())\n",
    "                val_losses.append(val_loss)\n",
    "                val_accs.append(val_acc)\n",
    "                val_mious.append(val_miou)\n",
    "\n",
    "        \n",
    "    if save_checkpoint:\n",
    "        Path(dir_checkpoint).mkdir(parents=True, exist_ok=True)\n",
    "        torch.save(model.state_dict(), str(dir_checkpoint / 'checkpoint_epoch{}.pth'.format(epoch + 1)))"
   ]
  },
  {
   "cell_type": "code",
   "execution_count": 10,
   "id": "232d4d6e-12ed-4b30-9b2e-7421289573ad",
   "metadata": {},
   "outputs": [],
   "source": [
    "import pandas as pd\n",
    "import matplotlib.pyplot as plt"
   ]
  },
  {
   "cell_type": "code",
   "execution_count": 17,
   "id": "5e7c3590-63c0-4ee6-bf67-25b012d008d7",
   "metadata": {},
   "outputs": [],
   "source": [
    "df = pd.DataFrame([TrainLoss_list4, val_losses, valScore_list4, val_accs, val_mious]).T\n",
    "df.columns = ['train_loss', 'val_loss', 'val_score', 'val_acc', 'val_miou']\n",
    "df.to_csv(checkpoint_dir + '/model_check.csv', encoding = 'UTF-8')"
   ]
  },
  {
   "cell_type": "code",
   "execution_count": 19,
   "id": "dd533b58-9373-4392-860d-214eba3f4753",
   "metadata": {},
   "outputs": [
    {
     "data": {
      "text/html": [
       "<div>\n",
       "<style scoped>\n",
       "    .dataframe tbody tr th:only-of-type {\n",
       "        vertical-align: middle;\n",
       "    }\n",
       "\n",
       "    .dataframe tbody tr th {\n",
       "        vertical-align: top;\n",
       "    }\n",
       "\n",
       "    .dataframe thead th {\n",
       "        text-align: right;\n",
       "    }\n",
       "</style>\n",
       "<table border=\"1\" class=\"dataframe\">\n",
       "  <thead>\n",
       "    <tr style=\"text-align: right;\">\n",
       "      <th></th>\n",
       "      <th>train_loss</th>\n",
       "      <th>val_loss</th>\n",
       "      <th>val_score</th>\n",
       "      <th>val_acc</th>\n",
       "      <th>val_miou</th>\n",
       "    </tr>\n",
       "  </thead>\n",
       "  <tbody>\n",
       "    <tr>\n",
       "      <th>0</th>\n",
       "      <td>0.788907</td>\n",
       "      <td>1.054759</td>\n",
       "      <td>0.52578115</td>\n",
       "      <td>0.838328</td>\n",
       "      <td>0.577403</td>\n",
       "    </tr>\n",
       "    <tr>\n",
       "      <th>1</th>\n",
       "      <td>0.629512</td>\n",
       "      <td>0.710951</td>\n",
       "      <td>0.72959965</td>\n",
       "      <td>0.926548</td>\n",
       "      <td>0.764264</td>\n",
       "    </tr>\n",
       "    <tr>\n",
       "      <th>2</th>\n",
       "      <td>0.522462</td>\n",
       "      <td>0.540913</td>\n",
       "      <td>0.8240372</td>\n",
       "      <td>0.942402</td>\n",
       "      <td>0.809996</td>\n",
       "    </tr>\n",
       "    <tr>\n",
       "      <th>3</th>\n",
       "      <td>0.47217</td>\n",
       "      <td>0.495707</td>\n",
       "      <td>0.8443546</td>\n",
       "      <td>0.942585</td>\n",
       "      <td>0.815614</td>\n",
       "    </tr>\n",
       "    <tr>\n",
       "      <th>4</th>\n",
       "      <td>0.470115</td>\n",
       "      <td>0.509154</td>\n",
       "      <td>0.83790874</td>\n",
       "      <td>0.937898</td>\n",
       "      <td>0.809747</td>\n",
       "    </tr>\n",
       "    <tr>\n",
       "      <th>5</th>\n",
       "      <td>0.37115</td>\n",
       "      <td>0.415052</td>\n",
       "      <td>0.8648594</td>\n",
       "      <td>0.951677</td>\n",
       "      <td>0.841461</td>\n",
       "    </tr>\n",
       "    <tr>\n",
       "      <th>6</th>\n",
       "      <td>0.35416</td>\n",
       "      <td>0.395007</td>\n",
       "      <td>0.8582665</td>\n",
       "      <td>0.947616</td>\n",
       "      <td>0.82875</td>\n",
       "    </tr>\n",
       "    <tr>\n",
       "      <th>7</th>\n",
       "      <td>0.349098</td>\n",
       "      <td>0.38347</td>\n",
       "      <td>0.8729623</td>\n",
       "      <td>0.946853</td>\n",
       "      <td>0.826518</td>\n",
       "    </tr>\n",
       "    <tr>\n",
       "      <th>8</th>\n",
       "      <td>0.328164</td>\n",
       "      <td>0.342385</td>\n",
       "      <td>0.85736275</td>\n",
       "      <td>0.9584</td>\n",
       "      <td>0.858549</td>\n",
       "    </tr>\n",
       "    <tr>\n",
       "      <th>9</th>\n",
       "      <td>0.287168</td>\n",
       "      <td>0.332207</td>\n",
       "      <td>0.88722354</td>\n",
       "      <td>0.953989</td>\n",
       "      <td>0.846916</td>\n",
       "    </tr>\n",
       "    <tr>\n",
       "      <th>10</th>\n",
       "      <td>0.307487</td>\n",
       "      <td>0.306319</td>\n",
       "      <td>0.8946597</td>\n",
       "      <td>0.958881</td>\n",
       "      <td>0.85887</td>\n",
       "    </tr>\n",
       "    <tr>\n",
       "      <th>11</th>\n",
       "      <td>0.269516</td>\n",
       "      <td>0.343167</td>\n",
       "      <td>0.899388</td>\n",
       "      <td>0.951386</td>\n",
       "      <td>0.835409</td>\n",
       "    </tr>\n",
       "    <tr>\n",
       "      <th>12</th>\n",
       "      <td>0.238784</td>\n",
       "      <td>0.279061</td>\n",
       "      <td>0.88767797</td>\n",
       "      <td>0.96331</td>\n",
       "      <td>0.873167</td>\n",
       "    </tr>\n",
       "    <tr>\n",
       "      <th>13</th>\n",
       "      <td>0.234867</td>\n",
       "      <td>0.26992</td>\n",
       "      <td>0.89704657</td>\n",
       "      <td>0.962599</td>\n",
       "      <td>0.872193</td>\n",
       "    </tr>\n",
       "    <tr>\n",
       "      <th>14</th>\n",
       "      <td>0.235587</td>\n",
       "      <td>0.276438</td>\n",
       "      <td>0.89700556</td>\n",
       "      <td>0.957336</td>\n",
       "      <td>0.857176</td>\n",
       "    </tr>\n",
       "    <tr>\n",
       "      <th>15</th>\n",
       "      <td>0.190354</td>\n",
       "      <td>0.25493</td>\n",
       "      <td>0.8975671</td>\n",
       "      <td>0.961589</td>\n",
       "      <td>0.869896</td>\n",
       "    </tr>\n",
       "    <tr>\n",
       "      <th>16</th>\n",
       "      <td>0.177967</td>\n",
       "      <td>0.260897</td>\n",
       "      <td>0.90589505</td>\n",
       "      <td>0.958608</td>\n",
       "      <td>0.861036</td>\n",
       "    </tr>\n",
       "    <tr>\n",
       "      <th>17</th>\n",
       "      <td>0.19137</td>\n",
       "      <td>0.2581</td>\n",
       "      <td>0.8925524</td>\n",
       "      <td>0.957853</td>\n",
       "      <td>0.86077</td>\n",
       "    </tr>\n",
       "    <tr>\n",
       "      <th>18</th>\n",
       "      <td>0.196252</td>\n",
       "      <td>0.248774</td>\n",
       "      <td>0.9072847</td>\n",
       "      <td>0.959784</td>\n",
       "      <td>0.865755</td>\n",
       "    </tr>\n",
       "    <tr>\n",
       "      <th>19</th>\n",
       "      <td>0.186473</td>\n",
       "      <td>0.250035</td>\n",
       "      <td>0.89257115</td>\n",
       "      <td>0.956241</td>\n",
       "      <td>0.856362</td>\n",
       "    </tr>\n",
       "    <tr>\n",
       "      <th>20</th>\n",
       "      <td>0.177883</td>\n",
       "      <td>0.223688</td>\n",
       "      <td>0.9094758</td>\n",
       "      <td>0.964627</td>\n",
       "      <td>0.877308</td>\n",
       "    </tr>\n",
       "    <tr>\n",
       "      <th>21</th>\n",
       "      <td>0.15393</td>\n",
       "      <td>0.216001</td>\n",
       "      <td>0.9123908</td>\n",
       "      <td>0.967099</td>\n",
       "      <td>0.884333</td>\n",
       "    </tr>\n",
       "    <tr>\n",
       "      <th>22</th>\n",
       "      <td>0.149864</td>\n",
       "      <td>0.220884</td>\n",
       "      <td>0.9097357</td>\n",
       "      <td>0.965736</td>\n",
       "      <td>0.88113</td>\n",
       "    </tr>\n",
       "    <tr>\n",
       "      <th>23</th>\n",
       "      <td>0.152995</td>\n",
       "      <td>0.217561</td>\n",
       "      <td>0.90927523</td>\n",
       "      <td>0.963499</td>\n",
       "      <td>0.874982</td>\n",
       "    </tr>\n",
       "    <tr>\n",
       "      <th>24</th>\n",
       "      <td>0.155264</td>\n",
       "      <td>0.217386</td>\n",
       "      <td>0.9097625</td>\n",
       "      <td>0.963914</td>\n",
       "      <td>0.875018</td>\n",
       "    </tr>\n",
       "    <tr>\n",
       "      <th>25</th>\n",
       "      <td>0.134881</td>\n",
       "      <td>0.216338</td>\n",
       "      <td>0.91383713</td>\n",
       "      <td>0.96252</td>\n",
       "      <td>0.873377</td>\n",
       "    </tr>\n",
       "    <tr>\n",
       "      <th>26</th>\n",
       "      <td>0.150886</td>\n",
       "      <td>0.206934</td>\n",
       "      <td>0.91302645</td>\n",
       "      <td>0.96591</td>\n",
       "      <td>0.881867</td>\n",
       "    </tr>\n",
       "    <tr>\n",
       "      <th>27</th>\n",
       "      <td>0.130856</td>\n",
       "      <td>0.20938</td>\n",
       "      <td>0.91440576</td>\n",
       "      <td>0.963586</td>\n",
       "      <td>0.876279</td>\n",
       "    </tr>\n",
       "    <tr>\n",
       "      <th>28</th>\n",
       "      <td>0.135655</td>\n",
       "      <td>0.207076</td>\n",
       "      <td>0.9097783</td>\n",
       "      <td>0.965031</td>\n",
       "      <td>0.880516</td>\n",
       "    </tr>\n",
       "    <tr>\n",
       "      <th>29</th>\n",
       "      <td>0.14138</td>\n",
       "      <td>0.210574</td>\n",
       "      <td>0.9149621</td>\n",
       "      <td>0.963357</td>\n",
       "      <td>0.875436</td>\n",
       "    </tr>\n",
       "    <tr>\n",
       "      <th>30</th>\n",
       "      <td>0.131085</td>\n",
       "      <td>0.207169</td>\n",
       "      <td>0.9180854</td>\n",
       "      <td>0.965537</td>\n",
       "      <td>0.880828</td>\n",
       "    </tr>\n",
       "    <tr>\n",
       "      <th>31</th>\n",
       "      <td>0.12994</td>\n",
       "      <td>0.197727</td>\n",
       "      <td>0.91375124</td>\n",
       "      <td>0.965728</td>\n",
       "      <td>0.882457</td>\n",
       "    </tr>\n",
       "    <tr>\n",
       "      <th>32</th>\n",
       "      <td>0.113654</td>\n",
       "      <td>0.19323</td>\n",
       "      <td>0.92074126</td>\n",
       "      <td>0.967905</td>\n",
       "      <td>0.887839</td>\n",
       "    </tr>\n",
       "    <tr>\n",
       "      <th>33</th>\n",
       "      <td>0.120464</td>\n",
       "      <td>0.194392</td>\n",
       "      <td>0.91837704</td>\n",
       "      <td>0.96851</td>\n",
       "      <td>0.889487</td>\n",
       "    </tr>\n",
       "    <tr>\n",
       "      <th>34</th>\n",
       "      <td>0.122535</td>\n",
       "      <td>0.193423</td>\n",
       "      <td>0.91855544</td>\n",
       "      <td>0.967303</td>\n",
       "      <td>0.8859</td>\n",
       "    </tr>\n",
       "    <tr>\n",
       "      <th>35</th>\n",
       "      <td>0.122025</td>\n",
       "      <td>0.191542</td>\n",
       "      <td>0.9174445</td>\n",
       "      <td>0.96771</td>\n",
       "      <td>0.887218</td>\n",
       "    </tr>\n",
       "    <tr>\n",
       "      <th>36</th>\n",
       "      <td>0.091541</td>\n",
       "      <td>0.196902</td>\n",
       "      <td>0.9170615</td>\n",
       "      <td>0.965106</td>\n",
       "      <td>0.880768</td>\n",
       "    </tr>\n",
       "    <tr>\n",
       "      <th>37</th>\n",
       "      <td>0.104879</td>\n",
       "      <td>0.214775</td>\n",
       "      <td>0.9133565</td>\n",
       "      <td>0.962716</td>\n",
       "      <td>0.875015</td>\n",
       "    </tr>\n",
       "    <tr>\n",
       "      <th>38</th>\n",
       "      <td>0.105619</td>\n",
       "      <td>0.181434</td>\n",
       "      <td>0.9193619</td>\n",
       "      <td>0.968379</td>\n",
       "      <td>0.889132</td>\n",
       "    </tr>\n",
       "    <tr>\n",
       "      <th>39</th>\n",
       "      <td>0.105036</td>\n",
       "      <td>0.192188</td>\n",
       "      <td>0.9182789</td>\n",
       "      <td>0.966237</td>\n",
       "      <td>0.883998</td>\n",
       "    </tr>\n",
       "    <tr>\n",
       "      <th>40</th>\n",
       "      <td>0.087341</td>\n",
       "      <td>0.183355</td>\n",
       "      <td>0.92007416</td>\n",
       "      <td>0.968089</td>\n",
       "      <td>0.888903</td>\n",
       "    </tr>\n",
       "    <tr>\n",
       "      <th>41</th>\n",
       "      <td>0.090844</td>\n",
       "      <td>0.184687</td>\n",
       "      <td>0.91954833</td>\n",
       "      <td>0.968</td>\n",
       "      <td>0.888891</td>\n",
       "    </tr>\n",
       "    <tr>\n",
       "      <th>42</th>\n",
       "      <td>0.11566</td>\n",
       "      <td>0.188193</td>\n",
       "      <td>0.9185039</td>\n",
       "      <td>0.966801</td>\n",
       "      <td>0.885506</td>\n",
       "    </tr>\n",
       "    <tr>\n",
       "      <th>43</th>\n",
       "      <td>0.113642</td>\n",
       "      <td>0.174026</td>\n",
       "      <td>0.9212408</td>\n",
       "      <td>0.971277</td>\n",
       "      <td>0.898269</td>\n",
       "    </tr>\n",
       "    <tr>\n",
       "      <th>44</th>\n",
       "      <td>0.107256</td>\n",
       "      <td>0.174937</td>\n",
       "      <td>0.92064303</td>\n",
       "      <td>0.970475</td>\n",
       "      <td>0.895867</td>\n",
       "    </tr>\n",
       "    <tr>\n",
       "      <th>45</th>\n",
       "      <td>0.117975</td>\n",
       "      <td>0.183306</td>\n",
       "      <td>0.91804737</td>\n",
       "      <td>0.968317</td>\n",
       "      <td>0.889755</td>\n",
       "    </tr>\n",
       "    <tr>\n",
       "      <th>46</th>\n",
       "      <td>0.115086</td>\n",
       "      <td>0.186414</td>\n",
       "      <td>0.9186887</td>\n",
       "      <td>0.967603</td>\n",
       "      <td>0.888035</td>\n",
       "    </tr>\n",
       "    <tr>\n",
       "      <th>47</th>\n",
       "      <td>0.12076</td>\n",
       "      <td>0.193843</td>\n",
       "      <td>0.913739</td>\n",
       "      <td>0.965928</td>\n",
       "      <td>0.883819</td>\n",
       "    </tr>\n",
       "    <tr>\n",
       "      <th>48</th>\n",
       "      <td>0.171971</td>\n",
       "      <td>0.187686</td>\n",
       "      <td>0.9164575</td>\n",
       "      <td>0.967497</td>\n",
       "      <td>0.887687</td>\n",
       "    </tr>\n",
       "    <tr>\n",
       "      <th>49</th>\n",
       "      <td>0.123218</td>\n",
       "      <td>0.197312</td>\n",
       "      <td>0.9156707</td>\n",
       "      <td>0.964914</td>\n",
       "      <td>0.88081</td>\n",
       "    </tr>\n",
       "  </tbody>\n",
       "</table>\n",
       "</div>"
      ],
      "text/plain": [
       "   train_loss  val_loss   val_score   val_acc  val_miou\n",
       "0    0.788907  1.054759  0.52578115  0.838328  0.577403\n",
       "1    0.629512  0.710951  0.72959965  0.926548  0.764264\n",
       "2    0.522462  0.540913   0.8240372  0.942402  0.809996\n",
       "3     0.47217  0.495707   0.8443546  0.942585  0.815614\n",
       "4    0.470115  0.509154  0.83790874  0.937898  0.809747\n",
       "5     0.37115  0.415052   0.8648594  0.951677  0.841461\n",
       "6     0.35416  0.395007   0.8582665  0.947616   0.82875\n",
       "7    0.349098   0.38347   0.8729623  0.946853  0.826518\n",
       "8    0.328164  0.342385  0.85736275    0.9584  0.858549\n",
       "9    0.287168  0.332207  0.88722354  0.953989  0.846916\n",
       "10   0.307487  0.306319   0.8946597  0.958881   0.85887\n",
       "11   0.269516  0.343167    0.899388  0.951386  0.835409\n",
       "12   0.238784  0.279061  0.88767797   0.96331  0.873167\n",
       "13   0.234867   0.26992  0.89704657  0.962599  0.872193\n",
       "14   0.235587  0.276438  0.89700556  0.957336  0.857176\n",
       "15   0.190354   0.25493   0.8975671  0.961589  0.869896\n",
       "16   0.177967  0.260897  0.90589505  0.958608  0.861036\n",
       "17    0.19137    0.2581   0.8925524  0.957853   0.86077\n",
       "18   0.196252  0.248774   0.9072847  0.959784  0.865755\n",
       "19   0.186473  0.250035  0.89257115  0.956241  0.856362\n",
       "20   0.177883  0.223688   0.9094758  0.964627  0.877308\n",
       "21    0.15393  0.216001   0.9123908  0.967099  0.884333\n",
       "22   0.149864  0.220884   0.9097357  0.965736   0.88113\n",
       "23   0.152995  0.217561  0.90927523  0.963499  0.874982\n",
       "24   0.155264  0.217386   0.9097625  0.963914  0.875018\n",
       "25   0.134881  0.216338  0.91383713   0.96252  0.873377\n",
       "26   0.150886  0.206934  0.91302645   0.96591  0.881867\n",
       "27   0.130856   0.20938  0.91440576  0.963586  0.876279\n",
       "28   0.135655  0.207076   0.9097783  0.965031  0.880516\n",
       "29    0.14138  0.210574   0.9149621  0.963357  0.875436\n",
       "30   0.131085  0.207169   0.9180854  0.965537  0.880828\n",
       "31    0.12994  0.197727  0.91375124  0.965728  0.882457\n",
       "32   0.113654   0.19323  0.92074126  0.967905  0.887839\n",
       "33   0.120464  0.194392  0.91837704   0.96851  0.889487\n",
       "34   0.122535  0.193423  0.91855544  0.967303    0.8859\n",
       "35   0.122025  0.191542   0.9174445   0.96771  0.887218\n",
       "36   0.091541  0.196902   0.9170615  0.965106  0.880768\n",
       "37   0.104879  0.214775   0.9133565  0.962716  0.875015\n",
       "38   0.105619  0.181434   0.9193619  0.968379  0.889132\n",
       "39   0.105036  0.192188   0.9182789  0.966237  0.883998\n",
       "40   0.087341  0.183355  0.92007416  0.968089  0.888903\n",
       "41   0.090844  0.184687  0.91954833     0.968  0.888891\n",
       "42    0.11566  0.188193   0.9185039  0.966801  0.885506\n",
       "43   0.113642  0.174026   0.9212408  0.971277  0.898269\n",
       "44   0.107256  0.174937  0.92064303  0.970475  0.895867\n",
       "45   0.117975  0.183306  0.91804737  0.968317  0.889755\n",
       "46   0.115086  0.186414   0.9186887  0.967603  0.888035\n",
       "47    0.12076  0.193843    0.913739  0.965928  0.883819\n",
       "48   0.171971  0.187686   0.9164575  0.967497  0.887687\n",
       "49   0.123218  0.197312   0.9156707  0.964914   0.88081"
      ]
     },
     "execution_count": 19,
     "metadata": {},
     "output_type": "execute_result"
    }
   ],
   "source": [
    "df"
   ]
  },
  {
   "cell_type": "code",
   "execution_count": 23,
   "id": "e02024f4-5520-4e80-b5e2-1c0f7d4ad10c",
   "metadata": {},
   "outputs": [
    {
     "data": {
      "text/plain": [
       "[<matplotlib.lines.Line2D at 0x7fc75b572c10>]"
      ]
     },
     "execution_count": 23,
     "metadata": {},
     "output_type": "execute_result"
    },
    {
     "data": {
      "image/png": "[encoded data removed]",
      "text/plain": [
       "<Figure size 1000x500 with 1 Axes>"
      ]
     },
     "metadata": {},
     "output_type": "display_data"
    }
   ],
   "source": [
    "plt.figure(figsize= (10,5))\n",
    "plt.plot(TrainLoss_list4)\n",
    "plt.plot(val_losses)"
   ]
  },
  {
   "cell_type": "code",
   "execution_count": 22,
   "id": "0af788b9-1d94-4072-af4f-5c83165b18fc",
   "metadata": {},
   "outputs": [
    {
     "data": {
      "text/plain": [
       "[<matplotlib.lines.Line2D at 0x7fc75b5ffc50>]"
      ]
     },
     "execution_count": 22,
     "metadata": {},
     "output_type": "execute_result"
    },
    {
     "data": {
      "image/png": "[encoded data removed]",
      "text/plain": [
       "<Figure size 1000x500 with 1 Axes>"
      ]
     },
     "metadata": {},
     "output_type": "display_data"
    }
   ],
   "source": [
    "plt.figure(figsize= (10,5))\n",
    "plt.plot(valScore_list4)\n",
    "plt.plot(val_accs)\n",
    "plt.plot(val_mious)"
   ]
  },
  {
   "cell_type": "code",
   "execution_count": null,
   "id": "4795b565-b90f-424f-8455-52d43ad2e5ec",
   "metadata": {},
   "outputs": [],
   "source": []
  },
  {
   "cell_type": "code",
   "execution_count": null,
   "id": "720827a2-6d3e-48fb-88bc-bef59c1bab26",
   "metadata": {},
   "outputs": [],
   "source": []
  }
 ],
 "metadata": {
  "kernelspec": {
   "display_name": "ksh",
   "language": "python",
   "name": "ksh"
  },
  "language_info": {
   "codemirror_mode": {
    "name": "ipython",
    "version": 3
   },
   "file_extension": ".py",
   "mimetype": "text/x-python",
   "name": "python",
   "nbconvert_exporter": "python",
   "pygments_lexer": "ipython3",
   "version": "3.7.16"
  }
 },
 "nbformat": 4,
 "nbformat_minor": 5
}
