{
 "cells": [
  {
   "cell_type": "code",
   "execution_count": 1,
   "id": "5f271b9d-c9a3-41c5-a2e5-cd21dc79d5b6",
   "metadata": {
    "tags": []
   },
   "outputs": [],
   "source": [
    "import numpy as np\n",
    "from pathlib import Path\n",
    "from PIL import Image\n",
    "from torch.utils.data import DataLoader, random_split\n",
    "import torch\n",
    "from torch import optim\n",
    "import torch.nn as nn\n",
    "from tqdm import tqdm\n",
    "import torch.nn.functional as F\n",
    "import logging\n",
    "from evaluate import evaluate\n",
    "\n",
    "import os\n",
    "import albumentations as A\n",
    "from albumentations.pytorch import ToTensorV2\n",
    "from collections import OrderedDict\n",
    "\n",
    "from model.ensemblenet_model import EnsembleNet\n",
    "\n",
    "\n",
    "from utils.dice_score import dice_loss\n",
    "from utils.data_load import KittiDataset\n",
    "from torchsummaryX import summary"
   ]
  },
  {
   "cell_type": "code",
   "execution_count": 2,
   "id": "64ae7ca9",
   "metadata": {
    "tags": []
   },
   "outputs": [],
   "source": [
    "Val_Percent = 0.3\n",
    "Scale_Percent = 1.0\n",
    "Batch_Size = 8\n",
    "learning_rate = 0.0001\n",
    "Pin_Memory = False\n",
    "epochs = 50\n",
    "\n",
    "\n",
    "Image_Size = [384, 1216]\n",
    "Gradient_Clipping = 0.8\n",
    "\n",
    "\n",
    "Num_Class = 2\n",
    "Num_Channel = 3\n",
    "amp = True\n",
    "\n",
    "Model_Name = 'ensemble_voting'\n",
    "\n",
    "\n",
    "Img_Path =  'data/data_road/training/image_2'\n",
    "Mask_Path =  'data/data_road/training/semantic'\n",
    "\n",
    "save_checkpoint = True\n",
    "checkpoint_dir = '../trained' + '_' + Model_Name\n",
    "batch_size = Batch_Size"
   ]
  },
  {
   "cell_type": "code",
   "execution_count": 3,
   "id": "567f8440",
   "metadata": {
    "tags": []
   },
   "outputs": [],
   "source": [
    "dirImg = Path(Img_Path)\n",
    "dirMask = Path(Mask_Path)\n",
    "dir_checkpoint = Path(checkpoint_dir)"
   ]
  },
  {
   "cell_type": "code",
   "execution_count": 4,
   "id": "8e8e3825-8747-4f49-b3ee-eac27522ded2",
   "metadata": {},
   "outputs": [],
   "source": [
    "device = torch.device('cuda' if torch.cuda.is_available() else 'cpu')"
   ]
  },
  {
   "cell_type": "code",
   "execution_count": 5,
   "id": "9a4a35b2-bc69-49e4-b17c-e850f278473d",
   "metadata": {},
   "outputs": [
    {
     "name": "stderr",
     "output_type": "stream",
     "text": [
      "100%|██████████| 289/289 [00:00<00:00, 767.15it/s]\n"
     ]
    }
   ],
   "source": [
    "datasets =  KittiDataset(dirImg, dirMask, Image_Size, Scale_Percent)\n",
    "n_val = int(len(datasets) * Val_Percent)\n",
    "n_train = len(datasets) - n_val\n",
    "train_set, val_set = random_split(datasets, [n_train, n_val], generator=torch.Generator().manual_seed(0))\n",
    "\n",
    "loader_args = dict(batch_size=Batch_Size, num_workers= os.cpu_count(), pin_memory=Pin_Memory)\n",
    "train_loader = DataLoader(train_set, shuffle=True, drop_last = True, **loader_args)\n",
    "val_loader = DataLoader(val_set, shuffle=False, drop_last=True, **loader_args)"
   ]
  },
  {
   "cell_type": "code",
   "execution_count": 6,
   "id": "95b36f40-c709-4e1e-b4f6-66a1954edfd8",
   "metadata": {},
   "outputs": [],
   "source": [
    "model = EnsembleNet(Model_Name, Num_Channel, Num_Class)\n",
    "model = model.to(memory_format=torch.channels_last, device = device)"
   ]
  },
  {
   "cell_type": "code",
   "execution_count": 7,
   "id": "4a29bc96",
   "metadata": {
    "tags": []
   },
   "outputs": [],
   "source": [
    "# 4. Set up the optimizer, the loss, the learning rate scheduler and the loss scaling for AMP\n",
    "#optimizer = optim.RMSprop(model.parameters(), lr=learning_rate, weight_decay=1e-8, momentum=0.9)\n",
    "#optimizer = optim.SGD(model.parameters(), lr=learning_rate, weight_decay=1e-8, momentum=0.9)\n",
    "\n",
    "if 'ensemble_voting' in Model_Name:\n",
    "    unet_optimizer = optim.Adam(model.parameters(), lr=learning_rate, weight_decay=1e-8)\n",
    "    segnet_optimizer = optim.Adam(model.parameters(), lr=learning_rate, weight_decay=1e-8)\n",
    "    enet_optimizer = optim.Adam(model.parameters(), lr=learning_rate, weight_decay=1e-8)\n",
    "    optims = [unet_optimizer, segnet_optimizer, enet_optimizer]\n",
    "    \n",
    "    unet_scheduler = optim.lr_scheduler.ReduceLROnPlateau(unet_optimizer, 'max', patience=2)  # goal: maximize Dice score\n",
    "    segnet_scheduler = optim.lr_scheduler.ReduceLROnPlateau(segnet_optimizer, 'max', patience=2)  # goal: maximize Dice score\n",
    "    enet_scheduler = optim.lr_scheduler.ReduceLROnPlateau(enet_optimizer, 'max', patience=2)  # goal: maximize Dice score\n",
    "    \n",
    "    \n",
    "    \n",
    "else:\n",
    "    optimizer = optim.Adam(model.parameters(), lr=learning_rate, weight_decay=1e-8)\n",
    "    optims = [optimizer]\n",
    "    \n",
    "    scheduler = optim.lr_scheduler.ReduceLROnPlateau(optimizer, 'max', patience=2)  # goal: maximize Dice score\n",
    "    \n",
    "    \n",
    "    \n",
    "grad_scaler = torch.cuda.amp.GradScaler(enabled=amp)\n",
    "criterion = nn.CrossEntropyLoss()\n",
    "global_step = 0"
   ]
  },
  {
   "cell_type": "code",
   "execution_count": 8,
   "id": "46e43754-2870-4837-b38a-3f57d6733ddc",
   "metadata": {},
   "outputs": [],
   "source": [
    "def calculate_loss(pred, true_masks, nclass, multiclass):\n",
    "    loss = criterion(pred, true_masks)\n",
    "    loss += dice_loss(\n",
    "        F.softmax(pred, dim=1).float(),\n",
    "        F.one_hot(true_masks, nclass).permute(0, 3, 1, 2).float(),\n",
    "        multiclass=multiclass\n",
    "    )\n",
    "    return loss\n",
    "\n",
    "def grad_forback(models, losses, optim):\n",
    "    optim.zero_grad(set_to_none=True)\n",
    "    grad_scaler.scale(losses).backward()\n",
    "    torch.nn.utils.clip_grad_norm_(models.parameters(), Gradient_Clipping)\n",
    "    grad_scaler.step(optim)\n",
    "    grad_scaler.update()    \n",
    "\n",
    "def forward_and_backward(model, images, true_masks, amp, optimizers, grad_scaler, model_name):\n",
    "    with torch.autocast(device.type if device.type != 'mps' else 'cpu', enabled=amp):\n",
    "        \n",
    "        try:\n",
    "            mn_cls = model.n_classes\n",
    "        except:\n",
    "            mn_cls = model.classifier[-1].out_channels\n",
    "\n",
    "        if model_name == 'ensemble_voting':\n",
    "            unet_pred, segnet_pred, enet_pred = model(images)\n",
    "            #deeplab_pred = deeplab_pred['out']\n",
    "            \n",
    "            unet_loss = calculate_loss(unet_pred, true_masks, mn_cls, multiclass=True)\n",
    "            segnet_loss = calculate_loss(segnet_pred, true_masks, mn_cls, multiclass=True)\n",
    "            enet_loss = calculate_loss(enet_pred, true_masks, mn_cls, multiclass=True)\n",
    "            \n",
    "            \n",
    "        else:\n",
    "            masks_pred = model(images)\n",
    "            if isinstance(masks_pred, OrderedDict):\n",
    "                masks_pred = masks_pred['out']\n",
    "            loss = calculate_loss(masks_pred, true_masks, mn_cls, multiclass=True)\n",
    "    \n",
    "    \n",
    "    if model_name == 'ensemble_voting':\n",
    "        for _loss, _optiz in zip([unet_loss, segnet_loss, enet_loss], optimizers):\n",
    "            grad_forback(model, _loss, _optiz)\n",
    "\n",
    "        return model, unet_loss, segnet_loss, enet_loss\n",
    "    else:\n",
    "        for _loss, _optiz in zip([loss], optimizers):\n",
    "            grad_forback(model, _loss, _optiz)\n",
    "            \n",
    "        return model, loss\n"
   ]
  },
  {
   "cell_type": "code",
   "execution_count": 9,
   "id": "8bb76263-8fd8-437d-9204-8ebc2af3de6d",
   "metadata": {},
   "outputs": [
    {
     "name": "stderr",
     "output_type": "stream",
     "text": [
      "Epoch 1/50:  99%|█████████▊| 200/203 [00:17<00:00, 14.97img/s]"
     ]
    },
    {
     "name": "stdout",
     "output_type": "stream",
     "text": [
      "***\n",
      "Unet Loss: 0.6588600873947144     Segnet Loss: 0.9160606861114502     Enet Loss: 1.0641694068908691\n",
      "Voting Loss: 0.8796967267990112\n"
     ]
    },
    {
     "name": "stderr",
     "output_type": "stream",
     "text": [
      "Epoch 1/50:  99%|█████████▊| 200/203 [00:21<00:00,  9.50img/s]"
     ]
    },
    {
     "name": "stdout",
     "output_type": "stream",
     "text": [
      "---\n",
      "Unet Validation Dice Score: 0.28675708174705505     Segnet Validation Dice Score: 0.11674978584051132     Enet Validation Dice Score: 0.2264721393585205\n",
      "---\n",
      "Ensemble Voting Validation Dice Loss: 1.3578845659891765\n",
      "Ensemble Voting Validation Pixel Accuracy: 0.3414127282929002 \n",
      "Ensemble Voting Validation MIoU: 0.20518112552949624\n",
      "Ensemble Voting Validation Dice Score: 0.33861175179481506 \n"
     ]
    },
    {
     "name": "stderr",
     "output_type": "stream",
     "text": [
      "\n",
      "Epoch 2/50:  99%|█████████▊| 200/203 [00:14<00:00, 15.24img/s]"
     ]
    },
    {
     "name": "stdout",
     "output_type": "stream",
     "text": [
      "***\n",
      "Unet Loss: 0.6062265038490295     Segnet Loss: 0.5419138669967651     Enet Loss: 0.9683511853218079\n",
      "Voting Loss: 0.7054971853892008\n"
     ]
    },
    {
     "name": "stderr",
     "output_type": "stream",
     "text": [
      "Epoch 2/50:  99%|█████████▊| 200/203 [00:18<00:00, 10.61img/s]"
     ]
    },
    {
     "name": "stdout",
     "output_type": "stream",
     "text": [
      "---\n",
      "Unet Validation Dice Score: 0.7368054986000061     Segnet Validation Dice Score: 0.11416870355606079     Enet Validation Dice Score: 0.2957947850227356\n",
      "---\n",
      "Ensemble Voting Validation Dice Loss: 0.8536696434020996\n",
      "Ensemble Voting Validation Pixel Accuracy: 0.896192048725329 \n",
      "Ensemble Voting Validation MIoU: 0.7227692998922512\n",
      "Ensemble Voting Validation Dice Score: 0.7749819159507751 \n"
     ]
    },
    {
     "name": "stderr",
     "output_type": "stream",
     "text": [
      "\n",
      "Epoch 3/50:  99%|█████████▊| 200/203 [00:15<00:00, 15.13img/s]"
     ]
    },
    {
     "name": "stdout",
     "output_type": "stream",
     "text": [
      "***\n",
      "Unet Loss: 0.426252156496048     Segnet Loss: 0.35179251432418823     Enet Loss: 0.908413290977478\n",
      "Voting Loss: 0.5621526539325714\n"
     ]
    },
    {
     "name": "stderr",
     "output_type": "stream",
     "text": [
      "Epoch 3/50:  99%|█████████▊| 200/203 [00:19<00:00, 10.36img/s]"
     ]
    },
    {
     "name": "stdout",
     "output_type": "stream",
     "text": [
      "---\n",
      "Unet Validation Dice Score: 0.7945287823677063     Segnet Validation Dice Score: 0.7626985907554626     Enet Validation Dice Score: 0.35035955905914307\n",
      "---\n",
      "Ensemble Voting Validation Dice Loss: 0.6460440158843994\n",
      "Ensemble Voting Validation Pixel Accuracy: 0.9298358047217653 \n",
      "Ensemble Voting Validation MIoU: 0.7911451547835472\n",
      "Ensemble Voting Validation Dice Score: 0.8009864091873169 \n"
     ]
    },
    {
     "name": "stderr",
     "output_type": "stream",
     "text": [
      "\n",
      "Epoch 4/50:  99%|█████████▊| 200/203 [00:15<00:00, 15.14img/s]"
     ]
    },
    {
     "name": "stdout",
     "output_type": "stream",
     "text": [
      "***\n",
      "Unet Loss: 0.375144898891449     Segnet Loss: 0.30110469460487366     Enet Loss: 0.8166958093643188\n",
      "Voting Loss: 0.4976484676202138\n"
     ]
    },
    {
     "name": "stderr",
     "output_type": "stream",
     "text": [
      "Epoch 4/50:  99%|█████████▊| 200/203 [00:19<00:00, 10.48img/s]"
     ]
    },
    {
     "name": "stdout",
     "output_type": "stream",
     "text": [
      "---\n",
      "Unet Validation Dice Score: 0.8501777648925781     Segnet Validation Dice Score: 0.8172677159309387     Enet Validation Dice Score: 0.4038708209991455\n",
      "---\n",
      "Ensemble Voting Validation Dice Loss: 0.5338476498921713\n",
      "Ensemble Voting Validation Pixel Accuracy: 0.9391781990988213 \n",
      "Ensemble Voting Validation MIoU: 0.8057847485469865\n",
      "Ensemble Voting Validation Dice Score: 0.8499534726142883 \n"
     ]
    },
    {
     "name": "stderr",
     "output_type": "stream",
     "text": [
      "\n",
      "Epoch 5/50:  99%|█████████▊| 200/203 [00:15<00:00, 15.16img/s]"
     ]
    },
    {
     "name": "stdout",
     "output_type": "stream",
     "text": [
      "***\n",
      "Unet Loss: 0.3851325511932373     Segnet Loss: 0.2403312772512436     Enet Loss: 0.7708609104156494\n",
      "Voting Loss: 0.46544157962004346\n"
     ]
    },
    {
     "name": "stderr",
     "output_type": "stream",
     "text": [
      "Epoch 5/50:  99%|█████████▊| 200/203 [00:19<00:00, 10.40img/s]"
     ]
    },
    {
     "name": "stdout",
     "output_type": "stream",
     "text": [
      "---\n",
      "Unet Validation Dice Score: 0.8290063738822937     Segnet Validation Dice Score: 0.8363245129585266     Enet Validation Dice Score: 0.45507678389549255\n",
      "---\n",
      "Ensemble Voting Validation Dice Loss: 0.5198531150817871\n",
      "Ensemble Voting Validation Pixel Accuracy: 0.937646698533443 \n",
      "Ensemble Voting Validation MIoU: 0.8071686276369903\n",
      "Ensemble Voting Validation Dice Score: 0.8437914252281189 \n"
     ]
    },
    {
     "name": "stderr",
     "output_type": "stream",
     "text": [
      "\n",
      "Epoch 6/50:  99%|█████████▊| 200/203 [00:15<00:00, 15.08img/s]"
     ]
    },
    {
     "name": "stdout",
     "output_type": "stream",
     "text": [
      "***\n",
      "Unet Loss: 0.2968538999557495     Segnet Loss: 0.2614734172821045     Enet Loss: 0.69962078332901\n",
      "Voting Loss: 0.419316033522288\n"
     ]
    },
    {
     "name": "stderr",
     "output_type": "stream",
     "text": [
      "Epoch 6/50:  99%|█████████▊| 200/203 [00:19<00:00, 10.50img/s]"
     ]
    },
    {
     "name": "stdout",
     "output_type": "stream",
     "text": [
      "---\n",
      "Unet Validation Dice Score: 0.8842856287956238     Segnet Validation Dice Score: 0.8303536772727966     Enet Validation Dice Score: 0.5128235220909119\n",
      "---\n",
      "Ensemble Voting Validation Dice Loss: 0.42797215779622394\n",
      "Ensemble Voting Validation Pixel Accuracy: 0.9575206020422149 \n",
      "Ensemble Voting Validation MIoU: 0.8529082035509626\n",
      "Ensemble Voting Validation Dice Score: 0.8642125129699707 \n"
     ]
    },
    {
     "name": "stderr",
     "output_type": "stream",
     "text": [
      "\n",
      "Epoch 7/50:  99%|█████████▊| 200/203 [00:15<00:00, 14.98img/s]"
     ]
    },
    {
     "name": "stdout",
     "output_type": "stream",
     "text": [
      "***\n",
      "Unet Loss: 0.3462904989719391     Segnet Loss: 0.230447918176651     Enet Loss: 0.6656520366668701\n",
      "Voting Loss: 0.41413015127182007\n"
     ]
    },
    {
     "name": "stderr",
     "output_type": "stream",
     "text": [
      "Epoch 7/50:  99%|█████████▊| 200/203 [00:19<00:00, 10.49img/s]"
     ]
    },
    {
     "name": "stdout",
     "output_type": "stream",
     "text": [
      "---\n",
      "Unet Validation Dice Score: 0.8530364036560059     Segnet Validation Dice Score: 0.8495500683784485     Enet Validation Dice Score: 0.5615329146385193\n",
      "---\n",
      "Ensemble Voting Validation Dice Loss: 0.4450579484303792\n",
      "Ensemble Voting Validation Pixel Accuracy: 0.9399751362047697 \n",
      "Ensemble Voting Validation MIoU: 0.8163541757158108\n",
      "Ensemble Voting Validation Dice Score: 0.8577868342399597 \n"
     ]
    },
    {
     "name": "stderr",
     "output_type": "stream",
     "text": [
      "\n",
      "Epoch 8/50:  99%|█████████▊| 200/203 [00:15<00:00, 15.00img/s]"
     ]
    },
    {
     "name": "stdout",
     "output_type": "stream",
     "text": [
      "***\n",
      "Unet Loss: 0.25540149211883545     Segnet Loss: 0.14294713735580444     Enet Loss: 0.5877388715744019\n",
      "Voting Loss: 0.3286958336830139\n"
     ]
    },
    {
     "name": "stderr",
     "output_type": "stream",
     "text": [
      "Epoch 8/50:  99%|█████████▊| 200/203 [00:18<00:00, 10.57img/s]"
     ]
    },
    {
     "name": "stdout",
     "output_type": "stream",
     "text": [
      "---\n",
      "Unet Validation Dice Score: 0.8700599074363708     Segnet Validation Dice Score: 0.8329625129699707     Enet Validation Dice Score: 0.612339437007904\n",
      "---\n",
      "Ensemble Voting Validation Dice Loss: 0.39230934778849286\n",
      "Ensemble Voting Validation Pixel Accuracy: 0.9490016468784266 \n",
      "Ensemble Voting Validation MIoU: 0.8340804559114141\n",
      "Ensemble Voting Validation Dice Score: 0.8588423728942871 \n"
     ]
    },
    {
     "name": "stderr",
     "output_type": "stream",
     "text": [
      "\n",
      "Epoch 9/50:  99%|█████████▊| 200/203 [00:15<00:00, 14.91img/s]"
     ]
    },
    {
     "name": "stdout",
     "output_type": "stream",
     "text": [
      "***\n",
      "Unet Loss: 0.26284676790237427     Segnet Loss: 0.13052010536193848     Enet Loss: 0.5353559255599976\n",
      "Voting Loss: 0.3095742662747701\n"
     ]
    },
    {
     "name": "stderr",
     "output_type": "stream",
     "text": [
      "Epoch 9/50:  99%|█████████▊| 200/203 [00:19<00:00, 10.51img/s]"
     ]
    },
    {
     "name": "stdout",
     "output_type": "stream",
     "text": [
      "---\n",
      "Unet Validation Dice Score: 0.8728832602500916     Segnet Validation Dice Score: 0.8745154738426208     Enet Validation Dice Score: 0.6784058213233948\n",
      "---\n",
      "Ensemble Voting Validation Dice Loss: 0.3830400307973226\n",
      "Ensemble Voting Validation Pixel Accuracy: 0.9499040570175439 \n",
      "Ensemble Voting Validation MIoU: 0.8377775089557\n",
      "Ensemble Voting Validation Dice Score: 0.8861878514289856 \n"
     ]
    },
    {
     "name": "stderr",
     "output_type": "stream",
     "text": [
      "\n",
      "Epoch 10/50:  99%|█████████▊| 200/203 [00:15<00:00, 15.03img/s]"
     ]
    },
    {
     "name": "stdout",
     "output_type": "stream",
     "text": [
      "***\n",
      "Unet Loss: 0.26114943623542786     Segnet Loss: 0.1329880803823471     Enet Loss: 0.5192595720291138\n",
      "Voting Loss: 0.3044656962156296\n"
     ]
    },
    {
     "name": "stderr",
     "output_type": "stream",
     "text": [
      "Epoch 10/50:  99%|█████████▊| 200/203 [00:19<00:00, 10.41img/s]"
     ]
    },
    {
     "name": "stdout",
     "output_type": "stream",
     "text": [
      "---\n",
      "Unet Validation Dice Score: 0.890396237373352     Segnet Validation Dice Score: 0.8837621808052063     Enet Validation Dice Score: 0.7257027626037598\n",
      "---\n",
      "Ensemble Voting Validation Dice Loss: 0.35838985443115234\n",
      "Ensemble Voting Validation Pixel Accuracy: 0.9494869834498355 \n",
      "Ensemble Voting Validation MIoU: 0.8370225128773168\n",
      "Ensemble Voting Validation Dice Score: 0.88990318775177 \n"
     ]
    },
    {
     "name": "stderr",
     "output_type": "stream",
     "text": [
      "\n",
      "Epoch 11/50:  99%|█████████▊| 200/203 [00:15<00:00, 15.12img/s]"
     ]
    },
    {
     "name": "stdout",
     "output_type": "stream",
     "text": [
      "***\n",
      "Unet Loss: 0.23537907004356384     Segnet Loss: 0.1602191925048828     Enet Loss: 0.5254948139190674\n",
      "Voting Loss: 0.3070310254891713\n"
     ]
    },
    {
     "name": "stderr",
     "output_type": "stream",
     "text": [
      "Epoch 11/50:  99%|█████████▊| 200/203 [00:19<00:00, 10.41img/s]"
     ]
    },
    {
     "name": "stdout",
     "output_type": "stream",
     "text": [
      "---\n",
      "Unet Validation Dice Score: 0.9003517031669617     Segnet Validation Dice Score: 0.8786075711250305     Enet Validation Dice Score: 0.7605748176574707\n",
      "---\n",
      "Ensemble Voting Validation Dice Loss: 0.33509775002797443\n",
      "Ensemble Voting Validation Pixel Accuracy: 0.9535784805030153 \n",
      "Ensemble Voting Validation MIoU: 0.849026681539526\n",
      "Ensemble Voting Validation Dice Score: 0.8895198106765747 \n"
     ]
    },
    {
     "name": "stderr",
     "output_type": "stream",
     "text": [
      "\n",
      "Epoch 12/50:  99%|█████████▊| 200/203 [00:15<00:00, 14.97img/s]"
     ]
    },
    {
     "name": "stdout",
     "output_type": "stream",
     "text": [
      "***\n",
      "Unet Loss: 0.21699020266532898     Segnet Loss: 0.10007418692111969     Enet Loss: 0.4303732216358185\n",
      "Voting Loss: 0.2491458704074224\n"
     ]
    },
    {
     "name": "stderr",
     "output_type": "stream",
     "text": [
      "Epoch 12/50:  99%|█████████▊| 200/203 [00:19<00:00, 10.49img/s]"
     ]
    },
    {
     "name": "stdout",
     "output_type": "stream",
     "text": [
      "---\n",
      "Unet Validation Dice Score: 0.8996444940567017     Segnet Validation Dice Score: 0.881537914276123     Enet Validation Dice Score: 0.7965328097343445\n",
      "---\n",
      "Ensemble Voting Validation Dice Loss: 0.3168345292409261\n",
      "Ensemble Voting Validation Pixel Accuracy: 0.9585212573670504 \n",
      "Ensemble Voting Validation MIoU: 0.8609774038263758\n",
      "Ensemble Voting Validation Dice Score: 0.8941602110862732 \n"
     ]
    },
    {
     "name": "stderr",
     "output_type": "stream",
     "text": [
      "\n",
      "Epoch 13/50:  99%|█████████▊| 200/203 [00:15<00:00, 15.01img/s]"
     ]
    },
    {
     "name": "stdout",
     "output_type": "stream",
     "text": [
      "***\n",
      "Unet Loss: 0.2650721073150635     Segnet Loss: 0.1317073553800583     Enet Loss: 0.4812464118003845\n",
      "Voting Loss: 0.2926752914985021\n"
     ]
    },
    {
     "name": "stderr",
     "output_type": "stream",
     "text": [
      "Epoch 13/50:  99%|█████████▊| 200/203 [00:19<00:00, 10.42img/s]"
     ]
    },
    {
     "name": "stdout",
     "output_type": "stream",
     "text": [
      "---\n",
      "Unet Validation Dice Score: 0.8989097476005554     Segnet Validation Dice Score: 0.89471834897995     Enet Validation Dice Score: 0.8081775903701782\n",
      "---\n",
      "Ensemble Voting Validation Dice Loss: 0.3270877997080485\n",
      "Ensemble Voting Validation Pixel Accuracy: 0.9545807420161733 \n",
      "Ensemble Voting Validation MIoU: 0.8513059133977657\n",
      "Ensemble Voting Validation Dice Score: 0.8999266028404236 \n"
     ]
    },
    {
     "name": "stderr",
     "output_type": "stream",
     "text": [
      "\n",
      "Epoch 14/50:  99%|█████████▊| 200/203 [00:15<00:00, 15.13img/s]"
     ]
    },
    {
     "name": "stdout",
     "output_type": "stream",
     "text": [
      "***\n",
      "Unet Loss: 0.21173813939094543     Segnet Loss: 0.10424710065126419     Enet Loss: 0.403570294380188\n",
      "Voting Loss: 0.23985184480746588\n"
     ]
    },
    {
     "name": "stderr",
     "output_type": "stream",
     "text": [
      "Epoch 14/50:  99%|█████████▊| 200/203 [00:18<00:00, 10.59img/s]"
     ]
    },
    {
     "name": "stdout",
     "output_type": "stream",
     "text": [
      "---\n",
      "Unet Validation Dice Score: 0.9012719988822937     Segnet Validation Dice Score: 0.8914419412612915     Enet Validation Dice Score: 0.8240472674369812\n",
      "---\n",
      "Ensemble Voting Validation Dice Loss: 0.30316396554311115\n",
      "Ensemble Voting Validation Pixel Accuracy: 0.9558086729886239 \n",
      "Ensemble Voting Validation MIoU: 0.8549202746963014\n",
      "Ensemble Voting Validation Dice Score: 0.8963319659233093 \n"
     ]
    },
    {
     "name": "stderr",
     "output_type": "stream",
     "text": [
      "\n",
      "Epoch 15/50:  99%|█████████▊| 200/203 [00:15<00:00, 14.88img/s]"
     ]
    },
    {
     "name": "stdout",
     "output_type": "stream",
     "text": [
      "***\n",
      "Unet Loss: 0.2058573067188263     Segnet Loss: 0.1255640685558319     Enet Loss: 0.42153167724609375\n",
      "Voting Loss: 0.25098435084025067\n"
     ]
    },
    {
     "name": "stderr",
     "output_type": "stream",
     "text": [
      "Epoch 15/50:  99%|█████████▊| 200/203 [00:19<00:00, 10.40img/s]"
     ]
    },
    {
     "name": "stdout",
     "output_type": "stream",
     "text": [
      "---\n",
      "Unet Validation Dice Score: 0.9016729593276978     Segnet Validation Dice Score: 0.8967214822769165     Enet Validation Dice Score: 0.8239025473594666\n",
      "---\n",
      "Ensemble Voting Validation Dice Loss: 0.28076934814453125\n",
      "Ensemble Voting Validation Pixel Accuracy: 0.9652814363178454 \n",
      "Ensemble Voting Validation MIoU: 0.878123062702488\n",
      "Ensemble Voting Validation Dice Score: 0.9111769795417786 \n"
     ]
    },
    {
     "name": "stderr",
     "output_type": "stream",
     "text": [
      "\n",
      "Epoch 16/50:  99%|█████████▊| 200/203 [00:15<00:00, 14.87img/s]"
     ]
    },
    {
     "name": "stdout",
     "output_type": "stream",
     "text": [
      "***\n",
      "Unet Loss: 0.20563188195228577     Segnet Loss: 0.07012920826673508     Enet Loss: 0.3912035822868347\n",
      "Voting Loss: 0.22232155750195184\n"
     ]
    },
    {
     "name": "stderr",
     "output_type": "stream",
     "text": [
      "Epoch 16/50:  99%|█████████▊| 200/203 [00:19<00:00, 10.41img/s]"
     ]
    },
    {
     "name": "stdout",
     "output_type": "stream",
     "text": [
      "---\n",
      "Unet Validation Dice Score: 0.9013296961784363     Segnet Validation Dice Score: 0.9024406671524048     Enet Validation Dice Score: 0.835086464881897\n",
      "---\n",
      "Ensemble Voting Validation Dice Loss: 0.2881632248560588\n",
      "Ensemble Voting Validation Pixel Accuracy: 0.9604454709772479 \n",
      "Ensemble Voting Validation MIoU: 0.8637791339279749\n",
      "Ensemble Voting Validation Dice Score: 0.9084052443504333 \n"
     ]
    },
    {
     "name": "stderr",
     "output_type": "stream",
     "text": [
      "\n",
      "Epoch 17/50:  99%|█████████▊| 200/203 [00:15<00:00, 14.93img/s]"
     ]
    },
    {
     "name": "stdout",
     "output_type": "stream",
     "text": [
      "***\n",
      "Unet Loss: 0.20623266696929932     Segnet Loss: 0.07759398221969604     Enet Loss: 0.377266526222229\n",
      "Voting Loss: 0.22036439180374146\n"
     ]
    },
    {
     "name": "stderr",
     "output_type": "stream",
     "text": [
      "Epoch 17/50:  99%|█████████▊| 200/203 [00:19<00:00, 10.36img/s]"
     ]
    },
    {
     "name": "stdout",
     "output_type": "stream",
     "text": [
      "---\n",
      "Unet Validation Dice Score: 0.9030744433403015     Segnet Validation Dice Score: 0.8867411017417908     Enet Validation Dice Score: 0.8457693457603455\n",
      "---\n",
      "Ensemble Voting Validation Dice Loss: 0.28647152582804364\n",
      "Ensemble Voting Validation Pixel Accuracy: 0.9614819978412829 \n",
      "Ensemble Voting Validation MIoU: 0.8694713458371585\n",
      "Ensemble Voting Validation Dice Score: 0.9076157808303833 \n"
     ]
    },
    {
     "name": "stderr",
     "output_type": "stream",
     "text": [
      "\n",
      "Epoch 18/50:  99%|█████████▊| 200/203 [00:15<00:00, 15.04img/s]"
     ]
    },
    {
     "name": "stdout",
     "output_type": "stream",
     "text": [
      "***\n",
      "Unet Loss: 0.22468651831150055     Segnet Loss: 0.10251855105161667     Enet Loss: 0.3329543471336365\n",
      "Voting Loss: 0.22005313883225122\n"
     ]
    },
    {
     "name": "stderr",
     "output_type": "stream",
     "text": [
      "Epoch 18/50:  99%|█████████▊| 200/203 [00:19<00:00, 10.49img/s]"
     ]
    },
    {
     "name": "stdout",
     "output_type": "stream",
     "text": [
      "---\n",
      "Unet Validation Dice Score: 0.900098443031311     Segnet Validation Dice Score: 0.8970473408699036     Enet Validation Dice Score: 0.850921094417572\n",
      "---\n",
      "Ensemble Voting Validation Dice Loss: 0.28554801146189374\n",
      "Ensemble Voting Validation Pixel Accuracy: 0.9547191419099507 \n",
      "Ensemble Voting Validation MIoU: 0.8525252296173575\n",
      "Ensemble Voting Validation Dice Score: 0.9000883102416992 \n"
     ]
    },
    {
     "name": "stderr",
     "output_type": "stream",
     "text": [
      "\n",
      "Epoch 19/50:  99%|█████████▊| 200/203 [00:15<00:00, 14.83img/s]"
     ]
    },
    {
     "name": "stdout",
     "output_type": "stream",
     "text": [
      "***\n",
      "Unet Loss: 0.2186160683631897     Segnet Loss: 0.062260549515485764     Enet Loss: 0.3306320309638977\n",
      "Voting Loss: 0.2038362162808577\n"
     ]
    },
    {
     "name": "stderr",
     "output_type": "stream",
     "text": [
      "Epoch 19/50:  99%|█████████▊| 200/203 [00:19<00:00, 10.45img/s]"
     ]
    },
    {
     "name": "stdout",
     "output_type": "stream",
     "text": [
      "---\n",
      "Unet Validation Dice Score: 0.90552818775177     Segnet Validation Dice Score: 0.894306480884552     Enet Validation Dice Score: 0.8356829881668091\n",
      "---\n",
      "Ensemble Voting Validation Dice Loss: 0.25775158405303955\n",
      "Ensemble Voting Validation Pixel Accuracy: 0.9680060671086896 \n",
      "Ensemble Voting Validation MIoU: 0.8872836941240898\n",
      "Ensemble Voting Validation Dice Score: 0.9110588431358337 \n"
     ]
    },
    {
     "name": "stderr",
     "output_type": "stream",
     "text": [
      "\n",
      "Epoch 20/50:  99%|█████████▊| 200/203 [00:15<00:00, 14.81img/s]"
     ]
    },
    {
     "name": "stdout",
     "output_type": "stream",
     "text": [
      "***\n",
      "Unet Loss: 0.20074312388896942     Segnet Loss: 0.044529128819704056     Enet Loss: 0.35830992460250854\n",
      "Voting Loss: 0.20119405910372734\n"
     ]
    },
    {
     "name": "stderr",
     "output_type": "stream",
     "text": [
      "Epoch 20/50:  99%|█████████▊| 200/203 [00:19<00:00, 10.36img/s]"
     ]
    },
    {
     "name": "stdout",
     "output_type": "stream",
     "text": [
      "---\n",
      "Unet Validation Dice Score: 0.9011921882629395     Segnet Validation Dice Score: 0.9201798439025879     Enet Validation Dice Score: 0.8302492499351501\n",
      "---\n",
      "Ensemble Voting Validation Dice Loss: 0.25055869420369464\n",
      "Ensemble Voting Validation Pixel Accuracy: 0.9697043435615406 \n",
      "Ensemble Voting Validation MIoU: 0.8919531362456417\n",
      "Ensemble Voting Validation Dice Score: 0.9195771217346191 \n"
     ]
    },
    {
     "name": "stderr",
     "output_type": "stream",
     "text": [
      "\n",
      "Epoch 21/50:  99%|█████████▊| 200/203 [00:15<00:00, 14.97img/s]"
     ]
    },
    {
     "name": "stdout",
     "output_type": "stream",
     "text": [
      "***\n",
      "Unet Loss: 0.18949446082115173     Segnet Loss: 0.05723625421524048     Enet Loss: 0.300337016582489\n",
      "Voting Loss: 0.18235591053962708\n"
     ]
    },
    {
     "name": "stderr",
     "output_type": "stream",
     "text": [
      "Epoch 21/50:  99%|█████████▊| 200/203 [00:19<00:00, 10.40img/s]"
     ]
    },
    {
     "name": "stdout",
     "output_type": "stream",
     "text": [
      "---\n",
      "Unet Validation Dice Score: 0.9077426195144653     Segnet Validation Dice Score: 0.9237387776374817     Enet Validation Dice Score: 0.8579677939414978\n",
      "---\n",
      "Ensemble Voting Validation Dice Loss: 0.2510065833727519\n",
      "Ensemble Voting Validation Pixel Accuracy: 0.9664231685169956 \n",
      "Ensemble Voting Validation MIoU: 0.8817936138701046\n",
      "Ensemble Voting Validation Dice Score: 0.9217392206192017 \n"
     ]
    },
    {
     "name": "stderr",
     "output_type": "stream",
     "text": [
      "\n",
      "Epoch 22/50:  99%|█████████▊| 200/203 [00:15<00:00, 15.15img/s]"
     ]
    },
    {
     "name": "stdout",
     "output_type": "stream",
     "text": [
      "***\n",
      "Unet Loss: 0.1866770088672638     Segnet Loss: 0.05790553614497185     Enet Loss: 0.3403427004814148\n",
      "Voting Loss: 0.1949750818312168\n"
     ]
    },
    {
     "name": "stderr",
     "output_type": "stream",
     "text": [
      "Epoch 22/50:  99%|█████████▊| 200/203 [00:19<00:00, 10.50img/s]"
     ]
    },
    {
     "name": "stdout",
     "output_type": "stream",
     "text": [
      "---\n",
      "Unet Validation Dice Score: 0.8999025225639343     Segnet Validation Dice Score: 0.9216402173042297     Enet Validation Dice Score: 0.8539559245109558\n",
      "---\n",
      "Ensemble Voting Validation Dice Loss: 0.2315502166748047\n",
      "Ensemble Voting Validation Pixel Accuracy: 0.9683910169099507 \n",
      "Ensemble Voting Validation MIoU: 0.8883950624080998\n",
      "Ensemble Voting Validation Dice Score: 0.9189810156822205 \n"
     ]
    },
    {
     "name": "stderr",
     "output_type": "stream",
     "text": [
      "\n",
      "Epoch 23/50:  99%|█████████▊| 200/203 [00:15<00:00, 15.05img/s]"
     ]
    },
    {
     "name": "stdout",
     "output_type": "stream",
     "text": [
      "***\n",
      "Unet Loss: 0.1877308189868927     Segnet Loss: 0.03981271758675575     Enet Loss: 0.29623788595199585\n",
      "Voting Loss: 0.1745938075085481\n"
     ]
    },
    {
     "name": "stderr",
     "output_type": "stream",
     "text": [
      "Epoch 23/50:  99%|█████████▊| 200/203 [00:19<00:00, 10.51img/s]"
     ]
    },
    {
     "name": "stdout",
     "output_type": "stream",
     "text": [
      "---\n",
      "Unet Validation Dice Score: 0.8928102850914001     Segnet Validation Dice Score: 0.9237685203552246     Enet Validation Dice Score: 0.8633300065994263\n",
      "---\n",
      "Ensemble Voting Validation Dice Loss: 0.25401878356933594\n",
      "Ensemble Voting Validation Pixel Accuracy: 0.9651020786218476 \n",
      "Ensemble Voting Validation MIoU: 0.8801215870033734\n",
      "Ensemble Voting Validation Dice Score: 0.9192487001419067 \n"
     ]
    },
    {
     "name": "stderr",
     "output_type": "stream",
     "text": [
      "\n",
      "Epoch 24/50:  99%|█████████▊| 200/203 [00:15<00:00, 14.81img/s]"
     ]
    },
    {
     "name": "stdout",
     "output_type": "stream",
     "text": [
      "***\n",
      "Unet Loss: 0.2119603455066681     Segnet Loss: 0.03970044106245041     Enet Loss: 0.30338937044143677\n",
      "Voting Loss: 0.18501671900351843\n"
     ]
    },
    {
     "name": "stderr",
     "output_type": "stream",
     "text": [
      "Epoch 24/50:  99%|█████████▊| 200/203 [00:19<00:00, 10.31img/s]"
     ]
    },
    {
     "name": "stdout",
     "output_type": "stream",
     "text": [
      "---\n",
      "Unet Validation Dice Score: 0.9050818681716919     Segnet Validation Dice Score: 0.9154434204101562     Enet Validation Dice Score: 0.8529837727546692\n",
      "---\n",
      "Ensemble Voting Validation Dice Loss: 0.24960986773173013\n",
      "Ensemble Voting Validation Pixel Accuracy: 0.9605370237116229 \n",
      "Ensemble Voting Validation MIoU: 0.8678675339750397\n",
      "Ensemble Voting Validation Dice Score: 0.9141661524772644 \n"
     ]
    },
    {
     "name": "stderr",
     "output_type": "stream",
     "text": [
      "\n",
      "Epoch 25/50:  99%|█████████▊| 200/203 [00:15<00:00, 15.08img/s]"
     ]
    },
    {
     "name": "stdout",
     "output_type": "stream",
     "text": [
      "***\n",
      "Unet Loss: 0.18873679637908936     Segnet Loss: 0.04345455765724182     Enet Loss: 0.26944392919540405\n",
      "Voting Loss: 0.16721176107724509\n"
     ]
    },
    {
     "name": "stderr",
     "output_type": "stream",
     "text": [
      "Epoch 25/50:  99%|█████████▊| 200/203 [00:19<00:00, 10.35img/s]"
     ]
    },
    {
     "name": "stdout",
     "output_type": "stream",
     "text": [
      "---\n",
      "Unet Validation Dice Score: 0.906711757183075     Segnet Validation Dice Score: 0.9218346476554871     Enet Validation Dice Score: 0.8685202598571777\n",
      "---\n",
      "Ensemble Voting Validation Dice Loss: 0.22831888993581137\n",
      "Ensemble Voting Validation Pixel Accuracy: 0.96844482421875 \n",
      "Ensemble Voting Validation MIoU: 0.8890802416106588\n",
      "Ensemble Voting Validation Dice Score: 0.9207624793052673 \n"
     ]
    },
    {
     "name": "stderr",
     "output_type": "stream",
     "text": [
      "\n",
      "Epoch 26/50:  99%|█████████▊| 200/203 [00:15<00:00, 15.01img/s]"
     ]
    },
    {
     "name": "stdout",
     "output_type": "stream",
     "text": [
      "***\n",
      "Unet Loss: 0.17453143000602722     Segnet Loss: 0.03523885831236839     Enet Loss: 0.2320648431777954\n",
      "Voting Loss: 0.14727837716539702\n"
     ]
    },
    {
     "name": "stderr",
     "output_type": "stream",
     "text": [
      "Epoch 26/50:  99%|█████████▊| 200/203 [00:19<00:00, 10.37img/s]"
     ]
    },
    {
     "name": "stdout",
     "output_type": "stream",
     "text": [
      "---\n",
      "Unet Validation Dice Score: 0.9066347479820251     Segnet Validation Dice Score: 0.9252305030822754     Enet Validation Dice Score: 0.8457299470901489\n",
      "---\n",
      "Ensemble Voting Validation Dice Loss: 0.24097508192062378\n",
      "Ensemble Voting Validation Pixel Accuracy: 0.9659322102864584 \n",
      "Ensemble Voting Validation MIoU: 0.8824875789747205\n",
      "Ensemble Voting Validation Dice Score: 0.9216939210891724 \n"
     ]
    },
    {
     "name": "stderr",
     "output_type": "stream",
     "text": [
      "\n",
      "Epoch 27/50:  99%|█████████▊| 200/203 [00:15<00:00, 14.91img/s]"
     ]
    },
    {
     "name": "stdout",
     "output_type": "stream",
     "text": [
      "***\n",
      "Unet Loss: 0.1858648657798767     Segnet Loss: 0.03531776741147041     Enet Loss: 0.22305966913700104\n",
      "Voting Loss: 0.14808076744278273\n"
     ]
    },
    {
     "name": "stderr",
     "output_type": "stream",
     "text": [
      "Epoch 27/50:  99%|█████████▊| 200/203 [00:19<00:00, 10.45img/s]"
     ]
    },
    {
     "name": "stdout",
     "output_type": "stream",
     "text": [
      "---\n",
      "Unet Validation Dice Score: 0.9082503318786621     Segnet Validation Dice Score: 0.922160267829895     Enet Validation Dice Score: 0.8726925253868103\n",
      "---\n",
      "Ensemble Voting Validation Dice Loss: 0.22745664914449057\n",
      "Ensemble Voting Validation Pixel Accuracy: 0.9669382195723685 \n",
      "Ensemble Voting Validation MIoU: 0.8851060110187119\n",
      "Ensemble Voting Validation Dice Score: 0.9213050007820129 \n"
     ]
    },
    {
     "name": "stderr",
     "output_type": "stream",
     "text": [
      "\n",
      "Epoch 28/50:  99%|█████████▊| 200/203 [00:15<00:00, 14.86img/s]"
     ]
    },
    {
     "name": "stdout",
     "output_type": "stream",
     "text": [
      "***\n",
      "Unet Loss: 0.17147213220596313     Segnet Loss: 0.048134490847587585     Enet Loss: 0.24738137423992157\n",
      "Voting Loss: 0.15566266576449075\n"
     ]
    },
    {
     "name": "stderr",
     "output_type": "stream",
     "text": [
      "Epoch 28/50:  99%|█████████▊| 200/203 [00:19<00:00, 10.28img/s]"
     ]
    },
    {
     "name": "stdout",
     "output_type": "stream",
     "text": [
      "---\n",
      "Unet Validation Dice Score: 0.9099602699279785     Segnet Validation Dice Score: 0.9253460764884949     Enet Validation Dice Score: 0.8781704306602478\n",
      "---\n",
      "Ensemble Voting Validation Dice Loss: 0.22202489773432413\n",
      "Ensemble Voting Validation Pixel Accuracy: 0.9679163882606908 \n",
      "Ensemble Voting Validation MIoU: 0.8875548987387443\n",
      "Ensemble Voting Validation Dice Score: 0.9240313768386841 \n"
     ]
    },
    {
     "name": "stderr",
     "output_type": "stream",
     "text": [
      "\n",
      "Epoch 29/50:  99%|█████████▊| 200/203 [00:15<00:00, 14.95img/s]"
     ]
    },
    {
     "name": "stdout",
     "output_type": "stream",
     "text": [
      "***\n",
      "Unet Loss: 0.16993513703346252     Segnet Loss: 0.04012959823012352     Enet Loss: 0.25334638357162476\n",
      "Voting Loss: 0.15447037294507027\n"
     ]
    },
    {
     "name": "stderr",
     "output_type": "stream",
     "text": [
      "Epoch 29/50:  99%|█████████▊| 200/203 [00:19<00:00, 10.36img/s]"
     ]
    },
    {
     "name": "stdout",
     "output_type": "stream",
     "text": [
      "---\n",
      "Unet Validation Dice Score: 0.9081660509109497     Segnet Validation Dice Score: 0.9243877530097961     Enet Validation Dice Score: 0.8686826825141907\n",
      "---\n",
      "Ensemble Voting Validation Dice Loss: 0.21824294328689575\n",
      "Ensemble Voting Validation Pixel Accuracy: 0.9688450328090734 \n",
      "Ensemble Voting Validation MIoU: 0.88992514210643\n",
      "Ensemble Voting Validation Dice Score: 0.9224111437797546 \n"
     ]
    },
    {
     "name": "stderr",
     "output_type": "stream",
     "text": [
      "\n",
      "Epoch 30/50:  99%|█████████▊| 200/203 [00:15<00:00, 14.91img/s]"
     ]
    },
    {
     "name": "stdout",
     "output_type": "stream",
     "text": [
      "***\n",
      "Unet Loss: 0.1712721288204193     Segnet Loss: 0.038474708795547485     Enet Loss: 0.1682664453983307\n",
      "Voting Loss: 0.1260044276714325\n"
     ]
    },
    {
     "name": "stderr",
     "output_type": "stream",
     "text": [
      "Epoch 30/50:  99%|█████████▊| 200/203 [00:19<00:00, 10.35img/s]"
     ]
    },
    {
     "name": "stdout",
     "output_type": "stream",
     "text": [
      "---\n",
      "Unet Validation Dice Score: 0.9079797863960266     Segnet Validation Dice Score: 0.9229715466499329     Enet Validation Dice Score: 0.8812547922134399\n",
      "---\n",
      "Ensemble Voting Validation Dice Loss: 0.2149962584177653\n",
      "Ensemble Voting Validation Pixel Accuracy: 0.9686000890899122 \n",
      "Ensemble Voting Validation MIoU: 0.8904881295943141\n",
      "Ensemble Voting Validation Dice Score: 0.9216905832290649 \n"
     ]
    },
    {
     "name": "stderr",
     "output_type": "stream",
     "text": [
      "\n",
      "Epoch 31/50:  99%|█████████▊| 200/203 [00:15<00:00, 14.98img/s]"
     ]
    },
    {
     "name": "stdout",
     "output_type": "stream",
     "text": [
      "***\n",
      "Unet Loss: 0.20091581344604492     Segnet Loss: 0.03559248149394989     Enet Loss: 0.17734366655349731\n",
      "Voting Loss: 0.13795065383116403\n"
     ]
    },
    {
     "name": "stderr",
     "output_type": "stream",
     "text": [
      "Epoch 31/50:  99%|█████████▊| 200/203 [00:19<00:00, 10.32img/s]"
     ]
    },
    {
     "name": "stdout",
     "output_type": "stream",
     "text": [
      "---\n",
      "Unet Validation Dice Score: 0.9089375734329224     Segnet Validation Dice Score: 0.9209975600242615     Enet Validation Dice Score: 0.8842865824699402\n",
      "---\n",
      "Ensemble Voting Validation Dice Loss: 0.22049087285995483\n",
      "Ensemble Voting Validation Pixel Accuracy: 0.9660641854269463 \n",
      "Ensemble Voting Validation MIoU: 0.8829349081296602\n",
      "Ensemble Voting Validation Dice Score: 0.9221125841140747 \n"
     ]
    },
    {
     "name": "stderr",
     "output_type": "stream",
     "text": [
      "\n",
      "Epoch 32/50:  99%|█████████▊| 200/203 [00:15<00:00, 14.98img/s]"
     ]
    },
    {
     "name": "stdout",
     "output_type": "stream",
     "text": [
      "***\n",
      "Unet Loss: 0.18186312913894653     Segnet Loss: 0.03971273452043533     Enet Loss: 0.15489104390144348\n",
      "Voting Loss: 0.12548896918694177\n"
     ]
    },
    {
     "name": "stderr",
     "output_type": "stream",
     "text": [
      "Epoch 32/50:  99%|█████████▊| 200/203 [00:19<00:00, 10.33img/s]"
     ]
    },
    {
     "name": "stdout",
     "output_type": "stream",
     "text": [
      "---\n",
      "Unet Validation Dice Score: 0.9087454080581665     Segnet Validation Dice Score: 0.9226356744766235     Enet Validation Dice Score: 0.8698428273200989\n",
      "---\n",
      "Ensemble Voting Validation Dice Loss: 0.2167002558708191\n",
      "Ensemble Voting Validation Pixel Accuracy: 0.9683326587342379 \n",
      "Ensemble Voting Validation MIoU: 0.8896964394865259\n",
      "Ensemble Voting Validation Dice Score: 0.9235429167747498 \n"
     ]
    },
    {
     "name": "stderr",
     "output_type": "stream",
     "text": [
      "\n",
      "Epoch 33/50:  99%|█████████▊| 200/203 [00:15<00:00, 14.96img/s]"
     ]
    },
    {
     "name": "stdout",
     "output_type": "stream",
     "text": [
      "***\n",
      "Unet Loss: 0.2221628874540329     Segnet Loss: 0.048698585480451584     Enet Loss: 0.23656243085861206\n",
      "Voting Loss: 0.16914130126436552\n"
     ]
    },
    {
     "name": "stderr",
     "output_type": "stream",
     "text": [
      "Epoch 33/50:  99%|█████████▊| 200/203 [00:19<00:00, 10.50img/s]"
     ]
    },
    {
     "name": "stdout",
     "output_type": "stream",
     "text": [
      "---\n",
      "Unet Validation Dice Score: 0.9080867171287537     Segnet Validation Dice Score: 0.9219218492507935     Enet Validation Dice Score: 0.8776060938835144\n",
      "---\n",
      "Ensemble Voting Validation Dice Loss: 0.21185354391733804\n",
      "Ensemble Voting Validation Pixel Accuracy: 0.969629120408443 \n",
      "Ensemble Voting Validation MIoU: 0.893033759707214\n",
      "Ensemble Voting Validation Dice Score: 0.9211350679397583 \n"
     ]
    },
    {
     "name": "stderr",
     "output_type": "stream",
     "text": [
      "\n",
      "Epoch 34/50:  99%|█████████▊| 200/203 [00:15<00:00, 14.70img/s]"
     ]
    },
    {
     "name": "stdout",
     "output_type": "stream",
     "text": [
      "***\n",
      "Unet Loss: 0.18896690011024475     Segnet Loss: 0.042875777930021286     Enet Loss: 0.21039684116840363\n",
      "Voting Loss: 0.14741317306955656\n"
     ]
    },
    {
     "name": "stderr",
     "output_type": "stream",
     "text": [
      "Epoch 34/50:  99%|█████████▊| 200/203 [00:19<00:00, 10.31img/s]"
     ]
    },
    {
     "name": "stdout",
     "output_type": "stream",
     "text": [
      "---\n",
      "Unet Validation Dice Score: 0.908134400844574     Segnet Validation Dice Score: 0.9220096468925476     Enet Validation Dice Score: 0.8806455731391907\n",
      "---\n",
      "Ensemble Voting Validation Dice Loss: 0.21336285273234049\n",
      "Ensemble Voting Validation Pixel Accuracy: 0.9677115992495888 \n",
      "Ensemble Voting Validation MIoU: 0.8882361627754529\n",
      "Ensemble Voting Validation Dice Score: 0.9206531643867493 \n"
     ]
    },
    {
     "name": "stderr",
     "output_type": "stream",
     "text": [
      "\n",
      "Epoch 35/50:  99%|█████████▊| 200/203 [00:15<00:00, 14.93img/s]"
     ]
    },
    {
     "name": "stdout",
     "output_type": "stream",
     "text": [
      "***\n",
      "Unet Loss: 0.17931267619132996     Segnet Loss: 0.035131603479385376     Enet Loss: 0.19708730280399323\n",
      "Voting Loss: 0.13717719415823618\n"
     ]
    },
    {
     "name": "stderr",
     "output_type": "stream",
     "text": [
      "Epoch 35/50:  99%|█████████▊| 200/203 [00:19<00:00, 10.34img/s]"
     ]
    },
    {
     "name": "stdout",
     "output_type": "stream",
     "text": [
      "---\n",
      "Unet Validation Dice Score: 0.9073023796081543     Segnet Validation Dice Score: 0.9195175170898438     Enet Validation Dice Score: 0.8834156394004822\n",
      "---\n",
      "Ensemble Voting Validation Dice Loss: 0.22035332520802817\n",
      "Ensemble Voting Validation Pixel Accuracy: 0.9645958616022479 \n",
      "Ensemble Voting Validation MIoU: 0.8792640649254497\n",
      "Ensemble Voting Validation Dice Score: 0.9187130928039551 \n"
     ]
    },
    {
     "name": "stderr",
     "output_type": "stream",
     "text": [
      "\n",
      "Epoch 36/50:  99%|█████████▊| 200/203 [00:15<00:00, 14.89img/s]"
     ]
    },
    {
     "name": "stdout",
     "output_type": "stream",
     "text": [
      "***\n",
      "Unet Loss: 0.17668715119361877     Segnet Loss: 0.03861253708600998     Enet Loss: 0.13085268437862396\n",
      "Voting Loss: 0.11538412421941757\n"
     ]
    },
    {
     "name": "stderr",
     "output_type": "stream",
     "text": [
      "Epoch 36/50:  99%|█████████▊| 200/203 [00:19<00:00, 10.46img/s]"
     ]
    },
    {
     "name": "stdout",
     "output_type": "stream",
     "text": [
      "---\n",
      "Unet Validation Dice Score: 0.908627986907959     Segnet Validation Dice Score: 0.9246292114257812     Enet Validation Dice Score: 0.8859183192253113\n",
      "---\n",
      "Ensemble Voting Validation Dice Loss: 0.20946113268534342\n",
      "Ensemble Voting Validation Pixel Accuracy: 0.9682959841008771 \n",
      "Ensemble Voting Validation MIoU: 0.8890976935163099\n",
      "Ensemble Voting Validation Dice Score: 0.9241858720779419 \n"
     ]
    },
    {
     "name": "stderr",
     "output_type": "stream",
     "text": [
      "\n",
      "Epoch 37/50:  99%|█████████▊| 200/203 [00:15<00:00, 14.86img/s]"
     ]
    },
    {
     "name": "stdout",
     "output_type": "stream",
     "text": [
      "***\n",
      "Unet Loss: 0.1649940460920334     Segnet Loss: 0.038198329508304596     Enet Loss: 0.1557784229516983\n",
      "Voting Loss: 0.11965693285067876\n"
     ]
    },
    {
     "name": "stderr",
     "output_type": "stream",
     "text": [
      "Epoch 37/50:  99%|█████████▊| 200/203 [00:19<00:00, 10.43img/s]"
     ]
    },
    {
     "name": "stdout",
     "output_type": "stream",
     "text": [
      "---\n",
      "Unet Validation Dice Score: 0.9090892672538757     Segnet Validation Dice Score: 0.9250942468643188     Enet Validation Dice Score: 0.885426938533783\n",
      "---\n",
      "Ensemble Voting Validation Dice Loss: 0.20735963185628256\n",
      "Ensemble Voting Validation Pixel Accuracy: 0.9697549384936952 \n",
      "Ensemble Voting Validation MIoU: 0.8934036064186444\n",
      "Ensemble Voting Validation Dice Score: 0.9249064326286316 \n"
     ]
    },
    {
     "name": "stderr",
     "output_type": "stream",
     "text": [
      "\n",
      "Epoch 38/50:  99%|█████████▊| 200/203 [00:15<00:00, 14.69img/s]"
     ]
    },
    {
     "name": "stdout",
     "output_type": "stream",
     "text": [
      "***\n",
      "Unet Loss: 0.16690748929977417     Segnet Loss: 0.04185761511325836     Enet Loss: 0.1894949972629547\n",
      "Voting Loss: 0.13275336722532907\n"
     ]
    },
    {
     "name": "stderr",
     "output_type": "stream",
     "text": [
      "Epoch 38/50:  99%|█████████▊| 200/203 [00:19<00:00, 10.31img/s]"
     ]
    },
    {
     "name": "stdout",
     "output_type": "stream",
     "text": [
      "---\n",
      "Unet Validation Dice Score: 0.9082900285720825     Segnet Validation Dice Score: 0.9241682887077332     Enet Validation Dice Score: 0.8853241801261902\n",
      "---\n",
      "Ensemble Voting Validation Dice Loss: 0.2083651622136434\n",
      "Ensemble Voting Validation Pixel Accuracy: 0.9691469962136787 \n",
      "Ensemble Voting Validation MIoU: 0.8917747598421191\n",
      "Ensemble Voting Validation Dice Score: 0.9234828948974609 \n"
     ]
    },
    {
     "name": "stderr",
     "output_type": "stream",
     "text": [
      "\n",
      "Epoch 39/50:  99%|█████████▊| 200/203 [00:15<00:00, 14.93img/s]"
     ]
    },
    {
     "name": "stdout",
     "output_type": "stream",
     "text": [
      "***\n",
      "Unet Loss: 0.2015189677476883     Segnet Loss: 0.04175694286823273     Enet Loss: 0.1842753291130066\n",
      "Voting Loss: 0.14251707990964255\n"
     ]
    },
    {
     "name": "stderr",
     "output_type": "stream",
     "text": [
      "Epoch 39/50:  99%|█████████▊| 200/203 [00:19<00:00, 10.24img/s]"
     ]
    },
    {
     "name": "stdout",
     "output_type": "stream",
     "text": [
      "---\n",
      "Unet Validation Dice Score: 0.9083303809165955     Segnet Validation Dice Score: 0.921676754951477     Enet Validation Dice Score: 0.8872225880622864\n",
      "---\n",
      "Ensemble Voting Validation Dice Loss: 0.21322911977767944\n",
      "Ensemble Voting Validation Pixel Accuracy: 0.967049849660773 \n",
      "Ensemble Voting Validation MIoU: 0.8860935256371791\n",
      "Ensemble Voting Validation Dice Score: 0.9220083355903625 \n"
     ]
    },
    {
     "name": "stderr",
     "output_type": "stream",
     "text": [
      "\n",
      "Epoch 40/50:  99%|█████████▊| 200/203 [00:15<00:00, 14.88img/s]"
     ]
    },
    {
     "name": "stdout",
     "output_type": "stream",
     "text": [
      "***\n",
      "Unet Loss: 0.21254447102546692     Segnet Loss: 0.04371725022792816     Enet Loss: 0.1988925039768219\n",
      "Voting Loss: 0.15171807507673898\n"
     ]
    },
    {
     "name": "stderr",
     "output_type": "stream",
     "text": [
      "Epoch 40/50:  99%|█████████▊| 200/203 [00:19<00:00, 10.40img/s]"
     ]
    },
    {
     "name": "stdout",
     "output_type": "stream",
     "text": [
      "---\n",
      "Unet Validation Dice Score: 0.9078087210655212     Segnet Validation Dice Score: 0.917970597743988     Enet Validation Dice Score: 0.887403130531311\n",
      "---\n",
      "Ensemble Voting Validation Dice Loss: 0.21967198451360068\n",
      "Ensemble Voting Validation Pixel Accuracy: 0.965458117033306 \n",
      "Ensemble Voting Validation MIoU: 0.8817028154803496\n",
      "Ensemble Voting Validation Dice Score: 0.919598400592804 \n"
     ]
    },
    {
     "name": "stderr",
     "output_type": "stream",
     "text": [
      "\n",
      "Epoch 41/50:  99%|█████████▊| 200/203 [00:15<00:00, 14.89img/s]"
     ]
    },
    {
     "name": "stdout",
     "output_type": "stream",
     "text": [
      "***\n",
      "Unet Loss: 0.20545347034931183     Segnet Loss: 0.04457271844148636     Enet Loss: 0.14324039220809937\n",
      "Voting Loss: 0.13108886033296585\n"
     ]
    },
    {
     "name": "stderr",
     "output_type": "stream",
     "text": [
      "Epoch 41/50:  99%|█████████▊| 200/203 [00:19<00:00, 10.28img/s]"
     ]
    },
    {
     "name": "stdout",
     "output_type": "stream",
     "text": [
      "---\n",
      "Unet Validation Dice Score: 0.9080954790115356     Segnet Validation Dice Score: 0.9201210141181946     Enet Validation Dice Score: 0.886813759803772\n",
      "---\n",
      "Ensemble Voting Validation Dice Loss: 0.21168979008992514\n",
      "Ensemble Voting Validation Pixel Accuracy: 0.9670798318427906 \n",
      "Ensemble Voting Validation MIoU: 0.8859957064483273\n",
      "Ensemble Voting Validation Dice Score: 0.9211035966873169 \n"
     ]
    },
    {
     "name": "stderr",
     "output_type": "stream",
     "text": [
      "\n",
      "Epoch 42/50:  99%|█████████▊| 200/203 [00:15<00:00, 14.83img/s]"
     ]
    },
    {
     "name": "stdout",
     "output_type": "stream",
     "text": [
      "***\n",
      "Unet Loss: 0.17521202564239502     Segnet Loss: 0.03968343138694763     Enet Loss: 0.14917558431625366\n",
      "Voting Loss: 0.12135701378186543\n"
     ]
    },
    {
     "name": "stderr",
     "output_type": "stream",
     "text": [
      "Epoch 42/50:  99%|█████████▊| 200/203 [00:19<00:00, 10.23img/s]"
     ]
    },
    {
     "name": "stdout",
     "output_type": "stream",
     "text": [
      "---\n",
      "Unet Validation Dice Score: 0.9087535738945007     Segnet Validation Dice Score: 0.9257017374038696     Enet Validation Dice Score: 0.8875703811645508\n",
      "---\n",
      "Ensemble Voting Validation Dice Loss: 0.20136471589406332\n",
      "Ensemble Voting Validation Pixel Accuracy: 0.9707288240131579 \n",
      "Ensemble Voting Validation MIoU: 0.8962845406260271\n",
      "Ensemble Voting Validation Dice Score: 0.9250310063362122 \n"
     ]
    },
    {
     "name": "stderr",
     "output_type": "stream",
     "text": [
      "\n",
      "Epoch 43/50:  99%|█████████▊| 200/203 [00:15<00:00, 15.14img/s]"
     ]
    },
    {
     "name": "stdout",
     "output_type": "stream",
     "text": [
      "***\n",
      "Unet Loss: 0.1720028519630432     Segnet Loss: 0.031205741688609123     Enet Loss: 0.12994661927223206\n",
      "Voting Loss: 0.11105173764129479\n"
     ]
    },
    {
     "name": "stderr",
     "output_type": "stream",
     "text": [
      "Epoch 43/50:  99%|█████████▊| 200/203 [00:18<00:00, 10.59img/s]"
     ]
    },
    {
     "name": "stdout",
     "output_type": "stream",
     "text": [
      "---\n",
      "Unet Validation Dice Score: 0.9083592295646667     Segnet Validation Dice Score: 0.9229200482368469     Enet Validation Dice Score: 0.8879932761192322\n",
      "---\n",
      "Ensemble Voting Validation Dice Loss: 0.2124127745628357\n",
      "Ensemble Voting Validation Pixel Accuracy: 0.9669208191988761 \n",
      "Ensemble Voting Validation MIoU: 0.8857031174478053\n",
      "Ensemble Voting Validation Dice Score: 0.9229766726493835 \n"
     ]
    },
    {
     "name": "stderr",
     "output_type": "stream",
     "text": [
      "\n",
      "Epoch 44/50:  99%|█████████▊| 200/203 [00:15<00:00, 14.91img/s]"
     ]
    },
    {
     "name": "stdout",
     "output_type": "stream",
     "text": [
      "***\n",
      "Unet Loss: 0.175507053732872     Segnet Loss: 0.03608915954828262     Enet Loss: 0.14262335002422333\n",
      "Voting Loss: 0.11807318776845932\n"
     ]
    },
    {
     "name": "stderr",
     "output_type": "stream",
     "text": [
      "Epoch 44/50:  99%|█████████▊| 200/203 [00:19<00:00, 10.29img/s]"
     ]
    },
    {
     "name": "stdout",
     "output_type": "stream",
     "text": [
      "---\n",
      "Unet Validation Dice Score: 0.9088355302810669     Segnet Validation Dice Score: 0.9211030006408691     Enet Validation Dice Score: 0.8882083296775818\n",
      "---\n",
      "Ensemble Voting Validation Dice Loss: 0.20850984255472818\n",
      "Ensemble Voting Validation Pixel Accuracy: 0.9689191851699561 \n",
      "Ensemble Voting Validation MIoU: 0.8916010499071627\n",
      "Ensemble Voting Validation Dice Score: 0.9225766062736511 \n"
     ]
    },
    {
     "name": "stderr",
     "output_type": "stream",
     "text": [
      "\n",
      "Epoch 45/50:  99%|█████████▊| 200/203 [00:15<00:00, 14.80img/s]"
     ]
    },
    {
     "name": "stdout",
     "output_type": "stream",
     "text": [
      "***\n",
      "Unet Loss: 0.20860883593559265     Segnet Loss: 0.03989657014608383     Enet Loss: 0.170157328248024\n",
      "Voting Loss: 0.13955424477656683\n"
     ]
    },
    {
     "name": "stderr",
     "output_type": "stream",
     "text": [
      "Epoch 45/50:  99%|█████████▊| 200/203 [00:19<00:00, 10.34img/s]"
     ]
    },
    {
     "name": "stdout",
     "output_type": "stream",
     "text": [
      "---\n",
      "Unet Validation Dice Score: 0.9083966612815857     Segnet Validation Dice Score: 0.9166985750198364     Enet Validation Dice Score: 0.8885923624038696\n",
      "---\n",
      "Ensemble Voting Validation Dice Loss: 0.22130954265594482\n",
      "Ensemble Voting Validation Pixel Accuracy: 0.9640588593064693 \n",
      "Ensemble Voting Validation MIoU: 0.8780600784583097\n",
      "Ensemble Voting Validation Dice Score: 0.9194950461387634 \n"
     ]
    },
    {
     "name": "stderr",
     "output_type": "stream",
     "text": [
      "\n",
      "Epoch 46/50:  99%|█████████▊| 200/203 [00:15<00:00, 15.00img/s]"
     ]
    },
    {
     "name": "stdout",
     "output_type": "stream",
     "text": [
      "***\n",
      "Unet Loss: 0.1690027266740799     Segnet Loss: 0.029129447415471077     Enet Loss: 0.13697399199008942\n",
      "Voting Loss: 0.11170205535988013\n"
     ]
    },
    {
     "name": "stderr",
     "output_type": "stream",
     "text": [
      "Epoch 46/50:  99%|█████████▊| 200/203 [00:19<00:00, 10.39img/s]"
     ]
    },
    {
     "name": "stdout",
     "output_type": "stream",
     "text": [
      "---\n",
      "Unet Validation Dice Score: 0.9090179800987244     Segnet Validation Dice Score: 0.9240644574165344     Enet Validation Dice Score: 0.8885380029678345\n",
      "---\n",
      "Ensemble Voting Validation Dice Loss: 0.21091437339782715\n",
      "Ensemble Voting Validation Pixel Accuracy: 0.9669425027412281 \n",
      "Ensemble Voting Validation MIoU: 0.8854033795670182\n",
      "Ensemble Voting Validation Dice Score: 0.9243538975715637 \n"
     ]
    },
    {
     "name": "stderr",
     "output_type": "stream",
     "text": [
      "\n",
      "Epoch 47/50:  99%|█████████▊| 200/203 [00:15<00:00, 14.97img/s]"
     ]
    },
    {
     "name": "stdout",
     "output_type": "stream",
     "text": [
      "***\n",
      "Unet Loss: 0.1817907840013504     Segnet Loss: 0.03507164865732193     Enet Loss: 0.18137118220329285\n",
      "Voting Loss: 0.13274453828732172\n"
     ]
    },
    {
     "name": "stderr",
     "output_type": "stream",
     "text": [
      "Epoch 47/50:  99%|█████████▊| 200/203 [00:19<00:00, 10.35img/s]"
     ]
    },
    {
     "name": "stdout",
     "output_type": "stream",
     "text": [
      "---\n",
      "Unet Validation Dice Score: 0.908054769039154     Segnet Validation Dice Score: 0.9227630496025085     Enet Validation Dice Score: 0.8887447714805603\n",
      "---\n",
      "Ensemble Voting Validation Dice Loss: 0.2093103528022766\n",
      "Ensemble Voting Validation Pixel Accuracy: 0.967687774122807 \n",
      "Ensemble Voting Validation MIoU: 0.8878581734137861\n",
      "Ensemble Voting Validation Dice Score: 0.9226608276367188 \n"
     ]
    },
    {
     "name": "stderr",
     "output_type": "stream",
     "text": [
      "\n",
      "Epoch 48/50:  99%|█████████▊| 200/203 [00:15<00:00, 14.75img/s]"
     ]
    },
    {
     "name": "stdout",
     "output_type": "stream",
     "text": [
      "***\n",
      "Unet Loss: 0.19184094667434692     Segnet Loss: 0.04095745086669922     Enet Loss: 0.2311490923166275\n",
      "Voting Loss: 0.1546491632858912\n"
     ]
    },
    {
     "name": "stderr",
     "output_type": "stream",
     "text": [
      "Epoch 48/50:  99%|█████████▊| 200/203 [00:19<00:00, 10.30img/s]"
     ]
    },
    {
     "name": "stdout",
     "output_type": "stream",
     "text": [
      "---\n",
      "Unet Validation Dice Score: 0.908134937286377     Segnet Validation Dice Score: 0.9204615950584412     Enet Validation Dice Score: 0.889295220375061\n",
      "---\n",
      "Ensemble Voting Validation Dice Loss: 0.21672932306925455\n",
      "Ensemble Voting Validation Pixel Accuracy: 0.9653411329838267 \n",
      "Ensemble Voting Validation MIoU: 0.8813617665306934\n",
      "Ensemble Voting Validation Dice Score: 0.9222826957702637 \n"
     ]
    },
    {
     "name": "stderr",
     "output_type": "stream",
     "text": [
      "\n",
      "Epoch 49/50:  99%|█████████▊| 200/203 [00:15<00:00, 14.97img/s]"
     ]
    },
    {
     "name": "stdout",
     "output_type": "stream",
     "text": [
      "***\n",
      "Unet Loss: 0.1704590916633606     Segnet Loss: 0.03257577866315842     Enet Loss: 0.14523406326770782\n",
      "Voting Loss: 0.11608964453140895\n"
     ]
    },
    {
     "name": "stderr",
     "output_type": "stream",
     "text": [
      "Epoch 49/50:  99%|█████████▊| 200/203 [00:19<00:00, 10.42img/s]"
     ]
    },
    {
     "name": "stdout",
     "output_type": "stream",
     "text": [
      "---\n",
      "Unet Validation Dice Score: 0.907904326915741     Segnet Validation Dice Score: 0.9213061332702637     Enet Validation Dice Score: 0.8888160586357117\n",
      "---\n",
      "Ensemble Voting Validation Dice Loss: 0.21404163042704263\n",
      "Ensemble Voting Validation Pixel Accuracy: 0.9667090700383771 \n",
      "Ensemble Voting Validation MIoU: 0.8852041021733348\n",
      "Ensemble Voting Validation Dice Score: 0.9213714599609375 \n"
     ]
    },
    {
     "name": "stderr",
     "output_type": "stream",
     "text": [
      "\n",
      "Epoch 50/50:  99%|█████████▊| 200/203 [00:15<00:00, 14.87img/s]"
     ]
    },
    {
     "name": "stdout",
     "output_type": "stream",
     "text": [
      "***\n",
      "Unet Loss: 0.18924178183078766     Segnet Loss: 0.0314299538731575     Enet Loss: 0.12899872660636902\n",
      "Voting Loss: 0.11655682077010472\n"
     ]
    },
    {
     "name": "stderr",
     "output_type": "stream",
     "text": [
      "Epoch 50/50:  99%|█████████▊| 200/203 [00:19<00:00, 10.30img/s]"
     ]
    },
    {
     "name": "stdout",
     "output_type": "stream",
     "text": [
      "---\n",
      "Unet Validation Dice Score: 0.9088711738586426     Segnet Validation Dice Score: 0.9218169450759888     Enet Validation Dice Score: 0.8889431953430176\n",
      "---\n",
      "Ensemble Voting Validation Dice Loss: 0.21289618810017905\n",
      "Ensemble Voting Validation Pixel Accuracy: 0.9671261436060855 \n",
      "Ensemble Voting Validation MIoU: 0.8864979063980944\n",
      "Ensemble Voting Validation Dice Score: 0.9227690100669861 \n"
     ]
    },
    {
     "name": "stderr",
     "output_type": "stream",
     "text": [
      "\n"
     ]
    }
   ],
   "source": [
    "valScore_list1 = []\n",
    "TrainLoss_list1 = []\n",
    "\n",
    "valScore_list2 = []\n",
    "TrainLoss_list2 = []\n",
    "\n",
    "valScore_list3 = []\n",
    "TrainLoss_list3 = []\n",
    "\n",
    "valScore_list4 = []\n",
    "TrainLoss_list4 = []\n",
    "\n",
    "val_losses = []\n",
    "val_accs = []\n",
    "val_mious = []\n",
    "\n",
    "# 5. Begin training\n",
    "for epoch in range(1, epochs + 1):\n",
    "    model.train()\n",
    "    epoch_loss = 0\n",
    "    epoch_unet_loss = 0\n",
    "    epoch_segnet_loss = 0\n",
    "    epoch_enet_loss = 0\n",
    "    epoch_voting_loss = 0\n",
    "    \n",
    "    with tqdm(total=n_train, desc=f'Epoch {epoch}/{epochs}', unit='img') as pbar:\n",
    "        for batch in train_loader:\n",
    "            images, true_masks = batch['image'], batch['mask']\n",
    "\n",
    "            images = images.to(device=device, dtype=torch.float32, memory_format=torch.channels_last)\n",
    "            true_masks = true_masks.to(device=device, dtype=torch.long)\n",
    "\n",
    "                \n",
    "            result = forward_and_backward(model, images, true_masks, amp, optims, grad_scaler, Model_Name)\n",
    "            \n",
    "            if len(result) == 4:\n",
    "                model, unet_loss, segnet_loss, enet_loss = result\n",
    "                \n",
    "                pbar.update(images.shape[0])\n",
    "                global_step += 1\n",
    "                epoch_unet_loss += unet_loss.item()\n",
    "                epoch_segnet_loss += segnet_loss.item()\n",
    "                epoch_enet_loss += enet_loss.item()\n",
    "                vot_loss = ((unet_loss.item() + segnet_loss.item() + enet_loss.item()) /3)\n",
    "                epoch_voting_loss += vot_loss\n",
    "                \n",
    "                \n",
    "            elif len(result) == 2:\n",
    "                model, loss = result\n",
    "                \n",
    "                pbar.update(images.shape[0])\n",
    "                global_step += 1\n",
    "                epoch_loss += loss.item()\n",
    "\n",
    "\n",
    "        print('***')\n",
    "        if len(result) == 4:\n",
    "            print('Unet Loss: {}     Segnet Loss: {}     Enet Loss: {}'.format(unet_loss, segnet_loss, enet_loss))\n",
    "            print('Voting Loss: {}'.format(vot_loss))\n",
    "            \n",
    "            \n",
    "        elif len(result) == 2:\n",
    "            print('{} Loss: {}'.format(Model_Name, loss))\n",
    "\n",
    "        # Evaluation round\n",
    "        division_step = (n_train // (5 * batch_size))\n",
    "        if division_step > 0:\n",
    "            #if global_step % division_step == 0:\n",
    "            if len(result) == 4:\n",
    "                unet_val_score, segnet_val_score, enet_val_score, voting_val_score, val_loss, val_acc, val_miou = evaluate(model, val_loader, criterion, device, Model_Name, amp)\n",
    "                \n",
    "                unet_scheduler.step(unet_val_score)\n",
    "                segnet_scheduler.step(segnet_val_score)\n",
    "                enet_scheduler.step(enet_val_score)\n",
    "                #voting_scheduler.step(voting_val_score)\n",
    "                \n",
    "                valScore_list1.append(unet_val_score.cpu().detach().numpy())\n",
    "                TrainLoss_list1.append(unet_loss.cpu().detach().numpy())\n",
    "                valScore_list2.append(segnet_val_score.cpu().detach().numpy())\n",
    "                TrainLoss_list2.append(segnet_loss.cpu().detach().numpy())                \n",
    "                valScore_list3.append(enet_val_score.cpu().detach().numpy())\n",
    "                TrainLoss_list3.append(enet_loss.cpu().detach().numpy())\n",
    "                valScore_list4.append(voting_val_score.cpu().detach().numpy())\n",
    "                TrainLoss_list4.append(vot_loss)\n",
    "                \n",
    "                val_losses.append(val_loss)\n",
    "                val_accs.append(val_acc)\n",
    "                val_mious.append(val_miou)\n",
    "                \n",
    "                print('---')\n",
    "                print('Unet Validation Dice Score: {}     Segnet Validation Dice Score: {}     Enet Validation Dice Score: {}'.format(unet_val_score, segnet_val_score, enet_val_score))\n",
    "                print('---')\n",
    "                print('Ensemble Voting Validation Dice Loss: {}'.format(val_loss))\n",
    "                print('Ensemble Voting Validation Pixel Accuracy: {} '.format(val_acc))\n",
    "                print('Ensemble Voting Validation MIoU: {}'.format(val_miou))                \n",
    "                print('Ensemble Voting Validation Dice Score: {} '.format(voting_val_score))\n",
    "                \n",
    "            else:\n",
    "                val_score, val_loss, val_acc, val_miou = evaluate(model, val_loader, criterion, device, Model_Name, amp)\n",
    "                \n",
    "                                \n",
    "                scheduler.step(val_score)\n",
    "                \n",
    "                print('---')\n",
    "                print('{} Validation Dice Loss: {}'.format(Model_Name, val_loss))   \n",
    "                print('{} Validation Pixel Accuracy: {}'.format(Model_Name, val_acc))\n",
    "                print('{} Validation MIoU: {}'.format(Model_Name, val_miou))\n",
    "                print('{} Validation Dice Score: {}'.format(Model_Name, val_score))\n",
    "                \n",
    "            \n",
    "                valScore_list1.append(val_score.cpu().detach().numpy())\n",
    "                TrainLoss_list1.append(loss.cpu().detach().numpy())\n",
    "                val_losses.append(val_loss)\n",
    "                val_accs.append(val_acc)\n",
    "                val_mious.append(val_miou)\n",
    "\n",
    "        \n",
    "    if save_checkpoint:\n",
    "        Path(dir_checkpoint).mkdir(parents=True, exist_ok=True)\n",
    "        torch.save(model.state_dict(), str(dir_checkpoint / 'checkpoint_epoch{}.pth'.format(epoch + 1)))"
   ]
  },
  {
   "cell_type": "code",
   "execution_count": 14,
   "id": "232d4d6e-12ed-4b30-9b2e-7421289573ad",
   "metadata": {},
   "outputs": [],
   "source": [
    "import pandas as pd\n",
    "import matplotlib.pyplot as plt"
   ]
  },
  {
   "cell_type": "code",
   "execution_count": 15,
   "id": "5e7c3590-63c0-4ee6-bf67-25b012d008d7",
   "metadata": {},
   "outputs": [],
   "source": [
    "df = pd.DataFrame([TrainLoss_list1, val_losses, valScore_list1, val_accs, val_mious]).T\n",
    "df.columns = ['train_loss', 'val_loss', 'val_score', 'val_acc', 'val_miou']\n",
    "df.to_csv(checkpoint_dir + '/model_check.csv', encoding = 'UTF-8')"
   ]
  },
  {
   "cell_type": "code",
   "execution_count": 16,
   "id": "e02024f4-5520-4e80-b5e2-1c0f7d4ad10c",
   "metadata": {},
   "outputs": [
    {
     "data": {
      "text/plain": [
       "[<matplotlib.lines.Line2D at 0x7f8fea821c10>]"
      ]
     },
     "execution_count": 16,
     "metadata": {},
     "output_type": "execute_result"
    },
    {
     "data": {
      "image/png": "[encoded data removed]",
      "text/plain": [
       "<Figure size 1000x500 with 1 Axes>"
      ]
     },
     "metadata": {},
     "output_type": "display_data"
    }
   ],
   "source": [
    "plt.figure(figsize= (10,5))\n",
    "plt.plot(TrainLoss_list1)\n",
    "plt.plot(val_losses)"
   ]
  },
  {
   "cell_type": "code",
   "execution_count": 17,
   "id": "0af788b9-1d94-4072-af4f-5c83165b18fc",
   "metadata": {},
   "outputs": [
    {
     "data": {
      "text/plain": [
       "[<matplotlib.lines.Line2D at 0x7f8fea7b3550>]"
      ]
     },
     "execution_count": 17,
     "metadata": {},
     "output_type": "execute_result"
    },
    {
     "data": {
      "image/png": "[encoded data removed]",
      "text/plain": [
       "<Figure size 1000x500 with 1 Axes>"
      ]
     },
     "metadata": {},
     "output_type": "display_data"
    }
   ],
   "source": [
    "plt.figure(figsize= (10,5))\n",
    "plt.plot(valScore_list1)\n",
    "plt.plot(val_accs)\n",
    "plt.plot(val_mious)"
   ]
  },
  {
   "cell_type": "code",
   "execution_count": null,
   "id": "4795b565-b90f-424f-8455-52d43ad2e5ec",
   "metadata": {},
   "outputs": [],
   "source": []
  }
 ],
 "metadata": {
  "kernelspec": {
   "display_name": "ksh",
   "language": "python",
   "name": "ksh"
  },
  "language_info": {
   "codemirror_mode": {
    "name": "ipython",
    "version": 3
   },
   "file_extension": ".py",
   "mimetype": "text/x-python",
   "name": "python",
   "nbconvert_exporter": "python",
   "pygments_lexer": "ipython3",
   "version": "3.7.16"
  }
 },
 "nbformat": 4,
 "nbformat_minor": 5
}
