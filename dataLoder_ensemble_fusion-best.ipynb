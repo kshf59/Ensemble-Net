{
 "cells": [
  {
   "cell_type": "code",
   "execution_count": 1,
   "id": "5f271b9d-c9a3-41c5-a2e5-cd21dc79d5b6",
   "metadata": {
    "tags": []
   },
   "outputs": [],
   "source": [
    "import numpy as np\n",
    "from pathlib import Path\n",
    "from PIL import Image\n",
    "from torch.utils.data import DataLoader, random_split\n",
    "import torch\n",
    "from torch import optim\n",
    "import torch.nn as nn\n",
    "from tqdm import tqdm\n",
    "import torch.nn.functional as F\n",
    "import logging\n",
    "from evaluate import evaluate\n",
    "\n",
    "import os\n",
    "import albumentations as A\n",
    "from albumentations.pytorch import ToTensorV2\n",
    "from collections import OrderedDict\n",
    "\n",
    "from model.ensemblenet_model import EnsembleNet\n",
    "\n",
    "\n",
    "from utils.dice_score import dice_loss\n",
    "from utils.data_load import KittiDataset\n",
    "from torchsummaryX import summary"
   ]
  },
  {
   "cell_type": "code",
   "execution_count": 2,
   "id": "64ae7ca9",
   "metadata": {
    "tags": []
   },
   "outputs": [],
   "source": [
    "Val_Percent = 0.3\n",
    "Scale_Percent = 1.0\n",
    "Batch_Size = 8\n",
    "learning_rate = 0.0001\n",
    "Pin_Memory = False\n",
    "epochs = 50\n",
    "\n",
    "\n",
    "Image_Size = [384, 1216]\n",
    "Gradient_Clipping = 0.8\n",
    "\n",
    "\n",
    "Num_Class = 2\n",
    "Num_Channel = 3\n",
    "amp = True\n",
    "\n",
    "Model_Name = 'ensemble_fusion'\n",
    "\n",
    "\n",
    "Img_Path =  'data/data_road/training/image_2'\n",
    "Mask_Path =  'data/data_road/training/semantic'\n",
    "\n",
    "save_checkpoint = True\n",
    "checkpoint_dir = '../trained' + '_' + Model_Name\n",
    "batch_size = Batch_Size"
   ]
  },
  {
   "cell_type": "code",
   "execution_count": 3,
   "id": "567f8440",
   "metadata": {
    "tags": []
   },
   "outputs": [],
   "source": [
    "dirImg = Path(Img_Path)\n",
    "dirMask = Path(Mask_Path)\n",
    "dir_checkpoint = Path(checkpoint_dir)"
   ]
  },
  {
   "cell_type": "code",
   "execution_count": 4,
   "id": "8e8e3825-8747-4f49-b3ee-eac27522ded2",
   "metadata": {},
   "outputs": [],
   "source": [
    "device = torch.device('cuda' if torch.cuda.is_available() else 'cpu')"
   ]
  },
  {
   "cell_type": "code",
   "execution_count": 5,
   "id": "9a4a35b2-bc69-49e4-b17c-e850f278473d",
   "metadata": {},
   "outputs": [
    {
     "name": "stderr",
     "output_type": "stream",
     "text": [
      "100%|██████████| 289/289 [00:00<00:00, 790.20it/s]\n"
     ]
    }
   ],
   "source": [
    "datasets =  KittiDataset(dirImg, dirMask, Image_Size, Scale_Percent)\n",
    "n_val = int(len(datasets) * Val_Percent)\n",
    "n_train = len(datasets) - n_val\n",
    "train_set, val_set = random_split(datasets, [n_train, n_val], generator=torch.Generator().manual_seed(0))\n",
    "\n",
    "loader_args = dict(batch_size=Batch_Size, num_workers= os.cpu_count(), pin_memory=Pin_Memory)\n",
    "train_loader = DataLoader(train_set, shuffle=True, drop_last = True, **loader_args)\n",
    "val_loader = DataLoader(val_set, shuffle=False, drop_last=True, **loader_args)"
   ]
  },
  {
   "cell_type": "code",
   "execution_count": 6,
   "id": "95b36f40-c709-4e1e-b4f6-66a1954edfd8",
   "metadata": {},
   "outputs": [],
   "source": [
    "model = EnsembleNet(Model_Name, Num_Channel, Num_Class)\n",
    "model = model.to(memory_format=torch.channels_last, device = device)"
   ]
  },
  {
   "cell_type": "code",
   "execution_count": 7,
   "id": "4a29bc96",
   "metadata": {
    "tags": []
   },
   "outputs": [],
   "source": [
    "# 4. Set up the optimizer, the loss, the learning rate scheduler and the loss scaling for AMP\n",
    "#optimizer = optim.RMSprop(model.parameters(), lr=learning_rate, weight_decay=1e-8, momentum=0.9)\n",
    "#optimizer = optim.SGD(model.parameters(), lr=learning_rate, weight_decay=1e-8, momentum=0.9)\n",
    "\n",
    "if 'ensemble_voting' in Model_Name:\n",
    "    unet_optimizer = optim.Adam(model.parameters(), lr=learning_rate, weight_decay=1e-8)\n",
    "    segnet_optimizer = optim.Adam(model.parameters(), lr=learning_rate, weight_decay=1e-8)\n",
    "    enet_optimizer = optim.Adam(model.parameters(), lr=learning_rate, weight_decay=1e-8)\n",
    "    optims = [unet_optimizer, segnet_optimizer, enet_optimizer]\n",
    "    \n",
    "    unet_scheduler = optim.lr_scheduler.ReduceLROnPlateau(unet_optimizer, 'max', patience=2)  # goal: maximize Dice score\n",
    "    segnet_scheduler = optim.lr_scheduler.ReduceLROnPlateau(segnet_optimizer, 'max', patience=2)  # goal: maximize Dice score\n",
    "    enet_scheduler = optim.lr_scheduler.ReduceLROnPlateau(enet_optimizer, 'max', patience=2)  # goal: maximize Dice score\n",
    "       \n",
    "else:\n",
    "    optimizer = optim.Adam(model.parameters(), lr=learning_rate, weight_decay=1e-10)\n",
    "    #optimizer = optim.RMSprop(model.parameters(), lr=learning_rate, weight_decay=1e-10)\n",
    "    optims = [optimizer]\n",
    "    \n",
    "    scheduler = optim.lr_scheduler.ReduceLROnPlateau(optimizer, 'max', patience=2)  # goal: maximize Dice score\n",
    "\n",
    "grad_scaler = torch.cuda.amp.GradScaler(enabled=amp)\n",
    "criterion = nn.CrossEntropyLoss()\n",
    "global_step = 0"
   ]
  },
  {
   "cell_type": "code",
   "execution_count": 8,
   "id": "46e43754-2870-4837-b38a-3f57d6733ddc",
   "metadata": {},
   "outputs": [],
   "source": [
    "def calculate_loss(pred, true_masks, nclass, multiclass):\n",
    "    loss = criterion(pred, true_masks)\n",
    "    loss += dice_loss(\n",
    "        F.softmax(pred, dim=1).float(),\n",
    "        F.one_hot(true_masks, nclass).permute(0, 3, 1, 2).float(),\n",
    "        multiclass=multiclass\n",
    "    )\n",
    "    return loss\n",
    "\n",
    "def grad_forback(models, losses, optim):\n",
    "    optim.zero_grad(set_to_none=True)\n",
    "    grad_scaler.scale(losses).backward()\n",
    "    torch.nn.utils.clip_grad_norm_(models.parameters(), Gradient_Clipping)\n",
    "    grad_scaler.step(optim)\n",
    "    grad_scaler.update()    \n",
    "\n",
    "def forward_and_backward(model, images, true_masks, amp, optimizers, grad_scaler, model_name):\n",
    "    with torch.autocast(device.type if device.type != 'mps' else 'cpu', enabled=amp):\n",
    "        \n",
    "        try:\n",
    "            mn_cls = model.n_classes\n",
    "        except:\n",
    "            mn_cls = model.classifier[-1].out_channels\n",
    "\n",
    "        if model_name == 'ensemble_voting':\n",
    "            unet_pred, segnet_pred, enet_pred = model(images)\n",
    "            #deeplab_pred = deeplab_pred['out']\n",
    "            \n",
    "            unet_loss = calculate_loss(unet_pred, true_masks, mn_cls, multiclass=True)\n",
    "            segnet_loss = calculate_loss(segnet_pred, true_masks, mn_cls, multiclass=True)\n",
    "            enet_loss = calculate_loss(enet_pred, true_masks, mn_cls, multiclass=True)\n",
    "            \n",
    "            \n",
    "        else:\n",
    "            masks_pred = model(images)\n",
    "            if isinstance(masks_pred, OrderedDict):\n",
    "                masks_pred = masks_pred['out']\n",
    "            loss = calculate_loss(masks_pred, true_masks, mn_cls, multiclass=True)\n",
    "    \n",
    "    \n",
    "    if model_name == 'ensemble_voting':\n",
    "        for _loss, _optiz in zip([unet_loss, segnet_loss, enet_loss], optimizers):\n",
    "            grad_forback(model, _loss, _optiz)\n",
    "\n",
    "        return model, unet_loss, segnet_loss, enet_loss\n",
    "    else:\n",
    "        for _loss, _optiz in zip([loss], optimizers):\n",
    "            grad_forback(model, _loss, _optiz)\n",
    "            \n",
    "        return model, loss\n"
   ]
  },
  {
   "cell_type": "code",
   "execution_count": 9,
   "id": "8bb76263-8fd8-437d-9204-8ebc2af3de6d",
   "metadata": {},
   "outputs": [
    {
     "name": "stderr",
     "output_type": "stream",
     "text": [
      "Epoch 1/50:  99%|█████████▊| 200/203 [00:17<00:00, 15.20img/s]"
     ]
    },
    {
     "name": "stdout",
     "output_type": "stream",
     "text": [
      "***\n",
      "ensemble_fusion Loss: 0.8195744752883911\n"
     ]
    },
    {
     "name": "stderr",
     "output_type": "stream",
     "text": [
      "Epoch 1/50:  99%|█████████▊| 200/203 [00:21<00:00,  9.11img/s]"
     ]
    },
    {
     "name": "stdout",
     "output_type": "stream",
     "text": [
      "---\n",
      "ensemble_fusion Validation Dice Loss: 0.954772412776947\n",
      "ensemble_fusion Validation Pixel Accuracy: 0.8505417673211348\n",
      "ensemble_fusion Validation MIoU: 0.42527088366056753\n",
      "ensemble_fusion Validation Dice Score: 1.3668949652712037e-11\n"
     ]
    },
    {
     "name": "stderr",
     "output_type": "stream",
     "text": [
      "\n",
      "Epoch 2/50:  99%|█████████▊| 200/203 [00:16<00:00, 15.02img/s]"
     ]
    },
    {
     "name": "stdout",
     "output_type": "stream",
     "text": [
      "***\n",
      "ensemble_fusion Loss: 0.6986284255981445\n"
     ]
    },
    {
     "name": "stderr",
     "output_type": "stream",
     "text": [
      "Epoch 2/50:  99%|█████████▊| 200/203 [00:20<00:00,  9.65img/s]"
     ]
    },
    {
     "name": "stdout",
     "output_type": "stream",
     "text": [
      "---\n",
      "ensemble_fusion Validation Dice Loss: 0.7781057953834534\n",
      "ensemble_fusion Validation Pixel Accuracy: 0.8619202730948465\n",
      "ensemble_fusion Validation MIoU: 0.6629271345444556\n",
      "ensemble_fusion Validation Dice Score: 0.7173851728439331\n"
     ]
    },
    {
     "name": "stderr",
     "output_type": "stream",
     "text": [
      "\n",
      "Epoch 3/50:  99%|█████████▊| 200/203 [00:15<00:00, 15.09img/s]"
     ]
    },
    {
     "name": "stdout",
     "output_type": "stream",
     "text": [
      "***\n",
      "ensemble_fusion Loss: 0.6108047366142273\n"
     ]
    },
    {
     "name": "stderr",
     "output_type": "stream",
     "text": [
      "Epoch 3/50:  99%|█████████▊| 200/203 [00:19<00:00, 10.31img/s]"
     ]
    },
    {
     "name": "stdout",
     "output_type": "stream",
     "text": [
      "---\n",
      "ensemble_fusion Validation Dice Loss: 0.6679369211196899\n",
      "ensemble_fusion Validation Pixel Accuracy: 0.9051013076514528\n",
      "ensemble_fusion Validation MIoU: 0.7422106901353653\n",
      "ensemble_fusion Validation Dice Score: 0.7686667442321777\n"
     ]
    },
    {
     "name": "stderr",
     "output_type": "stream",
     "text": [
      "\n",
      "Epoch 4/50:  99%|█████████▊| 200/203 [00:15<00:00, 15.18img/s]"
     ]
    },
    {
     "name": "stdout",
     "output_type": "stream",
     "text": [
      "***\n",
      "ensemble_fusion Loss: 0.5138794183731079\n"
     ]
    },
    {
     "name": "stderr",
     "output_type": "stream",
     "text": [
      "Epoch 4/50:  99%|█████████▊| 200/203 [00:19<00:00, 10.25img/s]"
     ]
    },
    {
     "name": "stdout",
     "output_type": "stream",
     "text": [
      "---\n",
      "ensemble_fusion Validation Dice Loss: 0.555486798286438\n",
      "ensemble_fusion Validation Pixel Accuracy: 0.9295940733792489\n",
      "ensemble_fusion Validation MIoU: 0.7889036818597782\n",
      "ensemble_fusion Validation Dice Score: 0.8214287161827087\n"
     ]
    },
    {
     "name": "stderr",
     "output_type": "stream",
     "text": [
      "\n",
      "Epoch 5/50:  99%|█████████▊| 200/203 [00:16<00:00, 14.89img/s]"
     ]
    },
    {
     "name": "stdout",
     "output_type": "stream",
     "text": [
      "***\n",
      "ensemble_fusion Loss: 0.5143780708312988\n"
     ]
    },
    {
     "name": "stderr",
     "output_type": "stream",
     "text": [
      "Epoch 5/50:  99%|█████████▊| 200/203 [00:20<00:00,  9.81img/s]"
     ]
    },
    {
     "name": "stdout",
     "output_type": "stream",
     "text": [
      "---\n",
      "ensemble_fusion Validation Dice Loss: 0.5769665837287903\n",
      "ensemble_fusion Validation Pixel Accuracy: 0.9304426762095669\n",
      "ensemble_fusion Validation MIoU: 0.7933229954971459\n",
      "ensemble_fusion Validation Dice Score: 0.8233925104141235\n"
     ]
    },
    {
     "name": "stderr",
     "output_type": "stream",
     "text": [
      "\n",
      "Epoch 6/50:  99%|█████████▊| 200/203 [00:15<00:00, 15.01img/s]"
     ]
    },
    {
     "name": "stdout",
     "output_type": "stream",
     "text": [
      "***\n",
      "ensemble_fusion Loss: 0.5079169869422913\n"
     ]
    },
    {
     "name": "stderr",
     "output_type": "stream",
     "text": [
      "Epoch 6/50:  99%|█████████▊| 200/203 [00:19<00:00, 10.35img/s]"
     ]
    },
    {
     "name": "stdout",
     "output_type": "stream",
     "text": [
      "---\n",
      "ensemble_fusion Validation Dice Loss: 0.5351046919822693\n",
      "ensemble_fusion Validation Pixel Accuracy: 0.9405621980365954\n",
      "ensemble_fusion Validation MIoU: 0.817117269861978\n",
      "ensemble_fusion Validation Dice Score: 0.844199001789093\n"
     ]
    },
    {
     "name": "stderr",
     "output_type": "stream",
     "text": [
      "\n",
      "Epoch 7/50:  99%|█████████▊| 200/203 [00:15<00:00, 15.16img/s]"
     ]
    },
    {
     "name": "stdout",
     "output_type": "stream",
     "text": [
      "***\n",
      "ensemble_fusion Loss: 0.5132956504821777\n"
     ]
    },
    {
     "name": "stderr",
     "output_type": "stream",
     "text": [
      "Epoch 7/50:  99%|█████████▊| 200/203 [00:19<00:00, 10.23img/s]"
     ]
    },
    {
     "name": "stdout",
     "output_type": "stream",
     "text": [
      "---\n",
      "ensemble_fusion Validation Dice Loss: 0.4959312379360199\n",
      "ensemble_fusion Validation Pixel Accuracy: 0.9534400806092379\n",
      "ensemble_fusion Validation MIoU: 0.8450451925638884\n",
      "ensemble_fusion Validation Dice Score: 0.8558929562568665\n"
     ]
    },
    {
     "name": "stderr",
     "output_type": "stream",
     "text": [
      "\n",
      "Epoch 8/50:  99%|█████████▊| 200/203 [00:15<00:00, 14.91img/s]"
     ]
    },
    {
     "name": "stdout",
     "output_type": "stream",
     "text": [
      "***\n",
      "ensemble_fusion Loss: 0.4803867042064667\n"
     ]
    },
    {
     "name": "stderr",
     "output_type": "stream",
     "text": [
      "Epoch 8/50:  99%|█████████▊| 200/203 [00:19<00:00, 10.04img/s]"
     ]
    },
    {
     "name": "stdout",
     "output_type": "stream",
     "text": [
      "---\n",
      "ensemble_fusion Validation Dice Loss: 0.5043696761131287\n",
      "ensemble_fusion Validation Pixel Accuracy: 0.9473022996333608\n",
      "ensemble_fusion Validation MIoU: 0.8127672150091441\n",
      "ensemble_fusion Validation Dice Score: 0.8093054890632629\n"
     ]
    },
    {
     "name": "stderr",
     "output_type": "stream",
     "text": [
      "\n",
      "Epoch 9/50:  99%|█████████▊| 200/203 [00:15<00:00, 14.92img/s]"
     ]
    },
    {
     "name": "stdout",
     "output_type": "stream",
     "text": [
      "***\n",
      "ensemble_fusion Loss: 0.44173991680145264\n"
     ]
    },
    {
     "name": "stderr",
     "output_type": "stream",
     "text": [
      "Epoch 9/50:  99%|█████████▊| 200/203 [00:19<00:00, 10.22img/s]"
     ]
    },
    {
     "name": "stdout",
     "output_type": "stream",
     "text": [
      "---\n",
      "ensemble_fusion Validation Dice Loss: 0.48955145478248596\n",
      "ensemble_fusion Validation Pixel Accuracy: 0.9508640222382128\n",
      "ensemble_fusion Validation MIoU: 0.8379684377439537\n",
      "ensemble_fusion Validation Dice Score: 0.8689016699790955\n"
     ]
    },
    {
     "name": "stderr",
     "output_type": "stream",
     "text": [
      "\n",
      "Epoch 10/50:  99%|█████████▊| 200/203 [00:15<00:00, 15.08img/s]"
     ]
    },
    {
     "name": "stdout",
     "output_type": "stream",
     "text": [
      "***\n",
      "ensemble_fusion Loss: 0.43795305490493774\n"
     ]
    },
    {
     "name": "stderr",
     "output_type": "stream",
     "text": [
      "Epoch 10/50:  99%|█████████▊| 200/203 [00:19<00:00, 10.18img/s]"
     ]
    },
    {
     "name": "stdout",
     "output_type": "stream",
     "text": [
      "---\n",
      "ensemble_fusion Validation Dice Loss: 0.5053102970123291\n",
      "ensemble_fusion Validation Pixel Accuracy: 0.9436958714535362\n",
      "ensemble_fusion Validation MIoU: 0.8247010499105347\n",
      "ensemble_fusion Validation Dice Score: 0.8658649325370789\n"
     ]
    },
    {
     "name": "stderr",
     "output_type": "stream",
     "text": [
      "\n",
      "Epoch 11/50:  99%|█████████▊| 200/203 [00:15<00:00, 14.91img/s]"
     ]
    },
    {
     "name": "stdout",
     "output_type": "stream",
     "text": [
      "***\n",
      "ensemble_fusion Loss: 0.41464659571647644\n"
     ]
    },
    {
     "name": "stderr",
     "output_type": "stream",
     "text": [
      "Epoch 11/50:  99%|█████████▊| 200/203 [00:19<00:00, 10.25img/s]"
     ]
    },
    {
     "name": "stdout",
     "output_type": "stream",
     "text": [
      "---\n",
      "ensemble_fusion Validation Dice Loss: 0.46186959743499756\n",
      "ensemble_fusion Validation Pixel Accuracy: 0.9582530239172149\n",
      "ensemble_fusion Validation MIoU: 0.8599712696749726\n",
      "ensemble_fusion Validation Dice Score: 0.8881329894065857\n"
     ]
    },
    {
     "name": "stderr",
     "output_type": "stream",
     "text": [
      "\n",
      "Epoch 12/50:  99%|█████████▊| 200/203 [00:15<00:00, 14.80img/s]"
     ]
    },
    {
     "name": "stdout",
     "output_type": "stream",
     "text": [
      "***\n",
      "ensemble_fusion Loss: 0.41899245977401733\n"
     ]
    },
    {
     "name": "stderr",
     "output_type": "stream",
     "text": [
      "Epoch 12/50:  99%|█████████▊| 200/203 [00:19<00:00, 10.24img/s]"
     ]
    },
    {
     "name": "stdout",
     "output_type": "stream",
     "text": [
      "---\n",
      "ensemble_fusion Validation Dice Loss: 0.4511704444885254\n",
      "ensemble_fusion Validation Pixel Accuracy: 0.96075439453125\n",
      "ensemble_fusion Validation MIoU: 0.8665229854141732\n",
      "ensemble_fusion Validation Dice Score: 0.8821296095848083\n"
     ]
    },
    {
     "name": "stderr",
     "output_type": "stream",
     "text": [
      "\n",
      "Epoch 13/50:  99%|█████████▊| 200/203 [00:15<00:00, 14.85img/s]"
     ]
    },
    {
     "name": "stdout",
     "output_type": "stream",
     "text": [
      "***\n",
      "ensemble_fusion Loss: 0.4132254719734192\n"
     ]
    },
    {
     "name": "stderr",
     "output_type": "stream",
     "text": [
      "Epoch 13/50:  99%|█████████▊| 200/203 [00:19<00:00, 10.16img/s]"
     ]
    },
    {
     "name": "stdout",
     "output_type": "stream",
     "text": [
      "---\n",
      "ensemble_fusion Validation Dice Loss: 0.44920554757118225\n",
      "ensemble_fusion Validation Pixel Accuracy: 0.9566342537863213\n",
      "ensemble_fusion Validation MIoU: 0.857418535045813\n",
      "ensemble_fusion Validation Dice Score: 0.8955747485160828\n"
     ]
    },
    {
     "name": "stderr",
     "output_type": "stream",
     "text": [
      "\n",
      "Epoch 14/50:  99%|█████████▊| 200/203 [00:15<00:00, 14.84img/s]"
     ]
    },
    {
     "name": "stdout",
     "output_type": "stream",
     "text": [
      "***\n",
      "ensemble_fusion Loss: 0.39586779475212097\n"
     ]
    },
    {
     "name": "stderr",
     "output_type": "stream",
     "text": [
      "Epoch 14/50:  99%|█████████▊| 200/203 [00:19<00:00, 10.05img/s]"
     ]
    },
    {
     "name": "stdout",
     "output_type": "stream",
     "text": [
      "---\n",
      "ensemble_fusion Validation Dice Loss: 0.43986672163009644\n",
      "ensemble_fusion Validation Pixel Accuracy: 0.9634169193736294\n",
      "ensemble_fusion Validation MIoU: 0.8737388753828956\n",
      "ensemble_fusion Validation Dice Score: 0.8933555483818054\n"
     ]
    },
    {
     "name": "stderr",
     "output_type": "stream",
     "text": [
      "\n",
      "Epoch 15/50:  99%|█████████▊| 200/203 [00:15<00:00, 14.75img/s]"
     ]
    },
    {
     "name": "stdout",
     "output_type": "stream",
     "text": [
      "***\n",
      "ensemble_fusion Loss: 0.3742627501487732\n"
     ]
    },
    {
     "name": "stderr",
     "output_type": "stream",
     "text": [
      "Epoch 15/50:  99%|█████████▊| 200/203 [00:19<00:00, 10.10img/s]"
     ]
    },
    {
     "name": "stdout",
     "output_type": "stream",
     "text": [
      "---\n",
      "ensemble_fusion Validation Dice Loss: 0.44147002696990967\n",
      "ensemble_fusion Validation Pixel Accuracy: 0.9585820248252467\n",
      "ensemble_fusion Validation MIoU: 0.8593700139413167\n",
      "ensemble_fusion Validation Dice Score: 0.8977641463279724\n"
     ]
    },
    {
     "name": "stderr",
     "output_type": "stream",
     "text": [
      "\n",
      "Epoch 16/50:  99%|█████████▊| 200/203 [00:15<00:00, 14.87img/s]"
     ]
    },
    {
     "name": "stdout",
     "output_type": "stream",
     "text": [
      "***\n",
      "ensemble_fusion Loss: 0.3770848512649536\n"
     ]
    },
    {
     "name": "stderr",
     "output_type": "stream",
     "text": [
      "Epoch 16/50:  99%|█████████▊| 200/203 [00:19<00:00, 10.24img/s]"
     ]
    },
    {
     "name": "stdout",
     "output_type": "stream",
     "text": [
      "---\n",
      "ensemble_fusion Validation Dice Loss: 0.4506065249443054\n",
      "ensemble_fusion Validation Pixel Accuracy: 0.9468838875753838\n",
      "ensemble_fusion Validation MIoU: 0.8319569567665155\n",
      "ensemble_fusion Validation Dice Score: 0.8796764612197876\n"
     ]
    },
    {
     "name": "stderr",
     "output_type": "stream",
     "text": [
      "\n",
      "Epoch 17/50:  99%|█████████▊| 200/203 [00:15<00:00, 15.02img/s]"
     ]
    },
    {
     "name": "stdout",
     "output_type": "stream",
     "text": [
      "***\n",
      "ensemble_fusion Loss: 0.38526779413223267\n"
     ]
    },
    {
     "name": "stderr",
     "output_type": "stream",
     "text": [
      "Epoch 17/50:  99%|█████████▊| 200/203 [00:19<00:00, 10.32img/s]"
     ]
    },
    {
     "name": "stdout",
     "output_type": "stream",
     "text": [
      "---\n",
      "ensemble_fusion Validation Dice Loss: 0.42329198122024536\n",
      "ensemble_fusion Validation Pixel Accuracy: 0.9563483522649396\n",
      "ensemble_fusion Validation MIoU: 0.8572322114584371\n",
      "ensemble_fusion Validation Dice Score: 0.8898364901542664\n"
     ]
    },
    {
     "name": "stderr",
     "output_type": "stream",
     "text": [
      "\n",
      "Epoch 18/50:  99%|█████████▊| 200/203 [00:15<00:00, 14.94img/s]"
     ]
    },
    {
     "name": "stdout",
     "output_type": "stream",
     "text": [
      "***\n",
      "ensemble_fusion Loss: 0.3767142593860626\n"
     ]
    },
    {
     "name": "stderr",
     "output_type": "stream",
     "text": [
      "Epoch 18/50:  99%|█████████▊| 200/203 [00:19<00:00, 10.32img/s]"
     ]
    },
    {
     "name": "stdout",
     "output_type": "stream",
     "text": [
      "---\n",
      "ensemble_fusion Validation Dice Loss: 0.4261507987976074\n",
      "ensemble_fusion Validation Pixel Accuracy: 0.9542621813322368\n",
      "ensemble_fusion Validation MIoU: 0.8533725882989258\n",
      "ensemble_fusion Validation Dice Score: 0.8827086687088013\n"
     ]
    },
    {
     "name": "stderr",
     "output_type": "stream",
     "text": [
      "\n",
      "Epoch 19/50:  99%|█████████▊| 200/203 [00:15<00:00, 15.07img/s]"
     ]
    },
    {
     "name": "stdout",
     "output_type": "stream",
     "text": [
      "***\n",
      "ensemble_fusion Loss: 0.3462426960468292\n"
     ]
    },
    {
     "name": "stderr",
     "output_type": "stream",
     "text": [
      "Epoch 19/50:  99%|█████████▊| 200/203 [00:19<00:00, 10.20img/s]"
     ]
    },
    {
     "name": "stdout",
     "output_type": "stream",
     "text": [
      "---\n",
      "ensemble_fusion Validation Dice Loss: 0.3958815336227417\n",
      "ensemble_fusion Validation Pixel Accuracy: 0.9649674265008223\n",
      "ensemble_fusion Validation MIoU: 0.877594130229725\n",
      "ensemble_fusion Validation Dice Score: 0.9136292338371277\n"
     ]
    },
    {
     "name": "stderr",
     "output_type": "stream",
     "text": [
      "\n",
      "Epoch 20/50:  99%|█████████▊| 200/203 [00:15<00:00, 14.68img/s]"
     ]
    },
    {
     "name": "stdout",
     "output_type": "stream",
     "text": [
      "***\n",
      "ensemble_fusion Loss: 0.3445087969303131\n"
     ]
    },
    {
     "name": "stderr",
     "output_type": "stream",
     "text": [
      "Epoch 20/50:  99%|█████████▊| 200/203 [00:19<00:00, 10.10img/s]"
     ]
    },
    {
     "name": "stdout",
     "output_type": "stream",
     "text": [
      "---\n",
      "ensemble_fusion Validation Dice Loss: 0.39173662662506104\n",
      "ensemble_fusion Validation Pixel Accuracy: 0.966375518263432\n",
      "ensemble_fusion Validation MIoU: 0.8828435634609385\n",
      "ensemble_fusion Validation Dice Score: 0.9168217778205872\n"
     ]
    },
    {
     "name": "stderr",
     "output_type": "stream",
     "text": [
      "\n",
      "Epoch 21/50:  99%|█████████▊| 200/203 [00:15<00:00, 15.07img/s]"
     ]
    },
    {
     "name": "stdout",
     "output_type": "stream",
     "text": [
      "***\n",
      "ensemble_fusion Loss: 0.33398061990737915\n"
     ]
    },
    {
     "name": "stderr",
     "output_type": "stream",
     "text": [
      "Epoch 21/50:  99%|█████████▊| 200/203 [00:19<00:00, 10.23img/s]"
     ]
    },
    {
     "name": "stdout",
     "output_type": "stream",
     "text": [
      "---\n",
      "ensemble_fusion Validation Dice Loss: 0.39287954568862915\n",
      "ensemble_fusion Validation Pixel Accuracy: 0.965772126850329\n",
      "ensemble_fusion Validation MIoU: 0.8815712449625224\n",
      "ensemble_fusion Validation Dice Score: 0.91447514295578\n"
     ]
    },
    {
     "name": "stderr",
     "output_type": "stream",
     "text": [
      "\n",
      "Epoch 22/50:  99%|█████████▊| 200/203 [00:15<00:00, 15.11img/s]"
     ]
    },
    {
     "name": "stdout",
     "output_type": "stream",
     "text": [
      "***\n",
      "ensemble_fusion Loss: 0.3318058252334595\n"
     ]
    },
    {
     "name": "stderr",
     "output_type": "stream",
     "text": [
      "Epoch 22/50:  99%|█████████▊| 200/203 [00:19<00:00, 10.21img/s]"
     ]
    },
    {
     "name": "stdout",
     "output_type": "stream",
     "text": [
      "---\n",
      "ensemble_fusion Validation Dice Loss: 0.387820303440094\n",
      "ensemble_fusion Validation Pixel Accuracy: 0.9682261149088541\n",
      "ensemble_fusion Validation MIoU: 0.8881351617875493\n",
      "ensemble_fusion Validation Dice Score: 0.9187154173851013\n"
     ]
    },
    {
     "name": "stderr",
     "output_type": "stream",
     "text": [
      "\n",
      "Epoch 23/50:  99%|█████████▊| 200/203 [00:15<00:00, 14.62img/s]"
     ]
    },
    {
     "name": "stdout",
     "output_type": "stream",
     "text": [
      "***\n",
      "ensemble_fusion Loss: 0.3517034649848938\n"
     ]
    },
    {
     "name": "stderr",
     "output_type": "stream",
     "text": [
      "Epoch 23/50:  99%|█████████▊| 200/203 [00:19<00:00, 10.23img/s]"
     ]
    },
    {
     "name": "stdout",
     "output_type": "stream",
     "text": [
      "---\n",
      "ensemble_fusion Validation Dice Loss: 0.4012206196784973\n",
      "ensemble_fusion Validation Pixel Accuracy: 0.9631548429790296\n",
      "ensemble_fusion Validation MIoU: 0.875731030094705\n",
      "ensemble_fusion Validation Dice Score: 0.9159676432609558\n"
     ]
    },
    {
     "name": "stderr",
     "output_type": "stream",
     "text": [
      "\n",
      "Epoch 24/50:  99%|█████████▊| 200/203 [00:15<00:00, 14.94img/s]"
     ]
    },
    {
     "name": "stdout",
     "output_type": "stream",
     "text": [
      "***\n",
      "ensemble_fusion Loss: 0.331026554107666\n"
     ]
    },
    {
     "name": "stderr",
     "output_type": "stream",
     "text": [
      "Epoch 24/50:  99%|█████████▊| 200/203 [00:19<00:00, 10.28img/s]"
     ]
    },
    {
     "name": "stdout",
     "output_type": "stream",
     "text": [
      "---\n",
      "ensemble_fusion Validation Dice Loss: 0.38990217447280884\n",
      "ensemble_fusion Validation Pixel Accuracy: 0.966037951017681\n",
      "ensemble_fusion Validation MIoU: 0.882673167970287\n",
      "ensemble_fusion Validation Dice Score: 0.916726291179657\n"
     ]
    },
    {
     "name": "stderr",
     "output_type": "stream",
     "text": [
      "\n",
      "Epoch 25/50:  99%|█████████▊| 200/203 [00:15<00:00, 14.92img/s]"
     ]
    },
    {
     "name": "stdout",
     "output_type": "stream",
     "text": [
      "***\n",
      "ensemble_fusion Loss: 0.33506259322166443\n"
     ]
    },
    {
     "name": "stderr",
     "output_type": "stream",
     "text": [
      "Epoch 25/50:  99%|█████████▊| 200/203 [00:19<00:00, 10.27img/s]"
     ]
    },
    {
     "name": "stdout",
     "output_type": "stream",
     "text": [
      "---\n",
      "ensemble_fusion Validation Dice Loss: 0.3845749497413635\n",
      "ensemble_fusion Validation Pixel Accuracy: 0.9687103806880483\n",
      "ensemble_fusion Validation MIoU: 0.8910235979097041\n",
      "ensemble_fusion Validation Dice Score: 0.9208739399909973\n"
     ]
    },
    {
     "name": "stderr",
     "output_type": "stream",
     "text": [
      "\n",
      "Epoch 26/50:  99%|█████████▊| 200/203 [00:15<00:00, 15.11img/s]"
     ]
    },
    {
     "name": "stdout",
     "output_type": "stream",
     "text": [
      "***\n",
      "ensemble_fusion Loss: 0.34013932943344116\n"
     ]
    },
    {
     "name": "stderr",
     "output_type": "stream",
     "text": [
      "Epoch 26/50:  99%|█████████▊| 200/203 [00:19<00:00, 10.21img/s]"
     ]
    },
    {
     "name": "stdout",
     "output_type": "stream",
     "text": [
      "---\n",
      "ensemble_fusion Validation Dice Loss: 0.3907182812690735\n",
      "ensemble_fusion Validation Pixel Accuracy: 0.9658481530975878\n",
      "ensemble_fusion Validation MIoU: 0.8829873578548642\n",
      "ensemble_fusion Validation Dice Score: 0.9161767363548279\n"
     ]
    },
    {
     "name": "stderr",
     "output_type": "stream",
     "text": [
      "\n",
      "Epoch 27/50:  99%|█████████▊| 200/203 [00:15<00:00, 14.98img/s]"
     ]
    },
    {
     "name": "stdout",
     "output_type": "stream",
     "text": [
      "***\n",
      "ensemble_fusion Loss: 0.32775142788887024\n"
     ]
    },
    {
     "name": "stderr",
     "output_type": "stream",
     "text": [
      "Epoch 27/50:  99%|█████████▊| 200/203 [00:19<00:00, 10.17img/s]"
     ]
    },
    {
     "name": "stdout",
     "output_type": "stream",
     "text": [
      "---\n",
      "ensemble_fusion Validation Dice Loss: 0.38705509901046753\n",
      "ensemble_fusion Validation Pixel Accuracy: 0.9661174573396382\n",
      "ensemble_fusion Validation MIoU: 0.8831470589158867\n",
      "ensemble_fusion Validation Dice Score: 0.9184722304344177\n"
     ]
    },
    {
     "name": "stderr",
     "output_type": "stream",
     "text": [
      "\n",
      "Epoch 28/50:  99%|█████████▊| 200/203 [00:15<00:00, 14.89img/s]"
     ]
    },
    {
     "name": "stdout",
     "output_type": "stream",
     "text": [
      "***\n",
      "ensemble_fusion Loss: 0.34053677320480347\n"
     ]
    },
    {
     "name": "stderr",
     "output_type": "stream",
     "text": [
      "Epoch 28/50:  99%|█████████▊| 200/203 [00:19<00:00, 10.22img/s]"
     ]
    },
    {
     "name": "stdout",
     "output_type": "stream",
     "text": [
      "---\n",
      "ensemble_fusion Validation Dice Loss: 0.38284575939178467\n",
      "ensemble_fusion Validation Pixel Accuracy: 0.9678829260039747\n",
      "ensemble_fusion Validation MIoU: 0.8884227406680822\n",
      "ensemble_fusion Validation Dice Score: 0.9213955998420715\n"
     ]
    },
    {
     "name": "stderr",
     "output_type": "stream",
     "text": [
      "\n",
      "Epoch 29/50:  99%|█████████▊| 200/203 [00:15<00:00, 14.91img/s]"
     ]
    },
    {
     "name": "stdout",
     "output_type": "stream",
     "text": [
      "***\n",
      "ensemble_fusion Loss: 0.3188505470752716\n"
     ]
    },
    {
     "name": "stderr",
     "output_type": "stream",
     "text": [
      "Epoch 29/50:  99%|█████████▊| 200/203 [00:19<00:00, 10.32img/s]"
     ]
    },
    {
     "name": "stdout",
     "output_type": "stream",
     "text": [
      "---\n",
      "ensemble_fusion Validation Dice Loss: 0.37965092062950134\n",
      "ensemble_fusion Validation Pixel Accuracy: 0.9697522615131579\n",
      "ensemble_fusion Validation MIoU: 0.8933718397686208\n",
      "ensemble_fusion Validation Dice Score: 0.9229737520217896\n"
     ]
    },
    {
     "name": "stderr",
     "output_type": "stream",
     "text": [
      "\n",
      "Epoch 30/50:  99%|█████████▊| 200/203 [00:15<00:00, 14.99img/s]"
     ]
    },
    {
     "name": "stdout",
     "output_type": "stream",
     "text": [
      "***\n",
      "ensemble_fusion Loss: 0.32503801584243774\n"
     ]
    },
    {
     "name": "stderr",
     "output_type": "stream",
     "text": [
      "Epoch 30/50:  99%|█████████▊| 200/203 [00:19<00:00, 10.23img/s]"
     ]
    },
    {
     "name": "stdout",
     "output_type": "stream",
     "text": [
      "---\n",
      "ensemble_fusion Validation Dice Loss: 0.37399864196777344\n",
      "ensemble_fusion Validation Pixel Accuracy: 0.9699669553522479\n",
      "ensemble_fusion Validation MIoU: 0.8935511992770275\n",
      "ensemble_fusion Validation Dice Score: 0.9197880029678345\n"
     ]
    },
    {
     "name": "stderr",
     "output_type": "stream",
     "text": [
      "\n",
      "Epoch 31/50:  99%|█████████▊| 200/203 [00:15<00:00, 14.87img/s]"
     ]
    },
    {
     "name": "stdout",
     "output_type": "stream",
     "text": [
      "***\n",
      "ensemble_fusion Loss: 0.3249681293964386\n"
     ]
    },
    {
     "name": "stderr",
     "output_type": "stream",
     "text": [
      "Epoch 31/50:  99%|█████████▊| 200/203 [00:19<00:00, 10.25img/s]"
     ]
    },
    {
     "name": "stdout",
     "output_type": "stream",
     "text": [
      "---\n",
      "ensemble_fusion Validation Dice Loss: 0.38192611932754517\n",
      "ensemble_fusion Validation Pixel Accuracy: 0.9663648103412829\n",
      "ensemble_fusion Validation MIoU: 0.8830769768334468\n",
      "ensemble_fusion Validation Dice Score: 0.9228429794311523\n"
     ]
    },
    {
     "name": "stderr",
     "output_type": "stream",
     "text": [
      "\n",
      "Epoch 32/50:  99%|█████████▊| 200/203 [00:15<00:00, 14.99img/s]"
     ]
    },
    {
     "name": "stdout",
     "output_type": "stream",
     "text": [
      "***\n",
      "ensemble_fusion Loss: 0.3217045068740845\n"
     ]
    },
    {
     "name": "stderr",
     "output_type": "stream",
     "text": [
      "Epoch 32/50:  99%|█████████▊| 200/203 [00:19<00:00, 10.23img/s]"
     ]
    },
    {
     "name": "stdout",
     "output_type": "stream",
     "text": [
      "---\n",
      "ensemble_fusion Validation Dice Loss: 0.37819138169288635\n",
      "ensemble_fusion Validation Pixel Accuracy: 0.9684868528131854\n",
      "ensemble_fusion Validation MIoU: 0.8900045784754291\n",
      "ensemble_fusion Validation Dice Score: 0.9244740605354309\n"
     ]
    },
    {
     "name": "stderr",
     "output_type": "stream",
     "text": [
      "\n",
      "Epoch 33/50:  99%|█████████▊| 200/203 [00:15<00:00, 14.92img/s]"
     ]
    },
    {
     "name": "stdout",
     "output_type": "stream",
     "text": [
      "***\n",
      "ensemble_fusion Loss: 0.3149572014808655\n"
     ]
    },
    {
     "name": "stderr",
     "output_type": "stream",
     "text": [
      "Epoch 33/50:  99%|█████████▊| 200/203 [00:19<00:00, 10.20img/s]"
     ]
    },
    {
     "name": "stdout",
     "output_type": "stream",
     "text": [
      "---\n",
      "ensemble_fusion Validation Dice Loss: 0.37629032135009766\n",
      "ensemble_fusion Validation Pixel Accuracy: 0.9681634735642818\n",
      "ensemble_fusion Validation MIoU: 0.8888887525981601\n",
      "ensemble_fusion Validation Dice Score: 0.9233312010765076\n"
     ]
    },
    {
     "name": "stderr",
     "output_type": "stream",
     "text": [
      "\n",
      "Epoch 34/50:  99%|█████████▊| 200/203 [00:15<00:00, 14.78img/s]"
     ]
    },
    {
     "name": "stdout",
     "output_type": "stream",
     "text": [
      "***\n",
      "ensemble_fusion Loss: 0.32647591829299927\n"
     ]
    },
    {
     "name": "stderr",
     "output_type": "stream",
     "text": [
      "Epoch 34/50:  99%|█████████▊| 200/203 [00:19<00:00, 10.20img/s]"
     ]
    },
    {
     "name": "stdout",
     "output_type": "stream",
     "text": [
      "---\n",
      "ensemble_fusion Validation Dice Loss: 0.38905733823776245\n",
      "ensemble_fusion Validation Pixel Accuracy: 0.9633347360711348\n",
      "ensemble_fusion Validation MIoU: 0.8761343012843951\n",
      "ensemble_fusion Validation Dice Score: 0.9215243458747864\n"
     ]
    },
    {
     "name": "stderr",
     "output_type": "stream",
     "text": [
      "\n",
      "Epoch 35/50:  99%|█████████▊| 200/203 [00:15<00:00, 14.75img/s]"
     ]
    },
    {
     "name": "stdout",
     "output_type": "stream",
     "text": [
      "***\n",
      "ensemble_fusion Loss: 0.3132678270339966\n"
     ]
    },
    {
     "name": "stderr",
     "output_type": "stream",
     "text": [
      "Epoch 35/50:  99%|█████████▊| 200/203 [00:19<00:00, 10.19img/s]"
     ]
    },
    {
     "name": "stdout",
     "output_type": "stream",
     "text": [
      "---\n",
      "ensemble_fusion Validation Dice Loss: 0.38112616539001465\n",
      "ensemble_fusion Validation Pixel Accuracy: 0.9670394094366777\n",
      "ensemble_fusion Validation MIoU: 0.8861840674321846\n",
      "ensemble_fusion Validation Dice Score: 0.9230063557624817\n"
     ]
    },
    {
     "name": "stderr",
     "output_type": "stream",
     "text": [
      "\n",
      "Epoch 36/50:  99%|█████████▊| 200/203 [00:15<00:00, 15.00img/s]"
     ]
    },
    {
     "name": "stdout",
     "output_type": "stream",
     "text": [
      "***\n",
      "ensemble_fusion Loss: 0.3172110617160797\n"
     ]
    },
    {
     "name": "stderr",
     "output_type": "stream",
     "text": [
      "Epoch 36/50:  99%|█████████▊| 200/203 [00:20<00:00,  9.89img/s]"
     ]
    },
    {
     "name": "stdout",
     "output_type": "stream",
     "text": [
      "---\n",
      "ensemble_fusion Validation Dice Loss: 0.37686991691589355\n",
      "ensemble_fusion Validation Pixel Accuracy: 0.9677959241365132\n",
      "ensemble_fusion Validation MIoU: 0.8878505627985567\n",
      "ensemble_fusion Validation Dice Score: 0.9251413345336914\n"
     ]
    },
    {
     "name": "stderr",
     "output_type": "stream",
     "text": [
      "\n",
      "Epoch 37/50:  99%|█████████▊| 200/203 [00:15<00:00, 14.97img/s]"
     ]
    },
    {
     "name": "stdout",
     "output_type": "stream",
     "text": [
      "***\n",
      "ensemble_fusion Loss: 0.32025155425071716\n"
     ]
    },
    {
     "name": "stderr",
     "output_type": "stream",
     "text": [
      "Epoch 37/50:  99%|█████████▊| 200/203 [00:19<00:00, 10.19img/s]"
     ]
    },
    {
     "name": "stdout",
     "output_type": "stream",
     "text": [
      "---\n",
      "ensemble_fusion Validation Dice Loss: 0.38106387853622437\n",
      "ensemble_fusion Validation Pixel Accuracy: 0.9656248929207785\n",
      "ensemble_fusion Validation MIoU: 0.8818618095731661\n",
      "ensemble_fusion Validation Dice Score: 0.9199540019035339\n"
     ]
    },
    {
     "name": "stderr",
     "output_type": "stream",
     "text": [
      "\n",
      "Epoch 38/50:  99%|█████████▊| 200/203 [00:15<00:00, 14.76img/s]"
     ]
    },
    {
     "name": "stdout",
     "output_type": "stream",
     "text": [
      "***\n",
      "ensemble_fusion Loss: 0.3247019946575165\n"
     ]
    },
    {
     "name": "stderr",
     "output_type": "stream",
     "text": [
      "Epoch 38/50:  99%|█████████▊| 200/203 [00:19<00:00, 10.12img/s]"
     ]
    },
    {
     "name": "stdout",
     "output_type": "stream",
     "text": [
      "---\n",
      "ensemble_fusion Validation Dice Loss: 0.3780882954597473\n",
      "ensemble_fusion Validation Pixel Accuracy: 0.9669831928453947\n",
      "ensemble_fusion Validation MIoU: 0.8856484175592858\n",
      "ensemble_fusion Validation Dice Score: 0.923980176448822\n"
     ]
    },
    {
     "name": "stderr",
     "output_type": "stream",
     "text": [
      "\n",
      "Epoch 39/50:  99%|█████████▊| 200/203 [00:15<00:00, 14.95img/s]"
     ]
    },
    {
     "name": "stdout",
     "output_type": "stream",
     "text": [
      "***\n",
      "ensemble_fusion Loss: 0.3157603144645691\n"
     ]
    },
    {
     "name": "stderr",
     "output_type": "stream",
     "text": [
      "Epoch 39/50:  99%|█████████▊| 200/203 [00:19<00:00, 10.20img/s]"
     ]
    },
    {
     "name": "stdout",
     "output_type": "stream",
     "text": [
      "---\n",
      "ensemble_fusion Validation Dice Loss: 0.3751983046531677\n",
      "ensemble_fusion Validation Pixel Accuracy: 0.9681142171223959\n",
      "ensemble_fusion Validation MIoU: 0.8883192107846261\n",
      "ensemble_fusion Validation Dice Score: 0.9208059310913086\n"
     ]
    },
    {
     "name": "stderr",
     "output_type": "stream",
     "text": [
      "\n",
      "Epoch 40/50:  99%|█████████▊| 200/203 [00:15<00:00, 14.78img/s]"
     ]
    },
    {
     "name": "stdout",
     "output_type": "stream",
     "text": [
      "***\n",
      "ensemble_fusion Loss: 0.3164342939853668\n"
     ]
    },
    {
     "name": "stderr",
     "output_type": "stream",
     "text": [
      "Epoch 40/50:  99%|█████████▊| 200/203 [00:19<00:00, 10.23img/s]"
     ]
    },
    {
     "name": "stdout",
     "output_type": "stream",
     "text": [
      "---\n",
      "ensemble_fusion Validation Dice Loss: 0.3863704204559326\n",
      "ensemble_fusion Validation Pixel Accuracy: 0.9653130246881854\n",
      "ensemble_fusion Validation MIoU: 0.8815343091350171\n",
      "ensemble_fusion Validation Dice Score: 0.9214210510253906\n"
     ]
    },
    {
     "name": "stderr",
     "output_type": "stream",
     "text": [
      "\n",
      "Epoch 41/50:  99%|█████████▊| 200/203 [00:15<00:00, 15.00img/s]"
     ]
    },
    {
     "name": "stdout",
     "output_type": "stream",
     "text": [
      "***\n",
      "ensemble_fusion Loss: 0.31543296575546265\n"
     ]
    },
    {
     "name": "stderr",
     "output_type": "stream",
     "text": [
      "Epoch 41/50:  99%|█████████▊| 200/203 [00:19<00:00, 10.11img/s]"
     ]
    },
    {
     "name": "stdout",
     "output_type": "stream",
     "text": [
      "---\n",
      "ensemble_fusion Validation Dice Loss: 0.37775248289108276\n",
      "ensemble_fusion Validation Pixel Accuracy: 0.967372693513569\n",
      "ensemble_fusion Validation MIoU: 0.8866140033772236\n",
      "ensemble_fusion Validation Dice Score: 0.9229182600975037\n"
     ]
    },
    {
     "name": "stderr",
     "output_type": "stream",
     "text": [
      "\n",
      "Epoch 42/50:  99%|█████████▊| 200/203 [00:15<00:00, 14.91img/s]"
     ]
    },
    {
     "name": "stdout",
     "output_type": "stream",
     "text": [
      "***\n",
      "ensemble_fusion Loss: 0.3118181824684143\n"
     ]
    },
    {
     "name": "stderr",
     "output_type": "stream",
     "text": [
      "Epoch 42/50:  99%|█████████▊| 200/203 [00:19<00:00, 10.10img/s]"
     ]
    },
    {
     "name": "stdout",
     "output_type": "stream",
     "text": [
      "---\n",
      "ensemble_fusion Validation Dice Loss: 0.37461355328559875\n",
      "ensemble_fusion Validation Pixel Accuracy: 0.9684836404365406\n",
      "ensemble_fusion Validation MIoU: 0.8895356249094117\n",
      "ensemble_fusion Validation Dice Score: 0.9226222038269043\n"
     ]
    },
    {
     "name": "stderr",
     "output_type": "stream",
     "text": [
      "\n",
      "Epoch 43/50:  99%|█████████▊| 200/203 [00:15<00:00, 14.93img/s]"
     ]
    },
    {
     "name": "stdout",
     "output_type": "stream",
     "text": [
      "***\n",
      "ensemble_fusion Loss: 0.31537187099456787\n"
     ]
    },
    {
     "name": "stderr",
     "output_type": "stream",
     "text": [
      "Epoch 43/50:  99%|█████████▊| 200/203 [00:19<00:00, 10.33img/s]"
     ]
    },
    {
     "name": "stdout",
     "output_type": "stream",
     "text": [
      "---\n",
      "ensemble_fusion Validation Dice Loss: 0.37003183364868164\n",
      "ensemble_fusion Validation Pixel Accuracy: 0.9694770679139254\n",
      "ensemble_fusion Validation MIoU: 0.8919144218737115\n",
      "ensemble_fusion Validation Dice Score: 0.9245400428771973\n"
     ]
    },
    {
     "name": "stderr",
     "output_type": "stream",
     "text": [
      "\n",
      "Epoch 44/50:  99%|█████████▊| 200/203 [00:15<00:00, 15.00img/s]"
     ]
    },
    {
     "name": "stdout",
     "output_type": "stream",
     "text": [
      "***\n",
      "ensemble_fusion Loss: 0.3133016526699066\n"
     ]
    },
    {
     "name": "stderr",
     "output_type": "stream",
     "text": [
      "Epoch 44/50:  99%|█████████▊| 200/203 [00:19<00:00, 10.26img/s]"
     ]
    },
    {
     "name": "stdout",
     "output_type": "stream",
     "text": [
      "---\n",
      "ensemble_fusion Validation Dice Loss: 0.38484156131744385\n",
      "ensemble_fusion Validation Pixel Accuracy: 0.9648991634971217\n",
      "ensemble_fusion Validation MIoU: 0.8798578103528939\n",
      "ensemble_fusion Validation Dice Score: 0.9214233756065369\n"
     ]
    },
    {
     "name": "stderr",
     "output_type": "stream",
     "text": [
      "\n",
      "Epoch 45/50:  99%|█████████▊| 200/203 [00:15<00:00, 14.80img/s]"
     ]
    },
    {
     "name": "stdout",
     "output_type": "stream",
     "text": [
      "***\n",
      "ensemble_fusion Loss: 0.31412601470947266\n"
     ]
    },
    {
     "name": "stderr",
     "output_type": "stream",
     "text": [
      "Epoch 45/50:  99%|█████████▊| 200/203 [00:19<00:00, 10.27img/s]"
     ]
    },
    {
     "name": "stdout",
     "output_type": "stream",
     "text": [
      "---\n",
      "ensemble_fusion Validation Dice Loss: 0.37122663855552673\n",
      "ensemble_fusion Validation Pixel Accuracy: 0.9699731124074835\n",
      "ensemble_fusion Validation MIoU: 0.8942222841527989\n",
      "ensemble_fusion Validation Dice Score: 0.9257915616035461\n"
     ]
    },
    {
     "name": "stderr",
     "output_type": "stream",
     "text": [
      "\n",
      "Epoch 46/50:  99%|█████████▊| 200/203 [00:15<00:00, 15.08img/s]"
     ]
    },
    {
     "name": "stdout",
     "output_type": "stream",
     "text": [
      "***\n",
      "ensemble_fusion Loss: 0.31551676988601685\n"
     ]
    },
    {
     "name": "stderr",
     "output_type": "stream",
     "text": [
      "Epoch 46/50:  99%|█████████▊| 200/203 [00:19<00:00, 10.25img/s]"
     ]
    },
    {
     "name": "stdout",
     "output_type": "stream",
     "text": [
      "---\n",
      "ensemble_fusion Validation Dice Loss: 0.3791365921497345\n",
      "ensemble_fusion Validation Pixel Accuracy: 0.9674216822574013\n",
      "ensemble_fusion Validation MIoU: 0.8869237922525266\n",
      "ensemble_fusion Validation Dice Score: 0.9227221608161926\n"
     ]
    },
    {
     "name": "stderr",
     "output_type": "stream",
     "text": [
      "\n",
      "Epoch 47/50:  99%|█████████▊| 200/203 [00:15<00:00, 14.90img/s]"
     ]
    },
    {
     "name": "stdout",
     "output_type": "stream",
     "text": [
      "***\n",
      "ensemble_fusion Loss: 0.3135198950767517\n"
     ]
    },
    {
     "name": "stderr",
     "output_type": "stream",
     "text": [
      "Epoch 47/50:  99%|█████████▊| 200/203 [00:19<00:00, 10.11img/s]"
     ]
    },
    {
     "name": "stdout",
     "output_type": "stream",
     "text": [
      "---\n",
      "ensemble_fusion Validation Dice Loss: 0.37603312730789185\n",
      "ensemble_fusion Validation Pixel Accuracy: 0.9678355434484649\n",
      "ensemble_fusion Validation MIoU: 0.8880161793977119\n",
      "ensemble_fusion Validation Dice Score: 0.9250486493110657\n"
     ]
    },
    {
     "name": "stderr",
     "output_type": "stream",
     "text": [
      "\n",
      "Epoch 48/50:  99%|█████████▊| 200/203 [00:15<00:00, 14.79img/s]"
     ]
    },
    {
     "name": "stdout",
     "output_type": "stream",
     "text": [
      "***\n",
      "ensemble_fusion Loss: 0.3112495541572571\n"
     ]
    },
    {
     "name": "stderr",
     "output_type": "stream",
     "text": [
      "Epoch 48/50:  99%|█████████▊| 200/203 [00:19<00:00, 10.20img/s]"
     ]
    },
    {
     "name": "stdout",
     "output_type": "stream",
     "text": [
      "---\n",
      "ensemble_fusion Validation Dice Loss: 0.3707810044288635\n",
      "ensemble_fusion Validation Pixel Accuracy: 0.970068145216557\n",
      "ensemble_fusion Validation MIoU: 0.8938176889953928\n",
      "ensemble_fusion Validation Dice Score: 0.9239091277122498\n"
     ]
    },
    {
     "name": "stderr",
     "output_type": "stream",
     "text": [
      "\n",
      "Epoch 49/50:  99%|█████████▊| 200/203 [00:15<00:00, 14.91img/s]"
     ]
    },
    {
     "name": "stdout",
     "output_type": "stream",
     "text": [
      "***\n",
      "ensemble_fusion Loss: 0.31217479705810547\n"
     ]
    },
    {
     "name": "stderr",
     "output_type": "stream",
     "text": [
      "Epoch 49/50:  99%|█████████▊| 200/203 [00:19<00:00, 10.24img/s]"
     ]
    },
    {
     "name": "stdout",
     "output_type": "stream",
     "text": [
      "---\n",
      "ensemble_fusion Validation Dice Loss: 0.3725908398628235\n",
      "ensemble_fusion Validation Pixel Accuracy: 0.9686678166975055\n",
      "ensemble_fusion Validation MIoU: 0.8897170029896065\n",
      "ensemble_fusion Validation Dice Score: 0.9220649003982544\n"
     ]
    },
    {
     "name": "stderr",
     "output_type": "stream",
     "text": [
      "\n",
      "Epoch 50/50:  99%|█████████▊| 200/203 [00:15<00:00, 14.94img/s]"
     ]
    },
    {
     "name": "stdout",
     "output_type": "stream",
     "text": [
      "***\n",
      "ensemble_fusion Loss: 0.31027233600616455\n"
     ]
    },
    {
     "name": "stderr",
     "output_type": "stream",
     "text": [
      "Epoch 50/50:  99%|█████████▊| 200/203 [00:19<00:00, 10.09img/s]"
     ]
    },
    {
     "name": "stdout",
     "output_type": "stream",
     "text": [
      "---\n",
      "ensemble_fusion Validation Dice Loss: 0.37631577253341675\n",
      "ensemble_fusion Validation Pixel Accuracy: 0.9682684112013432\n",
      "ensemble_fusion Validation MIoU: 0.8890349943124825\n",
      "ensemble_fusion Validation Dice Score: 0.9229179620742798\n"
     ]
    },
    {
     "name": "stderr",
     "output_type": "stream",
     "text": [
      "\n"
     ]
    }
   ],
   "source": [
    "valScore_list1 = []\n",
    "TrainLoss_list1 = []\n",
    "\n",
    "valScore_list2 = []\n",
    "TrainLoss_list2 = []\n",
    "\n",
    "valScore_list3 = []\n",
    "TrainLoss_list3 = []\n",
    "\n",
    "valScore_list4 = []\n",
    "TrainLoss_list4 = []\n",
    "\n",
    "val_losses = []\n",
    "val_accs = []\n",
    "val_mious = []\n",
    "\n",
    "# 5. Begin training\n",
    "for epoch in range(1, epochs + 1):\n",
    "    model.train()\n",
    "    epoch_loss = 0\n",
    "    epoch_unet_loss = 0\n",
    "    epoch_segnet_loss = 0\n",
    "    epoch_enet_loss = 0\n",
    "    epoch_voting_loss = 0\n",
    "    \n",
    "    with tqdm(total=n_train, desc=f'Epoch {epoch}/{epochs}', unit='img') as pbar:\n",
    "        for batch in train_loader:\n",
    "            images, true_masks = batch['image'], batch['mask']\n",
    "\n",
    "            images = images.to(device=device, dtype=torch.float32, memory_format=torch.channels_last)\n",
    "            true_masks = true_masks.to(device=device, dtype=torch.long)\n",
    "\n",
    "                \n",
    "            result = forward_and_backward(model, images, true_masks, amp, optims, grad_scaler, Model_Name)\n",
    "            \n",
    "            if len(result) == 4:\n",
    "                model, unet_loss, segnet_loss, enet_loss = result\n",
    "                \n",
    "                pbar.update(images.shape[0])\n",
    "                global_step += 1\n",
    "                epoch_unet_loss += unet_loss.item()\n",
    "                epoch_segnet_loss += segnet_loss.item()\n",
    "                epoch_enet_loss += enet_loss.item()\n",
    "                vot_loss = ((unet_loss.item() + segnet_loss.item() + enet_loss.item()) /3)\n",
    "                epoch_voting_loss += vot_loss\n",
    "                \n",
    "                \n",
    "            elif len(result) == 2:\n",
    "                model, loss = result\n",
    "                \n",
    "                pbar.update(images.shape[0])\n",
    "                global_step += 1\n",
    "                epoch_loss += loss.item()\n",
    "\n",
    "\n",
    "        print('***')\n",
    "        if len(result) == 4:\n",
    "            print('Unet Loss: {}     Segnet Loss: {}     Enet Loss: {}'.format(unet_loss, segnet_loss, enet_loss))\n",
    "            print('Voting Loss: {}'.format(vot_loss))\n",
    "            \n",
    "            \n",
    "        elif len(result) == 2:\n",
    "            print('{} Loss: {}'.format(Model_Name, loss))\n",
    "\n",
    "        # Evaluation round\n",
    "        division_step = (n_train // (5 * batch_size))\n",
    "        if division_step > 0:\n",
    "            #if global_step % division_step == 0:\n",
    "            if len(result) == 4:\n",
    "                unet_val_score, segnet_val_score, enet_val_score, voting_val_score, val_loss, val_acc, val_miou = evaluate(model, val_loader, criterion, device, Model_Name, amp)\n",
    "                \n",
    "                unet_scheduler.step(unet_val_score)\n",
    "                segnet_scheduler.step(segnet_val_score)\n",
    "                enet_scheduler.step(enet_val_score)\n",
    "                #voting_scheduler.step(voting_val_score)\n",
    "                \n",
    "                valScore_list1.append(unet_val_score.cpu().detach().numpy())\n",
    "                TrainLoss_list1.append(unet_loss.cpu().detach().numpy())\n",
    "                valScore_list2.append(segnet_val_score.cpu().detach().numpy())\n",
    "                TrainLoss_list2.append(segnet_loss.cpu().detach().numpy())                \n",
    "                valScore_list3.append(enet_val_score.cpu().detach().numpy())\n",
    "                TrainLoss_list3.append(enet_loss.cpu().detach().numpy())\n",
    "                valScore_list4.append(voting_val_score.cpu().detach().numpy())\n",
    "                TrainLoss_list4.append(vot_loss)\n",
    "                \n",
    "                val_losses.append(val_loss)\n",
    "                val_accs.append(val_acc)\n",
    "                val_mious.append(val_miou)\n",
    "                \n",
    "                print('---')\n",
    "                print('Unet Validation Dice Score: {}     Segnet Validation Dice Score: {}     Enet Validation Dice Score: {}'.format(unet_val_score, segnet_val_score, enet_val_score))\n",
    "                print('---')\n",
    "                print('Ensemble Voting Validation Dice Loss: {}'.format(val_loss))\n",
    "                print('Ensemble Voting Validation Pixel Accuracy: {} '.format(val_acc))\n",
    "                print('Ensemble Voting Validation MIoU: {}'.format(val_miou))                \n",
    "                print('Ensemble Voting Validation Dice Score: {} '.format(voting_val_score))\n",
    "                \n",
    "            else:\n",
    "                val_score, val_loss, val_acc, val_miou = evaluate(model, val_loader, criterion, device, Model_Name, amp)\n",
    "                \n",
    "                                \n",
    "                scheduler.step(val_score)\n",
    "                \n",
    "                print('---')\n",
    "                print('{} Validation Dice Loss: {}'.format(Model_Name, val_loss))   \n",
    "                print('{} Validation Pixel Accuracy: {}'.format(Model_Name, val_acc))\n",
    "                print('{} Validation MIoU: {}'.format(Model_Name, val_miou))\n",
    "                print('{} Validation Dice Score: {}'.format(Model_Name, val_score))\n",
    "                \n",
    "            \n",
    "                valScore_list1.append(val_score.cpu().detach().numpy())\n",
    "                TrainLoss_list1.append(loss.cpu().detach().numpy())\n",
    "                val_losses.append(val_loss)\n",
    "                val_accs.append(val_acc)\n",
    "                val_mious.append(val_miou)\n",
    "\n",
    "        \n",
    "    if save_checkpoint:\n",
    "        Path(dir_checkpoint).mkdir(parents=True, exist_ok=True)\n",
    "        torch.save(model.state_dict(), str(dir_checkpoint / 'checkpoint_epoch{}.pth'.format(epoch + 1)))"
   ]
  },
  {
   "cell_type": "code",
   "execution_count": 14,
   "id": "232d4d6e-12ed-4b30-9b2e-7421289573ad",
   "metadata": {},
   "outputs": [],
   "source": [
    "import pandas as pd\n",
    "import matplotlib.pyplot as plt"
   ]
  },
  {
   "cell_type": "code",
   "execution_count": 15,
   "id": "5e7c3590-63c0-4ee6-bf67-25b012d008d7",
   "metadata": {},
   "outputs": [],
   "source": [
    "df = pd.DataFrame([TrainLoss_list1, val_losses, valScore_list1, val_accs, val_mious]).T\n",
    "df.columns = ['train_loss', 'val_loss', 'val_score', 'val_acc', 'val_miou']\n",
    "df.to_csv(checkpoint_dir + '/model_check.csv', encoding = 'UTF-8')"
   ]
  },
  {
   "cell_type": "code",
   "execution_count": 16,
   "id": "e02024f4-5520-4e80-b5e2-1c0f7d4ad10c",
   "metadata": {},
   "outputs": [
    {
     "data": {
      "text/plain": [
       "[<matplotlib.lines.Line2D at 0x7ff1ba58b050>]"
      ]
     },
     "execution_count": 16,
     "metadata": {},
     "output_type": "execute_result"
    },
    {
     "data": {
      "image/png": "[encoded data removed]",
      "text/plain": [
       "<Figure size 1000x500 with 1 Axes>"
      ]
     },
     "metadata": {},
     "output_type": "display_data"
    }
   ],
   "source": [
    "plt.figure(figsize= (10,5))\n",
    "plt.plot(TrainLoss_list1)\n",
    "plt.plot(val_losses)"
   ]
  },
  {
   "cell_type": "code",
   "execution_count": 17,
   "id": "0af788b9-1d94-4072-af4f-5c83165b18fc",
   "metadata": {},
   "outputs": [
    {
     "data": {
      "text/plain": [
       "[<matplotlib.lines.Line2D at 0x7ff1b7f44750>]"
      ]
     },
     "execution_count": 17,
     "metadata": {},
     "output_type": "execute_result"
    },
    {
     "data": {
      "image/png": "[encoded data removed]",
      "text/plain": [
       "<Figure size 1000x500 with 1 Axes>"
      ]
     },
     "metadata": {},
     "output_type": "display_data"
    }
   ],
   "source": [
    "plt.figure(figsize= (10,5))\n",
    "plt.plot(valScore_list1)\n",
    "plt.plot(val_accs)\n",
    "plt.plot(val_mious)"
   ]
  },
  {
   "cell_type": "code",
   "execution_count": null,
   "id": "4795b565-b90f-424f-8455-52d43ad2e5ec",
   "metadata": {},
   "outputs": [],
   "source": []
  },
  {
   "cell_type": "code",
   "execution_count": null,
   "id": "3a6fecb3-338c-4876-b13f-a3ea72b40010",
   "metadata": {},
   "outputs": [],
   "source": []
  },
  {
   "cell_type": "code",
   "execution_count": null,
   "id": "227139a1-2cc9-48d2-9658-43b366c8cfb6",
   "metadata": {},
   "outputs": [],
   "source": []
  }
 ],
 "metadata": {
  "kernelspec": {
   "display_name": "ksh",
   "language": "python",
   "name": "ksh"
  },
  "language_info": {
   "codemirror_mode": {
    "name": "ipython",
    "version": 3
   },
   "file_extension": ".py",
   "mimetype": "text/x-python",
   "name": "python",
   "nbconvert_exporter": "python",
   "pygments_lexer": "ipython3",
   "version": "3.7.16"
  }
 },
 "nbformat": 4,
 "nbformat_minor": 5
}
