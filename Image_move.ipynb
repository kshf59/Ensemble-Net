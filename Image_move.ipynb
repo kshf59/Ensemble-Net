{
 "cells": [
  {
   "cell_type": "code",
   "execution_count": 7,
   "id": "e1e06f97-3d94-4ecd-a8fe-d4cf2bc92bbd",
   "metadata": {},
   "outputs": [],
   "source": [
    "import numpy as np\n",
    "from pathlib import Path\n",
    "from PIL import Image\n",
    "import os"
   ]
  },
  {
   "cell_type": "code",
   "execution_count": 5,
   "id": "f336ec87-07f0-412d-b14f-b461ffdd3ace",
   "metadata": {},
   "outputs": [],
   "source": [
    "Img_Path =  'etc/training/image_2'\n",
    "Mask_Path = 'etc/training/semantic'\n",
    "\n",
    "\n",
    "train_image_save = 'etc/train/images'\n",
    "train_mask_save = 'etc/train/masks'\n",
    "validation_image_save = 'etc/validation/images'\n",
    "validation_mask_save = 'etc/validation/masks'"
   ]
  },
  {
   "cell_type": "code",
   "execution_count": 6,
   "id": "60d5ff4e-bb96-422a-90f0-1446fe117363",
   "metadata": {},
   "outputs": [
    {
     "ename": "NameError",
     "evalue": "name 'os' is not defined",
     "output_type": "error",
     "traceback": [
      "\u001b[0;31m---------------------------------------------------------------------------\u001b[0m",
      "\u001b[0;31mNameError\u001b[0m                                 Traceback (most recent call last)",
      "\u001b[0;32m/tmp/ipykernel_902804/411385459.py\u001b[0m in \u001b[0;36m<module>\u001b[0;34m\u001b[0m\n\u001b[0;32m----> 1\u001b[0;31m \u001b[0mimglist\u001b[0m \u001b[0;34m=\u001b[0m \u001b[0mos\u001b[0m\u001b[0;34m.\u001b[0m\u001b[0mlistdir\u001b[0m\u001b[0;34m(\u001b[0m\u001b[0mdirImg\u001b[0m\u001b[0;34m)\u001b[0m\u001b[0;34m\u001b[0m\u001b[0;34m\u001b[0m\u001b[0m\n\u001b[0m\u001b[1;32m      2\u001b[0m \u001b[0mmasklist\u001b[0m \u001b[0;34m=\u001b[0m \u001b[0mos\u001b[0m\u001b[0;34m.\u001b[0m\u001b[0mlistdir\u001b[0m\u001b[0;34m(\u001b[0m\u001b[0mdirImg\u001b[0m\u001b[0;34m)\u001b[0m\u001b[0;34m\u001b[0m\u001b[0;34m\u001b[0m\u001b[0m\n\u001b[1;32m      3\u001b[0m \u001b[0;34m\u001b[0m\u001b[0m\n\u001b[1;32m      4\u001b[0m \u001b[0mrandom\u001b[0m\u001b[0;34m.\u001b[0m\u001b[0mseed\u001b[0m\u001b[0;34m(\u001b[0m\u001b[0;36m10\u001b[0m\u001b[0;34m)\u001b[0m\u001b[0;34m\u001b[0m\u001b[0;34m\u001b[0m\u001b[0m\n\u001b[1;32m      5\u001b[0m \u001b[0mrandom\u001b[0m\u001b[0;34m.\u001b[0m\u001b[0mshuffle\u001b[0m\u001b[0;34m(\u001b[0m\u001b[0mimglist\u001b[0m\u001b[0;34m)\u001b[0m\u001b[0;34m\u001b[0m\u001b[0;34m\u001b[0m\u001b[0m\n",
      "\u001b[0;31mNameError\u001b[0m: name 'os' is not defined"
     ]
    }
   ],
   "source": [
    "imglist = os.listdir(dirImg)\n",
    "masklist = os.listdir(dirImg)\n",
    "\n",
    "random.seed(10)\n",
    "random.shuffle(imglist)\n",
    "\n",
    "train_ratio = 0.6\n",
    "validation_ratio = 0.4\n",
    "cnt = int(len(imglist) * 0.6)\n",
    "\n",
    "trainImg = imglist[:cnt]\n",
    "valImg = imglist[cnt:]\n",
    "\n",
    "trainMask = list(set(trainImg) & set(masklist))\n",
    "valMask = list(set(valImg) & set(masklist))\n",
    "\n",
    "trainImg.sort(); trainMask.sort(); valImg.sort(); valMask.sort();\n",
    "loader_args = dict(batch_size=Batch_Size, num_workers= os.cpu_count(), pin_memory=Pin_Memory)"
   ]
  },
  {
   "cell_type": "code",
   "execution_count": 10,
   "id": "7a589584-d9a5-4239-9134-04d578f91a74",
   "metadata": {},
   "outputs": [],
   "source": [
    "imglist = os.listdir(Img_Path)\n",
    "masklist = os.listdir(Mask_Path)"
   ]
  },
  {
   "cell_type": "code",
   "execution_count": 21,
   "id": "4cdb3c32-a2f8-44b0-997e-bcc9b4368287",
   "metadata": {},
   "outputs": [
    {
     "data": {
      "text/plain": [
       "'000000_10.png'"
      ]
     },
     "execution_count": 21,
     "metadata": {},
     "output_type": "execute_result"
    }
   ],
   "source": []
  },
  {
   "cell_type": "code",
   "execution_count": 22,
   "id": "598f6197-7858-4ddb-acbe-a084898ae8b4",
   "metadata": {},
   "outputs": [],
   "source": [
    "dd = Image.open(Img_Path + '/' + imglist[0])"
   ]
  },
  {
   "cell_type": "code",
   "execution_count": 24,
   "id": "f791263c-3fdf-4be3-84c2-2317080ba46b",
   "metadata": {},
   "outputs": [
    {
     "data": {
      "text/plain": [
       "array([[[ 21,  22,  18],\n",
       "        [ 21,  21,   8],\n",
       "        [ 19,  20,   7],\n",
       "        ...,\n",
       "        [255, 255, 255],\n",
       "        [255, 255, 255],\n",
       "        [255, 255, 255]],\n",
       "\n",
       "       [[ 21,  28,  20],\n",
       "        [ 20,  26,  32],\n",
       "        [ 20,  24,  34],\n",
       "        ...,\n",
       "        [255, 255, 255],\n",
       "        [255, 255, 255],\n",
       "        [255, 255, 255]],\n",
       "\n",
       "       [[ 27,  27,  18],\n",
       "        [ 27,  33,  34],\n",
       "        [ 23,  34,  43],\n",
       "        ...,\n",
       "        [255, 255, 255],\n",
       "        [255, 255, 255],\n",
       "        [255, 255, 255]],\n",
       "\n",
       "       ...,\n",
       "\n",
       "       [[ 25,  39,  49],\n",
       "        [ 23,  40,  50],\n",
       "        [ 25,  39,  50],\n",
       "        ...,\n",
       "        [ 12,  16,  30],\n",
       "        [ 12,  16,  31],\n",
       "        [ 13,  17,  28]],\n",
       "\n",
       "       [[ 22,  38,  50],\n",
       "        [ 22,  38,  46],\n",
       "        [ 25,  38,  43],\n",
       "        ...,\n",
       "        [ 12,  14,  22],\n",
       "        [ 12,  14,  23],\n",
       "        [ 12,  14,  24]],\n",
       "\n",
       "       [[ 27,  34,  50],\n",
       "        [ 28,  38,  46],\n",
       "        [ 28,  40,  43],\n",
       "        ...,\n",
       "        [ 12,  14,  21],\n",
       "        [ 12,  14,  22],\n",
       "        [ 11,  13,  22]]], dtype=uint8)"
      ]
     },
     "execution_count": 24,
     "metadata": {},
     "output_type": "execute_result"
    }
   ],
   "source": [
    "np.array(dd)"
   ]
  },
  {
   "cell_type": "code",
   "execution_count": 15,
   "id": "be4c7591-64c4-4dc5-b379-5e404af6f363",
   "metadata": {},
   "outputs": [],
   "source": [
    "imglist.sort()\n",
    "masklist.sort()"
   ]
  },
  {
   "cell_type": "code",
   "execution_count": 19,
   "id": "c63e3d25-278c-4d1a-9588-68d890f26579",
   "metadata": {},
   "outputs": [
    {
     "data": {
      "text/plain": [
       "120"
      ]
     },
     "execution_count": 19,
     "metadata": {},
     "output_type": "execute_result"
    }
   ],
   "source": [
    "train_cnt"
   ]
  },
  {
   "cell_type": "code",
   "execution_count": 18,
   "id": "14f166bd-a676-4961-afff-63c811786c8c",
   "metadata": {},
   "outputs": [],
   "source": [
    "train_ratio = 0.6\n",
    "validation_ratio = 0.4\n",
    "train_cnt = int(len(imglist) * 0.6)\n",
    "val_cnt = len(imglist) - train_cnt"
   ]
  },
  {
   "cell_type": "code",
   "execution_count": null,
   "id": "80e796a3-94f2-446b-9436-974e7e9a453a",
   "metadata": {},
   "outputs": [],
   "source": [
    "### train\n",
    "for qwer in range(train_cnt):\n",
    "    Image.open(Img)"
   ]
  },
  {
   "cell_type": "code",
   "execution_count": null,
   "id": "f0041647-efb4-4f1b-9256-36a16ba65b2e",
   "metadata": {},
   "outputs": [],
   "source": [
    "imglist = os.listdir(dirImg)\n",
    "masklist = os.listdir(dirImg)\n",
    "\n",
    "random.seed(10)\n",
    "random.shuffle(imglist)\n",
    "\n",
    "train_ratio = 0.6\n",
    "validation_ratio = 0.4\n",
    "cnt = int(len(imglist) * 0.6)\n",
    "\n",
    "trainImg = imglist[:cnt]\n",
    "valImg = imglist[cnt:]\n",
    "\n",
    "trainMask = list(set(trainImg) & set(masklist))\n",
    "valMask = list(set(valImg) & set(masklist))\n",
    "\n",
    "trainImg.sort(); trainMask.sort(); valImg.sort(); valMask.sort();"
   ]
  }
 ],
 "metadata": {
  "kernelspec": {
   "display_name": "ksh",
   "language": "python",
   "name": "ksh"
  },
  "language_info": {
   "codemirror_mode": {
    "name": "ipython",
    "version": 3
   },
   "file_extension": ".py",
   "mimetype": "text/x-python",
   "name": "python",
   "nbconvert_exporter": "python",
   "pygments_lexer": "ipython3",
   "version": "3.7.16"
  }
 },
 "nbformat": 4,
 "nbformat_minor": 5
}
