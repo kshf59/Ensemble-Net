{
 "cells": [
  {
   "cell_type": "code",
   "execution_count": 1,
   "id": "9233f9db-7d36-41b0-98ec-d9272b3a80b6",
   "metadata": {},
   "outputs": [],
   "source": [
    "import os\n",
    "\n",
    "import numpy as np\n",
    "import torch\n",
    "import torch.nn.functional as F\n",
    "from PIL import Image\n",
    "from torchvision import transforms\n",
    "from utils.data_load import KittiDataset\n",
    "from model.ensemblenet_model import EnsembleNet\n",
    "import time\n",
    "os.environ[\"CUDA_LAUNCH_BLOCKING\"] = \"1\"\n",
    "torch.backends.cudnn.enabled = False"
   ]
  },
  {
   "cell_type": "code",
   "execution_count": 4,
   "id": "6f533693-6821-4280-a4ff-1e78c48c45bd",
   "metadata": {},
   "outputs": [],
   "source": [
    "def predict_img(net,\n",
    "                full_img,\n",
    "                device,\n",
    "                scale_factor=1,\n",
    "                out_threshold=0.5):\n",
    "    net.eval()\n",
    "    #img = torch.from_numpy(BasicDataset.preprocess(None, full_img, scale_factor, is_mask=False))\n",
    "    img = torch.from_numpy(KittiDataset.preprocess(None, full_img, Image_Size, scale_factor, is_mask=False))\n",
    "    img = img.unsqueeze(0)\n",
    "    img = img.to(device=device, dtype=torch.float32)\n",
    "    \n",
    "    with torch.no_grad():\n",
    "        #output = net(img).cpu()\n",
    "        output = net(img)\n",
    "        \n",
    "        if 1 == len(output): \n",
    "            output = F.interpolate(output, (full_img.size[1], full_img.size[0]), mode='bilinear')\n",
    "            if net.n_classes > 1:\n",
    "                mask = output.argmax(dim=1)\n",
    "            else:\n",
    "                mask = torch.sigmoid(output) > out_threshold\n",
    "                \n",
    "        elif 3 == len(output):\n",
    "            out_1 = F.interpolate(output[0], (full_img.size[1], full_img.size[0]), mode='bilinear')\n",
    "            out_2 = F.interpolate(output[1], (full_img.size[1], full_img.size[0]), mode='bilinear')\n",
    "            out_3 = F.interpolate(output[2], (full_img.size[1], full_img.size[0]), mode='bilinear')\n",
    "\n",
    "            if net.n_classes > 1:\n",
    "                vot = (F.softmax(out_1, dim=1) + F.softmax(out_2, dim=1) + F.softmax(out_3, dim=1)) / 3.0\n",
    "                mask = vot.argmax(dim=1)\n",
    "            else:\n",
    "                #vot = (F.softmax(out_1, dim=1) + F.softmax(out_2, dim=1) + F.softmax(out_3, dim=1)) / 3.0\n",
    "                print('error')\n",
    "\n",
    "    return mask[0].cpu().long().squeeze().numpy()"
   ]
  },
  {
   "cell_type": "code",
   "execution_count": 5,
   "id": "5518ed33-86ce-435b-ba35-4841dd500ab5",
   "metadata": {},
   "outputs": [],
   "source": [
    "Num_Class = 2\n",
    "Num_Channel = 3\n",
    "Model_Name = 'ensemble_voting'\n",
    "Scale = 0.5\n",
    "Threshold = 0.5\n",
    "Image_Size = [384, 1216]\n",
    "\n",
    "imgdir = 'data/data_road/testing/image_2/'\n",
    "in_files = os.listdir(imgdir)"
   ]
  },
  {
   "cell_type": "markdown",
   "id": "c4f17c40-9996-45ef-9388-523b38dfd8cc",
   "metadata": {},
   "source": [
    "### E-Net"
   ]
  },
  {
   "cell_type": "code",
   "execution_count": 4,
   "id": "4cff2916-e1e8-4626-8e81-c3065b0c4abb",
   "metadata": {},
   "outputs": [
    {
     "name": "stdout",
     "output_type": "stream",
     "text": [
      "model loaded!\n",
      "enet Predict Image 290 total Inference Time : 19.632378339767456\n"
     ]
    }
   ],
   "source": [
    "#net = UNet(n_channels=3, n_classes=args.classes, bilinear=args.bilinear)\n",
    "net = EnsembleNet(Model_Name, Num_Channel, Num_Class)\n",
    "device = torch.device('cuda' if torch.cuda.is_available() else 'cpu')\n",
    "\n",
    "net.to(device=device)\n",
    "state_dict = torch.load('../trained_enet/checkpoint_epoch51.pth', map_location=device)\n",
    "mask_values = state_dict.pop('mask_values', [0, 1])\n",
    "net.load_state_dict(state_dict)\n",
    "\n",
    "print('model loaded!')\n",
    "\n",
    "start = time.time()\n",
    "for i, filename in enumerate(in_files):\n",
    "    img = Image.open(imgdir + filename)\n",
    "\n",
    "    mask = predict_img(net=net,\n",
    "                       full_img=img,\n",
    "                       scale_factor=Scale,\n",
    "                       out_threshold=Threshold,\n",
    "                       device=device)\n",
    "print('{} Predict Image 290 total Inference Time : {}'.format(Model_Name, time.time() - start))"
   ]
  },
  {
   "cell_type": "markdown",
   "id": "d103f6a4-d99d-41f4-910e-59abd916ae08",
   "metadata": {},
   "source": [
    "### U-Net"
   ]
  },
  {
   "cell_type": "code",
   "execution_count": 9,
   "id": "4516d396-6f1d-4bff-a649-15332d4f3eed",
   "metadata": {},
   "outputs": [
    {
     "name": "stdout",
     "output_type": "stream",
     "text": [
      "model loaded!\n",
      "unet Predict Image 290 total Inference Time : 13.551630020141602\n"
     ]
    }
   ],
   "source": [
    "net = EnsembleNet(Model_Name, Num_Channel, Num_Class)\n",
    "device = torch.device('cuda' if torch.cuda.is_available() else 'cpu')\n",
    "\n",
    "net.to(device=device)\n",
    "state_dict = torch.load('../trained_unet/checkpoint_epoch51.pth', map_location=device)\n",
    "mask_values = state_dict.pop('mask_values', [0, 1])\n",
    "net.load_state_dict(state_dict)\n",
    "\n",
    "print('model loaded!')\n",
    "\n",
    "start = time.time()\n",
    "for i, filename in enumerate(in_files):\n",
    "    img = Image.open(imgdir + filename)\n",
    "\n",
    "    mask = predict_img(net=net,\n",
    "                       full_img=img,\n",
    "                       scale_factor=Scale,\n",
    "                       out_threshold=Threshold,\n",
    "                       device=device)\n",
    "print('{} Predict Image 290 total Inference Time : {}'.format(Model_Name, time.time() - start))"
   ]
  },
  {
   "cell_type": "markdown",
   "id": "f310b64a-e32f-4ef1-bd44-318aea43cf02",
   "metadata": {},
   "source": [
    "### SegNet"
   ]
  },
  {
   "cell_type": "code",
   "execution_count": 4,
   "id": "a8f033d3-c485-4a62-b536-63b1f7784a46",
   "metadata": {},
   "outputs": [
    {
     "name": "stdout",
     "output_type": "stream",
     "text": [
      "model loaded!\n",
      "segnet Predict Image 290 total Inference Time : 22.73341178894043\n"
     ]
    }
   ],
   "source": [
    "net = EnsembleNet(Model_Name, Num_Channel, Num_Class)\n",
    "device = torch.device('cuda' if torch.cuda.is_available() else 'cpu')\n",
    "\n",
    "net.to(device=device)\n",
    "state_dict = torch.load('../trained_segnet/checkpoint_epoch51.pth', map_location=device)\n",
    "mask_values = state_dict.pop('mask_values', [0, 1])\n",
    "net.load_state_dict(state_dict)\n",
    "\n",
    "print('model loaded!')\n",
    "\n",
    "start = time.time()\n",
    "for i, filename in enumerate(in_files):\n",
    "    img = Image.open(imgdir + filename)\n",
    "\n",
    "    mask = predict_img(net=net,\n",
    "                       full_img=img,\n",
    "                       scale_factor=Scale,\n",
    "                       out_threshold=Threshold,\n",
    "                       device=device)\n",
    "print('{} Predict Image 290 total Inference Time : {}'.format(Model_Name, time.time() - start))"
   ]
  },
  {
   "cell_type": "markdown",
   "id": "518d04d3-4b6f-4e59-bec5-c76d7a2acf33",
   "metadata": {},
   "source": [
    "### Ensemble-Net Fusion"
   ]
  },
  {
   "cell_type": "code",
   "execution_count": 6,
   "id": "784db331-11d0-460a-9600-bc83659246df",
   "metadata": {},
   "outputs": [
    {
     "name": "stdout",
     "output_type": "stream",
     "text": [
      "model loaded!\n",
      "ensemble_voting Predict Image 290 total Inference Time : 36.52558779716492\n"
     ]
    }
   ],
   "source": [
    "net = EnsembleNet(Model_Name, Num_Channel, Num_Class)\n",
    "device = torch.device('cuda' if torch.cuda.is_available() else 'cpu')\n",
    "\n",
    "net.to(device=device)\n",
    "state_dict = torch.load('../trained_ensemble_fusion/checkpoint_epoch40.pth', map_location=device)\n",
    "mask_values = state_dict.pop('mask_values', [0, 1])\n",
    "net.load_state_dict(state_dict, strict = False)\n",
    "\n",
    "print('model loaded!')\n",
    "\n",
    "start = time.time()\n",
    "for i, filename in enumerate(in_files):\n",
    "    img = Image.open(imgdir + filename)\n",
    "\n",
    "    mask = predict_img(net=net,\n",
    "                       full_img=img,\n",
    "                       scale_factor=Scale,\n",
    "                       out_threshold=Threshold,\n",
    "                       device=device)\n",
    "print('{} Predict Image 290 total Inference Time : {}'.format(Model_Name, time.time() - start))"
   ]
  },
  {
   "cell_type": "markdown",
   "id": "e42806c0-7669-4ebd-95ed-b8e5ea44fc3b",
   "metadata": {},
   "source": [
    "### Ensemble-Net voting"
   ]
  },
  {
   "cell_type": "code",
   "execution_count": 4,
   "id": "9663f4ac-d61d-4833-a160-e3444948b9f8",
   "metadata": {},
   "outputs": [
    {
     "name": "stdout",
     "output_type": "stream",
     "text": [
      "model loaded!\n",
      "ensemble_voting Predict Image 290 total Inference Time : 35.61333513259888\n"
     ]
    }
   ],
   "source": [
    "net = EnsembleNet(Model_Name, Num_Channel, Num_Class)\n",
    "device = torch.device('cuda' if torch.cuda.is_available() else 'cpu')\n",
    "\n",
    "net.to(device=device)\n",
    "state_dict = torch.load('../trained_ensemble_voting/checkpoint_epoch2.pth', map_location=device)\n",
    "mask_values = state_dict.pop('mask_values', [0, 1])\n",
    "net.load_state_dict(state_dict, strict = False)\n",
    "\n",
    "print('model loaded!')\n",
    "\n",
    "start = time.time()\n",
    "for i, filename in enumerate(in_files):\n",
    "    img = Image.open(imgdir + filename)\n",
    "\n",
    "    mask = predict_img(net=net,\n",
    "                       full_img=img,\n",
    "                       scale_factor=Scale,\n",
    "                       out_threshold=Threshold,\n",
    "                       device=device)\n",
    "\n",
    "print('{} Predict Image 290 total Inference Time : {}'.format(Model_Name, time.time() - start))"
   ]
  },
  {
   "cell_type": "code",
   "execution_count": null,
   "id": "e886b368-ac22-4b04-aef0-384e28988c71",
   "metadata": {},
   "outputs": [],
   "source": []
  },
  {
   "cell_type": "code",
   "execution_count": null,
   "id": "57dba27c-a5db-423b-bd8f-28c982b75345",
   "metadata": {},
   "outputs": [],
   "source": []
  }
 ],
 "metadata": {
  "kernelspec": {
   "display_name": "ksh",
   "language": "python",
   "name": "ksh"
  },
  "language_info": {
   "codemirror_mode": {
    "name": "ipython",
    "version": 3
   },
   "file_extension": ".py",
   "mimetype": "text/x-python",
   "name": "python",
   "nbconvert_exporter": "python",
   "pygments_lexer": "ipython3",
   "version": "3.7.16"
  }
 },
 "nbformat": 4,
 "nbformat_minor": 5
}
