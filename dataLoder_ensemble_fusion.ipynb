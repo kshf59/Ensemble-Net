{
 "cells": [
  {
   "cell_type": "code",
   "execution_count": 1,
   "id": "5f271b9d-c9a3-41c5-a2e5-cd21dc79d5b6",
   "metadata": {
    "tags": []
   },
   "outputs": [],
   "source": [
    "import numpy as np\n",
    "from pathlib import Path\n",
    "from PIL import Image\n",
    "from torch.utils.data import DataLoader, random_split\n",
    "import torch\n",
    "from torch import optim\n",
    "import torch.nn as nn\n",
    "from tqdm import tqdm\n",
    "import torch.nn.functional as F\n",
    "import logging\n",
    "from evaluate import evaluate\n",
    "\n",
    "import os\n",
    "import albumentations as A\n",
    "from albumentations.pytorch import ToTensorV2\n",
    "from collections import OrderedDict\n",
    "\n",
    "from model.ensemblenet_model import EnsembleNet\n",
    "\n",
    "\n",
    "from utils.dice_score import dice_loss\n",
    "from utils.data_load import KittiDataset\n",
    "from torchsummaryX import summary"
   ]
  },
  {
   "cell_type": "code",
   "execution_count": 2,
   "id": "64ae7ca9",
   "metadata": {
    "tags": []
   },
   "outputs": [],
   "source": [
    "Val_Percent = 0.3\n",
    "Scale_Percent = 1.0\n",
    "Batch_Size = 8\n",
    "learning_rate = 0.0001\n",
    "Pin_Memory = False\n",
    "epochs = 50\n",
    "\n",
    "\n",
    "Image_Size = [384, 1216]\n",
    "Gradient_Clipping = 0.8\n",
    "\n",
    "\n",
    "Num_Class = 2\n",
    "Num_Channel = 3\n",
    "amp = True\n",
    "\n",
    "Model_Name = 'ensemble_fusion'\n",
    "\n",
    "\n",
    "Img_Path =  'data/data_road/training/image_2'\n",
    "Mask_Path =  'data/data_road/training/semantic'\n",
    "\n",
    "save_checkpoint = True\n",
    "checkpoint_dir = '../trained' + '_' + Model_Name\n",
    "batch_size = Batch_Size"
   ]
  },
  {
   "cell_type": "code",
   "execution_count": 3,
   "id": "567f8440",
   "metadata": {
    "tags": []
   },
   "outputs": [],
   "source": [
    "dirImg = Path(Img_Path)\n",
    "dirMask = Path(Mask_Path)\n",
    "dir_checkpoint = Path(checkpoint_dir)"
   ]
  },
  {
   "cell_type": "code",
   "execution_count": 4,
   "id": "8e8e3825-8747-4f49-b3ee-eac27522ded2",
   "metadata": {},
   "outputs": [],
   "source": [
    "device = torch.device('cuda' if torch.cuda.is_available() else 'cpu')"
   ]
  },
  {
   "cell_type": "code",
   "execution_count": 5,
   "id": "9a4a35b2-bc69-49e4-b17c-e850f278473d",
   "metadata": {},
   "outputs": [
    {
     "name": "stderr",
     "output_type": "stream",
     "text": [
      "100%|██████████| 289/289 [00:00<00:00, 870.42it/s]\n"
     ]
    }
   ],
   "source": [
    "datasets =  KittiDataset(dirImg, dirMask, Image_Size, Scale_Percent)\n",
    "n_val = int(len(datasets) * Val_Percent)\n",
    "n_train = len(datasets) - n_val\n",
    "train_set, val_set = random_split(datasets, [n_train, n_val], generator=torch.Generator().manual_seed(0))\n",
    "\n",
    "loader_args = dict(batch_size=Batch_Size, num_workers= os.cpu_count(), pin_memory=Pin_Memory)\n",
    "train_loader = DataLoader(train_set, shuffle=True, drop_last = True, **loader_args)\n",
    "val_loader = DataLoader(val_set, shuffle=False, drop_last=True, **loader_args)"
   ]
  },
  {
   "cell_type": "code",
   "execution_count": 6,
   "id": "95b36f40-c709-4e1e-b4f6-66a1954edfd8",
   "metadata": {},
   "outputs": [],
   "source": [
    "model = EnsembleNet(Model_Name, Num_Channel, Num_Class)\n",
    "model = model.to(memory_format=torch.channels_last, device = device)"
   ]
  },
  {
   "cell_type": "code",
   "execution_count": 7,
   "id": "4a29bc96",
   "metadata": {
    "tags": []
   },
   "outputs": [],
   "source": [
    "# 4. Set up the optimizer, the loss, the learning rate scheduler and the loss scaling for AMP\n",
    "#optimizer = optim.RMSprop(model.parameters(), lr=learning_rate, weight_decay=1e-8, momentum=0.9)\n",
    "#optimizer = optim.SGD(model.parameters(), lr=learning_rate, weight_decay=1e-8, momentum=0.9)\n",
    "\n",
    "if 'ensemble_voting' in Model_Name:\n",
    "    unet_optimizer = optim.Adam(model.parameters(), lr=learning_rate, weight_decay=1e-8)\n",
    "    segnet_optimizer = optim.Adam(model.parameters(), lr=learning_rate, weight_decay=1e-8)\n",
    "    enet_optimizer = optim.Adam(model.parameters(), lr=learning_rate, weight_decay=1e-8)\n",
    "    optims = [unet_optimizer, segnet_optimizer, enet_optimizer]\n",
    "    \n",
    "    unet_scheduler = optim.lr_scheduler.ReduceLROnPlateau(unet_optimizer, 'max', patience=2)  # goal: maximize Dice score\n",
    "    segnet_scheduler = optim.lr_scheduler.ReduceLROnPlateau(segnet_optimizer, 'max', patience=2)  # goal: maximize Dice score\n",
    "    enet_scheduler = optim.lr_scheduler.ReduceLROnPlateau(enet_optimizer, 'max', patience=2)  # goal: maximize Dice score\n",
    "       \n",
    "else:\n",
    "    optimizer = optim.Adam(model.parameters(), lr=learning_rate, weight_decay=1e-10)\n",
    "    #optimizer = optim.RMSprop(model.parameters(), lr=learning_rate, weight_decay=1e-10)\n",
    "    optims = [optimizer]\n",
    "    \n",
    "    scheduler = optim.lr_scheduler.ReduceLROnPlateau(optimizer, 'max', patience=2)  # goal: maximize Dice score\n",
    "\n",
    "grad_scaler = torch.cuda.amp.GradScaler(enabled=amp)\n",
    "criterion = nn.CrossEntropyLoss()\n",
    "global_step = 0"
   ]
  },
  {
   "cell_type": "code",
   "execution_count": 8,
   "id": "46e43754-2870-4837-b38a-3f57d6733ddc",
   "metadata": {},
   "outputs": [],
   "source": [
    "def calculate_loss(pred, true_masks, nclass, multiclass):\n",
    "    loss = criterion(pred, true_masks)\n",
    "    loss += dice_loss(\n",
    "        F.softmax(pred, dim=1).float(),\n",
    "        F.one_hot(true_masks, nclass).permute(0, 3, 1, 2).float(),\n",
    "        multiclass=multiclass\n",
    "    )\n",
    "    return loss\n",
    "\n",
    "def grad_forback(models, losses, optim):\n",
    "    optim.zero_grad(set_to_none=True)\n",
    "    grad_scaler.scale(losses).backward()\n",
    "    torch.nn.utils.clip_grad_norm_(models.parameters(), Gradient_Clipping)\n",
    "    grad_scaler.step(optim)\n",
    "    grad_scaler.update()    \n",
    "\n",
    "def forward_and_backward(model, images, true_masks, amp, optimizers, grad_scaler, model_name):\n",
    "    with torch.autocast(device.type if device.type != 'mps' else 'cpu', enabled=amp):\n",
    "        \n",
    "        try:\n",
    "            mn_cls = model.n_classes\n",
    "        except:\n",
    "            mn_cls = model.classifier[-1].out_channels\n",
    "\n",
    "        if model_name == 'ensemble_voting':\n",
    "            unet_pred, segnet_pred, enet_pred = model(images)\n",
    "            #deeplab_pred = deeplab_pred['out']\n",
    "            \n",
    "            unet_loss = calculate_loss(unet_pred, true_masks, mn_cls, multiclass=True)\n",
    "            segnet_loss = calculate_loss(segnet_pred, true_masks, mn_cls, multiclass=True)\n",
    "            enet_loss = calculate_loss(enet_pred, true_masks, mn_cls, multiclass=True)\n",
    "            \n",
    "            \n",
    "        else:\n",
    "            masks_pred = model(images)\n",
    "            if isinstance(masks_pred, OrderedDict):\n",
    "                masks_pred = masks_pred['out']\n",
    "            loss = calculate_loss(masks_pred, true_masks, mn_cls, multiclass=True)\n",
    "    \n",
    "    \n",
    "    if model_name == 'ensemble_voting':\n",
    "        for _loss, _optiz in zip([unet_loss, segnet_loss, enet_loss], optimizers):\n",
    "            grad_forback(model, _loss, _optiz)\n",
    "\n",
    "        return model, unet_loss, segnet_loss, enet_loss\n",
    "    else:\n",
    "        for _loss, _optiz in zip([loss], optimizers):\n",
    "            grad_forback(model, _loss, _optiz)\n",
    "            \n",
    "        return model, loss\n"
   ]
  },
  {
   "cell_type": "code",
   "execution_count": 9,
   "id": "8bb76263-8fd8-437d-9204-8ebc2af3de6d",
   "metadata": {},
   "outputs": [
    {
     "name": "stderr",
     "output_type": "stream",
     "text": [
      "Epoch 1/50:  99%|█████████▊| 200/203 [00:17<00:00, 15.34img/s]"
     ]
    },
    {
     "name": "stdout",
     "output_type": "stream",
     "text": [
      "***\n",
      "ensemble_fusion Loss: 0.8761351704597473\n"
     ]
    },
    {
     "name": "stderr",
     "output_type": "stream",
     "text": [
      "Epoch 1/50:  99%|█████████▊| 200/203 [00:21<00:00,  9.38img/s]"
     ]
    },
    {
     "name": "stdout",
     "output_type": "stream",
     "text": [
      "---\n",
      "ensemble_fusion Validation Dice Loss: 1.0869286060333252\n",
      "ensemble_fusion Validation Pixel Accuracy: 0.8481000933730811\n",
      "ensemble_fusion Validation MIoU: 0.42405004668654067\n",
      "ensemble_fusion Validation Dice Score: 3.3779972000047565e-05\n"
     ]
    },
    {
     "name": "stderr",
     "output_type": "stream",
     "text": [
      "\n",
      "Epoch 2/50:  99%|█████████▊| 200/203 [00:14<00:00, 15.41img/s]"
     ]
    },
    {
     "name": "stdout",
     "output_type": "stream",
     "text": [
      "***\n",
      "ensemble_fusion Loss: 0.7566758394241333\n"
     ]
    },
    {
     "name": "stderr",
     "output_type": "stream",
     "text": [
      "Epoch 2/50:  99%|█████████▊| 200/203 [00:18<00:00, 10.60img/s]"
     ]
    },
    {
     "name": "stdout",
     "output_type": "stream",
     "text": [
      "---\n",
      "ensemble_fusion Validation Dice Loss: 1.10153067111969\n",
      "ensemble_fusion Validation Pixel Accuracy: 0.6938091077302632\n",
      "ensemble_fusion Validation MIoU: 0.48089112963411784\n",
      "ensemble_fusion Validation Dice Score: 0.5443295836448669\n"
     ]
    },
    {
     "name": "stderr",
     "output_type": "stream",
     "text": [
      "\n",
      "Epoch 3/50:  99%|█████████▊| 200/203 [00:14<00:00, 15.38img/s]"
     ]
    },
    {
     "name": "stdout",
     "output_type": "stream",
     "text": [
      "***\n",
      "ensemble_fusion Loss: 0.7615532875061035\n"
     ]
    },
    {
     "name": "stderr",
     "output_type": "stream",
     "text": [
      "Epoch 3/50:  99%|█████████▊| 200/203 [00:18<00:00, 10.71img/s]"
     ]
    },
    {
     "name": "stdout",
     "output_type": "stream",
     "text": [
      "---\n",
      "ensemble_fusion Validation Dice Loss: 0.7737569808959961\n",
      "ensemble_fusion Validation Pixel Accuracy: 0.8853315386855811\n",
      "ensemble_fusion Validation MIoU: 0.7074911086688842\n",
      "ensemble_fusion Validation Dice Score: 0.7290176749229431\n"
     ]
    },
    {
     "name": "stderr",
     "output_type": "stream",
     "text": [
      "\n",
      "Epoch 4/50:  99%|█████████▊| 200/203 [00:15<00:00, 15.28img/s]"
     ]
    },
    {
     "name": "stdout",
     "output_type": "stream",
     "text": [
      "***\n",
      "ensemble_fusion Loss: 0.7430963516235352\n"
     ]
    },
    {
     "name": "stderr",
     "output_type": "stream",
     "text": [
      "Epoch 4/50:  99%|█████████▊| 200/203 [00:18<00:00, 10.63img/s]"
     ]
    },
    {
     "name": "stdout",
     "output_type": "stream",
     "text": [
      "---\n",
      "ensemble_fusion Validation Dice Loss: 0.7714023590087891\n",
      "ensemble_fusion Validation Pixel Accuracy: 0.8726493433902138\n",
      "ensemble_fusion Validation MIoU: 0.6892634136375952\n",
      "ensemble_fusion Validation Dice Score: 0.7188031077384949\n"
     ]
    },
    {
     "name": "stderr",
     "output_type": "stream",
     "text": [
      "\n",
      "Epoch 5/50:  99%|█████████▊| 200/203 [00:14<00:00, 15.17img/s]"
     ]
    },
    {
     "name": "stdout",
     "output_type": "stream",
     "text": [
      "***\n",
      "ensemble_fusion Loss: 0.6814055442810059\n"
     ]
    },
    {
     "name": "stderr",
     "output_type": "stream",
     "text": [
      "Epoch 5/50:  99%|█████████▊| 200/203 [00:18<00:00, 10.62img/s]"
     ]
    },
    {
     "name": "stdout",
     "output_type": "stream",
     "text": [
      "---\n",
      "ensemble_fusion Validation Dice Loss: 0.6811063289642334\n",
      "ensemble_fusion Validation Pixel Accuracy: 0.9179288629899945\n",
      "ensemble_fusion Validation MIoU: 0.7588844744176022\n",
      "ensemble_fusion Validation Dice Score: 0.7742321491241455\n"
     ]
    },
    {
     "name": "stderr",
     "output_type": "stream",
     "text": [
      "\n",
      "Epoch 6/50:  99%|█████████▊| 200/203 [00:14<00:00, 15.20img/s]"
     ]
    },
    {
     "name": "stdout",
     "output_type": "stream",
     "text": [
      "***\n",
      "ensemble_fusion Loss: 0.6599850654602051\n"
     ]
    },
    {
     "name": "stderr",
     "output_type": "stream",
     "text": [
      "Epoch 6/50:  99%|█████████▊| 200/203 [00:18<00:00, 10.61img/s]"
     ]
    },
    {
     "name": "stdout",
     "output_type": "stream",
     "text": [
      "---\n",
      "ensemble_fusion Validation Dice Loss: 0.722851037979126\n",
      "ensemble_fusion Validation Pixel Accuracy: 0.9171838593064693\n",
      "ensemble_fusion Validation MIoU: 0.758655053937219\n",
      "ensemble_fusion Validation Dice Score: 0.782162606716156\n"
     ]
    },
    {
     "name": "stderr",
     "output_type": "stream",
     "text": [
      "\n",
      "Epoch 7/50:  99%|█████████▊| 200/203 [00:14<00:00, 15.45img/s]"
     ]
    },
    {
     "name": "stdout",
     "output_type": "stream",
     "text": [
      "***\n",
      "ensemble_fusion Loss: 0.6338532567024231\n"
     ]
    },
    {
     "name": "stderr",
     "output_type": "stream",
     "text": [
      "Epoch 7/50:  99%|█████████▊| 200/203 [00:18<00:00, 10.64img/s]"
     ]
    },
    {
     "name": "stdout",
     "output_type": "stream",
     "text": [
      "---\n",
      "ensemble_fusion Validation Dice Loss: 0.6685800552368164\n",
      "ensemble_fusion Validation Pixel Accuracy: 0.9227463571648848\n",
      "ensemble_fusion Validation MIoU: 0.7725407746960233\n",
      "ensemble_fusion Validation Dice Score: 0.7969995141029358\n"
     ]
    },
    {
     "name": "stderr",
     "output_type": "stream",
     "text": [
      "\n",
      "Epoch 8/50:  99%|█████████▊| 200/203 [00:14<00:00, 15.26img/s]"
     ]
    },
    {
     "name": "stdout",
     "output_type": "stream",
     "text": [
      "***\n",
      "ensemble_fusion Loss: 0.7063230276107788\n"
     ]
    },
    {
     "name": "stderr",
     "output_type": "stream",
     "text": [
      "Epoch 8/50:  99%|█████████▊| 200/203 [00:18<00:00, 10.64img/s]"
     ]
    },
    {
     "name": "stdout",
     "output_type": "stream",
     "text": [
      "---\n",
      "ensemble_fusion Validation Dice Loss: 0.688085675239563\n",
      "ensemble_fusion Validation Pixel Accuracy: 0.9204952842310855\n",
      "ensemble_fusion Validation MIoU: 0.7592686039737592\n",
      "ensemble_fusion Validation Dice Score: 0.8040423393249512\n"
     ]
    },
    {
     "name": "stderr",
     "output_type": "stream",
     "text": [
      "\n",
      "Epoch 9/50:  99%|█████████▊| 200/203 [00:14<00:00, 15.42img/s]"
     ]
    },
    {
     "name": "stdout",
     "output_type": "stream",
     "text": [
      "***\n",
      "ensemble_fusion Loss: 0.6279897689819336\n"
     ]
    },
    {
     "name": "stderr",
     "output_type": "stream",
     "text": [
      "Epoch 9/50:  99%|█████████▊| 200/203 [00:18<00:00, 10.67img/s]"
     ]
    },
    {
     "name": "stdout",
     "output_type": "stream",
     "text": [
      "---\n",
      "ensemble_fusion Validation Dice Loss: 0.6551279425621033\n",
      "ensemble_fusion Validation Pixel Accuracy: 0.9268664979098136\n",
      "ensemble_fusion Validation MIoU: 0.7798597325208629\n",
      "ensemble_fusion Validation Dice Score: 0.8087636232376099\n"
     ]
    },
    {
     "name": "stderr",
     "output_type": "stream",
     "text": [
      "\n",
      "Epoch 10/50:  99%|█████████▊| 200/203 [00:15<00:00, 15.21img/s]"
     ]
    },
    {
     "name": "stdout",
     "output_type": "stream",
     "text": [
      "***\n",
      "ensemble_fusion Loss: 0.6247209310531616\n"
     ]
    },
    {
     "name": "stderr",
     "output_type": "stream",
     "text": [
      "Epoch 10/50:  99%|█████████▊| 200/203 [00:18<00:00, 10.65img/s]"
     ]
    },
    {
     "name": "stdout",
     "output_type": "stream",
     "text": [
      "---\n",
      "ensemble_fusion Validation Dice Loss: 0.6779279708862305\n",
      "ensemble_fusion Validation Pixel Accuracy: 0.9323358368455318\n",
      "ensemble_fusion Validation MIoU: 0.7850048143789099\n",
      "ensemble_fusion Validation Dice Score: 0.7902219891548157\n"
     ]
    },
    {
     "name": "stderr",
     "output_type": "stream",
     "text": [
      "\n",
      "Epoch 11/50:  99%|█████████▊| 200/203 [00:14<00:00, 15.47img/s]"
     ]
    },
    {
     "name": "stdout",
     "output_type": "stream",
     "text": [
      "***\n",
      "ensemble_fusion Loss: 0.6444939970970154\n"
     ]
    },
    {
     "name": "stderr",
     "output_type": "stream",
     "text": [
      "Epoch 11/50:  99%|█████████▊| 200/203 [00:18<00:00, 10.72img/s]"
     ]
    },
    {
     "name": "stdout",
     "output_type": "stream",
     "text": [
      "---\n",
      "ensemble_fusion Validation Dice Loss: 0.67861008644104\n",
      "ensemble_fusion Validation Pixel Accuracy: 0.9250287507709704\n",
      "ensemble_fusion Validation MIoU: 0.7804122144135455\n",
      "ensemble_fusion Validation Dice Score: 0.8114632964134216\n"
     ]
    },
    {
     "name": "stderr",
     "output_type": "stream",
     "text": [
      "\n",
      "Epoch 12/50:  99%|█████████▊| 200/203 [00:14<00:00, 15.32img/s]"
     ]
    },
    {
     "name": "stdout",
     "output_type": "stream",
     "text": [
      "***\n",
      "ensemble_fusion Loss: 0.5934855937957764\n"
     ]
    },
    {
     "name": "stderr",
     "output_type": "stream",
     "text": [
      "Epoch 12/50:  99%|█████████▊| 200/203 [00:18<00:00, 10.65img/s]"
     ]
    },
    {
     "name": "stdout",
     "output_type": "stream",
     "text": [
      "---\n",
      "ensemble_fusion Validation Dice Loss: 0.6500270366668701\n",
      "ensemble_fusion Validation Pixel Accuracy: 0.9373417904502467\n",
      "ensemble_fusion Validation MIoU: 0.8009717138423221\n",
      "ensemble_fusion Validation Dice Score: 0.8276587724685669\n"
     ]
    },
    {
     "name": "stderr",
     "output_type": "stream",
     "text": [
      "\n",
      "Epoch 13/50:  99%|█████████▊| 200/203 [00:14<00:00, 15.33img/s]"
     ]
    },
    {
     "name": "stdout",
     "output_type": "stream",
     "text": [
      "***\n",
      "ensemble_fusion Loss: 0.6139944195747375\n"
     ]
    },
    {
     "name": "stderr",
     "output_type": "stream",
     "text": [
      "Epoch 13/50:  99%|█████████▊| 200/203 [00:18<00:00, 10.77img/s]"
     ]
    },
    {
     "name": "stdout",
     "output_type": "stream",
     "text": [
      "---\n",
      "ensemble_fusion Validation Dice Loss: 0.6851285696029663\n",
      "ensemble_fusion Validation Pixel Accuracy: 0.9292648047731634\n",
      "ensemble_fusion Validation MIoU: 0.7907408288409388\n",
      "ensemble_fusion Validation Dice Score: 0.8421805500984192\n"
     ]
    },
    {
     "name": "stderr",
     "output_type": "stream",
     "text": [
      "\n",
      "Epoch 14/50:  99%|█████████▊| 200/203 [00:14<00:00, 15.21img/s]"
     ]
    },
    {
     "name": "stdout",
     "output_type": "stream",
     "text": [
      "***\n",
      "ensemble_fusion Loss: 0.6066950559616089\n"
     ]
    },
    {
     "name": "stderr",
     "output_type": "stream",
     "text": [
      "Epoch 14/50:  99%|█████████▊| 200/203 [00:19<00:00, 10.52img/s]"
     ]
    },
    {
     "name": "stdout",
     "output_type": "stream",
     "text": [
      "---\n",
      "ensemble_fusion Validation Dice Loss: 0.6463273763656616\n",
      "ensemble_fusion Validation Pixel Accuracy: 0.9237408554344847\n",
      "ensemble_fusion Validation MIoU: 0.7367301125625625\n",
      "ensemble_fusion Validation Dice Score: 0.7414812445640564\n"
     ]
    },
    {
     "name": "stderr",
     "output_type": "stream",
     "text": [
      "\n",
      "Epoch 15/50:  99%|█████████▊| 200/203 [00:14<00:00, 15.36img/s]"
     ]
    },
    {
     "name": "stdout",
     "output_type": "stream",
     "text": [
      "***\n",
      "ensemble_fusion Loss: 0.5743882656097412\n"
     ]
    },
    {
     "name": "stderr",
     "output_type": "stream",
     "text": [
      "Epoch 15/50:  99%|█████████▊| 200/203 [00:18<00:00, 10.63img/s]"
     ]
    },
    {
     "name": "stdout",
     "output_type": "stream",
     "text": [
      "---\n",
      "ensemble_fusion Validation Dice Loss: 0.6129518747329712\n",
      "ensemble_fusion Validation Pixel Accuracy: 0.9470337984854715\n",
      "ensemble_fusion Validation MIoU: 0.8261133759803931\n",
      "ensemble_fusion Validation Dice Score: 0.8653097152709961\n"
     ]
    },
    {
     "name": "stderr",
     "output_type": "stream",
     "text": [
      "\n",
      "Epoch 16/50:  99%|█████████▊| 200/203 [00:14<00:00, 15.32img/s]"
     ]
    },
    {
     "name": "stdout",
     "output_type": "stream",
     "text": [
      "***\n",
      "ensemble_fusion Loss: 0.5642212629318237\n"
     ]
    },
    {
     "name": "stderr",
     "output_type": "stream",
     "text": [
      "Epoch 16/50:  99%|█████████▊| 200/203 [00:18<00:00, 10.70img/s]"
     ]
    },
    {
     "name": "stdout",
     "output_type": "stream",
     "text": [
      "---\n",
      "ensemble_fusion Validation Dice Loss: 0.6078230738639832\n",
      "ensemble_fusion Validation Pixel Accuracy: 0.948797393263432\n",
      "ensemble_fusion Validation MIoU: 0.8338315616674353\n",
      "ensemble_fusion Validation Dice Score: 0.8323842883110046\n"
     ]
    },
    {
     "name": "stderr",
     "output_type": "stream",
     "text": [
      "\n",
      "Epoch 17/50:  99%|█████████▊| 200/203 [00:15<00:00, 15.48img/s]"
     ]
    },
    {
     "name": "stdout",
     "output_type": "stream",
     "text": [
      "***\n",
      "ensemble_fusion Loss: 0.571562647819519\n"
     ]
    },
    {
     "name": "stderr",
     "output_type": "stream",
     "text": [
      "Epoch 17/50:  99%|█████████▊| 200/203 [00:18<00:00, 10.57img/s]"
     ]
    },
    {
     "name": "stdout",
     "output_type": "stream",
     "text": [
      "---\n",
      "ensemble_fusion Validation Dice Loss: 0.6486621499061584\n",
      "ensemble_fusion Validation Pixel Accuracy: 0.9240503143845943\n",
      "ensemble_fusion Validation MIoU: 0.780535909856677\n",
      "ensemble_fusion Validation Dice Score: 0.8285741209983826\n"
     ]
    },
    {
     "name": "stderr",
     "output_type": "stream",
     "text": [
      "\n",
      "Epoch 18/50:  99%|█████████▊| 200/203 [00:14<00:00, 15.37img/s]"
     ]
    },
    {
     "name": "stdout",
     "output_type": "stream",
     "text": [
      "***\n",
      "ensemble_fusion Loss: 0.5487264394760132\n"
     ]
    },
    {
     "name": "stderr",
     "output_type": "stream",
     "text": [
      "Epoch 18/50:  99%|█████████▊| 200/203 [00:18<00:00, 10.72img/s]"
     ]
    },
    {
     "name": "stdout",
     "output_type": "stream",
     "text": [
      "---\n",
      "ensemble_fusion Validation Dice Loss: 0.6261285543441772\n",
      "ensemble_fusion Validation Pixel Accuracy: 0.937243009868421\n",
      "ensemble_fusion Validation MIoU: 0.8102115544819215\n",
      "ensemble_fusion Validation Dice Score: 0.8661805391311646\n"
     ]
    },
    {
     "name": "stderr",
     "output_type": "stream",
     "text": [
      "\n",
      "Epoch 19/50:  99%|█████████▊| 200/203 [00:15<00:00, 15.31img/s]"
     ]
    },
    {
     "name": "stdout",
     "output_type": "stream",
     "text": [
      "***\n",
      "ensemble_fusion Loss: 0.5891766548156738\n"
     ]
    },
    {
     "name": "stderr",
     "output_type": "stream",
     "text": [
      "Epoch 19/50:  99%|█████████▊| 200/203 [00:18<00:00, 10.58img/s]"
     ]
    },
    {
     "name": "stdout",
     "output_type": "stream",
     "text": [
      "---\n",
      "ensemble_fusion Validation Dice Loss: 0.6242808103561401\n",
      "ensemble_fusion Validation Pixel Accuracy: 0.9415502715529057\n",
      "ensemble_fusion Validation MIoU: 0.8109429607081915\n",
      "ensemble_fusion Validation Dice Score: 0.871006190776825\n"
     ]
    },
    {
     "name": "stderr",
     "output_type": "stream",
     "text": [
      "\n",
      "Epoch 20/50:  99%|█████████▊| 200/203 [00:14<00:00, 15.33img/s]"
     ]
    },
    {
     "name": "stdout",
     "output_type": "stream",
     "text": [
      "***\n",
      "ensemble_fusion Loss: 0.5634157657623291\n"
     ]
    },
    {
     "name": "stderr",
     "output_type": "stream",
     "text": [
      "Epoch 20/50:  99%|█████████▊| 200/203 [00:18<00:00, 10.71img/s]"
     ]
    },
    {
     "name": "stdout",
     "output_type": "stream",
     "text": [
      "---\n",
      "ensemble_fusion Validation Dice Loss: 0.6377948522567749\n",
      "ensemble_fusion Validation Pixel Accuracy: 0.9351434540330318\n",
      "ensemble_fusion Validation MIoU: 0.7871935266121436\n",
      "ensemble_fusion Validation Dice Score: 0.8488909602165222\n"
     ]
    },
    {
     "name": "stderr",
     "output_type": "stream",
     "text": [
      "\n",
      "Epoch 21/50:  99%|█████████▊| 200/203 [00:14<00:00, 15.30img/s]"
     ]
    },
    {
     "name": "stdout",
     "output_type": "stream",
     "text": [
      "***\n",
      "ensemble_fusion Loss: 0.5310739874839783\n"
     ]
    },
    {
     "name": "stderr",
     "output_type": "stream",
     "text": [
      "Epoch 21/50:  99%|█████████▊| 200/203 [00:18<00:00, 10.66img/s]"
     ]
    },
    {
     "name": "stdout",
     "output_type": "stream",
     "text": [
      "---\n",
      "ensemble_fusion Validation Dice Loss: 0.6437495946884155\n",
      "ensemble_fusion Validation Pixel Accuracy: 0.931143509714227\n",
      "ensemble_fusion Validation MIoU: 0.7963496387107678\n",
      "ensemble_fusion Validation Dice Score: 0.8521995544433594\n"
     ]
    },
    {
     "name": "stderr",
     "output_type": "stream",
     "text": [
      "\n",
      "Epoch 22/50:  99%|█████████▊| 200/203 [00:14<00:00, 15.32img/s]"
     ]
    },
    {
     "name": "stdout",
     "output_type": "stream",
     "text": [
      "***\n",
      "ensemble_fusion Loss: 0.5353704690933228\n"
     ]
    },
    {
     "name": "stderr",
     "output_type": "stream",
     "text": [
      "Epoch 22/50:  99%|█████████▊| 200/203 [00:18<00:00, 10.61img/s]"
     ]
    },
    {
     "name": "stdout",
     "output_type": "stream",
     "text": [
      "---\n",
      "ensemble_fusion Validation Dice Loss: 0.5922206044197083\n",
      "ensemble_fusion Validation Pixel Accuracy: 0.9502566153543037\n",
      "ensemble_fusion Validation MIoU: 0.8345470286120236\n",
      "ensemble_fusion Validation Dice Score: 0.8613702058792114\n"
     ]
    },
    {
     "name": "stderr",
     "output_type": "stream",
     "text": [
      "\n",
      "Epoch 23/50:  99%|█████████▊| 200/203 [00:14<00:00, 15.34img/s]"
     ]
    },
    {
     "name": "stdout",
     "output_type": "stream",
     "text": [
      "***\n",
      "ensemble_fusion Loss: 0.5301014184951782\n"
     ]
    },
    {
     "name": "stderr",
     "output_type": "stream",
     "text": [
      "Epoch 23/50:  99%|█████████▊| 200/203 [00:18<00:00, 10.80img/s]"
     ]
    },
    {
     "name": "stdout",
     "output_type": "stream",
     "text": [
      "---\n",
      "ensemble_fusion Validation Dice Loss: 0.5837021470069885\n",
      "ensemble_fusion Validation Pixel Accuracy: 0.9488217537863213\n",
      "ensemble_fusion Validation MIoU: 0.8338094635598308\n",
      "ensemble_fusion Validation Dice Score: 0.8842386603355408\n"
     ]
    },
    {
     "name": "stderr",
     "output_type": "stream",
     "text": [
      "\n",
      "Epoch 24/50:  99%|█████████▊| 200/203 [00:14<00:00, 15.57img/s]"
     ]
    },
    {
     "name": "stdout",
     "output_type": "stream",
     "text": [
      "***\n",
      "ensemble_fusion Loss: 0.5398496389389038\n"
     ]
    },
    {
     "name": "stderr",
     "output_type": "stream",
     "text": [
      "Epoch 24/50:  99%|█████████▊| 200/203 [00:18<00:00, 10.75img/s]"
     ]
    },
    {
     "name": "stdout",
     "output_type": "stream",
     "text": [
      "---\n",
      "ensemble_fusion Validation Dice Loss: 0.578210711479187\n",
      "ensemble_fusion Validation Pixel Accuracy: 0.9554628071032072\n",
      "ensemble_fusion Validation MIoU: 0.8506818405593791\n",
      "ensemble_fusion Validation Dice Score: 0.8885278105735779\n"
     ]
    },
    {
     "name": "stderr",
     "output_type": "stream",
     "text": [
      "\n",
      "Epoch 25/50:  99%|█████████▊| 200/203 [00:14<00:00, 15.40img/s]"
     ]
    },
    {
     "name": "stdout",
     "output_type": "stream",
     "text": [
      "***\n",
      "ensemble_fusion Loss: 0.5216575860977173\n"
     ]
    },
    {
     "name": "stderr",
     "output_type": "stream",
     "text": [
      "Epoch 25/50:  99%|█████████▊| 200/203 [00:18<00:00, 10.67img/s]"
     ]
    },
    {
     "name": "stdout",
     "output_type": "stream",
     "text": [
      "---\n",
      "ensemble_fusion Validation Dice Loss: 0.5715063810348511\n",
      "ensemble_fusion Validation Pixel Accuracy: 0.9576175087376645\n",
      "ensemble_fusion Validation MIoU: 0.8564833741751712\n",
      "ensemble_fusion Validation Dice Score: 0.8901534080505371\n"
     ]
    },
    {
     "name": "stderr",
     "output_type": "stream",
     "text": [
      "\n",
      "Epoch 26/50:  99%|█████████▊| 200/203 [00:14<00:00, 15.50img/s]"
     ]
    },
    {
     "name": "stdout",
     "output_type": "stream",
     "text": [
      "***\n",
      "ensemble_fusion Loss: 0.5108619928359985\n"
     ]
    },
    {
     "name": "stderr",
     "output_type": "stream",
     "text": [
      "Epoch 26/50:  99%|█████████▊| 200/203 [00:18<00:00, 10.57img/s]"
     ]
    },
    {
     "name": "stdout",
     "output_type": "stream",
     "text": [
      "---\n",
      "ensemble_fusion Validation Dice Loss: 0.5668564438819885\n",
      "ensemble_fusion Validation Pixel Accuracy: 0.9578322025767544\n",
      "ensemble_fusion Validation MIoU: 0.8571695381364307\n",
      "ensemble_fusion Validation Dice Score: 0.8897855877876282\n"
     ]
    },
    {
     "name": "stderr",
     "output_type": "stream",
     "text": [
      "\n",
      "Epoch 27/50:  99%|█████████▊| 200/203 [00:14<00:00, 15.42img/s]"
     ]
    },
    {
     "name": "stdout",
     "output_type": "stream",
     "text": [
      "***\n",
      "ensemble_fusion Loss: 0.5146389007568359\n"
     ]
    },
    {
     "name": "stderr",
     "output_type": "stream",
     "text": [
      "Epoch 27/50:  99%|█████████▊| 200/203 [00:18<00:00, 10.68img/s]"
     ]
    },
    {
     "name": "stdout",
     "output_type": "stream",
     "text": [
      "---\n",
      "ensemble_fusion Validation Dice Loss: 0.5665117502212524\n",
      "ensemble_fusion Validation Pixel Accuracy: 0.9588847913240132\n",
      "ensemble_fusion Validation MIoU: 0.8596785884220796\n",
      "ensemble_fusion Validation Dice Score: 0.8910544514656067\n"
     ]
    },
    {
     "name": "stderr",
     "output_type": "stream",
     "text": [
      "\n",
      "Epoch 28/50:  99%|█████████▊| 200/203 [00:14<00:00, 15.34img/s]"
     ]
    },
    {
     "name": "stdout",
     "output_type": "stream",
     "text": [
      "***\n",
      "ensemble_fusion Loss: 0.5209636688232422\n"
     ]
    },
    {
     "name": "stderr",
     "output_type": "stream",
     "text": [
      "Epoch 28/50:  99%|█████████▊| 200/203 [00:18<00:00, 10.64img/s]"
     ]
    },
    {
     "name": "stdout",
     "output_type": "stream",
     "text": [
      "---\n",
      "ensemble_fusion Validation Dice Loss: 0.5706806182861328\n",
      "ensemble_fusion Validation Pixel Accuracy: 0.9593326501679003\n",
      "ensemble_fusion Validation MIoU: 0.8607162105634223\n",
      "ensemble_fusion Validation Dice Score: 0.8992524147033691\n"
     ]
    },
    {
     "name": "stderr",
     "output_type": "stream",
     "text": [
      "\n",
      "Epoch 29/50:  99%|█████████▊| 200/203 [00:14<00:00, 15.36img/s]"
     ]
    },
    {
     "name": "stdout",
     "output_type": "stream",
     "text": [
      "***\n",
      "ensemble_fusion Loss: 0.5159148573875427\n"
     ]
    },
    {
     "name": "stderr",
     "output_type": "stream",
     "text": [
      "Epoch 29/50:  99%|█████████▊| 200/203 [00:18<00:00, 10.60img/s]"
     ]
    },
    {
     "name": "stdout",
     "output_type": "stream",
     "text": [
      "---\n",
      "ensemble_fusion Validation Dice Loss: 0.5647807121276855\n",
      "ensemble_fusion Validation Pixel Accuracy: 0.9602883322197094\n",
      "ensemble_fusion Validation MIoU: 0.8639107662283831\n",
      "ensemble_fusion Validation Dice Score: 0.8961955308914185\n"
     ]
    },
    {
     "name": "stderr",
     "output_type": "stream",
     "text": [
      "\n",
      "Epoch 30/50:  99%|█████████▊| 200/203 [00:14<00:00, 15.31img/s]"
     ]
    },
    {
     "name": "stdout",
     "output_type": "stream",
     "text": [
      "***\n",
      "ensemble_fusion Loss: 0.5108088254928589\n"
     ]
    },
    {
     "name": "stderr",
     "output_type": "stream",
     "text": [
      "Epoch 30/50:  99%|█████████▊| 200/203 [00:18<00:00, 10.60img/s]"
     ]
    },
    {
     "name": "stdout",
     "output_type": "stream",
     "text": [
      "---\n",
      "ensemble_fusion Validation Dice Loss: 0.5659555792808533\n",
      "ensemble_fusion Validation Pixel Accuracy: 0.958047164113898\n",
      "ensemble_fusion Validation MIoU: 0.8578162345166789\n",
      "ensemble_fusion Validation Dice Score: 0.89634770154953\n"
     ]
    },
    {
     "name": "stderr",
     "output_type": "stream",
     "text": [
      "\n",
      "Epoch 31/50:  99%|█████████▊| 200/203 [00:14<00:00, 15.32img/s]"
     ]
    },
    {
     "name": "stdout",
     "output_type": "stream",
     "text": [
      "***\n",
      "ensemble_fusion Loss: 0.5194578170776367\n"
     ]
    },
    {
     "name": "stderr",
     "output_type": "stream",
     "text": [
      "Epoch 31/50:  99%|█████████▊| 200/203 [00:18<00:00, 10.75img/s]"
     ]
    },
    {
     "name": "stdout",
     "output_type": "stream",
     "text": [
      "---\n",
      "ensemble_fusion Validation Dice Loss: 0.5670716762542725\n",
      "ensemble_fusion Validation Pixel Accuracy: 0.9590553149842379\n",
      "ensemble_fusion Validation MIoU: 0.8596654773297838\n",
      "ensemble_fusion Validation Dice Score: 0.8980733156204224\n"
     ]
    },
    {
     "name": "stderr",
     "output_type": "stream",
     "text": [
      "\n",
      "Epoch 32/50:  99%|█████████▊| 200/203 [00:14<00:00, 15.27img/s]"
     ]
    },
    {
     "name": "stdout",
     "output_type": "stream",
     "text": [
      "***\n",
      "ensemble_fusion Loss: 0.5212926268577576\n"
     ]
    },
    {
     "name": "stderr",
     "output_type": "stream",
     "text": [
      "Epoch 32/50:  99%|█████████▊| 200/203 [00:18<00:00, 10.62img/s]"
     ]
    },
    {
     "name": "stdout",
     "output_type": "stream",
     "text": [
      "---\n",
      "ensemble_fusion Validation Dice Loss: 0.5645996928215027\n",
      "ensemble_fusion Validation Pixel Accuracy: 0.9588143867358827\n",
      "ensemble_fusion Validation MIoU: 0.8588657374320148\n",
      "ensemble_fusion Validation Dice Score: 0.895678699016571\n"
     ]
    },
    {
     "name": "stderr",
     "output_type": "stream",
     "text": [
      "\n",
      "Epoch 33/50:  99%|█████████▊| 200/203 [00:14<00:00, 15.50img/s]"
     ]
    },
    {
     "name": "stdout",
     "output_type": "stream",
     "text": [
      "***\n",
      "ensemble_fusion Loss: 0.5214693546295166\n"
     ]
    },
    {
     "name": "stderr",
     "output_type": "stream",
     "text": [
      "Epoch 33/50:  99%|█████████▊| 200/203 [00:18<00:00, 10.60img/s]"
     ]
    },
    {
     "name": "stdout",
     "output_type": "stream",
     "text": [
      "---\n",
      "ensemble_fusion Validation Dice Loss: 0.567196249961853\n",
      "ensemble_fusion Validation Pixel Accuracy: 0.9580300314384594\n",
      "ensemble_fusion Validation MIoU: 0.857285090156138\n",
      "ensemble_fusion Validation Dice Score: 0.8970061540603638\n"
     ]
    },
    {
     "name": "stderr",
     "output_type": "stream",
     "text": [
      "\n",
      "Epoch 34/50:  99%|█████████▊| 200/203 [00:14<00:00, 15.32img/s]"
     ]
    },
    {
     "name": "stdout",
     "output_type": "stream",
     "text": [
      "***\n",
      "ensemble_fusion Loss: 0.5259894728660583\n"
     ]
    },
    {
     "name": "stderr",
     "output_type": "stream",
     "text": [
      "Epoch 34/50:  99%|█████████▊| 200/203 [00:18<00:00, 10.63img/s]"
     ]
    },
    {
     "name": "stdout",
     "output_type": "stream",
     "text": [
      "---\n",
      "ensemble_fusion Validation Dice Loss: 0.5652894973754883\n",
      "ensemble_fusion Validation Pixel Accuracy: 0.9581057899876645\n",
      "ensemble_fusion Validation MIoU: 0.8579937664716892\n",
      "ensemble_fusion Validation Dice Score: 0.8989483118057251\n"
     ]
    },
    {
     "name": "stderr",
     "output_type": "stream",
     "text": [
      "\n",
      "Epoch 35/50:  99%|█████████▊| 200/203 [00:14<00:00, 15.51img/s]"
     ]
    },
    {
     "name": "stdout",
     "output_type": "stream",
     "text": [
      "***\n",
      "ensemble_fusion Loss: 0.5127054452896118\n"
     ]
    },
    {
     "name": "stderr",
     "output_type": "stream",
     "text": [
      "Epoch 35/50:  99%|█████████▊| 200/203 [00:18<00:00, 10.80img/s]"
     ]
    },
    {
     "name": "stdout",
     "output_type": "stream",
     "text": [
      "---\n",
      "ensemble_fusion Validation Dice Loss: 0.5666849613189697\n",
      "ensemble_fusion Validation Pixel Accuracy: 0.9581237257572642\n",
      "ensemble_fusion Validation MIoU: 0.8578313624700993\n",
      "ensemble_fusion Validation Dice Score: 0.8985673189163208\n"
     ]
    },
    {
     "name": "stderr",
     "output_type": "stream",
     "text": [
      "\n",
      "Epoch 36/50:  99%|█████████▊| 200/203 [00:14<00:00, 15.51img/s]"
     ]
    },
    {
     "name": "stdout",
     "output_type": "stream",
     "text": [
      "***\n",
      "ensemble_fusion Loss: 0.5222127437591553\n"
     ]
    },
    {
     "name": "stderr",
     "output_type": "stream",
     "text": [
      "Epoch 36/50:  99%|█████████▊| 200/203 [00:18<00:00, 10.62img/s]"
     ]
    },
    {
     "name": "stdout",
     "output_type": "stream",
     "text": [
      "---\n",
      "ensemble_fusion Validation Dice Loss: 0.565812885761261\n",
      "ensemble_fusion Validation Pixel Accuracy: 0.9577411852384868\n",
      "ensemble_fusion Validation MIoU: 0.8567397765602218\n",
      "ensemble_fusion Validation Dice Score: 0.8984491229057312\n"
     ]
    },
    {
     "name": "stderr",
     "output_type": "stream",
     "text": [
      "\n",
      "Epoch 37/50:  99%|█████████▊| 200/203 [00:14<00:00, 15.30img/s]"
     ]
    },
    {
     "name": "stdout",
     "output_type": "stream",
     "text": [
      "***\n",
      "ensemble_fusion Loss: 0.5205265879631042\n"
     ]
    },
    {
     "name": "stderr",
     "output_type": "stream",
     "text": [
      "Epoch 37/50:  99%|█████████▊| 200/203 [00:18<00:00, 10.63img/s]"
     ]
    },
    {
     "name": "stdout",
     "output_type": "stream",
     "text": [
      "---\n",
      "ensemble_fusion Validation Dice Loss: 0.5637778043746948\n",
      "ensemble_fusion Validation Pixel Accuracy: 0.9585102817468476\n",
      "ensemble_fusion Validation MIoU: 0.8594293481498065\n",
      "ensemble_fusion Validation Dice Score: 0.9001489877700806\n"
     ]
    },
    {
     "name": "stderr",
     "output_type": "stream",
     "text": [
      "\n",
      "Epoch 38/50:  99%|█████████▊| 200/203 [00:14<00:00, 15.36img/s]"
     ]
    },
    {
     "name": "stdout",
     "output_type": "stream",
     "text": [
      "***\n",
      "ensemble_fusion Loss: 0.5085561275482178\n"
     ]
    },
    {
     "name": "stderr",
     "output_type": "stream",
     "text": [
      "Epoch 38/50:  99%|█████████▊| 200/203 [00:19<00:00, 10.52img/s]"
     ]
    },
    {
     "name": "stdout",
     "output_type": "stream",
     "text": [
      "---\n",
      "ensemble_fusion Validation Dice Loss: 0.5622900724411011\n",
      "ensemble_fusion Validation Pixel Accuracy: 0.9592528761478892\n",
      "ensemble_fusion Validation MIoU: 0.8603944454841254\n",
      "ensemble_fusion Validation Dice Score: 0.8983990550041199\n"
     ]
    },
    {
     "name": "stderr",
     "output_type": "stream",
     "text": [
      "\n",
      "Epoch 39/50:  99%|█████████▊| 200/203 [00:15<00:00, 15.30img/s]"
     ]
    },
    {
     "name": "stdout",
     "output_type": "stream",
     "text": [
      "***\n",
      "ensemble_fusion Loss: 0.5085155963897705\n"
     ]
    },
    {
     "name": "stderr",
     "output_type": "stream",
     "text": [
      "Epoch 39/50:  99%|█████████▊| 200/203 [00:18<00:00, 10.64img/s]"
     ]
    },
    {
     "name": "stdout",
     "output_type": "stream",
     "text": [
      "---\n",
      "ensemble_fusion Validation Dice Loss: 0.5625463128089905\n",
      "ensemble_fusion Validation Pixel Accuracy: 0.9595861602247807\n",
      "ensemble_fusion Validation MIoU: 0.8618315709403026\n",
      "ensemble_fusion Validation Dice Score: 0.8997482657432556\n"
     ]
    },
    {
     "name": "stderr",
     "output_type": "stream",
     "text": [
      "\n",
      "Epoch 40/50:  99%|█████████▊| 200/203 [00:15<00:00, 15.23img/s]"
     ]
    },
    {
     "name": "stdout",
     "output_type": "stream",
     "text": [
      "***\n",
      "ensemble_fusion Loss: 0.5274930000305176\n"
     ]
    },
    {
     "name": "stderr",
     "output_type": "stream",
     "text": [
      "Epoch 40/50:  99%|█████████▊| 200/203 [00:19<00:00, 10.45img/s]"
     ]
    },
    {
     "name": "stdout",
     "output_type": "stream",
     "text": [
      "---\n",
      "ensemble_fusion Validation Dice Loss: 0.5623902082443237\n",
      "ensemble_fusion Validation Pixel Accuracy: 0.9594014485677084\n",
      "ensemble_fusion Validation MIoU: 0.8615791078607298\n",
      "ensemble_fusion Validation Dice Score: 0.899625301361084\n"
     ]
    },
    {
     "name": "stderr",
     "output_type": "stream",
     "text": [
      "\n",
      "Epoch 41/50:  99%|█████████▊| 200/203 [00:14<00:00, 15.42img/s]"
     ]
    },
    {
     "name": "stdout",
     "output_type": "stream",
     "text": [
      "***\n",
      "ensemble_fusion Loss: 0.5129043459892273\n"
     ]
    },
    {
     "name": "stderr",
     "output_type": "stream",
     "text": [
      "Epoch 41/50:  99%|█████████▊| 200/203 [00:18<00:00, 10.67img/s]"
     ]
    },
    {
     "name": "stdout",
     "output_type": "stream",
     "text": [
      "---\n",
      "ensemble_fusion Validation Dice Loss: 0.5643913745880127\n",
      "ensemble_fusion Validation Pixel Accuracy: 0.9581994843064693\n",
      "ensemble_fusion Validation MIoU: 0.8575980750221203\n",
      "ensemble_fusion Validation Dice Score: 0.8979067802429199\n"
     ]
    },
    {
     "name": "stderr",
     "output_type": "stream",
     "text": [
      "\n",
      "Epoch 42/50:  99%|█████████▊| 200/203 [00:14<00:00, 15.44img/s]"
     ]
    },
    {
     "name": "stdout",
     "output_type": "stream",
     "text": [
      "***\n",
      "ensemble_fusion Loss: 0.5132399797439575\n"
     ]
    },
    {
     "name": "stderr",
     "output_type": "stream",
     "text": [
      "Epoch 42/50:  99%|█████████▊| 200/203 [00:18<00:00, 10.66img/s]"
     ]
    },
    {
     "name": "stdout",
     "output_type": "stream",
     "text": [
      "---\n",
      "ensemble_fusion Validation Dice Loss: 0.5671560764312744\n",
      "ensemble_fusion Validation Pixel Accuracy: 0.958779585988898\n",
      "ensemble_fusion Validation MIoU: 0.8595776063222904\n",
      "ensemble_fusion Validation Dice Score: 0.8984244465827942\n"
     ]
    },
    {
     "name": "stderr",
     "output_type": "stream",
     "text": [
      "\n",
      "Epoch 43/50:  99%|█████████▊| 200/203 [00:14<00:00, 15.37img/s]"
     ]
    },
    {
     "name": "stdout",
     "output_type": "stream",
     "text": [
      "***\n",
      "ensemble_fusion Loss: 0.5232877135276794\n"
     ]
    },
    {
     "name": "stderr",
     "output_type": "stream",
     "text": [
      "Epoch 43/50:  99%|█████████▊| 200/203 [00:18<00:00, 10.56img/s]"
     ]
    },
    {
     "name": "stdout",
     "output_type": "stream",
     "text": [
      "---\n",
      "ensemble_fusion Validation Dice Loss: 0.5656017065048218\n",
      "ensemble_fusion Validation Pixel Accuracy: 0.9590239943119517\n",
      "ensemble_fusion Validation MIoU: 0.860722839078808\n",
      "ensemble_fusion Validation Dice Score: 0.8992271423339844\n"
     ]
    },
    {
     "name": "stderr",
     "output_type": "stream",
     "text": [
      "\n",
      "Epoch 44/50:  99%|█████████▊| 200/203 [00:14<00:00, 15.39img/s]"
     ]
    },
    {
     "name": "stdout",
     "output_type": "stream",
     "text": [
      "***\n",
      "ensemble_fusion Loss: 0.512985348701477\n"
     ]
    },
    {
     "name": "stderr",
     "output_type": "stream",
     "text": [
      "Epoch 44/50:  99%|█████████▊| 200/203 [00:19<00:00, 10.52img/s]"
     ]
    },
    {
     "name": "stdout",
     "output_type": "stream",
     "text": [
      "---\n",
      "ensemble_fusion Validation Dice Loss: 0.565536379814148\n",
      "ensemble_fusion Validation Pixel Accuracy: 0.9584805672628838\n",
      "ensemble_fusion Validation MIoU: 0.8581809992687219\n",
      "ensemble_fusion Validation Dice Score: 0.8979969024658203\n"
     ]
    },
    {
     "name": "stderr",
     "output_type": "stream",
     "text": [
      "\n",
      "Epoch 45/50:  99%|█████████▊| 200/203 [00:15<00:00, 15.33img/s]"
     ]
    },
    {
     "name": "stdout",
     "output_type": "stream",
     "text": [
      "***\n",
      "ensemble_fusion Loss: 0.5131732225418091\n"
     ]
    },
    {
     "name": "stderr",
     "output_type": "stream",
     "text": [
      "Epoch 45/50:  99%|█████████▊| 200/203 [00:18<00:00, 10.56img/s]"
     ]
    },
    {
     "name": "stdout",
     "output_type": "stream",
     "text": [
      "---\n",
      "ensemble_fusion Validation Dice Loss: 0.5689031481742859\n",
      "ensemble_fusion Validation Pixel Accuracy: 0.9580209297046327\n",
      "ensemble_fusion Validation MIoU: 0.8572579974932972\n",
      "ensemble_fusion Validation Dice Score: 0.8967211842536926\n"
     ]
    },
    {
     "name": "stderr",
     "output_type": "stream",
     "text": [
      "\n",
      "Epoch 46/50:  99%|█████████▊| 200/203 [00:14<00:00, 15.36img/s]"
     ]
    },
    {
     "name": "stdout",
     "output_type": "stream",
     "text": [
      "***\n",
      "ensemble_fusion Loss: 0.5116257667541504\n"
     ]
    },
    {
     "name": "stderr",
     "output_type": "stream",
     "text": [
      "Epoch 46/50:  99%|█████████▊| 200/203 [00:18<00:00, 10.66img/s]"
     ]
    },
    {
     "name": "stdout",
     "output_type": "stream",
     "text": [
      "---\n",
      "ensemble_fusion Validation Dice Loss: 0.5665367841720581\n",
      "ensemble_fusion Validation Pixel Accuracy: 0.9587479976185581\n",
      "ensemble_fusion Validation MIoU: 0.8592127786985894\n",
      "ensemble_fusion Validation Dice Score: 0.8981986045837402\n"
     ]
    },
    {
     "name": "stderr",
     "output_type": "stream",
     "text": [
      "\n",
      "Epoch 47/50:  99%|█████████▊| 200/203 [00:14<00:00, 15.35img/s]"
     ]
    },
    {
     "name": "stdout",
     "output_type": "stream",
     "text": [
      "***\n",
      "ensemble_fusion Loss: 0.5175126791000366\n"
     ]
    },
    {
     "name": "stderr",
     "output_type": "stream",
     "text": [
      "Epoch 47/50:  99%|█████████▊| 200/203 [00:18<00:00, 10.59img/s]"
     ]
    },
    {
     "name": "stdout",
     "output_type": "stream",
     "text": [
      "---\n",
      "ensemble_fusion Validation Dice Loss: 0.5620449781417847\n",
      "ensemble_fusion Validation Pixel Accuracy: 0.9586178963644463\n",
      "ensemble_fusion Validation MIoU: 0.8592405693900669\n",
      "ensemble_fusion Validation Dice Score: 0.8975836634635925\n"
     ]
    },
    {
     "name": "stderr",
     "output_type": "stream",
     "text": [
      "\n",
      "Epoch 48/50:  99%|█████████▊| 200/203 [00:14<00:00, 15.33img/s]"
     ]
    },
    {
     "name": "stdout",
     "output_type": "stream",
     "text": [
      "***\n",
      "ensemble_fusion Loss: 0.5145591497421265\n"
     ]
    },
    {
     "name": "stderr",
     "output_type": "stream",
     "text": [
      "Epoch 48/50:  99%|█████████▊| 200/203 [00:18<00:00, 10.68img/s]"
     ]
    },
    {
     "name": "stdout",
     "output_type": "stream",
     "text": [
      "---\n",
      "ensemble_fusion Validation Dice Loss: 0.5684067010879517\n",
      "ensemble_fusion Validation Pixel Accuracy: 0.957619918020148\n",
      "ensemble_fusion Validation MIoU: 0.8564753615150216\n",
      "ensemble_fusion Validation Dice Score: 0.8974949717521667\n"
     ]
    },
    {
     "name": "stderr",
     "output_type": "stream",
     "text": [
      "\n",
      "Epoch 49/50:  99%|█████████▊| 200/203 [00:15<00:00, 15.51img/s]"
     ]
    },
    {
     "name": "stdout",
     "output_type": "stream",
     "text": [
      "***\n",
      "ensemble_fusion Loss: 0.5070370435714722\n"
     ]
    },
    {
     "name": "stderr",
     "output_type": "stream",
     "text": [
      "Epoch 49/50:  99%|█████████▊| 200/203 [00:18<00:00, 10.57img/s]"
     ]
    },
    {
     "name": "stdout",
     "output_type": "stream",
     "text": [
      "---\n",
      "ensemble_fusion Validation Dice Loss: 0.565160870552063\n",
      "ensemble_fusion Validation Pixel Accuracy: 0.9586278011924342\n",
      "ensemble_fusion Validation MIoU: 0.8597535822731301\n",
      "ensemble_fusion Validation Dice Score: 0.899686336517334\n"
     ]
    },
    {
     "name": "stderr",
     "output_type": "stream",
     "text": [
      "\n",
      "Epoch 50/50:  99%|█████████▊| 200/203 [00:15<00:00, 15.18img/s]"
     ]
    },
    {
     "name": "stdout",
     "output_type": "stream",
     "text": [
      "***\n",
      "ensemble_fusion Loss: 0.5141115188598633\n"
     ]
    },
    {
     "name": "stderr",
     "output_type": "stream",
     "text": [
      "Epoch 50/50:  99%|█████████▊| 200/203 [00:19<00:00, 10.48img/s]"
     ]
    },
    {
     "name": "stdout",
     "output_type": "stream",
     "text": [
      "---\n",
      "ensemble_fusion Validation Dice Loss: 0.5645545721054077\n",
      "ensemble_fusion Validation Pixel Accuracy: 0.9581917210629112\n",
      "ensemble_fusion Validation MIoU: 0.8579394133186891\n",
      "ensemble_fusion Validation Dice Score: 0.8987997174263\n"
     ]
    },
    {
     "name": "stderr",
     "output_type": "stream",
     "text": [
      "\n"
     ]
    }
   ],
   "source": [
    "valScore_list1 = []\n",
    "TrainLoss_list1 = []\n",
    "\n",
    "valScore_list2 = []\n",
    "TrainLoss_list2 = []\n",
    "\n",
    "valScore_list3 = []\n",
    "TrainLoss_list3 = []\n",
    "\n",
    "valScore_list4 = []\n",
    "TrainLoss_list4 = []\n",
    "\n",
    "val_losses = []\n",
    "val_accs = []\n",
    "val_mious = []\n",
    "\n",
    "# 5. Begin training\n",
    "for epoch in range(1, epochs + 1):\n",
    "    model.train()\n",
    "    epoch_loss = 0\n",
    "    epoch_unet_loss = 0\n",
    "    epoch_segnet_loss = 0\n",
    "    epoch_enet_loss = 0\n",
    "    epoch_voting_loss = 0\n",
    "    \n",
    "    with tqdm(total=n_train, desc=f'Epoch {epoch}/{epochs}', unit='img') as pbar:\n",
    "        for batch in train_loader:\n",
    "            images, true_masks = batch['image'], batch['mask']\n",
    "\n",
    "            images = images.to(device=device, dtype=torch.float32, memory_format=torch.channels_last)\n",
    "            true_masks = true_masks.to(device=device, dtype=torch.long)\n",
    "\n",
    "                \n",
    "            result = forward_and_backward(model, images, true_masks, amp, optims, grad_scaler, Model_Name)\n",
    "            \n",
    "            if len(result) == 4:\n",
    "                model, unet_loss, segnet_loss, enet_loss = result\n",
    "                \n",
    "                pbar.update(images.shape[0])\n",
    "                global_step += 1\n",
    "                epoch_unet_loss += unet_loss.item()\n",
    "                epoch_segnet_loss += segnet_loss.item()\n",
    "                epoch_enet_loss += enet_loss.item()\n",
    "                vot_loss = ((unet_loss.item() + segnet_loss.item() + enet_loss.item()) /3)\n",
    "                epoch_voting_loss += vot_loss\n",
    "                \n",
    "                \n",
    "            elif len(result) == 2:\n",
    "                model, loss = result\n",
    "                \n",
    "                pbar.update(images.shape[0])\n",
    "                global_step += 1\n",
    "                epoch_loss += loss.item()\n",
    "\n",
    "\n",
    "        print('***')\n",
    "        if len(result) == 4:\n",
    "            print('Unet Loss: {}     Segnet Loss: {}     Enet Loss: {}'.format(unet_loss, segnet_loss, enet_loss))\n",
    "            print('Voting Loss: {}'.format(vot_loss))\n",
    "            \n",
    "            \n",
    "        elif len(result) == 2:\n",
    "            print('{} Loss: {}'.format(Model_Name, loss))\n",
    "\n",
    "        # Evaluation round\n",
    "        division_step = (n_train // (5 * batch_size))\n",
    "        if division_step > 0:\n",
    "            #if global_step % division_step == 0:\n",
    "            if len(result) == 4:\n",
    "                unet_val_score, segnet_val_score, enet_val_score, voting_val_score, val_loss, val_acc, val_miou = evaluate(model, val_loader, criterion, device, Model_Name, amp)\n",
    "                \n",
    "                unet_scheduler.step(unet_val_score)\n",
    "                segnet_scheduler.step(segnet_val_score)\n",
    "                enet_scheduler.step(enet_val_score)\n",
    "                #voting_scheduler.step(voting_val_score)\n",
    "                \n",
    "                valScore_list1.append(unet_val_score.cpu().detach().numpy())\n",
    "                TrainLoss_list1.append(unet_loss.cpu().detach().numpy())\n",
    "                valScore_list2.append(segnet_val_score.cpu().detach().numpy())\n",
    "                TrainLoss_list2.append(segnet_loss.cpu().detach().numpy())                \n",
    "                valScore_list3.append(enet_val_score.cpu().detach().numpy())\n",
    "                TrainLoss_list3.append(enet_loss.cpu().detach().numpy())\n",
    "                valScore_list4.append(voting_val_score.cpu().detach().numpy())\n",
    "                TrainLoss_list4.append(vot_loss)\n",
    "                \n",
    "                val_losses.append(val_loss)\n",
    "                val_accs.append(val_acc)\n",
    "                val_mious.append(val_miou)\n",
    "                \n",
    "                print('---')\n",
    "                print('Unet Validation Dice Score: {}     Segnet Validation Dice Score: {}     Enet Validation Dice Score: {}'.format(unet_val_score, segnet_val_score, enet_val_score))\n",
    "                print('---')\n",
    "                print('Ensemble Voting Validation Dice Loss: {}'.format(val_loss))\n",
    "                print('Ensemble Voting Validation Pixel Accuracy: {} '.format(val_acc))\n",
    "                print('Ensemble Voting Validation MIoU: {}'.format(val_miou))                \n",
    "                print('Ensemble Voting Validation Dice Score: {} '.format(voting_val_score))\n",
    "                \n",
    "            else:\n",
    "                val_score, val_loss, val_acc, val_miou = evaluate(model, val_loader, criterion, device, Model_Name, amp)\n",
    "                \n",
    "                                \n",
    "                scheduler.step(val_score)\n",
    "                \n",
    "                print('---')\n",
    "                print('{} Validation Dice Loss: {}'.format(Model_Name, val_loss))   \n",
    "                print('{} Validation Pixel Accuracy: {}'.format(Model_Name, val_acc))\n",
    "                print('{} Validation MIoU: {}'.format(Model_Name, val_miou))\n",
    "                print('{} Validation Dice Score: {}'.format(Model_Name, val_score))\n",
    "                \n",
    "            \n",
    "                valScore_list1.append(val_score.cpu().detach().numpy())\n",
    "                TrainLoss_list1.append(loss.cpu().detach().numpy())\n",
    "                val_losses.append(val_loss)\n",
    "                val_accs.append(val_acc)\n",
    "                val_mious.append(val_miou)\n",
    "\n",
    "        \n",
    "    if save_checkpoint:\n",
    "        Path(dir_checkpoint).mkdir(parents=True, exist_ok=True)\n",
    "        torch.save(model.state_dict(), str(dir_checkpoint / 'checkpoint_epoch{}.pth'.format(epoch + 1)))"
   ]
  },
  {
   "cell_type": "code",
   "execution_count": 10,
   "id": "232d4d6e-12ed-4b30-9b2e-7421289573ad",
   "metadata": {},
   "outputs": [],
   "source": [
    "import pandas as pd\n",
    "import matplotlib.pyplot as plt"
   ]
  },
  {
   "cell_type": "code",
   "execution_count": 11,
   "id": "5e7c3590-63c0-4ee6-bf67-25b012d008d7",
   "metadata": {},
   "outputs": [],
   "source": [
    "df = pd.DataFrame([TrainLoss_list1, val_losses, valScore_list1, val_accs, val_mious]).T\n",
    "df.columns = ['train_loss', 'val_loss', 'val_score', 'val_acc', 'val_miou']\n",
    "df.to_csv(checkpoint_dir + '/model_check.csv', encoding = 'UTF-8')"
   ]
  },
  {
   "cell_type": "code",
   "execution_count": 12,
   "id": "e02024f4-5520-4e80-b5e2-1c0f7d4ad10c",
   "metadata": {},
   "outputs": [
    {
     "data": {
      "text/plain": [
       "[<matplotlib.lines.Line2D at 0x7f8822953e10>]"
      ]
     },
     "execution_count": 12,
     "metadata": {},
     "output_type": "execute_result"
    },
    {
     "data": {
      "image/png": "[encoded data removed]",
      "text/plain": [
       "<Figure size 1000x500 with 1 Axes>"
      ]
     },
     "metadata": {},
     "output_type": "display_data"
    }
   ],
   "source": [
    "plt.figure(figsize= (10,5))\n",
    "plt.plot(TrainLoss_list1)\n",
    "plt.plot(val_losses)"
   ]
  },
  {
   "cell_type": "code",
   "execution_count": 13,
   "id": "0af788b9-1d94-4072-af4f-5c83165b18fc",
   "metadata": {},
   "outputs": [
    {
     "data": {
      "text/plain": [
       "[<matplotlib.lines.Line2D at 0x7f88228601d0>]"
      ]
     },
     "execution_count": 13,
     "metadata": {},
     "output_type": "execute_result"
    },
    {
     "data": {
      "image/png": "[encoded data removed]",
      "text/plain": [
       "<Figure size 1000x500 with 1 Axes>"
      ]
     },
     "metadata": {},
     "output_type": "display_data"
    }
   ],
   "source": [
    "plt.figure(figsize= (10,5))\n",
    "plt.plot(valScore_list1)\n",
    "plt.plot(val_accs)\n",
    "plt.plot(val_mious)"
   ]
  },
  {
   "cell_type": "code",
   "execution_count": null,
   "id": "4795b565-b90f-424f-8455-52d43ad2e5ec",
   "metadata": {},
   "outputs": [],
   "source": []
  },
  {
   "cell_type": "code",
   "execution_count": null,
   "id": "3a6fecb3-338c-4876-b13f-a3ea72b40010",
   "metadata": {},
   "outputs": [],
   "source": []
  }
 ],
 "metadata": {
  "kernelspec": {
   "display_name": "ksh",
   "language": "python",
   "name": "ksh"
  },
  "language_info": {
   "codemirror_mode": {
    "name": "ipython",
    "version": 3
   },
   "file_extension": ".py",
   "mimetype": "text/x-python",
   "name": "python",
   "nbconvert_exporter": "python",
   "pygments_lexer": "ipython3",
   "version": "3.7.16"
  }
 },
 "nbformat": 4,
 "nbformat_minor": 5
}
