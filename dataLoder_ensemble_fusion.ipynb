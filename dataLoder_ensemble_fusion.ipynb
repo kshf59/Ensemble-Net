{
 "cells": [
  {
   "cell_type": "code",
   "execution_count": 1,
   "id": "5f271b9d-c9a3-41c5-a2e5-cd21dc79d5b6",
   "metadata": {
    "tags": []
   },
   "outputs": [],
   "source": [
    "import numpy as np\n",
    "from pathlib import Path\n",
    "from PIL import Image\n",
    "from torch.utils.data import DataLoader, random_split\n",
    "import torch\n",
    "from torch import optim\n",
    "import torch.nn as nn\n",
    "from tqdm import tqdm\n",
    "import torch.nn.functional as F\n",
    "import logging\n",
    "from evaluate import evaluate\n",
    "\n",
    "import os\n",
    "import albumentations as A\n",
    "from albumentations.pytorch import ToTensorV2\n",
    "from collections import OrderedDict\n",
    "\n",
    "from model.ensemblenet_model import EnsembleNet\n",
    "\n",
    "\n",
    "from utils.dice_score import dice_loss\n",
    "from utils.data_load import KittiDataset\n",
    "from torchsummaryX import summary"
   ]
  },
  {
   "cell_type": "code",
   "execution_count": 2,
   "id": "64ae7ca9",
   "metadata": {
    "tags": []
   },
   "outputs": [],
   "source": [
    "Val_Percent = 0.3\n",
    "Scale_Percent = 1.0\n",
    "Batch_Size = 8\n",
    "learning_rate = 0.0001\n",
    "Pin_Memory = False\n",
    "epochs = 50\n",
    "\n",
    "\n",
    "Image_Size = [384, 1216]\n",
    "Gradient_Clipping = 0.8\n",
    "\n",
    "\n",
    "Num_Class = 2\n",
    "Num_Channel = 3\n",
    "amp = True\n",
    "\n",
    "Model_Name = 'ensemble_fusion'\n",
    "\n",
    "\n",
    "Img_Path =  'data/data_road/training/image_2'\n",
    "Mask_Path =  'data/data_road/training/semantic'\n",
    "\n",
    "save_checkpoint = True\n",
    "checkpoint_dir = '../trained' + '_' + Model_Name\n",
    "batch_size = Batch_Size"
   ]
  },
  {
   "cell_type": "code",
   "execution_count": 3,
   "id": "567f8440",
   "metadata": {
    "tags": []
   },
   "outputs": [],
   "source": [
    "dirImg = Path(Img_Path)\n",
    "dirMask = Path(Mask_Path)\n",
    "dir_checkpoint = Path(checkpoint_dir)"
   ]
  },
  {
   "cell_type": "code",
   "execution_count": 4,
   "id": "8e8e3825-8747-4f49-b3ee-eac27522ded2",
   "metadata": {},
   "outputs": [],
   "source": [
    "device = torch.device('cuda' if torch.cuda.is_available() else 'cpu')"
   ]
  },
  {
   "cell_type": "code",
   "execution_count": 5,
   "id": "9a4a35b2-bc69-49e4-b17c-e850f278473d",
   "metadata": {},
   "outputs": [
    {
     "name": "stderr",
     "output_type": "stream",
     "text": [
      "100%|██████████| 289/289 [00:00<00:00, 785.17it/s]\n"
     ]
    }
   ],
   "source": [
    "datasets =  KittiDataset(dirImg, dirMask, Image_Size, Scale_Percent)\n",
    "n_val = int(len(datasets) * Val_Percent)\n",
    "n_train = len(datasets) - n_val\n",
    "train_set, val_set = random_split(datasets, [n_train, n_val], generator=torch.Generator().manual_seed(0))\n",
    "\n",
    "loader_args = dict(batch_size=Batch_Size, num_workers= os.cpu_count(), pin_memory=Pin_Memory)\n",
    "train_loader = DataLoader(train_set, shuffle=True, drop_last = True, **loader_args)\n",
    "val_loader = DataLoader(val_set, shuffle=False, drop_last=True, **loader_args)"
   ]
  },
  {
   "cell_type": "code",
   "execution_count": 6,
   "id": "95b36f40-c709-4e1e-b4f6-66a1954edfd8",
   "metadata": {},
   "outputs": [],
   "source": [
    "model = EnsembleNet(Model_Name, Num_Channel, Num_Class)\n",
    "model = model.to(memory_format=torch.channels_last, device = device)"
   ]
  },
  {
   "cell_type": "code",
   "execution_count": 7,
   "id": "4a29bc96",
   "metadata": {
    "tags": []
   },
   "outputs": [],
   "source": [
    "# 4. Set up the optimizer, the loss, the learning rate scheduler and the loss scaling for AMP\n",
    "#optimizer = optim.RMSprop(model.parameters(), lr=learning_rate, weight_decay=1e-8, momentum=0.9)\n",
    "#optimizer = optim.SGD(model.parameters(), lr=learning_rate, weight_decay=1e-8, momentum=0.9)\n",
    "\n",
    "if 'ensemble_voting' in Model_Name:\n",
    "    unet_optimizer = optim.Adam(model.parameters(), lr=learning_rate, weight_decay=1e-8)\n",
    "    segnet_optimizer = optim.Adam(model.parameters(), lr=learning_rate, weight_decay=1e-8)\n",
    "    enet_optimizer = optim.Adam(model.parameters(), lr=learning_rate, weight_decay=1e-8)\n",
    "    optims = [unet_optimizer, segnet_optimizer, enet_optimizer]\n",
    "    \n",
    "    unet_scheduler = optim.lr_scheduler.ReduceLROnPlateau(unet_optimizer, 'max', patience=2)  # goal: maximize Dice score\n",
    "    segnet_scheduler = optim.lr_scheduler.ReduceLROnPlateau(segnet_optimizer, 'max', patience=2)  # goal: maximize Dice score\n",
    "    enet_scheduler = optim.lr_scheduler.ReduceLROnPlateau(enet_optimizer, 'max', patience=2)  # goal: maximize Dice score\n",
    "       \n",
    "else:\n",
    "    optimizer = optim.Adam(model.parameters(), lr=learning_rate, weight_decay=1e-10)\n",
    "    #optimizer = optim.RMSprop(model.parameters(), lr=learning_rate, weight_decay=1e-10)\n",
    "    optims = [optimizer]\n",
    "    \n",
    "    scheduler = optim.lr_scheduler.ReduceLROnPlateau(optimizer, 'max', patience=2)  # goal: maximize Dice score\n",
    "\n",
    "grad_scaler = torch.cuda.amp.GradScaler(enabled=amp)\n",
    "criterion = nn.CrossEntropyLoss()\n",
    "global_step = 0"
   ]
  },
  {
   "cell_type": "code",
   "execution_count": 8,
   "id": "46e43754-2870-4837-b38a-3f57d6733ddc",
   "metadata": {},
   "outputs": [],
   "source": [
    "def calculate_loss(pred, true_masks, nclass, multiclass):\n",
    "    loss = criterion(pred, true_masks)\n",
    "    loss += dice_loss(\n",
    "        F.softmax(pred, dim=1).float(),\n",
    "        F.one_hot(true_masks, nclass).permute(0, 3, 1, 2).float(),\n",
    "        multiclass=multiclass\n",
    "    )\n",
    "    return loss\n",
    "\n",
    "def grad_forback(models, losses, optim):\n",
    "    optim.zero_grad(set_to_none=True)\n",
    "    grad_scaler.scale(losses).backward()\n",
    "    torch.nn.utils.clip_grad_norm_(models.parameters(), Gradient_Clipping)\n",
    "    grad_scaler.step(optim)\n",
    "    grad_scaler.update()    \n",
    "\n",
    "def forward_and_backward(model, images, true_masks, amp, optimizers, grad_scaler, model_name):\n",
    "    with torch.autocast(device.type if device.type != 'mps' else 'cpu', enabled=amp):\n",
    "        \n",
    "        try:\n",
    "            mn_cls = model.n_classes\n",
    "        except:\n",
    "            mn_cls = model.classifier[-1].out_channels\n",
    "\n",
    "        if model_name == 'ensemble_voting':\n",
    "            unet_pred, segnet_pred, enet_pred = model(images)\n",
    "            #deeplab_pred = deeplab_pred['out']\n",
    "            \n",
    "            unet_loss = calculate_loss(unet_pred, true_masks, mn_cls, multiclass=True)\n",
    "            segnet_loss = calculate_loss(segnet_pred, true_masks, mn_cls, multiclass=True)\n",
    "            enet_loss = calculate_loss(enet_pred, true_masks, mn_cls, multiclass=True)\n",
    "        \n",
    "        else:\n",
    "            masks_pred = model(images)\n",
    "            if isinstance(masks_pred, OrderedDict):\n",
    "                masks_pred = masks_pred['out']\n",
    "            loss = calculate_loss(masks_pred, true_masks, mn_cls, multiclass=True)\n",
    "            \n",
    "    \n",
    "    if model_name == 'ensemble_voting':\n",
    "        for _loss, _optiz in zip([unet_loss, segnet_loss, enet_loss], optimizers):\n",
    "            grad_forback(model, _loss, _optiz)\n",
    "\n",
    "        return model, unet_loss, segnet_loss, enet_loss\n",
    "    else:\n",
    "        for _loss, _optiz in zip([loss], optimizers):\n",
    "            grad_forback(model, _loss, _optiz)\n",
    "            \n",
    "        return model, loss\n"
   ]
  },
  {
   "cell_type": "code",
   "execution_count": 9,
   "id": "fd7961ad-4964-48e0-9b5d-fdba7dbb7501",
   "metadata": {},
   "outputs": [
    {
     "name": "stderr",
     "output_type": "stream",
     "text": [
      "Epoch 1/50:  99%|█████████▊| 200/203 [00:10<00:00, 33.58img/s]"
     ]
    },
    {
     "name": "stdout",
     "output_type": "stream",
     "text": [
      "***\n",
      "ensemble_fusion Loss: 1.182639479637146\n"
     ]
    },
    {
     "name": "stderr",
     "output_type": "stream",
     "text": [
      "Epoch 1/50:  99%|█████████▊| 200/203 [00:13<00:00, 15.35img/s]\n"
     ]
    },
    {
     "name": "stdout",
     "output_type": "stream",
     "text": [
      "---\n",
      "ensemble_fusion Validation Dice Loss: 1.4431754350662231\n",
      "ensemble_fusion Validation Pixel Accuracy: 0.14941379480194628\n",
      "ensemble_fusion Validation MIoU: 0.07470689740097317\n",
      "ensemble_fusion Validation Dice Score: 0.28675708174705505\n"
     ]
    },
    {
     "name": "stderr",
     "output_type": "stream",
     "text": [
      "Epoch 2/50:  99%|█████████▊| 200/203 [00:09<00:00, 33.48img/s]"
     ]
    },
    {
     "name": "stdout",
     "output_type": "stream",
     "text": [
      "***\n",
      "ensemble_fusion Loss: 0.8449218273162842\n"
     ]
    },
    {
     "name": "stderr",
     "output_type": "stream",
     "text": [
      "Epoch 2/50:  99%|█████████▊| 200/203 [00:12<00:00, 16.28img/s]\n"
     ]
    },
    {
     "name": "stdout",
     "output_type": "stream",
     "text": [
      "---\n",
      "ensemble_fusion Validation Dice Loss: 1.4584977626800537\n",
      "ensemble_fusion Validation Pixel Accuracy: 0.3128865559895833\n",
      "ensemble_fusion Validation MIoU: 0.18540004176263347\n",
      "ensemble_fusion Validation Dice Score: 0.33782491087913513\n"
     ]
    },
    {
     "name": "stderr",
     "output_type": "stream",
     "text": [
      "Epoch 3/50:  99%|█████████▊| 200/203 [00:08<00:00, 33.42img/s]"
     ]
    },
    {
     "name": "stdout",
     "output_type": "stream",
     "text": [
      "***\n",
      "ensemble_fusion Loss: 0.6595375537872314\n"
     ]
    },
    {
     "name": "stderr",
     "output_type": "stream",
     "text": [
      "Epoch 3/50:  99%|█████████▊| 200/203 [00:11<00:00, 17.79img/s]\n"
     ]
    },
    {
     "name": "stdout",
     "output_type": "stream",
     "text": [
      "---\n",
      "ensemble_fusion Validation Dice Loss: 0.9747397303581238\n",
      "ensemble_fusion Validation Pixel Accuracy: 0.7859092846251371\n",
      "ensemble_fusion Validation MIoU: 0.578381092580101\n",
      "ensemble_fusion Validation Dice Score: 0.6249225735664368\n"
     ]
    },
    {
     "name": "stderr",
     "output_type": "stream",
     "text": [
      "Epoch 4/50:  99%|█████████▊| 200/203 [00:08<00:00, 33.25img/s]"
     ]
    },
    {
     "name": "stdout",
     "output_type": "stream",
     "text": [
      "***\n",
      "ensemble_fusion Loss: 0.5522005558013916\n"
     ]
    },
    {
     "name": "stderr",
     "output_type": "stream",
     "text": [
      "Epoch 4/50:  99%|█████████▊| 200/203 [00:10<00:00, 18.38img/s]\n"
     ]
    },
    {
     "name": "stdout",
     "output_type": "stream",
     "text": [
      "---\n",
      "ensemble_fusion Validation Dice Loss: 0.6743441820144653\n",
      "ensemble_fusion Validation Pixel Accuracy: 0.90870720043517\n",
      "ensemble_fusion Validation MIoU: 0.7535708336128734\n",
      "ensemble_fusion Validation Dice Score: 0.7629826664924622\n"
     ]
    },
    {
     "name": "stderr",
     "output_type": "stream",
     "text": [
      "Epoch 5/50:  99%|█████████▊| 200/203 [00:08<00:00, 33.33img/s]"
     ]
    },
    {
     "name": "stdout",
     "output_type": "stream",
     "text": [
      "***\n",
      "ensemble_fusion Loss: 0.5265803337097168\n"
     ]
    },
    {
     "name": "stderr",
     "output_type": "stream",
     "text": [
      "Epoch 5/50:  99%|█████████▊| 200/203 [00:10<00:00, 18.28img/s]\n"
     ]
    },
    {
     "name": "stdout",
     "output_type": "stream",
     "text": [
      "---\n",
      "ensemble_fusion Validation Dice Loss: 0.5739243626594543\n",
      "ensemble_fusion Validation Pixel Accuracy: 0.9281766121847588\n",
      "ensemble_fusion Validation MIoU: 0.7829813376142687\n",
      "ensemble_fusion Validation Dice Score: 0.7839462161064148\n"
     ]
    },
    {
     "name": "stderr",
     "output_type": "stream",
     "text": [
      "Epoch 6/50:  99%|█████████▊| 200/203 [00:08<00:00, 33.64img/s]"
     ]
    },
    {
     "name": "stdout",
     "output_type": "stream",
     "text": [
      "***\n",
      "ensemble_fusion Loss: 0.4694367051124573\n"
     ]
    },
    {
     "name": "stderr",
     "output_type": "stream",
     "text": [
      "Epoch 6/50:  99%|█████████▊| 200/203 [00:10<00:00, 18.49img/s]\n"
     ]
    },
    {
     "name": "stdout",
     "output_type": "stream",
     "text": [
      "---\n",
      "ensemble_fusion Validation Dice Loss: 0.5306241512298584\n",
      "ensemble_fusion Validation Pixel Accuracy: 0.9374263830352247\n",
      "ensemble_fusion Validation MIoU: 0.811551979587338\n",
      "ensemble_fusion Validation Dice Score: 0.8247820138931274\n"
     ]
    },
    {
     "name": "stderr",
     "output_type": "stream",
     "text": [
      "Epoch 7/50:  99%|█████████▊| 200/203 [00:08<00:00, 33.11img/s]"
     ]
    },
    {
     "name": "stdout",
     "output_type": "stream",
     "text": [
      "***\n",
      "ensemble_fusion Loss: 0.44059738516807556\n"
     ]
    },
    {
     "name": "stderr",
     "output_type": "stream",
     "text": [
      "Epoch 7/50:  99%|█████████▊| 200/203 [00:11<00:00, 17.88img/s]\n"
     ]
    },
    {
     "name": "stdout",
     "output_type": "stream",
     "text": [
      "---\n",
      "ensemble_fusion Validation Dice Loss: 0.5671411752700806\n",
      "ensemble_fusion Validation Pixel Accuracy: 0.9306790535910088\n",
      "ensemble_fusion Validation MIoU: 0.7984126538296525\n",
      "ensemble_fusion Validation Dice Score: 0.8041065335273743\n"
     ]
    },
    {
     "name": "stderr",
     "output_type": "stream",
     "text": [
      "Epoch 8/50:  99%|█████████▊| 200/203 [00:08<00:00, 33.16img/s]"
     ]
    },
    {
     "name": "stdout",
     "output_type": "stream",
     "text": [
      "***\n",
      "ensemble_fusion Loss: 0.3428272604942322\n"
     ]
    },
    {
     "name": "stderr",
     "output_type": "stream",
     "text": [
      "Epoch 8/50:  99%|█████████▊| 200/203 [00:10<00:00, 18.28img/s]\n"
     ]
    },
    {
     "name": "stdout",
     "output_type": "stream",
     "text": [
      "---\n",
      "ensemble_fusion Validation Dice Loss: 0.46723222732543945\n",
      "ensemble_fusion Validation Pixel Accuracy: 0.9384511311848959\n",
      "ensemble_fusion Validation MIoU: 0.8130130165686429\n",
      "ensemble_fusion Validation Dice Score: 0.8069809079170227\n"
     ]
    },
    {
     "name": "stderr",
     "output_type": "stream",
     "text": [
      "Epoch 9/50:  99%|█████████▊| 200/203 [00:08<00:00, 33.13img/s]"
     ]
    },
    {
     "name": "stdout",
     "output_type": "stream",
     "text": [
      "***\n",
      "ensemble_fusion Loss: 0.39828023314476013\n"
     ]
    },
    {
     "name": "stderr",
     "output_type": "stream",
     "text": [
      "Epoch 9/50:  99%|█████████▊| 200/203 [00:10<00:00, 18.44img/s]\n"
     ]
    },
    {
     "name": "stdout",
     "output_type": "stream",
     "text": [
      "---\n",
      "ensemble_fusion Validation Dice Loss: 0.407132625579834\n",
      "ensemble_fusion Validation Pixel Accuracy: 0.9541510866399396\n",
      "ensemble_fusion Validation MIoU: 0.8510963906269122\n",
      "ensemble_fusion Validation Dice Score: 0.85357666015625\n"
     ]
    },
    {
     "name": "stderr",
     "output_type": "stream",
     "text": [
      "Epoch 10/50:  99%|█████████▊| 200/203 [00:08<00:00, 33.33img/s]"
     ]
    },
    {
     "name": "stdout",
     "output_type": "stream",
     "text": [
      "***\n",
      "ensemble_fusion Loss: 0.2972032129764557\n"
     ]
    },
    {
     "name": "stderr",
     "output_type": "stream",
     "text": [
      "Epoch 10/50:  99%|█████████▊| 200/203 [00:11<00:00, 17.80img/s]\n"
     ]
    },
    {
     "name": "stdout",
     "output_type": "stream",
     "text": [
      "---\n",
      "ensemble_fusion Validation Dice Loss: 0.37638676166534424\n",
      "ensemble_fusion Validation Pixel Accuracy: 0.9606374104817709\n",
      "ensemble_fusion Validation MIoU: 0.8685175299104875\n",
      "ensemble_fusion Validation Dice Score: 0.8747327923774719\n"
     ]
    },
    {
     "name": "stderr",
     "output_type": "stream",
     "text": [
      "Epoch 11/50:  99%|█████████▊| 200/203 [00:08<00:00, 32.95img/s]"
     ]
    },
    {
     "name": "stdout",
     "output_type": "stream",
     "text": [
      "***\n",
      "ensemble_fusion Loss: 0.25896862149238586\n"
     ]
    },
    {
     "name": "stderr",
     "output_type": "stream",
     "text": [
      "Epoch 11/50:  99%|█████████▊| 200/203 [00:11<00:00, 18.02img/s]\n"
     ]
    },
    {
     "name": "stdout",
     "output_type": "stream",
     "text": [
      "---\n",
      "ensemble_fusion Validation Dice Loss: 0.39069998264312744\n",
      "ensemble_fusion Validation Pixel Accuracy: 0.950292754591557\n",
      "ensemble_fusion Validation MIoU: 0.8425145283215899\n",
      "ensemble_fusion Validation Dice Score: 0.8703427314758301\n"
     ]
    },
    {
     "name": "stderr",
     "output_type": "stream",
     "text": [
      "Epoch 12/50:  99%|█████████▊| 200/203 [00:07<00:00, 32.99img/s]"
     ]
    },
    {
     "name": "stdout",
     "output_type": "stream",
     "text": [
      "***\n",
      "ensemble_fusion Loss: 0.2872818112373352\n"
     ]
    },
    {
     "name": "stderr",
     "output_type": "stream",
     "text": [
      "Epoch 12/50:  99%|█████████▊| 200/203 [00:10<00:00, 18.49img/s]\n"
     ]
    },
    {
     "name": "stdout",
     "output_type": "stream",
     "text": [
      "---\n",
      "ensemble_fusion Validation Dice Loss: 0.3539939820766449\n",
      "ensemble_fusion Validation Pixel Accuracy: 0.9471119663171601\n",
      "ensemble_fusion Validation MIoU: 0.8338979212523252\n",
      "ensemble_fusion Validation Dice Score: 0.871317982673645\n"
     ]
    },
    {
     "name": "stderr",
     "output_type": "stream",
     "text": [
      "Epoch 13/50:  99%|█████████▊| 200/203 [00:08<00:00, 33.02img/s]"
     ]
    },
    {
     "name": "stdout",
     "output_type": "stream",
     "text": [
      "***\n",
      "ensemble_fusion Loss: 0.29204457998275757\n"
     ]
    },
    {
     "name": "stderr",
     "output_type": "stream",
     "text": [
      "Epoch 13/50:  99%|█████████▊| 200/203 [00:10<00:00, 18.29img/s]\n"
     ]
    },
    {
     "name": "stdout",
     "output_type": "stream",
     "text": [
      "---\n",
      "ensemble_fusion Validation Dice Loss: 0.29497817158699036\n",
      "ensemble_fusion Validation Pixel Accuracy: 0.9575816371984649\n",
      "ensemble_fusion Validation MIoU: 0.8579141269204067\n",
      "ensemble_fusion Validation Dice Score: 0.8909285664558411\n"
     ]
    },
    {
     "name": "stderr",
     "output_type": "stream",
     "text": [
      "Epoch 14/50:  99%|█████████▊| 200/203 [00:08<00:00, 32.98img/s]"
     ]
    },
    {
     "name": "stdout",
     "output_type": "stream",
     "text": [
      "***\n",
      "ensemble_fusion Loss: 0.253389447927475\n"
     ]
    },
    {
     "name": "stderr",
     "output_type": "stream",
     "text": [
      "Epoch 14/50:  99%|█████████▊| 200/203 [00:11<00:00, 18.16img/s]\n"
     ]
    },
    {
     "name": "stdout",
     "output_type": "stream",
     "text": [
      "---\n",
      "ensemble_fusion Validation Dice Loss: 0.23054252564907074\n",
      "ensemble_fusion Validation Pixel Accuracy: 0.9714872125993695\n",
      "ensemble_fusion Validation MIoU: 0.9000774387150196\n",
      "ensemble_fusion Validation Dice Score: 0.8965649008750916\n"
     ]
    },
    {
     "name": "stderr",
     "output_type": "stream",
     "text": [
      "Epoch 15/50:  99%|█████████▊| 200/203 [00:08<00:00, 32.79img/s]"
     ]
    },
    {
     "name": "stdout",
     "output_type": "stream",
     "text": [
      "***\n",
      "ensemble_fusion Loss: 0.17817820608615875\n"
     ]
    },
    {
     "name": "stderr",
     "output_type": "stream",
     "text": [
      "Epoch 15/50:  99%|█████████▊| 200/203 [00:10<00:00, 18.52img/s]\n"
     ]
    },
    {
     "name": "stdout",
     "output_type": "stream",
     "text": [
      "---\n",
      "ensemble_fusion Validation Dice Loss: 0.20404860377311707\n",
      "ensemble_fusion Validation Pixel Accuracy: 0.9685379831414473\n",
      "ensemble_fusion Validation MIoU: 0.8814923309144684\n",
      "ensemble_fusion Validation Dice Score: 0.8733966946601868\n"
     ]
    },
    {
     "name": "stderr",
     "output_type": "stream",
     "text": [
      "Epoch 16/50:  99%|█████████▊| 200/203 [00:08<00:00, 33.03img/s]"
     ]
    },
    {
     "name": "stdout",
     "output_type": "stream",
     "text": [
      "***\n",
      "ensemble_fusion Loss: 0.1319756805896759\n"
     ]
    },
    {
     "name": "stderr",
     "output_type": "stream",
     "text": [
      "Epoch 16/50:  99%|█████████▊| 200/203 [00:11<00:00, 18.13img/s]\n"
     ]
    },
    {
     "name": "stdout",
     "output_type": "stream",
     "text": [
      "---\n",
      "ensemble_fusion Validation Dice Loss: 0.25907742977142334\n",
      "ensemble_fusion Validation Pixel Accuracy: 0.9570545397306743\n",
      "ensemble_fusion Validation MIoU: 0.8590995334472113\n",
      "ensemble_fusion Validation Dice Score: 0.8926857113838196\n"
     ]
    },
    {
     "name": "stderr",
     "output_type": "stream",
     "text": [
      "Epoch 17/50:  99%|█████████▊| 200/203 [00:08<00:00, 32.94img/s]"
     ]
    },
    {
     "name": "stdout",
     "output_type": "stream",
     "text": [
      "***\n",
      "ensemble_fusion Loss: 0.12431465089321136\n"
     ]
    },
    {
     "name": "stderr",
     "output_type": "stream",
     "text": [
      "Epoch 17/50:  99%|█████████▊| 200/203 [00:11<00:00, 17.83img/s]\n"
     ]
    },
    {
     "name": "stdout",
     "output_type": "stream",
     "text": [
      "---\n",
      "ensemble_fusion Validation Dice Loss: 0.1666879653930664\n",
      "ensemble_fusion Validation Pixel Accuracy: 0.9763544986122533\n",
      "ensemble_fusion Validation MIoU: 0.9146375054696038\n",
      "ensemble_fusion Validation Dice Score: 0.9096212387084961\n"
     ]
    },
    {
     "name": "stderr",
     "output_type": "stream",
     "text": [
      "Epoch 18/50:  99%|█████████▊| 200/203 [00:08<00:00, 33.07img/s]"
     ]
    },
    {
     "name": "stdout",
     "output_type": "stream",
     "text": [
      "***\n",
      "ensemble_fusion Loss: 0.1703665554523468\n"
     ]
    },
    {
     "name": "stderr",
     "output_type": "stream",
     "text": [
      "Epoch 18/50:  99%|█████████▊| 200/203 [00:10<00:00, 18.19img/s]\n"
     ]
    },
    {
     "name": "stdout",
     "output_type": "stream",
     "text": [
      "---\n",
      "ensemble_fusion Validation Dice Loss: 0.21876099705696106\n",
      "ensemble_fusion Validation Pixel Accuracy: 0.9654193008155153\n",
      "ensemble_fusion Validation MIoU: 0.8832250215956328\n",
      "ensemble_fusion Validation Dice Score: 0.8956089019775391\n"
     ]
    },
    {
     "name": "stderr",
     "output_type": "stream",
     "text": [
      "Epoch 19/50:  99%|█████████▊| 200/203 [00:08<00:00, 32.93img/s]"
     ]
    },
    {
     "name": "stdout",
     "output_type": "stream",
     "text": [
      "***\n",
      "ensemble_fusion Loss: 0.13164235651493073\n"
     ]
    },
    {
     "name": "stderr",
     "output_type": "stream",
     "text": [
      "Epoch 19/50:  99%|█████████▊| 200/203 [00:11<00:00, 18.12img/s]\n"
     ]
    },
    {
     "name": "stdout",
     "output_type": "stream",
     "text": [
      "---\n",
      "ensemble_fusion Validation Dice Loss: 0.17615598440170288\n",
      "ensemble_fusion Validation Pixel Accuracy: 0.9709001507675439\n",
      "ensemble_fusion Validation MIoU: 0.8986488845229613\n",
      "ensemble_fusion Validation Dice Score: 0.9171854257583618\n"
     ]
    },
    {
     "name": "stderr",
     "output_type": "stream",
     "text": [
      "Epoch 20/50:  99%|█████████▊| 200/203 [00:08<00:00, 33.12img/s]"
     ]
    },
    {
     "name": "stdout",
     "output_type": "stream",
     "text": [
      "***\n",
      "ensemble_fusion Loss: 0.16578525304794312\n"
     ]
    },
    {
     "name": "stderr",
     "output_type": "stream",
     "text": [
      "Epoch 20/50:  99%|█████████▊| 200/203 [00:11<00:00, 18.09img/s]\n"
     ]
    },
    {
     "name": "stdout",
     "output_type": "stream",
     "text": [
      "---\n",
      "ensemble_fusion Validation Dice Loss: 0.13059476017951965\n",
      "ensemble_fusion Validation Pixel Accuracy: 0.9793623539439419\n",
      "ensemble_fusion Validation MIoU: 0.9240615768228028\n",
      "ensemble_fusion Validation Dice Score: 0.9234089851379395\n"
     ]
    },
    {
     "name": "stderr",
     "output_type": "stream",
     "text": [
      "Epoch 21/50:  99%|█████████▊| 200/203 [00:08<00:00, 33.23img/s]"
     ]
    },
    {
     "name": "stdout",
     "output_type": "stream",
     "text": [
      "***\n",
      "ensemble_fusion Loss: 0.09008772671222687\n"
     ]
    },
    {
     "name": "stderr",
     "output_type": "stream",
     "text": [
      "Epoch 21/50:  99%|█████████▊| 200/203 [00:11<00:00, 17.86img/s]\n"
     ]
    },
    {
     "name": "stdout",
     "output_type": "stream",
     "text": [
      "---\n",
      "ensemble_fusion Validation Dice Loss: 0.1653163880109787\n",
      "ensemble_fusion Validation Pixel Accuracy: 0.968530487595943\n",
      "ensemble_fusion Validation MIoU: 0.8923438065198974\n",
      "ensemble_fusion Validation Dice Score: 0.9173083305358887\n"
     ]
    },
    {
     "name": "stderr",
     "output_type": "stream",
     "text": [
      "Epoch 22/50:  99%|█████████▊| 200/203 [00:08<00:00, 33.14img/s]"
     ]
    },
    {
     "name": "stdout",
     "output_type": "stream",
     "text": [
      "***\n",
      "ensemble_fusion Loss: 0.10635501891374588\n"
     ]
    },
    {
     "name": "stderr",
     "output_type": "stream",
     "text": [
      "Epoch 22/50:  99%|█████████▊| 200/203 [00:10<00:00, 18.53img/s]\n"
     ]
    },
    {
     "name": "stdout",
     "output_type": "stream",
     "text": [
      "---\n",
      "ensemble_fusion Validation Dice Loss: 0.11092658340930939\n",
      "ensemble_fusion Validation Pixel Accuracy: 0.9810108385587993\n",
      "ensemble_fusion Validation MIoU: 0.9281106602491507\n",
      "ensemble_fusion Validation Dice Score: 0.9209849238395691\n"
     ]
    },
    {
     "name": "stderr",
     "output_type": "stream",
     "text": [
      "Epoch 23/50:  99%|█████████▊| 200/203 [00:07<00:00, 33.15img/s]"
     ]
    },
    {
     "name": "stdout",
     "output_type": "stream",
     "text": [
      "***\n",
      "ensemble_fusion Loss: 0.07351054251194\n"
     ]
    },
    {
     "name": "stderr",
     "output_type": "stream",
     "text": [
      "Epoch 23/50:  99%|█████████▊| 200/203 [00:10<00:00, 18.59img/s]\n"
     ]
    },
    {
     "name": "stdout",
     "output_type": "stream",
     "text": [
      "---\n",
      "ensemble_fusion Validation Dice Loss: 0.138854518532753\n",
      "ensemble_fusion Validation Pixel Accuracy: 0.9714055646929824\n",
      "ensemble_fusion Validation MIoU: 0.8988260690597196\n",
      "ensemble_fusion Validation Dice Score: 0.9167450070381165\n"
     ]
    },
    {
     "name": "stderr",
     "output_type": "stream",
     "text": [
      "Epoch 24/50:  99%|█████████▊| 200/203 [00:08<00:00, 33.08img/s]"
     ]
    },
    {
     "name": "stdout",
     "output_type": "stream",
     "text": [
      "***\n",
      "ensemble_fusion Loss: 0.07422865927219391\n"
     ]
    },
    {
     "name": "stderr",
     "output_type": "stream",
     "text": [
      "Epoch 24/50:  99%|█████████▊| 200/203 [00:11<00:00, 17.78img/s]\n"
     ]
    },
    {
     "name": "stdout",
     "output_type": "stream",
     "text": [
      "---\n",
      "ensemble_fusion Validation Dice Loss: 0.14366251230239868\n",
      "ensemble_fusion Validation Pixel Accuracy: 0.9710115131578947\n",
      "ensemble_fusion Validation MIoU: 0.8989731660306579\n",
      "ensemble_fusion Validation Dice Score: 0.920737087726593\n"
     ]
    },
    {
     "name": "stderr",
     "output_type": "stream",
     "text": [
      "Epoch 25/50:  99%|█████████▊| 200/203 [00:08<00:00, 33.00img/s]"
     ]
    },
    {
     "name": "stdout",
     "output_type": "stream",
     "text": [
      "***\n",
      "ensemble_fusion Loss: 0.06991302967071533\n"
     ]
    },
    {
     "name": "stderr",
     "output_type": "stream",
     "text": [
      "Epoch 25/50:  99%|█████████▊| 200/203 [00:11<00:00, 18.00img/s]\n"
     ]
    },
    {
     "name": "stdout",
     "output_type": "stream",
     "text": [
      "---\n",
      "ensemble_fusion Validation Dice Loss: 0.12105249613523483\n",
      "ensemble_fusion Validation Pixel Accuracy: 0.976565444678591\n",
      "ensemble_fusion Validation MIoU: 0.9158356188572089\n",
      "ensemble_fusion Validation Dice Score: 0.9276191592216492\n"
     ]
    },
    {
     "name": "stderr",
     "output_type": "stream",
     "text": [
      "Epoch 26/50:  99%|█████████▊| 200/203 [00:08<00:00, 33.05img/s]"
     ]
    },
    {
     "name": "stdout",
     "output_type": "stream",
     "text": [
      "***\n",
      "ensemble_fusion Loss: 0.06529751420021057\n"
     ]
    },
    {
     "name": "stderr",
     "output_type": "stream",
     "text": [
      "Epoch 26/50:  99%|█████████▊| 200/203 [00:10<00:00, 18.48img/s]\n"
     ]
    },
    {
     "name": "stdout",
     "output_type": "stream",
     "text": [
      "---\n",
      "ensemble_fusion Validation Dice Loss: 0.1274648904800415\n",
      "ensemble_fusion Validation Pixel Accuracy: 0.9761373954906798\n",
      "ensemble_fusion Validation MIoU: 0.9147059238090275\n",
      "ensemble_fusion Validation Dice Score: 0.9262725710868835\n"
     ]
    },
    {
     "name": "stderr",
     "output_type": "stream",
     "text": [
      "Epoch 27/50:  99%|█████████▊| 200/203 [00:08<00:00, 32.99img/s]"
     ]
    },
    {
     "name": "stdout",
     "output_type": "stream",
     "text": [
      "***\n",
      "ensemble_fusion Loss: 0.06600230932235718\n"
     ]
    },
    {
     "name": "stderr",
     "output_type": "stream",
     "text": [
      "Epoch 27/50:  99%|█████████▊| 200/203 [00:11<00:00, 18.02img/s]\n"
     ]
    },
    {
     "name": "stdout",
     "output_type": "stream",
     "text": [
      "---\n",
      "ensemble_fusion Validation Dice Loss: 0.1157011017203331\n",
      "ensemble_fusion Validation Pixel Accuracy: 0.9782920971251371\n",
      "ensemble_fusion Validation MIoU: 0.9215416954884408\n",
      "ensemble_fusion Validation Dice Score: 0.928243100643158\n"
     ]
    },
    {
     "name": "stderr",
     "output_type": "stream",
     "text": [
      "Epoch 28/50:  99%|█████████▊| 200/203 [00:08<00:00, 33.06img/s]"
     ]
    },
    {
     "name": "stdout",
     "output_type": "stream",
     "text": [
      "***\n",
      "ensemble_fusion Loss: 0.06953027844429016\n"
     ]
    },
    {
     "name": "stderr",
     "output_type": "stream",
     "text": [
      "Epoch 28/50:  99%|█████████▊| 200/203 [00:10<00:00, 18.21img/s]\n"
     ]
    },
    {
     "name": "stdout",
     "output_type": "stream",
     "text": [
      "---\n",
      "ensemble_fusion Validation Dice Loss: 0.11514467000961304\n",
      "ensemble_fusion Validation Pixel Accuracy: 0.9786079808285362\n",
      "ensemble_fusion Validation MIoU: 0.9223746790355272\n",
      "ensemble_fusion Validation Dice Score: 0.9312637448310852\n"
     ]
    },
    {
     "name": "stderr",
     "output_type": "stream",
     "text": [
      "Epoch 29/50:  99%|█████████▊| 200/203 [00:08<00:00, 32.97img/s]"
     ]
    },
    {
     "name": "stdout",
     "output_type": "stream",
     "text": [
      "***\n",
      "ensemble_fusion Loss: 0.05745182931423187\n"
     ]
    },
    {
     "name": "stderr",
     "output_type": "stream",
     "text": [
      "Epoch 29/50:  99%|█████████▊| 200/203 [00:11<00:00, 17.89img/s]\n"
     ]
    },
    {
     "name": "stdout",
     "output_type": "stream",
     "text": [
      "---\n",
      "ensemble_fusion Validation Dice Loss: 0.11717469245195389\n",
      "ensemble_fusion Validation Pixel Accuracy: 0.9775845711691338\n",
      "ensemble_fusion Validation MIoU: 0.9191835667774664\n",
      "ensemble_fusion Validation Dice Score: 0.9297957420349121\n"
     ]
    },
    {
     "name": "stderr",
     "output_type": "stream",
     "text": [
      "Epoch 30/50:  99%|█████████▊| 200/203 [00:08<00:00, 33.11img/s]"
     ]
    },
    {
     "name": "stdout",
     "output_type": "stream",
     "text": [
      "***\n",
      "ensemble_fusion Loss: 0.06237621232867241\n"
     ]
    },
    {
     "name": "stderr",
     "output_type": "stream",
     "text": [
      "Epoch 30/50:  99%|█████████▊| 200/203 [00:10<00:00, 18.22img/s]\n"
     ]
    },
    {
     "name": "stdout",
     "output_type": "stream",
     "text": [
      "---\n",
      "ensemble_fusion Validation Dice Loss: 0.11710157990455627\n",
      "ensemble_fusion Validation Pixel Accuracy: 0.9777334112870065\n",
      "ensemble_fusion Validation MIoU: 0.9198044920524431\n",
      "ensemble_fusion Validation Dice Score: 0.9308695197105408\n"
     ]
    },
    {
     "name": "stderr",
     "output_type": "stream",
     "text": [
      "Epoch 31/50:  99%|█████████▊| 200/203 [00:08<00:00, 33.03img/s]"
     ]
    },
    {
     "name": "stdout",
     "output_type": "stream",
     "text": [
      "***\n",
      "ensemble_fusion Loss: 0.05912325531244278\n"
     ]
    },
    {
     "name": "stderr",
     "output_type": "stream",
     "text": [
      "Epoch 31/50:  99%|█████████▊| 200/203 [00:11<00:00, 17.97img/s]\n"
     ]
    },
    {
     "name": "stdout",
     "output_type": "stream",
     "text": [
      "---\n",
      "ensemble_fusion Validation Dice Loss: 0.12222658097743988\n",
      "ensemble_fusion Validation Pixel Accuracy: 0.9768248440926535\n",
      "ensemble_fusion Validation MIoU: 0.9168541139920088\n",
      "ensemble_fusion Validation Dice Score: 0.9305229187011719\n"
     ]
    },
    {
     "name": "stderr",
     "output_type": "stream",
     "text": [
      "Epoch 32/50:  99%|█████████▊| 200/203 [00:08<00:00, 33.05img/s]"
     ]
    },
    {
     "name": "stdout",
     "output_type": "stream",
     "text": [
      "***\n",
      "ensemble_fusion Loss: 0.06408487260341644\n"
     ]
    },
    {
     "name": "stderr",
     "output_type": "stream",
     "text": [
      "Epoch 32/50:  99%|█████████▊| 200/203 [00:11<00:00, 18.10img/s]\n"
     ]
    },
    {
     "name": "stdout",
     "output_type": "stream",
     "text": [
      "---\n",
      "ensemble_fusion Validation Dice Loss: 0.1294187754392624\n",
      "ensemble_fusion Validation Pixel Accuracy: 0.9744835569147479\n",
      "ensemble_fusion Validation MIoU: 0.9095422238637383\n",
      "ensemble_fusion Validation Dice Score: 0.9285452961921692\n"
     ]
    },
    {
     "name": "stderr",
     "output_type": "stream",
     "text": [
      "Epoch 33/50:  99%|█████████▊| 200/203 [00:08<00:00, 33.05img/s]"
     ]
    },
    {
     "name": "stdout",
     "output_type": "stream",
     "text": [
      "***\n",
      "ensemble_fusion Loss: 0.056632205843925476\n"
     ]
    },
    {
     "name": "stderr",
     "output_type": "stream",
     "text": [
      "Epoch 33/50:  99%|█████████▊| 200/203 [00:10<00:00, 18.38img/s]\n"
     ]
    },
    {
     "name": "stdout",
     "output_type": "stream",
     "text": [
      "---\n",
      "ensemble_fusion Validation Dice Loss: 0.12310745567083359\n",
      "ensemble_fusion Validation Pixel Accuracy: 0.9762616073876097\n",
      "ensemble_fusion Validation MIoU: 0.9148535180184469\n",
      "ensemble_fusion Validation Dice Score: 0.930371105670929\n"
     ]
    },
    {
     "name": "stderr",
     "output_type": "stream",
     "text": [
      "Epoch 34/50:  99%|█████████▊| 200/203 [00:08<00:00, 33.05img/s]"
     ]
    },
    {
     "name": "stdout",
     "output_type": "stream",
     "text": [
      "***\n",
      "ensemble_fusion Loss: 0.0663381814956665\n"
     ]
    },
    {
     "name": "stderr",
     "output_type": "stream",
     "text": [
      "Epoch 34/50:  99%|█████████▊| 200/203 [00:11<00:00, 17.99img/s]\n"
     ]
    },
    {
     "name": "stdout",
     "output_type": "stream",
     "text": [
      "---\n",
      "ensemble_fusion Validation Dice Loss: 0.12489580363035202\n",
      "ensemble_fusion Validation Pixel Accuracy: 0.9757768062123081\n",
      "ensemble_fusion Validation MIoU: 0.9135018980106514\n",
      "ensemble_fusion Validation Dice Score: 0.9297089576721191\n"
     ]
    },
    {
     "name": "stderr",
     "output_type": "stream",
     "text": [
      "Epoch 35/50:  99%|█████████▊| 200/203 [00:08<00:00, 33.06img/s]"
     ]
    },
    {
     "name": "stdout",
     "output_type": "stream",
     "text": [
      "***\n",
      "ensemble_fusion Loss: 0.058466047048568726\n"
     ]
    },
    {
     "name": "stderr",
     "output_type": "stream",
     "text": [
      "Epoch 35/50:  99%|█████████▊| 200/203 [00:11<00:00, 17.97img/s]\n"
     ]
    },
    {
     "name": "stdout",
     "output_type": "stream",
     "text": [
      "---\n",
      "ensemble_fusion Validation Dice Loss: 0.12217013537883759\n",
      "ensemble_fusion Validation Pixel Accuracy: 0.9766283537212171\n",
      "ensemble_fusion Validation MIoU: 0.9161177154503697\n",
      "ensemble_fusion Validation Dice Score: 0.930877149105072\n"
     ]
    },
    {
     "name": "stderr",
     "output_type": "stream",
     "text": [
      "Epoch 36/50:  99%|█████████▊| 200/203 [00:08<00:00, 32.98img/s]"
     ]
    },
    {
     "name": "stdout",
     "output_type": "stream",
     "text": [
      "***\n",
      "ensemble_fusion Loss: 0.05574940890073776\n"
     ]
    },
    {
     "name": "stderr",
     "output_type": "stream",
     "text": [
      "Epoch 36/50:  99%|█████████▊| 200/203 [00:11<00:00, 18.17img/s]\n"
     ]
    },
    {
     "name": "stdout",
     "output_type": "stream",
     "text": [
      "---\n",
      "ensemble_fusion Validation Dice Loss: 0.12142408639192581\n",
      "ensemble_fusion Validation Pixel Accuracy: 0.9762476870888158\n",
      "ensemble_fusion Validation MIoU: 0.9147449151267174\n",
      "ensemble_fusion Validation Dice Score: 0.9305692911148071\n"
     ]
    },
    {
     "name": "stderr",
     "output_type": "stream",
     "text": [
      "Epoch 37/50:  99%|█████████▊| 200/203 [00:08<00:00, 32.94img/s]"
     ]
    },
    {
     "name": "stdout",
     "output_type": "stream",
     "text": [
      "***\n",
      "ensemble_fusion Loss: 0.06186017766594887\n"
     ]
    },
    {
     "name": "stderr",
     "output_type": "stream",
     "text": [
      "Epoch 37/50:  99%|█████████▊| 200/203 [00:11<00:00, 17.75img/s]\n"
     ]
    },
    {
     "name": "stdout",
     "output_type": "stream",
     "text": [
      "---\n",
      "ensemble_fusion Validation Dice Loss: 0.12772804498672485\n",
      "ensemble_fusion Validation Pixel Accuracy: 0.974942123680784\n",
      "ensemble_fusion Validation MIoU: 0.9109802220490091\n",
      "ensemble_fusion Validation Dice Score: 0.9286569952964783\n"
     ]
    },
    {
     "name": "stderr",
     "output_type": "stream",
     "text": [
      "Epoch 38/50:  99%|█████████▊| 200/203 [00:08<00:00, 32.98img/s]"
     ]
    },
    {
     "name": "stdout",
     "output_type": "stream",
     "text": [
      "***\n",
      "ensemble_fusion Loss: 0.07003358751535416\n"
     ]
    },
    {
     "name": "stderr",
     "output_type": "stream",
     "text": [
      "Epoch 38/50:  99%|█████████▊| 200/203 [00:11<00:00, 17.77img/s]\n"
     ]
    },
    {
     "name": "stdout",
     "output_type": "stream",
     "text": [
      "---\n",
      "ensemble_fusion Validation Dice Loss: 0.13006272912025452\n",
      "ensemble_fusion Validation Pixel Accuracy: 0.9745060435512609\n",
      "ensemble_fusion Validation MIoU: 0.9097018808893444\n",
      "ensemble_fusion Validation Dice Score: 0.9284918904304504\n"
     ]
    },
    {
     "name": "stderr",
     "output_type": "stream",
     "text": [
      "Epoch 39/50:  99%|█████████▊| 200/203 [00:08<00:00, 32.90img/s]"
     ]
    },
    {
     "name": "stdout",
     "output_type": "stream",
     "text": [
      "***\n",
      "ensemble_fusion Loss: 0.06482743471860886\n"
     ]
    },
    {
     "name": "stderr",
     "output_type": "stream",
     "text": [
      "Epoch 39/50:  99%|█████████▊| 200/203 [00:11<00:00, 17.95img/s]\n"
     ]
    },
    {
     "name": "stdout",
     "output_type": "stream",
     "text": [
      "---\n",
      "ensemble_fusion Validation Dice Loss: 0.1337595134973526\n",
      "ensemble_fusion Validation Pixel Accuracy: 0.9736092550712719\n",
      "ensemble_fusion Validation MIoU: 0.9071029660294299\n",
      "ensemble_fusion Validation Dice Score: 0.9270844459533691\n"
     ]
    },
    {
     "name": "stderr",
     "output_type": "stream",
     "text": [
      "Epoch 40/50:  99%|█████████▊| 200/203 [00:08<00:00, 33.25img/s]"
     ]
    },
    {
     "name": "stdout",
     "output_type": "stream",
     "text": [
      "***\n",
      "ensemble_fusion Loss: 0.0721113383769989\n"
     ]
    },
    {
     "name": "stderr",
     "output_type": "stream",
     "text": [
      "Epoch 40/50:  99%|█████████▊| 200/203 [00:11<00:00, 17.98img/s]\n"
     ]
    },
    {
     "name": "stdout",
     "output_type": "stream",
     "text": [
      "---\n",
      "ensemble_fusion Validation Dice Loss: 0.1371825635433197\n",
      "ensemble_fusion Validation Pixel Accuracy: 0.9726565176980537\n",
      "ensemble_fusion Validation MIoU: 0.904280386159404\n",
      "ensemble_fusion Validation Dice Score: 0.9267160296440125\n"
     ]
    },
    {
     "name": "stderr",
     "output_type": "stream",
     "text": [
      "Epoch 41/50:  99%|█████████▊| 200/203 [00:08<00:00, 33.06img/s]"
     ]
    },
    {
     "name": "stdout",
     "output_type": "stream",
     "text": [
      "***\n",
      "ensemble_fusion Loss: 0.06841768324375153\n"
     ]
    },
    {
     "name": "stderr",
     "output_type": "stream",
     "text": [
      "Epoch 41/50:  99%|█████████▊| 200/203 [00:11<00:00, 17.72img/s]\n"
     ]
    },
    {
     "name": "stdout",
     "output_type": "stream",
     "text": [
      "---\n",
      "ensemble_fusion Validation Dice Loss: 0.1264285445213318\n",
      "ensemble_fusion Validation Pixel Accuracy: 0.9755795127467105\n",
      "ensemble_fusion Validation MIoU: 0.9129947124107728\n",
      "ensemble_fusion Validation Dice Score: 0.9295715689659119\n"
     ]
    },
    {
     "name": "stderr",
     "output_type": "stream",
     "text": [
      "Epoch 42/50:  99%|█████████▊| 200/203 [00:08<00:00, 33.18img/s]"
     ]
    },
    {
     "name": "stdout",
     "output_type": "stream",
     "text": [
      "***\n",
      "ensemble_fusion Loss: 0.06310662627220154\n"
     ]
    },
    {
     "name": "stderr",
     "output_type": "stream",
     "text": [
      "Epoch 42/50:  99%|█████████▊| 200/203 [00:11<00:00, 17.76img/s]\n"
     ]
    },
    {
     "name": "stdout",
     "output_type": "stream",
     "text": [
      "---\n",
      "ensemble_fusion Validation Dice Loss: 0.13739538192749023\n",
      "ensemble_fusion Validation Pixel Accuracy: 0.9728099086828399\n",
      "ensemble_fusion Validation MIoU: 0.9047622915166897\n",
      "ensemble_fusion Validation Dice Score: 0.9267703890800476\n"
     ]
    },
    {
     "name": "stderr",
     "output_type": "stream",
     "text": [
      "Epoch 43/50:  99%|█████████▊| 200/203 [00:08<00:00, 32.60img/s]"
     ]
    },
    {
     "name": "stdout",
     "output_type": "stream",
     "text": [
      "***\n",
      "ensemble_fusion Loss: 0.06172661855816841\n"
     ]
    },
    {
     "name": "stderr",
     "output_type": "stream",
     "text": [
      "Epoch 43/50:  99%|█████████▊| 200/203 [00:11<00:00, 18.03img/s]\n"
     ]
    },
    {
     "name": "stdout",
     "output_type": "stream",
     "text": [
      "---\n",
      "ensemble_fusion Validation Dice Loss: 0.12842035293579102\n",
      "ensemble_fusion Validation Pixel Accuracy: 0.9751608329906798\n",
      "ensemble_fusion Validation MIoU: 0.9117953927212235\n",
      "ensemble_fusion Validation Dice Score: 0.9287592768669128\n"
     ]
    },
    {
     "name": "stderr",
     "output_type": "stream",
     "text": [
      "Epoch 44/50:  99%|█████████▊| 200/203 [00:08<00:00, 32.91img/s]"
     ]
    },
    {
     "name": "stdout",
     "output_type": "stream",
     "text": [
      "***\n",
      "ensemble_fusion Loss: 0.057008661329746246\n"
     ]
    },
    {
     "name": "stderr",
     "output_type": "stream",
     "text": [
      "Epoch 44/50:  99%|█████████▊| 200/203 [00:10<00:00, 18.23img/s]\n"
     ]
    },
    {
     "name": "stdout",
     "output_type": "stream",
     "text": [
      "---\n",
      "ensemble_fusion Validation Dice Loss: 0.12595322728157043\n",
      "ensemble_fusion Validation Pixel Accuracy: 0.975378203810307\n",
      "ensemble_fusion Validation MIoU: 0.9122478862197749\n",
      "ensemble_fusion Validation Dice Score: 0.9296444058418274\n"
     ]
    },
    {
     "name": "stderr",
     "output_type": "stream",
     "text": [
      "Epoch 45/50:  99%|█████████▊| 200/203 [00:08<00:00, 33.01img/s]"
     ]
    },
    {
     "name": "stdout",
     "output_type": "stream",
     "text": [
      "***\n",
      "ensemble_fusion Loss: 0.06300033628940582\n"
     ]
    },
    {
     "name": "stderr",
     "output_type": "stream",
     "text": [
      "Epoch 45/50:  99%|█████████▊| 200/203 [00:10<00:00, 18.39img/s]\n"
     ]
    },
    {
     "name": "stdout",
     "output_type": "stream",
     "text": [
      "---\n",
      "ensemble_fusion Validation Dice Loss: 0.13025623559951782\n",
      "ensemble_fusion Validation Pixel Accuracy: 0.9744487561677632\n",
      "ensemble_fusion Validation MIoU: 0.9095793766829685\n",
      "ensemble_fusion Validation Dice Score: 0.9287739992141724\n"
     ]
    },
    {
     "name": "stderr",
     "output_type": "stream",
     "text": [
      "Epoch 46/50:  99%|█████████▊| 200/203 [00:08<00:00, 33.16img/s]"
     ]
    },
    {
     "name": "stdout",
     "output_type": "stream",
     "text": [
      "***\n",
      "ensemble_fusion Loss: 0.07024697959423065\n"
     ]
    },
    {
     "name": "stderr",
     "output_type": "stream",
     "text": [
      "Epoch 46/50:  99%|█████████▊| 200/203 [00:11<00:00, 18.18img/s]\n"
     ]
    },
    {
     "name": "stdout",
     "output_type": "stream",
     "text": [
      "---\n",
      "ensemble_fusion Validation Dice Loss: 0.13323640823364258\n",
      "ensemble_fusion Validation Pixel Accuracy: 0.973882842482182\n",
      "ensemble_fusion Validation MIoU: 0.9079314718688617\n",
      "ensemble_fusion Validation Dice Score: 0.9275991320610046\n"
     ]
    },
    {
     "name": "stderr",
     "output_type": "stream",
     "text": [
      "Epoch 47/50:  99%|█████████▊| 200/203 [00:08<00:00, 33.10img/s]"
     ]
    },
    {
     "name": "stdout",
     "output_type": "stream",
     "text": [
      "***\n",
      "ensemble_fusion Loss: 0.06492513418197632\n"
     ]
    },
    {
     "name": "stderr",
     "output_type": "stream",
     "text": [
      "Epoch 47/50:  99%|█████████▊| 200/203 [00:11<00:00, 18.03img/s]\n"
     ]
    },
    {
     "name": "stdout",
     "output_type": "stream",
     "text": [
      "---\n",
      "ensemble_fusion Validation Dice Loss: 0.13125145435333252\n",
      "ensemble_fusion Validation Pixel Accuracy: 0.9741933722245065\n",
      "ensemble_fusion Validation MIoU: 0.9087762103849522\n",
      "ensemble_fusion Validation Dice Score: 0.9282230734825134\n"
     ]
    },
    {
     "name": "stderr",
     "output_type": "stream",
     "text": [
      "Epoch 48/50:  99%|█████████▊| 200/203 [00:08<00:00, 32.95img/s]"
     ]
    },
    {
     "name": "stdout",
     "output_type": "stream",
     "text": [
      "***\n",
      "ensemble_fusion Loss: 0.061916518956422806\n"
     ]
    },
    {
     "name": "stderr",
     "output_type": "stream",
     "text": [
      "Epoch 48/50:  99%|█████████▊| 200/203 [00:11<00:00, 18.01img/s]\n"
     ]
    },
    {
     "name": "stdout",
     "output_type": "stream",
     "text": [
      "---\n",
      "ensemble_fusion Validation Dice Loss: 0.13058477640151978\n",
      "ensemble_fusion Validation Pixel Accuracy: 0.974563063236705\n",
      "ensemble_fusion Validation MIoU: 0.9098864707059315\n",
      "ensemble_fusion Validation Dice Score: 0.9283983111381531\n"
     ]
    },
    {
     "name": "stderr",
     "output_type": "stream",
     "text": [
      "Epoch 49/50:  99%|█████████▊| 200/203 [00:08<00:00, 33.04img/s]"
     ]
    },
    {
     "name": "stdout",
     "output_type": "stream",
     "text": [
      "***\n",
      "ensemble_fusion Loss: 0.05421280860900879\n"
     ]
    },
    {
     "name": "stderr",
     "output_type": "stream",
     "text": [
      "Epoch 49/50:  99%|█████████▊| 200/203 [00:11<00:00, 18.09img/s]\n"
     ]
    },
    {
     "name": "stdout",
     "output_type": "stream",
     "text": [
      "---\n",
      "ensemble_fusion Validation Dice Loss: 0.1252054125070572\n",
      "ensemble_fusion Validation Pixel Accuracy: 0.9759478652686403\n",
      "ensemble_fusion Validation MIoU: 0.9141552148208234\n",
      "ensemble_fusion Validation Dice Score: 0.9294251799583435\n"
     ]
    },
    {
     "name": "stderr",
     "output_type": "stream",
     "text": [
      "Epoch 50/50:  99%|█████████▊| 200/203 [00:08<00:00, 33.05img/s]"
     ]
    },
    {
     "name": "stdout",
     "output_type": "stream",
     "text": [
      "***\n",
      "ensemble_fusion Loss: 0.06524494290351868\n"
     ]
    },
    {
     "name": "stderr",
     "output_type": "stream",
     "text": [
      "Epoch 50/50:  99%|█████████▊| 200/203 [00:10<00:00, 18.28img/s]"
     ]
    },
    {
     "name": "stdout",
     "output_type": "stream",
     "text": [
      "---\n",
      "ensemble_fusion Validation Dice Loss: 0.12296431511640549\n",
      "ensemble_fusion Validation Pixel Accuracy: 0.9760097035190516\n",
      "ensemble_fusion Validation MIoU: 0.9140850718124893\n",
      "ensemble_fusion Validation Dice Score: 0.9301106333732605\n"
     ]
    },
    {
     "name": "stderr",
     "output_type": "stream",
     "text": [
      "\n"
     ]
    }
   ],
   "source": [
    "valScore_list1 = []\n",
    "TrainLoss_list1 = []\n",
    "\n",
    "valScore_list2 = []\n",
    "TrainLoss_list2 = []\n",
    "\n",
    "valScore_list3 = []\n",
    "TrainLoss_list3 = []\n",
    "\n",
    "valScore_list4 = []\n",
    "TrainLoss_list4 = []\n",
    "\n",
    "val_losses = []\n",
    "val_accs = []\n",
    "val_mious = []\n",
    "\n",
    "# 5. Begin training\n",
    "for epoch in range(1, epochs + 1):\n",
    "    model.train()\n",
    "    epoch_loss = 0\n",
    "    epoch_unet_loss = 0\n",
    "    epoch_segnet_loss = 0\n",
    "    epoch_enet_loss = 0\n",
    "    epoch_voting_loss = 0\n",
    "    \n",
    "    with tqdm(total=n_train, desc=f'Epoch {epoch}/{epochs}', unit='img') as pbar:\n",
    "        for batch in train_loader:\n",
    "            images, true_masks = batch['image'], batch['mask']\n",
    "\n",
    "            images = images.to(device=device, dtype=torch.float32, memory_format=torch.channels_last)\n",
    "            true_masks = true_masks.to(device=device, dtype=torch.long)\n",
    "\n",
    "                \n",
    "            result = forward_and_backward(model, images, true_masks, amp, optims, grad_scaler, Model_Name)\n",
    "            \n",
    "            if len(result) == 4:\n",
    "                model, unet_loss, segnet_loss, enet_loss = result\n",
    "                \n",
    "                pbar.update(images.shape[0])\n",
    "                global_step += 1\n",
    "                epoch_unet_loss += unet_loss.item()\n",
    "                epoch_segnet_loss += segnet_loss.item()\n",
    "                epoch_enet_loss += enet_loss.item()\n",
    "                vot_loss = ((unet_loss.item() + segnet_loss.item() + enet_loss.item()) /3)\n",
    "                epoch_voting_loss += vot_loss\n",
    "                \n",
    "                \n",
    "            elif len(result) == 2:\n",
    "                model, loss = result\n",
    "                \n",
    "                pbar.update(images.shape[0])\n",
    "                global_step += 1\n",
    "                epoch_loss += loss.item()\n",
    "\n",
    "\n",
    "        print('***')\n",
    "        if len(result) == 4:\n",
    "            print('Unet Loss: {}     Segnet Loss: {}     Enet Loss: {}'.format(unet_loss, segnet_loss, enet_loss))\n",
    "            print('Voting Loss: {}'.format(vot_loss))\n",
    "            \n",
    "            \n",
    "        elif len(result) == 2:\n",
    "            print('{} Loss: {}'.format(Model_Name, loss))\n",
    "\n",
    "        # Evaluation round\n",
    "        division_step = (n_train // (5 * batch_size))\n",
    "        if division_step > 0:\n",
    "            #if global_step % division_step == 0:\n",
    "            if len(result) == 4:\n",
    "                unet_val_score, segnet_val_score, enet_val_score, voting_val_score, val_loss, val_acc, val_miou = evaluate(model, val_loader, criterion, device, Model_Name, amp)\n",
    "                \n",
    "                unet_scheduler.step(unet_val_score)\n",
    "                segnet_scheduler.step(segnet_val_score)\n",
    "                enet_scheduler.step(enet_val_score)\n",
    "                #voting_scheduler.step(voting_val_score)\n",
    "                \n",
    "                valScore_list1.append(unet_val_score.cpu().detach().numpy())\n",
    "                TrainLoss_list1.append(unet_loss.cpu().detach().numpy())\n",
    "                valScore_list2.append(segnet_val_score.cpu().detach().numpy())\n",
    "                TrainLoss_list2.append(segnet_loss.cpu().detach().numpy())                \n",
    "                valScore_list3.append(enet_val_score.cpu().detach().numpy())\n",
    "                TrainLoss_list3.append(enet_loss.cpu().detach().numpy())\n",
    "                valScore_list4.append(voting_val_score.cpu().detach().numpy())\n",
    "                TrainLoss_list4.append(vot_loss)\n",
    "                \n",
    "                val_losses.append(val_loss)\n",
    "                val_accs.append(val_acc)\n",
    "                val_mious.append(val_miou)\n",
    "                \n",
    "                print('---')\n",
    "                print('Unet Validation Dice Score: {}     Segnet Validation Dice Score: {}     Enet Validation Dice Score: {}'.format(unet_val_score, segnet_val_score, enet_val_score))\n",
    "                print('---')\n",
    "                print('Ensemble Voting Validation Dice Loss: {}'.format(val_loss))\n",
    "                print('Ensemble Voting Validation Pixel Accuracy: {} '.format(val_acc))\n",
    "                print('Ensemble Voting Validation MIoU: {}'.format(val_miou))                \n",
    "                print('Ensemble Voting Validation Dice Score: {} '.format(voting_val_score))\n",
    "                \n",
    "            else:\n",
    "                val_score, val_loss, val_acc, val_miou = evaluate(model, val_loader, criterion, device, Model_Name, amp)\n",
    "                \n",
    "                                \n",
    "                scheduler.step(val_score)\n",
    "                \n",
    "                print('---')\n",
    "                print('{} Validation Dice Loss: {}'.format(Model_Name, val_loss))   \n",
    "                print('{} Validation Pixel Accuracy: {}'.format(Model_Name, val_acc))\n",
    "                print('{} Validation MIoU: {}'.format(Model_Name, val_miou))\n",
    "                print('{} Validation Dice Score: {}'.format(Model_Name, val_score))\n",
    "                \n",
    "            \n",
    "                valScore_list1.append(val_score.cpu().detach().numpy())\n",
    "                TrainLoss_list1.append(loss.cpu().detach().numpy())\n",
    "                val_losses.append(val_loss)\n",
    "                val_accs.append(val_acc)\n",
    "                val_mious.append(val_miou)\n",
    "\n",
    "        \n",
    "    if save_checkpoint:\n",
    "        Path(dir_checkpoint).mkdir(parents=True, exist_ok=True)\n",
    "        torch.save(model.state_dict(), str(dir_checkpoint / 'checkpoint_epoch{}.pth'.format(epoch + 1)))"
   ]
  },
  {
   "cell_type": "code",
   "execution_count": 10,
   "id": "232d4d6e-12ed-4b30-9b2e-7421289573ad",
   "metadata": {},
   "outputs": [],
   "source": [
    "import pandas as pd\n",
    "import matplotlib.pyplot as plt"
   ]
  },
  {
   "cell_type": "code",
   "execution_count": 11,
   "id": "5e7c3590-63c0-4ee6-bf67-25b012d008d7",
   "metadata": {},
   "outputs": [],
   "source": [
    "df = pd.DataFrame([TrainLoss_list1, val_losses, valScore_list1, val_accs, val_mious]).T\n",
    "df.columns = ['train_loss', 'val_loss', 'val_score', 'val_acc', 'val_miou']\n",
    "df.to_csv(checkpoint_dir + '/model_check.csv', encoding = 'UTF-8')"
   ]
  },
  {
   "cell_type": "code",
   "execution_count": 12,
   "id": "e02024f4-5520-4e80-b5e2-1c0f7d4ad10c",
   "metadata": {},
   "outputs": [
    {
     "data": {
      "text/plain": [
       "[<matplotlib.lines.Line2D at 0x7f3503eb2e10>]"
      ]
     },
     "execution_count": 12,
     "metadata": {},
     "output_type": "execute_result"
    },
    {
     "data": {
      "image/png": "[encoded data removed]",
      "text/plain": [
       "<Figure size 1000x500 with 1 Axes>"
      ]
     },
     "metadata": {},
     "output_type": "display_data"
    }
   ],
   "source": [
    "plt.figure(figsize= (10,5))\n",
    "plt.plot(TrainLoss_list1)\n",
    "plt.plot(val_losses)"
   ]
  },
  {
   "cell_type": "code",
   "execution_count": 13,
   "id": "0af788b9-1d94-4072-af4f-5c83165b18fc",
   "metadata": {},
   "outputs": [
    {
     "data": {
      "text/plain": [
       "[<matplotlib.lines.Line2D at 0x7f3503db9bd0>]"
      ]
     },
     "execution_count": 13,
     "metadata": {},
     "output_type": "execute_result"
    },
    {
     "data": {
      "image/png": "[encoded data removed]",
      "text/plain": [
       "<Figure size 1000x500 with 1 Axes>"
      ]
     },
     "metadata": {},
     "output_type": "display_data"
    }
   ],
   "source": [
    "plt.figure(figsize= (10,5))\n",
    "plt.plot(valScore_list1)\n",
    "plt.plot(val_accs)\n",
    "plt.plot(val_mious)"
   ]
  },
  {
   "cell_type": "code",
   "execution_count": null,
   "id": "4795b565-b90f-424f-8455-52d43ad2e5ec",
   "metadata": {},
   "outputs": [],
   "source": []
  },
  {
   "cell_type": "code",
   "execution_count": null,
   "id": "3a6fecb3-338c-4876-b13f-a3ea72b40010",
   "metadata": {},
   "outputs": [],
   "source": []
  },
  {
   "cell_type": "markdown",
   "id": "aa779751-5a99-4bf2-829f-37e276976e5f",
   "metadata": {},
   "source": []
  }
 ],
 "metadata": {
  "kernelspec": {
   "display_name": "ksh",
   "language": "python",
   "name": "ksh"
  },
  "language_info": {
   "codemirror_mode": {
    "name": "ipython",
    "version": 3
   },
   "file_extension": ".py",
   "mimetype": "text/x-python",
   "name": "python",
   "nbconvert_exporter": "python",
   "pygments_lexer": "ipython3",
   "version": "3.7.16"
  }
 },
 "nbformat": 4,
 "nbformat_minor": 5
}
