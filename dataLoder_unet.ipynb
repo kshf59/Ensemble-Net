{
 "cells": [
  {
   "cell_type": "code",
   "execution_count": 1,
   "id": "5f271b9d-c9a3-41c5-a2e5-cd21dc79d5b6",
   "metadata": {
    "tags": []
   },
   "outputs": [],
   "source": [
    "import numpy as np\n",
    "from pathlib import Path\n",
    "from PIL import Image\n",
    "from torch.utils.data import DataLoader, random_split\n",
    "import torch\n",
    "from torch import optim\n",
    "import torch.nn as nn\n",
    "from tqdm import tqdm\n",
    "import torch.nn.functional as F\n",
    "import logging\n",
    "from evaluate import evaluate\n",
    "import os\n",
    "import albumentations as A\n",
    "from albumentations.pytorch import ToTensorV2\n",
    "from collections import OrderedDict\n",
    "\n",
    "#from model.unet.unet_model import UNet\n",
    "#from model.segnet.segnet_model import SegNet\n",
    "#from torchvision.models.segmentation import deeplabv3_resnet101 as DeepLabv3\n",
    "from model.ensemblenet_model import EnsembleNet\n",
    "\n",
    "\n",
    "from utils.dice_score import dice_loss\n",
    "from utils.data_load import KittiDataset\n",
    "from torchsummaryX import summary"
   ]
  },
  {
   "cell_type": "code",
   "execution_count": 2,
   "id": "64ae7ca9",
   "metadata": {
    "tags": []
   },
   "outputs": [],
   "source": [
    "Val_Percent = 0.3\n",
    "Scale_Percent = 1.0\n",
    "Batch_Size = 8\n",
    "learning_rate = 0.0001\n",
    "Pin_Memory = False\n",
    "epochs = 50\n",
    "\n",
    "#Image_Size = [384, 1242]\n",
    "Image_Size = [384, 1216]\n",
    "#Image_Size = [384,384]\n",
    "Gradient_Clipping = 0.8\n",
    "\n",
    "#Num_Class = 31\n",
    "#Num_Class = 21\n",
    "Num_Class = 2\n",
    "Num_Channel = 3\n",
    "amp = True\n",
    "\n",
    "Model_Name = 'unet'\n",
    "\n",
    "\n",
    "Img_Path =  'data/data_road/training/image_2'\n",
    "Mask_Path =  'data/data_road/training/semantic'\n",
    "\n",
    "save_checkpoint = False\n",
    "checkpoint_dir = '../trained'\n",
    "batch_size = Batch_Size"
   ]
  },
  {
   "cell_type": "code",
   "execution_count": 3,
   "id": "567f8440",
   "metadata": {
    "tags": []
   },
   "outputs": [],
   "source": [
    "dirImg = Path(Img_Path)\n",
    "dirMask = Path(Mask_Path)\n",
    "\n",
    "dir_checkpoint = Path(checkpoint_dir)"
   ]
  },
  {
   "cell_type": "markdown",
   "id": "c67210d1-7567-4b7d-858b-349748c428a0",
   "metadata": {},
   "source": [
    "train_transform = A.Compose([\n",
    "        A.HorizontalFlip(p=0.5),\n",
    "        #A.VerticalFlip(p=0.5),\n",
    "        A.Rotate(limit=30, p=0.5),\n",
    "        #A.RandomBrightnessContrast(p=0.5),\n",
    "        #A.RandomGamma(p=0.5),\n",
    "        #A.RandomSnow(p=0.5),\n",
    "        #A.RandomRain(p=0.5),\n",
    "        #A.RandomFog(p=0.5),\n",
    "        #A.RandomSunFlare(p=0.5),\n",
    "        A.RandomShadow(p=0.5),\n",
    "        #A.RandomToneCurve(p=0.5),\n",
    "        #A.GaussNoise(p=0.5),\n",
    "        #A.Emboss(p=0.5),  # IAAEmboss 대신 Emboss 사용\n",
    "        #A.Perspective(p=0.5),  # IAAPerspective 대신 Perspective 사용\n",
    "        #A.CLAHE(p=0.5)\n",
    "])"
   ]
  },
  {
   "cell_type": "code",
   "execution_count": 4,
   "id": "8e8e3825-8747-4f49-b3ee-eac27522ded2",
   "metadata": {},
   "outputs": [],
   "source": [
    "device = torch.device('cuda' if torch.cuda.is_available() else 'cpu')"
   ]
  },
  {
   "cell_type": "code",
   "execution_count": 5,
   "id": "9a4a35b2-bc69-49e4-b17c-e850f278473d",
   "metadata": {},
   "outputs": [
    {
     "name": "stderr",
     "output_type": "stream",
     "text": [
      "100%|██████████| 289/289 [00:00<00:00, 826.52it/s]\n"
     ]
    }
   ],
   "source": [
    "datasets =  KittiDataset(dirImg, dirMask, Image_Size, Scale_Percent)\n",
    "#datasets =  KittiDataset(dirImg, dirMask, Image_Size, Scale_Percent, train_transform)\n",
    "n_val = int(len(datasets) * Val_Percent)\n",
    "n_train = len(datasets) - n_val\n",
    "train_set, val_set = random_split(datasets, [n_train, n_val], generator=torch.Generator().manual_seed(0))\n",
    "\n",
    "loader_args = dict(batch_size=Batch_Size, num_workers= os.cpu_count(), pin_memory=Pin_Memory)\n",
    "train_loader = DataLoader(train_set, shuffle=True, drop_last = True, **loader_args)\n",
    "val_loader = DataLoader(val_set, shuffle=False, drop_last=True, **loader_args)"
   ]
  },
  {
   "cell_type": "code",
   "execution_count": 6,
   "id": "95b36f40-c709-4e1e-b4f6-66a1954edfd8",
   "metadata": {},
   "outputs": [],
   "source": [
    "model = EnsembleNet(Model_Name, Num_Channel, Num_Class)\n",
    "model = model.to(memory_format=torch.channels_last, device = device)"
   ]
  },
  {
   "cell_type": "code",
   "execution_count": 7,
   "id": "4a29bc96",
   "metadata": {
    "tags": []
   },
   "outputs": [],
   "source": [
    "# 4. Set up the optimizer, the loss, the learning rate scheduler and the loss scaling for AMP\n",
    "#optimizer = optim.RMSprop(model.parameters(), lr=learning_rate, weight_decay=1e-8, momentum=0.9)\n",
    "optimizer = optim.Adam(model.parameters(), lr=learning_rate, weight_decay=1e-8)\n",
    "#optimizer = optim.SGD(model.parameters(), lr=learning_rate, weight_decay=1e-8, momentum=0.9)\n",
    "\n",
    "if 'ensemble_voting' in Model_Name:\n",
    "    unet_scheduler = optim.lr_scheduler.ReduceLROnPlateau(optimizer, 'max', patience=2)  # goal: maximize Dice score\n",
    "    segnet_scheduler = optim.lr_scheduler.ReduceLROnPlateau(optimizer, 'max', patience=2)  # goal: maximize Dice score\n",
    "    enet_scheduler = optim.lr_scheduler.ReduceLROnPlateau(optimizer, 'max', patience=2)  # goal: maximize Dice score\n",
    "    voting_scheduler = optim.lr_scheduler.ReduceLROnPlateau(optimizer, 'max', patience=2)  # goal: maximize Dice score\n",
    "    \n",
    "else:\n",
    "    scheduler = optim.lr_scheduler.ReduceLROnPlateau(optimizer, 'max', patience=2)  # goal: maximize Dice score\n",
    "\n",
    "grad_scaler = torch.cuda.amp.GradScaler(enabled=amp)\n",
    "criterion = nn.CrossEntropyLoss()\n",
    "global_step = 0"
   ]
  },
  {
   "cell_type": "code",
   "execution_count": 8,
   "id": "46e43754-2870-4837-b38a-3f57d6733ddc",
   "metadata": {},
   "outputs": [],
   "source": [
    "def calculate_loss(pred, true_masks, nclass, multiclass):\n",
    "    loss = criterion(pred, true_masks)\n",
    "    loss += dice_loss(\n",
    "        F.softmax(pred, dim=1).float(),\n",
    "        F.one_hot(true_masks, nclass).permute(0, 3, 1, 2).float(),\n",
    "        multiclass=multiclass\n",
    "    )\n",
    "    return loss\n",
    "\n",
    "\n",
    "def forward_and_backward(model, images, true_masks, amp, optimizer, grad_scaler, model_name):\n",
    "    with torch.autocast(device.type if device.type != 'mps' else 'cpu', enabled=amp):\n",
    "        if model_name == 'ensemble_voting':\n",
    "            unet_pred, segnet_pred, enet_pred = model(images)\n",
    "            #deeplab_pred = deeplab_pred['out']\n",
    "        else:\n",
    "            masks_pred = model(images)\n",
    "            if isinstance(masks_pred, OrderedDict):\n",
    "                masks_pred = masks_pred['out']\n",
    "\n",
    "        try:\n",
    "            mn_cls = model.n_classes\n",
    "        except:\n",
    "            mn_cls = model.classifier[-1].out_channels\n",
    "\n",
    "\n",
    "        if model_name == 'ensemble_voting':\n",
    "            unet_loss = calculate_loss(unet_pred, true_masks, mn_cls, multiclass=True)\n",
    "            segnet_loss = calculate_loss(segnet_pred, true_masks, mn_cls, multiclass=True)\n",
    "            enet_loss = calculate_loss(enet_pred, true_masks, mn_cls, multiclass=True)\n",
    "            \n",
    "        else:\n",
    "            loss = calculate_loss(masks_pred, true_masks, mn_cls, multiclass=True)\n",
    "\n",
    "    \n",
    "    optimizer.zero_grad(set_to_none=True)\n",
    "    if model_name == 'ensemble_voting':\n",
    "        for pred, loss in zip([unet_pred, segnet_pred, enet_pred], [unet_loss, segnet_loss, enet_loss]):\n",
    "            grad_scaler.scale(loss).backward()\n",
    "            torch.nn.utils.clip_grad_norm_(model.parameters(), Gradient_Clipping)\n",
    "            grad_scaler.step(optimizer)\n",
    "            grad_scaler.update()\n",
    "        \n",
    "        return model, unet_loss, segnet_loss, enet_loss\n",
    "    else:\n",
    "        optimizer.zero_grad(set_to_none=True)\n",
    "        grad_scaler.scale(loss).backward()\n",
    "        torch.nn.utils.clip_grad_norm_(model.parameters(), Gradient_Clipping)\n",
    "        grad_scaler.step(optimizer)\n",
    "        grad_scaler.update()\n",
    "        \n",
    "        return model, loss\n"
   ]
  },
  {
   "cell_type": "code",
   "execution_count": 9,
   "id": "8bb76263-8fd8-437d-9204-8ebc2af3de6d",
   "metadata": {},
   "outputs": [
    {
     "name": "stderr",
     "output_type": "stream",
     "text": [
      "Epoch 1/50:  99%|█████████▊| 200/203 [00:08<00:00, 44.12img/s]"
     ]
    },
    {
     "name": "stdout",
     "output_type": "stream",
     "text": [
      "***\n",
      "unet Loss: 0.6181782484054565\n"
     ]
    },
    {
     "name": "stderr",
     "output_type": "stream",
     "text": [
      "Epoch 1/50:  99%|█████████▊| 200/203 [00:10<00:00, 18.50img/s]\n"
     ]
    },
    {
     "name": "stdout",
     "output_type": "stream",
     "text": [
      "---\n",
      "unet Validation Dice Loss: 1.3248586654663086\n",
      "unet Validation Pixel Accuracy: 0.4451144034402412\n",
      "unet Validation MIoU: 0.27932969290819276\n",
      "unet Validation Dice Score: 0.3757688105106354\n"
     ]
    },
    {
     "name": "stderr",
     "output_type": "stream",
     "text": [
      "Epoch 2/50:  99%|█████████▊| 200/203 [00:06<00:00, 43.86img/s]"
     ]
    },
    {
     "name": "stdout",
     "output_type": "stream",
     "text": [
      "***\n",
      "unet Loss: 0.4558774530887604\n"
     ]
    },
    {
     "name": "stderr",
     "output_type": "stream",
     "text": [
      "Epoch 2/50:  99%|█████████▊| 200/203 [00:08<00:00, 22.59img/s]\n"
     ]
    },
    {
     "name": "stdout",
     "output_type": "stream",
     "text": [
      "---\n",
      "unet Validation Dice Loss: 0.6694188117980957\n",
      "unet Validation Pixel Accuracy: 0.92198127612733\n",
      "unet Validation MIoU: 0.7707237968689284\n",
      "unet Validation Dice Score: 0.7611369490623474\n"
     ]
    },
    {
     "name": "stderr",
     "output_type": "stream",
     "text": [
      "Epoch 3/50:  99%|█████████▊| 200/203 [00:06<00:00, 43.78img/s]"
     ]
    },
    {
     "name": "stdout",
     "output_type": "stream",
     "text": [
      "***\n",
      "unet Loss: 0.4365500807762146\n"
     ]
    },
    {
     "name": "stderr",
     "output_type": "stream",
     "text": [
      "Epoch 3/50:  99%|█████████▊| 200/203 [00:08<00:00, 23.48img/s]\n"
     ]
    },
    {
     "name": "stdout",
     "output_type": "stream",
     "text": [
      "---\n",
      "unet Validation Dice Loss: 0.6603415012359619\n",
      "unet Validation Pixel Accuracy: 0.9060505649499726\n",
      "unet Validation MIoU: 0.7476796977631056\n",
      "unet Validation Dice Score: 0.7790752053260803\n"
     ]
    },
    {
     "name": "stderr",
     "output_type": "stream",
     "text": [
      "Epoch 4/50:  99%|█████████▊| 200/203 [00:06<00:00, 44.04img/s]"
     ]
    },
    {
     "name": "stdout",
     "output_type": "stream",
     "text": [
      "***\n",
      "unet Loss: 0.40059351921081543\n"
     ]
    },
    {
     "name": "stderr",
     "output_type": "stream",
     "text": [
      "Epoch 4/50:  99%|█████████▊| 200/203 [00:08<00:00, 22.70img/s]\n"
     ]
    },
    {
     "name": "stdout",
     "output_type": "stream",
     "text": [
      "---\n",
      "unet Validation Dice Loss: 0.5011804103851318\n",
      "unet Validation Pixel Accuracy: 0.9425150553385416\n",
      "unet Validation MIoU: 0.8202065987591034\n",
      "unet Validation Dice Score: 0.8089799284934998\n"
     ]
    },
    {
     "name": "stderr",
     "output_type": "stream",
     "text": [
      "Epoch 5/50:  99%|█████████▊| 200/203 [00:06<00:00, 44.02img/s]"
     ]
    },
    {
     "name": "stdout",
     "output_type": "stream",
     "text": [
      "***\n",
      "unet Loss: 0.34483641386032104\n"
     ]
    },
    {
     "name": "stderr",
     "output_type": "stream",
     "text": [
      "Epoch 5/50:  99%|█████████▊| 200/203 [00:08<00:00, 23.03img/s]\n"
     ]
    },
    {
     "name": "stdout",
     "output_type": "stream",
     "text": [
      "---\n",
      "unet Validation Dice Loss: 0.4901584982872009\n",
      "unet Validation Pixel Accuracy: 0.9336515727796053\n",
      "unet Validation MIoU: 0.7939285044290315\n",
      "unet Validation Dice Score: 0.8192826509475708\n"
     ]
    },
    {
     "name": "stderr",
     "output_type": "stream",
     "text": [
      "Epoch 6/50:  99%|█████████▊| 200/203 [00:06<00:00, 43.82img/s]"
     ]
    },
    {
     "name": "stdout",
     "output_type": "stream",
     "text": [
      "***\n",
      "unet Loss: 0.405994713306427\n"
     ]
    },
    {
     "name": "stderr",
     "output_type": "stream",
     "text": [
      "Epoch 6/50:  99%|█████████▊| 200/203 [00:08<00:00, 22.43img/s]\n"
     ]
    },
    {
     "name": "stdout",
     "output_type": "stream",
     "text": [
      "---\n",
      "unet Validation Dice Loss: 0.4333947002887726\n",
      "unet Validation Pixel Accuracy: 0.9415823953193531\n",
      "unet Validation MIoU: 0.8206630079738619\n",
      "unet Validation Dice Score: 0.832962691783905\n"
     ]
    },
    {
     "name": "stderr",
     "output_type": "stream",
     "text": [
      "Epoch 7/50:  99%|█████████▊| 200/203 [00:06<00:00, 43.62img/s]"
     ]
    },
    {
     "name": "stdout",
     "output_type": "stream",
     "text": [
      "***\n",
      "unet Loss: 0.2812546491622925\n"
     ]
    },
    {
     "name": "stderr",
     "output_type": "stream",
     "text": [
      "Epoch 7/50:  99%|█████████▊| 200/203 [00:08<00:00, 22.79img/s]\n"
     ]
    },
    {
     "name": "stdout",
     "output_type": "stream",
     "text": [
      "---\n",
      "unet Validation Dice Loss: 0.3418700695037842\n",
      "unet Validation Pixel Accuracy: 0.9584968968441612\n",
      "unet Validation MIoU: 0.8474026567055536\n",
      "unet Validation Dice Score: 0.8380104303359985\n"
     ]
    },
    {
     "name": "stderr",
     "output_type": "stream",
     "text": [
      "Epoch 8/50:  99%|█████████▊| 200/203 [00:06<00:00, 43.81img/s]"
     ]
    },
    {
     "name": "stdout",
     "output_type": "stream",
     "text": [
      "***\n",
      "unet Loss: 0.243235781788826\n"
     ]
    },
    {
     "name": "stderr",
     "output_type": "stream",
     "text": [
      "Epoch 8/50:  99%|█████████▊| 200/203 [00:08<00:00, 23.11img/s]\n"
     ]
    },
    {
     "name": "stdout",
     "output_type": "stream",
     "text": [
      "---\n",
      "unet Validation Dice Loss: 0.34068432450294495\n",
      "unet Validation Pixel Accuracy: 0.9499185127124452\n",
      "unet Validation MIoU: 0.827622721447019\n",
      "unet Validation Dice Score: 0.8440513610839844\n"
     ]
    },
    {
     "name": "stderr",
     "output_type": "stream",
     "text": [
      "Epoch 9/50:  99%|█████████▊| 200/203 [00:06<00:00, 43.66img/s]"
     ]
    },
    {
     "name": "stdout",
     "output_type": "stream",
     "text": [
      "***\n",
      "unet Loss: 0.24051141738891602\n"
     ]
    },
    {
     "name": "stderr",
     "output_type": "stream",
     "text": [
      "Epoch 9/50:  99%|█████████▊| 200/203 [00:08<00:00, 22.80img/s]\n"
     ]
    },
    {
     "name": "stdout",
     "output_type": "stream",
     "text": [
      "---\n",
      "unet Validation Dice Loss: 0.3425324559211731\n",
      "unet Validation Pixel Accuracy: 0.9426893267715186\n",
      "unet Validation MIoU: 0.7928661612459248\n",
      "unet Validation Dice Score: 0.7443262934684753\n"
     ]
    },
    {
     "name": "stderr",
     "output_type": "stream",
     "text": [
      "Epoch 10/50:  99%|█████████▊| 200/203 [00:06<00:00, 43.85img/s]"
     ]
    },
    {
     "name": "stdout",
     "output_type": "stream",
     "text": [
      "***\n",
      "unet Loss: 0.2535514831542969\n"
     ]
    },
    {
     "name": "stderr",
     "output_type": "stream",
     "text": [
      "Epoch 10/50:  99%|█████████▊| 200/203 [00:08<00:00, 23.05img/s]\n"
     ]
    },
    {
     "name": "stdout",
     "output_type": "stream",
     "text": [
      "---\n",
      "unet Validation Dice Loss: 0.3829292058944702\n",
      "unet Validation Pixel Accuracy: 0.9400768614651864\n",
      "unet Validation MIoU: 0.8087523598540469\n",
      "unet Validation Dice Score: 0.871514618396759\n"
     ]
    },
    {
     "name": "stderr",
     "output_type": "stream",
     "text": [
      "Epoch 11/50:  99%|█████████▊| 200/203 [00:06<00:00, 43.57img/s]"
     ]
    },
    {
     "name": "stdout",
     "output_type": "stream",
     "text": [
      "***\n",
      "unet Loss: 0.21885518729686737\n"
     ]
    },
    {
     "name": "stderr",
     "output_type": "stream",
     "text": [
      "Epoch 11/50:  99%|█████████▊| 200/203 [00:08<00:00, 22.91img/s]\n"
     ]
    },
    {
     "name": "stdout",
     "output_type": "stream",
     "text": [
      "---\n",
      "unet Validation Dice Loss: 0.3119244873523712\n",
      "unet Validation Pixel Accuracy: 0.9473638701857182\n",
      "unet Validation MIoU: 0.8263475835376549\n",
      "unet Validation Dice Score: 0.8759263157844543\n"
     ]
    },
    {
     "name": "stderr",
     "output_type": "stream",
     "text": [
      "Epoch 12/50:  99%|█████████▊| 200/203 [00:06<00:00, 43.67img/s]"
     ]
    },
    {
     "name": "stdout",
     "output_type": "stream",
     "text": [
      "***\n",
      "unet Loss: 0.1832728087902069\n"
     ]
    },
    {
     "name": "stderr",
     "output_type": "stream",
     "text": [
      "Epoch 12/50:  99%|█████████▊| 200/203 [00:08<00:00, 23.03img/s]\n"
     ]
    },
    {
     "name": "stdout",
     "output_type": "stream",
     "text": [
      "---\n",
      "unet Validation Dice Loss: 0.26923972368240356\n",
      "unet Validation Pixel Accuracy: 0.9624301843475878\n",
      "unet Validation MIoU: 0.8695919821965591\n",
      "unet Validation Dice Score: 0.8935503363609314\n"
     ]
    },
    {
     "name": "stderr",
     "output_type": "stream",
     "text": [
      "Epoch 13/50:  99%|█████████▊| 200/203 [00:06<00:00, 43.56img/s]"
     ]
    },
    {
     "name": "stdout",
     "output_type": "stream",
     "text": [
      "***\n",
      "unet Loss: 0.22139650583267212\n"
     ]
    },
    {
     "name": "stderr",
     "output_type": "stream",
     "text": [
      "Epoch 13/50:  99%|█████████▊| 200/203 [00:08<00:00, 22.82img/s]\n"
     ]
    },
    {
     "name": "stdout",
     "output_type": "stream",
     "text": [
      "---\n",
      "unet Validation Dice Loss: 0.28367435932159424\n",
      "unet Validation Pixel Accuracy: 0.9524924294990406\n",
      "unet Validation MIoU: 0.8400372134642344\n",
      "unet Validation Dice Score: 0.8792584538459778\n"
     ]
    },
    {
     "name": "stderr",
     "output_type": "stream",
     "text": [
      "Epoch 14/50:  99%|█████████▊| 200/203 [00:06<00:00, 43.70img/s]"
     ]
    },
    {
     "name": "stdout",
     "output_type": "stream",
     "text": [
      "***\n",
      "unet Loss: 0.1597980111837387\n"
     ]
    },
    {
     "name": "stderr",
     "output_type": "stream",
     "text": [
      "Epoch 14/50:  99%|█████████▊| 200/203 [00:08<00:00, 23.12img/s]\n"
     ]
    },
    {
     "name": "stdout",
     "output_type": "stream",
     "text": [
      "---\n",
      "unet Validation Dice Loss: 0.24802808463573456\n",
      "unet Validation Pixel Accuracy: 0.9618605228892544\n",
      "unet Validation MIoU: 0.8667463623206433\n",
      "unet Validation Dice Score: 0.8885135054588318\n"
     ]
    },
    {
     "name": "stderr",
     "output_type": "stream",
     "text": [
      "Epoch 15/50:  99%|█████████▊| 200/203 [00:06<00:00, 43.19img/s]"
     ]
    },
    {
     "name": "stdout",
     "output_type": "stream",
     "text": [
      "***\n",
      "unet Loss: 0.1726350486278534\n"
     ]
    },
    {
     "name": "stderr",
     "output_type": "stream",
     "text": [
      "Epoch 15/50:  99%|█████████▊| 200/203 [00:08<00:00, 22.86img/s]\n"
     ]
    },
    {
     "name": "stdout",
     "output_type": "stream",
     "text": [
      "---\n",
      "unet Validation Dice Loss: 0.29100167751312256\n",
      "unet Validation Pixel Accuracy: 0.9502975731565241\n",
      "unet Validation MIoU: 0.8359794736519677\n",
      "unet Validation Dice Score: 0.8966299295425415\n"
     ]
    },
    {
     "name": "stderr",
     "output_type": "stream",
     "text": [
      "Epoch 16/50:  99%|█████████▊| 200/203 [00:06<00:00, 43.55img/s]"
     ]
    },
    {
     "name": "stdout",
     "output_type": "stream",
     "text": [
      "***\n",
      "unet Loss: 0.13595135509967804\n"
     ]
    },
    {
     "name": "stderr",
     "output_type": "stream",
     "text": [
      "Epoch 16/50:  99%|█████████▊| 200/203 [00:08<00:00, 22.48img/s]\n"
     ]
    },
    {
     "name": "stdout",
     "output_type": "stream",
     "text": [
      "---\n",
      "unet Validation Dice Loss: 0.21324104070663452\n",
      "unet Validation Pixel Accuracy: 0.9664427104749178\n",
      "unet Validation MIoU: 0.8803461604014113\n",
      "unet Validation Dice Score: 0.8901147842407227\n"
     ]
    },
    {
     "name": "stderr",
     "output_type": "stream",
     "text": [
      "Epoch 17/50:  99%|█████████▊| 200/203 [00:06<00:00, 43.69img/s]"
     ]
    },
    {
     "name": "stdout",
     "output_type": "stream",
     "text": [
      "***\n",
      "unet Loss: 0.12754222750663757\n"
     ]
    },
    {
     "name": "stderr",
     "output_type": "stream",
     "text": [
      "Epoch 17/50:  99%|█████████▊| 200/203 [00:08<00:00, 22.43img/s]\n"
     ]
    },
    {
     "name": "stdout",
     "output_type": "stream",
     "text": [
      "---\n",
      "unet Validation Dice Loss: 0.24564196169376373\n",
      "unet Validation Pixel Accuracy: 0.9573682818496436\n",
      "unet Validation MIoU: 0.8570308782184635\n",
      "unet Validation Dice Score: 0.8790267109870911\n"
     ]
    },
    {
     "name": "stderr",
     "output_type": "stream",
     "text": [
      "Epoch 18/50:  99%|█████████▊| 200/203 [00:06<00:00, 43.40img/s]"
     ]
    },
    {
     "name": "stdout",
     "output_type": "stream",
     "text": [
      "***\n",
      "unet Loss: 0.12385978549718857\n"
     ]
    },
    {
     "name": "stderr",
     "output_type": "stream",
     "text": [
      "Epoch 18/50:  99%|█████████▊| 200/203 [00:08<00:00, 22.73img/s]\n"
     ]
    },
    {
     "name": "stdout",
     "output_type": "stream",
     "text": [
      "---\n",
      "unet Validation Dice Loss: 0.20302611589431763\n",
      "unet Validation Pixel Accuracy: 0.9655534175404331\n",
      "unet Validation MIoU: 0.8777405229867541\n",
      "unet Validation Dice Score: 0.8926839828491211\n"
     ]
    },
    {
     "name": "stderr",
     "output_type": "stream",
     "text": [
      "Epoch 19/50:  99%|█████████▊| 200/203 [00:06<00:00, 43.49img/s]"
     ]
    },
    {
     "name": "stdout",
     "output_type": "stream",
     "text": [
      "***\n",
      "unet Loss: 0.131710022687912\n"
     ]
    },
    {
     "name": "stderr",
     "output_type": "stream",
     "text": [
      "Epoch 19/50:  99%|█████████▊| 200/203 [00:08<00:00, 23.18img/s]\n"
     ]
    },
    {
     "name": "stdout",
     "output_type": "stream",
     "text": [
      "---\n",
      "unet Validation Dice Loss: 0.215761199593544\n",
      "unet Validation Pixel Accuracy: 0.9632378293756854\n",
      "unet Validation MIoU: 0.8725210857359995\n",
      "unet Validation Dice Score: 0.9061007499694824\n"
     ]
    },
    {
     "name": "stderr",
     "output_type": "stream",
     "text": [
      "Epoch 20/50:  99%|█████████▊| 200/203 [00:06<00:00, 43.54img/s]"
     ]
    },
    {
     "name": "stdout",
     "output_type": "stream",
     "text": [
      "***\n",
      "unet Loss: 0.11526783555746078\n"
     ]
    },
    {
     "name": "stderr",
     "output_type": "stream",
     "text": [
      "Epoch 20/50:  99%|█████████▊| 200/203 [00:08<00:00, 22.47img/s]\n"
     ]
    },
    {
     "name": "stdout",
     "output_type": "stream",
     "text": [
      "---\n",
      "unet Validation Dice Loss: 0.21216493844985962\n",
      "unet Validation Pixel Accuracy: 0.9648576702987939\n",
      "unet Validation MIoU: 0.8769010496017449\n",
      "unet Validation Dice Score: 0.9091178774833679\n"
     ]
    },
    {
     "name": "stderr",
     "output_type": "stream",
     "text": [
      "Epoch 21/50:  99%|█████████▊| 200/203 [00:06<00:00, 43.50img/s]"
     ]
    },
    {
     "name": "stdout",
     "output_type": "stream",
     "text": [
      "***\n",
      "unet Loss: 0.1132679432630539\n"
     ]
    },
    {
     "name": "stderr",
     "output_type": "stream",
     "text": [
      "Epoch 21/50:  99%|█████████▊| 200/203 [00:08<00:00, 22.80img/s]\n"
     ]
    },
    {
     "name": "stdout",
     "output_type": "stream",
     "text": [
      "---\n",
      "unet Validation Dice Loss: 0.21442624926567078\n",
      "unet Validation Pixel Accuracy: 0.9633093047560307\n",
      "unet Validation MIoU: 0.8734410731212658\n",
      "unet Validation Dice Score: 0.9085780382156372\n"
     ]
    },
    {
     "name": "stderr",
     "output_type": "stream",
     "text": [
      "Epoch 22/50:  99%|█████████▊| 200/203 [00:06<00:00, 42.67img/s]"
     ]
    },
    {
     "name": "stdout",
     "output_type": "stream",
     "text": [
      "***\n",
      "unet Loss: 0.10741016268730164\n"
     ]
    },
    {
     "name": "stderr",
     "output_type": "stream",
     "text": [
      "Epoch 22/50:  99%|█████████▊| 200/203 [00:08<00:00, 22.29img/s]\n"
     ]
    },
    {
     "name": "stdout",
     "output_type": "stream",
     "text": [
      "---\n",
      "unet Validation Dice Loss: 0.20470193028450012\n",
      "unet Validation Pixel Accuracy: 0.9658251310649671\n",
      "unet Validation MIoU: 0.8796053416157867\n",
      "unet Validation Dice Score: 0.9112351536750793\n"
     ]
    },
    {
     "name": "stderr",
     "output_type": "stream",
     "text": [
      "Epoch 23/50:  99%|█████████▊| 200/203 [00:06<00:00, 43.36img/s]"
     ]
    },
    {
     "name": "stdout",
     "output_type": "stream",
     "text": [
      "***\n",
      "unet Loss: 0.12593010067939758\n"
     ]
    },
    {
     "name": "stderr",
     "output_type": "stream",
     "text": [
      "Epoch 23/50:  99%|█████████▊| 200/203 [00:08<00:00, 22.89img/s]\n"
     ]
    },
    {
     "name": "stdout",
     "output_type": "stream",
     "text": [
      "---\n",
      "unet Validation Dice Loss: 0.2039193958044052\n",
      "unet Validation Pixel Accuracy: 0.9667738529673794\n",
      "unet Validation MIoU: 0.8838373863794102\n",
      "unet Validation Dice Score: 0.909390389919281\n"
     ]
    },
    {
     "name": "stderr",
     "output_type": "stream",
     "text": [
      "Epoch 24/50:  99%|█████████▊| 200/203 [00:06<00:00, 43.63img/s]"
     ]
    },
    {
     "name": "stdout",
     "output_type": "stream",
     "text": [
      "***\n",
      "unet Loss: 0.10768398642539978\n"
     ]
    },
    {
     "name": "stderr",
     "output_type": "stream",
     "text": [
      "Epoch 24/50:  99%|█████████▊| 200/203 [00:08<00:00, 22.38img/s]\n"
     ]
    },
    {
     "name": "stdout",
     "output_type": "stream",
     "text": [
      "---\n",
      "unet Validation Dice Loss: 0.20630352199077606\n",
      "unet Validation Pixel Accuracy: 0.9644039220977247\n",
      "unet Validation MIoU: 0.8765272280260858\n",
      "unet Validation Dice Score: 0.9131952524185181\n"
     ]
    },
    {
     "name": "stderr",
     "output_type": "stream",
     "text": [
      "Epoch 25/50:  99%|█████████▊| 200/203 [00:06<00:00, 43.07img/s]"
     ]
    },
    {
     "name": "stdout",
     "output_type": "stream",
     "text": [
      "***\n",
      "unet Loss: 0.10468736290931702\n"
     ]
    },
    {
     "name": "stderr",
     "output_type": "stream",
     "text": [
      "Epoch 25/50:  99%|█████████▊| 200/203 [00:08<00:00, 23.06img/s]\n"
     ]
    },
    {
     "name": "stdout",
     "output_type": "stream",
     "text": [
      "---\n",
      "unet Validation Dice Loss: 0.19687527418136597\n",
      "unet Validation Pixel Accuracy: 0.9654310795298794\n",
      "unet Validation MIoU: 0.8777101492497585\n",
      "unet Validation Dice Score: 0.9143476486206055\n"
     ]
    },
    {
     "name": "stderr",
     "output_type": "stream",
     "text": [
      "Epoch 26/50:  99%|█████████▊| 200/203 [00:06<00:00, 43.27img/s]"
     ]
    },
    {
     "name": "stdout",
     "output_type": "stream",
     "text": [
      "***\n",
      "unet Loss: 0.108692467212677\n"
     ]
    },
    {
     "name": "stderr",
     "output_type": "stream",
     "text": [
      "Epoch 26/50:  99%|█████████▊| 200/203 [00:08<00:00, 22.45img/s]\n"
     ]
    },
    {
     "name": "stdout",
     "output_type": "stream",
     "text": [
      "---\n",
      "unet Validation Dice Loss: 0.19926178455352783\n",
      "unet Validation Pixel Accuracy: 0.9659809313322368\n",
      "unet Validation MIoU: 0.880426129930068\n",
      "unet Validation Dice Score: 0.913189709186554\n"
     ]
    },
    {
     "name": "stderr",
     "output_type": "stream",
     "text": [
      "Epoch 27/50:  99%|█████████▊| 200/203 [00:06<00:00, 43.15img/s]"
     ]
    },
    {
     "name": "stdout",
     "output_type": "stream",
     "text": [
      "***\n",
      "unet Loss: 0.0948205441236496\n"
     ]
    },
    {
     "name": "stderr",
     "output_type": "stream",
     "text": [
      "Epoch 27/50:  99%|█████████▊| 200/203 [00:08<00:00, 22.49img/s]\n"
     ]
    },
    {
     "name": "stdout",
     "output_type": "stream",
     "text": [
      "---\n",
      "unet Validation Dice Loss: 0.19821162521839142\n",
      "unet Validation Pixel Accuracy: 0.9660462496573465\n",
      "unet Validation MIoU: 0.8808704476675073\n",
      "unet Validation Dice Score: 0.9148218035697937\n"
     ]
    },
    {
     "name": "stderr",
     "output_type": "stream",
     "text": [
      "Epoch 28/50:  99%|█████████▊| 200/203 [00:06<00:00, 43.29img/s]"
     ]
    },
    {
     "name": "stdout",
     "output_type": "stream",
     "text": [
      "***\n",
      "unet Loss: 0.09804527461528778\n"
     ]
    },
    {
     "name": "stderr",
     "output_type": "stream",
     "text": [
      "Epoch 28/50:  99%|█████████▊| 200/203 [00:08<00:00, 22.97img/s]\n"
     ]
    },
    {
     "name": "stdout",
     "output_type": "stream",
     "text": [
      "---\n",
      "unet Validation Dice Loss: 0.21892347931861877\n",
      "unet Validation Pixel Accuracy: 0.9622802734375\n",
      "unet Validation MIoU: 0.8720377830398229\n",
      "unet Validation Dice Score: 0.9073853492736816\n"
     ]
    },
    {
     "name": "stderr",
     "output_type": "stream",
     "text": [
      "Epoch 29/50:  99%|█████████▊| 200/203 [00:06<00:00, 43.32img/s]"
     ]
    },
    {
     "name": "stdout",
     "output_type": "stream",
     "text": [
      "***\n",
      "unet Loss: 0.10037972033023834\n"
     ]
    },
    {
     "name": "stderr",
     "output_type": "stream",
     "text": [
      "Epoch 29/50:  99%|█████████▊| 200/203 [00:08<00:00, 22.63img/s]\n"
     ]
    },
    {
     "name": "stdout",
     "output_type": "stream",
     "text": [
      "---\n",
      "unet Validation Dice Loss: 0.20578722655773163\n",
      "unet Validation Pixel Accuracy: 0.9645198353549891\n",
      "unet Validation MIoU: 0.8775064683194438\n",
      "unet Validation Dice Score: 0.9134125709533691\n"
     ]
    },
    {
     "name": "stderr",
     "output_type": "stream",
     "text": [
      "Epoch 30/50:  99%|█████████▊| 200/203 [00:06<00:00, 43.17img/s]"
     ]
    },
    {
     "name": "stdout",
     "output_type": "stream",
     "text": [
      "***\n",
      "unet Loss: 0.10131826251745224\n"
     ]
    },
    {
     "name": "stderr",
     "output_type": "stream",
     "text": [
      "Epoch 30/50:  99%|█████████▊| 200/203 [00:08<00:00, 22.87img/s]\n"
     ]
    },
    {
     "name": "stdout",
     "output_type": "stream",
     "text": [
      "---\n",
      "unet Validation Dice Loss: 0.20618663728237152\n",
      "unet Validation Pixel Accuracy: 0.9638928865131579\n",
      "unet Validation MIoU: 0.8750441527786113\n",
      "unet Validation Dice Score: 0.9124084711074829\n"
     ]
    },
    {
     "name": "stderr",
     "output_type": "stream",
     "text": [
      "Epoch 31/50:  99%|█████████▊| 200/203 [00:06<00:00, 43.40img/s]"
     ]
    },
    {
     "name": "stdout",
     "output_type": "stream",
     "text": [
      "***\n",
      "unet Loss: 0.09143726527690887\n"
     ]
    },
    {
     "name": "stderr",
     "output_type": "stream",
     "text": [
      "Epoch 31/50:  99%|█████████▊| 200/203 [00:08<00:00, 22.54img/s]\n"
     ]
    },
    {
     "name": "stdout",
     "output_type": "stream",
     "text": [
      "---\n",
      "unet Validation Dice Loss: 0.20300722122192383\n",
      "unet Validation Pixel Accuracy: 0.964297378272341\n",
      "unet Validation MIoU: 0.8756130158760649\n",
      "unet Validation Dice Score: 0.9149999618530273\n"
     ]
    },
    {
     "name": "stderr",
     "output_type": "stream",
     "text": [
      "Epoch 32/50:  99%|█████████▊| 200/203 [00:06<00:00, 43.03img/s]"
     ]
    },
    {
     "name": "stdout",
     "output_type": "stream",
     "text": [
      "***\n",
      "unet Loss: 0.09639562666416168\n"
     ]
    },
    {
     "name": "stderr",
     "output_type": "stream",
     "text": [
      "Epoch 32/50:  99%|█████████▊| 200/203 [00:08<00:00, 22.46img/s]\n"
     ]
    },
    {
     "name": "stdout",
     "output_type": "stream",
     "text": [
      "---\n",
      "unet Validation Dice Loss: 0.2109140008687973\n",
      "unet Validation Pixel Accuracy: 0.9628662644771108\n",
      "unet Validation MIoU: 0.8724432932531166\n",
      "unet Validation Dice Score: 0.9134184718132019\n"
     ]
    },
    {
     "name": "stderr",
     "output_type": "stream",
     "text": [
      "Epoch 33/50:  99%|█████████▊| 200/203 [00:06<00:00, 43.50img/s]"
     ]
    },
    {
     "name": "stdout",
     "output_type": "stream",
     "text": [
      "***\n",
      "unet Loss: 0.0903017446398735\n"
     ]
    },
    {
     "name": "stderr",
     "output_type": "stream",
     "text": [
      "Epoch 33/50:  99%|█████████▊| 200/203 [00:08<00:00, 22.73img/s]\n"
     ]
    },
    {
     "name": "stdout",
     "output_type": "stream",
     "text": [
      "---\n",
      "unet Validation Dice Loss: 0.19928348064422607\n",
      "unet Validation Pixel Accuracy: 0.964878283048931\n",
      "unet Validation MIoU: 0.8774557298638338\n",
      "unet Validation Dice Score: 0.914986252784729\n"
     ]
    },
    {
     "name": "stderr",
     "output_type": "stream",
     "text": [
      "Epoch 34/50:  99%|█████████▊| 200/203 [00:06<00:00, 42.41img/s]"
     ]
    },
    {
     "name": "stdout",
     "output_type": "stream",
     "text": [
      "***\n",
      "unet Loss: 0.10110338777303696\n"
     ]
    },
    {
     "name": "stderr",
     "output_type": "stream",
     "text": [
      "Epoch 34/50:  99%|█████████▊| 200/203 [00:08<00:00, 22.74img/s]\n"
     ]
    },
    {
     "name": "stdout",
     "output_type": "stream",
     "text": [
      "---\n",
      "unet Validation Dice Loss: 0.20066609978675842\n",
      "unet Validation Pixel Accuracy: 0.9648648981462445\n",
      "unet Validation MIoU: 0.8777003224828718\n",
      "unet Validation Dice Score: 0.9148154258728027\n"
     ]
    },
    {
     "name": "stderr",
     "output_type": "stream",
     "text": [
      "Epoch 35/50:  99%|█████████▊| 200/203 [00:06<00:00, 43.17img/s]"
     ]
    },
    {
     "name": "stdout",
     "output_type": "stream",
     "text": [
      "***\n",
      "unet Loss: 0.10274054110050201\n"
     ]
    },
    {
     "name": "stderr",
     "output_type": "stream",
     "text": [
      "Epoch 35/50:  99%|█████████▊| 200/203 [00:08<00:00, 22.99img/s]\n"
     ]
    },
    {
     "name": "stdout",
     "output_type": "stream",
     "text": [
      "---\n",
      "unet Validation Dice Loss: 0.2048272341489792\n",
      "unet Validation Pixel Accuracy: 0.9641964561060855\n",
      "unet Validation MIoU: 0.8761539232786524\n",
      "unet Validation Dice Score: 0.9136460423469543\n"
     ]
    },
    {
     "name": "stderr",
     "output_type": "stream",
     "text": [
      "Epoch 36/50:  99%|█████████▊| 200/203 [00:06<00:00, 42.92img/s]"
     ]
    },
    {
     "name": "stdout",
     "output_type": "stream",
     "text": [
      "***\n",
      "unet Loss: 0.09259629994630814\n"
     ]
    },
    {
     "name": "stderr",
     "output_type": "stream",
     "text": [
      "Epoch 36/50:  99%|█████████▊| 200/203 [00:08<00:00, 22.92img/s]\n"
     ]
    },
    {
     "name": "stdout",
     "output_type": "stream",
     "text": [
      "---\n",
      "unet Validation Dice Loss: 0.20200414955615997\n",
      "unet Validation Pixel Accuracy: 0.9643787584806743\n",
      "unet Validation MIoU: 0.8761744305991803\n",
      "unet Validation Dice Score: 0.9156402945518494\n"
     ]
    },
    {
     "name": "stderr",
     "output_type": "stream",
     "text": [
      "Epoch 37/50:  99%|█████████▊| 200/203 [00:06<00:00, 43.11img/s]"
     ]
    },
    {
     "name": "stdout",
     "output_type": "stream",
     "text": [
      "***\n",
      "unet Loss: 0.09460438787937164\n"
     ]
    },
    {
     "name": "stderr",
     "output_type": "stream",
     "text": [
      "Epoch 37/50:  99%|█████████▊| 200/203 [00:08<00:00, 22.90img/s]\n"
     ]
    },
    {
     "name": "stdout",
     "output_type": "stream",
     "text": [
      "---\n",
      "unet Validation Dice Loss: 0.20219756662845612\n",
      "unet Validation Pixel Accuracy: 0.964871322899534\n",
      "unet Validation MIoU: 0.8780975289237174\n",
      "unet Validation Dice Score: 0.9134990572929382\n"
     ]
    },
    {
     "name": "stderr",
     "output_type": "stream",
     "text": [
      "Epoch 38/50:  99%|█████████▊| 200/203 [00:06<00:00, 42.34img/s]"
     ]
    },
    {
     "name": "stdout",
     "output_type": "stream",
     "text": [
      "***\n",
      "unet Loss: 0.09069599956274033\n"
     ]
    },
    {
     "name": "stderr",
     "output_type": "stream",
     "text": [
      "Epoch 38/50:  99%|█████████▊| 200/203 [00:08<00:00, 22.74img/s]\n"
     ]
    },
    {
     "name": "stdout",
     "output_type": "stream",
     "text": [
      "---\n",
      "unet Validation Dice Loss: 0.2054220288991928\n",
      "unet Validation Pixel Accuracy: 0.9639418752569902\n",
      "unet Validation MIoU: 0.8754231351757827\n",
      "unet Validation Dice Score: 0.9143808484077454\n"
     ]
    },
    {
     "name": "stderr",
     "output_type": "stream",
     "text": [
      "Epoch 39/50:  99%|█████████▊| 200/203 [00:06<00:00, 43.11img/s]"
     ]
    },
    {
     "name": "stdout",
     "output_type": "stream",
     "text": [
      "***\n",
      "unet Loss: 0.09456990659236908\n"
     ]
    },
    {
     "name": "stderr",
     "output_type": "stream",
     "text": [
      "Epoch 39/50:  99%|█████████▊| 200/203 [00:08<00:00, 22.81img/s]\n"
     ]
    },
    {
     "name": "stdout",
     "output_type": "stream",
     "text": [
      "---\n",
      "unet Validation Dice Loss: 0.204354390501976\n",
      "unet Validation Pixel Accuracy: 0.9643118339672423\n",
      "unet Validation MIoU: 0.8763622093838114\n",
      "unet Validation Dice Score: 0.9144427180290222\n"
     ]
    },
    {
     "name": "stderr",
     "output_type": "stream",
     "text": [
      "Epoch 40/50:  99%|█████████▊| 200/203 [00:06<00:00, 43.33img/s]"
     ]
    },
    {
     "name": "stdout",
     "output_type": "stream",
     "text": [
      "***\n",
      "unet Loss: 0.08717308938503265\n"
     ]
    },
    {
     "name": "stderr",
     "output_type": "stream",
     "text": [
      "Epoch 40/50:  99%|█████████▊| 200/203 [00:08<00:00, 22.65img/s]\n"
     ]
    },
    {
     "name": "stdout",
     "output_type": "stream",
     "text": [
      "---\n",
      "unet Validation Dice Loss: 0.20237994194030762\n",
      "unet Validation Pixel Accuracy: 0.9645018995853892\n",
      "unet Validation MIoU: 0.8766281770482468\n",
      "unet Validation Dice Score: 0.915667712688446\n"
     ]
    },
    {
     "name": "stderr",
     "output_type": "stream",
     "text": [
      "Epoch 41/50:  99%|█████████▊| 200/203 [00:06<00:00, 43.12img/s]"
     ]
    },
    {
     "name": "stdout",
     "output_type": "stream",
     "text": [
      "***\n",
      "unet Loss: 0.11257937550544739\n"
     ]
    },
    {
     "name": "stderr",
     "output_type": "stream",
     "text": [
      "Epoch 41/50:  99%|█████████▊| 200/203 [00:08<00:00, 23.12img/s]\n"
     ]
    },
    {
     "name": "stdout",
     "output_type": "stream",
     "text": [
      "---\n",
      "unet Validation Dice Loss: 0.20442435145378113\n",
      "unet Validation Pixel Accuracy: 0.9642864026521382\n",
      "unet Validation MIoU: 0.8764135967414755\n",
      "unet Validation Dice Score: 0.9140674471855164\n"
     ]
    },
    {
     "name": "stderr",
     "output_type": "stream",
     "text": [
      "Epoch 42/50:  99%|█████████▊| 200/203 [00:06<00:00, 43.21img/s]"
     ]
    },
    {
     "name": "stdout",
     "output_type": "stream",
     "text": [
      "***\n",
      "unet Loss: 0.09090285003185272\n"
     ]
    },
    {
     "name": "stderr",
     "output_type": "stream",
     "text": [
      "Epoch 42/50:  99%|█████████▊| 200/203 [00:08<00:00, 22.81img/s]\n"
     ]
    },
    {
     "name": "stdout",
     "output_type": "stream",
     "text": [
      "---\n",
      "unet Validation Dice Loss: 0.2017008662223816\n",
      "unet Validation Pixel Accuracy: 0.9645061827542489\n",
      "unet Validation MIoU: 0.8765737574919358\n",
      "unet Validation Dice Score: 0.9155956506729126\n"
     ]
    },
    {
     "name": "stderr",
     "output_type": "stream",
     "text": [
      "Epoch 43/50:  99%|█████████▊| 200/203 [00:06<00:00, 42.62img/s]"
     ]
    },
    {
     "name": "stdout",
     "output_type": "stream",
     "text": [
      "***\n",
      "unet Loss: 0.10305024683475494\n"
     ]
    },
    {
     "name": "stderr",
     "output_type": "stream",
     "text": [
      "Epoch 43/50:  99%|█████████▊| 200/203 [00:08<00:00, 22.93img/s]\n"
     ]
    },
    {
     "name": "stdout",
     "output_type": "stream",
     "text": [
      "---\n",
      "unet Validation Dice Loss: 0.20520518720149994\n",
      "unet Validation Pixel Accuracy: 0.9641710247909814\n",
      "unet Validation MIoU: 0.8760485629782733\n",
      "unet Validation Dice Score: 0.9142662286758423\n"
     ]
    },
    {
     "name": "stderr",
     "output_type": "stream",
     "text": [
      "Epoch 44/50:  99%|█████████▊| 200/203 [00:06<00:00, 43.21img/s]"
     ]
    },
    {
     "name": "stdout",
     "output_type": "stream",
     "text": [
      "***\n",
      "unet Loss: 0.09677723050117493\n"
     ]
    },
    {
     "name": "stderr",
     "output_type": "stream",
     "text": [
      "Epoch 44/50:  99%|█████████▊| 200/203 [00:08<00:00, 22.70img/s]\n"
     ]
    },
    {
     "name": "stdout",
     "output_type": "stream",
     "text": [
      "---\n",
      "unet Validation Dice Loss: 0.2022887021303177\n",
      "unet Validation Pixel Accuracy: 0.9646049633360746\n",
      "unet Validation MIoU: 0.8770488672097767\n",
      "unet Validation Dice Score: 0.9141522645950317\n"
     ]
    },
    {
     "name": "stderr",
     "output_type": "stream",
     "text": [
      "Epoch 45/50:  99%|█████████▊| 200/203 [00:06<00:00, 43.08img/s]"
     ]
    },
    {
     "name": "stdout",
     "output_type": "stream",
     "text": [
      "***\n",
      "unet Loss: 0.08798685669898987\n"
     ]
    },
    {
     "name": "stderr",
     "output_type": "stream",
     "text": [
      "Epoch 45/50:  99%|█████████▊| 200/203 [00:08<00:00, 23.07img/s]\n"
     ]
    },
    {
     "name": "stdout",
     "output_type": "stream",
     "text": [
      "---\n",
      "unet Validation Dice Loss: 0.20483964681625366\n",
      "unet Validation Pixel Accuracy: 0.9639774790981359\n",
      "unet Validation MIoU: 0.8752436813031075\n",
      "unet Validation Dice Score: 0.9148238301277161\n"
     ]
    },
    {
     "name": "stderr",
     "output_type": "stream",
     "text": [
      "Epoch 46/50:  99%|█████████▊| 200/203 [00:06<00:00, 43.13img/s]"
     ]
    },
    {
     "name": "stdout",
     "output_type": "stream",
     "text": [
      "***\n",
      "unet Loss: 0.09784090518951416\n"
     ]
    },
    {
     "name": "stderr",
     "output_type": "stream",
     "text": [
      "Epoch 46/50:  99%|█████████▊| 200/203 [00:08<00:00, 22.57img/s]\n"
     ]
    },
    {
     "name": "stdout",
     "output_type": "stream",
     "text": [
      "---\n",
      "unet Validation Dice Loss: 0.20472224056720734\n",
      "unet Validation Pixel Accuracy: 0.9642331307394463\n",
      "unet Validation MIoU: 0.876319479191054\n",
      "unet Validation Dice Score: 0.913958728313446\n"
     ]
    },
    {
     "name": "stderr",
     "output_type": "stream",
     "text": [
      "Epoch 47/50:  99%|█████████▊| 200/203 [00:06<00:00, 42.95img/s]"
     ]
    },
    {
     "name": "stdout",
     "output_type": "stream",
     "text": [
      "***\n",
      "unet Loss: 0.10482718795537949\n"
     ]
    },
    {
     "name": "stderr",
     "output_type": "stream",
     "text": [
      "Epoch 47/50:  99%|█████████▊| 200/203 [00:08<00:00, 23.11img/s]\n"
     ]
    },
    {
     "name": "stdout",
     "output_type": "stream",
     "text": [
      "---\n",
      "unet Validation Dice Loss: 0.20523016154766083\n",
      "unet Validation Pixel Accuracy: 0.963980423776727\n",
      "unet Validation MIoU: 0.8754002332052035\n",
      "unet Validation Dice Score: 0.9146100878715515\n"
     ]
    },
    {
     "name": "stderr",
     "output_type": "stream",
     "text": [
      "Epoch 48/50:  99%|█████████▊| 200/203 [00:06<00:00, 43.47img/s]"
     ]
    },
    {
     "name": "stdout",
     "output_type": "stream",
     "text": [
      "***\n",
      "unet Loss: 0.09884259849786758\n"
     ]
    },
    {
     "name": "stderr",
     "output_type": "stream",
     "text": [
      "Epoch 48/50:  99%|█████████▊| 200/203 [00:08<00:00, 22.58img/s]\n"
     ]
    },
    {
     "name": "stdout",
     "output_type": "stream",
     "text": [
      "---\n",
      "unet Validation Dice Loss: 0.20363956689834595\n",
      "unet Validation Pixel Accuracy: 0.9641846773917215\n",
      "unet Validation MIoU: 0.8758059407866243\n",
      "unet Validation Dice Score: 0.9150625467300415\n"
     ]
    },
    {
     "name": "stderr",
     "output_type": "stream",
     "text": [
      "Epoch 49/50:  99%|█████████▊| 200/203 [00:06<00:00, 43.49img/s]"
     ]
    },
    {
     "name": "stdout",
     "output_type": "stream",
     "text": [
      "***\n",
      "unet Loss: 0.09271971881389618\n"
     ]
    },
    {
     "name": "stderr",
     "output_type": "stream",
     "text": [
      "Epoch 49/50:  99%|█████████▊| 200/203 [00:08<00:00, 23.01img/s]\n"
     ]
    },
    {
     "name": "stdout",
     "output_type": "stream",
     "text": [
      "---\n",
      "unet Validation Dice Loss: 0.20511853694915771\n",
      "unet Validation Pixel Accuracy: 0.9639667711759868\n",
      "unet Validation MIoU: 0.8752871458640543\n",
      "unet Validation Dice Score: 0.9149593710899353\n"
     ]
    },
    {
     "name": "stderr",
     "output_type": "stream",
     "text": [
      "Epoch 50/50:  99%|█████████▊| 200/203 [00:06<00:00, 43.29img/s]"
     ]
    },
    {
     "name": "stdout",
     "output_type": "stream",
     "text": [
      "***\n",
      "unet Loss: 0.09712544828653336\n"
     ]
    },
    {
     "name": "stderr",
     "output_type": "stream",
     "text": [
      "Epoch 50/50:  99%|█████████▊| 200/203 [00:08<00:00, 22.93img/s]"
     ]
    },
    {
     "name": "stdout",
     "output_type": "stream",
     "text": [
      "---\n",
      "unet Validation Dice Loss: 0.2032289206981659\n",
      "unet Validation Pixel Accuracy: 0.9642593651487116\n",
      "unet Validation MIoU: 0.8759445832063923\n",
      "unet Validation Dice Score: 0.9149174094200134\n"
     ]
    },
    {
     "name": "stderr",
     "output_type": "stream",
     "text": [
      "\n"
     ]
    }
   ],
   "source": [
    "valScore_list1 = []\n",
    "TrainLoss_list1 = []\n",
    "\n",
    "valScore_list2 = []\n",
    "TrainLoss_list2 = []\n",
    "\n",
    "valScore_list3 = []\n",
    "TrainLoss_list3 = []\n",
    "\n",
    "valScore_list4 = []\n",
    "TrainLoss_list4 = []\n",
    "\n",
    "val_losses = []\n",
    "val_accs = []\n",
    "val_mious = []\n",
    "\n",
    "# 5. Begin training\n",
    "for epoch in range(1, epochs + 1):\n",
    "    model.train()\n",
    "    epoch_loss = 0\n",
    "    epoch_unet_loss = 0\n",
    "    epoch_segnet_loss = 0\n",
    "    epoch_enet_loss = 0\n",
    "    epoch_voting_loss = 0\n",
    "    \n",
    "    with tqdm(total=n_train, desc=f'Epoch {epoch}/{epochs}', unit='img') as pbar:\n",
    "        for batch in train_loader:\n",
    "            images, true_masks = batch['image'], batch['mask']\n",
    "\n",
    "            images = images.to(device=device, dtype=torch.float32, memory_format=torch.channels_last)\n",
    "            true_masks = true_masks.to(device=device, dtype=torch.long)\n",
    "\n",
    "                \n",
    "            result = forward_and_backward(model, images, true_masks, amp, optimizer, grad_scaler, Model_Name)\n",
    "            \n",
    "            if len(result) == 4:\n",
    "                model, unet_loss, segnet_loss, enet_loss = result\n",
    "                \n",
    "                pbar.update(images.shape[0])\n",
    "                global_step += 1\n",
    "                epoch_unet_loss += unet_loss.item()\n",
    "                epoch_segnet_loss += segnet_loss.item()\n",
    "                epoch_enet_loss += enet_loss.item()\n",
    "                vot_loss = ((unet_loss.item() + segnet_loss.item() + enet_loss.item()) /3)\n",
    "                epoch_voting_loss += vot_loss\n",
    "                \n",
    "                \n",
    "            elif len(result) == 2:\n",
    "                model, loss = result\n",
    "                \n",
    "                pbar.update(images.shape[0])\n",
    "                global_step += 1\n",
    "                epoch_loss += loss.item()\n",
    "\n",
    "\n",
    "        print('***')\n",
    "        if len(result) == 4:\n",
    "            print('Unet Loss: {}     Segnet Loss: {}     Enet Loss: {}'.format(unet_loss, segnet_loss, enet_loss))\n",
    "            print('Voting Loss: {}'.format(vot_loss))\n",
    "            \n",
    "            \n",
    "        elif len(result) == 2:\n",
    "            print('{} Loss: {}'.format(Model_Name, loss))\n",
    "\n",
    "        # Evaluation round\n",
    "        division_step = (n_train // (5 * batch_size))\n",
    "        if division_step > 0:\n",
    "            #if global_step % division_step == 0:\n",
    "            if len(result) == 4:\n",
    "                unet_val_score, segnet_val_score, enet_val_score, voting_val_score, val_loss, val_acc, val_miou = evaluate(model, val_loader, criterion, device, Model_Name, amp)\n",
    "                \n",
    "                unet_scheduler.step(unet_val_score)\n",
    "                segnet_scheduler.step(segnet_val_score)\n",
    "                enet_scheduler.step(enet_val_score)\n",
    "                voting_scheduler.step(voting_val_score)\n",
    "                \n",
    "                valScore_list1.append(unet_val_score)\n",
    "                TrainLoss_list1.append(unet_loss)\n",
    "                valScore_list2.append(segnet_val_score)\n",
    "                TrainLoss_list2.append(segnet_loss)                \n",
    "                valScore_list3.append(enet_val_score)\n",
    "                TrainLoss_list3.append(enet_loss)\n",
    "                valScore_list4.append(voting_val_score)\n",
    "                TrainLoss_list4.append(vot_loss)\n",
    "                \n",
    "                val_losses.append(val_loss)\n",
    "                val_accs.append(val_acc)\n",
    "                val_mious.append(val_miou)\n",
    "                \n",
    "                print('---')\n",
    "                print('Unet Validation Dice Score: {}     Segnet Validation Dice Score: {}     Enet Validation Dice Score: {}'.format(unet_val_score, segnet_val_score, enet_val_score))\n",
    "                \n",
    "                print('Ensemble Voting Validation Dice Loss: {}'.format(val_loss))\n",
    "                print('Ensemble Voting Validation Pixel Accuracy: {} '.format(val_acc))\n",
    "                print('Ensemble Voting Validation MIoU: {}'.format(val_miou))                \n",
    "                print('Ensemble Voting Validation Dice Score: {} '.format(voting_val_score))\n",
    "                \n",
    "            else:\n",
    "                val_score, val_loss, val_acc, val_miou = evaluate(model, val_loader, criterion, device, Model_Name, amp)\n",
    "                \n",
    "                \n",
    "                \n",
    "                scheduler.step(val_score)\n",
    "                \n",
    "                print('---')\n",
    "                print('{} Validation Dice Loss: {}'.format(Model_Name, val_loss))   \n",
    "                print('{} Validation Pixel Accuracy: {}'.format(Model_Name, val_acc))\n",
    "                print('{} Validation MIoU: {}'.format(Model_Name, val_miou))\n",
    "                print('{} Validation Dice Score: {}'.format(Model_Name, val_score))\n",
    "                \n",
    "            \n",
    "                valScore_list1.append(val_score.cpu().detach().numpy())\n",
    "                TrainLoss_list1.append(loss.cpu().detach().numpy())\n",
    "                val_losses.append(val_loss)\n",
    "                val_accs.append(val_acc)\n",
    "                val_mious.append(val_miou)\n",
    "\n",
    "                #valScore_list.append(val_score)\n",
    "                #TrainLoss_list.append(loss)\n",
    "                #print('Validation Dice score: {}'.format(val_score))\n",
    "                                \n",
    "        \n",
    "    if save_checkpoint:\n",
    "        Path(dir_checkpoint).mkdir(parents=True, exist_ok=True)\n",
    "        torch.save(model.state_dict(), str(dir_checkpoint / 'checkpoint_epoch{}.pth'.format(epoch + 1)))"
   ]
  },
  {
   "cell_type": "code",
   "execution_count": 10,
   "id": "232d4d6e-12ed-4b30-9b2e-7421289573ad",
   "metadata": {},
   "outputs": [],
   "source": [
    "import pandas as pd\n",
    "import matplotlib.pyplot as plt"
   ]
  },
  {
   "cell_type": "code",
   "execution_count": 11,
   "id": "5e7c3590-63c0-4ee6-bf67-25b012d008d7",
   "metadata": {},
   "outputs": [],
   "source": [
    "df = pd.DataFrame([TrainLoss_list1, val_losses, valScore_list1, val_accs, val_mious]).T\n",
    "df.columns = ['train_loss', 'val_loss', 'val_score', 'val_acc', 'val_miou']"
   ]
  },
  {
   "cell_type": "code",
   "execution_count": 12,
   "id": "c10688e3-08c4-45d2-8bff-56cba0d89f54",
   "metadata": {},
   "outputs": [
    {
     "data": {
      "text/plain": [
       "[<matplotlib.lines.Line2D at 0x7f2402175910>]"
      ]
     },
     "execution_count": 12,
     "metadata": {},
     "output_type": "execute_result"
    },
    {
     "data": {
      "image/png": "[encoded data removed]",
      "text/plain": [
       "<Figure size 1000x500 with 1 Axes>"
      ]
     },
     "metadata": {},
     "output_type": "display_data"
    }
   ],
   "source": [
    "plt.figure(figsize= (10,5))\n",
    "plt.plot(TrainLoss_list1)\n",
    "plt.plot(val_losses)\n",
    "#plt.show()"
   ]
  },
  {
   "cell_type": "code",
   "execution_count": 13,
   "id": "cacd16c4-f3b0-4ee6-ba39-3350dfcdc106",
   "metadata": {},
   "outputs": [
    {
     "data": {
      "text/plain": [
       "[<matplotlib.lines.Line2D at 0x7f2401dc67d0>]"
      ]
     },
     "execution_count": 13,
     "metadata": {},
     "output_type": "execute_result"
    },
    {
     "data": {
      "image/png": "[encoded data removed]",
      "text/plain": [
       "<Figure size 1000x500 with 1 Axes>"
      ]
     },
     "metadata": {},
     "output_type": "display_data"
    }
   ],
   "source": [
    "plt.figure(figsize= (10,5))\n",
    "plt.plot(valScore_list1)\n",
    "plt.plot(val_accs)\n",
    "plt.plot(val_mious)\n",
    "#plt.show()"
   ]
  },
  {
   "cell_type": "code",
   "execution_count": null,
   "id": "0af788b9-1d94-4072-af4f-5c83165b18fc",
   "metadata": {},
   "outputs": [],
   "source": []
  }
 ],
 "metadata": {
  "kernelspec": {
   "display_name": "ksh",
   "language": "python",
   "name": "ksh"
  },
  "language_info": {
   "codemirror_mode": {
    "name": "ipython",
    "version": 3
   },
   "file_extension": ".py",
   "mimetype": "text/x-python",
   "name": "python",
   "nbconvert_exporter": "python",
   "pygments_lexer": "ipython3",
   "version": "3.7.16"
  }
 },
 "nbformat": 4,
 "nbformat_minor": 5
}
