{
 "cells": [
  {
   "cell_type": "code",
   "execution_count": 1,
   "id": "5f271b9d-c9a3-41c5-a2e5-cd21dc79d5b6",
   "metadata": {
    "tags": []
   },
   "outputs": [],
   "source": [
    "import numpy as np\n",
    "from pathlib import Path\n",
    "from PIL import Image\n",
    "from torch.utils.data import DataLoader, random_split\n",
    "import torch\n",
    "from torch import optim\n",
    "import torch.nn as nn\n",
    "from tqdm import tqdm\n",
    "import torch.nn.functional as F\n",
    "import logging\n",
    "from evaluate import evaluate\n",
    "\n",
    "import os\n",
    "import albumentations as A\n",
    "from albumentations.pytorch import ToTensorV2\n",
    "from collections import OrderedDict\n",
    "\n",
    "from model.ensemblenet_model import EnsembleNet\n",
    "\n",
    "\n",
    "from utils.dice_score import dice_loss\n",
    "from utils.data_load import KittiDataset\n",
    "from torchsummaryX import summary"
   ]
  },
  {
   "cell_type": "code",
   "execution_count": 2,
   "id": "64ae7ca9",
   "metadata": {
    "tags": []
   },
   "outputs": [],
   "source": [
    "Val_Percent = 0.3\n",
    "Scale_Percent = 1.0\n",
    "Batch_Size = 8\n",
    "learning_rate = 0.0001\n",
    "Pin_Memory = False\n",
    "epochs = 50\n",
    "\n",
    "\n",
    "Image_Size = [384, 1216]\n",
    "Gradient_Clipping = 0.8\n",
    "\n",
    "\n",
    "Num_Class = 2\n",
    "Num_Channel = 3\n",
    "amp = True\n",
    "\n",
    "Model_Name = 'unet'\n",
    "\n",
    "\n",
    "Img_Path =  'data/data_road/training/image_2'\n",
    "Mask_Path =  'data/data_road/training/semantic'\n",
    "\n",
    "save_checkpoint = True\n",
    "checkpoint_dir = '../trained' + '_' + Model_Name\n",
    "batch_size = Batch_Size"
   ]
  },
  {
   "cell_type": "code",
   "execution_count": 3,
   "id": "567f8440",
   "metadata": {
    "tags": []
   },
   "outputs": [],
   "source": [
    "dirImg = Path(Img_Path)\n",
    "dirMask = Path(Mask_Path)\n",
    "dir_checkpoint = Path(checkpoint_dir)"
   ]
  },
  {
   "cell_type": "code",
   "execution_count": 4,
   "id": "8e8e3825-8747-4f49-b3ee-eac27522ded2",
   "metadata": {},
   "outputs": [],
   "source": [
    "device = torch.device('cuda' if torch.cuda.is_available() else 'cpu')"
   ]
  },
  {
   "cell_type": "code",
   "execution_count": 5,
   "id": "9a4a35b2-bc69-49e4-b17c-e850f278473d",
   "metadata": {},
   "outputs": [
    {
     "name": "stderr",
     "output_type": "stream",
     "text": [
      "100%|██████████| 289/289 [00:00<00:00, 776.26it/s]\n"
     ]
    }
   ],
   "source": [
    "datasets =  KittiDataset(dirImg, dirMask, Image_Size, Scale_Percent)\n",
    "n_val = int(len(datasets) * Val_Percent)\n",
    "n_train = len(datasets) - n_val\n",
    "train_set, val_set = random_split(datasets, [n_train, n_val], generator=torch.Generator().manual_seed(0))\n",
    "\n",
    "loader_args = dict(batch_size=Batch_Size, num_workers= os.cpu_count(), pin_memory=Pin_Memory)\n",
    "train_loader = DataLoader(train_set, shuffle=True, drop_last = True, **loader_args)\n",
    "val_loader = DataLoader(val_set, shuffle=False, drop_last=True, **loader_args)"
   ]
  },
  {
   "cell_type": "code",
   "execution_count": 6,
   "id": "95b36f40-c709-4e1e-b4f6-66a1954edfd8",
   "metadata": {},
   "outputs": [],
   "source": [
    "model = EnsembleNet(Model_Name, Num_Channel, Num_Class)\n",
    "model = model.to(memory_format=torch.channels_last, device = device)"
   ]
  },
  {
   "cell_type": "code",
   "execution_count": 7,
   "id": "4a29bc96",
   "metadata": {
    "tags": []
   },
   "outputs": [],
   "source": [
    "# 4. Set up the optimizer, the loss, the learning rate scheduler and the loss scaling for AMP\n",
    "#optimizer = optim.RMSprop(model.parameters(), lr=learning_rate, weight_decay=1e-8, momentum=0.9)\n",
    "#optimizer = optim.SGD(model.parameters(), lr=learning_rate, weight_decay=1e-8, momentum=0.9)\n",
    "\n",
    "if 'ensemble_voting' in Model_Name:\n",
    "    unet_optimizer = optim.Adam(model.parameters(), lr=learning_rate, weight_decay=1e-8)\n",
    "    segnet_optimizer = optim.Adam(model.parameters(), lr=learning_rate, weight_decay=1e-8)\n",
    "    enet_optimizer = optim.Adam(model.parameters(), lr=learning_rate, weight_decay=1e-8)\n",
    "    optims = [unet_optimizer, segnet_optimizer, enet_optimizer]\n",
    "    \n",
    "    unet_scheduler = optim.lr_scheduler.ReduceLROnPlateau(unet_optimizer, 'max', patience=2)  # goal: maximize Dice score\n",
    "    segnet_scheduler = optim.lr_scheduler.ReduceLROnPlateau(segnet_optimizer, 'max', patience=2)  # goal: maximize Dice score\n",
    "    enet_scheduler = optim.lr_scheduler.ReduceLROnPlateau(enet_optimizer, 'max', patience=2)  # goal: maximize Dice score\n",
    "        \n",
    "else:\n",
    "    optimizer = optim.Adam(model.parameters(), lr=learning_rate, weight_decay=1e-8)\n",
    "    optims = [optimizer]\n",
    "    \n",
    "    scheduler = optim.lr_scheduler.ReduceLROnPlateau(optimizer, 'max', patience=2)  # goal: maximize Dice score\n",
    "    \n",
    "    \n",
    "    \n",
    "grad_scaler = torch.cuda.amp.GradScaler(enabled=amp)\n",
    "criterion = nn.CrossEntropyLoss()\n",
    "global_step = 0"
   ]
  },
  {
   "cell_type": "code",
   "execution_count": 8,
   "id": "46e43754-2870-4837-b38a-3f57d6733ddc",
   "metadata": {},
   "outputs": [],
   "source": [
    "def calculate_loss(pred, true_masks, nclass, multiclass):\n",
    "    loss = criterion(pred, true_masks)\n",
    "    loss += dice_loss(\n",
    "        F.softmax(pred, dim=1).float(),\n",
    "        F.one_hot(true_masks, nclass).permute(0, 3, 1, 2).float(),\n",
    "        multiclass=multiclass\n",
    "    )\n",
    "    return loss\n",
    "\n",
    "def grad_forback(models, losses, optim):\n",
    "    optim.zero_grad(set_to_none=True)\n",
    "    grad_scaler.scale(losses).backward()\n",
    "    torch.nn.utils.clip_grad_norm_(models.parameters(), Gradient_Clipping)\n",
    "    grad_scaler.step(optim)\n",
    "    grad_scaler.update()    \n",
    "\n",
    "def forward_and_backward(model, images, true_masks, amp, optimizers, grad_scaler, model_name):\n",
    "    with torch.autocast(device.type if device.type != 'mps' else 'cpu', enabled=amp):\n",
    "        \n",
    "        try:\n",
    "            mn_cls = model.n_classes\n",
    "        except:\n",
    "            mn_cls = model.classifier[-1].out_channels\n",
    "\n",
    "        if model_name == 'ensemble_voting':\n",
    "            unet_pred, segnet_pred, enet_pred = model(images)\n",
    "            #deeplab_pred = deeplab_pred['out']\n",
    "            \n",
    "            unet_loss = calculate_loss(unet_pred, true_masks, mn_cls, multiclass=True)\n",
    "            segnet_loss = calculate_loss(segnet_pred, true_masks, mn_cls, multiclass=True)\n",
    "            enet_loss = calculate_loss(enet_pred, true_masks, mn_cls, multiclass=True)\n",
    "            \n",
    "            \n",
    "        else:\n",
    "            masks_pred = model(images)\n",
    "            if isinstance(masks_pred, OrderedDict):\n",
    "                masks_pred = masks_pred['out']\n",
    "            loss = calculate_loss(masks_pred, true_masks, mn_cls, multiclass=True)\n",
    "    \n",
    "    \n",
    "    if model_name == 'ensemble_voting':\n",
    "        for _loss, _optiz in zip([unet_loss, segnet_loss, enet_loss], optimizers):\n",
    "            grad_forback(model, _loss, _optiz)\n",
    "\n",
    "        return model, unet_loss, segnet_loss, enet_loss\n",
    "    else:\n",
    "        for _loss, _optiz in zip([loss], optimizers):\n",
    "            grad_forback(model, _loss, _optiz)\n",
    "            \n",
    "        return model, loss\n"
   ]
  },
  {
   "cell_type": "code",
   "execution_count": 9,
   "id": "8bb76263-8fd8-437d-9204-8ebc2af3de6d",
   "metadata": {},
   "outputs": [
    {
     "name": "stderr",
     "output_type": "stream",
     "text": [
      "Epoch 1/50:  99%|█████████▊| 200/203 [00:08<00:00, 43.85img/s]"
     ]
    },
    {
     "name": "stdout",
     "output_type": "stream",
     "text": [
      "***\n",
      "unet Loss: 0.5407831072807312\n"
     ]
    },
    {
     "name": "stderr",
     "output_type": "stream",
     "text": [
      "Epoch 1/50:  99%|█████████▊| 200/203 [00:10<00:00, 18.77img/s]\n"
     ]
    },
    {
     "name": "stdout",
     "output_type": "stream",
     "text": [
      "---\n",
      "unet Validation Dice Loss: 1.4107210636138916\n",
      "unet Validation Pixel Accuracy: 0.450653076171875\n",
      "unet Validation MIoU: 0.2834143474316703\n",
      "unet Validation Dice Score: 0.3806003928184509\n"
     ]
    },
    {
     "name": "stderr",
     "output_type": "stream",
     "text": [
      "Epoch 2/50:  99%|█████████▊| 200/203 [00:06<00:00, 43.83img/s]"
     ]
    },
    {
     "name": "stdout",
     "output_type": "stream",
     "text": [
      "***\n",
      "unet Loss: 0.5164741277694702\n"
     ]
    },
    {
     "name": "stderr",
     "output_type": "stream",
     "text": [
      "Epoch 2/50:  99%|█████████▊| 200/203 [00:08<00:00, 23.17img/s]\n"
     ]
    },
    {
     "name": "stdout",
     "output_type": "stream",
     "text": [
      "---\n",
      "unet Validation Dice Loss: 0.809211015701294\n",
      "unet Validation Pixel Accuracy: 0.8724135014048794\n",
      "unet Validation MIoU: 0.690871503375303\n",
      "unet Validation Dice Score: 0.7377544045448303\n"
     ]
    },
    {
     "name": "stderr",
     "output_type": "stream",
     "text": [
      "Epoch 3/50:  99%|█████████▊| 200/203 [00:06<00:00, 43.74img/s]"
     ]
    },
    {
     "name": "stdout",
     "output_type": "stream",
     "text": [
      "***\n",
      "unet Loss: 0.4526466727256775\n"
     ]
    },
    {
     "name": "stderr",
     "output_type": "stream",
     "text": [
      "Epoch 3/50:  99%|█████████▊| 200/203 [00:08<00:00, 22.68img/s]\n"
     ]
    },
    {
     "name": "stdout",
     "output_type": "stream",
     "text": [
      "---\n",
      "unet Validation Dice Loss: 0.6065911650657654\n",
      "unet Validation Pixel Accuracy: 0.9217435602556195\n",
      "unet Validation MIoU: 0.776007135779289\n",
      "unet Validation Dice Score: 0.7890467643737793\n"
     ]
    },
    {
     "name": "stderr",
     "output_type": "stream",
     "text": [
      "Epoch 4/50:  99%|█████████▊| 200/203 [00:06<00:00, 43.86img/s]"
     ]
    },
    {
     "name": "stdout",
     "output_type": "stream",
     "text": [
      "***\n",
      "unet Loss: 0.3475264310836792\n"
     ]
    },
    {
     "name": "stderr",
     "output_type": "stream",
     "text": [
      "Epoch 4/50:  99%|█████████▊| 200/203 [00:08<00:00, 22.66img/s]\n"
     ]
    },
    {
     "name": "stdout",
     "output_type": "stream",
     "text": [
      "---\n",
      "unet Validation Dice Loss: 0.4251253604888916\n",
      "unet Validation Pixel Accuracy: 0.9343146608586896\n",
      "unet Validation MIoU: 0.7833372446725047\n",
      "unet Validation Dice Score: 0.8275594115257263\n"
     ]
    },
    {
     "name": "stderr",
     "output_type": "stream",
     "text": [
      "Epoch 5/50:  99%|█████████▊| 200/203 [00:06<00:00, 43.86img/s]"
     ]
    },
    {
     "name": "stdout",
     "output_type": "stream",
     "text": [
      "***\n",
      "unet Loss: 0.31702569127082825\n"
     ]
    },
    {
     "name": "stderr",
     "output_type": "stream",
     "text": [
      "Epoch 5/50:  99%|█████████▊| 200/203 [00:08<00:00, 23.21img/s]\n"
     ]
    },
    {
     "name": "stdout",
     "output_type": "stream",
     "text": [
      "---\n",
      "unet Validation Dice Loss: 0.4403960108757019\n",
      "unet Validation Pixel Accuracy: 0.9382645456414473\n",
      "unet Validation MIoU: 0.8093207431172849\n",
      "unet Validation Dice Score: 0.8308984637260437\n"
     ]
    },
    {
     "name": "stderr",
     "output_type": "stream",
     "text": [
      "Epoch 6/50:  99%|█████████▊| 200/203 [00:06<00:00, 43.69img/s]"
     ]
    },
    {
     "name": "stdout",
     "output_type": "stream",
     "text": [
      "***\n",
      "unet Loss: 0.3113500475883484\n"
     ]
    },
    {
     "name": "stderr",
     "output_type": "stream",
     "text": [
      "Epoch 6/50:  99%|█████████▊| 200/203 [00:08<00:00, 23.30img/s]\n"
     ]
    },
    {
     "name": "stdout",
     "output_type": "stream",
     "text": [
      "---\n",
      "unet Validation Dice Loss: 0.42255496978759766\n",
      "unet Validation Pixel Accuracy: 0.936160171241091\n",
      "unet Validation MIoU: 0.80206005229038\n",
      "unet Validation Dice Score: 0.8352531790733337\n"
     ]
    },
    {
     "name": "stderr",
     "output_type": "stream",
     "text": [
      "Epoch 7/50:  99%|█████████▊| 200/203 [00:06<00:00, 43.08img/s]"
     ]
    },
    {
     "name": "stdout",
     "output_type": "stream",
     "text": [
      "***\n",
      "unet Loss: 0.32607585191726685\n"
     ]
    },
    {
     "name": "stderr",
     "output_type": "stream",
     "text": [
      "Epoch 7/50:  99%|█████████▊| 200/203 [00:08<00:00, 23.15img/s]\n"
     ]
    },
    {
     "name": "stdout",
     "output_type": "stream",
     "text": [
      "---\n",
      "unet Validation Dice Loss: 0.3301255404949188\n",
      "unet Validation Pixel Accuracy: 0.9467286227042215\n",
      "unet Validation MIoU: 0.8305499567173066\n",
      "unet Validation Dice Score: 0.8708080649375916\n"
     ]
    },
    {
     "name": "stderr",
     "output_type": "stream",
     "text": [
      "Epoch 8/50:  99%|█████████▊| 200/203 [00:06<00:00, 43.81img/s]"
     ]
    },
    {
     "name": "stdout",
     "output_type": "stream",
     "text": [
      "***\n",
      "unet Loss: 0.296148419380188\n"
     ]
    },
    {
     "name": "stderr",
     "output_type": "stream",
     "text": [
      "Epoch 8/50:  99%|█████████▊| 200/203 [00:08<00:00, 22.89img/s]\n"
     ]
    },
    {
     "name": "stdout",
     "output_type": "stream",
     "text": [
      "---\n",
      "unet Validation Dice Loss: 0.4919908940792084\n",
      "unet Validation Pixel Accuracy: 0.9217098303008497\n",
      "unet Validation MIoU: 0.7780294846019078\n",
      "unet Validation Dice Score: 0.8122736215591431\n"
     ]
    },
    {
     "name": "stderr",
     "output_type": "stream",
     "text": [
      "Epoch 9/50:  99%|█████████▊| 200/203 [00:06<00:00, 43.75img/s]"
     ]
    },
    {
     "name": "stdout",
     "output_type": "stream",
     "text": [
      "***\n",
      "unet Loss: 0.2228412628173828\n"
     ]
    },
    {
     "name": "stderr",
     "output_type": "stream",
     "text": [
      "Epoch 9/50:  99%|█████████▊| 200/203 [00:08<00:00, 23.05img/s]\n"
     ]
    },
    {
     "name": "stdout",
     "output_type": "stream",
     "text": [
      "---\n",
      "unet Validation Dice Loss: 0.43719571828842163\n",
      "unet Validation Pixel Accuracy: 0.9234581662897479\n",
      "unet Validation MIoU: 0.7816914894903355\n",
      "unet Validation Dice Score: 0.8289512991905212\n"
     ]
    },
    {
     "name": "stderr",
     "output_type": "stream",
     "text": [
      "Epoch 10/50:  99%|█████████▊| 200/203 [00:06<00:00, 43.77img/s]"
     ]
    },
    {
     "name": "stdout",
     "output_type": "stream",
     "text": [
      "***\n",
      "unet Loss: 0.19095993041992188\n"
     ]
    },
    {
     "name": "stderr",
     "output_type": "stream",
     "text": [
      "Epoch 10/50:  99%|█████████▊| 200/203 [00:08<00:00, 22.94img/s]\n"
     ]
    },
    {
     "name": "stdout",
     "output_type": "stream",
     "text": [
      "---\n",
      "unet Validation Dice Loss: 0.3899851143360138\n",
      "unet Validation Pixel Accuracy: 0.9349153752912555\n",
      "unet Validation MIoU: 0.8045294849706023\n",
      "unet Validation Dice Score: 0.8384942412376404\n"
     ]
    },
    {
     "name": "stderr",
     "output_type": "stream",
     "text": [
      "Epoch 11/50:  99%|█████████▊| 200/203 [00:06<00:00, 43.83img/s]"
     ]
    },
    {
     "name": "stdout",
     "output_type": "stream",
     "text": [
      "***\n",
      "unet Loss: 0.18857765197753906\n"
     ]
    },
    {
     "name": "stderr",
     "output_type": "stream",
     "text": [
      "Epoch 11/50:  99%|█████████▊| 200/203 [00:08<00:00, 22.97img/s]\n"
     ]
    },
    {
     "name": "stdout",
     "output_type": "stream",
     "text": [
      "---\n",
      "unet Validation Dice Loss: 0.25800973176956177\n",
      "unet Validation Pixel Accuracy: 0.9587889554207785\n",
      "unet Validation MIoU: 0.8568843360041818\n",
      "unet Validation Dice Score: 0.8858830332756042\n"
     ]
    },
    {
     "name": "stderr",
     "output_type": "stream",
     "text": [
      "Epoch 12/50:  99%|█████████▊| 200/203 [00:06<00:00, 43.90img/s]"
     ]
    },
    {
     "name": "stdout",
     "output_type": "stream",
     "text": [
      "***\n",
      "unet Loss: 0.2460526078939438\n"
     ]
    },
    {
     "name": "stderr",
     "output_type": "stream",
     "text": [
      "Epoch 12/50:  99%|█████████▊| 200/203 [00:08<00:00, 23.33img/s]\n"
     ]
    },
    {
     "name": "stdout",
     "output_type": "stream",
     "text": [
      "---\n",
      "unet Validation Dice Loss: 0.26218369603157043\n",
      "unet Validation Pixel Accuracy: 0.9583373488041392\n",
      "unet Validation MIoU: 0.8556133292784138\n",
      "unet Validation Dice Score: 0.885633111000061\n"
     ]
    },
    {
     "name": "stderr",
     "output_type": "stream",
     "text": [
      "Epoch 13/50:  99%|█████████▊| 200/203 [00:06<00:00, 43.67img/s]"
     ]
    },
    {
     "name": "stdout",
     "output_type": "stream",
     "text": [
      "***\n",
      "unet Loss: 0.17972740530967712\n"
     ]
    },
    {
     "name": "stderr",
     "output_type": "stream",
     "text": [
      "Epoch 13/50:  99%|█████████▊| 200/203 [00:08<00:00, 23.28img/s]\n"
     ]
    },
    {
     "name": "stdout",
     "output_type": "stream",
     "text": [
      "---\n",
      "unet Validation Dice Loss: 0.25626140832901\n",
      "unet Validation Pixel Accuracy: 0.9599938643606085\n",
      "unet Validation MIoU: 0.8595529354485925\n",
      "unet Validation Dice Score: 0.8929106593132019\n"
     ]
    },
    {
     "name": "stderr",
     "output_type": "stream",
     "text": [
      "Epoch 14/50:  99%|█████████▊| 200/203 [00:06<00:00, 43.88img/s]"
     ]
    },
    {
     "name": "stdout",
     "output_type": "stream",
     "text": [
      "***\n",
      "unet Loss: 0.1916528046131134\n"
     ]
    },
    {
     "name": "stderr",
     "output_type": "stream",
     "text": [
      "Epoch 14/50:  99%|█████████▊| 200/203 [00:08<00:00, 23.00img/s]\n"
     ]
    },
    {
     "name": "stdout",
     "output_type": "stream",
     "text": [
      "---\n",
      "unet Validation Dice Loss: 0.25553274154663086\n",
      "unet Validation Pixel Accuracy: 0.960534882127193\n",
      "unet Validation MIoU: 0.8629660911676984\n",
      "unet Validation Dice Score: 0.896131157875061\n"
     ]
    },
    {
     "name": "stderr",
     "output_type": "stream",
     "text": [
      "Epoch 15/50:  99%|█████████▊| 200/203 [00:06<00:00, 43.50img/s]"
     ]
    },
    {
     "name": "stdout",
     "output_type": "stream",
     "text": [
      "***\n",
      "unet Loss: 0.16203343868255615\n"
     ]
    },
    {
     "name": "stderr",
     "output_type": "stream",
     "text": [
      "Epoch 15/50:  99%|█████████▊| 200/203 [00:08<00:00, 23.30img/s]\n"
     ]
    },
    {
     "name": "stdout",
     "output_type": "stream",
     "text": [
      "---\n",
      "unet Validation Dice Loss: 0.2625935971736908\n",
      "unet Validation Pixel Accuracy: 0.9598640308045504\n",
      "unet Validation MIoU: 0.8632226456618197\n",
      "unet Validation Dice Score: 0.892314612865448\n"
     ]
    },
    {
     "name": "stderr",
     "output_type": "stream",
     "text": [
      "Epoch 16/50:  99%|█████████▊| 200/203 [00:06<00:00, 43.59img/s]"
     ]
    },
    {
     "name": "stdout",
     "output_type": "stream",
     "text": [
      "***\n",
      "unet Loss: 0.16967633366584778\n"
     ]
    },
    {
     "name": "stderr",
     "output_type": "stream",
     "text": [
      "Epoch 16/50:  99%|█████████▊| 200/203 [00:08<00:00, 23.40img/s]\n"
     ]
    },
    {
     "name": "stdout",
     "output_type": "stream",
     "text": [
      "---\n",
      "unet Validation Dice Loss: 0.2602660655975342\n",
      "unet Validation Pixel Accuracy: 0.9598656369928729\n",
      "unet Validation MIoU: 0.861963297283058\n",
      "unet Validation Dice Score: 0.8957163095474243\n"
     ]
    },
    {
     "name": "stderr",
     "output_type": "stream",
     "text": [
      "Epoch 17/50:  99%|█████████▊| 200/203 [00:06<00:00, 43.65img/s]"
     ]
    },
    {
     "name": "stdout",
     "output_type": "stream",
     "text": [
      "***\n",
      "unet Loss: 0.18074603378772736\n"
     ]
    },
    {
     "name": "stderr",
     "output_type": "stream",
     "text": [
      "Epoch 17/50:  99%|█████████▊| 200/203 [00:08<00:00, 23.03img/s]\n"
     ]
    },
    {
     "name": "stdout",
     "output_type": "stream",
     "text": [
      "---\n",
      "unet Validation Dice Loss: 0.24669496715068817\n",
      "unet Validation Pixel Accuracy: 0.9627926475123355\n",
      "unet Validation MIoU: 0.8695936355410712\n",
      "unet Validation Dice Score: 0.9004759192466736\n"
     ]
    },
    {
     "name": "stderr",
     "output_type": "stream",
     "text": [
      "Epoch 18/50:  99%|█████████▊| 200/203 [00:06<00:00, 42.42img/s]"
     ]
    },
    {
     "name": "stdout",
     "output_type": "stream",
     "text": [
      "***\n",
      "unet Loss: 0.16723816096782684\n"
     ]
    },
    {
     "name": "stderr",
     "output_type": "stream",
     "text": [
      "Epoch 18/50:  99%|█████████▊| 200/203 [00:08<00:00, 22.81img/s]\n"
     ]
    },
    {
     "name": "stdout",
     "output_type": "stream",
     "text": [
      "---\n",
      "unet Validation Dice Loss: 0.2501556873321533\n",
      "unet Validation Pixel Accuracy: 0.9606762266995614\n",
      "unet Validation MIoU: 0.8622407263430989\n",
      "unet Validation Dice Score: 0.901091992855072\n"
     ]
    },
    {
     "name": "stderr",
     "output_type": "stream",
     "text": [
      "Epoch 19/50:  99%|█████████▊| 200/203 [00:06<00:00, 43.51img/s]"
     ]
    },
    {
     "name": "stdout",
     "output_type": "stream",
     "text": [
      "***\n",
      "unet Loss: 0.16800585389137268\n"
     ]
    },
    {
     "name": "stderr",
     "output_type": "stream",
     "text": [
      "Epoch 19/50:  99%|█████████▊| 200/203 [00:08<00:00, 22.48img/s]\n"
     ]
    },
    {
     "name": "stdout",
     "output_type": "stream",
     "text": [
      "---\n",
      "unet Validation Dice Loss: 0.2503889799118042\n",
      "unet Validation Pixel Accuracy: 0.9602147152549342\n",
      "unet Validation MIoU: 0.8607892919165052\n",
      "unet Validation Dice Score: 0.8984628915786743\n"
     ]
    },
    {
     "name": "stderr",
     "output_type": "stream",
     "text": [
      "Epoch 20/50:  99%|█████████▊| 200/203 [00:06<00:00, 43.38img/s]"
     ]
    },
    {
     "name": "stdout",
     "output_type": "stream",
     "text": [
      "***\n",
      "unet Loss: 0.1531566083431244\n"
     ]
    },
    {
     "name": "stderr",
     "output_type": "stream",
     "text": [
      "Epoch 20/50:  99%|█████████▊| 200/203 [00:08<00:00, 22.35img/s]\n"
     ]
    },
    {
     "name": "stdout",
     "output_type": "stream",
     "text": [
      "---\n",
      "unet Validation Dice Loss: 0.2546900808811188\n",
      "unet Validation Pixel Accuracy: 0.9593098958333334\n",
      "unet Validation MIoU: 0.8593261652854833\n",
      "unet Validation Dice Score: 0.9051824808120728\n"
     ]
    },
    {
     "name": "stderr",
     "output_type": "stream",
     "text": [
      "Epoch 21/50:  99%|█████████▊| 200/203 [00:06<00:00, 43.51img/s]"
     ]
    },
    {
     "name": "stdout",
     "output_type": "stream",
     "text": [
      "***\n",
      "unet Loss: 0.17208468914031982\n"
     ]
    },
    {
     "name": "stderr",
     "output_type": "stream",
     "text": [
      "Epoch 21/50:  99%|█████████▊| 200/203 [00:08<00:00, 23.03img/s]\n"
     ]
    },
    {
     "name": "stdout",
     "output_type": "stream",
     "text": [
      "---\n",
      "unet Validation Dice Loss: 0.24285520613193512\n",
      "unet Validation Pixel Accuracy: 0.9625610886958608\n",
      "unet Validation MIoU: 0.8681827384985261\n",
      "unet Validation Dice Score: 0.8990726470947266\n"
     ]
    },
    {
     "name": "stderr",
     "output_type": "stream",
     "text": [
      "Epoch 22/50:  99%|█████████▊| 200/203 [00:06<00:00, 43.40img/s]"
     ]
    },
    {
     "name": "stdout",
     "output_type": "stream",
     "text": [
      "***\n",
      "unet Loss: 0.1554606705904007\n"
     ]
    },
    {
     "name": "stderr",
     "output_type": "stream",
     "text": [
      "Epoch 22/50:  99%|█████████▊| 200/203 [00:08<00:00, 22.84img/s]\n"
     ]
    },
    {
     "name": "stdout",
     "output_type": "stream",
     "text": [
      "---\n",
      "unet Validation Dice Loss: 0.24455632269382477\n",
      "unet Validation Pixel Accuracy: 0.9628627844024122\n",
      "unet Validation MIoU: 0.8701255245834986\n",
      "unet Validation Dice Score: 0.8973323106765747\n"
     ]
    },
    {
     "name": "stderr",
     "output_type": "stream",
     "text": [
      "Epoch 23/50:  99%|█████████▊| 200/203 [00:06<00:00, 43.42img/s]"
     ]
    },
    {
     "name": "stdout",
     "output_type": "stream",
     "text": [
      "***\n",
      "unet Loss: 0.14809554815292358\n"
     ]
    },
    {
     "name": "stderr",
     "output_type": "stream",
     "text": [
      "Epoch 23/50:  99%|█████████▊| 200/203 [00:08<00:00, 23.02img/s]\n"
     ]
    },
    {
     "name": "stdout",
     "output_type": "stream",
     "text": [
      "---\n",
      "unet Validation Dice Loss: 0.25050055980682373\n",
      "unet Validation Pixel Accuracy: 0.9601279810855263\n",
      "unet Validation MIoU: 0.8623631218279246\n",
      "unet Validation Dice Score: 0.9021186828613281\n"
     ]
    },
    {
     "name": "stderr",
     "output_type": "stream",
     "text": [
      "Epoch 24/50:  99%|█████████▊| 200/203 [00:06<00:00, 43.69img/s]"
     ]
    },
    {
     "name": "stdout",
     "output_type": "stream",
     "text": [
      "***\n",
      "unet Loss: 0.1367069035768509\n"
     ]
    },
    {
     "name": "stderr",
     "output_type": "stream",
     "text": [
      "Epoch 24/50:  99%|█████████▊| 200/203 [00:08<00:00, 23.15img/s]\n"
     ]
    },
    {
     "name": "stdout",
     "output_type": "stream",
     "text": [
      "---\n",
      "unet Validation Dice Loss: 0.2495259791612625\n",
      "unet Validation Pixel Accuracy: 0.960270128752056\n",
      "unet Validation MIoU: 0.8630826281250914\n",
      "unet Validation Dice Score: 0.901923656463623\n"
     ]
    },
    {
     "name": "stderr",
     "output_type": "stream",
     "text": [
      "Epoch 25/50:  99%|█████████▊| 200/203 [00:06<00:00, 43.47img/s]"
     ]
    },
    {
     "name": "stdout",
     "output_type": "stream",
     "text": [
      "***\n",
      "unet Loss: 0.15140461921691895\n"
     ]
    },
    {
     "name": "stderr",
     "output_type": "stream",
     "text": [
      "Epoch 25/50:  99%|█████████▊| 200/203 [00:08<00:00, 22.83img/s]\n"
     ]
    },
    {
     "name": "stdout",
     "output_type": "stream",
     "text": [
      "---\n",
      "unet Validation Dice Loss: 0.24476689100265503\n",
      "unet Validation Pixel Accuracy: 0.9618915758634868\n",
      "unet Validation MIoU: 0.867589700612351\n",
      "unet Validation Dice Score: 0.9030917286872864\n"
     ]
    },
    {
     "name": "stderr",
     "output_type": "stream",
     "text": [
      "Epoch 26/50:  99%|█████████▊| 200/203 [00:06<00:00, 43.40img/s]"
     ]
    },
    {
     "name": "stdout",
     "output_type": "stream",
     "text": [
      "***\n",
      "unet Loss: 0.14347012341022491\n"
     ]
    },
    {
     "name": "stderr",
     "output_type": "stream",
     "text": [
      "Epoch 26/50:  99%|█████████▊| 200/203 [00:08<00:00, 22.91img/s]\n"
     ]
    },
    {
     "name": "stdout",
     "output_type": "stream",
     "text": [
      "---\n",
      "unet Validation Dice Loss: 0.24842305481433868\n",
      "unet Validation Pixel Accuracy: 0.9613270006681743\n",
      "unet Validation MIoU: 0.8665633130010036\n",
      "unet Validation Dice Score: 0.9020628929138184\n"
     ]
    },
    {
     "name": "stderr",
     "output_type": "stream",
     "text": [
      "Epoch 27/50:  99%|█████████▊| 200/203 [00:06<00:00, 43.22img/s]"
     ]
    },
    {
     "name": "stdout",
     "output_type": "stream",
     "text": [
      "***\n",
      "unet Loss: 0.14422929286956787\n"
     ]
    },
    {
     "name": "stderr",
     "output_type": "stream",
     "text": [
      "Epoch 27/50:  99%|█████████▊| 200/203 [00:08<00:00, 22.76img/s]\n"
     ]
    },
    {
     "name": "stdout",
     "output_type": "stream",
     "text": [
      "---\n",
      "unet Validation Dice Loss: 0.24532537162303925\n",
      "unet Validation Pixel Accuracy: 0.9617355078981634\n",
      "unet Validation MIoU: 0.8672593295473481\n",
      "unet Validation Dice Score: 0.9024133086204529\n"
     ]
    },
    {
     "name": "stderr",
     "output_type": "stream",
     "text": [
      "Epoch 28/50:  99%|█████████▊| 200/203 [00:06<00:00, 43.31img/s]"
     ]
    },
    {
     "name": "stdout",
     "output_type": "stream",
     "text": [
      "***\n",
      "unet Loss: 0.14199744164943695\n"
     ]
    },
    {
     "name": "stderr",
     "output_type": "stream",
     "text": [
      "Epoch 28/50:  99%|█████████▊| 200/203 [00:08<00:00, 22.89img/s]\n"
     ]
    },
    {
     "name": "stdout",
     "output_type": "stream",
     "text": [
      "---\n",
      "unet Validation Dice Loss: 0.24576804041862488\n",
      "unet Validation Pixel Accuracy: 0.9616560015762061\n",
      "unet Validation MIoU: 0.8669542424227555\n",
      "unet Validation Dice Score: 0.9032902717590332\n"
     ]
    },
    {
     "name": "stderr",
     "output_type": "stream",
     "text": [
      "Epoch 29/50:  99%|█████████▊| 200/203 [00:06<00:00, 43.39img/s]"
     ]
    },
    {
     "name": "stdout",
     "output_type": "stream",
     "text": [
      "***\n",
      "unet Loss: 0.13882127404212952\n"
     ]
    },
    {
     "name": "stderr",
     "output_type": "stream",
     "text": [
      "Epoch 29/50:  99%|█████████▊| 200/203 [00:08<00:00, 22.82img/s]\n"
     ]
    },
    {
     "name": "stdout",
     "output_type": "stream",
     "text": [
      "---\n",
      "unet Validation Dice Loss: 0.2406115084886551\n",
      "unet Validation Pixel Accuracy: 0.9627096611156798\n",
      "unet Validation MIoU: 0.8702198447025091\n",
      "unet Validation Dice Score: 0.9027693867683411\n"
     ]
    },
    {
     "name": "stderr",
     "output_type": "stream",
     "text": [
      "Epoch 30/50:  99%|█████████▊| 200/203 [00:06<00:00, 43.32img/s]"
     ]
    },
    {
     "name": "stdout",
     "output_type": "stream",
     "text": [
      "***\n",
      "unet Loss: 0.16615040600299835\n"
     ]
    },
    {
     "name": "stderr",
     "output_type": "stream",
     "text": [
      "Epoch 30/50:  99%|█████████▊| 200/203 [00:08<00:00, 22.84img/s]\n"
     ]
    },
    {
     "name": "stdout",
     "output_type": "stream",
     "text": [
      "---\n",
      "unet Validation Dice Loss: 0.2459993064403534\n",
      "unet Validation Pixel Accuracy: 0.961501539799205\n",
      "unet Validation MIoU: 0.8667198240721953\n",
      "unet Validation Dice Score: 0.9030798077583313\n"
     ]
    },
    {
     "name": "stderr",
     "output_type": "stream",
     "text": [
      "Epoch 31/50:  99%|█████████▊| 200/203 [00:06<00:00, 43.31img/s]"
     ]
    },
    {
     "name": "stdout",
     "output_type": "stream",
     "text": [
      "***\n",
      "unet Loss: 0.16412502527236938\n"
     ]
    },
    {
     "name": "stderr",
     "output_type": "stream",
     "text": [
      "Epoch 31/50:  99%|█████████▊| 200/203 [00:08<00:00, 22.95img/s]\n"
     ]
    },
    {
     "name": "stdout",
     "output_type": "stream",
     "text": [
      "---\n",
      "unet Validation Dice Loss: 0.2457447201013565\n",
      "unet Validation Pixel Accuracy: 0.961672866553591\n",
      "unet Validation MIoU: 0.8671474348806676\n",
      "unet Validation Dice Score: 0.903154194355011\n"
     ]
    },
    {
     "name": "stderr",
     "output_type": "stream",
     "text": [
      "Epoch 32/50:  99%|█████████▊| 200/203 [00:06<00:00, 43.51img/s]"
     ]
    },
    {
     "name": "stdout",
     "output_type": "stream",
     "text": [
      "***\n",
      "unet Loss: 0.14241714775562286\n"
     ]
    },
    {
     "name": "stderr",
     "output_type": "stream",
     "text": [
      "Epoch 32/50:  99%|█████████▊| 200/203 [00:08<00:00, 22.90img/s]\n"
     ]
    },
    {
     "name": "stdout",
     "output_type": "stream",
     "text": [
      "---\n",
      "unet Validation Dice Loss: 0.2428627759218216\n",
      "unet Validation Pixel Accuracy: 0.9621110882675439\n",
      "unet Validation MIoU: 0.8683043408195246\n",
      "unet Validation Dice Score: 0.9026848673820496\n"
     ]
    },
    {
     "name": "stderr",
     "output_type": "stream",
     "text": [
      "Epoch 33/50:  99%|█████████▊| 200/203 [00:06<00:00, 43.57img/s]"
     ]
    },
    {
     "name": "stdout",
     "output_type": "stream",
     "text": [
      "***\n",
      "unet Loss: 0.17189233005046844\n"
     ]
    },
    {
     "name": "stderr",
     "output_type": "stream",
     "text": [
      "Epoch 33/50:  99%|█████████▊| 200/203 [00:08<00:00, 22.89img/s]\n"
     ]
    },
    {
     "name": "stdout",
     "output_type": "stream",
     "text": [
      "---\n",
      "unet Validation Dice Loss: 0.24516510963439941\n",
      "unet Validation Pixel Accuracy: 0.9617325632195723\n",
      "unet Validation MIoU: 0.8674113792281091\n",
      "unet Validation Dice Score: 0.9027457237243652\n"
     ]
    },
    {
     "name": "stderr",
     "output_type": "stream",
     "text": [
      "Epoch 34/50:  99%|█████████▊| 200/203 [00:06<00:00, 43.58img/s]"
     ]
    },
    {
     "name": "stdout",
     "output_type": "stream",
     "text": [
      "***\n",
      "unet Loss: 0.16646809875965118\n"
     ]
    },
    {
     "name": "stderr",
     "output_type": "stream",
     "text": [
      "Epoch 34/50:  99%|█████████▊| 200/203 [00:08<00:00, 22.99img/s]\n"
     ]
    },
    {
     "name": "stdout",
     "output_type": "stream",
     "text": [
      "---\n",
      "unet Validation Dice Loss: 0.25069528818130493\n",
      "unet Validation Pixel Accuracy: 0.9610247695655153\n",
      "unet Validation MIoU: 0.8658745205349031\n",
      "unet Validation Dice Score: 0.9019560217857361\n"
     ]
    },
    {
     "name": "stderr",
     "output_type": "stream",
     "text": [
      "Epoch 35/50:  99%|█████████▊| 200/203 [00:06<00:00, 43.16img/s]"
     ]
    },
    {
     "name": "stdout",
     "output_type": "stream",
     "text": [
      "***\n",
      "unet Loss: 0.14717069268226624\n"
     ]
    },
    {
     "name": "stderr",
     "output_type": "stream",
     "text": [
      "Epoch 35/50:  99%|█████████▊| 200/203 [00:08<00:00, 23.03img/s]\n"
     ]
    },
    {
     "name": "stdout",
     "output_type": "stream",
     "text": [
      "---\n",
      "unet Validation Dice Loss: 0.24711407721042633\n",
      "unet Validation Pixel Accuracy: 0.961251509817023\n",
      "unet Validation MIoU: 0.8656469248966725\n",
      "unet Validation Dice Score: 0.9033681154251099\n"
     ]
    },
    {
     "name": "stderr",
     "output_type": "stream",
     "text": [
      "Epoch 36/50:  99%|█████████▊| 200/203 [00:06<00:00, 43.30img/s]"
     ]
    },
    {
     "name": "stdout",
     "output_type": "stream",
     "text": [
      "***\n",
      "unet Loss: 0.14150550961494446\n"
     ]
    },
    {
     "name": "stderr",
     "output_type": "stream",
     "text": [
      "Epoch 36/50:  99%|█████████▊| 200/203 [00:08<00:00, 22.99img/s]\n"
     ]
    },
    {
     "name": "stdout",
     "output_type": "stream",
     "text": [
      "---\n",
      "unet Validation Dice Loss: 0.24770687520503998\n",
      "unet Validation Pixel Accuracy: 0.961218047560307\n",
      "unet Validation MIoU: 0.8658234151530059\n",
      "unet Validation Dice Score: 0.9020559191703796\n"
     ]
    },
    {
     "name": "stderr",
     "output_type": "stream",
     "text": [
      "Epoch 37/50:  99%|█████████▊| 200/203 [00:06<00:00, 43.56img/s]"
     ]
    },
    {
     "name": "stdout",
     "output_type": "stream",
     "text": [
      "***\n",
      "unet Loss: 0.16809791326522827\n"
     ]
    },
    {
     "name": "stderr",
     "output_type": "stream",
     "text": [
      "Epoch 37/50:  99%|█████████▊| 200/203 [00:08<00:00, 22.74img/s]\n"
     ]
    },
    {
     "name": "stdout",
     "output_type": "stream",
     "text": [
      "---\n",
      "unet Validation Dice Loss: 0.24660982191562653\n",
      "unet Validation Pixel Accuracy: 0.961600052682977\n",
      "unet Validation MIoU: 0.867032404788816\n",
      "unet Validation Dice Score: 0.9024187326431274\n"
     ]
    },
    {
     "name": "stderr",
     "output_type": "stream",
     "text": [
      "Epoch 38/50:  99%|█████████▊| 200/203 [00:06<00:00, 43.67img/s]"
     ]
    },
    {
     "name": "stdout",
     "output_type": "stream",
     "text": [
      "***\n",
      "unet Loss: 0.14776194095611572\n"
     ]
    },
    {
     "name": "stderr",
     "output_type": "stream",
     "text": [
      "Epoch 38/50:  99%|█████████▊| 200/203 [00:08<00:00, 22.65img/s]\n"
     ]
    },
    {
     "name": "stdout",
     "output_type": "stream",
     "text": [
      "---\n",
      "unet Validation Dice Loss: 0.24594241380691528\n",
      "unet Validation Pixel Accuracy: 0.961501539799205\n",
      "unet Validation MIoU: 0.8665566522893609\n",
      "unet Validation Dice Score: 0.9033425450325012\n"
     ]
    },
    {
     "name": "stderr",
     "output_type": "stream",
     "text": [
      "Epoch 39/50:  99%|█████████▊| 200/203 [00:06<00:00, 43.39img/s]"
     ]
    },
    {
     "name": "stdout",
     "output_type": "stream",
     "text": [
      "***\n",
      "unet Loss: 0.15742723643779755\n"
     ]
    },
    {
     "name": "stderr",
     "output_type": "stream",
     "text": [
      "Epoch 39/50:  99%|█████████▊| 200/203 [00:08<00:00, 22.51img/s]\n"
     ]
    },
    {
     "name": "stdout",
     "output_type": "stream",
     "text": [
      "---\n",
      "unet Validation Dice Loss: 0.24327294528484344\n",
      "unet Validation Pixel Accuracy: 0.9621603447094298\n",
      "unet Validation MIoU: 0.8686032123386267\n",
      "unet Validation Dice Score: 0.9033752679824829\n"
     ]
    },
    {
     "name": "stderr",
     "output_type": "stream",
     "text": [
      "Epoch 40/50:  99%|█████████▊| 200/203 [00:06<00:00, 42.72img/s]"
     ]
    },
    {
     "name": "stdout",
     "output_type": "stream",
     "text": [
      "***\n",
      "unet Loss: 0.153489887714386\n"
     ]
    },
    {
     "name": "stderr",
     "output_type": "stream",
     "text": [
      "Epoch 40/50:  99%|█████████▊| 200/203 [00:08<00:00, 22.57img/s]\n"
     ]
    },
    {
     "name": "stdout",
     "output_type": "stream",
     "text": [
      "---\n",
      "unet Validation Dice Loss: 0.2489653080701828\n",
      "unet Validation Pixel Accuracy: 0.9609535618832237\n",
      "unet Validation MIoU: 0.8650319414636665\n",
      "unet Validation Dice Score: 0.9032630324363708\n"
     ]
    },
    {
     "name": "stderr",
     "output_type": "stream",
     "text": [
      "Epoch 41/50:  99%|█████████▊| 200/203 [00:06<00:00, 43.49img/s]"
     ]
    },
    {
     "name": "stdout",
     "output_type": "stream",
     "text": [
      "***\n",
      "unet Loss: 0.14718791842460632\n"
     ]
    },
    {
     "name": "stderr",
     "output_type": "stream",
     "text": [
      "Epoch 41/50:  99%|█████████▊| 200/203 [00:08<00:00, 22.94img/s]\n"
     ]
    },
    {
     "name": "stdout",
     "output_type": "stream",
     "text": [
      "---\n",
      "unet Validation Dice Loss: 0.24749866127967834\n",
      "unet Validation Pixel Accuracy: 0.9613802725808662\n",
      "unet Validation MIoU: 0.8662464774403442\n",
      "unet Validation Dice Score: 0.903233528137207\n"
     ]
    },
    {
     "name": "stderr",
     "output_type": "stream",
     "text": [
      "Epoch 42/50:  99%|█████████▊| 200/203 [00:06<00:00, 43.37img/s]"
     ]
    },
    {
     "name": "stdout",
     "output_type": "stream",
     "text": [
      "***\n",
      "unet Loss: 0.1510586142539978\n"
     ]
    },
    {
     "name": "stderr",
     "output_type": "stream",
     "text": [
      "Epoch 42/50:  99%|█████████▊| 200/203 [00:08<00:00, 22.79img/s]\n"
     ]
    },
    {
     "name": "stdout",
     "output_type": "stream",
     "text": [
      "---\n",
      "unet Validation Dice Loss: 0.24693210422992706\n",
      "unet Validation Pixel Accuracy: 0.9615055552700109\n",
      "unet Validation MIoU: 0.8669888354225078\n",
      "unet Validation Dice Score: 0.9019855856895447\n"
     ]
    },
    {
     "name": "stderr",
     "output_type": "stream",
     "text": [
      "Epoch 43/50:  99%|█████████▊| 200/203 [00:06<00:00, 43.16img/s]"
     ]
    },
    {
     "name": "stdout",
     "output_type": "stream",
     "text": [
      "***\n",
      "unet Loss: 0.21831832826137543\n"
     ]
    },
    {
     "name": "stderr",
     "output_type": "stream",
     "text": [
      "Epoch 43/50:  99%|█████████▊| 200/203 [00:08<00:00, 22.92img/s]\n"
     ]
    },
    {
     "name": "stdout",
     "output_type": "stream",
     "text": [
      "---\n",
      "unet Validation Dice Loss: 0.2429312765598297\n",
      "unet Validation Pixel Accuracy: 0.9619253058182565\n",
      "unet Validation MIoU: 0.8678837899216636\n",
      "unet Validation Dice Score: 0.9025675654411316\n"
     ]
    },
    {
     "name": "stderr",
     "output_type": "stream",
     "text": [
      "Epoch 44/50:  99%|█████████▊| 200/203 [00:06<00:00, 43.45img/s]"
     ]
    },
    {
     "name": "stdout",
     "output_type": "stream",
     "text": [
      "***\n",
      "unet Loss: 0.15421918034553528\n"
     ]
    },
    {
     "name": "stderr",
     "output_type": "stream",
     "text": [
      "Epoch 44/50:  99%|█████████▊| 200/203 [00:08<00:00, 22.74img/s]\n"
     ]
    },
    {
     "name": "stdout",
     "output_type": "stream",
     "text": [
      "---\n",
      "unet Validation Dice Loss: 0.24448618292808533\n",
      "unet Validation Pixel Accuracy: 0.961578369140625\n",
      "unet Validation MIoU: 0.8669118500572572\n",
      "unet Validation Dice Score: 0.9030136466026306\n"
     ]
    },
    {
     "name": "stderr",
     "output_type": "stream",
     "text": [
      "Epoch 45/50:  99%|█████████▊| 200/203 [00:06<00:00, 43.35img/s]"
     ]
    },
    {
     "name": "stdout",
     "output_type": "stream",
     "text": [
      "***\n",
      "unet Loss: 0.169804185628891\n"
     ]
    },
    {
     "name": "stderr",
     "output_type": "stream",
     "text": [
      "Epoch 45/50:  99%|█████████▊| 200/203 [00:08<00:00, 22.69img/s]\n"
     ]
    },
    {
     "name": "stdout",
     "output_type": "stream",
     "text": [
      "---\n",
      "unet Validation Dice Loss: 0.24933911859989166\n",
      "unet Validation Pixel Accuracy: 0.9609701591625548\n",
      "unet Validation MIoU: 0.8652143757055493\n",
      "unet Validation Dice Score: 0.9028427004814148\n"
     ]
    },
    {
     "name": "stderr",
     "output_type": "stream",
     "text": [
      "Epoch 46/50:  99%|█████████▊| 200/203 [00:06<00:00, 43.68img/s]"
     ]
    },
    {
     "name": "stdout",
     "output_type": "stream",
     "text": [
      "***\n",
      "unet Loss: 0.15157687664031982\n"
     ]
    },
    {
     "name": "stderr",
     "output_type": "stream",
     "text": [
      "Epoch 46/50:  99%|█████████▊| 200/203 [00:08<00:00, 22.78img/s]\n"
     ]
    },
    {
     "name": "stdout",
     "output_type": "stream",
     "text": [
      "---\n",
      "unet Validation Dice Loss: 0.24707376956939697\n",
      "unet Validation Pixel Accuracy: 0.9614940442537007\n",
      "unet Validation MIoU: 0.8670607555003482\n",
      "unet Validation Dice Score: 0.9029823541641235\n"
     ]
    },
    {
     "name": "stderr",
     "output_type": "stream",
     "text": [
      "Epoch 47/50:  99%|█████████▊| 200/203 [00:06<00:00, 43.32img/s]"
     ]
    },
    {
     "name": "stdout",
     "output_type": "stream",
     "text": [
      "***\n",
      "unet Loss: 0.14087985455989838\n"
     ]
    },
    {
     "name": "stderr",
     "output_type": "stream",
     "text": [
      "Epoch 47/50:  99%|█████████▊| 200/203 [00:08<00:00, 22.41img/s]\n"
     ]
    },
    {
     "name": "stdout",
     "output_type": "stream",
     "text": [
      "---\n",
      "unet Validation Dice Loss: 0.24773086607456207\n",
      "unet Validation Pixel Accuracy: 0.9611883330763432\n",
      "unet Validation MIoU: 0.8654559887985644\n",
      "unet Validation Dice Score: 0.9030205011367798\n"
     ]
    },
    {
     "name": "stderr",
     "output_type": "stream",
     "text": [
      "Epoch 48/50:  99%|█████████▊| 200/203 [00:06<00:00, 43.49img/s]"
     ]
    },
    {
     "name": "stdout",
     "output_type": "stream",
     "text": [
      "***\n",
      "unet Loss: 0.14069631695747375\n"
     ]
    },
    {
     "name": "stderr",
     "output_type": "stream",
     "text": [
      "Epoch 48/50:  99%|█████████▊| 200/203 [00:08<00:00, 22.77img/s]\n"
     ]
    },
    {
     "name": "stdout",
     "output_type": "stream",
     "text": [
      "---\n",
      "unet Validation Dice Loss: 0.24441097676753998\n",
      "unet Validation Pixel Accuracy: 0.9617146274499726\n",
      "unet Validation MIoU: 0.8668376475454935\n",
      "unet Validation Dice Score: 0.903409481048584\n"
     ]
    },
    {
     "name": "stderr",
     "output_type": "stream",
     "text": [
      "Epoch 49/50:  99%|█████████▊| 200/203 [00:06<00:00, 43.65img/s]"
     ]
    },
    {
     "name": "stdout",
     "output_type": "stream",
     "text": [
      "***\n",
      "unet Loss: 0.16444817185401917\n"
     ]
    },
    {
     "name": "stderr",
     "output_type": "stream",
     "text": [
      "Epoch 49/50:  99%|█████████▊| 200/203 [00:08<00:00, 22.97img/s]\n"
     ]
    },
    {
     "name": "stdout",
     "output_type": "stream",
     "text": [
      "---\n",
      "unet Validation Dice Loss: 0.25003182888031006\n",
      "unet Validation Pixel Accuracy: 0.9611428244072094\n",
      "unet Validation MIoU: 0.866274931805681\n",
      "unet Validation Dice Score: 0.9019777178764343\n"
     ]
    },
    {
     "name": "stderr",
     "output_type": "stream",
     "text": [
      "Epoch 50/50:  99%|█████████▊| 200/203 [00:06<00:00, 43.66img/s]"
     ]
    },
    {
     "name": "stdout",
     "output_type": "stream",
     "text": [
      "***\n",
      "unet Loss: 0.14653554558753967\n"
     ]
    },
    {
     "name": "stderr",
     "output_type": "stream",
     "text": [
      "Epoch 50/50:  99%|█████████▊| 200/203 [00:08<00:00, 22.46img/s]"
     ]
    },
    {
     "name": "stdout",
     "output_type": "stream",
     "text": [
      "---\n",
      "unet Validation Dice Loss: 0.24922680854797363\n",
      "unet Validation Pixel Accuracy: 0.9609629313151041\n",
      "unet Validation MIoU: 0.865265331240779\n",
      "unet Validation Dice Score: 0.9025636911392212\n"
     ]
    },
    {
     "name": "stderr",
     "output_type": "stream",
     "text": [
      "\n"
     ]
    }
   ],
   "source": [
    "valScore_list1 = []\n",
    "TrainLoss_list1 = []\n",
    "\n",
    "valScore_list2 = []\n",
    "TrainLoss_list2 = []\n",
    "\n",
    "valScore_list3 = []\n",
    "TrainLoss_list3 = []\n",
    "\n",
    "valScore_list4 = []\n",
    "TrainLoss_list4 = []\n",
    "\n",
    "val_losses = []\n",
    "val_accs = []\n",
    "val_mious = []\n",
    "\n",
    "# 5. Begin training\n",
    "for epoch in range(1, epochs + 1):\n",
    "    model.train()\n",
    "    epoch_loss = 0\n",
    "    epoch_unet_loss = 0\n",
    "    epoch_segnet_loss = 0\n",
    "    epoch_enet_loss = 0\n",
    "    epoch_voting_loss = 0\n",
    "    \n",
    "    with tqdm(total=n_train, desc=f'Epoch {epoch}/{epochs}', unit='img') as pbar:\n",
    "        for batch in train_loader:\n",
    "            images, true_masks = batch['image'], batch['mask']\n",
    "\n",
    "            images = images.to(device=device, dtype=torch.float32, memory_format=torch.channels_last)\n",
    "            true_masks = true_masks.to(device=device, dtype=torch.long)\n",
    "\n",
    "                \n",
    "            result = forward_and_backward(model, images, true_masks, amp, optims, grad_scaler, Model_Name)\n",
    "            \n",
    "            if len(result) == 4:\n",
    "                model, unet_loss, segnet_loss, enet_loss = result\n",
    "                \n",
    "                pbar.update(images.shape[0])\n",
    "                global_step += 1\n",
    "                epoch_unet_loss += unet_loss.item()\n",
    "                epoch_segnet_loss += segnet_loss.item()\n",
    "                epoch_enet_loss += enet_loss.item()\n",
    "                vot_loss = ((unet_loss.item() + segnet_loss.item() + enet_loss.item()) /3)\n",
    "                epoch_voting_loss += vot_loss\n",
    "                \n",
    "                \n",
    "            elif len(result) == 2:\n",
    "                model, loss = result\n",
    "                \n",
    "                pbar.update(images.shape[0])\n",
    "                global_step += 1\n",
    "                epoch_loss += loss.item()\n",
    "\n",
    "\n",
    "        print('***')\n",
    "        if len(result) == 4:\n",
    "            print('Unet Loss: {}     Segnet Loss: {}     Enet Loss: {}'.format(unet_loss, segnet_loss, enet_loss))\n",
    "            print('Voting Loss: {}'.format(vot_loss))\n",
    "            \n",
    "            \n",
    "        elif len(result) == 2:\n",
    "            print('{} Loss: {}'.format(Model_Name, loss))\n",
    "\n",
    "        # Evaluation round\n",
    "        division_step = (n_train // (5 * batch_size))\n",
    "        if division_step > 0:\n",
    "            #if global_step % division_step == 0:\n",
    "            if len(result) == 4:\n",
    "                unet_val_score, segnet_val_score, enet_val_score, voting_val_score, val_loss, val_acc, val_miou = evaluate(model, val_loader, criterion, device, Model_Name, amp)\n",
    "                \n",
    "                unet_scheduler.step(unet_val_score)\n",
    "                segnet_scheduler.step(segnet_val_score)\n",
    "                enet_scheduler.step(enet_val_score)\n",
    "                #voting_scheduler.step(voting_val_score)\n",
    "                \n",
    "                valScore_list1.append(unet_val_score.cpu().detach().numpy())\n",
    "                TrainLoss_list1.append(unet_loss.cpu().detach().numpy())\n",
    "                valScore_list2.append(segnet_val_score.cpu().detach().numpy())\n",
    "                TrainLoss_list2.append(segnet_loss.cpu().detach().numpy())                \n",
    "                valScore_list3.append(enet_val_score.cpu().detach().numpy())\n",
    "                TrainLoss_list3.append(enet_loss.cpu().detach().numpy())\n",
    "                valScore_list4.append(voting_val_score.cpu().detach().numpy())\n",
    "                TrainLoss_list4.append(vot_loss)\n",
    "                \n",
    "                val_losses.append(val_loss)\n",
    "                val_accs.append(val_acc)\n",
    "                val_mious.append(val_miou)\n",
    "                \n",
    "                print('---')\n",
    "                print('Unet Validation Dice Score: {}     Segnet Validation Dice Score: {}     Enet Validation Dice Score: {}'.format(unet_val_score, segnet_val_score, enet_val_score))\n",
    "                print('---')\n",
    "                print('Ensemble Voting Validation Dice Loss: {}'.format(val_loss))\n",
    "                print('Ensemble Voting Validation Pixel Accuracy: {} '.format(val_acc))\n",
    "                print('Ensemble Voting Validation MIoU: {}'.format(val_miou))                \n",
    "                print('Ensemble Voting Validation Dice Score: {} '.format(voting_val_score))\n",
    "                \n",
    "            else:\n",
    "                val_score, val_loss, val_acc, val_miou = evaluate(model, val_loader, criterion, device, Model_Name, amp)\n",
    "                \n",
    "                                \n",
    "                scheduler.step(val_score)\n",
    "                \n",
    "                print('---')\n",
    "                print('{} Validation Dice Loss: {}'.format(Model_Name, val_loss))   \n",
    "                print('{} Validation Pixel Accuracy: {}'.format(Model_Name, val_acc))\n",
    "                print('{} Validation MIoU: {}'.format(Model_Name, val_miou))\n",
    "                print('{} Validation Dice Score: {}'.format(Model_Name, val_score))\n",
    "                \n",
    "            \n",
    "                valScore_list1.append(val_score.cpu().detach().numpy())\n",
    "                TrainLoss_list1.append(loss.cpu().detach().numpy())\n",
    "                val_losses.append(val_loss)\n",
    "                val_accs.append(val_acc)\n",
    "                val_mious.append(val_miou)\n",
    "\n",
    "        \n",
    "    if save_checkpoint:\n",
    "        Path(dir_checkpoint).mkdir(parents=True, exist_ok=True)\n",
    "        torch.save(model.state_dict(), str(dir_checkpoint / 'checkpoint_epoch{}.pth'.format(epoch + 1)))"
   ]
  },
  {
   "cell_type": "code",
   "execution_count": 14,
   "id": "232d4d6e-12ed-4b30-9b2e-7421289573ad",
   "metadata": {},
   "outputs": [],
   "source": [
    "import pandas as pd\n",
    "import matplotlib.pyplot as plt"
   ]
  },
  {
   "cell_type": "code",
   "execution_count": 15,
   "id": "5e7c3590-63c0-4ee6-bf67-25b012d008d7",
   "metadata": {},
   "outputs": [],
   "source": [
    "df = pd.DataFrame([TrainLoss_list1, val_losses, valScore_list1, val_accs, val_mious]).T\n",
    "df.columns = ['train_loss', 'val_loss', 'val_score', 'val_acc', 'val_miou']\n",
    "df.to_csv(checkpoint_dir + '/model_check.csv', encoding = 'UTF-8')"
   ]
  },
  {
   "cell_type": "code",
   "execution_count": 19,
   "id": "e02024f4-5520-4e80-b5e2-1c0f7d4ad10c",
   "metadata": {},
   "outputs": [
    {
     "data": {
      "text/plain": [
       "[<matplotlib.lines.Line2D at 0x7f7c1b505150>]"
      ]
     },
     "execution_count": 19,
     "metadata": {},
     "output_type": "execute_result"
    },
    {
     "data": {
      "image/png": "[encoded data removed]",
      "text/plain": [
       "<Figure size 1000x500 with 1 Axes>"
      ]
     },
     "metadata": {},
     "output_type": "display_data"
    }
   ],
   "source": [
    "plt.figure(figsize= (10,5))\n",
    "plt.plot(TrainLoss_list1)\n",
    "plt.plot(val_losses)"
   ]
  },
  {
   "cell_type": "code",
   "execution_count": 20,
   "id": "0af788b9-1d94-4072-af4f-5c83165b18fc",
   "metadata": {},
   "outputs": [
    {
     "data": {
      "text/plain": [
       "[<matplotlib.lines.Line2D at 0x7f7bfbbc4990>]"
      ]
     },
     "execution_count": 20,
     "metadata": {},
     "output_type": "execute_result"
    },
    {
     "data": {
      "image/png": "[encoded data removed]",
      "text/plain": [
       "<Figure size 1000x500 with 1 Axes>"
      ]
     },
     "metadata": {},
     "output_type": "display_data"
    }
   ],
   "source": [
    "plt.figure(figsize= (10,5))\n",
    "plt.plot(valScore_list1)\n",
    "plt.plot(val_accs)\n",
    "plt.plot(val_mious)"
   ]
  },
  {
   "cell_type": "code",
   "execution_count": null,
   "id": "4795b565-b90f-424f-8455-52d43ad2e5ec",
   "metadata": {},
   "outputs": [],
   "source": []
  }
 ],
 "metadata": {
  "kernelspec": {
   "display_name": "ksh",
   "language": "python",
   "name": "ksh"
  },
  "language_info": {
   "codemirror_mode": {
    "name": "ipython",
    "version": 3
   },
   "file_extension": ".py",
   "mimetype": "text/x-python",
   "name": "python",
   "nbconvert_exporter": "python",
   "pygments_lexer": "ipython3",
   "version": "3.7.16"
  }
 },
 "nbformat": 4,
 "nbformat_minor": 5
}
