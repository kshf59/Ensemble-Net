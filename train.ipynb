{
 "cells": [
  {
   "cell_type": "code",
   "execution_count": 1,
   "id": "152341eb-8e7a-41a0-a305-f4a189b225b4",
   "metadata": {},
   "outputs": [],
   "source": [
    "import numpy as np\n",
    "from pathlib import Path\n",
    "from PIL import Image\n",
    "from torch.utils.data import DataLoader, random_split\n",
    "import torch\n",
    "from torch import optim\n",
    "import torch.nn as nn\n",
    "from tqdm import tqdm\n",
    "import torch.nn.functional as F\n",
    "import logging\n",
    "from evaluate import evaluate\n",
    "import os\n",
    "import torchsummary\n",
    "import pytorch_model_summary\n",
    "\n",
    "from model.unet.unet_model import UNet\n",
    "from model.segnet.segnet_model import SegNet\n",
    "from model.ensemblenet_model import EnsembleNet as esbnet\n",
    "#from model.segnet.segnet2 import SegNet\n",
    "\n",
    "from utils.dice_score import dice_loss\n",
    "from utils.data_load import KittiDataset"
   ]
  },
  {
   "cell_type": "code",
   "execution_count": 2,
   "id": "17846f2d-8459-41ec-8b7d-378faf97757b",
   "metadata": {},
   "outputs": [],
   "source": [
    "Val_Percent = 0.4\n",
    "Scale_Percent = 0.5\n",
    "Batch_Size = 8\n",
    "learning_rate = 0.001\n",
    "Pin_Memory = False\n",
    "epochs = 100\n",
    "#Image_Size = [375, 1242]\n",
    "Image_Size = [384, 1216]\n",
    "Gradient_Clipping = 1.0\n",
    "\n",
    "\n",
    "#Num_Class = 34\n",
    "Num_Class = 31\n",
    "Num_Channel = 3\n",
    "amp = False\n",
    "\n",
    "Img_Path =  'data/training/image_2'\n",
    "Mask_Path = 'data/training/semantic'\n",
    "\n",
    "#Img_Path =  'data/feature'\n",
    "#Mask_Path = 'data/target'\n",
    "\n",
    "\n",
    "\n",
    "save_checkpoint = True\n",
    "checkpoint_dir = '../trained'\n",
    "batch_size = Batch_Size"
   ]
  },
  {
   "cell_type": "code",
   "execution_count": 3,
   "id": "cc937a17-73f1-4fa0-906a-caffb654cf15",
   "metadata": {},
   "outputs": [],
   "source": [
    "dirImg = Path(Img_Path)\n",
    "dirMask = Path(Mask_Path)\n",
    "dir_checkpoint = Path(checkpoint_dir)"
   ]
  },
  {
   "cell_type": "code",
   "execution_count": 4,
   "id": "5032f108-d0ac-4efd-899e-3f6a8a6035b9",
   "metadata": {},
   "outputs": [],
   "source": [
    "device = torch.device('cuda' if torch.cuda.is_available() else 'cpu')"
   ]
  },
  {
   "cell_type": "code",
   "execution_count": 5,
   "id": "9f0d6015-f3f4-4f29-a292-d8bafd917070",
   "metadata": {},
   "outputs": [
    {
     "name": "stderr",
     "output_type": "stream",
     "text": [
      "100%|██████████████████████████████████████████████████████████████████████████████████████████████████████████████████████████████████████████████████████████████████████████████████████████████████████████████████████████████████████████████████████| 200/200 [00:00<00:00, 445.88it/s]\n"
     ]
    }
   ],
   "source": [
    "datasets =  KittiDataset(dirImg, dirMask, Image_Size, Scale_Percent)\n",
    "n_val = int(len(datasets) * Val_Percent)\n",
    "n_train = len(datasets) - n_val\n",
    "train_set, val_set = random_split(datasets, [n_train, n_val], generator=torch.Generator().manual_seed(0))\n",
    "\n",
    "loader_args = dict(batch_size=Batch_Size, num_workers= os.cpu_count(), pin_memory=Pin_Memory)\n",
    "train_loader = DataLoader(train_set, shuffle=True, drop_last = True, **loader_args)\n",
    "val_loader = DataLoader(val_set, shuffle=False, drop_last=True, **loader_args)"
   ]
  },
  {
   "cell_type": "code",
   "execution_count": 6,
   "id": "0e3c7634-1a9f-4f41-b7bb-778d8bee67b7",
   "metadata": {},
   "outputs": [],
   "source": [
    "unet = UNet(Num_Channel, Num_Class)\n",
    "segnet = SegNet(Num_Channel, Num_Class)"
   ]
  },
  {
   "cell_type": "code",
   "execution_count": 7,
   "id": "a352a9d8-44d7-49f6-83c0-2bc6e245a51a",
   "metadata": {},
   "outputs": [],
   "source": [
    "model = esbnet(unet, segnet)\n",
    "model = model.to(memory_format=torch.channels_last, device = device)"
   ]
  },
  {
   "cell_type": "markdown",
   "id": "8df5aa94-9749-4f01-bc8f-4721253eae1e",
   "metadata": {},
   "source": [
    "print(pytorch_model_summary.summary(model, torch.cuda.FloatTensor(1, 3,384, 1216), show_parent_layers=True, max_depth= None))"
   ]
  },
  {
   "cell_type": "markdown",
   "id": "ccc45209-c114-465a-9ccc-d5d9cc956cb1",
   "metadata": {},
   "source": [
    "model = esbnet(Num_Channel, Num_Class)\n",
    "model = model.to(memory_format=torch.channels_last, device = device)"
   ]
  },
  {
   "cell_type": "code",
   "execution_count": 6,
   "id": "05b899db-71ee-4c99-b9c9-6306ccc2b505",
   "metadata": {},
   "outputs": [],
   "source": [
    "x1 = torch.cuda.FloatTensor(1, 31,384, 1216)\n",
    "x2 = torch.cuda.FloatTensor(1, 31,384, 1216)"
   ]
  },
  {
   "cell_type": "code",
   "execution_count": 7,
   "id": "1974c7a3-4318-46d1-b78e-f9f84ca93fed",
   "metadata": {},
   "outputs": [],
   "source": [
    "x1 = torch.FloatTensor(1, 31,384, 1216)\n",
    "x2 = torch.FloatTensor(1, 31,384, 1216)"
   ]
  },
  {
   "cell_type": "code",
   "execution_count": 8,
   "id": "5433b25c-59dc-4da5-97f6-d93baf1cdd0a",
   "metadata": {},
   "outputs": [
    {
     "ename": "RuntimeError",
     "evalue": "1D tensors expected, but got 4D and 4D tensors",
     "output_type": "error",
     "traceback": [
      "\u001b[0;31m---------------------------------------------------------------------------\u001b[0m",
      "\u001b[0;31mRuntimeError\u001b[0m                              Traceback (most recent call last)",
      "\u001b[0;32m/tmp/ipykernel_1152127/2755667112.py\u001b[0m in \u001b[0;36m<module>\u001b[0;34m\u001b[0m\n\u001b[0;32m----> 1\u001b[0;31m \u001b[0mtorch\u001b[0m\u001b[0;34m.\u001b[0m\u001b[0mdot\u001b[0m\u001b[0;34m(\u001b[0m\u001b[0mx1\u001b[0m\u001b[0;34m,\u001b[0m\u001b[0mx2\u001b[0m\u001b[0;34m)\u001b[0m\u001b[0;34m\u001b[0m\u001b[0;34m\u001b[0m\u001b[0m\n\u001b[0m",
      "\u001b[0;31mRuntimeError\u001b[0m: 1D tensors expected, but got 4D and 4D tensors"
     ]
    }
   ],
   "source": [
    "torch.dot(x1,x2)"
   ]
  },
  {
   "cell_type": "code",
   "execution_count": 34,
   "id": "41e18fdf-8dbe-4130-b5d7-ec7604e26575",
   "metadata": {},
   "outputs": [],
   "source": [
    "x3 = torch.mul(x1, x2)"
   ]
  },
  {
   "cell_type": "code",
   "execution_count": 35,
   "id": "29d2416d-7125-428c-ba53-f081a7448e96",
   "metadata": {},
   "outputs": [],
   "source": [
    "x3 = x3.to(device)"
   ]
  },
  {
   "cell_type": "code",
   "execution_count": 31,
   "id": "181e2395-51db-46a5-99a0-ed94af256894",
   "metadata": {},
   "outputs": [],
   "source": [
    "con = nn.Conv2d(31, 31, kernel_size=3, padding=1)"
   ]
  },
  {
   "cell_type": "code",
   "execution_count": 37,
   "id": "59dc525f-2dcb-4ed3-96f0-1a640aebcc2f",
   "metadata": {},
   "outputs": [],
   "source": [
    "con = con.to(device)"
   ]
  },
  {
   "cell_type": "code",
   "execution_count": 39,
   "id": "e4134ce8-63d8-40e3-80d5-7493a921c6be",
   "metadata": {},
   "outputs": [
    {
     "data": {
      "text/plain": [
       "torch.Size([1, 31, 384, 1216])"
      ]
     },
     "execution_count": 39,
     "metadata": {},
     "output_type": "execute_result"
    }
   ],
   "source": [
    "con(x3).shape"
   ]
  },
  {
   "cell_type": "code",
   "execution_count": null,
   "id": "e9bc3fc5-e78c-4267-8736-2476c2626c05",
   "metadata": {},
   "outputs": [],
   "source": []
  },
  {
   "cell_type": "code",
   "execution_count": 13,
   "id": "cc8c5d46-08b7-4aa0-abce-4204c30584b1",
   "metadata": {},
   "outputs": [
    {
     "data": {
      "text/plain": [
       "torch.Size([4, 31, 192, 608])"
      ]
     },
     "execution_count": 13,
     "metadata": {},
     "output_type": "execute_result"
    }
   ],
   "source": []
  },
  {
   "cell_type": "code",
   "execution_count": null,
   "id": "3aa9ef97-397e-4278-84ef-5d240f2d1249",
   "metadata": {},
   "outputs": [],
   "source": []
  },
  {
   "cell_type": "code",
   "execution_count": 8,
   "id": "d0011c1f-fb7f-4b1e-a823-3ebb715372a0",
   "metadata": {},
   "outputs": [
    {
     "name": "stdout",
     "output_type": "stream",
     "text": [
      "-----------------------------------------------------------------------------------------------------------------------------------\n",
      "                       Parent Layers          Layer (type)                             Output Shape         Param #     Tr. Param #\n",
      "===================================================================================================================================\n",
      "         EnsembleNet/UNet/DoubleConv              Conv2d-1                       [1, 64, 384, 1216]           1,728           1,728\n",
      "         EnsembleNet/UNet/DoubleConv         BatchNorm2d-2                       [1, 64, 384, 1216]             128             128\n",
      "         EnsembleNet/UNet/DoubleConv                ReLU-3                       [1, 64, 384, 1216]               0               0\n",
      "         EnsembleNet/UNet/DoubleConv              Conv2d-4                       [1, 64, 384, 1216]          36,864          36,864\n",
      "         EnsembleNet/UNet/DoubleConv         BatchNorm2d-5                       [1, 64, 384, 1216]             128             128\n",
      "         EnsembleNet/UNet/DoubleConv                ReLU-6                       [1, 64, 384, 1216]               0               0\n",
      "               EnsembleNet/UNet/Down           MaxPool2d-7                        [1, 64, 192, 608]               0               0\n",
      "    EnsembleNet/UNet/Down/DoubleConv              Conv2d-8                       [1, 128, 192, 608]          73,728          73,728\n",
      "    EnsembleNet/UNet/Down/DoubleConv         BatchNorm2d-9                       [1, 128, 192, 608]             256             256\n",
      "    EnsembleNet/UNet/Down/DoubleConv               ReLU-10                       [1, 128, 192, 608]               0               0\n",
      "    EnsembleNet/UNet/Down/DoubleConv             Conv2d-11                       [1, 128, 192, 608]         147,456         147,456\n",
      "    EnsembleNet/UNet/Down/DoubleConv        BatchNorm2d-12                       [1, 128, 192, 608]             256             256\n",
      "    EnsembleNet/UNet/Down/DoubleConv               ReLU-13                       [1, 128, 192, 608]               0               0\n",
      "               EnsembleNet/UNet/Down          MaxPool2d-14                        [1, 128, 96, 304]               0               0\n",
      "    EnsembleNet/UNet/Down/DoubleConv             Conv2d-15                        [1, 256, 96, 304]         294,912         294,912\n",
      "    EnsembleNet/UNet/Down/DoubleConv        BatchNorm2d-16                        [1, 256, 96, 304]             512             512\n",
      "    EnsembleNet/UNet/Down/DoubleConv               ReLU-17                        [1, 256, 96, 304]               0               0\n",
      "    EnsembleNet/UNet/Down/DoubleConv             Conv2d-18                        [1, 256, 96, 304]         589,824         589,824\n",
      "    EnsembleNet/UNet/Down/DoubleConv        BatchNorm2d-19                        [1, 256, 96, 304]             512             512\n",
      "    EnsembleNet/UNet/Down/DoubleConv               ReLU-20                        [1, 256, 96, 304]               0               0\n",
      "               EnsembleNet/UNet/Down          MaxPool2d-21                        [1, 256, 48, 152]               0               0\n",
      "    EnsembleNet/UNet/Down/DoubleConv             Conv2d-22                        [1, 512, 48, 152]       1,179,648       1,179,648\n",
      "    EnsembleNet/UNet/Down/DoubleConv        BatchNorm2d-23                        [1, 512, 48, 152]           1,024           1,024\n",
      "    EnsembleNet/UNet/Down/DoubleConv               ReLU-24                        [1, 512, 48, 152]               0               0\n",
      "    EnsembleNet/UNet/Down/DoubleConv             Conv2d-25                        [1, 512, 48, 152]       2,359,296       2,359,296\n",
      "    EnsembleNet/UNet/Down/DoubleConv        BatchNorm2d-26                        [1, 512, 48, 152]           1,024           1,024\n",
      "    EnsembleNet/UNet/Down/DoubleConv               ReLU-27                        [1, 512, 48, 152]               0               0\n",
      "               EnsembleNet/UNet/Down          MaxPool2d-28                         [1, 512, 24, 76]               0               0\n",
      "    EnsembleNet/UNet/Down/DoubleConv             Conv2d-29                        [1, 1024, 24, 76]       4,718,592       4,718,592\n",
      "    EnsembleNet/UNet/Down/DoubleConv        BatchNorm2d-30                        [1, 1024, 24, 76]           2,048           2,048\n",
      "    EnsembleNet/UNet/Down/DoubleConv               ReLU-31                        [1, 1024, 24, 76]               0               0\n",
      "    EnsembleNet/UNet/Down/DoubleConv             Conv2d-32                        [1, 1024, 24, 76]       9,437,184       9,437,184\n",
      "    EnsembleNet/UNet/Down/DoubleConv        BatchNorm2d-33                        [1, 1024, 24, 76]           2,048           2,048\n",
      "    EnsembleNet/UNet/Down/DoubleConv               ReLU-34                        [1, 1024, 24, 76]               0               0\n",
      "                 EnsembleNet/UNet/Up    ConvTranspose2d-35                        [1, 512, 48, 152]       2,097,664       2,097,664\n",
      "      EnsembleNet/UNet/Up/DoubleConv             Conv2d-36                        [1, 512, 48, 152]       4,718,592       4,718,592\n",
      "      EnsembleNet/UNet/Up/DoubleConv        BatchNorm2d-37                        [1, 512, 48, 152]           1,024           1,024\n",
      "      EnsembleNet/UNet/Up/DoubleConv               ReLU-38                        [1, 512, 48, 152]               0               0\n",
      "      EnsembleNet/UNet/Up/DoubleConv             Conv2d-39                        [1, 512, 48, 152]       2,359,296       2,359,296\n",
      "      EnsembleNet/UNet/Up/DoubleConv        BatchNorm2d-40                        [1, 512, 48, 152]           1,024           1,024\n",
      "      EnsembleNet/UNet/Up/DoubleConv               ReLU-41                        [1, 512, 48, 152]               0               0\n",
      "                 EnsembleNet/UNet/Up    ConvTranspose2d-42                        [1, 256, 96, 304]         524,544         524,544\n",
      "      EnsembleNet/UNet/Up/DoubleConv             Conv2d-43                        [1, 256, 96, 304]       1,179,648       1,179,648\n",
      "      EnsembleNet/UNet/Up/DoubleConv        BatchNorm2d-44                        [1, 256, 96, 304]             512             512\n",
      "      EnsembleNet/UNet/Up/DoubleConv               ReLU-45                        [1, 256, 96, 304]               0               0\n",
      "      EnsembleNet/UNet/Up/DoubleConv             Conv2d-46                        [1, 256, 96, 304]         589,824         589,824\n",
      "      EnsembleNet/UNet/Up/DoubleConv        BatchNorm2d-47                        [1, 256, 96, 304]             512             512\n",
      "      EnsembleNet/UNet/Up/DoubleConv               ReLU-48                        [1, 256, 96, 304]               0               0\n",
      "                 EnsembleNet/UNet/Up    ConvTranspose2d-49                       [1, 128, 192, 608]         131,200         131,200\n",
      "      EnsembleNet/UNet/Up/DoubleConv             Conv2d-50                       [1, 128, 192, 608]         294,912         294,912\n",
      "      EnsembleNet/UNet/Up/DoubleConv        BatchNorm2d-51                       [1, 128, 192, 608]             256             256\n",
      "      EnsembleNet/UNet/Up/DoubleConv               ReLU-52                       [1, 128, 192, 608]               0               0\n",
      "      EnsembleNet/UNet/Up/DoubleConv             Conv2d-53                       [1, 128, 192, 608]         147,456         147,456\n",
      "      EnsembleNet/UNet/Up/DoubleConv        BatchNorm2d-54                       [1, 128, 192, 608]             256             256\n",
      "      EnsembleNet/UNet/Up/DoubleConv               ReLU-55                       [1, 128, 192, 608]               0               0\n",
      "                 EnsembleNet/UNet/Up    ConvTranspose2d-56                       [1, 64, 384, 1216]          32,832          32,832\n",
      "      EnsembleNet/UNet/Up/DoubleConv             Conv2d-57                       [1, 64, 384, 1216]          73,728          73,728\n",
      "      EnsembleNet/UNet/Up/DoubleConv        BatchNorm2d-58                       [1, 64, 384, 1216]             128             128\n",
      "      EnsembleNet/UNet/Up/DoubleConv               ReLU-59                       [1, 64, 384, 1216]               0               0\n",
      "      EnsembleNet/UNet/Up/DoubleConv             Conv2d-60                       [1, 64, 384, 1216]          36,864          36,864\n",
      "      EnsembleNet/UNet/Up/DoubleConv        BatchNorm2d-61                       [1, 64, 384, 1216]             128             128\n",
      "      EnsembleNet/UNet/Up/DoubleConv               ReLU-62                       [1, 64, 384, 1216]               0               0\n",
      "            EnsembleNet/UNet/OutConv             Conv2d-63                       [1, 31, 384, 1216]           2,015           2,015\n",
      "   EnsembleNet/SegNet/Conv_BatchNorm             Conv2d-64                       [1, 64, 384, 1216]           1,792           1,792\n",
      "   EnsembleNet/SegNet/Conv_BatchNorm        BatchNorm2d-65                       [1, 64, 384, 1216]             128             128\n",
      "   EnsembleNet/SegNet/Conv_BatchNorm               ReLU-66                       [1, 64, 384, 1216]               0               0\n",
      "   EnsembleNet/SegNet/Conv_BatchNorm             Conv2d-67                       [1, 64, 384, 1216]          36,928          36,928\n",
      "   EnsembleNet/SegNet/Conv_BatchNorm        BatchNorm2d-68                       [1, 64, 384, 1216]             128             128\n",
      "   EnsembleNet/SegNet/Conv_BatchNorm               ReLU-69                       [1, 64, 384, 1216]               0               0\n",
      "                  EnsembleNet/SegNet          MaxPool2d-70     [1, 64, 192, 608], [1, 64, 192, 608]               0               0\n",
      "   EnsembleNet/SegNet/Conv_BatchNorm             Conv2d-71                       [1, 128, 192, 608]          73,856          73,856\n",
      "   EnsembleNet/SegNet/Conv_BatchNorm        BatchNorm2d-72                       [1, 128, 192, 608]             256             256\n",
      "   EnsembleNet/SegNet/Conv_BatchNorm               ReLU-73                       [1, 128, 192, 608]               0               0\n",
      "   EnsembleNet/SegNet/Conv_BatchNorm             Conv2d-74                       [1, 128, 192, 608]         147,584         147,584\n",
      "   EnsembleNet/SegNet/Conv_BatchNorm        BatchNorm2d-75                       [1, 128, 192, 608]             256             256\n",
      "   EnsembleNet/SegNet/Conv_BatchNorm               ReLU-76                       [1, 128, 192, 608]               0               0\n",
      "   EnsembleNet/SegNet/Conv_BatchNorm             Conv2d-77                        [1, 256, 96, 304]         295,168         295,168\n",
      "   EnsembleNet/SegNet/Conv_BatchNorm        BatchNorm2d-78                        [1, 256, 96, 304]             512             512\n",
      "   EnsembleNet/SegNet/Conv_BatchNorm               ReLU-79                        [1, 256, 96, 304]               0               0\n",
      "   EnsembleNet/SegNet/Conv_BatchNorm             Conv2d-80                        [1, 256, 96, 304]         590,080         590,080\n",
      "   EnsembleNet/SegNet/Conv_BatchNorm        BatchNorm2d-81                        [1, 256, 96, 304]             512             512\n",
      "   EnsembleNet/SegNet/Conv_BatchNorm               ReLU-82                        [1, 256, 96, 304]               0               0\n",
      "   EnsembleNet/SegNet/Conv_BatchNorm             Conv2d-83                        [1, 256, 96, 304]         590,080         590,080\n",
      "   EnsembleNet/SegNet/Conv_BatchNorm        BatchNorm2d-84                        [1, 256, 96, 304]             512             512\n",
      "   EnsembleNet/SegNet/Conv_BatchNorm               ReLU-85                        [1, 256, 96, 304]               0               0\n",
      "   EnsembleNet/SegNet/Conv_BatchNorm             Conv2d-86                        [1, 512, 48, 152]       1,180,160       1,180,160\n",
      "   EnsembleNet/SegNet/Conv_BatchNorm        BatchNorm2d-87                        [1, 512, 48, 152]           1,024           1,024\n",
      "   EnsembleNet/SegNet/Conv_BatchNorm               ReLU-88                        [1, 512, 48, 152]               0               0\n",
      "   EnsembleNet/SegNet/Conv_BatchNorm             Conv2d-89                        [1, 512, 48, 152]       2,359,808       2,359,808\n",
      "   EnsembleNet/SegNet/Conv_BatchNorm        BatchNorm2d-90                        [1, 512, 48, 152]           1,024           1,024\n",
      "   EnsembleNet/SegNet/Conv_BatchNorm               ReLU-91                        [1, 512, 48, 152]               0               0\n",
      "   EnsembleNet/SegNet/Conv_BatchNorm             Conv2d-92                        [1, 512, 48, 152]       2,359,808       2,359,808\n",
      "   EnsembleNet/SegNet/Conv_BatchNorm        BatchNorm2d-93                        [1, 512, 48, 152]           1,024           1,024\n",
      "   EnsembleNet/SegNet/Conv_BatchNorm               ReLU-94                        [1, 512, 48, 152]               0               0\n",
      "   EnsembleNet/SegNet/Conv_BatchNorm             Conv2d-95                         [1, 512, 24, 76]       2,359,808       2,359,808\n",
      "   EnsembleNet/SegNet/Conv_BatchNorm        BatchNorm2d-96                         [1, 512, 24, 76]           1,024           1,024\n",
      "   EnsembleNet/SegNet/Conv_BatchNorm               ReLU-97                         [1, 512, 24, 76]               0               0\n",
      "   EnsembleNet/SegNet/Conv_BatchNorm             Conv2d-98                         [1, 512, 24, 76]       2,359,808       2,359,808\n",
      "   EnsembleNet/SegNet/Conv_BatchNorm        BatchNorm2d-99                         [1, 512, 24, 76]           1,024           1,024\n",
      "   EnsembleNet/SegNet/Conv_BatchNorm              ReLU-100                         [1, 512, 24, 76]               0               0\n",
      "   EnsembleNet/SegNet/Conv_BatchNorm            Conv2d-101                         [1, 512, 24, 76]       2,359,808       2,359,808\n",
      "   EnsembleNet/SegNet/Conv_BatchNorm       BatchNorm2d-102                         [1, 512, 24, 76]           1,024           1,024\n",
      "   EnsembleNet/SegNet/Conv_BatchNorm              ReLU-103                         [1, 512, 24, 76]               0               0\n",
      "                  EnsembleNet/SegNet       MaxUnpool2d-104                         [1, 512, 24, 76]               0               0\n",
      "   EnsembleNet/SegNet/Conv_BatchNorm            Conv2d-105                         [1, 512, 24, 76]       2,359,808       2,359,808\n",
      "   EnsembleNet/SegNet/Conv_BatchNorm       BatchNorm2d-106                         [1, 512, 24, 76]           1,024           1,024\n",
      "   EnsembleNet/SegNet/Conv_BatchNorm              ReLU-107                         [1, 512, 24, 76]               0               0\n",
      "   EnsembleNet/SegNet/Conv_BatchNorm            Conv2d-108                         [1, 512, 24, 76]       2,359,808       2,359,808\n",
      "   EnsembleNet/SegNet/Conv_BatchNorm       BatchNorm2d-109                         [1, 512, 24, 76]           1,024           1,024\n",
      "   EnsembleNet/SegNet/Conv_BatchNorm              ReLU-110                         [1, 512, 24, 76]               0               0\n",
      "   EnsembleNet/SegNet/Conv_BatchNorm            Conv2d-111                         [1, 512, 24, 76]       2,359,808       2,359,808\n",
      "   EnsembleNet/SegNet/Conv_BatchNorm       BatchNorm2d-112                         [1, 512, 24, 76]           1,024           1,024\n",
      "   EnsembleNet/SegNet/Conv_BatchNorm              ReLU-113                         [1, 512, 24, 76]               0               0\n",
      "   EnsembleNet/SegNet/Conv_BatchNorm            Conv2d-114                        [1, 512, 48, 152]       2,359,808       2,359,808\n",
      "   EnsembleNet/SegNet/Conv_BatchNorm       BatchNorm2d-115                        [1, 512, 48, 152]           1,024           1,024\n",
      "   EnsembleNet/SegNet/Conv_BatchNorm              ReLU-116                        [1, 512, 48, 152]               0               0\n",
      "   EnsembleNet/SegNet/Conv_BatchNorm            Conv2d-117                        [1, 512, 48, 152]       2,359,808       2,359,808\n",
      "   EnsembleNet/SegNet/Conv_BatchNorm       BatchNorm2d-118                        [1, 512, 48, 152]           1,024           1,024\n",
      "   EnsembleNet/SegNet/Conv_BatchNorm              ReLU-119                        [1, 512, 48, 152]               0               0\n",
      "   EnsembleNet/SegNet/Conv_BatchNorm            Conv2d-120                        [1, 256, 48, 152]       1,179,904       1,179,904\n",
      "   EnsembleNet/SegNet/Conv_BatchNorm       BatchNorm2d-121                        [1, 256, 48, 152]             512             512\n",
      "   EnsembleNet/SegNet/Conv_BatchNorm              ReLU-122                        [1, 256, 48, 152]               0               0\n",
      "   EnsembleNet/SegNet/Conv_BatchNorm            Conv2d-123                        [1, 256, 96, 304]         590,080         590,080\n",
      "   EnsembleNet/SegNet/Conv_BatchNorm       BatchNorm2d-124                        [1, 256, 96, 304]             512             512\n",
      "   EnsembleNet/SegNet/Conv_BatchNorm              ReLU-125                        [1, 256, 96, 304]               0               0\n",
      "   EnsembleNet/SegNet/Conv_BatchNorm            Conv2d-126                        [1, 256, 96, 304]         590,080         590,080\n",
      "   EnsembleNet/SegNet/Conv_BatchNorm       BatchNorm2d-127                        [1, 256, 96, 304]             512             512\n",
      "   EnsembleNet/SegNet/Conv_BatchNorm              ReLU-128                        [1, 256, 96, 304]               0               0\n",
      "   EnsembleNet/SegNet/Conv_BatchNorm            Conv2d-129                        [1, 128, 96, 304]         295,040         295,040\n",
      "   EnsembleNet/SegNet/Conv_BatchNorm       BatchNorm2d-130                        [1, 128, 96, 304]             256             256\n",
      "   EnsembleNet/SegNet/Conv_BatchNorm              ReLU-131                        [1, 128, 96, 304]               0               0\n",
      "   EnsembleNet/SegNet/Conv_BatchNorm            Conv2d-132                       [1, 128, 192, 608]         147,584         147,584\n",
      "   EnsembleNet/SegNet/Conv_BatchNorm       BatchNorm2d-133                       [1, 128, 192, 608]             256             256\n",
      "   EnsembleNet/SegNet/Conv_BatchNorm              ReLU-134                       [1, 128, 192, 608]               0               0\n",
      "   EnsembleNet/SegNet/Conv_BatchNorm            Conv2d-135                        [1, 64, 192, 608]          73,792          73,792\n",
      "   EnsembleNet/SegNet/Conv_BatchNorm       BatchNorm2d-136                        [1, 64, 192, 608]             128             128\n",
      "   EnsembleNet/SegNet/Conv_BatchNorm              ReLU-137                        [1, 64, 192, 608]               0               0\n",
      "   EnsembleNet/SegNet/Conv_BatchNorm            Conv2d-138                       [1, 64, 384, 1216]          36,928          36,928\n",
      "   EnsembleNet/SegNet/Conv_BatchNorm       BatchNorm2d-139                       [1, 64, 384, 1216]             128             128\n",
      "   EnsembleNet/SegNet/Conv_BatchNorm              ReLU-140                       [1, 64, 384, 1216]               0               0\n",
      "                  EnsembleNet/SegNet            Conv2d-141                       [1, 31, 384, 1216]          17,887          17,887\n",
      "                         EnsembleNet            Conv2d-142                       [1, 31, 384, 1216]             992             992\n",
      "===================================================================================================================================\n",
      "Total params: 60,501,470\n",
      "Trainable params: 60,501,470\n",
      "Non-trainable params: 0\n",
      "-----------------------------------------------------------------------------------------------------------------------------------\n"
     ]
    }
   ],
   "source": [
    "print(pytorch_model_summary.summary(model, torch.cuda.FloatTensor(1, 3,384, 1216), show_parent_layers=True, max_depth= None))"
   ]
  },
  {
   "cell_type": "markdown",
   "id": "78db9163-bea4-4d11-b81c-ac7c954c5fa3",
   "metadata": {},
   "source": [
    "print(pytorch_model_summary.summary(model, torch.cuda.FloatTensor(1, 3,384, 1216), show_parent_layers=True, max_depth= None))"
   ]
  },
  {
   "cell_type": "markdown",
   "id": "46bf0e56-dd73-4d1b-a356-24c6ebd4befd",
   "metadata": {},
   "source": [
    "torchsummary.summary(model, (3, 384, 1216))"
   ]
  },
  {
   "cell_type": "code",
   "execution_count": 8,
   "id": "3cc85462-fbec-458e-a1af-9ce4a04a227f",
   "metadata": {},
   "outputs": [],
   "source": [
    "# 4. Set up the optimizer, the loss, the learning rate scheduler and the loss scaling for AMP\n",
    "#optimizer = optim.RMSprop(unet.parameters(), lr=learning_rate, weight_decay=1e-8, momentum=0.9)\n",
    "optimizer = optim.RMSprop(model.parameters(), lr=learning_rate, weight_decay=1e-8, momentum=0.9)\n",
    "scheduler = optim.lr_scheduler.ReduceLROnPlateau(optimizer, 'max', patience=2)  # goal: maximize Dice score\n",
    "grad_scaler = torch.cuda.amp.GradScaler(enabled=amp)\n",
    "criterion = nn.CrossEntropyLoss()\n",
    "global_step = 0"
   ]
  },
  {
   "cell_type": "code",
   "execution_count": 9,
   "id": "d42be0cb-992c-4660-a68c-98fdb1e52403",
   "metadata": {},
   "outputs": [
    {
     "name": "stderr",
     "output_type": "stream",
     "text": [
      "Epoch 1/100:  20%|██████████████████████████████████████████████▊                                                                                                                                                                                           | 24/120 [00:05<00:16,  5.87img/s]\n",
      "Validation round:   0%|                                                                                                                                                                                                                                             | 0/10 [00:00<?, ?batch/s]\u001b[A\n",
      "Validation round:  10%|██████████████████████▉                                                                                                                                                                                                              | 1/10 [00:02<00:22,  2.47s/batch]\u001b[A\n",
      "Validation round:  30%|████████████████████████████████████████████████████████████████████▋                                                                                                                                                                | 3/10 [00:02<00:04,  1.42batch/s]\u001b[A\n",
      "Validation round:  50%|██████████████████████████████████████████████████████████████████████████████████████████████████████████████████▌                                                                                                                  | 5/10 [00:02<00:01,  2.63batch/s]\u001b[A\n",
      "Validation round:  70%|████████████████████████████████████████████████████████████████████████████████████████████████████████████████████████████████████████████████████████████████▎                                                                    | 7/10 [00:02<00:00,  4.03batch/s]\u001b[A\n",
      "Validation round:  90%|██████████████████████████████████████████████████████████████████████████████████████████████████████████████████████████████████████████████████████████████████████████████████████████████████████████████                       | 9/10 [00:03<00:00,  5.40batch/s]\u001b[A\n",
      "Epoch 1/100:  27%|██████████████████████████████████████████████████████████████▍                                                                                                                                                                           | 32/120 [00:09<00:24,  3.53img/s]\u001b[A"
     ]
    },
    {
     "name": "stdout",
     "output_type": "stream",
     "text": [
      "Validation Dice score: 0.5925632119178772\n"
     ]
    },
    {
     "name": "stderr",
     "output_type": "stream",
     "text": [
      "Epoch 1/100:  40%|█████████████████████████████████████████████████████████████████████████████████████████████▌                                                                                                                                            | 48/120 [00:09<00:09,  7.50img/s]\n",
      "Validation round:   0%|                                                                                                                                                                                                                                             | 0/10 [00:00<?, ?batch/s]\u001b[A\n",
      "Validation round:  10%|██████████████████████▉                                                                                                                                                                                                              | 1/10 [00:02<00:22,  2.47s/batch]\u001b[A\n",
      "Validation round:  30%|████████████████████████████████████████████████████████████████████▋                                                                                                                                                                | 3/10 [00:02<00:04,  1.43batch/s]\u001b[A\n",
      "Validation round:  50%|██████████████████████████████████████████████████████████████████████████████████████████████████████████████████▌                                                                                                                  | 5/10 [00:02<00:01,  2.65batch/s]\u001b[A\n",
      "Validation round:  70%|████████████████████████████████████████████████████████████████████████████████████████████████████████████████████████████████████████████████████████████████▎                                                                    | 7/10 [00:02<00:00,  4.02batch/s]\u001b[A\n",
      "Validation round:  90%|██████████████████████████████████████████████████████████████████████████████████████████████████████████████████████████████████████████████████████████████████████████████████████████████████████████████                       | 9/10 [00:03<00:00,  5.49batch/s]\u001b[A\n",
      "Epoch 1/100:  47%|█████████████████████████████████████████████████████████████████████████████████████████████████████████████▏                                                                                                                            | 56/120 [00:13<00:15,  4.21img/s]\u001b[A"
     ]
    },
    {
     "name": "stdout",
     "output_type": "stream",
     "text": [
      "Validation Dice score: 0.5950719714164734\n"
     ]
    },
    {
     "name": "stderr",
     "output_type": "stream",
     "text": [
      "Epoch 1/100:  60%|████████████████████████████████████████████████████████████████████████████████████████████████████████████████████████████████████████████▍                                                                                             | 72/120 [00:13<00:05,  8.07img/s]\n",
      "Validation round:   0%|                                                                                                                                                                                                                                             | 0/10 [00:00<?, ?batch/s]\u001b[A\n",
      "Validation round:  10%|██████████████████████▉                                                                                                                                                                                                              | 1/10 [00:02<00:19,  2.16s/batch]\u001b[A\n",
      "Validation round:  20%|█████████████████████████████████████████████▊                                                                                                                                                                                       | 2/10 [00:02<00:07,  1.04batch/s]\u001b[A\n",
      "Validation round:  40%|███████████████████████████████████████████████████████████████████████████████████████████▌                                                                                                                                         | 4/10 [00:02<00:02,  2.44batch/s]\u001b[A\n",
      "Validation round:  60%|█████████████████████████████████████████████████████████████████████████████████████████████████████████████████████████████████████████▍                                                                                           | 6/10 [00:02<00:01,  4.00batch/s]\u001b[A\n",
      "Validation round:  80%|███████████████████████████████████████████████████████████████████████████████████████████████████████████████████████████████████████████████████████████████████████████████████████▏                                             | 8/10 [00:02<00:00,  5.55batch/s]\u001b[A\n",
      "Validation round: 100%|████████████████████████████████████████████████████████████████████████████████████████████████████████████████████████████████████████████████████████████████████████████████████████████████████████████████████████████████████| 10/10 [00:02<00:00,  7.07batch/s]\u001b[A\n",
      "Epoch 1/100:  67%|████████████████████████████████████████████████████████████████████████████████████████████████████████████████████████████████████████████████████████████                                                                              | 80/120 [00:17<00:08,  4.61img/s]\u001b[A"
     ]
    },
    {
     "name": "stdout",
     "output_type": "stream",
     "text": [
      "Validation Dice score: 0.5651812553405762\n"
     ]
    },
    {
     "name": "stderr",
     "output_type": "stream",
     "text": [
      "Epoch 1/100:  80%|███████████████████████████████████████████████████████████████████████████████████████████████████████████████████████████████████████████████████████████████████████████████████████████▏                                              | 96/120 [00:17<00:02,  8.49img/s]\n",
      "Validation round:   0%|                                                                                                                                                                                                                                             | 0/10 [00:00<?, ?batch/s]\u001b[A\n",
      "Validation round:  10%|██████████████████████▉                                                                                                                                                                                                              | 1/10 [00:02<00:22,  2.52s/batch]\u001b[A\n",
      "Validation round:  30%|████████████████████████████████████████████████████████████████████▋                                                                                                                                                                | 3/10 [00:02<00:05,  1.40batch/s]\u001b[A\n",
      "Validation round:  50%|██████████████████████████████████████████████████████████████████████████████████████████████████████████████████▌                                                                                                                  | 5/10 [00:02<00:01,  2.61batch/s]\u001b[A\n",
      "Validation round:  70%|████████████████████████████████████████████████████████████████████████████████████████████████████████████████████████████████████████████████████████████████▎                                                                    | 7/10 [00:02<00:00,  3.99batch/s]\u001b[A\n",
      "Validation round:  90%|██████████████████████████████████████████████████████████████████████████████████████████████████████████████████████████████████████████████████████████████████████████████████████████████████████████████                       | 9/10 [00:03<00:00,  5.47batch/s]\u001b[A\n",
      "Epoch 1/100:  87%|█████████████████████████████████████████████████████████████████████████████████████████████████████████████████████████████████████████████████████████████████████████████████████████████████████████▉                               | 104/120 [00:21<00:03,  4.53img/s]\u001b[A"
     ]
    },
    {
     "name": "stdout",
     "output_type": "stream",
     "text": [
      "Validation Dice score: 0.5954886078834534\n"
     ]
    },
    {
     "name": "stderr",
     "output_type": "stream",
     "text": [
      "Epoch 1/100: 100%|█████████████████████████████████████████████████████████████████████████████████████████████████████████████████████████████████████████████████████████████████████████████████████████████████████████████████████████████████████████| 120/120 [00:21<00:00,  8.32img/s]\n",
      "Validation round:   0%|                                                                                                                                                                                                                                             | 0/10 [00:00<?, ?batch/s]\u001b[A\n",
      "Validation round:  10%|██████████████████████▉                                                                                                                                                                                                              | 1/10 [00:02<00:20,  2.32s/batch]\u001b[A\n",
      "Validation round:  30%|████████████████████████████████████████████████████████████████████▋                                                                                                                                                                | 3/10 [00:02<00:04,  1.50batch/s]\u001b[A\n",
      "Validation round:  50%|██████████████████████████████████████████████████████████████████████████████████████████████████████████████████▌                                                                                                                  | 5/10 [00:02<00:01,  2.75batch/s]\u001b[A\n",
      "Validation round:  70%|████████████████████████████████████████████████████████████████████████████████████████████████████████████████████████████████████████████████████████████████▎                                                                    | 7/10 [00:02<00:00,  4.13batch/s]\u001b[A\n",
      "Validation round:  90%|██████████████████████████████████████████████████████████████████████████████████████████████████████████████████████████████████████████████████████████████████████████████████████████████████████████████                       | 9/10 [00:02<00:00,  5.63batch/s]\u001b[A\n",
      "Epoch 1/100: 100%|█████████████████████████████████████████████████████████████████████████████████████████████████████████████████████████████████████████████████████████████████████████████████████████████████████████████████████████████████████████| 120/120 [00:25<00:00,  4.77img/s]\u001b[A\n"
     ]
    },
    {
     "name": "stdout",
     "output_type": "stream",
     "text": [
      "Validation Dice score: 0.48123255372047424\n"
     ]
    },
    {
     "name": "stderr",
     "output_type": "stream",
     "text": [
      "Epoch 2/100:  20%|██████████████████████████████████████████████▊                                                                                                                                                                                           | 24/120 [00:03<00:08, 10.68img/s]\n",
      "Validation round:   0%|                                                                                                                                                                                                                                             | 0/10 [00:00<?, ?batch/s]\u001b[A\n",
      "Validation round:  10%|██████████████████████▉                                                                                                                                                                                                              | 1/10 [00:02<00:20,  2.32s/batch]\u001b[A\n",
      "Validation round:  20%|█████████████████████████████████████████████▊                                                                                                                                                                                       | 2/10 [00:02<00:08,  1.02s/batch]\u001b[A\n",
      "Validation round:  40%|███████████████████████████████████████████████████████████████████████████████████████████▌                                                                                                                                         | 4/10 [00:02<00:02,  2.34batch/s]\u001b[A\n",
      "Validation round:  60%|█████████████████████████████████████████████████████████████████████████████████████████████████████████████████████████████████████████▍                                                                                           | 6/10 [00:02<00:01,  3.85batch/s]\u001b[A\n",
      "Validation round:  80%|███████████████████████████████████████████████████████████████████████████████████████████████████████████████████████████████████████████████████████████████████████████████████████▏                                             | 8/10 [00:02<00:00,  5.44batch/s]\u001b[A\n",
      "Validation round: 100%|████████████████████████████████████████████████████████████████████████████████████████████████████████████████████████████████████████████████████████████████████████████████████████████████████████████████████████████████████| 10/10 [00:03<00:00,  6.98batch/s]\u001b[A\n",
      "Epoch 2/100:  27%|██████████████████████████████████████████████████████████████▍                                                                                                                                                                           | 32/120 [00:06<00:20,  4.35img/s]\u001b[A"
     ]
    },
    {
     "name": "stdout",
     "output_type": "stream",
     "text": [
      "Validation Dice score: 0.47598153352737427\n"
     ]
    },
    {
     "name": "stderr",
     "output_type": "stream",
     "text": [
      "Epoch 2/100:  40%|█████████████████████████████████████████████████████████████████████████████████████████████▌                                                                                                                                            | 48/120 [00:06<00:08,  8.96img/s]\n",
      "Validation round:   0%|                                                                                                                                                                                                                                             | 0/10 [00:00<?, ?batch/s]\u001b[A\n",
      "Validation round:  10%|██████████████████████▉                                                                                                                                                                                                              | 1/10 [00:02<00:22,  2.52s/batch]\u001b[A\n",
      "Validation round:  20%|█████████████████████████████████████████████▊                                                                                                                                                                                       | 2/10 [00:02<00:08,  1.10s/batch]\u001b[A\n",
      "Validation round:  40%|███████████████████████████████████████████████████████████████████████████████████████████▌                                                                                                                                         | 4/10 [00:02<00:02,  2.18batch/s]\u001b[A\n",
      "Validation round:  60%|█████████████████████████████████████████████████████████████████████████████████████████████████████████████████████████████████████████▍                                                                                           | 6/10 [00:02<00:01,  3.64batch/s]\u001b[A\n",
      "Validation round:  80%|███████████████████████████████████████████████████████████████████████████████████████████████████████████████████████████████████████████████████████████████████████████████████████▏                                             | 8/10 [00:03<00:00,  5.17batch/s]\u001b[A\n",
      "Validation round: 100%|████████████████████████████████████████████████████████████████████████████████████████████████████████████████████████████████████████████████████████████████████████████████████████████████████████████████████████████████████| 10/10 [00:03<00:00,  6.68batch/s]\u001b[A\n",
      "Epoch 2/100:  47%|█████████████████████████████████████████████████████████████████████████████████████████████████████████████▏                                                                                                                            | 56/120 [00:10<00:14,  4.39img/s]\u001b[A"
     ]
    },
    {
     "name": "stdout",
     "output_type": "stream",
     "text": [
      "Validation Dice score: 0.5604016780853271\n"
     ]
    },
    {
     "name": "stderr",
     "output_type": "stream",
     "text": [
      "Epoch 2/100:  60%|████████████████████████████████████████████████████████████████████████████████████████████████████████████████████████████████████████████▍                                                                                             | 72/120 [00:11<00:05,  8.35img/s]\n",
      "Validation round:   0%|                                                                                                                                                                                                                                             | 0/10 [00:00<?, ?batch/s]\u001b[A\n",
      "                                                                                                                                                                                                                                                                                              \u001b[AException ignored in: <function _MultiProcessingDataLoaderIter.__del__ at 0x7f28a9c9d710>\n",
      "Traceback (most recent call last):\n",
      "  File \"/home/user1/anaconda3/envs/ksh/lib/python3.7/site-packages/torch/utils/data/dataloader.py\", line 1466, in __del__\n",
      "    self._shutdown_workers()\n",
      "  File \"/home/user1/anaconda3/envs/ksh/lib/python3.7/site-packages/torch/utils/data/dataloader.py\", line 1430, in _shutdown_workers\n",
      "    w.join(timeout=_utils.MP_STATUS_CHECK_INTERVAL)\n",
      "  File \"/home/user1/anaconda3/envs/ksh/lib/python3.7/multiprocessing/process.py\", line 140, in join\n",
      "    res = self._popen.wait(timeout)\n",
      "  File \"/home/user1/anaconda3/envs/ksh/lib/python3.7/multiprocessing/popen_fork.py\", line 45, in wait\n",
      "    if not wait([self.sentinel], timeout):\n",
      "  File \"/home/user1/anaconda3/envs/ksh/lib/python3.7/multiprocessing/connection.py\", line 921, in wait\n",
      "    ready = selector.select(timeout)\n",
      "  File \"/home/user1/anaconda3/envs/ksh/lib/python3.7/selectors.py\", line 415, in select\n",
      "    fd_event_list = self._selector.poll(timeout)\n",
      "KeyboardInterrupt: \n",
      "Epoch 2/100:  60%|████████████████████████████████████████████████████████████████████████████████████████████████████████████████████████████████████████████▍                                                                                             | 72/120 [00:13<00:08,  5.34img/s]\n",
      "ERROR:root:Internal Python error in the inspect module.\n",
      "Below is the traceback from this internal error.\n",
      "\n"
     ]
    },
    {
     "name": "stdout",
     "output_type": "stream",
     "text": [
      "Traceback (most recent call last):\n",
      "  File \"/home/user1/anaconda3/envs/ksh/lib/python3.7/site-packages/IPython/core/interactiveshell.py\", line 3457, in run_code\n",
      "    exec(code_obj, self.user_global_ns, self.user_ns)\n",
      "  File \"/tmp/ipykernel_1156415/1565076085.py\", line 45, in <module>\n",
      "    val_score = evaluate(model, val_loader, device, amp)\n",
      "  File \"/home/user1/anaconda3/envs/ksh/lib/python3.7/site-packages/torch/autograd/grad_mode.py\", line 27, in decorate_context\n",
      "    return func(*args, **kwargs)\n",
      "  File \"/home/user1/projects/ksh/Ensemble-Net/evaluate.py\", line 16, in evaluate\n",
      "    for batch in tqdm(dataloader, total=num_val_batches, desc='Validation round', unit='batch', leave=False):\n",
      "  File \"/home/user1/anaconda3/envs/ksh/lib/python3.7/site-packages/tqdm/std.py\", line 1182, in __iter__\n",
      "    for obj in iterable:\n",
      "  File \"/home/user1/anaconda3/envs/ksh/lib/python3.7/site-packages/torch/utils/data/dataloader.py\", line 628, in __next__\n",
      "    data = self._next_data()\n",
      "  File \"/home/user1/anaconda3/envs/ksh/lib/python3.7/site-packages/torch/utils/data/dataloader.py\", line 1316, in _next_data\n",
      "    idx, data = self._get_data()\n",
      "  File \"/home/user1/anaconda3/envs/ksh/lib/python3.7/site-packages/torch/utils/data/dataloader.py\", line 1282, in _get_data\n",
      "    success, data = self._try_get_data()\n",
      "  File \"/home/user1/anaconda3/envs/ksh/lib/python3.7/site-packages/torch/utils/data/dataloader.py\", line 1120, in _try_get_data\n",
      "    data = self._data_queue.get(timeout=timeout)\n",
      "  File \"/home/user1/anaconda3/envs/ksh/lib/python3.7/multiprocessing/queues.py\", line 104, in get\n",
      "    if not self._poll(timeout):\n",
      "  File \"/home/user1/anaconda3/envs/ksh/lib/python3.7/multiprocessing/connection.py\", line 257, in poll\n",
      "    return self._poll(timeout)\n",
      "  File \"/home/user1/anaconda3/envs/ksh/lib/python3.7/multiprocessing/connection.py\", line 414, in _poll\n",
      "    r = wait([self], timeout)\n",
      "  File \"/home/user1/anaconda3/envs/ksh/lib/python3.7/multiprocessing/connection.py\", line 921, in wait\n",
      "    ready = selector.select(timeout)\n",
      "  File \"/home/user1/anaconda3/envs/ksh/lib/python3.7/selectors.py\", line 415, in select\n",
      "    fd_event_list = self._selector.poll(timeout)\n",
      "KeyboardInterrupt\n",
      "\n",
      "During handling of the above exception, another exception occurred:\n",
      "\n",
      "Traceback (most recent call last):\n",
      "  File \"/home/user1/anaconda3/envs/ksh/lib/python3.7/site-packages/IPython/core/interactiveshell.py\", line 2077, in showtraceback\n",
      "    stb = value._render_traceback_()\n",
      "AttributeError: 'KeyboardInterrupt' object has no attribute '_render_traceback_'\n",
      "\n",
      "During handling of the above exception, another exception occurred:\n",
      "\n",
      "Traceback (most recent call last):\n",
      "  File \"/home/user1/anaconda3/envs/ksh/lib/python3.7/site-packages/IPython/core/ultratb.py\", line 1101, in get_records\n",
      "    return _fixed_getinnerframes(etb, number_of_lines_of_context, tb_offset)\n",
      "  File \"/home/user1/anaconda3/envs/ksh/lib/python3.7/site-packages/IPython/core/ultratb.py\", line 248, in wrapped\n",
      "    return f(*args, **kwargs)\n",
      "  File \"/home/user1/anaconda3/envs/ksh/lib/python3.7/site-packages/IPython/core/ultratb.py\", line 281, in _fixed_getinnerframes\n",
      "    records = fix_frame_records_filenames(inspect.getinnerframes(etb, context))\n",
      "  File \"/home/user1/anaconda3/envs/ksh/lib/python3.7/inspect.py\", line 1502, in getinnerframes\n",
      "    frameinfo = (tb.tb_frame,) + getframeinfo(tb, context)\n",
      "  File \"/home/user1/anaconda3/envs/ksh/lib/python3.7/inspect.py\", line 1460, in getframeinfo\n",
      "    filename = getsourcefile(frame) or getfile(frame)\n",
      "  File \"/home/user1/anaconda3/envs/ksh/lib/python3.7/inspect.py\", line 696, in getsourcefile\n",
      "    if getattr(getmodule(object, filename), '__loader__', None) is not None:\n",
      "  File \"/home/user1/anaconda3/envs/ksh/lib/python3.7/inspect.py\", line 742, in getmodule\n",
      "    os.path.realpath(f)] = module.__name__\n",
      "  File \"/home/user1/anaconda3/envs/ksh/lib/python3.7/posixpath.py\", line 395, in realpath\n",
      "    path, ok = _joinrealpath(filename[:0], filename, {})\n",
      "  File \"/home/user1/anaconda3/envs/ksh/lib/python3.7/posixpath.py\", line 428, in _joinrealpath\n",
      "    newpath = join(path, name)\n",
      "  File \"/home/user1/anaconda3/envs/ksh/lib/python3.7/posixpath.py\", line 84, in join\n",
      "    if not p:\n",
      "KeyboardInterrupt\n"
     ]
    },
    {
     "ename": "TypeError",
     "evalue": "object of type 'NoneType' has no len()",
     "output_type": "error",
     "traceback": [
      "\u001b[0;31m---------------------------------------------------------------------------\u001b[0m",
      "\u001b[0;31mKeyboardInterrupt\u001b[0m                         Traceback (most recent call last)",
      "    \u001b[0;31m[... skipping hidden 1 frame]\u001b[0m\n",
      "\u001b[0;32m/tmp/ipykernel_1156415/1565076085.py\u001b[0m in \u001b[0;36m<module>\u001b[0;34m\u001b[0m\n\u001b[1;32m     44\u001b[0m \u001b[0;34m\u001b[0m\u001b[0m\n\u001b[0;32m---> 45\u001b[0;31m                     \u001b[0mval_score\u001b[0m \u001b[0;34m=\u001b[0m \u001b[0mevaluate\u001b[0m\u001b[0;34m(\u001b[0m\u001b[0mmodel\u001b[0m\u001b[0;34m,\u001b[0m \u001b[0mval_loader\u001b[0m\u001b[0;34m,\u001b[0m \u001b[0mdevice\u001b[0m\u001b[0;34m,\u001b[0m \u001b[0mamp\u001b[0m\u001b[0;34m)\u001b[0m\u001b[0;34m\u001b[0m\u001b[0;34m\u001b[0m\u001b[0m\n\u001b[0m\u001b[1;32m     46\u001b[0m \u001b[0;34m\u001b[0m\u001b[0m\n",
      "\u001b[0;32m~/anaconda3/envs/ksh/lib/python3.7/site-packages/torch/autograd/grad_mode.py\u001b[0m in \u001b[0;36mdecorate_context\u001b[0;34m(*args, **kwargs)\u001b[0m\n\u001b[1;32m     26\u001b[0m             \u001b[0;32mwith\u001b[0m \u001b[0mself\u001b[0m\u001b[0;34m.\u001b[0m\u001b[0mclone\u001b[0m\u001b[0;34m(\u001b[0m\u001b[0;34m)\u001b[0m\u001b[0;34m:\u001b[0m\u001b[0;34m\u001b[0m\u001b[0;34m\u001b[0m\u001b[0m\n\u001b[0;32m---> 27\u001b[0;31m                 \u001b[0;32mreturn\u001b[0m \u001b[0mfunc\u001b[0m\u001b[0;34m(\u001b[0m\u001b[0;34m*\u001b[0m\u001b[0margs\u001b[0m\u001b[0;34m,\u001b[0m \u001b[0;34m**\u001b[0m\u001b[0mkwargs\u001b[0m\u001b[0;34m)\u001b[0m\u001b[0;34m\u001b[0m\u001b[0;34m\u001b[0m\u001b[0m\n\u001b[0m\u001b[1;32m     28\u001b[0m         \u001b[0;32mreturn\u001b[0m \u001b[0mcast\u001b[0m\u001b[0;34m(\u001b[0m\u001b[0mF\u001b[0m\u001b[0;34m,\u001b[0m \u001b[0mdecorate_context\u001b[0m\u001b[0;34m)\u001b[0m\u001b[0;34m\u001b[0m\u001b[0;34m\u001b[0m\u001b[0m\n",
      "\u001b[0;32m~/projects/ksh/Ensemble-Net/evaluate.py\u001b[0m in \u001b[0;36mevaluate\u001b[0;34m(net, dataloader, device, amp)\u001b[0m\n\u001b[1;32m     15\u001b[0m     \u001b[0;32mwith\u001b[0m \u001b[0mtorch\u001b[0m\u001b[0;34m.\u001b[0m\u001b[0mautocast\u001b[0m\u001b[0;34m(\u001b[0m\u001b[0mdevice\u001b[0m\u001b[0;34m.\u001b[0m\u001b[0mtype\u001b[0m \u001b[0;32mif\u001b[0m \u001b[0mdevice\u001b[0m\u001b[0;34m.\u001b[0m\u001b[0mtype\u001b[0m \u001b[0;34m!=\u001b[0m \u001b[0;34m'mps'\u001b[0m \u001b[0;32melse\u001b[0m \u001b[0;34m'cpu'\u001b[0m\u001b[0;34m,\u001b[0m \u001b[0menabled\u001b[0m\u001b[0;34m=\u001b[0m\u001b[0mamp\u001b[0m\u001b[0;34m)\u001b[0m\u001b[0;34m:\u001b[0m\u001b[0;34m\u001b[0m\u001b[0;34m\u001b[0m\u001b[0m\n\u001b[0;32m---> 16\u001b[0;31m         \u001b[0;32mfor\u001b[0m \u001b[0mbatch\u001b[0m \u001b[0;32min\u001b[0m \u001b[0mtqdm\u001b[0m\u001b[0;34m(\u001b[0m\u001b[0mdataloader\u001b[0m\u001b[0;34m,\u001b[0m \u001b[0mtotal\u001b[0m\u001b[0;34m=\u001b[0m\u001b[0mnum_val_batches\u001b[0m\u001b[0;34m,\u001b[0m \u001b[0mdesc\u001b[0m\u001b[0;34m=\u001b[0m\u001b[0;34m'Validation round'\u001b[0m\u001b[0;34m,\u001b[0m \u001b[0munit\u001b[0m\u001b[0;34m=\u001b[0m\u001b[0;34m'batch'\u001b[0m\u001b[0;34m,\u001b[0m \u001b[0mleave\u001b[0m\u001b[0;34m=\u001b[0m\u001b[0;32mFalse\u001b[0m\u001b[0;34m)\u001b[0m\u001b[0;34m:\u001b[0m\u001b[0;34m\u001b[0m\u001b[0;34m\u001b[0m\u001b[0m\n\u001b[0m\u001b[1;32m     17\u001b[0m             \u001b[0mimage\u001b[0m\u001b[0;34m,\u001b[0m \u001b[0mmask_true\u001b[0m \u001b[0;34m=\u001b[0m \u001b[0mbatch\u001b[0m\u001b[0;34m[\u001b[0m\u001b[0;34m'image'\u001b[0m\u001b[0;34m]\u001b[0m\u001b[0;34m,\u001b[0m \u001b[0mbatch\u001b[0m\u001b[0;34m[\u001b[0m\u001b[0;34m'mask'\u001b[0m\u001b[0;34m]\u001b[0m\u001b[0;34m\u001b[0m\u001b[0;34m\u001b[0m\u001b[0m\n",
      "\u001b[0;32m~/anaconda3/envs/ksh/lib/python3.7/site-packages/tqdm/std.py\u001b[0m in \u001b[0;36m__iter__\u001b[0;34m(self)\u001b[0m\n\u001b[1;32m   1181\u001b[0m         \u001b[0;32mtry\u001b[0m\u001b[0;34m:\u001b[0m\u001b[0;34m\u001b[0m\u001b[0;34m\u001b[0m\u001b[0m\n\u001b[0;32m-> 1182\u001b[0;31m             \u001b[0;32mfor\u001b[0m \u001b[0mobj\u001b[0m \u001b[0;32min\u001b[0m \u001b[0miterable\u001b[0m\u001b[0;34m:\u001b[0m\u001b[0;34m\u001b[0m\u001b[0;34m\u001b[0m\u001b[0m\n\u001b[0m\u001b[1;32m   1183\u001b[0m                 \u001b[0;32myield\u001b[0m \u001b[0mobj\u001b[0m\u001b[0;34m\u001b[0m\u001b[0;34m\u001b[0m\u001b[0m\n",
      "\u001b[0;32m~/anaconda3/envs/ksh/lib/python3.7/site-packages/torch/utils/data/dataloader.py\u001b[0m in \u001b[0;36m__next__\u001b[0;34m(self)\u001b[0m\n\u001b[1;32m    627\u001b[0m                 \u001b[0mself\u001b[0m\u001b[0;34m.\u001b[0m\u001b[0m_reset\u001b[0m\u001b[0;34m(\u001b[0m\u001b[0;34m)\u001b[0m  \u001b[0;31m# type: ignore[call-arg]\u001b[0m\u001b[0;34m\u001b[0m\u001b[0;34m\u001b[0m\u001b[0m\n\u001b[0;32m--> 628\u001b[0;31m             \u001b[0mdata\u001b[0m \u001b[0;34m=\u001b[0m \u001b[0mself\u001b[0m\u001b[0;34m.\u001b[0m\u001b[0m_next_data\u001b[0m\u001b[0;34m(\u001b[0m\u001b[0;34m)\u001b[0m\u001b[0;34m\u001b[0m\u001b[0;34m\u001b[0m\u001b[0m\n\u001b[0m\u001b[1;32m    629\u001b[0m             \u001b[0mself\u001b[0m\u001b[0;34m.\u001b[0m\u001b[0m_num_yielded\u001b[0m \u001b[0;34m+=\u001b[0m \u001b[0;36m1\u001b[0m\u001b[0;34m\u001b[0m\u001b[0;34m\u001b[0m\u001b[0m\n",
      "\u001b[0;32m~/anaconda3/envs/ksh/lib/python3.7/site-packages/torch/utils/data/dataloader.py\u001b[0m in \u001b[0;36m_next_data\u001b[0;34m(self)\u001b[0m\n\u001b[1;32m   1315\u001b[0m             \u001b[0;32massert\u001b[0m \u001b[0;32mnot\u001b[0m \u001b[0mself\u001b[0m\u001b[0;34m.\u001b[0m\u001b[0m_shutdown\u001b[0m \u001b[0;32mand\u001b[0m \u001b[0mself\u001b[0m\u001b[0;34m.\u001b[0m\u001b[0m_tasks_outstanding\u001b[0m \u001b[0;34m>\u001b[0m \u001b[0;36m0\u001b[0m\u001b[0;34m\u001b[0m\u001b[0;34m\u001b[0m\u001b[0m\n\u001b[0;32m-> 1316\u001b[0;31m             \u001b[0midx\u001b[0m\u001b[0;34m,\u001b[0m \u001b[0mdata\u001b[0m \u001b[0;34m=\u001b[0m \u001b[0mself\u001b[0m\u001b[0;34m.\u001b[0m\u001b[0m_get_data\u001b[0m\u001b[0;34m(\u001b[0m\u001b[0;34m)\u001b[0m\u001b[0;34m\u001b[0m\u001b[0;34m\u001b[0m\u001b[0m\n\u001b[0m\u001b[1;32m   1317\u001b[0m             \u001b[0mself\u001b[0m\u001b[0;34m.\u001b[0m\u001b[0m_tasks_outstanding\u001b[0m \u001b[0;34m-=\u001b[0m \u001b[0;36m1\u001b[0m\u001b[0;34m\u001b[0m\u001b[0;34m\u001b[0m\u001b[0m\n",
      "\u001b[0;32m~/anaconda3/envs/ksh/lib/python3.7/site-packages/torch/utils/data/dataloader.py\u001b[0m in \u001b[0;36m_get_data\u001b[0;34m(self)\u001b[0m\n\u001b[1;32m   1281\u001b[0m             \u001b[0;32mwhile\u001b[0m \u001b[0;32mTrue\u001b[0m\u001b[0;34m:\u001b[0m\u001b[0;34m\u001b[0m\u001b[0;34m\u001b[0m\u001b[0m\n\u001b[0;32m-> 1282\u001b[0;31m                 \u001b[0msuccess\u001b[0m\u001b[0;34m,\u001b[0m \u001b[0mdata\u001b[0m \u001b[0;34m=\u001b[0m \u001b[0mself\u001b[0m\u001b[0;34m.\u001b[0m\u001b[0m_try_get_data\u001b[0m\u001b[0;34m(\u001b[0m\u001b[0;34m)\u001b[0m\u001b[0;34m\u001b[0m\u001b[0;34m\u001b[0m\u001b[0m\n\u001b[0m\u001b[1;32m   1283\u001b[0m                 \u001b[0;32mif\u001b[0m \u001b[0msuccess\u001b[0m\u001b[0;34m:\u001b[0m\u001b[0;34m\u001b[0m\u001b[0;34m\u001b[0m\u001b[0m\n",
      "\u001b[0;32m~/anaconda3/envs/ksh/lib/python3.7/site-packages/torch/utils/data/dataloader.py\u001b[0m in \u001b[0;36m_try_get_data\u001b[0;34m(self, timeout)\u001b[0m\n\u001b[1;32m   1119\u001b[0m         \u001b[0;32mtry\u001b[0m\u001b[0;34m:\u001b[0m\u001b[0;34m\u001b[0m\u001b[0;34m\u001b[0m\u001b[0m\n\u001b[0;32m-> 1120\u001b[0;31m             \u001b[0mdata\u001b[0m \u001b[0;34m=\u001b[0m \u001b[0mself\u001b[0m\u001b[0;34m.\u001b[0m\u001b[0m_data_queue\u001b[0m\u001b[0;34m.\u001b[0m\u001b[0mget\u001b[0m\u001b[0;34m(\u001b[0m\u001b[0mtimeout\u001b[0m\u001b[0;34m=\u001b[0m\u001b[0mtimeout\u001b[0m\u001b[0;34m)\u001b[0m\u001b[0;34m\u001b[0m\u001b[0;34m\u001b[0m\u001b[0m\n\u001b[0m\u001b[1;32m   1121\u001b[0m             \u001b[0;32mreturn\u001b[0m \u001b[0;34m(\u001b[0m\u001b[0;32mTrue\u001b[0m\u001b[0;34m,\u001b[0m \u001b[0mdata\u001b[0m\u001b[0;34m)\u001b[0m\u001b[0;34m\u001b[0m\u001b[0;34m\u001b[0m\u001b[0m\n",
      "\u001b[0;32m~/anaconda3/envs/ksh/lib/python3.7/multiprocessing/queues.py\u001b[0m in \u001b[0;36mget\u001b[0;34m(self, block, timeout)\u001b[0m\n\u001b[1;32m    103\u001b[0m                     \u001b[0mtimeout\u001b[0m \u001b[0;34m=\u001b[0m \u001b[0mdeadline\u001b[0m \u001b[0;34m-\u001b[0m \u001b[0mtime\u001b[0m\u001b[0;34m.\u001b[0m\u001b[0mmonotonic\u001b[0m\u001b[0;34m(\u001b[0m\u001b[0;34m)\u001b[0m\u001b[0;34m\u001b[0m\u001b[0;34m\u001b[0m\u001b[0m\n\u001b[0;32m--> 104\u001b[0;31m                     \u001b[0;32mif\u001b[0m \u001b[0;32mnot\u001b[0m \u001b[0mself\u001b[0m\u001b[0;34m.\u001b[0m\u001b[0m_poll\u001b[0m\u001b[0;34m(\u001b[0m\u001b[0mtimeout\u001b[0m\u001b[0;34m)\u001b[0m\u001b[0;34m:\u001b[0m\u001b[0;34m\u001b[0m\u001b[0;34m\u001b[0m\u001b[0m\n\u001b[0m\u001b[1;32m    105\u001b[0m                         \u001b[0;32mraise\u001b[0m \u001b[0mEmpty\u001b[0m\u001b[0;34m\u001b[0m\u001b[0;34m\u001b[0m\u001b[0m\n",
      "\u001b[0;32m~/anaconda3/envs/ksh/lib/python3.7/multiprocessing/connection.py\u001b[0m in \u001b[0;36mpoll\u001b[0;34m(self, timeout)\u001b[0m\n\u001b[1;32m    256\u001b[0m         \u001b[0mself\u001b[0m\u001b[0;34m.\u001b[0m\u001b[0m_check_readable\u001b[0m\u001b[0;34m(\u001b[0m\u001b[0;34m)\u001b[0m\u001b[0;34m\u001b[0m\u001b[0;34m\u001b[0m\u001b[0m\n\u001b[0;32m--> 257\u001b[0;31m         \u001b[0;32mreturn\u001b[0m \u001b[0mself\u001b[0m\u001b[0;34m.\u001b[0m\u001b[0m_poll\u001b[0m\u001b[0;34m(\u001b[0m\u001b[0mtimeout\u001b[0m\u001b[0;34m)\u001b[0m\u001b[0;34m\u001b[0m\u001b[0;34m\u001b[0m\u001b[0m\n\u001b[0m\u001b[1;32m    258\u001b[0m \u001b[0;34m\u001b[0m\u001b[0m\n",
      "\u001b[0;32m~/anaconda3/envs/ksh/lib/python3.7/multiprocessing/connection.py\u001b[0m in \u001b[0;36m_poll\u001b[0;34m(self, timeout)\u001b[0m\n\u001b[1;32m    413\u001b[0m     \u001b[0;32mdef\u001b[0m \u001b[0m_poll\u001b[0m\u001b[0;34m(\u001b[0m\u001b[0mself\u001b[0m\u001b[0;34m,\u001b[0m \u001b[0mtimeout\u001b[0m\u001b[0;34m)\u001b[0m\u001b[0;34m:\u001b[0m\u001b[0;34m\u001b[0m\u001b[0;34m\u001b[0m\u001b[0m\n\u001b[0;32m--> 414\u001b[0;31m         \u001b[0mr\u001b[0m \u001b[0;34m=\u001b[0m \u001b[0mwait\u001b[0m\u001b[0;34m(\u001b[0m\u001b[0;34m[\u001b[0m\u001b[0mself\u001b[0m\u001b[0;34m]\u001b[0m\u001b[0;34m,\u001b[0m \u001b[0mtimeout\u001b[0m\u001b[0;34m)\u001b[0m\u001b[0;34m\u001b[0m\u001b[0;34m\u001b[0m\u001b[0m\n\u001b[0m\u001b[1;32m    415\u001b[0m         \u001b[0;32mreturn\u001b[0m \u001b[0mbool\u001b[0m\u001b[0;34m(\u001b[0m\u001b[0mr\u001b[0m\u001b[0;34m)\u001b[0m\u001b[0;34m\u001b[0m\u001b[0;34m\u001b[0m\u001b[0m\n",
      "\u001b[0;32m~/anaconda3/envs/ksh/lib/python3.7/multiprocessing/connection.py\u001b[0m in \u001b[0;36mwait\u001b[0;34m(object_list, timeout)\u001b[0m\n\u001b[1;32m    920\u001b[0m             \u001b[0;32mwhile\u001b[0m \u001b[0;32mTrue\u001b[0m\u001b[0;34m:\u001b[0m\u001b[0;34m\u001b[0m\u001b[0;34m\u001b[0m\u001b[0m\n\u001b[0;32m--> 921\u001b[0;31m                 \u001b[0mready\u001b[0m \u001b[0;34m=\u001b[0m \u001b[0mselector\u001b[0m\u001b[0;34m.\u001b[0m\u001b[0mselect\u001b[0m\u001b[0;34m(\u001b[0m\u001b[0mtimeout\u001b[0m\u001b[0;34m)\u001b[0m\u001b[0;34m\u001b[0m\u001b[0;34m\u001b[0m\u001b[0m\n\u001b[0m\u001b[1;32m    922\u001b[0m                 \u001b[0;32mif\u001b[0m \u001b[0mready\u001b[0m\u001b[0;34m:\u001b[0m\u001b[0;34m\u001b[0m\u001b[0;34m\u001b[0m\u001b[0m\n",
      "\u001b[0;32m~/anaconda3/envs/ksh/lib/python3.7/selectors.py\u001b[0m in \u001b[0;36mselect\u001b[0;34m(self, timeout)\u001b[0m\n\u001b[1;32m    414\u001b[0m         \u001b[0;32mtry\u001b[0m\u001b[0;34m:\u001b[0m\u001b[0;34m\u001b[0m\u001b[0;34m\u001b[0m\u001b[0m\n\u001b[0;32m--> 415\u001b[0;31m             \u001b[0mfd_event_list\u001b[0m \u001b[0;34m=\u001b[0m \u001b[0mself\u001b[0m\u001b[0;34m.\u001b[0m\u001b[0m_selector\u001b[0m\u001b[0;34m.\u001b[0m\u001b[0mpoll\u001b[0m\u001b[0;34m(\u001b[0m\u001b[0mtimeout\u001b[0m\u001b[0;34m)\u001b[0m\u001b[0;34m\u001b[0m\u001b[0;34m\u001b[0m\u001b[0m\n\u001b[0m\u001b[1;32m    416\u001b[0m         \u001b[0;32mexcept\u001b[0m \u001b[0mInterruptedError\u001b[0m\u001b[0;34m:\u001b[0m\u001b[0;34m\u001b[0m\u001b[0;34m\u001b[0m\u001b[0m\n",
      "\u001b[0;31mKeyboardInterrupt\u001b[0m: ",
      "\nDuring handling of the above exception, another exception occurred:\n",
      "\u001b[0;31mAttributeError\u001b[0m                            Traceback (most recent call last)",
      "\u001b[0;32m~/anaconda3/envs/ksh/lib/python3.7/site-packages/IPython/core/interactiveshell.py\u001b[0m in \u001b[0;36mshowtraceback\u001b[0;34m(self, exc_tuple, filename, tb_offset, exception_only, running_compiled_code)\u001b[0m\n\u001b[1;32m   2076\u001b[0m                         \u001b[0;31m# in the engines. This should return a list of strings.\u001b[0m\u001b[0;34m\u001b[0m\u001b[0;34m\u001b[0m\u001b[0;34m\u001b[0m\u001b[0m\n\u001b[0;32m-> 2077\u001b[0;31m                         \u001b[0mstb\u001b[0m \u001b[0;34m=\u001b[0m \u001b[0mvalue\u001b[0m\u001b[0;34m.\u001b[0m\u001b[0m_render_traceback_\u001b[0m\u001b[0;34m(\u001b[0m\u001b[0;34m)\u001b[0m\u001b[0;34m\u001b[0m\u001b[0;34m\u001b[0m\u001b[0m\n\u001b[0m\u001b[1;32m   2078\u001b[0m                     \u001b[0;32mexcept\u001b[0m \u001b[0mException\u001b[0m\u001b[0;34m:\u001b[0m\u001b[0;34m\u001b[0m\u001b[0;34m\u001b[0m\u001b[0m\n",
      "\u001b[0;31mAttributeError\u001b[0m: 'KeyboardInterrupt' object has no attribute '_render_traceback_'",
      "\nDuring handling of the above exception, another exception occurred:\n",
      "\u001b[0;31mTypeError\u001b[0m                                 Traceback (most recent call last)",
      "    \u001b[0;31m[... skipping hidden 1 frame]\u001b[0m\n",
      "\u001b[0;32m~/anaconda3/envs/ksh/lib/python3.7/site-packages/IPython/core/interactiveshell.py\u001b[0m in \u001b[0;36mshowtraceback\u001b[0;34m(self, exc_tuple, filename, tb_offset, exception_only, running_compiled_code)\u001b[0m\n\u001b[1;32m   2078\u001b[0m                     \u001b[0;32mexcept\u001b[0m \u001b[0mException\u001b[0m\u001b[0;34m:\u001b[0m\u001b[0;34m\u001b[0m\u001b[0;34m\u001b[0m\u001b[0m\n\u001b[1;32m   2079\u001b[0m                         stb = self.InteractiveTB.structured_traceback(etype,\n\u001b[0;32m-> 2080\u001b[0;31m                                             value, tb, tb_offset=tb_offset)\n\u001b[0m\u001b[1;32m   2081\u001b[0m \u001b[0;34m\u001b[0m\u001b[0m\n\u001b[1;32m   2082\u001b[0m                     \u001b[0mself\u001b[0m\u001b[0;34m.\u001b[0m\u001b[0m_showtraceback\u001b[0m\u001b[0;34m(\u001b[0m\u001b[0metype\u001b[0m\u001b[0;34m,\u001b[0m \u001b[0mvalue\u001b[0m\u001b[0;34m,\u001b[0m \u001b[0mstb\u001b[0m\u001b[0;34m)\u001b[0m\u001b[0;34m\u001b[0m\u001b[0;34m\u001b[0m\u001b[0m\n",
      "\u001b[0;32m~/anaconda3/envs/ksh/lib/python3.7/site-packages/IPython/core/ultratb.py\u001b[0m in \u001b[0;36mstructured_traceback\u001b[0;34m(self, etype, value, tb, tb_offset, number_of_lines_of_context)\u001b[0m\n\u001b[1;32m   1366\u001b[0m             \u001b[0mself\u001b[0m\u001b[0;34m.\u001b[0m\u001b[0mtb\u001b[0m \u001b[0;34m=\u001b[0m \u001b[0mtb\u001b[0m\u001b[0;34m\u001b[0m\u001b[0;34m\u001b[0m\u001b[0m\n\u001b[1;32m   1367\u001b[0m         return FormattedTB.structured_traceback(\n\u001b[0;32m-> 1368\u001b[0;31m             self, etype, value, tb, tb_offset, number_of_lines_of_context)\n\u001b[0m\u001b[1;32m   1369\u001b[0m \u001b[0;34m\u001b[0m\u001b[0m\n\u001b[1;32m   1370\u001b[0m \u001b[0;34m\u001b[0m\u001b[0m\n",
      "\u001b[0;32m~/anaconda3/envs/ksh/lib/python3.7/site-packages/IPython/core/ultratb.py\u001b[0m in \u001b[0;36mstructured_traceback\u001b[0;34m(self, etype, value, tb, tb_offset, number_of_lines_of_context)\u001b[0m\n\u001b[1;32m   1266\u001b[0m             \u001b[0;31m# Verbose modes need a full traceback\u001b[0m\u001b[0;34m\u001b[0m\u001b[0;34m\u001b[0m\u001b[0;34m\u001b[0m\u001b[0m\n\u001b[1;32m   1267\u001b[0m             return VerboseTB.structured_traceback(\n\u001b[0;32m-> 1268\u001b[0;31m                 \u001b[0mself\u001b[0m\u001b[0;34m,\u001b[0m \u001b[0metype\u001b[0m\u001b[0;34m,\u001b[0m \u001b[0mvalue\u001b[0m\u001b[0;34m,\u001b[0m \u001b[0mtb\u001b[0m\u001b[0;34m,\u001b[0m \u001b[0mtb_offset\u001b[0m\u001b[0;34m,\u001b[0m \u001b[0mnumber_of_lines_of_context\u001b[0m\u001b[0;34m\u001b[0m\u001b[0;34m\u001b[0m\u001b[0m\n\u001b[0m\u001b[1;32m   1269\u001b[0m             )\n\u001b[1;32m   1270\u001b[0m         \u001b[0;32melif\u001b[0m \u001b[0mmode\u001b[0m \u001b[0;34m==\u001b[0m \u001b[0;34m'Minimal'\u001b[0m\u001b[0;34m:\u001b[0m\u001b[0;34m\u001b[0m\u001b[0;34m\u001b[0m\u001b[0m\n",
      "\u001b[0;32m~/anaconda3/envs/ksh/lib/python3.7/site-packages/IPython/core/ultratb.py\u001b[0m in \u001b[0;36mstructured_traceback\u001b[0;34m(self, etype, evalue, etb, tb_offset, number_of_lines_of_context)\u001b[0m\n\u001b[1;32m   1123\u001b[0m \u001b[0;34m\u001b[0m\u001b[0m\n\u001b[1;32m   1124\u001b[0m         formatted_exception = self.format_exception_as_a_whole(etype, evalue, etb, number_of_lines_of_context,\n\u001b[0;32m-> 1125\u001b[0;31m                                                                tb_offset)\n\u001b[0m\u001b[1;32m   1126\u001b[0m \u001b[0;34m\u001b[0m\u001b[0m\n\u001b[1;32m   1127\u001b[0m         \u001b[0mcolors\u001b[0m \u001b[0;34m=\u001b[0m \u001b[0mself\u001b[0m\u001b[0;34m.\u001b[0m\u001b[0mColors\u001b[0m  \u001b[0;31m# just a shorthand + quicker name lookup\u001b[0m\u001b[0;34m\u001b[0m\u001b[0;34m\u001b[0m\u001b[0m\n",
      "\u001b[0;32m~/anaconda3/envs/ksh/lib/python3.7/site-packages/IPython/core/ultratb.py\u001b[0m in \u001b[0;36mformat_exception_as_a_whole\u001b[0;34m(self, etype, evalue, etb, number_of_lines_of_context, tb_offset)\u001b[0m\n\u001b[1;32m   1080\u001b[0m \u001b[0;34m\u001b[0m\u001b[0m\n\u001b[1;32m   1081\u001b[0m \u001b[0;34m\u001b[0m\u001b[0m\n\u001b[0;32m-> 1082\u001b[0;31m         \u001b[0mlast_unique\u001b[0m\u001b[0;34m,\u001b[0m \u001b[0mrecursion_repeat\u001b[0m \u001b[0;34m=\u001b[0m \u001b[0mfind_recursion\u001b[0m\u001b[0;34m(\u001b[0m\u001b[0morig_etype\u001b[0m\u001b[0;34m,\u001b[0m \u001b[0mevalue\u001b[0m\u001b[0;34m,\u001b[0m \u001b[0mrecords\u001b[0m\u001b[0;34m)\u001b[0m\u001b[0;34m\u001b[0m\u001b[0;34m\u001b[0m\u001b[0m\n\u001b[0m\u001b[1;32m   1083\u001b[0m \u001b[0;34m\u001b[0m\u001b[0m\n\u001b[1;32m   1084\u001b[0m         \u001b[0mframes\u001b[0m \u001b[0;34m=\u001b[0m \u001b[0mself\u001b[0m\u001b[0;34m.\u001b[0m\u001b[0mformat_records\u001b[0m\u001b[0;34m(\u001b[0m\u001b[0mrecords\u001b[0m\u001b[0;34m,\u001b[0m \u001b[0mlast_unique\u001b[0m\u001b[0;34m,\u001b[0m \u001b[0mrecursion_repeat\u001b[0m\u001b[0;34m)\u001b[0m\u001b[0;34m\u001b[0m\u001b[0;34m\u001b[0m\u001b[0m\n",
      "\u001b[0;32m~/anaconda3/envs/ksh/lib/python3.7/site-packages/IPython/core/ultratb.py\u001b[0m in \u001b[0;36mfind_recursion\u001b[0;34m(etype, value, records)\u001b[0m\n\u001b[1;32m    380\u001b[0m     \u001b[0;31m# first frame (from in to out) that looks different.\u001b[0m\u001b[0;34m\u001b[0m\u001b[0;34m\u001b[0m\u001b[0;34m\u001b[0m\u001b[0m\n\u001b[1;32m    381\u001b[0m     \u001b[0;32mif\u001b[0m \u001b[0;32mnot\u001b[0m \u001b[0mis_recursion_error\u001b[0m\u001b[0;34m(\u001b[0m\u001b[0metype\u001b[0m\u001b[0;34m,\u001b[0m \u001b[0mvalue\u001b[0m\u001b[0;34m,\u001b[0m \u001b[0mrecords\u001b[0m\u001b[0;34m)\u001b[0m\u001b[0;34m:\u001b[0m\u001b[0;34m\u001b[0m\u001b[0;34m\u001b[0m\u001b[0m\n\u001b[0;32m--> 382\u001b[0;31m         \u001b[0;32mreturn\u001b[0m \u001b[0mlen\u001b[0m\u001b[0;34m(\u001b[0m\u001b[0mrecords\u001b[0m\u001b[0;34m)\u001b[0m\u001b[0;34m,\u001b[0m \u001b[0;36m0\u001b[0m\u001b[0;34m\u001b[0m\u001b[0;34m\u001b[0m\u001b[0m\n\u001b[0m\u001b[1;32m    383\u001b[0m \u001b[0;34m\u001b[0m\u001b[0m\n\u001b[1;32m    384\u001b[0m     \u001b[0;31m# Select filename, lineno, func_name to track frames with\u001b[0m\u001b[0;34m\u001b[0m\u001b[0;34m\u001b[0m\u001b[0;34m\u001b[0m\u001b[0m\n",
      "\u001b[0;31mTypeError\u001b[0m: object of type 'NoneType' has no len()"
     ]
    }
   ],
   "source": [
    "# 5. Begin training\n",
    "for epoch in range(1, epochs + 1):\n",
    "    model.train()\n",
    "    epoch_loss = 0\n",
    "    with tqdm(total=n_train, desc=f'Epoch {epoch}/{epochs}', unit='img') as pbar:\n",
    "        for batch in train_loader:\n",
    "            images, true_masks = batch['image'], batch['mask']\n",
    "\n",
    "            images = images.to(device=device, dtype=torch.float32, memory_format=torch.channels_last)\n",
    "            true_masks = true_masks.to(device=device, dtype=torch.long)\n",
    "\n",
    "            with torch.autocast(device.type if device.type != 'mps' else 'cpu', enabled=amp):\n",
    "                #masks_pred, masks_pred2 = model(images)\n",
    "                masks_pred = model(images)\n",
    "                \n",
    "                if model.n_classes == 1:\n",
    "                #if model.unet.n_classes == 1:    \n",
    "                    loss = criterion(masks_pred.squeeze(1), true_masks.float())\n",
    "                    loss += dice_loss(F.sigmoid(masks_pred.squeeze(1)), true_masks.float(), multiclass=False)\n",
    "                else:\n",
    "                    loss = criterion(masks_pred, true_masks)\n",
    "                    loss += dice_loss(\n",
    "                        F.softmax(masks_pred, dim=1).float(),\n",
    "                        F.one_hot(true_masks, model.n_classes).permute(0, 3, 1, 2).float(),\n",
    "                        #F.one_hot(true_masks, model.unet.n_classes).permute(0, 3, 1, 2).float(),\n",
    "                        multiclass=True\n",
    "                    )\n",
    "\n",
    "            optimizer.zero_grad(set_to_none=True)\n",
    "            grad_scaler.scale(loss).backward()\n",
    "            torch.nn.utils.clip_grad_norm_(model.parameters(), Gradient_Clipping)\n",
    "            grad_scaler.step(optimizer)\n",
    "            grad_scaler.update()\n",
    "\n",
    "            pbar.update(images.shape[0])\n",
    "            global_step += 1\n",
    "            epoch_loss += loss.item()\n",
    "\n",
    "\n",
    "            # Evaluation round\n",
    "            division_step = (n_train // (5 * batch_size))\n",
    "            if division_step > 0:\n",
    "                if global_step % division_step == 0:\n",
    "\n",
    "                    val_score = evaluate(model, val_loader, device, amp)\n",
    "                    \n",
    "                    scheduler.step(val_score)\n",
    "\n",
    "                    #logging.info('Validation Dice score: {}'.format(val_score))\n",
    "                    print('Validation Dice score: {}'.format(val_score))\n",
    "                    \n",
    "    if save_checkpoint:\n",
    "        Path(dir_checkpoint).mkdir(parents=True, exist_ok=True)\n",
    "        torch.save(model.state_dict(), str(dir_checkpoint / 'checkpoint_epoch{}.pth'.format(epoch + 1)))"
   ]
  },
  {
   "cell_type": "code",
   "execution_count": null,
   "id": "b9f2b815-74db-4b42-8ec1-7ffd724702c3",
   "metadata": {},
   "outputs": [],
   "source": [
    "masks_pred.shape"
   ]
  },
  {
   "cell_type": "code",
   "execution_count": 14,
   "id": "1e27cbf1-4812-4fab-87ac-28b7f19696ea",
   "metadata": {},
   "outputs": [
    {
     "data": {
      "text/plain": [
       "torch.Size([31, 192, 608])"
      ]
     },
     "execution_count": 14,
     "metadata": {},
     "output_type": "execute_result"
    }
   ],
   "source": [
    "masks_pred[0].shape"
   ]
  },
  {
   "cell_type": "code",
   "execution_count": null,
   "id": "fc8fd1d9-8443-4af6-882a-8c580aba05f4",
   "metadata": {},
   "outputs": [],
   "source": []
  }
 ],
 "metadata": {
  "kernelspec": {
   "display_name": "ksh",
   "language": "python",
   "name": "ksh"
  },
  "language_info": {
   "codemirror_mode": {
    "name": "ipython",
    "version": 3
   },
   "file_extension": ".py",
   "mimetype": "text/x-python",
   "name": "python",
   "nbconvert_exporter": "python",
   "pygments_lexer": "ipython3",
   "version": "3.7.16"
  }
 },
 "nbformat": 4,
 "nbformat_minor": 5
}
