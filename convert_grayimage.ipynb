{
 "cells": [
  {
   "cell_type": "code",
   "execution_count": 17,
   "id": "d66cdb40-da9d-485b-bce5-b36fc765f57c",
   "metadata": {},
   "outputs": [],
   "source": [
    "import numpy as np\n",
    "from pathlib import Path\n",
    "from PIL import Image\n",
    "import os"
   ]
  },
  {
   "cell_type": "code",
   "execution_count": 18,
   "id": "77a68dc4-ac88-4017-a1c6-d24201e4b791",
   "metadata": {},
   "outputs": [],
   "source": [
    "Old_Mask_Path =  'data/data_road/training/gt_image_2'\n",
    "Save_Mask_Path = 'data/data_road/training/semantic'"
   ]
  },
  {
   "cell_type": "code",
   "execution_count": 19,
   "id": "a3561194-5863-48d9-93ab-6e08971f836b",
   "metadata": {},
   "outputs": [],
   "source": [
    "filelist = os.listdir(Old_Mask_Path)"
   ]
  },
  {
   "cell_type": "code",
   "execution_count": 20,
   "id": "52511f35-104c-44f0-82d8-781ec680e7c2",
   "metadata": {},
   "outputs": [],
   "source": [
    "filelist = [item for item in filelist if '.png' in item]"
   ]
  },
  {
   "cell_type": "code",
   "execution_count": 21,
   "id": "805a43e4-e205-4635-9cad-ee71a3e8ce3a",
   "metadata": {},
   "outputs": [],
   "source": [
    "def createFolder(directory):\n",
    "    try:\n",
    "        if not os.path.exists(directory):\n",
    "            os.makedirs(directory)\n",
    "    except OSError:\n",
    "        print('dd')"
   ]
  },
  {
   "cell_type": "code",
   "execution_count": 22,
   "id": "623514ed-5008-4dbe-b126-62281590c822",
   "metadata": {},
   "outputs": [],
   "source": [
    "createFolder(Save_Mask_Path)"
   ]
  },
  {
   "cell_type": "code",
   "execution_count": 23,
   "id": "ccd16e02-e2bb-4903-9f6c-5c06a7195aec",
   "metadata": {},
   "outputs": [],
   "source": [
    "threshold = 0\n",
    "for qwer in range(len(filelist)):\n",
    "    dd = Image.open(Old_Mask_Path + '/' + filelist[qwer])\n",
    "    dd2 = np.array(dd)\n",
    "    dd2[:,:,0] = 0\n",
    "    dd2 = Image.fromarray(dd2)\n",
    "    image_file = dd2.convert('L')\n",
    "    image_file = image_file.point( lambda p: 255 if p > threshold else 0 )\n",
    "    image_file.save(Save_Mask_Path + '/' + filelist[qwer].split('_')[0] + '_' + filelist[qwer].split('_')[2])"
   ]
  },
  {
   "cell_type": "code",
   "execution_count": 8,
   "id": "6a4c0d85-5bc0-490c-9dbf-82e839389958",
   "metadata": {},
   "outputs": [
    {
     "data": {
      "image/png": "[encoded data removed]",
      "text/plain": [
       "<PIL.PngImagePlugin.PngImageFile image mode=RGB size=1242x375>"
      ]
     },
     "execution_count": 8,
     "metadata": {},
     "output_type": "execute_result"
    }
   ],
   "source": [
    "dd"
   ]
  },
  {
   "cell_type": "code",
   "execution_count": 9,
   "id": "2c8315bf-144d-4f43-b3db-2bf5e2cad9de",
   "metadata": {},
   "outputs": [
    {
     "data": {
      "text/plain": [
       "array([  0, 255], dtype=uint8)"
      ]
     },
     "execution_count": 9,
     "metadata": {},
     "output_type": "execute_result"
    }
   ],
   "source": [
    "np.unique(np.array(dd))"
   ]
  },
  {
   "cell_type": "code",
   "execution_count": 12,
   "id": "904652fc-e647-43e4-8f43-9831d1ec2418",
   "metadata": {},
   "outputs": [],
   "source": [
    "dd2 = dd.convert('L')"
   ]
  },
  {
   "cell_type": "code",
   "execution_count": 13,
   "id": "feb8e626-40ce-4ed4-981d-799908e0c5a1",
   "metadata": {},
   "outputs": [
    {
     "data": {
      "image/png": "[encoded data removed]",
      "text/plain": [
       "<PIL.Image.Image image mode=L size=1242x375>"
      ]
     },
     "execution_count": 13,
     "metadata": {},
     "output_type": "execute_result"
    }
   ],
   "source": [
    "dd2"
   ]
  },
  {
   "cell_type": "code",
   "execution_count": 14,
   "id": "73287fb8-342a-419a-937e-16128dbeb4fc",
   "metadata": {},
   "outputs": [
    {
     "data": {
      "text/plain": [
       "array([  0,  76, 105], dtype=uint8)"
      ]
     },
     "execution_count": 14,
     "metadata": {},
     "output_type": "execute_result"
    }
   ],
   "source": [
    "np.unique(np.array(dd2))"
   ]
  },
  {
   "cell_type": "code",
   "execution_count": null,
   "id": "04cb1a3a-4de7-4251-95fd-97c77a7685c3",
   "metadata": {},
   "outputs": [],
   "source": []
  }
 ],
 "metadata": {
  "kernelspec": {
   "display_name": "ksh",
   "language": "python",
   "name": "ksh"
  },
  "language_info": {
   "codemirror_mode": {
    "name": "ipython",
    "version": 3
   },
   "file_extension": ".py",
   "mimetype": "text/x-python",
   "name": "python",
   "nbconvert_exporter": "python",
   "pygments_lexer": "ipython3",
   "version": "3.7.16"
  }
 },
 "nbformat": 4,
 "nbformat_minor": 5
}
