{
 "cells": [
  {
   "cell_type": "code",
   "execution_count": 1,
   "id": "5f271b9d-c9a3-41c5-a2e5-cd21dc79d5b6",
   "metadata": {
    "tags": []
   },
   "outputs": [],
   "source": [
    "import numpy as np\n",
    "from pathlib import Path\n",
    "from PIL import Image\n",
    "from torch.utils.data import DataLoader, random_split\n",
    "import torch\n",
    "from torch import optim\n",
    "import torch.nn as nn\n",
    "from tqdm import tqdm\n",
    "import torch.nn.functional as F\n",
    "import logging\n",
    "from evaluate import evaluate\n",
    "import os\n",
    "import albumentations as A\n",
    "from albumentations.pytorch import ToTensorV2\n",
    "from collections import OrderedDict\n",
    "\n",
    "#from model.unet.unet_model import UNet\n",
    "#from model.segnet.segnet_model import SegNet\n",
    "#from torchvision.models.segmentation import deeplabv3_resnet101 as DeepLabv3\n",
    "from model.ensemblenet_model import EnsembleNet\n",
    "\n",
    "\n",
    "from utils.dice_score import dice_loss\n",
    "from utils.data_load import KittiDataset\n",
    "from torchsummaryX import summary"
   ]
  },
  {
   "cell_type": "code",
   "execution_count": 2,
   "id": "64ae7ca9",
   "metadata": {
    "tags": []
   },
   "outputs": [],
   "source": [
    "Val_Percent = 0.3\n",
    "Scale_Percent = 1.0\n",
    "Batch_Size = 8\n",
    "learning_rate = 0.001\n",
    "Pin_Memory = False\n",
    "epochs = 10\n",
    "\n",
    "#Image_Size = [384, 1242]\n",
    "#Image_Size = [384, 1216]\n",
    "Image_Size = [384,384]\n",
    "Gradient_Clipping = 1.0\n",
    "\n",
    "#Num_Class = 31\n",
    "Num_Class = 200\n",
    "Num_Channel = 3\n",
    "amp = True\n",
    "\n",
    "#Img_Path =  'etc/training/image_2'\n",
    "#Mask_Path = 'etc/training/semantic'\n",
    "\n",
    "\n",
    "#Img_Path =  'data/train/images'\n",
    "#Mask_Path = 'data/train/labels'\n",
    "\n",
    "\n",
    "Img_Path_train =  'etc/train/images'\n",
    "Mask_Path_train = 'etc/train/masks'\n",
    "Img_Path_val =  'etc/validation/images'\n",
    "Mask_Path_val = 'etc/validation/masks'\n",
    "\n",
    "Img_Path_train =  'data/train/images'\n",
    "Mask_Path_train = 'data/train/labels'\n",
    "Img_Path_val =  'data/validation/images'\n",
    "Mask_Path_val = 'data/validation/labels'\n",
    "\n",
    "save_checkpoint = False\n",
    "checkpoint_dir = '../trained'\n",
    "batch_size = Batch_Size"
   ]
  },
  {
   "cell_type": "code",
   "execution_count": 3,
   "id": "567f8440",
   "metadata": {
    "tags": []
   },
   "outputs": [],
   "source": [
    "'''\n",
    "dirImg = Path(Img_Path)\n",
    "dirMask = Path(Mask_Path)\n",
    "'''\n",
    "\n",
    "\n",
    "dirImg_train = Path(Img_Path_train)\n",
    "dirMask_train = Path(Mask_Path_train)\n",
    "dirImg_val = Path(Img_Path_val)\n",
    "dirMask_val = Path(Mask_Path_val)\n",
    "\n",
    "dir_checkpoint = Path(checkpoint_dir)"
   ]
  },
  {
   "cell_type": "code",
   "execution_count": 4,
   "id": "d0ce9836-6236-45cd-912b-fe114f434c3a",
   "metadata": {},
   "outputs": [],
   "source": [
    "train_transform = A.Compose([\n",
    "        A.HorizontalFlip(p=0.5),\n",
    "        #A.VerticalFlip(p=0.5),\n",
    "        A.Rotate(limit=30, p=0.5),\n",
    "        #A.RandomBrightnessContrast(p=0.5),\n",
    "        #A.RandomGamma(p=0.5),\n",
    "        #A.RandomSnow(p=0.5),\n",
    "        #A.RandomRain(p=0.5),\n",
    "        #A.RandomFog(p=0.5),\n",
    "        #A.RandomSunFlare(p=0.5),\n",
    "        A.RandomShadow(p=0.5),\n",
    "        #A.RandomToneCurve(p=0.5),\n",
    "        #A.GaussNoise(p=0.5),\n",
    "        #A.Emboss(p=0.5),  # IAAEmboss 대신 Emboss 사용\n",
    "        #A.Perspective(p=0.5),  # IAAPerspective 대신 Perspective 사용\n",
    "        #A.CLAHE(p=0.5)\n",
    "])"
   ]
  },
  {
   "cell_type": "code",
   "execution_count": 5,
   "id": "8e8e3825-8747-4f49-b3ee-eac27522ded2",
   "metadata": {},
   "outputs": [],
   "source": [
    "device = torch.device('cuda' if torch.cuda.is_available() else 'cpu')"
   ]
  },
  {
   "cell_type": "markdown",
   "id": "441ccbda-4e66-4174-880e-f6a0c41a12e6",
   "metadata": {},
   "source": [
    "datasets =  KittiDataset(dirImg, dirMask, Image_Size, Scale_Percent)\n",
    "#datasets =  KittiDataset(dirImg, dirMask, Image_Size, Scale_Percent, train_transform)\n",
    "n_val = int(len(datasets) * Val_Percent)\n",
    "n_train = len(datasets) - n_val\n",
    "train_set, val_set = random_split(datasets, [n_train, n_val], generator=torch.Generator().manual_seed(0))\n",
    "\n",
    "loader_args = dict(batch_size=Batch_Size, num_workers= os.cpu_count(), pin_memory=Pin_Memory)\n",
    "train_loader = DataLoader(train_set, shuffle=True, drop_last = True, **loader_args)\n",
    "val_loader = DataLoader(val_set, shuffle=False, drop_last=True, **loader_args)"
   ]
  },
  {
   "cell_type": "code",
   "execution_count": 6,
   "id": "181797fe-006e-43ce-a660-6ad7642d2dfc",
   "metadata": {},
   "outputs": [
    {
     "name": "stderr",
     "output_type": "stream",
     "text": [
      "100%|███████████████████████████████████████████████████████████████████████████████████████████████████████████████████████████████████████████████████████████████████████████████████████████████████████████████████████████████████████████████████| 1464/1464 [00:00<00:00, 1563.29it/s]\n",
      "100%|███████████████████████████████████████████████████████████████████████████████████████████████████████████████████████████████████████████████████████████████████████████████████████████████████████████████████████████████████████████████████| 1449/1449 [00:00<00:00, 1587.26it/s]\n"
     ]
    }
   ],
   "source": [
    "dirImg_train = Path(Img_Path_train)\n",
    "dirMask_train = Path(Mask_Path_train)\n",
    "dirImg_val = Path(Img_Path_val)\n",
    "dirMask_val = Path(Mask_Path_val)\n",
    "\n",
    "dir_checkpoint = Path(checkpoint_dir)\n",
    "\n",
    "#train_datasets =  KittiDataset(dirImg_train, dirMask_train, Image_Size, 'train', Scale_Percent, transform = train_transform)\n",
    "train_datasets =  KittiDataset(dirImg_train, dirMask_train, Image_Size, 'train', Scale_Percent)\n",
    "val_datasets =  KittiDataset(dirImg_val, dirMask_val, Image_Size, 'validation', Scale_Percent)\n",
    "n_train = len(train_datasets)\n",
    "\n",
    "loader_args = dict(batch_size=Batch_Size, num_workers= os.cpu_count(), pin_memory=Pin_Memory)\n",
    "train_loader = DataLoader(train_datasets, shuffle=True, drop_last = True, **loader_args)\n",
    "val_loader = DataLoader(val_datasets, shuffle=False, drop_last=True, **loader_args)"
   ]
  },
  {
   "cell_type": "markdown",
   "id": "c05d6494-c2dd-488a-a98e-9ef460c5f696",
   "metadata": {
    "tags": []
   },
   "source": [
    "#datasets =  KittiDataset(dirImg, dirMask, Image_Size, Scale_Percent)\n",
    "#datasets =  KittiDataset(dirImg, dirMask, Image_Size, Scale_Percent, train_transform)\n",
    "n_val = int(len(datasets) * Val_Percent)\n",
    "n_train = len(datasets) - n_val\n",
    "train_set, val_set = random_split(datasets, [n_train, n_val], generator=torch.Generator().manual_seed(0))\n",
    "\n",
    "loader_args = dict(batch_size=Batch_Size, num_workers= os.cpu_count(), pin_memory=Pin_Memory)\n",
    "train_loader = DataLoader(train_set, shuffle=True, drop_last = True, collate_fn = cus_collate_fn, **loader_args)\n",
    "val_loader = DataLoader(val_set, shuffle=False, drop_last=True, **loader_args)"
   ]
  },
  {
   "cell_type": "code",
   "execution_count": 7,
   "id": "95b36f40-c709-4e1e-b4f6-66a1954edfd8",
   "metadata": {},
   "outputs": [],
   "source": [
    "model = EnsembleNet('unet', Num_Channel, Num_Class)\n",
    "model = model.to(memory_format=torch.channels_last, device = device)"
   ]
  },
  {
   "cell_type": "markdown",
   "id": "77f51af5-f1f6-4577-8816-5fbffdb58f06",
   "metadata": {},
   "source": [
    "summary(model, torch.zeros(2,3,384,1242).to(device))"
   ]
  },
  {
   "cell_type": "code",
   "execution_count": 8,
   "id": "d9d24b2e-565d-407a-aff4-3da09b454771",
   "metadata": {},
   "outputs": [],
   "source": [
    "# deeplab model output shape torch.Size([4, 31, 38, 124])"
   ]
  },
  {
   "cell_type": "code",
   "execution_count": 9,
   "id": "4a29bc96",
   "metadata": {
    "tags": []
   },
   "outputs": [],
   "source": [
    "# 4. Set up the optimizer, the loss, the learning rate scheduler and the loss scaling for AMP\n",
    "optimizer = optim.RMSprop(model.parameters(), lr=learning_rate, weight_decay=1e-8, momentum=0.9)\n",
    "#optimizer = optim.Adam(model.parameters(), lr=learning_rate, weight_decay=1e-8)\n",
    "scheduler = optim.lr_scheduler.ReduceLROnPlateau(optimizer, 'max', patience=2)  # goal: maximize Dice score\n",
    "grad_scaler = torch.cuda.amp.GradScaler(enabled=amp)\n",
    "criterion = nn.CrossEntropyLoss()\n",
    "global_step = 0"
   ]
  },
  {
   "cell_type": "code",
   "execution_count": null,
   "id": "639a20a9-360c-4dcf-aa23-cf25fbbeee64",
   "metadata": {},
   "outputs": [
    {
     "name": "stderr",
     "output_type": "stream",
     "text": [
      "Epoch 1/10:  20%|███████████████████████████████████████████████                                                                                                                                                                                          | 296/1464 [00:17<07:27,  2.61img/s]"
     ]
    },
    {
     "name": "stdout",
     "output_type": "stream",
     "text": [
      "Training Dice Loss: 2.404892683029175\n",
      "Validation Dice score: 0.992549479007721\n"
     ]
    },
    {
     "name": "stderr",
     "output_type": "stream",
     "text": [
      "Epoch 1/10:  40%|████████████████████████████████████████████████████████████████████████████████████████████▉                                                                                                                                            | 584/1464 [00:31<05:40,  2.58img/s]"
     ]
    },
    {
     "name": "stdout",
     "output_type": "stream",
     "text": [
      "Training Dice Loss: 1.9007210731506348\n",
      "Validation Dice score: 0.992549479007721\n"
     ]
    },
    {
     "name": "stderr",
     "output_type": "stream",
     "text": [
      "Epoch 1/10:  59%|█████████████████████████████████████████████████████████████████████████████████████████████████████████████████████████████████████████▌                                                                                               | 864/1464 [00:35<00:08, 70.78img/s]"
     ]
    }
   ],
   "source": [
    "# 5. Begin training\n",
    "for epoch in range(1, epochs + 1):\n",
    "    model.train()\n",
    "    epoch_loss = 0\n",
    "    with tqdm(total=n_train, desc=f'Epoch {epoch}/{epochs}', unit='img') as pbar:\n",
    "        for batch in train_loader:\n",
    "            images, true_masks = batch['image'], batch['mask']\n",
    "\n",
    "            images = images.to(device=device, dtype=torch.float32, memory_format=torch.channels_last)\n",
    "            true_masks = true_masks.to(device=device, dtype=torch.long)\n",
    "\n",
    "            with torch.autocast(device.type if device.type != 'mps' else 'cpu', enabled=amp):\n",
    "                masks_pred = model(images)\n",
    "                if isinstance(masks_pred, OrderedDict):\n",
    "                    masks_pred = masks_pred['out']\n",
    "                             \n",
    "                try:\n",
    "                    mn_cls = model.n_classes\n",
    "                except:\n",
    "                    mn_cls = model.classifier[-1].out_channels\n",
    "                    \n",
    "                \n",
    "                if mn_cls == 1:\n",
    "                    loss = criterion(masks_pred.squeeze(1), true_masks.float())\n",
    "                    loss += dice_loss(F.sigmoid(masks_pred.squeeze(1)), true_masks.float(), multiclass=False)\n",
    "                else:\n",
    "                    loss = criterion(masks_pred, true_masks)\n",
    "                    loss += dice_loss(\n",
    "                        F.softmax(masks_pred, dim=1).float(),\n",
    "                        F.one_hot(true_masks, mn_cls).permute(0, 3, 1, 2).float(),\n",
    "                        multiclass=True\n",
    "                    )\n",
    "                \n",
    "\n",
    "            optimizer.zero_grad(set_to_none=True)\n",
    "            grad_scaler.scale(loss).backward()\n",
    "            torch.nn.utils.clip_grad_norm_(model.parameters(), Gradient_Clipping)\n",
    "            grad_scaler.step(optimizer)\n",
    "            grad_scaler.update()\n",
    "\n",
    "            pbar.update(images.shape[0])\n",
    "            global_step += 1\n",
    "            epoch_loss += loss.item()\n",
    "\n",
    "\n",
    "            # Evaluation round\n",
    "            division_step = (n_train // (5 * batch_size))\n",
    "            if division_step > 0:\n",
    "                if global_step % division_step == 0:\n",
    "\n",
    "                    val_score = evaluate(model, val_loader, device, amp)\n",
    "                    \n",
    "                    scheduler.step(val_score)\n",
    "\n",
    "                    #logging.info('Validation Dice score: {}'.format(val_score))\n",
    "                    print('Training Dice Loss: {}'.format(loss))\n",
    "                    print('Validation Dice score: {}'.format(val_score))\n",
    "                                \n",
    "            \n",
    "    if save_checkpoint:\n",
    "        Path(dir_checkpoint).mkdir(parents=True, exist_ok=True)\n",
    "        torch.save(model.state_dict(), str(dir_checkpoint / 'checkpoint_epoch{}.pth'.format(epoch + 1)))"
   ]
  },
  {
   "cell_type": "code",
   "execution_count": null,
   "id": "325a87b8-a87e-4d06-801f-07f734beb797",
   "metadata": {},
   "outputs": [],
   "source": []
  },
  {
   "cell_type": "code",
   "execution_count": 114,
   "id": "a76fbdb8-6876-42d5-888a-85c11e42373e",
   "metadata": {},
   "outputs": [
    {
     "data": {
      "text/plain": [
       "<matplotlib.image.AxesImage at 0x7f6f840ef710>"
      ]
     },
     "execution_count": 114,
     "metadata": {},
     "output_type": "execute_result"
    },
    {
     "data": {
      "image/png": "[encoded data removed]",
      "text/plain": [
       "<Figure size 2000x1000 with 1 Axes>"
      ]
     },
     "metadata": {},
     "output_type": "display_data"
    }
   ],
   "source": [
    "plt.figure(figsize = (20,10))\n",
    "plt.imshow(true_masks.permute(1,2,0).cpu())"
   ]
  },
  {
   "cell_type": "code",
   "execution_count": 82,
   "id": "271fb044-27a6-4c45-aca1-bdfb7a592cb5",
   "metadata": {},
   "outputs": [
    {
     "data": {
      "text/plain": [
       "<matplotlib.image.AxesImage at 0x7f6f844b0dd0>"
      ]
     },
     "execution_count": 82,
     "metadata": {},
     "output_type": "execute_result"
    },
    {
     "data": {
      "image/png": "[encoded data removed]",
      "text/plain": [
       "<Figure size 640x480 with 1 Axes>"
      ]
     },
     "metadata": {},
     "output_type": "display_data"
    }
   ],
   "source": [
    "import matplotlib.pyplot as plt\n",
    "plt.imshow(va2.cpu())"
   ]
  },
  {
   "cell_type": "code",
   "execution_count": 99,
   "id": "0bbc80a6-b046-4cfb-bfbd-2479058f084b",
   "metadata": {},
   "outputs": [],
   "source": [
    "d = images.permute(0, 2, 3, 1)"
   ]
  },
  {
   "cell_type": "code",
   "execution_count": 100,
   "id": "f4634d06-de34-4771-94aa-19cd901b272b",
   "metadata": {},
   "outputs": [
    {
     "data": {
      "text/plain": [
       "torch.Size([4, 384, 1242, 3])"
      ]
     },
     "execution_count": 100,
     "metadata": {},
     "output_type": "execute_result"
    }
   ],
   "source": [
    "d.shape"
   ]
  },
  {
   "cell_type": "code",
   "execution_count": 138,
   "id": "14fc40fd-8d6e-42c6-beb8-b1095e584bd6",
   "metadata": {},
   "outputs": [],
   "source": [
    "dd = images.permute(1,2,3,0).cpu()[1]\n",
    "#dd = np.array(dd).astype('uint8')"
   ]
  },
  {
   "cell_type": "code",
   "execution_count": 129,
   "id": "6e471185-218b-42a1-b17b-00da3a28b080",
   "metadata": {},
   "outputs": [],
   "source": [
    "qq  =Image.open(Img_Path + '/' + '000085_10.png')"
   ]
  },
  {
   "cell_type": "code",
   "execution_count": null,
   "id": "52169aa4-2ae3-4e9b-8b22-6d9afbb3befa",
   "metadata": {},
   "outputs": [],
   "source": []
  },
  {
   "cell_type": "code",
   "execution_count": 128,
   "id": "449c79b0-2d34-4d7c-b850-6baea3c908f0",
   "metadata": {},
   "outputs": [
    {
     "data": {
      "text/plain": [
       "torch.Size([384, 1242, 4])"
      ]
     },
     "execution_count": 128,
     "metadata": {},
     "output_type": "execute_result"
    }
   ],
   "source": [
    "dd.shape"
   ]
  },
  {
   "cell_type": "code",
   "execution_count": 125,
   "id": "faa89b8a-2ab9-4f36-b1c6-9a2a95912914",
   "metadata": {},
   "outputs": [
    {
     "name": "stderr",
     "output_type": "stream",
     "text": [
      "WARNING:matplotlib.image:Clipping input data to the valid range for imshow with RGB data ([0..1] for floats or [0..255] for integers).\n"
     ]
    },
    {
     "data": {
      "text/plain": [
       "<matplotlib.image.AxesImage at 0x7f6f81ef0310>"
      ]
     },
     "execution_count": 125,
     "metadata": {},
     "output_type": "execute_result"
    },
    {
     "data": {
      "image/png": "[encoded data removed]",
      "text/plain": [
       "<Figure size 640x480 with 1 Axes>"
      ]
     },
     "metadata": {},
     "output_type": "display_data"
    }
   ],
   "source": [
    "plt.imshow(dd)"
   ]
  },
  {
   "cell_type": "code",
   "execution_count": null,
   "id": "d84ded59-4861-4752-8095-6ca264e11277",
   "metadata": {},
   "outputs": [],
   "source": []
  },
  {
   "cell_type": "code",
   "execution_count": null,
   "id": "a65c880c-d55a-4219-a177-2a3608c69750",
   "metadata": {},
   "outputs": [],
   "source": [
    "torch.max(masks_pred)"
   ]
  },
  {
   "cell_type": "code",
   "execution_count": 16,
   "id": "880f0a8c-801f-4e24-8706-f4c973ef3a85",
   "metadata": {},
   "outputs": [],
   "source": [
    "dd = torch.cat([masks_pred,masks_pred,masks_pred], dim = 1)"
   ]
  },
  {
   "cell_type": "code",
   "execution_count": 12,
   "id": "c126b146-63cf-454e-8b33-bea63dc97d0f",
   "metadata": {},
   "outputs": [
    {
     "data": {
      "text/plain": [
       "torch.Size([4, 93, 384, 1242])"
      ]
     },
     "execution_count": 12,
     "metadata": {},
     "output_type": "execute_result"
    }
   ],
   "source": []
  },
  {
   "cell_type": "code",
   "execution_count": 17,
   "id": "32fdd226-9f42-4dc9-afdf-fd1cb1210323",
   "metadata": {},
   "outputs": [],
   "source": [
    "out1 = nn.Conv2d(93, 31, kernel_size=3, padding=1)\n",
    "out1 = out1.to(device)\n",
    "out2 = nn.Conv2d(31, 31, kernel_size=3, padding=1)\n",
    "out2 = out2.to(device)"
   ]
  },
  {
   "cell_type": "code",
   "execution_count": 20,
   "id": "1177ba99-b8c5-4127-a1a2-0c9084a6577f",
   "metadata": {},
   "outputs": [],
   "source": [
    "dd2 = out1(dd)\n",
    "dd3 = out2(dd2)"
   ]
  },
  {
   "cell_type": "code",
   "execution_count": 23,
   "id": "526e798f-bcfe-4d7c-bbf4-080376d06b77",
   "metadata": {},
   "outputs": [
    {
     "data": {
      "text/plain": [
       "torch.Size([4, 31, 384, 1242])"
      ]
     },
     "execution_count": 23,
     "metadata": {},
     "output_type": "execute_result"
    }
   ],
   "source": [
    "dd2.shape"
   ]
  },
  {
   "cell_type": "code",
   "execution_count": 22,
   "id": "e9041df4-3827-4dc6-9a3b-2fe4a6f72f39",
   "metadata": {},
   "outputs": [
    {
     "data": {
      "text/plain": [
       "torch.Size([4, 31, 384, 1242])"
      ]
     },
     "execution_count": 22,
     "metadata": {},
     "output_type": "execute_result"
    }
   ],
   "source": [
    "dd3.shape"
   ]
  },
  {
   "cell_type": "code",
   "execution_count": 13,
   "id": "f71b65f1-47c8-41b0-8ab4-b7fed7426269",
   "metadata": {},
   "outputs": [],
   "source": [
    "tensor1 = torch.randn(2, 31, 384, 1242)\n",
    "tensor2 = torch.randn(2, 31, 384, 1242)"
   ]
  },
  {
   "cell_type": "code",
   "execution_count": 14,
   "id": "eccaa763-55ea-4abb-b474-82193f4aec9b",
   "metadata": {},
   "outputs": [
    {
     "data": {
      "text/plain": [
       "torch.Size([2, 62, 384, 1242])"
      ]
     },
     "execution_count": 14,
     "metadata": {},
     "output_type": "execute_result"
    }
   ],
   "source": [
    "\n",
    "torch.cat((tensor1, tensor2), dim = 1).shape"
   ]
  },
  {
   "cell_type": "code",
   "execution_count": null,
   "id": "b1eb824d-7636-4e72-8dc9-2f046471721a",
   "metadata": {},
   "outputs": [],
   "source": []
  }
 ],
 "metadata": {
  "kernelspec": {
   "display_name": "ksh",
   "language": "python",
   "name": "ksh"
  },
  "language_info": {
   "codemirror_mode": {
    "name": "ipython",
    "version": 3
   },
   "file_extension": ".py",
   "mimetype": "text/x-python",
   "name": "python",
   "nbconvert_exporter": "python",
   "pygments_lexer": "ipython3",
   "version": "3.7.16"
  }
 },
 "nbformat": 4,
 "nbformat_minor": 5
}
