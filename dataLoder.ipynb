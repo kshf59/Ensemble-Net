{
 "cells": [
  {
   "cell_type": "code",
   "execution_count": 1,
   "id": "5f271b9d-c9a3-41c5-a2e5-cd21dc79d5b6",
   "metadata": {
    "tags": []
   },
   "outputs": [],
   "source": [
    "import numpy as np\n",
    "from pathlib import Path\n",
    "from PIL import Image\n",
    "from torch.utils.data import DataLoader, random_split\n",
    "import torch\n",
    "from torch import optim\n",
    "import torch.nn as nn\n",
    "from tqdm import tqdm\n",
    "import torch.nn.functional as F\n",
    "import logging\n",
    "from evaluate import evaluate\n",
    "import os\n",
    "import albumentations as A\n",
    "from albumentations.pytorch import ToTensorV2\n",
    "from collections import OrderedDict\n",
    "\n",
    "#from model.unet.unet_model import UNet\n",
    "#from model.segnet.segnet_model import SegNet\n",
    "#from torchvision.models.segmentation import deeplabv3_resnet101 as DeepLabv3\n",
    "from model.ensemblenet_model import EnsembleNet\n",
    "\n",
    "\n",
    "from utils.dice_score import dice_loss\n",
    "from utils.data_load import KittiDataset\n",
    "from torchsummaryX import summary"
   ]
  },
  {
   "cell_type": "code",
   "execution_count": 2,
   "id": "64ae7ca9",
   "metadata": {
    "tags": []
   },
   "outputs": [],
   "source": [
    "Val_Percent = 0.3\n",
    "Scale_Percent = 1.0\n",
    "Batch_Size = 8\n",
    "learning_rate = 0.0001\n",
    "Pin_Memory = False\n",
    "epochs = 10\n",
    "\n",
    "#Image_Size = [384, 1242]\n",
    "Image_Size = [384, 1216]\n",
    "#Image_Size = [384,384]\n",
    "Gradient_Clipping = 0.7\n",
    "\n",
    "#Num_Class = 31\n",
    "#Num_Class = 21\n",
    "Num_Class = 2\n",
    "Num_Channel = 3\n",
    "amp = True\n",
    "\n",
    "\n",
    "Img_Path =  'data/data_road/training/image_2'\n",
    "Mask_Path =  'data/data_road/training/semantic'\n",
    "\n",
    "save_checkpoint = False\n",
    "checkpoint_dir = '../trained'\n",
    "batch_size = Batch_Size"
   ]
  },
  {
   "cell_type": "code",
   "execution_count": 3,
   "id": "567f8440",
   "metadata": {
    "tags": []
   },
   "outputs": [],
   "source": [
    "dirImg = Path(Img_Path)\n",
    "dirMask = Path(Mask_Path)\n",
    "\n",
    "dir_checkpoint = Path(checkpoint_dir)"
   ]
  },
  {
   "cell_type": "markdown",
   "id": "c67210d1-7567-4b7d-858b-349748c428a0",
   "metadata": {},
   "source": [
    "train_transform = A.Compose([\n",
    "        A.HorizontalFlip(p=0.5),\n",
    "        #A.VerticalFlip(p=0.5),\n",
    "        A.Rotate(limit=30, p=0.5),\n",
    "        #A.RandomBrightnessContrast(p=0.5),\n",
    "        #A.RandomGamma(p=0.5),\n",
    "        #A.RandomSnow(p=0.5),\n",
    "        #A.RandomRain(p=0.5),\n",
    "        #A.RandomFog(p=0.5),\n",
    "        #A.RandomSunFlare(p=0.5),\n",
    "        A.RandomShadow(p=0.5),\n",
    "        #A.RandomToneCurve(p=0.5),\n",
    "        #A.GaussNoise(p=0.5),\n",
    "        #A.Emboss(p=0.5),  # IAAEmboss 대신 Emboss 사용\n",
    "        #A.Perspective(p=0.5),  # IAAPerspective 대신 Perspective 사용\n",
    "        #A.CLAHE(p=0.5)\n",
    "])"
   ]
  },
  {
   "cell_type": "code",
   "execution_count": 4,
   "id": "8e8e3825-8747-4f49-b3ee-eac27522ded2",
   "metadata": {},
   "outputs": [],
   "source": [
    "device = torch.device('cuda' if torch.cuda.is_available() else 'cpu')"
   ]
  },
  {
   "cell_type": "code",
   "execution_count": 9,
   "id": "9a4a35b2-bc69-49e4-b17c-e850f278473d",
   "metadata": {},
   "outputs": [
    {
     "name": "stderr",
     "output_type": "stream",
     "text": [
      "100%|██████████████████████████████████████████████████████████████████████████████████████████████████████████████████████████████████████████████████████████████████████████████████████████████████████████████████████████████████████████████████████| 289/289 [00:00<00:00, 770.34it/s]\n"
     ]
    }
   ],
   "source": [
    "datasets =  KittiDataset(dirImg, dirMask, Image_Size, Scale_Percent)\n",
    "#datasets =  KittiDataset(dirImg, dirMask, Image_Size, Scale_Percent, train_transform)\n",
    "n_val = int(len(datasets) * Val_Percent)\n",
    "n_train = len(datasets) - n_val\n",
    "train_set, val_set = random_split(datasets, [n_train, n_val], generator=torch.Generator().manual_seed(0))\n",
    "\n",
    "loader_args = dict(batch_size=Batch_Size, num_workers= os.cpu_count(), pin_memory=Pin_Memory)\n",
    "train_loader = DataLoader(train_set, shuffle=True, drop_last = True, **loader_args)\n",
    "val_loader = DataLoader(val_set, shuffle=False, drop_last=True, **loader_args)"
   ]
  },
  {
   "cell_type": "code",
   "execution_count": 5,
   "id": "95b36f40-c709-4e1e-b4f6-66a1954edfd8",
   "metadata": {},
   "outputs": [],
   "source": [
    "model = EnsembleNet('unet', Num_Channel, Num_Class)\n",
    "model = model.to(memory_format=torch.channels_last, device = device)"
   ]
  },
  {
   "cell_type": "code",
   "execution_count": 6,
   "id": "4a29bc96",
   "metadata": {
    "tags": []
   },
   "outputs": [],
   "source": [
    "# 4. Set up the optimizer, the loss, the learning rate scheduler and the loss scaling for AMP\n",
    "#optimizer = optim.RMSprop(model.parameters(), lr=learning_rate, weight_decay=1e-8, momentum=0.9)\n",
    "optimizer = optim.Adam(model.parameters(), lr=learning_rate, weight_decay=1e-8)\n",
    "#optimizer = optim.SGD(model.parameters(), lr=learning_rate, weight_decay=1e-8, momentum=0.9)\n",
    "\n",
    "scheduler = optim.lr_scheduler.ReduceLROnPlateau(optimizer, 'max', patience=2)  # goal: maximize Dice score\n",
    "grad_scaler = torch.cuda.amp.GradScaler(enabled=amp)\n",
    "criterion = nn.CrossEntropyLoss()\n",
    "global_step = 0"
   ]
  },
  {
   "cell_type": "code",
   "execution_count": 7,
   "id": "aa7aa28e-d818-4dd5-a9ae-3093cf41d7a6",
   "metadata": {},
   "outputs": [],
   "source": [
    "def train_model(__model__, __images__, __amp__):\n",
    "    with torch.autocast(device.type if device.type != 'mps' else 'cpu', enabled=__amp__):\n",
    "\n",
    "        masks_pred = __model__(__images__)\n",
    "        if isinstance(masks_pred, OrderedDict):\n",
    "            masks_pred = masks_pred['out']\n",
    "\n",
    "        try:\n",
    "            mn_cls = __model__.n_classes\n",
    "        except:\n",
    "            mn_cls = __model__.classifier[-1].out_channels\n",
    "\n",
    "\n",
    "        if mn_cls == 1:\n",
    "\n",
    "            squ_masks_pred = masks_pred.squeeze(1)\n",
    "            loss = criterion(squ_masks_pred, true_masks.float())\n",
    "            loss += dice_loss(F.sigmoid(squ_masks_pred), true_masks.float(), multiclass=False)\n",
    "\n",
    "            #loss = criterion(masks_pred.squeeze(1), true_masks.float())\n",
    "            #loss += dice_loss(masks_pred, true_masks, multiclass=False)\n",
    "\n",
    "        else:\n",
    "            loss = criterion(masks_pred, true_masks)\n",
    "            loss += dice_loss(\n",
    "                F.softmax(masks_pred, dim=1).float(),\n",
    "                F.one_hot(true_masks, mn_cls).permute(0, 3, 1, 2).float(),\n",
    "                multiclass=True\n",
    "            )\n",
    "\n",
    "\n",
    "    optimizer.zero_grad(set_to_none=True)\n",
    "    grad_scaler.scale(loss).backward()\n",
    "    torch.nn.utils.clip_grad_norm_(model.parameters(), Gradient_Clipping)\n",
    "    grad_scaler.step(optimizer)\n",
    "    grad_scaler.update()\n",
    "    \n",
    "    return model, loss"
   ]
  },
  {
   "cell_type": "code",
   "execution_count": null,
   "id": "24cc3b67-48f7-41cb-a698-88d9762d21ab",
   "metadata": {},
   "outputs": [
    {
     "name": "stderr",
     "output_type": "stream",
     "text": [
      "Epoch 1/10:  24%|███████████████████████████████████████████████████████▌                                                                                                                                                                                   | 48/203 [00:07<00:23,  6.71img/s]"
     ]
    },
    {
     "name": "stdout",
     "output_type": "stream",
     "text": [
      "Training Dice Loss: 0.754774808883667\n",
      "Validation Dice score: 1.367285885206515e-11\n"
     ]
    },
    {
     "name": "stderr",
     "output_type": "stream",
     "text": [
      "Epoch 1/10:  43%|█████████████████████████████████████████████████████████████████████████████████████████████████████▊                                                                                                                                     | 88/203 [00:10<00:14,  8.05img/s]"
     ]
    },
    {
     "name": "stdout",
     "output_type": "stream",
     "text": [
      "Training Dice Loss: 0.6657962799072266\n",
      "Validation Dice score: 2.432540497920854e-07\n"
     ]
    },
    {
     "name": "stderr",
     "output_type": "stream",
     "text": [
      "Epoch 1/10:  63%|███████████████████████████████████████████████████████████████████████████████████████████████████████████████████████████████████████████████████▌                                                                                      | 128/203 [00:13<00:09,  7.93img/s]"
     ]
    },
    {
     "name": "stdout",
     "output_type": "stream",
     "text": [
      "Training Dice Loss: 0.5931034088134766\n",
      "Validation Dice score: 0.41327768564224243\n"
     ]
    },
    {
     "name": "stderr",
     "output_type": "stream",
     "text": [
      "Epoch 1/10:  83%|█████████████████████████████████████████████████████████████████████████████████████████████████████████████████████████████████████████████████████████████████████████████████████████████████▋                                        | 168/203 [00:16<00:04,  8.04img/s]"
     ]
    },
    {
     "name": "stdout",
     "output_type": "stream",
     "text": [
      "Training Dice Loss: 0.4392385184764862\n",
      "Validation Dice score: 0.43278154730796814\n"
     ]
    },
    {
     "name": "stderr",
     "output_type": "stream",
     "text": [
      "Epoch 1/10:  99%|██████████████████████████████████████████████████████████████████████████████████████████████████████████████████████████████████████████████████████████████████████████████████████████████████████████████████████████████████████▌   | 200/203 [00:19<00:00, 10.06img/s]\n"
     ]
    },
    {
     "name": "stdout",
     "output_type": "stream",
     "text": [
      "Training Dice Loss: 0.474135160446167\n",
      "Validation Dice score: 0.4318416714668274\n"
     ]
    },
    {
     "name": "stderr",
     "output_type": "stream",
     "text": [
      "Epoch 2/10:  24%|███████████████████████████████████████████████████████▌                                                                                                                                                                                   | 48/203 [00:04<00:20,  7.49img/s]"
     ]
    },
    {
     "name": "stdout",
     "output_type": "stream",
     "text": [
      "Training Dice Loss: 0.37657588720321655\n",
      "Validation Dice score: 0.514744222164154\n"
     ]
    },
    {
     "name": "stderr",
     "output_type": "stream",
     "text": [
      "Epoch 2/10:  43%|█████████████████████████████████████████████████████████████████████████████████████████████████████▊                                                                                                                                     | 88/203 [00:08<00:14,  7.92img/s]"
     ]
    },
    {
     "name": "stdout",
     "output_type": "stream",
     "text": [
      "Training Dice Loss: 0.5044696927070618\n",
      "Validation Dice score: 0.657522976398468\n"
     ]
    },
    {
     "name": "stderr",
     "output_type": "stream",
     "text": [
      "Epoch 2/10:  63%|███████████████████████████████████████████████████████████████████████████████████████████████████████████████████████████████████████████████████▌                                                                                      | 128/203 [00:11<00:09,  8.12img/s]"
     ]
    },
    {
     "name": "stdout",
     "output_type": "stream",
     "text": [
      "Training Dice Loss: 0.429450660943985\n",
      "Validation Dice score: 0.662994384765625\n"
     ]
    },
    {
     "name": "stderr",
     "output_type": "stream",
     "text": [
      "Epoch 2/10:  83%|█████████████████████████████████████████████████████████████████████████████████████████████████████████████████████████████████████████████████████████████████████████████████████████████████▋                                        | 168/203 [00:14<00:04,  7.94img/s]"
     ]
    },
    {
     "name": "stdout",
     "output_type": "stream",
     "text": [
      "Training Dice Loss: 0.3791767954826355\n",
      "Validation Dice score: 0.7015902996063232\n"
     ]
    },
    {
     "name": "stderr",
     "output_type": "stream",
     "text": [
      "Epoch 2/10:  99%|██████████████████████████████████████████████████████████████████████████████████████████████████████████████████████████████████████████████████████████████████████████████████████████████████████████████████████████████████████▌   | 200/203 [00:17<00:00, 11.39img/s]\n"
     ]
    },
    {
     "name": "stdout",
     "output_type": "stream",
     "text": [
      "Training Dice Loss: 0.41521593928337097\n",
      "Validation Dice score: 0.7881565093994141\n"
     ]
    },
    {
     "name": "stderr",
     "output_type": "stream",
     "text": [
      "Epoch 3/10:  24%|███████████████████████████████████████████████████████▌                                                                                                                                                                                   | 48/203 [00:04<00:20,  7.72img/s]"
     ]
    },
    {
     "name": "stdout",
     "output_type": "stream",
     "text": [
      "Training Dice Loss: 0.3389737904071808\n",
      "Validation Dice score: 0.7574981451034546\n"
     ]
    },
    {
     "name": "stderr",
     "output_type": "stream",
     "text": [
      "Epoch 3/10:  43%|█████████████████████████████████████████████████████████████████████████████████████████████████████▊                                                                                                                                     | 88/203 [00:08<00:14,  7.87img/s]"
     ]
    },
    {
     "name": "stdout",
     "output_type": "stream",
     "text": [
      "Training Dice Loss: 0.3249537944793701\n",
      "Validation Dice score: 0.803316056728363\n"
     ]
    },
    {
     "name": "stderr",
     "output_type": "stream",
     "text": [
      "Epoch 3/10:  63%|███████████████████████████████████████████████████████████████████████████████████████████████████████████████████████████████████████████████████▌                                                                                      | 128/203 [00:11<00:09,  7.89img/s]"
     ]
    },
    {
     "name": "stdout",
     "output_type": "stream",
     "text": [
      "Training Dice Loss: 0.2832782566547394\n",
      "Validation Dice score: 0.8073167204856873\n"
     ]
    },
    {
     "name": "stderr",
     "output_type": "stream",
     "text": [
      "Epoch 3/10:  83%|█████████████████████████████████████████████████████████████████████████████████████████████████████████████████████████████████████████████████████████████████████████████████████████████████▋                                        | 168/203 [00:14<00:04,  8.03img/s]"
     ]
    },
    {
     "name": "stdout",
     "output_type": "stream",
     "text": [
      "Training Dice Loss: 0.37620893120765686\n",
      "Validation Dice score: 0.8108107447624207\n"
     ]
    },
    {
     "name": "stderr",
     "output_type": "stream",
     "text": [
      "Epoch 3/10:  99%|██████████████████████████████████████████████████████████████████████████████████████████████████████████████████████████████████████████████████████████████████████████████████████████████████████████████████████████████████████▌   | 200/203 [00:17<00:00, 11.33img/s]\n"
     ]
    },
    {
     "name": "stdout",
     "output_type": "stream",
     "text": [
      "Training Dice Loss: 0.29370343685150146\n",
      "Validation Dice score: 0.8139433264732361\n"
     ]
    },
    {
     "name": "stderr",
     "output_type": "stream",
     "text": [
      "Epoch 4/10:   4%|█████████▎                                                                                                                                                                                                                                  | 8/203 [00:01<00:40,  4.85img/s]"
     ]
    }
   ],
   "source": [
    "valScore_list = []\n",
    "TrainLoss_list = []\n",
    "# 5. Begin training\n",
    "for epoch in range(1, epochs + 1):\n",
    "    model.train()\n",
    "    epoch_loss = 0\n",
    "    with tqdm(total=n_train, desc=f'Epoch {epoch}/{epochs}', unit='img') as pbar:\n",
    "        for batch in train_loader:\n",
    "            images, true_masks = batch['image'], batch['mask']\n",
    "\n",
    "            images = images.to(device=device, dtype=torch.float32, memory_format=torch.channels_last)\n",
    "            true_masks = true_masks.to(device=device, dtype=torch.long)\n",
    "            '''\n",
    "            with torch.autocast(device.type if device.type != 'mps' else 'cpu', enabled=amp):\n",
    "                \n",
    "                masks_pred = model(images)\n",
    "                if isinstance(masks_pred, OrderedDict):\n",
    "                    masks_pred = masks_pred['out']\n",
    "                             \n",
    "                try:\n",
    "                    mn_cls = model.n_classes\n",
    "                except:\n",
    "                    mn_cls = model.classifier[-1].out_channels\n",
    "                    \n",
    "                \n",
    "                if mn_cls == 1:\n",
    "                    \n",
    "                    squ_masks_pred = masks_pred.squeeze(1)\n",
    "                    loss = criterion(squ_masks_pred, true_masks.float())\n",
    "                    loss += dice_loss(F.sigmoid(squ_masks_pred), true_masks.float(), multiclass=False)\n",
    "                    \n",
    "                    #loss = criterion(masks_pred.squeeze(1), true_masks.float())\n",
    "                    #loss += dice_loss(masks_pred, true_masks, multiclass=False)\n",
    "                    \n",
    "                else:\n",
    "                    loss = criterion(masks_pred, true_masks)\n",
    "                    loss += dice_loss(\n",
    "                        F.softmax(masks_pred, dim=1).float(),\n",
    "                        F.one_hot(true_masks, mn_cls).permute(0, 3, 1, 2).float(),\n",
    "                        multiclass=True\n",
    "                    )\n",
    "                \n",
    "\n",
    "            optimizer.zero_grad(set_to_none=True)\n",
    "            grad_scaler.scale(loss).backward()\n",
    "            torch.nn.utils.clip_grad_norm_(model.parameters(), Gradient_Clipping)\n",
    "            grad_scaler.step(optimizer)\n",
    "            grad_scaler.update()\n",
    "            '''\n",
    "            \n",
    "            model, loss = train_model(model, images, amp)\n",
    "            \n",
    "            pbar.update(images.shape[0])\n",
    "            global_step += 1\n",
    "            epoch_loss += loss.item()\n",
    "\n",
    "\n",
    "            # Evaluation round\n",
    "            division_step = (n_train // (5 * batch_size))\n",
    "            if division_step > 0:\n",
    "                if global_step % division_step == 0:\n",
    "\n",
    "                    val_score = evaluate(model, val_loader, device, amp)\n",
    "                    \n",
    "                    scheduler.step(val_score)\n",
    "                    valScore_list.append(val_score)\n",
    "                    TrainLoss_list.append(loss)\n",
    "                    \n",
    "\n",
    "                    #logging.info('Validation Dice score: {}'.format(val_score))\n",
    "                    print('Training Dice Loss: {}'.format(loss))\n",
    "                    print('Validation Dice score: {}'.format(val_score))\n",
    "                                \n",
    "            \n",
    "    if save_checkpoint:\n",
    "        Path(dir_checkpoint).mkdir(parents=True, exist_ok=True)\n",
    "        torch.save(model.state_dict(), str(dir_checkpoint / 'checkpoint_epoch{}.pth'.format(epoch + 1)))"
   ]
  },
  {
   "cell_type": "code",
   "execution_count": 11,
   "id": "81128a37-98a3-4f07-a93f-6866ea42f5cd",
   "metadata": {},
   "outputs": [
    {
     "data": {
      "text/plain": [
       "[tensor(0.4461, device='cuda:0'),\n",
       " tensor(0.7066, device='cuda:0'),\n",
       " tensor(0.7842, device='cuda:0'),\n",
       " tensor(0.7259, device='cuda:0'),\n",
       " tensor(0.7876, device='cuda:0'),\n",
       " tensor(0.8873, device='cuda:0'),\n",
       " tensor(0.9105, device='cuda:0'),\n",
       " tensor(0.8723, device='cuda:0'),\n",
       " tensor(0.9304, device='cuda:0'),\n",
       " tensor(0.9438, device='cuda:0'),\n",
       " tensor(0.9486, device='cuda:0'),\n",
       " tensor(0.9297, device='cuda:0'),\n",
       " tensor(0.9496, device='cuda:0'),\n",
       " tensor(0.9369, device='cuda:0'),\n",
       " tensor(0.9490, device='cuda:0'),\n",
       " tensor(0.9288, device='cuda:0'),\n",
       " tensor(0.9442, device='cuda:0'),\n",
       " tensor(0.9550, device='cuda:0'),\n",
       " tensor(0.9571, device='cuda:0'),\n",
       " tensor(0.9579, device='cuda:0'),\n",
       " tensor(0.9598, device='cuda:0'),\n",
       " tensor(0.9610, device='cuda:0'),\n",
       " tensor(0.9620, device='cuda:0'),\n",
       " tensor(0.9627, device='cuda:0'),\n",
       " tensor(0.9636, device='cuda:0'),\n",
       " tensor(0.9634, device='cuda:0'),\n",
       " tensor(0.9643, device='cuda:0'),\n",
       " tensor(0.9641, device='cuda:0'),\n",
       " tensor(0.9634, device='cuda:0'),\n",
       " tensor(0.9640, device='cuda:0'),\n",
       " tensor(0.9645, device='cuda:0'),\n",
       " tensor(0.9640, device='cuda:0'),\n",
       " tensor(0.9641, device='cuda:0'),\n",
       " tensor(0.9638, device='cuda:0'),\n",
       " tensor(0.9640, device='cuda:0'),\n",
       " tensor(0.9636, device='cuda:0'),\n",
       " tensor(0.9644, device='cuda:0'),\n",
       " tensor(0.9642, device='cuda:0'),\n",
       " tensor(0.9643, device='cuda:0'),\n",
       " tensor(0.9642, device='cuda:0'),\n",
       " tensor(0.9646, device='cuda:0'),\n",
       " tensor(0.9642, device='cuda:0'),\n",
       " tensor(0.9637, device='cuda:0'),\n",
       " tensor(0.9641, device='cuda:0'),\n",
       " tensor(0.9643, device='cuda:0'),\n",
       " tensor(0.9647, device='cuda:0'),\n",
       " tensor(0.9642, device='cuda:0'),\n",
       " tensor(0.9644, device='cuda:0'),\n",
       " tensor(0.9635, device='cuda:0'),\n",
       " tensor(0.9639, device='cuda:0')]"
      ]
     },
     "execution_count": 11,
     "metadata": {},
     "output_type": "execute_result"
    }
   ],
   "source": [
    "valScore_list"
   ]
  },
  {
   "cell_type": "code",
   "execution_count": 12,
   "id": "2310eff5-cc1a-4017-99a9-0fc55ac9a4f2",
   "metadata": {},
   "outputs": [
    {
     "data": {
      "text/plain": [
       "[tensor(0.3917, device='cuda:0', grad_fn=<AddBackward0>),\n",
       " tensor(0.1367, device='cuda:0', grad_fn=<AddBackward0>),\n",
       " tensor(0.1151, device='cuda:0', grad_fn=<AddBackward0>),\n",
       " tensor(0.2557, device='cuda:0', grad_fn=<AddBackward0>),\n",
       " tensor(0.1054, device='cuda:0', grad_fn=<AddBackward0>),\n",
       " tensor(0.0902, device='cuda:0', grad_fn=<AddBackward0>),\n",
       " tensor(0.0724, device='cuda:0', grad_fn=<AddBackward0>),\n",
       " tensor(0.0550, device='cuda:0', grad_fn=<AddBackward0>),\n",
       " tensor(0.0648, device='cuda:0', grad_fn=<AddBackward0>),\n",
       " tensor(0.0617, device='cuda:0', grad_fn=<AddBackward0>),\n",
       " tensor(0.0639, device='cuda:0', grad_fn=<AddBackward0>),\n",
       " tensor(0.0401, device='cuda:0', grad_fn=<AddBackward0>),\n",
       " tensor(0.0525, device='cuda:0', grad_fn=<AddBackward0>),\n",
       " tensor(0.0346, device='cuda:0', grad_fn=<AddBackward0>),\n",
       " tensor(0.0353, device='cuda:0', grad_fn=<AddBackward0>),\n",
       " tensor(0.0692, device='cuda:0', grad_fn=<AddBackward0>),\n",
       " tensor(0.0477, device='cuda:0', grad_fn=<AddBackward0>),\n",
       " tensor(0.0306, device='cuda:0', grad_fn=<AddBackward0>),\n",
       " tensor(0.0314, device='cuda:0', grad_fn=<AddBackward0>),\n",
       " tensor(0.0286, device='cuda:0', grad_fn=<AddBackward0>),\n",
       " tensor(0.0378, device='cuda:0', grad_fn=<AddBackward0>),\n",
       " tensor(0.0386, device='cuda:0', grad_fn=<AddBackward0>),\n",
       " tensor(0.0275, device='cuda:0', grad_fn=<AddBackward0>),\n",
       " tensor(0.0325, device='cuda:0', grad_fn=<AddBackward0>),\n",
       " tensor(0.0391, device='cuda:0', grad_fn=<AddBackward0>),\n",
       " tensor(0.0258, device='cuda:0', grad_fn=<AddBackward0>),\n",
       " tensor(0.0387, device='cuda:0', grad_fn=<AddBackward0>),\n",
       " tensor(0.0387, device='cuda:0', grad_fn=<AddBackward0>),\n",
       " tensor(0.0296, device='cuda:0', grad_fn=<AddBackward0>),\n",
       " tensor(0.0325, device='cuda:0', grad_fn=<AddBackward0>),\n",
       " tensor(0.0243, device='cuda:0', grad_fn=<AddBackward0>),\n",
       " tensor(0.0209, device='cuda:0', grad_fn=<AddBackward0>),\n",
       " tensor(0.0312, device='cuda:0', grad_fn=<AddBackward0>),\n",
       " tensor(0.0216, device='cuda:0', grad_fn=<AddBackward0>),\n",
       " tensor(0.0286, device='cuda:0', grad_fn=<AddBackward0>),\n",
       " tensor(0.0334, device='cuda:0', grad_fn=<AddBackward0>),\n",
       " tensor(0.0261, device='cuda:0', grad_fn=<AddBackward0>),\n",
       " tensor(0.0211, device='cuda:0', grad_fn=<AddBackward0>),\n",
       " tensor(0.0245, device='cuda:0', grad_fn=<AddBackward0>),\n",
       " tensor(0.0256, device='cuda:0', grad_fn=<AddBackward0>),\n",
       " tensor(0.0270, device='cuda:0', grad_fn=<AddBackward0>),\n",
       " tensor(0.0209, device='cuda:0', grad_fn=<AddBackward0>),\n",
       " tensor(0.0208, device='cuda:0', grad_fn=<AddBackward0>),\n",
       " tensor(0.0301, device='cuda:0', grad_fn=<AddBackward0>),\n",
       " tensor(0.0215, device='cuda:0', grad_fn=<AddBackward0>),\n",
       " tensor(0.0244, device='cuda:0', grad_fn=<AddBackward0>),\n",
       " tensor(0.0254, device='cuda:0', grad_fn=<AddBackward0>),\n",
       " tensor(0.0246, device='cuda:0', grad_fn=<AddBackward0>),\n",
       " tensor(0.0223, device='cuda:0', grad_fn=<AddBackward0>),\n",
       " tensor(0.0212, device='cuda:0', grad_fn=<AddBackward0>)]"
      ]
     },
     "execution_count": 12,
     "metadata": {},
     "output_type": "execute_result"
    }
   ],
   "source": [
    "TrainLoss_list"
   ]
  }
 ],
 "metadata": {
  "kernelspec": {
   "display_name": "ksh",
   "language": "python",
   "name": "ksh"
  },
  "language_info": {
   "codemirror_mode": {
    "name": "ipython",
    "version": 3
   },
   "file_extension": ".py",
   "mimetype": "text/x-python",
   "name": "python",
   "nbconvert_exporter": "python",
   "pygments_lexer": "ipython3",
   "version": "3.7.16"
  }
 },
 "nbformat": 4,
 "nbformat_minor": 5
}
