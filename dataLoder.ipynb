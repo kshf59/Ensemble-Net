{
 "cells": [
  {
   "cell_type": "code",
   "execution_count": 1,
   "id": "5f271b9d-c9a3-41c5-a2e5-cd21dc79d5b6",
   "metadata": {
    "tags": []
   },
   "outputs": [],
   "source": [
    "import numpy as np\n",
    "from pathlib import Path\n",
    "from PIL import Image\n",
    "from torch.utils.data import DataLoader, random_split\n",
    "import torch\n",
    "from torch import optim\n",
    "import torch.nn as nn\n",
    "from tqdm import tqdm\n",
    "import torch.nn.functional as F\n",
    "import logging\n",
    "from evaluate import evaluate\n",
    "import os\n",
    "import albumentations as A\n",
    "from albumentations.pytorch import ToTensorV2\n",
    "from collections import OrderedDict\n",
    "\n",
    "#from model.unet.unet_model import UNet\n",
    "#from model.segnet.segnet_model import SegNet\n",
    "#from torchvision.models.segmentation import deeplabv3_resnet101 as DeepLabv3\n",
    "from model.ensemblenet_model import EnsembleNet\n",
    "\n",
    "\n",
    "from utils.dice_score import dice_loss\n",
    "from utils.data_load import KittiDataset\n",
    "from torchsummaryX import summary"
   ]
  },
  {
   "cell_type": "code",
   "execution_count": 2,
   "id": "64ae7ca9",
   "metadata": {
    "tags": []
   },
   "outputs": [],
   "source": [
    "Val_Percent = 0.3\n",
    "Scale_Percent = 1.0\n",
    "Batch_Size = 8\n",
    "learning_rate = 0.0001\n",
    "Pin_Memory = False\n",
    "epochs = 10\n",
    "\n",
    "#Image_Size = [384, 1242]\n",
    "Image_Size = [384, 1216]\n",
    "#Image_Size = [384,384]\n",
    "Gradient_Clipping = 1.0\n",
    "\n",
    "#Num_Class = 31\n",
    "#Num_Class = 21\n",
    "Num_Class = 2\n",
    "Num_Channel = 3\n",
    "amp = True\n",
    "\n",
    "\n",
    "Img_Path =  'data/data_road/training/image_2'\n",
    "Mask_Path =  'data/data_road/training/semantic'\n",
    "\n",
    "save_checkpoint = False\n",
    "checkpoint_dir = '../trained'\n",
    "batch_size = Batch_Size"
   ]
  },
  {
   "cell_type": "code",
   "execution_count": 3,
   "id": "567f8440",
   "metadata": {
    "tags": []
   },
   "outputs": [],
   "source": [
    "dirImg = Path(Img_Path)\n",
    "dirMask = Path(Mask_Path)\n",
    "\n",
    "dir_checkpoint = Path(checkpoint_dir)"
   ]
  },
  {
   "cell_type": "code",
   "execution_count": 4,
   "id": "d0ce9836-6236-45cd-912b-fe114f434c3a",
   "metadata": {},
   "outputs": [],
   "source": [
    "train_transform = A.Compose([\n",
    "        A.HorizontalFlip(p=0.5),\n",
    "        #A.VerticalFlip(p=0.5),\n",
    "        A.Rotate(limit=30, p=0.5),\n",
    "        #A.RandomBrightnessContrast(p=0.5),\n",
    "        #A.RandomGamma(p=0.5),\n",
    "        #A.RandomSnow(p=0.5),\n",
    "        #A.RandomRain(p=0.5),\n",
    "        #A.RandomFog(p=0.5),\n",
    "        #A.RandomSunFlare(p=0.5),\n",
    "        A.RandomShadow(p=0.5),\n",
    "        #A.RandomToneCurve(p=0.5),\n",
    "        #A.GaussNoise(p=0.5),\n",
    "        #A.Emboss(p=0.5),  # IAAEmboss 대신 Emboss 사용\n",
    "        #A.Perspective(p=0.5),  # IAAPerspective 대신 Perspective 사용\n",
    "        #A.CLAHE(p=0.5)\n",
    "])"
   ]
  },
  {
   "cell_type": "code",
   "execution_count": 5,
   "id": "8e8e3825-8747-4f49-b3ee-eac27522ded2",
   "metadata": {},
   "outputs": [],
   "source": [
    "device = torch.device('cuda' if torch.cuda.is_available() else 'cpu')"
   ]
  },
  {
   "cell_type": "code",
   "execution_count": 6,
   "id": "9a4a35b2-bc69-49e4-b17c-e850f278473d",
   "metadata": {},
   "outputs": [
    {
     "name": "stderr",
     "output_type": "stream",
     "text": [
      "100%|██████████████████████████████████████████████████████████████████████████████████████████████████████████████████████████████████████████████████████████████████████████████████████████████████████████████████████████████████████████████████████| 289/289 [00:00<00:00, 817.68it/s]\n"
     ]
    }
   ],
   "source": [
    "datasets =  KittiDataset(dirImg, dirMask, Image_Size, Scale_Percent)\n",
    "#datasets =  KittiDataset(dirImg, dirMask, Image_Size, Scale_Percent, train_transform)\n",
    "n_val = int(len(datasets) * Val_Percent)\n",
    "n_train = len(datasets) - n_val\n",
    "train_set, val_set = random_split(datasets, [n_train, n_val], generator=torch.Generator().manual_seed(0))\n",
    "\n",
    "loader_args = dict(batch_size=Batch_Size, num_workers= os.cpu_count(), pin_memory=Pin_Memory)\n",
    "train_loader = DataLoader(train_set, shuffle=True, drop_last = True, **loader_args)\n",
    "val_loader = DataLoader(val_set, shuffle=False, drop_last=True, **loader_args)"
   ]
  },
  {
   "cell_type": "code",
   "execution_count": 7,
   "id": "95b36f40-c709-4e1e-b4f6-66a1954edfd8",
   "metadata": {},
   "outputs": [
    {
     "name": "stderr",
     "output_type": "stream",
     "text": [
      "/home/user1/anaconda3/envs/ksh/lib/python3.7/site-packages/torchvision/models/_utils.py:209: UserWarning: The parameter 'pretrained' is deprecated since 0.13 and may be removed in the future, please use 'weights' instead.\n",
      "  f\"The parameter '{pretrained_param}' is deprecated since 0.13 and may be removed in the future, \"\n",
      "/home/user1/anaconda3/envs/ksh/lib/python3.7/site-packages/torchvision/models/_utils.py:223: UserWarning: Arguments other than a weight enum or `None` for 'weights' are deprecated since 0.13 and may be removed in the future. The current behavior is equivalent to passing `weights=None`.\n",
      "  warnings.warn(msg)\n"
     ]
    }
   ],
   "source": [
    "model = EnsembleNet('deeplabv3', Num_Channel, Num_Class)\n",
    "model = model.to(memory_format=torch.channels_last, device = device)"
   ]
  },
  {
   "cell_type": "code",
   "execution_count": 8,
   "id": "4a29bc96",
   "metadata": {
    "tags": []
   },
   "outputs": [],
   "source": [
    "# 4. Set up the optimizer, the loss, the learning rate scheduler and the loss scaling for AMP\n",
    "optimizer = optim.RMSprop(model.parameters(), lr=learning_rate, weight_decay=1e-8, momentum=0.9)\n",
    "#optimizer = optim.Adam(model.parameters(), lr=learning_rate, weight_decay=1e-8)\n",
    "scheduler = optim.lr_scheduler.ReduceLROnPlateau(optimizer, 'max', patience=2)  # goal: maximize Dice score\n",
    "grad_scaler = torch.cuda.amp.GradScaler(enabled=amp)\n",
    "criterion = nn.CrossEntropyLoss()\n",
    "global_step = 0"
   ]
  },
  {
   "cell_type": "code",
   "execution_count": 9,
   "id": "24cc3b67-48f7-41cb-a698-88d9762d21ab",
   "metadata": {},
   "outputs": [
    {
     "name": "stderr",
     "output_type": "stream",
     "text": [
      "Epoch 1/10:  20%|██████████████████████████████████████████████▎                                                                                                                                                                                            | 40/203 [00:05<00:13, 12.43img/s]"
     ]
    },
    {
     "name": "stdout",
     "output_type": "stream",
     "text": [
      "Training Dice Loss: 0.391745001077652\n",
      "Validation Dice score: 0.4460718333721161\n"
     ]
    },
    {
     "name": "stderr",
     "output_type": "stream",
     "text": [
      "Epoch 1/10:  39%|████████████████████████████████████████████████████████████████████████████████████████████▌                                                                                                                                              | 80/203 [00:09<00:07, 15.46img/s]"
     ]
    },
    {
     "name": "stdout",
     "output_type": "stream",
     "text": [
      "Training Dice Loss: 0.13671737909317017\n",
      "Validation Dice score: 0.7065948247909546\n"
     ]
    },
    {
     "name": "stderr",
     "output_type": "stream",
     "text": [
      "Epoch 1/10:  59%|██████████████████████████████████████████████████████████████████████████████████████████████████████████████████████████████████████████▎                                                                                               | 120/203 [00:13<00:05, 15.86img/s]"
     ]
    },
    {
     "name": "stdout",
     "output_type": "stream",
     "text": [
      "Training Dice Loss: 0.11514614522457123\n",
      "Validation Dice score: 0.7841929793357849\n"
     ]
    },
    {
     "name": "stderr",
     "output_type": "stream",
     "text": [
      "Epoch 1/10:  79%|████████████████████████████████████████████████████████████████████████████████████████████████████████████████████████████████████████████████████████████████████████████████████████▍                                                 | 160/203 [00:17<00:02, 16.02img/s]"
     ]
    },
    {
     "name": "stdout",
     "output_type": "stream",
     "text": [
      "Training Dice Loss: 0.2557171881198883\n",
      "Validation Dice score: 0.7259098887443542\n"
     ]
    },
    {
     "name": "stderr",
     "output_type": "stream",
     "text": [
      "Epoch 1/10:  99%|██████████████████████████████████████████████████████████████████████████████████████████████████████████████████████████████████████████████████████████████████████████████████████████████████████████████████████████████████████▌   | 200/203 [00:24<00:00,  8.28img/s]\n"
     ]
    },
    {
     "name": "stdout",
     "output_type": "stream",
     "text": [
      "Training Dice Loss: 0.10536737740039825\n",
      "Validation Dice score: 0.7875667214393616\n"
     ]
    },
    {
     "name": "stderr",
     "output_type": "stream",
     "text": [
      "Epoch 2/10:  20%|██████████████████████████████████████████████▎                                                                                                                                                                                            | 40/203 [00:03<00:08, 18.90img/s]"
     ]
    },
    {
     "name": "stdout",
     "output_type": "stream",
     "text": [
      "Training Dice Loss: 0.09020082652568817\n",
      "Validation Dice score: 0.8872981071472168\n"
     ]
    },
    {
     "name": "stderr",
     "output_type": "stream",
     "text": [
      "Epoch 2/10:  39%|████████████████████████████████████████████████████████████████████████████████████████████▌                                                                                                                                              | 80/203 [00:07<00:07, 16.38img/s]"
     ]
    },
    {
     "name": "stdout",
     "output_type": "stream",
     "text": [
      "Training Dice Loss: 0.07238911092281342\n",
      "Validation Dice score: 0.9105209708213806\n"
     ]
    },
    {
     "name": "stderr",
     "output_type": "stream",
     "text": [
      "Epoch 2/10:  59%|██████████████████████████████████████████████████████████████████████████████████████████████████████████████████████████████████████████▎                                                                                               | 120/203 [00:10<00:05, 15.99img/s]"
     ]
    },
    {
     "name": "stdout",
     "output_type": "stream",
     "text": [
      "Training Dice Loss: 0.054993126541376114\n",
      "Validation Dice score: 0.8722545504570007\n"
     ]
    },
    {
     "name": "stderr",
     "output_type": "stream",
     "text": [
      "Epoch 2/10:  79%|████████████████████████████████████████████████████████████████████████████████████████████████████████████████████████████████████████████████████████████████████████████████████████▍                                                 | 160/203 [00:14<00:02, 16.15img/s]"
     ]
    },
    {
     "name": "stdout",
     "output_type": "stream",
     "text": [
      "Training Dice Loss: 0.06480425596237183\n",
      "Validation Dice score: 0.9304174780845642\n"
     ]
    },
    {
     "name": "stderr",
     "output_type": "stream",
     "text": [
      "Epoch 2/10:  99%|██████████████████████████████████████████████████████████████████████████████████████████████████████████████████████████████████████████████████████████████████████████████████████████████████████████████████████████████████████▌   | 200/203 [00:21<00:00,  9.34img/s]\n"
     ]
    },
    {
     "name": "stdout",
     "output_type": "stream",
     "text": [
      "Training Dice Loss: 0.06174064800143242\n",
      "Validation Dice score: 0.9438329935073853\n"
     ]
    },
    {
     "name": "stderr",
     "output_type": "stream",
     "text": [
      "Epoch 3/10:  20%|██████████████████████████████████████████████▎                                                                                                                                                                                            | 40/203 [00:02<00:08, 19.42img/s]"
     ]
    },
    {
     "name": "stdout",
     "output_type": "stream",
     "text": [
      "Training Dice Loss: 0.0639343187212944\n",
      "Validation Dice score: 0.9486278891563416\n"
     ]
    },
    {
     "name": "stderr",
     "output_type": "stream",
     "text": [
      "Epoch 3/10:  39%|████████████████████████████████████████████████████████████████████████████████████████████▌                                                                                                                                              | 80/203 [00:06<00:07, 16.59img/s]"
     ]
    },
    {
     "name": "stdout",
     "output_type": "stream",
     "text": [
      "Training Dice Loss: 0.040118515491485596\n",
      "Validation Dice score: 0.9296674728393555\n"
     ]
    },
    {
     "name": "stderr",
     "output_type": "stream",
     "text": [
      "Epoch 3/10:  59%|██████████████████████████████████████████████████████████████████████████████████████████████████████████████████████████████████████████▎                                                                                               | 120/203 [00:10<00:05, 15.94img/s]"
     ]
    },
    {
     "name": "stdout",
     "output_type": "stream",
     "text": [
      "Training Dice Loss: 0.052522413432598114\n",
      "Validation Dice score: 0.9496100544929504\n"
     ]
    },
    {
     "name": "stderr",
     "output_type": "stream",
     "text": [
      "Epoch 3/10:  79%|████████████████████████████████████████████████████████████████████████████████████████████████████████████████████████████████████████████████████████████████████████████████████████▍                                                 | 160/203 [00:14<00:02, 15.75img/s]"
     ]
    },
    {
     "name": "stdout",
     "output_type": "stream",
     "text": [
      "Training Dice Loss: 0.03456653654575348\n",
      "Validation Dice score: 0.9368621110916138\n"
     ]
    },
    {
     "name": "stderr",
     "output_type": "stream",
     "text": [
      "Epoch 3/10:  99%|██████████████████████████████████████████████████████████████████████████████████████████████████████████████████████████████████████████████████████████████████████████████████████████████████████████████████████████████████████▌   | 200/203 [00:21<00:00,  9.37img/s]\n"
     ]
    },
    {
     "name": "stdout",
     "output_type": "stream",
     "text": [
      "Training Dice Loss: 0.0352754220366478\n",
      "Validation Dice score: 0.9490246176719666\n"
     ]
    },
    {
     "name": "stderr",
     "output_type": "stream",
     "text": [
      "Epoch 4/10:  20%|██████████████████████████████████████████████▎                                                                                                                                                                                            | 40/203 [00:03<00:08, 18.84img/s]"
     ]
    },
    {
     "name": "stdout",
     "output_type": "stream",
     "text": [
      "Training Dice Loss: 0.06924255937337875\n",
      "Validation Dice score: 0.9288093447685242\n"
     ]
    },
    {
     "name": "stderr",
     "output_type": "stream",
     "text": [
      "Epoch 4/10:  39%|████████████████████████████████████████████████████████████████████████████████████████████▌                                                                                                                                              | 80/203 [00:06<00:07, 16.52img/s]"
     ]
    },
    {
     "name": "stdout",
     "output_type": "stream",
     "text": [
      "Training Dice Loss: 0.04774603247642517\n",
      "Validation Dice score: 0.9441956877708435\n"
     ]
    },
    {
     "name": "stderr",
     "output_type": "stream",
     "text": [
      "Epoch 4/10:  59%|██████████████████████████████████████████████████████████████████████████████████████████████████████████████████████████████████████████▎                                                                                               | 120/203 [00:10<00:05, 16.29img/s]"
     ]
    },
    {
     "name": "stdout",
     "output_type": "stream",
     "text": [
      "Training Dice Loss: 0.03057212568819523\n",
      "Validation Dice score: 0.9550151824951172\n"
     ]
    },
    {
     "name": "stderr",
     "output_type": "stream",
     "text": [
      "Epoch 4/10:  79%|████████████████████████████████████████████████████████████████████████████████████████████████████████████████████████████████████████████████████████████████████████████████████████▍                                                 | 160/203 [00:14<00:02, 16.06img/s]"
     ]
    },
    {
     "name": "stdout",
     "output_type": "stream",
     "text": [
      "Training Dice Loss: 0.03140062466263771\n",
      "Validation Dice score: 0.9570576548576355\n"
     ]
    },
    {
     "name": "stderr",
     "output_type": "stream",
     "text": [
      "Epoch 4/10:  99%|██████████████████████████████████████████████████████████████████████████████████████████████████████████████████████████████████████████████████████████████████████████████████████████████████████████████████████████████████████▌   | 200/203 [00:21<00:00,  9.35img/s]\n"
     ]
    },
    {
     "name": "stdout",
     "output_type": "stream",
     "text": [
      "Training Dice Loss: 0.02858131006360054\n",
      "Validation Dice score: 0.9578787088394165\n"
     ]
    },
    {
     "name": "stderr",
     "output_type": "stream",
     "text": [
      "Epoch 5/10:  20%|██████████████████████████████████████████████▎                                                                                                                                                                                            | 40/203 [00:02<00:08, 19.26img/s]"
     ]
    },
    {
     "name": "stdout",
     "output_type": "stream",
     "text": [
      "Training Dice Loss: 0.037821825593709946\n",
      "Validation Dice score: 0.9597564935684204\n"
     ]
    },
    {
     "name": "stderr",
     "output_type": "stream",
     "text": [
      "Epoch 5/10:  39%|████████████████████████████████████████████████████████████████████████████████████████████▌                                                                                                                                              | 80/203 [00:06<00:07, 16.37img/s]"
     ]
    },
    {
     "name": "stdout",
     "output_type": "stream",
     "text": [
      "Training Dice Loss: 0.0385843887925148\n",
      "Validation Dice score: 0.960988461971283\n"
     ]
    },
    {
     "name": "stderr",
     "output_type": "stream",
     "text": [
      "Epoch 5/10:  59%|██████████████████████████████████████████████████████████████████████████████████████████████████████████████████████████████████████████▎                                                                                               | 120/203 [00:10<00:05, 16.16img/s]"
     ]
    },
    {
     "name": "stdout",
     "output_type": "stream",
     "text": [
      "Training Dice Loss: 0.02752353623509407\n",
      "Validation Dice score: 0.9620305895805359\n"
     ]
    },
    {
     "name": "stderr",
     "output_type": "stream",
     "text": [
      "Epoch 5/10:  79%|████████████████████████████████████████████████████████████████████████████████████████████████████████████████████████████████████████████████████████████████████████████████████████▍                                                 | 160/203 [00:14<00:02, 15.76img/s]"
     ]
    },
    {
     "name": "stdout",
     "output_type": "stream",
     "text": [
      "Training Dice Loss: 0.032498374581336975\n",
      "Validation Dice score: 0.962712287902832\n"
     ]
    },
    {
     "name": "stderr",
     "output_type": "stream",
     "text": [
      "Epoch 5/10:  99%|██████████████████████████████████████████████████████████████████████████████████████████████████████████████████████████████████████████████████████████████████████████████████████████████████████████████████████████████████████▌   | 200/203 [00:21<00:00,  9.23img/s]\n"
     ]
    },
    {
     "name": "stdout",
     "output_type": "stream",
     "text": [
      "Training Dice Loss: 0.039116159081459045\n",
      "Validation Dice score: 0.963595986366272\n"
     ]
    },
    {
     "name": "stderr",
     "output_type": "stream",
     "text": [
      "Epoch 6/10:  20%|██████████████████████████████████████████████▎                                                                                                                                                                                            | 40/203 [00:03<00:08, 18.47img/s]"
     ]
    },
    {
     "name": "stdout",
     "output_type": "stream",
     "text": [
      "Training Dice Loss: 0.02579292096197605\n",
      "Validation Dice score: 0.9633682370185852\n"
     ]
    },
    {
     "name": "stderr",
     "output_type": "stream",
     "text": [
      "Epoch 6/10:  39%|████████████████████████████████████████████████████████████████████████████████████████████▌                                                                                                                                              | 80/203 [00:07<00:07, 16.00img/s]"
     ]
    },
    {
     "name": "stdout",
     "output_type": "stream",
     "text": [
      "Training Dice Loss: 0.03870099037885666\n",
      "Validation Dice score: 0.9642946124076843\n"
     ]
    },
    {
     "name": "stderr",
     "output_type": "stream",
     "text": [
      "Epoch 6/10:  59%|██████████████████████████████████████████████████████████████████████████████████████████████████████████████████████████████████████████▎                                                                                               | 120/203 [00:11<00:05, 15.94img/s]"
     ]
    },
    {
     "name": "stdout",
     "output_type": "stream",
     "text": [
      "Training Dice Loss: 0.038691602647304535\n",
      "Validation Dice score: 0.9640876054763794\n"
     ]
    },
    {
     "name": "stderr",
     "output_type": "stream",
     "text": [
      "Epoch 6/10:  79%|████████████████████████████████████████████████████████████████████████████████████████████████████████████████████████████████████████████████████████████████████████████████████████▍                                                 | 160/203 [00:15<00:02, 15.84img/s]"
     ]
    },
    {
     "name": "stdout",
     "output_type": "stream",
     "text": [
      "Training Dice Loss: 0.029569270089268684\n",
      "Validation Dice score: 0.9633567929267883\n"
     ]
    },
    {
     "name": "stderr",
     "output_type": "stream",
     "text": [
      "Epoch 6/10:  99%|██████████████████████████████████████████████████████████████████████████████████████████████████████████████████████████████████████████████████████████████████████████████████████████████████████████████████████████████████████▌   | 200/203 [00:21<00:00,  9.12img/s]\n"
     ]
    },
    {
     "name": "stdout",
     "output_type": "stream",
     "text": [
      "Training Dice Loss: 0.0325411893427372\n",
      "Validation Dice score: 0.9639777541160583\n"
     ]
    },
    {
     "name": "stderr",
     "output_type": "stream",
     "text": [
      "Epoch 7/10:  20%|██████████████████████████████████████████████▎                                                                                                                                                                                            | 40/203 [00:03<00:08, 18.69img/s]"
     ]
    },
    {
     "name": "stdout",
     "output_type": "stream",
     "text": [
      "Training Dice Loss: 0.024276724085211754\n",
      "Validation Dice score: 0.9645145535469055\n"
     ]
    },
    {
     "name": "stderr",
     "output_type": "stream",
     "text": [
      "Epoch 7/10:  39%|████████████████████████████████████████████████████████████████████████████████████████████▌                                                                                                                                              | 80/203 [00:07<00:07, 16.13img/s]"
     ]
    },
    {
     "name": "stdout",
     "output_type": "stream",
     "text": [
      "Training Dice Loss: 0.020899631083011627\n",
      "Validation Dice score: 0.9639502763748169\n"
     ]
    },
    {
     "name": "stderr",
     "output_type": "stream",
     "text": [
      "Epoch 7/10:  59%|██████████████████████████████████████████████████████████████████████████████████████████████████████████████████████████████████████████▎                                                                                               | 120/203 [00:11<00:05, 16.00img/s]"
     ]
    },
    {
     "name": "stdout",
     "output_type": "stream",
     "text": [
      "Training Dice Loss: 0.0312041025608778\n",
      "Validation Dice score: 0.9641277194023132\n"
     ]
    },
    {
     "name": "stderr",
     "output_type": "stream",
     "text": [
      "Epoch 7/10:  79%|████████████████████████████████████████████████████████████████████████████████████████████████████████████████████████████████████████████████████████████████████████████████████████▍                                                 | 160/203 [00:14<00:02, 15.92img/s]"
     ]
    },
    {
     "name": "stdout",
     "output_type": "stream",
     "text": [
      "Training Dice Loss: 0.021647818386554718\n",
      "Validation Dice score: 0.9637797474861145\n"
     ]
    },
    {
     "name": "stderr",
     "output_type": "stream",
     "text": [
      "Epoch 7/10:  99%|██████████████████████████████████████████████████████████████████████████████████████████████████████████████████████████████████████████████████████████████████████████████████████████████████████████████████████████████████████▌   | 200/203 [00:21<00:00,  9.19img/s]\n"
     ]
    },
    {
     "name": "stdout",
     "output_type": "stream",
     "text": [
      "Training Dice Loss: 0.028601855039596558\n",
      "Validation Dice score: 0.9640380144119263\n"
     ]
    },
    {
     "name": "stderr",
     "output_type": "stream",
     "text": [
      "Epoch 8/10:  20%|██████████████████████████████████████████████▎                                                                                                                                                                                            | 40/203 [00:03<00:08, 18.68img/s]"
     ]
    },
    {
     "name": "stdout",
     "output_type": "stream",
     "text": [
      "Training Dice Loss: 0.03340543806552887\n",
      "Validation Dice score: 0.9636091589927673\n"
     ]
    },
    {
     "name": "stderr",
     "output_type": "stream",
     "text": [
      "Epoch 8/10:  39%|████████████████████████████████████████████████████████████████████████████████████████████▌                                                                                                                                              | 80/203 [00:06<00:07, 16.43img/s]"
     ]
    },
    {
     "name": "stdout",
     "output_type": "stream",
     "text": [
      "Training Dice Loss: 0.02611434832215309\n",
      "Validation Dice score: 0.9643637537956238\n"
     ]
    },
    {
     "name": "stderr",
     "output_type": "stream",
     "text": [
      "Epoch 8/10:  59%|██████████████████████████████████████████████████████████████████████████████████████████████████████████████████████████████████████████▎                                                                                               | 120/203 [00:10<00:05, 15.92img/s]"
     ]
    },
    {
     "name": "stdout",
     "output_type": "stream",
     "text": [
      "Training Dice Loss: 0.02107384242117405\n",
      "Validation Dice score: 0.9641649127006531\n"
     ]
    },
    {
     "name": "stderr",
     "output_type": "stream",
     "text": [
      "Epoch 8/10:  79%|████████████████████████████████████████████████████████████████████████████████████████████████████████████████████████████████████████████████████████████████████████████████████████▍                                                 | 160/203 [00:14<00:02, 15.87img/s]"
     ]
    },
    {
     "name": "stdout",
     "output_type": "stream",
     "text": [
      "Training Dice Loss: 0.02448907122015953\n",
      "Validation Dice score: 0.9642531275749207\n"
     ]
    },
    {
     "name": "stderr",
     "output_type": "stream",
     "text": [
      "Epoch 8/10:  99%|██████████████████████████████████████████████████████████████████████████████████████████████████████████████████████████████████████████████████████████████████████████████████████████████████████████████████████████████████████▌   | 200/203 [00:21<00:00,  9.30img/s]\n"
     ]
    },
    {
     "name": "stdout",
     "output_type": "stream",
     "text": [
      "Training Dice Loss: 0.025582101196050644\n",
      "Validation Dice score: 0.9642208218574524\n"
     ]
    },
    {
     "name": "stderr",
     "output_type": "stream",
     "text": [
      "Epoch 9/10:  20%|██████████████████████████████████████████████▎                                                                                                                                                                                            | 40/203 [00:03<00:08, 18.94img/s]"
     ]
    },
    {
     "name": "stdout",
     "output_type": "stream",
     "text": [
      "Training Dice Loss: 0.027047131210565567\n",
      "Validation Dice score: 0.9646084904670715\n"
     ]
    },
    {
     "name": "stderr",
     "output_type": "stream",
     "text": [
      "Epoch 9/10:  39%|████████████████████████████████████████████████████████████████████████████████████████████▌                                                                                                                                              | 80/203 [00:06<00:07, 16.35img/s]"
     ]
    },
    {
     "name": "stdout",
     "output_type": "stream",
     "text": [
      "Training Dice Loss: 0.02088458091020584\n",
      "Validation Dice score: 0.9641963839530945\n"
     ]
    },
    {
     "name": "stderr",
     "output_type": "stream",
     "text": [
      "Epoch 9/10:  59%|██████████████████████████████████████████████████████████████████████████████████████████████████████████████████████████████████████████▎                                                                                               | 120/203 [00:10<00:05, 15.95img/s]"
     ]
    },
    {
     "name": "stdout",
     "output_type": "stream",
     "text": [
      "Training Dice Loss: 0.020818909630179405\n",
      "Validation Dice score: 0.963718593120575\n"
     ]
    },
    {
     "name": "stderr",
     "output_type": "stream",
     "text": [
      "Epoch 9/10:  79%|████████████████████████████████████████████████████████████████████████████████████████████████████████████████████████████████████████████████████████████████████████████████████████▍                                                 | 160/203 [00:14<00:02, 15.83img/s]"
     ]
    },
    {
     "name": "stdout",
     "output_type": "stream",
     "text": [
      "Training Dice Loss: 0.030137432739138603\n",
      "Validation Dice score: 0.9641237258911133\n"
     ]
    },
    {
     "name": "stderr",
     "output_type": "stream",
     "text": [
      "Epoch 9/10:  99%|██████████████████████████████████████████████████████████████████████████████████████████████████████████████████████████████████████████████████████████████████████████████████████████████████████████████████████████████████████▌   | 200/203 [00:21<00:00,  9.25img/s]\n"
     ]
    },
    {
     "name": "stdout",
     "output_type": "stream",
     "text": [
      "Training Dice Loss: 0.021537911146879196\n",
      "Validation Dice score: 0.9643010497093201\n"
     ]
    },
    {
     "name": "stderr",
     "output_type": "stream",
     "text": [
      "Epoch 10/10:  20%|██████████████████████████████████████████████                                                                                                                                                                                            | 40/203 [00:03<00:08, 18.87img/s]"
     ]
    },
    {
     "name": "stdout",
     "output_type": "stream",
     "text": [
      "Training Dice Loss: 0.024350160732865334\n",
      "Validation Dice score: 0.9646965265274048\n"
     ]
    },
    {
     "name": "stderr",
     "output_type": "stream",
     "text": [
      "Epoch 10/10:  39%|████████████████████████████████████████████████████████████████████████████████████████████▏                                                                                                                                             | 80/203 [00:06<00:07, 16.34img/s]"
     ]
    },
    {
     "name": "stdout",
     "output_type": "stream",
     "text": [
      "Training Dice Loss: 0.02541801519691944\n",
      "Validation Dice score: 0.9642036557197571\n"
     ]
    },
    {
     "name": "stderr",
     "output_type": "stream",
     "text": [
      "Epoch 10/10:  59%|█████████████████████████████████████████████████████████████████████████████████████████████████████████████████████████████████████████▋                                                                                               | 120/203 [00:11<00:05, 15.69img/s]"
     ]
    },
    {
     "name": "stdout",
     "output_type": "stream",
     "text": [
      "Training Dice Loss: 0.02460905909538269\n",
      "Validation Dice score: 0.9644418954849243\n"
     ]
    },
    {
     "name": "stderr",
     "output_type": "stream",
     "text": [
      "Epoch 10/10:  79%|███████████████████████████████████████████████████████████████████████████████████████████████████████████████████████████████████████████████████████████████████████████████████████▋                                                 | 160/203 [00:15<00:02, 15.64img/s]"
     ]
    },
    {
     "name": "stdout",
     "output_type": "stream",
     "text": [
      "Training Dice Loss: 0.022302305325865746\n",
      "Validation Dice score: 0.963493287563324\n"
     ]
    },
    {
     "name": "stderr",
     "output_type": "stream",
     "text": [
      "Epoch 10/10:  99%|█████████████████████████████████████████████████████████████████████████████████████████████████████████████████████████████████████████████████████████████████████████████████████████████████████████████████████████████████████▌   | 200/203 [00:21<00:00,  9.20img/s]"
     ]
    },
    {
     "name": "stdout",
     "output_type": "stream",
     "text": [
      "Training Dice Loss: 0.02116331085562706\n",
      "Validation Dice score: 0.963901937007904\n"
     ]
    },
    {
     "name": "stderr",
     "output_type": "stream",
     "text": [
      "\n"
     ]
    }
   ],
   "source": [
    "valScore_list = []\n",
    "TrainLoss_list = []\n",
    "# 5. Begin training\n",
    "for epoch in range(1, epochs + 1):\n",
    "    model.train()\n",
    "    epoch_loss = 0\n",
    "    with tqdm(total=n_train, desc=f'Epoch {epoch}/{epochs}', unit='img') as pbar:\n",
    "        for batch in train_loader:\n",
    "            images, true_masks = batch['image'], batch['mask']\n",
    "\n",
    "            images = images.to(device=device, dtype=torch.float32, memory_format=torch.channels_last)\n",
    "            true_masks = true_masks.to(device=device, dtype=torch.long)\n",
    "\n",
    "            with torch.autocast(device.type if device.type != 'mps' else 'cpu', enabled=amp):\n",
    "                masks_pred = model(images)\n",
    "                if isinstance(masks_pred, OrderedDict):\n",
    "                    masks_pred = masks_pred['out']\n",
    "                             \n",
    "                try:\n",
    "                    mn_cls = model.n_classes\n",
    "                except:\n",
    "                    mn_cls = model.classifier[-1].out_channels\n",
    "                    \n",
    "                \n",
    "                if mn_cls == 1:\n",
    "                    \n",
    "                    squ_masks_pred = masks_pred.squeeze(1)\n",
    "                    loss = criterion(squ_masks_pred, true_masks.float())\n",
    "                    loss += dice_loss(F.sigmoid(squ_masks_pred), true_masks.float(), multiclass=False)\n",
    "                    \n",
    "                    #loss = criterion(masks_pred.squeeze(1), true_masks.float())\n",
    "                    #loss += dice_loss(masks_pred, true_masks, multiclass=False)\n",
    "                    \n",
    "                else:\n",
    "                    loss = criterion(masks_pred, true_masks)\n",
    "                    loss += dice_loss(\n",
    "                        F.softmax(masks_pred, dim=1).float(),\n",
    "                        F.one_hot(true_masks, mn_cls).permute(0, 3, 1, 2).float(),\n",
    "                        multiclass=True\n",
    "                    )\n",
    "                \n",
    "\n",
    "            optimizer.zero_grad(set_to_none=True)\n",
    "            grad_scaler.scale(loss).backward()\n",
    "            torch.nn.utils.clip_grad_norm_(model.parameters(), Gradient_Clipping)\n",
    "            grad_scaler.step(optimizer)\n",
    "            grad_scaler.update()\n",
    "\n",
    "            pbar.update(images.shape[0])\n",
    "            global_step += 1\n",
    "            epoch_loss += loss.item()\n",
    "\n",
    "\n",
    "            # Evaluation round\n",
    "            division_step = (n_train // (5 * batch_size))\n",
    "            if division_step > 0:\n",
    "                if global_step % division_step == 0:\n",
    "\n",
    "                    val_score = evaluate(model, val_loader, device, amp)\n",
    "                    \n",
    "                    scheduler.step(val_score)\n",
    "                    valScore_list.append(val_score)\n",
    "                    TrainLoss_list.append(loss)\n",
    "                    \n",
    "\n",
    "                    #logging.info('Validation Dice score: {}'.format(val_score))\n",
    "                    print('Training Dice Loss: {}'.format(loss))\n",
    "                    print('Validation Dice score: {}'.format(val_score))\n",
    "                                \n",
    "            \n",
    "    if save_checkpoint:\n",
    "        Path(dir_checkpoint).mkdir(parents=True, exist_ok=True)\n",
    "        torch.save(model.state_dict(), str(dir_checkpoint / 'checkpoint_epoch{}.pth'.format(epoch + 1)))"
   ]
  },
  {
   "cell_type": "code",
   "execution_count": 11,
   "id": "81128a37-98a3-4f07-a93f-6866ea42f5cd",
   "metadata": {},
   "outputs": [
    {
     "data": {
      "text/plain": [
       "[tensor(0.4461, device='cuda:0'),\n",
       " tensor(0.7066, device='cuda:0'),\n",
       " tensor(0.7842, device='cuda:0'),\n",
       " tensor(0.7259, device='cuda:0'),\n",
       " tensor(0.7876, device='cuda:0'),\n",
       " tensor(0.8873, device='cuda:0'),\n",
       " tensor(0.9105, device='cuda:0'),\n",
       " tensor(0.8723, device='cuda:0'),\n",
       " tensor(0.9304, device='cuda:0'),\n",
       " tensor(0.9438, device='cuda:0'),\n",
       " tensor(0.9486, device='cuda:0'),\n",
       " tensor(0.9297, device='cuda:0'),\n",
       " tensor(0.9496, device='cuda:0'),\n",
       " tensor(0.9369, device='cuda:0'),\n",
       " tensor(0.9490, device='cuda:0'),\n",
       " tensor(0.9288, device='cuda:0'),\n",
       " tensor(0.9442, device='cuda:0'),\n",
       " tensor(0.9550, device='cuda:0'),\n",
       " tensor(0.9571, device='cuda:0'),\n",
       " tensor(0.9579, device='cuda:0'),\n",
       " tensor(0.9598, device='cuda:0'),\n",
       " tensor(0.9610, device='cuda:0'),\n",
       " tensor(0.9620, device='cuda:0'),\n",
       " tensor(0.9627, device='cuda:0'),\n",
       " tensor(0.9636, device='cuda:0'),\n",
       " tensor(0.9634, device='cuda:0'),\n",
       " tensor(0.9643, device='cuda:0'),\n",
       " tensor(0.9641, device='cuda:0'),\n",
       " tensor(0.9634, device='cuda:0'),\n",
       " tensor(0.9640, device='cuda:0'),\n",
       " tensor(0.9645, device='cuda:0'),\n",
       " tensor(0.9640, device='cuda:0'),\n",
       " tensor(0.9641, device='cuda:0'),\n",
       " tensor(0.9638, device='cuda:0'),\n",
       " tensor(0.9640, device='cuda:0'),\n",
       " tensor(0.9636, device='cuda:0'),\n",
       " tensor(0.9644, device='cuda:0'),\n",
       " tensor(0.9642, device='cuda:0'),\n",
       " tensor(0.9643, device='cuda:0'),\n",
       " tensor(0.9642, device='cuda:0'),\n",
       " tensor(0.9646, device='cuda:0'),\n",
       " tensor(0.9642, device='cuda:0'),\n",
       " tensor(0.9637, device='cuda:0'),\n",
       " tensor(0.9641, device='cuda:0'),\n",
       " tensor(0.9643, device='cuda:0'),\n",
       " tensor(0.9647, device='cuda:0'),\n",
       " tensor(0.9642, device='cuda:0'),\n",
       " tensor(0.9644, device='cuda:0'),\n",
       " tensor(0.9635, device='cuda:0'),\n",
       " tensor(0.9639, device='cuda:0')]"
      ]
     },
     "execution_count": 11,
     "metadata": {},
     "output_type": "execute_result"
    }
   ],
   "source": [
    "valScore_list"
   ]
  },
  {
   "cell_type": "code",
   "execution_count": 12,
   "id": "2310eff5-cc1a-4017-99a9-0fc55ac9a4f2",
   "metadata": {},
   "outputs": [
    {
     "data": {
      "text/plain": [
       "[tensor(0.3917, device='cuda:0', grad_fn=<AddBackward0>),\n",
       " tensor(0.1367, device='cuda:0', grad_fn=<AddBackward0>),\n",
       " tensor(0.1151, device='cuda:0', grad_fn=<AddBackward0>),\n",
       " tensor(0.2557, device='cuda:0', grad_fn=<AddBackward0>),\n",
       " tensor(0.1054, device='cuda:0', grad_fn=<AddBackward0>),\n",
       " tensor(0.0902, device='cuda:0', grad_fn=<AddBackward0>),\n",
       " tensor(0.0724, device='cuda:0', grad_fn=<AddBackward0>),\n",
       " tensor(0.0550, device='cuda:0', grad_fn=<AddBackward0>),\n",
       " tensor(0.0648, device='cuda:0', grad_fn=<AddBackward0>),\n",
       " tensor(0.0617, device='cuda:0', grad_fn=<AddBackward0>),\n",
       " tensor(0.0639, device='cuda:0', grad_fn=<AddBackward0>),\n",
       " tensor(0.0401, device='cuda:0', grad_fn=<AddBackward0>),\n",
       " tensor(0.0525, device='cuda:0', grad_fn=<AddBackward0>),\n",
       " tensor(0.0346, device='cuda:0', grad_fn=<AddBackward0>),\n",
       " tensor(0.0353, device='cuda:0', grad_fn=<AddBackward0>),\n",
       " tensor(0.0692, device='cuda:0', grad_fn=<AddBackward0>),\n",
       " tensor(0.0477, device='cuda:0', grad_fn=<AddBackward0>),\n",
       " tensor(0.0306, device='cuda:0', grad_fn=<AddBackward0>),\n",
       " tensor(0.0314, device='cuda:0', grad_fn=<AddBackward0>),\n",
       " tensor(0.0286, device='cuda:0', grad_fn=<AddBackward0>),\n",
       " tensor(0.0378, device='cuda:0', grad_fn=<AddBackward0>),\n",
       " tensor(0.0386, device='cuda:0', grad_fn=<AddBackward0>),\n",
       " tensor(0.0275, device='cuda:0', grad_fn=<AddBackward0>),\n",
       " tensor(0.0325, device='cuda:0', grad_fn=<AddBackward0>),\n",
       " tensor(0.0391, device='cuda:0', grad_fn=<AddBackward0>),\n",
       " tensor(0.0258, device='cuda:0', grad_fn=<AddBackward0>),\n",
       " tensor(0.0387, device='cuda:0', grad_fn=<AddBackward0>),\n",
       " tensor(0.0387, device='cuda:0', grad_fn=<AddBackward0>),\n",
       " tensor(0.0296, device='cuda:0', grad_fn=<AddBackward0>),\n",
       " tensor(0.0325, device='cuda:0', grad_fn=<AddBackward0>),\n",
       " tensor(0.0243, device='cuda:0', grad_fn=<AddBackward0>),\n",
       " tensor(0.0209, device='cuda:0', grad_fn=<AddBackward0>),\n",
       " tensor(0.0312, device='cuda:0', grad_fn=<AddBackward0>),\n",
       " tensor(0.0216, device='cuda:0', grad_fn=<AddBackward0>),\n",
       " tensor(0.0286, device='cuda:0', grad_fn=<AddBackward0>),\n",
       " tensor(0.0334, device='cuda:0', grad_fn=<AddBackward0>),\n",
       " tensor(0.0261, device='cuda:0', grad_fn=<AddBackward0>),\n",
       " tensor(0.0211, device='cuda:0', grad_fn=<AddBackward0>),\n",
       " tensor(0.0245, device='cuda:0', grad_fn=<AddBackward0>),\n",
       " tensor(0.0256, device='cuda:0', grad_fn=<AddBackward0>),\n",
       " tensor(0.0270, device='cuda:0', grad_fn=<AddBackward0>),\n",
       " tensor(0.0209, device='cuda:0', grad_fn=<AddBackward0>),\n",
       " tensor(0.0208, device='cuda:0', grad_fn=<AddBackward0>),\n",
       " tensor(0.0301, device='cuda:0', grad_fn=<AddBackward0>),\n",
       " tensor(0.0215, device='cuda:0', grad_fn=<AddBackward0>),\n",
       " tensor(0.0244, device='cuda:0', grad_fn=<AddBackward0>),\n",
       " tensor(0.0254, device='cuda:0', grad_fn=<AddBackward0>),\n",
       " tensor(0.0246, device='cuda:0', grad_fn=<AddBackward0>),\n",
       " tensor(0.0223, device='cuda:0', grad_fn=<AddBackward0>),\n",
       " tensor(0.0212, device='cuda:0', grad_fn=<AddBackward0>)]"
      ]
     },
     "execution_count": 12,
     "metadata": {},
     "output_type": "execute_result"
    }
   ],
   "source": [
    "TrainLoss_list"
   ]
  },
  {
   "cell_type": "code",
   "execution_count": 10,
   "id": "5c848bb1-a2d6-4a63-84d4-8161da09b5e4",
   "metadata": {},
   "outputs": [],
   "source": [
    "dd = masks_pred.squeeze(1).squeeze(1)"
   ]
  },
  {
   "cell_type": "code",
   "execution_count": 15,
   "id": "971a81d7-44aa-4556-839d-8db4f6fd0cad",
   "metadata": {},
   "outputs": [],
   "source": [
    "dd2 = masks_pred.squeeze(1)"
   ]
  },
  {
   "cell_type": "code",
   "execution_count": null,
   "id": "72c5408c-356c-4368-a094-c4070b379c6d",
   "metadata": {},
   "outputs": [],
   "source": []
  },
  {
   "cell_type": "code",
   "execution_count": 15,
   "id": "325a87b8-a87e-4d06-801f-07f734beb797",
   "metadata": {},
   "outputs": [
    {
     "data": {
      "text/plain": [
       "torch.Size([16, 1, 384, 1216])"
      ]
     },
     "execution_count": 15,
     "metadata": {},
     "output_type": "execute_result"
    }
   ],
   "source": [
    "F.sigmoid(masks_pred).size()"
   ]
  },
  {
   "cell_type": "code",
   "execution_count": 16,
   "id": "b1eb824d-7636-4e72-8dc9-2f046471721a",
   "metadata": {},
   "outputs": [
    {
     "data": {
      "text/plain": [
       "torch.Size([16, 384, 1216])"
      ]
     },
     "execution_count": 16,
     "metadata": {},
     "output_type": "execute_result"
    }
   ],
   "source": [
    "true_masks.shape"
   ]
  },
  {
   "cell_type": "code",
   "execution_count": 11,
   "id": "ee019a00-b58c-4e8b-8909-54b619d77e71",
   "metadata": {},
   "outputs": [
    {
     "data": {
      "text/plain": [
       "torch.Size([16, 384, 1216])"
      ]
     },
     "execution_count": 11,
     "metadata": {},
     "output_type": "execute_result"
    }
   ],
   "source": [
    "F.sigmoid(squ_masks_pred).shape"
   ]
  },
  {
   "cell_type": "code",
   "execution_count": null,
   "id": "594299fa-b296-4bbb-8da5-0041cd023183",
   "metadata": {},
   "outputs": [],
   "source": []
  }
 ],
 "metadata": {
  "kernelspec": {
   "display_name": "ksh",
   "language": "python",
   "name": "ksh"
  },
  "language_info": {
   "codemirror_mode": {
    "name": "ipython",
    "version": 3
   },
   "file_extension": ".py",
   "mimetype": "text/x-python",
   "name": "python",
   "nbconvert_exporter": "python",
   "pygments_lexer": "ipython3",
   "version": "3.7.16"
  }
 },
 "nbformat": 4,
 "nbformat_minor": 5
}
