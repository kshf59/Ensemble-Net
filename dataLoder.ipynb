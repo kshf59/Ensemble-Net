{
 "cells": [
  {
   "cell_type": "code",
   "execution_count": 1,
   "id": "5f271b9d-c9a3-41c5-a2e5-cd21dc79d5b6",
   "metadata": {
    "tags": []
   },
   "outputs": [],
   "source": [
    "import numpy as np\n",
    "from pathlib import Path\n",
    "from PIL import Image\n",
    "from torch.utils.data import DataLoader, random_split\n",
    "import torch\n",
    "from torch import optim\n",
    "import torch.nn as nn\n",
    "from tqdm import tqdm\n",
    "import torch.nn.functional as F\n",
    "import logging\n",
    "from evaluate import evaluate\n",
    "import os\n",
    "import albumentations as A\n",
    "from albumentations.pytorch import ToTensorV2\n",
    "from collections import OrderedDict\n",
    "\n",
    "#from model.unet.unet_model import UNet\n",
    "#from model.segnet.segnet_model import SegNet\n",
    "#from torchvision.models.segmentation import deeplabv3_resnet101 as DeepLabv3\n",
    "from model.ensemblenet_model import EnsembleNet\n",
    "\n",
    "\n",
    "from utils.dice_score import dice_loss\n",
    "from utils.data_load import KittiDataset\n",
    "from torchsummaryX import summary"
   ]
  },
  {
   "cell_type": "code",
   "execution_count": 2,
   "id": "64ae7ca9",
   "metadata": {
    "tags": []
   },
   "outputs": [],
   "source": [
    "Val_Percent = 0.3\n",
    "Scale_Percent = 1.0\n",
    "Batch_Size = 16\n",
    "learning_rate = 0.0001\n",
    "Pin_Memory = False\n",
    "epochs = 20\n",
    "\n",
    "#Image_Size = [384, 1242]\n",
    "Image_Size = [384, 1216]\n",
    "#Image_Size = [384,384]\n",
    "Gradient_Clipping = 1.0\n",
    "\n",
    "#Num_Class = 31\n",
    "#Num_Class = 21\n",
    "Num_Class = 2\n",
    "Num_Channel = 3\n",
    "amp = True\n",
    "\n",
    "\n",
    "Img_Path =  'data/data_road/training/image_2'\n",
    "Mask_Path =  'data/data_road/training/semantic'\n",
    "\n",
    "save_checkpoint = False\n",
    "checkpoint_dir = '../trained'\n",
    "batch_size = Batch_Size"
   ]
  },
  {
   "cell_type": "code",
   "execution_count": 3,
   "id": "567f8440",
   "metadata": {
    "tags": []
   },
   "outputs": [],
   "source": [
    "dirImg = Path(Img_Path)\n",
    "dirMask = Path(Mask_Path)\n",
    "\n",
    "dir_checkpoint = Path(checkpoint_dir)"
   ]
  },
  {
   "cell_type": "code",
   "execution_count": 4,
   "id": "d0ce9836-6236-45cd-912b-fe114f434c3a",
   "metadata": {},
   "outputs": [],
   "source": [
    "train_transform = A.Compose([\n",
    "        A.HorizontalFlip(p=0.5),\n",
    "        #A.VerticalFlip(p=0.5),\n",
    "        A.Rotate(limit=30, p=0.5),\n",
    "        #A.RandomBrightnessContrast(p=0.5),\n",
    "        #A.RandomGamma(p=0.5),\n",
    "        #A.RandomSnow(p=0.5),\n",
    "        #A.RandomRain(p=0.5),\n",
    "        #A.RandomFog(p=0.5),\n",
    "        #A.RandomSunFlare(p=0.5),\n",
    "        A.RandomShadow(p=0.5),\n",
    "        #A.RandomToneCurve(p=0.5),\n",
    "        #A.GaussNoise(p=0.5),\n",
    "        #A.Emboss(p=0.5),  # IAAEmboss 대신 Emboss 사용\n",
    "        #A.Perspective(p=0.5),  # IAAPerspective 대신 Perspective 사용\n",
    "        #A.CLAHE(p=0.5)\n",
    "])"
   ]
  },
  {
   "cell_type": "code",
   "execution_count": 5,
   "id": "8e8e3825-8747-4f49-b3ee-eac27522ded2",
   "metadata": {},
   "outputs": [],
   "source": [
    "device = torch.device('cuda' if torch.cuda.is_available() else 'cpu')"
   ]
  },
  {
   "cell_type": "code",
   "execution_count": 6,
   "id": "9a4a35b2-bc69-49e4-b17c-e850f278473d",
   "metadata": {},
   "outputs": [
    {
     "name": "stderr",
     "output_type": "stream",
     "text": [
      "100%|██████████████████████████████████████████████████████████████████████████████████████████████████████████████████████████████████████████████████████████████████████████████████████████████████████████████████████████████████████████████████████| 289/289 [00:00<00:00, 804.45it/s]\n"
     ]
    }
   ],
   "source": [
    "datasets =  KittiDataset(dirImg, dirMask, Image_Size, Scale_Percent)\n",
    "#datasets =  KittiDataset(dirImg, dirMask, Image_Size, Scale_Percent, train_transform)\n",
    "n_val = int(len(datasets) * Val_Percent)\n",
    "n_train = len(datasets) - n_val\n",
    "train_set, val_set = random_split(datasets, [n_train, n_val], generator=torch.Generator().manual_seed(0))\n",
    "\n",
    "loader_args = dict(batch_size=Batch_Size, num_workers= os.cpu_count(), pin_memory=Pin_Memory)\n",
    "train_loader = DataLoader(train_set, shuffle=True, drop_last = True, **loader_args)\n",
    "val_loader = DataLoader(val_set, shuffle=False, drop_last=True, **loader_args)"
   ]
  },
  {
   "cell_type": "code",
   "execution_count": 7,
   "id": "95b36f40-c709-4e1e-b4f6-66a1954edfd8",
   "metadata": {},
   "outputs": [],
   "source": [
    "model = EnsembleNet('unet', Num_Channel, Num_Class)\n",
    "model = model.to(memory_format=torch.channels_last, device = device)"
   ]
  },
  {
   "cell_type": "code",
   "execution_count": 8,
   "id": "4a29bc96",
   "metadata": {
    "tags": []
   },
   "outputs": [],
   "source": [
    "# 4. Set up the optimizer, the loss, the learning rate scheduler and the loss scaling for AMP\n",
    "optimizer = optim.RMSprop(model.parameters(), lr=learning_rate, weight_decay=1e-8, momentum=0.9)\n",
    "#optimizer = optim.Adam(model.parameters(), lr=learning_rate, weight_decay=1e-8)\n",
    "scheduler = optim.lr_scheduler.ReduceLROnPlateau(optimizer, 'max', patience=2)  # goal: maximize Dice score\n",
    "grad_scaler = torch.cuda.amp.GradScaler(enabled=amp)\n",
    "criterion = nn.CrossEntropyLoss()\n",
    "global_step = 0"
   ]
  },
  {
   "cell_type": "code",
   "execution_count": null,
   "id": "24cc3b67-48f7-41cb-a698-88d9762d21ab",
   "metadata": {},
   "outputs": [
    {
     "name": "stderr",
     "output_type": "stream",
     "text": [
      "Epoch 1/20:  16%|█████████████████████████████████████                                                                                                                                                                                                      | 32/203 [00:05<00:22,  7.46img/s]"
     ]
    },
    {
     "name": "stdout",
     "output_type": "stream",
     "text": [
      "Training Dice Loss: 0.9691084623336792\n",
      "Validation Dice score: 1.367285885206515e-11\n"
     ]
    }
   ],
   "source": [
    "valScore_list = []\n",
    "TrainLoss_list = []\n",
    "# 5. Begin training\n",
    "for epoch in range(1, epochs + 1):\n",
    "    model.train()\n",
    "    epoch_loss = 0\n",
    "    with tqdm(total=n_train, desc=f'Epoch {epoch}/{epochs}', unit='img') as pbar:\n",
    "        for batch in train_loader:\n",
    "            images, true_masks = batch['image'], batch['mask']\n",
    "\n",
    "            images = images.to(device=device, dtype=torch.float32, memory_format=torch.channels_last)\n",
    "            true_masks = true_masks.to(device=device, dtype=torch.long)\n",
    "\n",
    "            with torch.autocast(device.type if device.type != 'mps' else 'cpu', enabled=amp):\n",
    "                masks_pred = model(images)\n",
    "                if isinstance(masks_pred, OrderedDict):\n",
    "                    masks_pred = masks_pred['out']\n",
    "                             \n",
    "                try:\n",
    "                    mn_cls = model.n_classes\n",
    "                except:\n",
    "                    mn_cls = model.classifier[-1].out_channels\n",
    "                    \n",
    "                \n",
    "                if mn_cls == 1:\n",
    "                    loss = criterion(masks_pred.squeeze(1), true_masks.float())\n",
    "                    loss += dice_loss(F.sigmoid(masks_pred.squeeze(1)), true_masks.float(), multiclass=False)\n",
    "                else:\n",
    "                    loss = criterion(masks_pred, true_masks)\n",
    "                    loss += dice_loss(\n",
    "                        F.softmax(masks_pred, dim=1).float(),\n",
    "                        F.one_hot(true_masks, mn_cls).permute(0, 3, 1, 2).float(),\n",
    "                        multiclass=True\n",
    "                    )\n",
    "                \n",
    "\n",
    "            optimizer.zero_grad(set_to_none=True)\n",
    "            grad_scaler.scale(loss).backward()\n",
    "            torch.nn.utils.clip_grad_norm_(model.parameters(), Gradient_Clipping)\n",
    "            grad_scaler.step(optimizer)\n",
    "            grad_scaler.update()\n",
    "\n",
    "            pbar.update(images.shape[0])\n",
    "            global_step += 1\n",
    "            epoch_loss += loss.item()\n",
    "\n",
    "\n",
    "            # Evaluation round\n",
    "            division_step = (n_train // (5 * batch_size))\n",
    "            if division_step > 0:\n",
    "                if global_step % division_step == 0:\n",
    "\n",
    "                    val_score = evaluate(model, val_loader, device, amp)\n",
    "                    \n",
    "                    scheduler.step(val_score)\n",
    "                    valScore_list.append(val_score)\n",
    "                    TrainLoss_list.append(loss)\n",
    "                    \n",
    "\n",
    "                    #logging.info('Validation Dice score: {}'.format(val_score))\n",
    "                    print('Training Dice Loss: {}'.format(loss))\n",
    "                    print('Validation Dice score: {}'.format(val_score))\n",
    "                                \n",
    "            \n",
    "    if save_checkpoint:\n",
    "        Path(dir_checkpoint).mkdir(parents=True, exist_ok=True)\n",
    "        torch.save(model.state_dict(), str(dir_checkpoint / 'checkpoint_epoch{}.pth'.format(epoch + 1)))"
   ]
  },
  {
   "cell_type": "code",
   "execution_count": null,
   "id": "325a87b8-a87e-4d06-801f-07f734beb797",
   "metadata": {},
   "outputs": [],
   "source": []
  },
  {
   "cell_type": "code",
   "execution_count": null,
   "id": "b1eb824d-7636-4e72-8dc9-2f046471721a",
   "metadata": {},
   "outputs": [],
   "source": []
  }
 ],
 "metadata": {
  "kernelspec": {
   "display_name": "ksh",
   "language": "python",
   "name": "ksh"
  },
  "language_info": {
   "codemirror_mode": {
    "name": "ipython",
    "version": 3
   },
   "file_extension": ".py",
   "mimetype": "text/x-python",
   "name": "python",
   "nbconvert_exporter": "python",
   "pygments_lexer": "ipython3",
   "version": "3.7.16"
  }
 },
 "nbformat": 4,
 "nbformat_minor": 5
}
