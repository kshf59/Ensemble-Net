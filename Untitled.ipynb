{
 "cells": [
  {
   "cell_type": "code",
   "execution_count": 4,
   "id": "6da7e72c-8924-4046-a48b-9ce19d07f23b",
   "metadata": {},
   "outputs": [
    {
     "name": "stdout",
     "output_type": "stream",
     "text": [
      "Output 1:\n",
      "tensor([[0.0900, 0.2447, 0.6652],\n",
      "        [0.1753, 0.0391, 0.7856]])\n",
      "Output 2:\n",
      "tensor([[0.0900, 0.2447, 0.6652],\n",
      "        [0.6897, 0.2537, 0.0566]])\n",
      "Output 3:\n",
      "tensor([[0.2447, 0.0900, 0.6652],\n",
      "        [0.2447, 0.0900, 0.6652]])\n",
      "Ensembled Output:\n",
      "tensor([[0.1416, 0.1932, 0.6652],\n",
      "        [0.3699, 0.1276, 0.5025]])\n",
      "Final Predictions:\n",
      "tensor([2, 2])\n"
     ]
    }
   ],
   "source": [
    "import torch\n",
    "import torch.nn.functional as F\n",
    "\n",
    "# 각 모델의 출력을 나타내는 샘플 데이터 생성\n",
    "output1 = torch.tensor([[1.0, 2.0, 3.0],\n",
    "                        [0.5, -1.0, 2.0]])\n",
    "\n",
    "output2 = torch.tensor([[0.5, 1.5, 2.5],\n",
    "                        [2.0, 1.0, -0.5]])\n",
    "\n",
    "output3 = torch.tensor([[2.0, 1.0, 3.0],\n",
    "                        [1.5, 0.5, 2.5]])\n",
    "\n",
    "# 소프트 보팅을 수행하여 예측 확률을 평균\n",
    "ensembled_output = (F.softmax(output1, dim=1) + F.softmax(output2, dim=1) + F.softmax(output3, dim=1)) / 3.0\n",
    "\n",
    "# 최종 예측: 가장 높은 확률을 갖는 클래스의 인덱스\n",
    "#_, final_predictions = torch.max(ensembled_output, dim=1)\n",
    "_, final_predictions = torch.max(F.softmax(ensembled_output, dim=1), dim=1)\n",
    "\n",
    "\n",
    "# 결과 출력\n",
    "print(\"Output 1:\")\n",
    "print(F.softmax(output1, dim=1))\n",
    "print(\"Output 2:\")\n",
    "print(F.softmax(output2, dim=1))\n",
    "print(\"Output 3:\")\n",
    "print(F.softmax(output3, dim=1))\n",
    "print(\"Ensembled Output:\")\n",
    "print(ensembled_output)\n",
    "print(\"Final Predictions:\")\n",
    "print(final_predictions)"
   ]
  },
  {
   "cell_type": "code",
   "execution_count": null,
   "id": "e5580269-65c9-410a-96e4-96c07368a35f",
   "metadata": {},
   "outputs": [],
   "source": [
    "ＦＦＦＳＤＦＤＳＡＦＤＳ"
   ]
  },
  {
   "cell_type": "code",
   "execution_count": 8,
   "id": "29548db6-543e-44c6-97f2-e4d365273ab1",
   "metadata": {},
   "outputs": [
    {
     "data": {
      "text/plain": [
       "tensor([[0.1416, 0.1932, 0.6652],\n",
       "        [0.3699, 0.1276, 0.5025]])"
      ]
     },
     "execution_count": 8,
     "metadata": {},
     "output_type": "execute_result"
    }
   ],
   "source": [
    "ensembled_output"
   ]
  },
  {
   "cell_type": "code",
   "execution_count": 13,
   "id": "c96f8fc4-1bfb-4581-bfab-110dd3deca14",
   "metadata": {},
   "outputs": [
    {
     "name": "stdout",
     "output_type": "stream",
     "text": [
      "tensor([[0.2673, 0.2814, 0.4513],\n",
      "        [0.3417, 0.2682, 0.3901]])\n"
     ]
    }
   ],
   "source": [
    "t = F.softmax(ensembled_output, dim=1)\n",
    "print(t)"
   ]
  },
  {
   "cell_type": "code",
   "execution_count": 14,
   "id": "88c90afe-bbba-49e7-92a9-5c16abb0f9dd",
   "metadata": {},
   "outputs": [
    {
     "name": "stdout",
     "output_type": "stream",
     "text": [
      "tensor([[0.3109, 0.3154, 0.3737],\n",
      "        [0.3357, 0.3119, 0.3524]])\n"
     ]
    }
   ],
   "source": [
    "t2 = F.softmax(t, dim=1)\n",
    "print(t2)"
   ]
  },
  {
   "cell_type": "code",
   "execution_count": null,
   "id": "d66cdb40-da9d-485b-bce5-b36fc765f57c",
   "metadata": {},
   "outputs": [],
   "source": []
  }
 ],
 "metadata": {
  "kernelspec": {
   "display_name": "ksh",
   "language": "python",
   "name": "ksh"
  },
  "language_info": {
   "codemirror_mode": {
    "name": "ipython",
    "version": 3
   },
   "file_extension": ".py",
   "mimetype": "text/x-python",
   "name": "python",
   "nbconvert_exporter": "python",
   "pygments_lexer": "ipython3",
   "version": "3.7.16"
  }
 },
 "nbformat": 4,
 "nbformat_minor": 5
}
